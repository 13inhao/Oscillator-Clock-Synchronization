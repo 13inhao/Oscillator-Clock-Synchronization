{
 "cells": [
  {
   "cell_type": "code",
   "execution_count": 19,
   "id": "917504d3",
   "metadata": {},
   "outputs": [],
   "source": [
    "from karateclub import Node2Vec\n",
    "\n",
    "from kuramoto import Kuramoto\n",
    "from kuramoto.db_metrics import *\n",
    "import networkx as nx"
   ]
  },
  {
   "cell_type": "code",
   "execution_count": 20,
   "id": "d9167ad6",
   "metadata": {},
   "outputs": [],
   "source": [
    "def gen_KM_nodynamics(nodes, num_samples, edge_var=\"L\", random_K=False, half_sync=False):\n",
    "    \n",
    "    graph_list = []\n",
    "    df = pd.DataFrame(columns=['# Edges', '# Nodes', 'Min Degree', 'Max Degree', 'Diameter', 'Concentrated'])\n",
    "    \n",
    "    for i in range(num_samples):\n",
    "        nodes = nodes\n",
    "        \n",
    "        assert(edge_var in [\"L\", \"H\", \"F\"]), \"The edge variance can either be \\\"L\\\" (Low), \\\"H\\\" (High), or \\\"F\\\" (Fixed).\"\n",
    "        \n",
    "        if edge_var==\"L\":\n",
    "            neighbors = int(random.uniform(15, 20))\n",
    "            \n",
    "        elif edge_var==\"H\":\n",
    "            neighbors = int(random.uniform(1, 20))\n",
    "            \n",
    "        else:\n",
    "            neighbors = 15\n",
    "        \n",
    "        probability = random.uniform(0, 1)\n",
    "        G = nx.newman_watts_strogatz_graph(nodes, neighbors, probability)\n",
    "        graph_list.append(G)\n",
    "        \n",
    "        if random_K: K = random.uniform(0.5, 4.5)\n",
    "        else: K = 1.96\n",
    "        \n",
    "        if nx.is_connected(G):\n",
    "            edges = G.number_of_edges()\n",
    "            nodes = G.number_of_nodes()\n",
    "            degree_sequence = sorted((d for n, d in G.degree()), reverse=True)\n",
    "            dmax = max(degree_sequence)\n",
    "            dmin = min(degree_sequence)\n",
    "            diam = nx.diameter(G)\n",
    "\n",
    "            adj_mat = nx.to_numpy_array(G)\n",
    "\n",
    "            if half_sync:\n",
    "                natfreqs = np.repeat(2 * np.pi * 0, nodes)\n",
    "                model = Kuramoto(coupling=K, dt=0.01, T=25, natfreqs=natfreqs, half_sync=half_sync)\n",
    "            else:\n",
    "                model = Kuramoto(coupling=K, dt=0.01, T=25, n_nodes=nodes, half_sync=half_sync)\n",
    "\n",
    "            sim = model.run(adj_mat)\n",
    "            conc = int(model.concentrated)\n",
    "            \n",
    "            df.at[len(df.index)] = [edges, nodes, dmin, dmax, diam, conc]\n",
    "            \n",
    "        else:\n",
    "            graph_list.remove(G)\n",
    "      \n",
    "    \n",
    "    return df, graph_list\n",
    "    \n",
    "\n"
   ]
  },
  {
   "cell_type": "code",
   "execution_count": 21,
   "id": "229a5741",
   "metadata": {
    "scrolled": true
   },
   "outputs": [],
   "source": [
    "def n2v_embedding(df):\n",
    "\n",
    "    df_n2v = pd.DataFrame()\n",
    "\n",
    "    for graph in graph_list:        \n",
    "        n2v = Node2Vec(dimensions = 1)\n",
    "        n2v.fit(graph)\n",
    "        embed = n2v.get_embedding()\n",
    "        df_embed = pd.DataFrame(embed.T)\n",
    "        df_n2v = pd.concat([df_n2v, df_embed], ignore_index=True, axis=0)\n",
    "        \n",
    "    return df_n2v\n"
   ]
  },
  {
   "cell_type": "markdown",
   "id": "d5d029f5",
   "metadata": {},
   "source": [
    "### Kurumoto with LOW edge variance (100 samples)"
   ]
  },
  {
   "cell_type": "code",
   "execution_count": 40,
   "id": "cb0e3b9e",
   "metadata": {},
   "outputs": [],
   "source": [
    "df, graph_list = gen_KM_nodynamics(20, 100, edge_var=\"L\", half_sync = False)\n",
    "\n",
    "df_n2v = n2v_embedding(df)\n",
    "\n",
    "df_final = pd.concat([df_n2v, df], axis=1)"
   ]
  },
  {
   "cell_type": "code",
   "execution_count": 41,
   "id": "57086da0",
   "metadata": {},
   "outputs": [
    {
     "data": {
      "text/html": [
       "<div>\n",
       "<style scoped>\n",
       "    .dataframe tbody tr th:only-of-type {\n",
       "        vertical-align: middle;\n",
       "    }\n",
       "\n",
       "    .dataframe tbody tr th {\n",
       "        vertical-align: top;\n",
       "    }\n",
       "\n",
       "    .dataframe thead th {\n",
       "        text-align: right;\n",
       "    }\n",
       "</style>\n",
       "<table border=\"1\" class=\"dataframe\">\n",
       "  <thead>\n",
       "    <tr style=\"text-align: right;\">\n",
       "      <th></th>\n",
       "      <th>0</th>\n",
       "      <th>1</th>\n",
       "      <th>2</th>\n",
       "      <th>3</th>\n",
       "      <th>4</th>\n",
       "      <th>5</th>\n",
       "      <th>6</th>\n",
       "      <th>7</th>\n",
       "      <th>8</th>\n",
       "      <th>9</th>\n",
       "      <th>...</th>\n",
       "      <th>16</th>\n",
       "      <th>17</th>\n",
       "      <th>18</th>\n",
       "      <th>19</th>\n",
       "      <th># Edges</th>\n",
       "      <th># Nodes</th>\n",
       "      <th>Min Degree</th>\n",
       "      <th>Max Degree</th>\n",
       "      <th>Diameter</th>\n",
       "      <th>Concentrated</th>\n",
       "    </tr>\n",
       "  </thead>\n",
       "  <tbody>\n",
       "    <tr>\n",
       "      <th>0</th>\n",
       "      <td>1.379904</td>\n",
       "      <td>1.501820</td>\n",
       "      <td>1.408924</td>\n",
       "      <td>1.347474</td>\n",
       "      <td>1.476525</td>\n",
       "      <td>1.324368</td>\n",
       "      <td>1.378802</td>\n",
       "      <td>1.256782</td>\n",
       "      <td>1.465850</td>\n",
       "      <td>1.212807</td>\n",
       "      <td>...</td>\n",
       "      <td>1.546181</td>\n",
       "      <td>1.492282</td>\n",
       "      <td>1.445183</td>\n",
       "      <td>1.175888</td>\n",
       "      <td>183</td>\n",
       "      <td>20</td>\n",
       "      <td>18</td>\n",
       "      <td>19</td>\n",
       "      <td>2</td>\n",
       "      <td>0</td>\n",
       "    </tr>\n",
       "    <tr>\n",
       "      <th>1</th>\n",
       "      <td>1.384095</td>\n",
       "      <td>1.456624</td>\n",
       "      <td>1.311246</td>\n",
       "      <td>1.406641</td>\n",
       "      <td>1.461192</td>\n",
       "      <td>1.505263</td>\n",
       "      <td>1.494000</td>\n",
       "      <td>1.327683</td>\n",
       "      <td>1.467066</td>\n",
       "      <td>1.181150</td>\n",
       "      <td>...</td>\n",
       "      <td>1.349471</td>\n",
       "      <td>1.480798</td>\n",
       "      <td>1.553428</td>\n",
       "      <td>1.502450</td>\n",
       "      <td>190</td>\n",
       "      <td>20</td>\n",
       "      <td>19</td>\n",
       "      <td>19</td>\n",
       "      <td>1</td>\n",
       "      <td>0</td>\n",
       "    </tr>\n",
       "    <tr>\n",
       "      <th>2</th>\n",
       "      <td>1.334465</td>\n",
       "      <td>1.678701</td>\n",
       "      <td>1.496002</td>\n",
       "      <td>1.348622</td>\n",
       "      <td>1.383939</td>\n",
       "      <td>1.569691</td>\n",
       "      <td>1.407757</td>\n",
       "      <td>1.420725</td>\n",
       "      <td>1.440247</td>\n",
       "      <td>1.413029</td>\n",
       "      <td>...</td>\n",
       "      <td>1.408192</td>\n",
       "      <td>1.425718</td>\n",
       "      <td>1.327266</td>\n",
       "      <td>1.365138</td>\n",
       "      <td>190</td>\n",
       "      <td>20</td>\n",
       "      <td>19</td>\n",
       "      <td>19</td>\n",
       "      <td>1</td>\n",
       "      <td>0</td>\n",
       "    </tr>\n",
       "    <tr>\n",
       "      <th>3</th>\n",
       "      <td>1.332249</td>\n",
       "      <td>1.663775</td>\n",
       "      <td>1.493196</td>\n",
       "      <td>1.343472</td>\n",
       "      <td>1.362131</td>\n",
       "      <td>1.559869</td>\n",
       "      <td>1.410844</td>\n",
       "      <td>1.431064</td>\n",
       "      <td>1.419546</td>\n",
       "      <td>1.385742</td>\n",
       "      <td>...</td>\n",
       "      <td>1.402535</td>\n",
       "      <td>1.439414</td>\n",
       "      <td>1.347171</td>\n",
       "      <td>1.343737</td>\n",
       "      <td>190</td>\n",
       "      <td>20</td>\n",
       "      <td>19</td>\n",
       "      <td>19</td>\n",
       "      <td>1</td>\n",
       "      <td>0</td>\n",
       "    </tr>\n",
       "    <tr>\n",
       "      <th>4</th>\n",
       "      <td>1.308470</td>\n",
       "      <td>1.677012</td>\n",
       "      <td>1.493469</td>\n",
       "      <td>1.356279</td>\n",
       "      <td>1.385556</td>\n",
       "      <td>1.531262</td>\n",
       "      <td>1.388208</td>\n",
       "      <td>1.421192</td>\n",
       "      <td>1.447412</td>\n",
       "      <td>1.396566</td>\n",
       "      <td>...</td>\n",
       "      <td>1.386968</td>\n",
       "      <td>1.434978</td>\n",
       "      <td>1.338598</td>\n",
       "      <td>1.357907</td>\n",
       "      <td>190</td>\n",
       "      <td>20</td>\n",
       "      <td>19</td>\n",
       "      <td>19</td>\n",
       "      <td>1</td>\n",
       "      <td>0</td>\n",
       "    </tr>\n",
       "    <tr>\n",
       "      <th>...</th>\n",
       "      <td>...</td>\n",
       "      <td>...</td>\n",
       "      <td>...</td>\n",
       "      <td>...</td>\n",
       "      <td>...</td>\n",
       "      <td>...</td>\n",
       "      <td>...</td>\n",
       "      <td>...</td>\n",
       "      <td>...</td>\n",
       "      <td>...</td>\n",
       "      <td>...</td>\n",
       "      <td>...</td>\n",
       "      <td>...</td>\n",
       "      <td>...</td>\n",
       "      <td>...</td>\n",
       "      <td>...</td>\n",
       "      <td>...</td>\n",
       "      <td>...</td>\n",
       "      <td>...</td>\n",
       "      <td>...</td>\n",
       "      <td>...</td>\n",
       "    </tr>\n",
       "    <tr>\n",
       "      <th>95</th>\n",
       "      <td>1.386106</td>\n",
       "      <td>1.165371</td>\n",
       "      <td>1.450790</td>\n",
       "      <td>1.282959</td>\n",
       "      <td>1.456911</td>\n",
       "      <td>1.458063</td>\n",
       "      <td>1.467186</td>\n",
       "      <td>1.575476</td>\n",
       "      <td>1.485210</td>\n",
       "      <td>1.278607</td>\n",
       "      <td>...</td>\n",
       "      <td>1.351443</td>\n",
       "      <td>1.407749</td>\n",
       "      <td>1.475060</td>\n",
       "      <td>1.521874</td>\n",
       "      <td>190</td>\n",
       "      <td>20</td>\n",
       "      <td>19</td>\n",
       "      <td>19</td>\n",
       "      <td>1</td>\n",
       "      <td>0</td>\n",
       "    </tr>\n",
       "    <tr>\n",
       "      <th>96</th>\n",
       "      <td>1.339575</td>\n",
       "      <td>1.701056</td>\n",
       "      <td>1.500561</td>\n",
       "      <td>1.354302</td>\n",
       "      <td>1.394614</td>\n",
       "      <td>1.572000</td>\n",
       "      <td>1.405187</td>\n",
       "      <td>1.390758</td>\n",
       "      <td>1.434848</td>\n",
       "      <td>1.395596</td>\n",
       "      <td>...</td>\n",
       "      <td>1.403557</td>\n",
       "      <td>1.445904</td>\n",
       "      <td>1.314859</td>\n",
       "      <td>1.356963</td>\n",
       "      <td>190</td>\n",
       "      <td>20</td>\n",
       "      <td>19</td>\n",
       "      <td>19</td>\n",
       "      <td>1</td>\n",
       "      <td>0</td>\n",
       "    </tr>\n",
       "    <tr>\n",
       "      <th>97</th>\n",
       "      <td>1.302082</td>\n",
       "      <td>1.563479</td>\n",
       "      <td>1.349847</td>\n",
       "      <td>1.345691</td>\n",
       "      <td>1.418819</td>\n",
       "      <td>1.354389</td>\n",
       "      <td>1.312443</td>\n",
       "      <td>1.386003</td>\n",
       "      <td>1.421737</td>\n",
       "      <td>1.320422</td>\n",
       "      <td>...</td>\n",
       "      <td>1.480863</td>\n",
       "      <td>1.452183</td>\n",
       "      <td>1.478386</td>\n",
       "      <td>1.328328</td>\n",
       "      <td>190</td>\n",
       "      <td>20</td>\n",
       "      <td>19</td>\n",
       "      <td>19</td>\n",
       "      <td>1</td>\n",
       "      <td>0</td>\n",
       "    </tr>\n",
       "    <tr>\n",
       "      <th>98</th>\n",
       "      <td>1.410384</td>\n",
       "      <td>1.286607</td>\n",
       "      <td>1.429764</td>\n",
       "      <td>1.484662</td>\n",
       "      <td>1.405016</td>\n",
       "      <td>1.511539</td>\n",
       "      <td>1.486347</td>\n",
       "      <td>1.368564</td>\n",
       "      <td>1.372490</td>\n",
       "      <td>1.393898</td>\n",
       "      <td>...</td>\n",
       "      <td>1.389075</td>\n",
       "      <td>1.446820</td>\n",
       "      <td>1.280679</td>\n",
       "      <td>1.322552</td>\n",
       "      <td>190</td>\n",
       "      <td>20</td>\n",
       "      <td>19</td>\n",
       "      <td>19</td>\n",
       "      <td>1</td>\n",
       "      <td>0</td>\n",
       "    </tr>\n",
       "    <tr>\n",
       "      <th>99</th>\n",
       "      <td>1.329595</td>\n",
       "      <td>1.665352</td>\n",
       "      <td>1.481274</td>\n",
       "      <td>1.339505</td>\n",
       "      <td>1.360375</td>\n",
       "      <td>1.569741</td>\n",
       "      <td>1.402235</td>\n",
       "      <td>1.430167</td>\n",
       "      <td>1.421988</td>\n",
       "      <td>1.397357</td>\n",
       "      <td>...</td>\n",
       "      <td>1.397160</td>\n",
       "      <td>1.446685</td>\n",
       "      <td>1.349803</td>\n",
       "      <td>1.358446</td>\n",
       "      <td>190</td>\n",
       "      <td>20</td>\n",
       "      <td>19</td>\n",
       "      <td>19</td>\n",
       "      <td>1</td>\n",
       "      <td>0</td>\n",
       "    </tr>\n",
       "  </tbody>\n",
       "</table>\n",
       "<p>100 rows × 26 columns</p>\n",
       "</div>"
      ],
      "text/plain": [
       "           0         1         2         3         4         5         6  \\\n",
       "0   1.379904  1.501820  1.408924  1.347474  1.476525  1.324368  1.378802   \n",
       "1   1.384095  1.456624  1.311246  1.406641  1.461192  1.505263  1.494000   \n",
       "2   1.334465  1.678701  1.496002  1.348622  1.383939  1.569691  1.407757   \n",
       "3   1.332249  1.663775  1.493196  1.343472  1.362131  1.559869  1.410844   \n",
       "4   1.308470  1.677012  1.493469  1.356279  1.385556  1.531262  1.388208   \n",
       "..       ...       ...       ...       ...       ...       ...       ...   \n",
       "95  1.386106  1.165371  1.450790  1.282959  1.456911  1.458063  1.467186   \n",
       "96  1.339575  1.701056  1.500561  1.354302  1.394614  1.572000  1.405187   \n",
       "97  1.302082  1.563479  1.349847  1.345691  1.418819  1.354389  1.312443   \n",
       "98  1.410384  1.286607  1.429764  1.484662  1.405016  1.511539  1.486347   \n",
       "99  1.329595  1.665352  1.481274  1.339505  1.360375  1.569741  1.402235   \n",
       "\n",
       "           7         8         9  ...        16        17        18        19  \\\n",
       "0   1.256782  1.465850  1.212807  ...  1.546181  1.492282  1.445183  1.175888   \n",
       "1   1.327683  1.467066  1.181150  ...  1.349471  1.480798  1.553428  1.502450   \n",
       "2   1.420725  1.440247  1.413029  ...  1.408192  1.425718  1.327266  1.365138   \n",
       "3   1.431064  1.419546  1.385742  ...  1.402535  1.439414  1.347171  1.343737   \n",
       "4   1.421192  1.447412  1.396566  ...  1.386968  1.434978  1.338598  1.357907   \n",
       "..       ...       ...       ...  ...       ...       ...       ...       ...   \n",
       "95  1.575476  1.485210  1.278607  ...  1.351443  1.407749  1.475060  1.521874   \n",
       "96  1.390758  1.434848  1.395596  ...  1.403557  1.445904  1.314859  1.356963   \n",
       "97  1.386003  1.421737  1.320422  ...  1.480863  1.452183  1.478386  1.328328   \n",
       "98  1.368564  1.372490  1.393898  ...  1.389075  1.446820  1.280679  1.322552   \n",
       "99  1.430167  1.421988  1.397357  ...  1.397160  1.446685  1.349803  1.358446   \n",
       "\n",
       "    # Edges  # Nodes  Min Degree  Max Degree  Diameter  Concentrated  \n",
       "0       183       20          18          19         2             0  \n",
       "1       190       20          19          19         1             0  \n",
       "2       190       20          19          19         1             0  \n",
       "3       190       20          19          19         1             0  \n",
       "4       190       20          19          19         1             0  \n",
       "..      ...      ...         ...         ...       ...           ...  \n",
       "95      190       20          19          19         1             0  \n",
       "96      190       20          19          19         1             0  \n",
       "97      190       20          19          19         1             0  \n",
       "98      190       20          19          19         1             0  \n",
       "99      190       20          19          19         1             0  \n",
       "\n",
       "[100 rows x 26 columns]"
      ]
     },
     "execution_count": 41,
     "metadata": {},
     "output_type": "execute_result"
    }
   ],
   "source": [
    "df_final"
   ]
  },
  {
   "cell_type": "code",
   "execution_count": 42,
   "id": "f6510537",
   "metadata": {},
   "outputs": [],
   "source": [
    "X, y = df_final.iloc[:, 0:20], df_final.iloc[:, [-1]]\n",
    "y = y.astype('int')\n",
    "sampler = RandomOverSampler()\n",
    "X_resampled, y_resampled = sampler.fit_resample(X, y)\n",
    "\n",
    "X_train, X_test, y_train, y_test = train_test_split(X_resampled, y_resampled,\n",
    "                                                        test_size = 0.25,\n",
    "                                                        stratify = y_resampled)"
   ]
  },
  {
   "cell_type": "code",
   "execution_count": 43,
   "id": "8698d525",
   "metadata": {},
   "outputs": [
    {
     "data": {
      "text/plain": [
       "0    87\n",
       "1    13\n",
       "Name: Concentrated, dtype: int64"
      ]
     },
     "execution_count": 43,
     "metadata": {},
     "output_type": "execute_result"
    }
   ],
   "source": [
    "df_final['Concentrated'].value_counts()"
   ]
  },
  {
   "cell_type": "code",
   "execution_count": 44,
   "id": "c238bf29",
   "metadata": {},
   "outputs": [
    {
     "data": {
      "text/plain": [
       "Concentrated\n",
       "0               65\n",
       "1               65\n",
       "dtype: int64"
      ]
     },
     "execution_count": 44,
     "metadata": {},
     "output_type": "execute_result"
    }
   ],
   "source": [
    "y_train.value_counts()"
   ]
  },
  {
   "cell_type": "code",
   "execution_count": 45,
   "id": "1e64604e",
   "metadata": {},
   "outputs": [
    {
     "data": {
      "image/png": "[encoded data removed]",
      "text/plain": [
       "<Figure size 432x288 with 2 Axes>"
      ]
     },
     "metadata": {
      "needs_background": "light"
     },
     "output_type": "display_data"
    },
    {
     "name": "stdout",
     "output_type": "stream",
     "text": [
      "Precision: 0.917\n",
      "Recall: 1.000\n",
      "F1: 0.957\n",
      "Accuracy: 0.955\n"
     ]
    }
   ],
   "source": [
    "clf = rf(max_depth=5, max_features=\"log2\")\n",
    "clf.fit(X_train, y_train)\n",
    "y_pred = clf.predict(X_test)\n",
    "model_metrics(clf, y_test, y_pred)"
   ]
  },
  {
   "cell_type": "markdown",
   "id": "34899d8f",
   "metadata": {},
   "source": [
    "### Kurumoto with LOW edge variance (200 samples)"
   ]
  },
  {
   "cell_type": "code",
   "execution_count": 28,
   "id": "55f2af5f",
   "metadata": {},
   "outputs": [],
   "source": [
    "df, graph_list = gen_KM_nodynamics(20, 200, edge_var=\"L\", half_sync = False)\n",
    "\n",
    "df_n2v = n2v_embedding(df)\n",
    "\n",
    "df_final = pd.concat([df_n2v, df], axis=1)"
   ]
  },
  {
   "cell_type": "code",
   "execution_count": 29,
   "id": "dec3a503",
   "metadata": {},
   "outputs": [],
   "source": [
    "X, y = df_final.iloc[:, 0:20], df_final.iloc[:, [-1]]\n",
    "y = y.astype('int')\n",
    "sampler = RandomOverSampler()\n",
    "X_resampled, y_resampled = sampler.fit_resample(X, y)\n",
    "\n",
    "X_train, X_test, y_train, y_test = train_test_split(X_resampled, y_resampled,\n",
    "                                                        test_size = 0.25,\n",
    "                                                        stratify = y_resampled)"
   ]
  },
  {
   "cell_type": "code",
   "execution_count": 30,
   "id": "77204475",
   "metadata": {},
   "outputs": [
    {
     "data": {
      "image/png": "[encoded data removed]",
      "text/plain": [
       "<Figure size 432x288 with 2 Axes>"
      ]
     },
     "metadata": {
      "needs_background": "light"
     },
     "output_type": "display_data"
    },
    {
     "name": "stdout",
     "output_type": "stream",
     "text": [
      "Precision: 0.878\n",
      "Recall: 1.000\n",
      "F1: 0.935\n",
      "Accuracy: 0.930\n"
     ]
    }
   ],
   "source": [
    "clf = rf(max_depth=5, max_features=\"log2\")\n",
    "clf.fit(X_train, y_train)\n",
    "y_pred = clf.predict(X_test)\n",
    "model_metrics(clf, y_test, y_pred)"
   ]
  },
  {
   "cell_type": "markdown",
   "id": "e1770106",
   "metadata": {},
   "source": [
    "### Kurumoto with HIGH edge variance (100 samples)"
   ]
  },
  {
   "cell_type": "code",
   "execution_count": 46,
   "id": "ea260909",
   "metadata": {},
   "outputs": [],
   "source": [
    "df, graph_list = gen_KM_nodynamics(20, 100, edge_var=\"H\", half_sync = False)\n",
    "\n",
    "df_n2v = n2v_embedding(df)\n",
    "\n",
    "df_final = pd.concat([df_n2v, df], axis=1)"
   ]
  },
  {
   "cell_type": "code",
   "execution_count": 47,
   "id": "2daf252a",
   "metadata": {},
   "outputs": [],
   "source": [
    "X, y = df_final.iloc[:, 0:20], df_final.iloc[:, [-1]]\n",
    "y = y.astype('int')\n",
    "sampler = RandomOverSampler()\n",
    "X_resampled, y_resampled = sampler.fit_resample(X, y)\n",
    "\n",
    "X_train, X_test, y_train, y_test = train_test_split(X_resampled, y_resampled,\n",
    "                                                        test_size = 0.25,\n",
    "                                                        stratify = y_resampled)"
   ]
  },
  {
   "cell_type": "code",
   "execution_count": 48,
   "id": "837ceeed",
   "metadata": {},
   "outputs": [
    {
     "data": {
      "image/png": "[encoded data removed]",
      "text/plain": [
       "<Figure size 432x288 with 2 Axes>"
      ]
     },
     "metadata": {
      "needs_background": "light"
     },
     "output_type": "display_data"
    },
    {
     "name": "stdout",
     "output_type": "stream",
     "text": [
      "Precision: 0.957\n",
      "Recall: 1.000\n",
      "F1: 0.978\n",
      "Accuracy: 0.977\n"
     ]
    }
   ],
   "source": [
    "clf = rf(max_depth=5, max_features=\"log2\")\n",
    "clf.fit(X_train, y_train)\n",
    "y_pred = clf.predict(X_test)\n",
    "model_metrics(clf, y_test, y_pred)"
   ]
  },
  {
   "cell_type": "markdown",
   "id": "af5afcc3",
   "metadata": {},
   "source": [
    "### Kurumoto with HIGH edge variance (200 samples)"
   ]
  },
  {
   "cell_type": "code",
   "execution_count": 37,
   "id": "a54b97fa",
   "metadata": {},
   "outputs": [],
   "source": [
    "df, graph_list = gen_KM_nodynamics(20, 200, edge_var=\"H\", half_sync = False)\n",
    "\n",
    "df_n2v = n2v_embedding(df)\n",
    "\n",
    "df_final = pd.concat([df_n2v, df], axis=1)"
   ]
  },
  {
   "cell_type": "code",
   "execution_count": 38,
   "id": "b701630c",
   "metadata": {},
   "outputs": [],
   "source": [
    "X, y = df_final.iloc[:, 0:20], df_final.iloc[:, [-1]]\n",
    "y = y.astype('int')\n",
    "sampler = RandomOverSampler()\n",
    "X_resampled, y_resampled = sampler.fit_resample(X, y)\n",
    "\n",
    "X_train, X_test, y_train, y_test = train_test_split(X_resampled, y_resampled,\n",
    "                                                        test_size = 0.25,\n",
    "                                                        stratify = y_resampled)"
   ]
  },
  {
   "cell_type": "code",
   "execution_count": 39,
   "id": "00dba3d7",
   "metadata": {},
   "outputs": [
    {
     "data": {
      "image/png": "[encoded data removed]",
      "text/plain": [
       "<Figure size 432x288 with 2 Axes>"
      ]
     },
     "metadata": {
      "needs_background": "light"
     },
     "output_type": "display_data"
    },
    {
     "name": "stdout",
     "output_type": "stream",
     "text": [
      "Precision: 0.917\n",
      "Recall: 1.000\n",
      "F1: 0.957\n",
      "Accuracy: 0.955\n"
     ]
    }
   ],
   "source": [
    "clf = rf(max_depth=5, max_features=\"log2\")\n",
    "clf.fit(X_train, y_train)\n",
    "y_pred = clf.predict(X_test)\n",
    "model_metrics(clf, y_test, y_pred)"
   ]
  },
  {
   "cell_type": "code",
   "execution_count": 50,
   "id": "bcba26f2",
   "metadata": {},
   "outputs": [
    {
     "data": {
      "text/plain": [
       "0    86\n",
       "1    11\n",
       "Name: Concentrated, dtype: int64"
      ]
     },
     "execution_count": 50,
     "metadata": {},
     "output_type": "execute_result"
    }
   ],
   "source": [
    "df_final['Concentrated'].value_counts()\n"
   ]
  },
  {
   "cell_type": "code",
   "execution_count": 51,
   "id": "a005ba47",
   "metadata": {},
   "outputs": [
    {
     "data": {
      "text/plain": [
       "Concentrated\n",
       "0               65\n",
       "1               64\n",
       "dtype: int64"
      ]
     },
     "execution_count": 51,
     "metadata": {},
     "output_type": "execute_result"
    }
   ],
   "source": [
    "y_train.value_counts()"
   ]
  }
 ],
 "metadata": {
  "kernelspec": {
   "display_name": "Python 3 (ipykernel)",
   "language": "python",
   "name": "python3"
  },
  "language_info": {
   "codemirror_mode": {
    "name": "ipython",
    "version": 3
   },
   "file_extension": ".py",
   "mimetype": "text/x-python",
   "name": "python",
   "nbconvert_exporter": "python",
   "pygments_lexer": "ipython3",
   "version": "3.9.7"
  }
 },
 "nbformat": 4,
 "nbformat_minor": 5
}
