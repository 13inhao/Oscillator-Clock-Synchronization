{
 "cells": [
  {
   "cell_type": "markdown",
   "id": "a7a5d4c4",
   "metadata": {},
   "source": [
    "## Kuramoto"
   ]
  },
  {
   "cell_type": "code",
   "execution_count": null,
   "id": "71d5d1ba",
   "metadata": {},
   "outputs": [],
   "source": []
  },
  {
   "cell_type": "markdown",
   "id": "a514c94b",
   "metadata": {},
   "source": [
    "## FCA"
   ]
  },
  {
   "cell_type": "code",
   "execution_count": null,
   "id": "011bf433",
   "metadata": {},
   "outputs": [],
   "source": []
  },
  {
   "cell_type": "markdown",
   "id": "0457da23",
   "metadata": {},
   "source": [
    "## GHM"
   ]
  },
  {
   "cell_type": "code",
   "execution_count": null,
   "id": "7ede43ae",
   "metadata": {},
   "outputs": [],
   "source": []
  }
 ],
 "metadata": {
  "kernelspec": {
   "display_name": "Python 3 (ipykernel)",
   "language": "python",
   "name": "python3"
  },
  "language_info": {
   "codemirror_mode": {
    "name": "ipython",
    "version": 3
   },
   "file_extension": ".py",
   "mimetype": "text/x-python",
   "name": "python",
   "nbconvert_exporter": "python",
   "pygments_lexer": "ipython3",
   "version": "3.9.12"
  }
 },
 "nbformat": 4,
 "nbformat_minor": 5
}
