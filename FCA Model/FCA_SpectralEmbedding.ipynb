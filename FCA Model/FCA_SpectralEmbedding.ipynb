{
 "cells": [
  {
   "cell_type": "code",
   "execution_count": 1,
   "id": "5c3344a1",
   "metadata": {},
   "outputs": [],
   "source": [
    "import FCA, pickle, csv\n",
    "import numpy as np\n",
    "import pandas as pd\n",
    "import networkx as nx\n",
    "import statistics as s\n",
    "from math import floor\n",
    "from NNetwork import NNetwork as nn\n",
    "import matplotlib.pyplot as plt\n",
    "import matplotlib.gridspec as gridspec\n",
    "import warnings\n",
    "warnings.filterwarnings(\"ignore\")\n",
    "\n",
    "import random\n",
    "\n",
    "from sklearn.manifold import SpectralEmbedding\n",
    "\n",
    "from imblearn.under_sampling import RandomUnderSampler\n",
    "from sklearn.model_selection import train_test_split\n",
    "sampler = RandomUnderSampler()\n",
    "\n",
    "from karateclub import Node2Vec\n",
    "from karateclub import Graph2Vec\n",
    "\n",
    "\n",
    "from sklearn.model_selection import train_test_split\n",
    "from sklearn.metrics import confusion_matrix, precision_score, recall_score, f1_score, accuracy_score, ConfusionMatrixDisplay\n",
    "from sklearn.svm import SVC\n",
    "from sklearn.ensemble import RandomForestClassifier as rf"
   ]
  },
  {
   "cell_type": "code",
   "execution_count": 2,
   "id": "128090de",
   "metadata": {},
   "outputs": [],
   "source": [
    "def model_metrics(model, y_test, y_pred):\n",
    "    conf_matrix = confusion_matrix(y_true = y_test, y_pred = y_pred)\n",
    "    disp = ConfusionMatrixDisplay(confusion_matrix=conf_matrix,\n",
    "                                  display_labels=model.classes_)\n",
    "    disp.plot()\n",
    "    plt.show()\n",
    "    \n",
    "    print('Precision: %.3f' % precision_score(y_test, y_pred))\n",
    "    print('Recall: %.3f' % recall_score(y_test, y_pred))\n",
    "    print('F1: %.3f' % f1_score(y_test, y_pred))\n",
    "    print('Accuracy: %.3f' % accuracy_score(y_test, y_pred))\n",
    "    \n",
    "    pass\n",
    "    return"
   ]
  },
  {
   "cell_type": "code",
   "execution_count": 97,
   "id": "e10fdc17",
   "metadata": {},
   "outputs": [],
   "source": [
    "# FCA_iter: total iteration for the FCA model, used for label\n",
    "# baseline_iter: the iteration for baseline model, usually less than FCA_iter\n",
    "# iter_include: number of iteration to include in the dataframe\n",
    "# X: a list of graph structure (for each graph, length = k^2 if num_nodes=k)\n",
    "# num_edges, num_nodes, min_degree, max_degree, diameter, quartile_1, quartile_2, quartile_3, states, y, baseline_width\n",
    "def FCA_datagen(num_nodes, kappa, FCA_iter, baseline_iter, iter_include, file_name, X):\n",
    "    # generate the toy dataset\n",
    "    file = open(file_name, 'w+', newline='')\n",
    "\n",
    "    header = [\"num_edges\", \"num_nodes\", \"min_degree\", \"max_degree\", \"diameter\", \"quartile_1\",\n",
    "              \"quartile_2\", \"quartile_3\", \"y\", \"baseline_width\"]\n",
    "    for i in range(baseline_iter):\n",
    "        for j in range(num_nodes):\n",
    "            header.append(\"s\" + str(i + 1) + \"_\" + str(j + 1))\n",
    "\n",
    "    with file:\n",
    "        write = csv.writer(file)\n",
    "\n",
    "        write.writerow(header)\n",
    "        for i in range(X.shape[1]): #X.shape = (400, 3000)\n",
    "            G=nx.from_pandas_adjacency(pd.DataFrame(X[:,i].reshape(20, -1)))\n",
    "            G=nx.Graph(G)\n",
    "            \n",
    "            \n",
    "            col = np.random.randint(0,kappa,size=num_nodes)\n",
    "\n",
    "            num_edges = G.number_of_edges()\n",
    "            min_degree = min(list(G.degree), key=lambda x: x[1])[1]\n",
    "            max_degree = max(list(G.degree), key=lambda x: x[1])[1]\n",
    "            diameter = nx.diameter(G)\n",
    "            quartile_1 = s.quantiles(col, n=4)[0]\n",
    "            quartile_2 = s.quantiles(col, n=4)[1]\n",
    "            quartile_3 = s.quantiles(col, n=4)[2]\n",
    "\n",
    "            sample = [num_edges, num_nodes, min_degree, max_degree, diameter,\n",
    "                      quartile_1, quartile_2, quartile_3]\n",
    "            states, label = FCA.FCA(G, col, kappa, FCA_iter)\n",
    "\n",
    "            width = FCA.width_compute(states[FCA_iter - 1], kappa)\n",
    "            y = False\n",
    "            if (width < floor(kappa / 2)):  # half circle concentration\n",
    "                y = True\n",
    "            sample.append(y)\n",
    "\n",
    "            baseline_width = FCA.width_compute(states[baseline_iter - 1], kappa)\n",
    "            baseline = False\n",
    "            if (baseline_width < floor(kappa / 2)):  # half circle concentration\n",
    "                baseline = True\n",
    "            sample.append(baseline)\n",
    "\n",
    "            for j in range(iter_include):\n",
    "                sample = sample + list(states[j])\n",
    "\n",
    "            write.writerow(sample)\n",
    "    #return graph_list"
   ]
  },
  {
   "cell_type": "code",
   "execution_count": 98,
   "id": "2367ea23",
   "metadata": {},
   "outputs": [
    {
     "name": "stdout",
     "output_type": "stream",
     "text": [
      "num nodes in G 20467\n",
      "num edges in G 1495226\n"
     ]
    }
   ],
   "source": [
    "sampling_alg = 'pivot'\n",
    "\n",
    "ntwk = 'UCLA26' # COVID_PPI, Wisconsin87, UCLA26, Caltech36\n",
    "ntwk_nonumber = ''.join([i for i in ntwk if not i.isdigit()])\n",
    "save_folder = 'Subgraph_sampling/test1/'\n",
    "\n",
    "path = \"../Data/Networks_all_NDL/\" + str(ntwk) + '.txt'\n",
    "G = nn.NNetwork()\n",
    "G.load_add_edges(path, increment_weights=False, use_genfromtxt=True)\n",
    "print('num nodes in G', len(G.nodes()))\n",
    "print('num edges in G', len(G.get_edges()))"
   ]
  },
  {
   "cell_type": "code",
   "execution_count": 99,
   "id": "1fed52e5",
   "metadata": {},
   "outputs": [
    {
     "name": "stdout",
     "output_type": "stream",
     "text": [
      "num of subgraphs induced on k-paths: 1000\n"
     ]
    },
    {
     "data": {
      "text/plain": [
       "(2500, 1000)"
      ]
     },
     "execution_count": 99,
     "metadata": {},
     "output_type": "execute_result"
    }
   ],
   "source": [
    "k=20\n",
    "X, embs = G.get_patches(k=k, sample_size=1000, skip_folded_hom=True)\n",
    "# file = open('toy.pkl', 'wb')\n",
    "# pickle.dump(X, file)\n",
    "# file.close()\n",
    "X.shape"
   ]
  },
  {
   "cell_type": "code",
   "execution_count": 6,
   "id": "ff0198cb",
   "metadata": {},
   "outputs": [],
   "source": [
    "num_nodes = 20\n",
    "kappa = 10\n",
    "FCA_iter = 200\n",
    "baseline_iter = 50\n",
    "iter_include = 5\n",
    "file_name = \"Caltech_Subgraphs(k=20).csv\"\n",
    "FCA_datagen(num_nodes, kappa, FCA_iter, baseline_iter, iter_include, file_name, X)"
   ]
  },
  {
   "cell_type": "code",
   "execution_count": 7,
   "id": "15e533a1",
   "metadata": {},
   "outputs": [
    {
     "data": {
      "text/html": [
       "<div>\n",
       "<style scoped>\n",
       "    .dataframe tbody tr th:only-of-type {\n",
       "        vertical-align: middle;\n",
       "    }\n",
       "\n",
       "    .dataframe tbody tr th {\n",
       "        vertical-align: top;\n",
       "    }\n",
       "\n",
       "    .dataframe thead th {\n",
       "        text-align: right;\n",
       "    }\n",
       "</style>\n",
       "<table border=\"1\" class=\"dataframe\">\n",
       "  <thead>\n",
       "    <tr style=\"text-align: right;\">\n",
       "      <th></th>\n",
       "      <th>num_edges</th>\n",
       "      <th>num_nodes</th>\n",
       "      <th>min_degree</th>\n",
       "      <th>max_degree</th>\n",
       "      <th>diameter</th>\n",
       "      <th>quartile_1</th>\n",
       "      <th>quartile_2</th>\n",
       "      <th>quartile_3</th>\n",
       "      <th>y</th>\n",
       "      <th>baseline_width</th>\n",
       "      <th>...</th>\n",
       "      <th>s50_11</th>\n",
       "      <th>s50_12</th>\n",
       "      <th>s50_13</th>\n",
       "      <th>s50_14</th>\n",
       "      <th>s50_15</th>\n",
       "      <th>s50_16</th>\n",
       "      <th>s50_17</th>\n",
       "      <th>s50_18</th>\n",
       "      <th>s50_19</th>\n",
       "      <th>s50_20</th>\n",
       "    </tr>\n",
       "  </thead>\n",
       "  <tbody>\n",
       "    <tr>\n",
       "      <th>0</th>\n",
       "      <td>24</td>\n",
       "      <td>20</td>\n",
       "      <td>1</td>\n",
       "      <td>5</td>\n",
       "      <td>14</td>\n",
       "      <td>2.25</td>\n",
       "      <td>4.0</td>\n",
       "      <td>8.00</td>\n",
       "      <td>True</td>\n",
       "      <td>False</td>\n",
       "      <td>...</td>\n",
       "      <td>NaN</td>\n",
       "      <td>NaN</td>\n",
       "      <td>NaN</td>\n",
       "      <td>NaN</td>\n",
       "      <td>NaN</td>\n",
       "      <td>NaN</td>\n",
       "      <td>NaN</td>\n",
       "      <td>NaN</td>\n",
       "      <td>NaN</td>\n",
       "      <td>NaN</td>\n",
       "    </tr>\n",
       "    <tr>\n",
       "      <th>1</th>\n",
       "      <td>28</td>\n",
       "      <td>20</td>\n",
       "      <td>1</td>\n",
       "      <td>6</td>\n",
       "      <td>9</td>\n",
       "      <td>2.00</td>\n",
       "      <td>5.5</td>\n",
       "      <td>7.00</td>\n",
       "      <td>False</td>\n",
       "      <td>False</td>\n",
       "      <td>...</td>\n",
       "      <td>NaN</td>\n",
       "      <td>NaN</td>\n",
       "      <td>NaN</td>\n",
       "      <td>NaN</td>\n",
       "      <td>NaN</td>\n",
       "      <td>NaN</td>\n",
       "      <td>NaN</td>\n",
       "      <td>NaN</td>\n",
       "      <td>NaN</td>\n",
       "      <td>NaN</td>\n",
       "    </tr>\n",
       "    <tr>\n",
       "      <th>2</th>\n",
       "      <td>27</td>\n",
       "      <td>20</td>\n",
       "      <td>2</td>\n",
       "      <td>5</td>\n",
       "      <td>10</td>\n",
       "      <td>2.25</td>\n",
       "      <td>4.5</td>\n",
       "      <td>6.75</td>\n",
       "      <td>False</td>\n",
       "      <td>False</td>\n",
       "      <td>...</td>\n",
       "      <td>NaN</td>\n",
       "      <td>NaN</td>\n",
       "      <td>NaN</td>\n",
       "      <td>NaN</td>\n",
       "      <td>NaN</td>\n",
       "      <td>NaN</td>\n",
       "      <td>NaN</td>\n",
       "      <td>NaN</td>\n",
       "      <td>NaN</td>\n",
       "      <td>NaN</td>\n",
       "    </tr>\n",
       "    <tr>\n",
       "      <th>3</th>\n",
       "      <td>33</td>\n",
       "      <td>20</td>\n",
       "      <td>1</td>\n",
       "      <td>6</td>\n",
       "      <td>10</td>\n",
       "      <td>2.00</td>\n",
       "      <td>6.0</td>\n",
       "      <td>8.00</td>\n",
       "      <td>True</td>\n",
       "      <td>True</td>\n",
       "      <td>...</td>\n",
       "      <td>NaN</td>\n",
       "      <td>NaN</td>\n",
       "      <td>NaN</td>\n",
       "      <td>NaN</td>\n",
       "      <td>NaN</td>\n",
       "      <td>NaN</td>\n",
       "      <td>NaN</td>\n",
       "      <td>NaN</td>\n",
       "      <td>NaN</td>\n",
       "      <td>NaN</td>\n",
       "    </tr>\n",
       "    <tr>\n",
       "      <th>4</th>\n",
       "      <td>26</td>\n",
       "      <td>20</td>\n",
       "      <td>1</td>\n",
       "      <td>4</td>\n",
       "      <td>8</td>\n",
       "      <td>3.00</td>\n",
       "      <td>4.0</td>\n",
       "      <td>7.00</td>\n",
       "      <td>True</td>\n",
       "      <td>False</td>\n",
       "      <td>...</td>\n",
       "      <td>NaN</td>\n",
       "      <td>NaN</td>\n",
       "      <td>NaN</td>\n",
       "      <td>NaN</td>\n",
       "      <td>NaN</td>\n",
       "      <td>NaN</td>\n",
       "      <td>NaN</td>\n",
       "      <td>NaN</td>\n",
       "      <td>NaN</td>\n",
       "      <td>NaN</td>\n",
       "    </tr>\n",
       "    <tr>\n",
       "      <th>...</th>\n",
       "      <td>...</td>\n",
       "      <td>...</td>\n",
       "      <td>...</td>\n",
       "      <td>...</td>\n",
       "      <td>...</td>\n",
       "      <td>...</td>\n",
       "      <td>...</td>\n",
       "      <td>...</td>\n",
       "      <td>...</td>\n",
       "      <td>...</td>\n",
       "      <td>...</td>\n",
       "      <td>...</td>\n",
       "      <td>...</td>\n",
       "      <td>...</td>\n",
       "      <td>...</td>\n",
       "      <td>...</td>\n",
       "      <td>...</td>\n",
       "      <td>...</td>\n",
       "      <td>...</td>\n",
       "      <td>...</td>\n",
       "      <td>...</td>\n",
       "    </tr>\n",
       "    <tr>\n",
       "      <th>995</th>\n",
       "      <td>20</td>\n",
       "      <td>20</td>\n",
       "      <td>1</td>\n",
       "      <td>3</td>\n",
       "      <td>14</td>\n",
       "      <td>0.50</td>\n",
       "      <td>4.5</td>\n",
       "      <td>8.00</td>\n",
       "      <td>True</td>\n",
       "      <td>False</td>\n",
       "      <td>...</td>\n",
       "      <td>NaN</td>\n",
       "      <td>NaN</td>\n",
       "      <td>NaN</td>\n",
       "      <td>NaN</td>\n",
       "      <td>NaN</td>\n",
       "      <td>NaN</td>\n",
       "      <td>NaN</td>\n",
       "      <td>NaN</td>\n",
       "      <td>NaN</td>\n",
       "      <td>NaN</td>\n",
       "    </tr>\n",
       "    <tr>\n",
       "      <th>996</th>\n",
       "      <td>29</td>\n",
       "      <td>20</td>\n",
       "      <td>1</td>\n",
       "      <td>5</td>\n",
       "      <td>8</td>\n",
       "      <td>2.25</td>\n",
       "      <td>4.0</td>\n",
       "      <td>7.00</td>\n",
       "      <td>True</td>\n",
       "      <td>True</td>\n",
       "      <td>...</td>\n",
       "      <td>NaN</td>\n",
       "      <td>NaN</td>\n",
       "      <td>NaN</td>\n",
       "      <td>NaN</td>\n",
       "      <td>NaN</td>\n",
       "      <td>NaN</td>\n",
       "      <td>NaN</td>\n",
       "      <td>NaN</td>\n",
       "      <td>NaN</td>\n",
       "      <td>NaN</td>\n",
       "    </tr>\n",
       "    <tr>\n",
       "      <th>997</th>\n",
       "      <td>27</td>\n",
       "      <td>20</td>\n",
       "      <td>1</td>\n",
       "      <td>7</td>\n",
       "      <td>9</td>\n",
       "      <td>2.00</td>\n",
       "      <td>4.0</td>\n",
       "      <td>5.00</td>\n",
       "      <td>True</td>\n",
       "      <td>True</td>\n",
       "      <td>...</td>\n",
       "      <td>NaN</td>\n",
       "      <td>NaN</td>\n",
       "      <td>NaN</td>\n",
       "      <td>NaN</td>\n",
       "      <td>NaN</td>\n",
       "      <td>NaN</td>\n",
       "      <td>NaN</td>\n",
       "      <td>NaN</td>\n",
       "      <td>NaN</td>\n",
       "      <td>NaN</td>\n",
       "    </tr>\n",
       "    <tr>\n",
       "      <th>998</th>\n",
       "      <td>36</td>\n",
       "      <td>20</td>\n",
       "      <td>1</td>\n",
       "      <td>10</td>\n",
       "      <td>6</td>\n",
       "      <td>3.00</td>\n",
       "      <td>3.5</td>\n",
       "      <td>5.75</td>\n",
       "      <td>True</td>\n",
       "      <td>True</td>\n",
       "      <td>...</td>\n",
       "      <td>NaN</td>\n",
       "      <td>NaN</td>\n",
       "      <td>NaN</td>\n",
       "      <td>NaN</td>\n",
       "      <td>NaN</td>\n",
       "      <td>NaN</td>\n",
       "      <td>NaN</td>\n",
       "      <td>NaN</td>\n",
       "      <td>NaN</td>\n",
       "      <td>NaN</td>\n",
       "    </tr>\n",
       "    <tr>\n",
       "      <th>999</th>\n",
       "      <td>21</td>\n",
       "      <td>20</td>\n",
       "      <td>1</td>\n",
       "      <td>4</td>\n",
       "      <td>9</td>\n",
       "      <td>3.00</td>\n",
       "      <td>5.0</td>\n",
       "      <td>7.75</td>\n",
       "      <td>False</td>\n",
       "      <td>False</td>\n",
       "      <td>...</td>\n",
       "      <td>NaN</td>\n",
       "      <td>NaN</td>\n",
       "      <td>NaN</td>\n",
       "      <td>NaN</td>\n",
       "      <td>NaN</td>\n",
       "      <td>NaN</td>\n",
       "      <td>NaN</td>\n",
       "      <td>NaN</td>\n",
       "      <td>NaN</td>\n",
       "      <td>NaN</td>\n",
       "    </tr>\n",
       "  </tbody>\n",
       "</table>\n",
       "<p>1000 rows × 1010 columns</p>\n",
       "</div>"
      ],
      "text/plain": [
       "     num_edges  num_nodes  min_degree  max_degree  diameter  quartile_1  \\\n",
       "0           24         20           1           5        14        2.25   \n",
       "1           28         20           1           6         9        2.00   \n",
       "2           27         20           2           5        10        2.25   \n",
       "3           33         20           1           6        10        2.00   \n",
       "4           26         20           1           4         8        3.00   \n",
       "..         ...        ...         ...         ...       ...         ...   \n",
       "995         20         20           1           3        14        0.50   \n",
       "996         29         20           1           5         8        2.25   \n",
       "997         27         20           1           7         9        2.00   \n",
       "998         36         20           1          10         6        3.00   \n",
       "999         21         20           1           4         9        3.00   \n",
       "\n",
       "     quartile_2  quartile_3      y  baseline_width  ...  s50_11  s50_12  \\\n",
       "0           4.0        8.00   True           False  ...     NaN     NaN   \n",
       "1           5.5        7.00  False           False  ...     NaN     NaN   \n",
       "2           4.5        6.75  False           False  ...     NaN     NaN   \n",
       "3           6.0        8.00   True            True  ...     NaN     NaN   \n",
       "4           4.0        7.00   True           False  ...     NaN     NaN   \n",
       "..          ...         ...    ...             ...  ...     ...     ...   \n",
       "995         4.5        8.00   True           False  ...     NaN     NaN   \n",
       "996         4.0        7.00   True            True  ...     NaN     NaN   \n",
       "997         4.0        5.00   True            True  ...     NaN     NaN   \n",
       "998         3.5        5.75   True            True  ...     NaN     NaN   \n",
       "999         5.0        7.75  False           False  ...     NaN     NaN   \n",
       "\n",
       "     s50_13  s50_14  s50_15  s50_16  s50_17  s50_18  s50_19  s50_20  \n",
       "0       NaN     NaN     NaN     NaN     NaN     NaN     NaN     NaN  \n",
       "1       NaN     NaN     NaN     NaN     NaN     NaN     NaN     NaN  \n",
       "2       NaN     NaN     NaN     NaN     NaN     NaN     NaN     NaN  \n",
       "3       NaN     NaN     NaN     NaN     NaN     NaN     NaN     NaN  \n",
       "4       NaN     NaN     NaN     NaN     NaN     NaN     NaN     NaN  \n",
       "..      ...     ...     ...     ...     ...     ...     ...     ...  \n",
       "995     NaN     NaN     NaN     NaN     NaN     NaN     NaN     NaN  \n",
       "996     NaN     NaN     NaN     NaN     NaN     NaN     NaN     NaN  \n",
       "997     NaN     NaN     NaN     NaN     NaN     NaN     NaN     NaN  \n",
       "998     NaN     NaN     NaN     NaN     NaN     NaN     NaN     NaN  \n",
       "999     NaN     NaN     NaN     NaN     NaN     NaN     NaN     NaN  \n",
       "\n",
       "[1000 rows x 1010 columns]"
      ]
     },
     "execution_count": 7,
     "metadata": {},
     "output_type": "execute_result"
    }
   ],
   "source": [
    "df = pd.read_csv(\"Caltech_Subgraphs(k=20).csv\")\n",
    "df"
   ]
  },
  {
   "cell_type": "code",
   "execution_count": 8,
   "id": "31fde198",
   "metadata": {},
   "outputs": [
    {
     "data": {
      "text/plain": [
       "True     736\n",
       "False    264\n",
       "Name: y, dtype: int64"
      ]
     },
     "execution_count": 8,
     "metadata": {},
     "output_type": "execute_result"
    }
   ],
   "source": [
    "df.y.value_counts()"
   ]
  },
  {
   "cell_type": "code",
   "execution_count": 9,
   "id": "8f3a4426",
   "metadata": {},
   "outputs": [
    {
     "data": {
      "text/plain": [
       "False    788\n",
       "True     212\n",
       "Name: baseline_width, dtype: int64"
      ]
     },
     "execution_count": 9,
     "metadata": {},
     "output_type": "execute_result"
    }
   ],
   "source": [
    "df.baseline_width.value_counts()"
   ]
  },
  {
   "cell_type": "code",
   "execution_count": 10,
   "id": "76822d0c",
   "metadata": {},
   "outputs": [
    {
     "data": {
      "text/plain": [
       "(1000, 1010)"
      ]
     },
     "execution_count": 10,
     "metadata": {},
     "output_type": "execute_result"
    }
   ],
   "source": [
    "df.shape"
   ]
  },
  {
   "cell_type": "code",
   "execution_count": 11,
   "id": "0333400c",
   "metadata": {},
   "outputs": [
    {
     "data": {
      "text/plain": [
       "(1000, 400)"
      ]
     },
     "execution_count": 11,
     "metadata": {},
     "output_type": "execute_result"
    }
   ],
   "source": [
    "X_adj = X.T\n",
    "X_adj.shape"
   ]
  },
  {
   "cell_type": "markdown",
   "id": "2fac147c",
   "metadata": {},
   "source": [
    "### The dimension of the projected subspace = 2"
   ]
  },
  {
   "cell_type": "code",
   "execution_count": 12,
   "id": "c30d617f",
   "metadata": {},
   "outputs": [
    {
     "data": {
      "text/plain": [
       "(1000, 2)"
      ]
     },
     "execution_count": 12,
     "metadata": {},
     "output_type": "execute_result"
    }
   ],
   "source": [
    "embedding = SpectralEmbedding(n_components=2)\n",
    "X_transformed = embedding.fit_transform(X_adj)\n",
    "X_transformed.shape"
   ]
  },
  {
   "cell_type": "code",
   "execution_count": 13,
   "id": "49e10526",
   "metadata": {},
   "outputs": [
    {
     "data": {
      "text/plain": [
       "(1000,)"
      ]
     },
     "execution_count": 13,
     "metadata": {},
     "output_type": "execute_result"
    }
   ],
   "source": [
    "y = df.y.astype('int')\n",
    "y.shape"
   ]
  },
  {
   "cell_type": "code",
   "execution_count": 14,
   "id": "aff1d0dd",
   "metadata": {},
   "outputs": [],
   "source": [
    "X_resampled, y_resampled = sampler.fit_resample(X_transformed, y)\n",
    "\n",
    "X_train, X_test, y_train, y_test = train_test_split(X_resampled, y_resampled,\n",
    "                                                        test_size = 0.25,\n",
    "                                                        stratify = y_resampled)"
   ]
  },
  {
   "cell_type": "code",
   "execution_count": 15,
   "id": "2c322679",
   "metadata": {},
   "outputs": [
    {
     "data": {
      "image/png": "[encoded data removed]",
      "text/plain": [
       "<Figure size 432x288 with 2 Axes>"
      ]
     },
     "metadata": {
      "needs_background": "light"
     },
     "output_type": "display_data"
    },
    {
     "name": "stdout",
     "output_type": "stream",
     "text": [
      "Precision: 0.556\n",
      "Recall: 0.606\n",
      "F1: 0.580\n",
      "Accuracy: 0.561\n"
     ]
    }
   ],
   "source": [
    "clf = rf(max_depth=5, max_features=\"log2\")\n",
    "clf.fit(X_train, y_train)\n",
    "y_pred = clf.predict(X_test)\n",
    "model_metrics(clf, y_test, y_pred)"
   ]
  },
  {
   "cell_type": "markdown",
   "id": "741d0639",
   "metadata": {},
   "source": [
    "### The dimension of the projected subspace = 10"
   ]
  },
  {
   "cell_type": "code",
   "execution_count": 16,
   "id": "7b4d4ac9",
   "metadata": {},
   "outputs": [
    {
     "data": {
      "text/plain": [
       "(1000, 10)"
      ]
     },
     "execution_count": 16,
     "metadata": {},
     "output_type": "execute_result"
    }
   ],
   "source": [
    "embedding = SpectralEmbedding(n_components=10)\n",
    "X_transformed2 = embedding.fit_transform(X_adj)\n",
    "X_transformed2.shape"
   ]
  },
  {
   "cell_type": "code",
   "execution_count": 17,
   "id": "c0c643c0",
   "metadata": {},
   "outputs": [],
   "source": [
    "X_resampled, y_resampled = sampler.fit_resample(X_transformed2, y)\n",
    "\n",
    "X_train, X_test, y_train, y_test = train_test_split(X_resampled, y_resampled,\n",
    "                                                        test_size = 0.25,\n",
    "                                                        stratify = y_resampled)"
   ]
  },
  {
   "cell_type": "code",
   "execution_count": 18,
   "id": "9d450eec",
   "metadata": {},
   "outputs": [
    {
     "data": {
      "image/png": "[encoded data removed]",
      "text/plain": [
       "<Figure size 432x288 with 2 Axes>"
      ]
     },
     "metadata": {
      "needs_background": "light"
     },
     "output_type": "display_data"
    },
    {
     "name": "stdout",
     "output_type": "stream",
     "text": [
      "Precision: 0.564\n",
      "Recall: 0.470\n",
      "F1: 0.512\n",
      "Accuracy: 0.553\n"
     ]
    }
   ],
   "source": [
    "clf = rf(max_depth=5, max_features=\"log2\")\n",
    "clf.fit(X_train, y_train)\n",
    "y_pred = clf.predict(X_test)\n",
    "model_metrics(clf, y_test, y_pred)"
   ]
  },
  {
   "cell_type": "markdown",
   "id": "618fde55",
   "metadata": {},
   "source": [
    "### The dimension of the projected subspace = 100"
   ]
  },
  {
   "cell_type": "code",
   "execution_count": 19,
   "id": "597b1d44",
   "metadata": {},
   "outputs": [
    {
     "data": {
      "text/plain": [
       "(1000, 100)"
      ]
     },
     "execution_count": 19,
     "metadata": {},
     "output_type": "execute_result"
    }
   ],
   "source": [
    "embedding = SpectralEmbedding(n_components=100)\n",
    "X_transformed3 = embedding.fit_transform(X_adj)\n",
    "X_transformed3.shape"
   ]
  },
  {
   "cell_type": "code",
   "execution_count": 20,
   "id": "255a4128",
   "metadata": {},
   "outputs": [],
   "source": [
    "X_resampled, y_resampled = sampler.fit_resample(X_transformed3, y)\n",
    "    \n",
    "X_train, X_test, y_train, y_test = train_test_split(X_resampled, y_resampled,\n",
    "                                                        test_size = 0.25,\n",
    "                                                        stratify = y_resampled)"
   ]
  },
  {
   "cell_type": "code",
   "execution_count": 21,
   "id": "a6e18af1",
   "metadata": {},
   "outputs": [
    {
     "data": {
      "image/png": "[encoded data removed]",
      "text/plain": [
       "<Figure size 432x288 with 2 Axes>"
      ]
     },
     "metadata": {
      "needs_background": "light"
     },
     "output_type": "display_data"
    },
    {
     "name": "stdout",
     "output_type": "stream",
     "text": [
      "Precision: 0.597\n",
      "Recall: 0.606\n",
      "F1: 0.602\n",
      "Accuracy: 0.598\n"
     ]
    }
   ],
   "source": [
    "clf = rf(max_depth=5, max_features=\"log2\")\n",
    "clf.fit(X_train, y_train)\n",
    "y_pred = clf.predict(X_test)\n",
    "model_metrics(clf, y_test, y_pred)"
   ]
  },
  {
   "cell_type": "markdown",
   "id": "a8e6f802",
   "metadata": {},
   "source": []
  },
  {
   "cell_type": "code",
   "execution_count": 22,
   "id": "1c733bee",
   "metadata": {},
   "outputs": [],
   "source": [
    "graph_list = []\n",
    "for i in range(1000):\n",
    "    G=nx.from_pandas_adjacency(pd.DataFrame(X[:,i].reshape(20, -1)))\n",
    "    G=nx.Graph(G)\n",
    "    graph_list.append(G)"
   ]
  },
  {
   "cell_type": "code",
   "execution_count": 23,
   "id": "a9b474c8",
   "metadata": {},
   "outputs": [
    {
     "data": {
      "text/plain": [
       "1000"
      ]
     },
     "execution_count": 23,
     "metadata": {},
     "output_type": "execute_result"
    }
   ],
   "source": [
    "len(graph_list)"
   ]
  },
  {
   "cell_type": "markdown",
   "id": "185d4dee",
   "metadata": {},
   "source": [
    "### node2vec"
   ]
  },
  {
   "cell_type": "code",
   "execution_count": 24,
   "id": "3ae2d9ac",
   "metadata": {},
   "outputs": [],
   "source": [
    "def n2v_embedding(graph_list):\n",
    "\n",
    "    df_n2v = pd.DataFrame()\n",
    "\n",
    "    for graph in graph_list:        \n",
    "        n2v = Node2Vec(dimensions = 1)\n",
    "        n2v.fit(graph)\n",
    "        embed = n2v.get_embedding()\n",
    "        df_embed = pd.DataFrame(embed.T)\n",
    "        df_n2v = pd.concat([df_n2v, df_embed], ignore_index=True, axis=0)\n",
    "        \n",
    "    return df_n2v\n"
   ]
  },
  {
   "cell_type": "code",
   "execution_count": 25,
   "id": "2339330b",
   "metadata": {
    "scrolled": true
   },
   "outputs": [
    {
     "ename": "KeyboardInterrupt",
     "evalue": "",
     "output_type": "error",
     "traceback": [
      "\u001b[0;31m---------------------------------------------------------------------------\u001b[0m",
      "\u001b[0;31mKeyboardInterrupt\u001b[0m                         Traceback (most recent call last)",
      "\u001b[0;32m/var/folders/9r/2gx8_pxn3r90xfxb1d4km5fh0000gn/T/ipykernel_85876/2977420932.py\u001b[0m in \u001b[0;36m<module>\u001b[0;34m\u001b[0m\n\u001b[0;32m----> 1\u001b[0;31m \u001b[0mdf_n2v\u001b[0m \u001b[0;34m=\u001b[0m \u001b[0mn2v_embedding\u001b[0m\u001b[0;34m(\u001b[0m\u001b[0mgraph_list\u001b[0m\u001b[0;34m)\u001b[0m\u001b[0;34m\u001b[0m\u001b[0;34m\u001b[0m\u001b[0m\n\u001b[0m",
      "\u001b[0;32m/var/folders/9r/2gx8_pxn3r90xfxb1d4km5fh0000gn/T/ipykernel_85876/556904461.py\u001b[0m in \u001b[0;36mn2v_embedding\u001b[0;34m(graph_list)\u001b[0m\n\u001b[1;32m      5\u001b[0m     \u001b[0;32mfor\u001b[0m \u001b[0mgraph\u001b[0m \u001b[0;32min\u001b[0m \u001b[0mgraph_list\u001b[0m\u001b[0;34m:\u001b[0m\u001b[0;34m\u001b[0m\u001b[0;34m\u001b[0m\u001b[0m\n\u001b[1;32m      6\u001b[0m         \u001b[0mn2v\u001b[0m \u001b[0;34m=\u001b[0m \u001b[0mNode2Vec\u001b[0m\u001b[0;34m(\u001b[0m\u001b[0mdimensions\u001b[0m \u001b[0;34m=\u001b[0m \u001b[0;36m1\u001b[0m\u001b[0;34m)\u001b[0m\u001b[0;34m\u001b[0m\u001b[0;34m\u001b[0m\u001b[0m\n\u001b[0;32m----> 7\u001b[0;31m         \u001b[0mn2v\u001b[0m\u001b[0;34m.\u001b[0m\u001b[0mfit\u001b[0m\u001b[0;34m(\u001b[0m\u001b[0mgraph\u001b[0m\u001b[0;34m)\u001b[0m\u001b[0;34m\u001b[0m\u001b[0;34m\u001b[0m\u001b[0m\n\u001b[0m\u001b[1;32m      8\u001b[0m         \u001b[0membed\u001b[0m \u001b[0;34m=\u001b[0m \u001b[0mn2v\u001b[0m\u001b[0;34m.\u001b[0m\u001b[0mget_embedding\u001b[0m\u001b[0;34m(\u001b[0m\u001b[0;34m)\u001b[0m\u001b[0;34m\u001b[0m\u001b[0;34m\u001b[0m\u001b[0m\n\u001b[1;32m      9\u001b[0m         \u001b[0mdf_embed\u001b[0m \u001b[0;34m=\u001b[0m \u001b[0mpd\u001b[0m\u001b[0;34m.\u001b[0m\u001b[0mDataFrame\u001b[0m\u001b[0;34m(\u001b[0m\u001b[0membed\u001b[0m\u001b[0;34m.\u001b[0m\u001b[0mT\u001b[0m\u001b[0;34m)\u001b[0m\u001b[0;34m\u001b[0m\u001b[0;34m\u001b[0m\u001b[0m\n",
      "\u001b[0;32m~/opt/anaconda3/lib/python3.9/site-packages/karateclub/node_embedding/neighbourhood/node2vec.py\u001b[0m in \u001b[0;36mfit\u001b[0;34m(self, graph)\u001b[0m\n\u001b[1;32m     69\u001b[0m         \u001b[0mgraph\u001b[0m \u001b[0;34m=\u001b[0m \u001b[0mself\u001b[0m\u001b[0;34m.\u001b[0m\u001b[0m_check_graph\u001b[0m\u001b[0;34m(\u001b[0m\u001b[0mgraph\u001b[0m\u001b[0;34m)\u001b[0m\u001b[0;34m\u001b[0m\u001b[0;34m\u001b[0m\u001b[0m\n\u001b[1;32m     70\u001b[0m         \u001b[0mwalker\u001b[0m \u001b[0;34m=\u001b[0m \u001b[0mBiasedRandomWalker\u001b[0m\u001b[0;34m(\u001b[0m\u001b[0mself\u001b[0m\u001b[0;34m.\u001b[0m\u001b[0mwalk_length\u001b[0m\u001b[0;34m,\u001b[0m \u001b[0mself\u001b[0m\u001b[0;34m.\u001b[0m\u001b[0mwalk_number\u001b[0m\u001b[0;34m,\u001b[0m \u001b[0mself\u001b[0m\u001b[0;34m.\u001b[0m\u001b[0mp\u001b[0m\u001b[0;34m,\u001b[0m \u001b[0mself\u001b[0m\u001b[0;34m.\u001b[0m\u001b[0mq\u001b[0m\u001b[0;34m)\u001b[0m\u001b[0;34m\u001b[0m\u001b[0;34m\u001b[0m\u001b[0m\n\u001b[0;32m---> 71\u001b[0;31m         \u001b[0mwalker\u001b[0m\u001b[0;34m.\u001b[0m\u001b[0mdo_walks\u001b[0m\u001b[0;34m(\u001b[0m\u001b[0mgraph\u001b[0m\u001b[0;34m)\u001b[0m\u001b[0;34m\u001b[0m\u001b[0;34m\u001b[0m\u001b[0m\n\u001b[0m\u001b[1;32m     72\u001b[0m \u001b[0;34m\u001b[0m\u001b[0m\n\u001b[1;32m     73\u001b[0m         model = Word2Vec(\n",
      "\u001b[0;32m~/opt/anaconda3/lib/python3.9/site-packages/karateclub/utils/walker.py\u001b[0m in \u001b[0;36mdo_walks\u001b[0;34m(self, graph)\u001b[0m\n\u001b[1;32m    179\u001b[0m         \u001b[0;32mfor\u001b[0m \u001b[0mnode\u001b[0m \u001b[0;32min\u001b[0m \u001b[0mself\u001b[0m\u001b[0;34m.\u001b[0m\u001b[0mgraph\u001b[0m\u001b[0;34m.\u001b[0m\u001b[0mnodes\u001b[0m\u001b[0;34m(\u001b[0m\u001b[0;34m)\u001b[0m\u001b[0;34m:\u001b[0m\u001b[0;34m\u001b[0m\u001b[0;34m\u001b[0m\u001b[0m\n\u001b[1;32m    180\u001b[0m             \u001b[0;32mfor\u001b[0m \u001b[0m_\u001b[0m \u001b[0;32min\u001b[0m \u001b[0mrange\u001b[0m\u001b[0;34m(\u001b[0m\u001b[0mself\u001b[0m\u001b[0;34m.\u001b[0m\u001b[0mwalk_number\u001b[0m\u001b[0;34m)\u001b[0m\u001b[0;34m:\u001b[0m\u001b[0;34m\u001b[0m\u001b[0;34m\u001b[0m\u001b[0m\n\u001b[0;32m--> 181\u001b[0;31m                 \u001b[0mwalk_from_node\u001b[0m \u001b[0;34m=\u001b[0m \u001b[0mself\u001b[0m\u001b[0;34m.\u001b[0m\u001b[0mdo_walk\u001b[0m\u001b[0;34m(\u001b[0m\u001b[0mnode\u001b[0m\u001b[0;34m)\u001b[0m\u001b[0;34m\u001b[0m\u001b[0;34m\u001b[0m\u001b[0m\n\u001b[0m\u001b[1;32m    182\u001b[0m                 \u001b[0mself\u001b[0m\u001b[0;34m.\u001b[0m\u001b[0mwalks\u001b[0m\u001b[0;34m.\u001b[0m\u001b[0mappend\u001b[0m\u001b[0;34m(\u001b[0m\u001b[0mwalk_from_node\u001b[0m\u001b[0;34m)\u001b[0m\u001b[0;34m\u001b[0m\u001b[0;34m\u001b[0m\u001b[0m\n",
      "\u001b[0;32m~/opt/anaconda3/lib/python3.9/site-packages/karateclub/utils/walker.py\u001b[0m in \u001b[0;36mdo_walk\u001b[0;34m(self, node)\u001b[0m\n\u001b[1;32m    142\u001b[0m             \u001b[0mcurrent_node_neighbors\u001b[0m \u001b[0;34m=\u001b[0m \u001b[0mnp\u001b[0m\u001b[0;34m.\u001b[0m\u001b[0marray\u001b[0m\u001b[0;34m(\u001b[0m\u001b[0;34m[\u001b[0m\u001b[0medge\u001b[0m\u001b[0;34m[\u001b[0m\u001b[0;36m1\u001b[0m\u001b[0;34m]\u001b[0m \u001b[0;32mfor\u001b[0m \u001b[0medge\u001b[0m \u001b[0;32min\u001b[0m \u001b[0medges\u001b[0m\u001b[0;34m]\u001b[0m\u001b[0;34m)\u001b[0m\u001b[0;34m\u001b[0m\u001b[0;34m\u001b[0m\u001b[0m\n\u001b[1;32m    143\u001b[0m \u001b[0;34m\u001b[0m\u001b[0m\n\u001b[0;32m--> 144\u001b[0;31m             \u001b[0mweights\u001b[0m \u001b[0;34m=\u001b[0m \u001b[0mself\u001b[0m\u001b[0;34m.\u001b[0m\u001b[0mweight_fn\u001b[0m\u001b[0;34m(\u001b[0m\u001b[0medges\u001b[0m\u001b[0;34m)\u001b[0m\u001b[0;34m\u001b[0m\u001b[0;34m\u001b[0m\u001b[0m\n\u001b[0m\u001b[1;32m    145\u001b[0m             probability = np.piecewise(\n\u001b[1;32m    146\u001b[0m                 \u001b[0mweights\u001b[0m\u001b[0;34m,\u001b[0m\u001b[0;34m\u001b[0m\u001b[0;34m\u001b[0m\u001b[0m\n",
      "\u001b[0;32m~/opt/anaconda3/lib/python3.9/site-packages/karateclub/utils/walker.py\u001b[0m in \u001b[0;36m_unweighted\u001b[0;34m(edges)\u001b[0m\n\u001b[1;32m     83\u001b[0m \u001b[0;34m\u001b[0m\u001b[0m\n\u001b[1;32m     84\u001b[0m \u001b[0;32mdef\u001b[0m \u001b[0m_unweighted\u001b[0m\u001b[0;34m(\u001b[0m\u001b[0medges\u001b[0m\u001b[0;34m:\u001b[0m \u001b[0mList\u001b[0m\u001b[0;34m[\u001b[0m\u001b[0mtuple\u001b[0m\u001b[0;34m]\u001b[0m\u001b[0;34m)\u001b[0m \u001b[0;34m->\u001b[0m \u001b[0mnp\u001b[0m\u001b[0;34m.\u001b[0m\u001b[0mndarray\u001b[0m\u001b[0;34m:\u001b[0m\u001b[0;34m\u001b[0m\u001b[0;34m\u001b[0m\u001b[0m\n\u001b[0;32m---> 85\u001b[0;31m     \u001b[0;32mreturn\u001b[0m \u001b[0mnp\u001b[0m\u001b[0;34m.\u001b[0m\u001b[0mones\u001b[0m\u001b[0;34m(\u001b[0m\u001b[0mlen\u001b[0m\u001b[0;34m(\u001b[0m\u001b[0medges\u001b[0m\u001b[0;34m)\u001b[0m\u001b[0;34m)\u001b[0m\u001b[0;34m\u001b[0m\u001b[0;34m\u001b[0m\u001b[0m\n\u001b[0m\u001b[1;32m     86\u001b[0m \u001b[0;34m\u001b[0m\u001b[0m\n\u001b[1;32m     87\u001b[0m \u001b[0;34m\u001b[0m\u001b[0m\n",
      "\u001b[0;32m~/opt/anaconda3/lib/python3.9/site-packages/networkx/classes/reportviews.py\u001b[0m in \u001b[0;36m__len__\u001b[0;34m(self)\u001b[0m\n\u001b[1;32m    779\u001b[0m \u001b[0;34m\u001b[0m\u001b[0m\n\u001b[1;32m    780\u001b[0m     \u001b[0;32mdef\u001b[0m \u001b[0m__len__\u001b[0m\u001b[0;34m(\u001b[0m\u001b[0mself\u001b[0m\u001b[0;34m)\u001b[0m\u001b[0;34m:\u001b[0m\u001b[0;34m\u001b[0m\u001b[0;34m\u001b[0m\u001b[0m\n\u001b[0;32m--> 781\u001b[0;31m         \u001b[0;32mreturn\u001b[0m \u001b[0msum\u001b[0m\u001b[0;34m(\u001b[0m\u001b[0;36m1\u001b[0m \u001b[0;32mfor\u001b[0m \u001b[0me\u001b[0m \u001b[0;32min\u001b[0m \u001b[0mself\u001b[0m\u001b[0;34m)\u001b[0m\u001b[0;34m\u001b[0m\u001b[0;34m\u001b[0m\u001b[0m\n\u001b[0m\u001b[1;32m    782\u001b[0m \u001b[0;34m\u001b[0m\u001b[0m\n\u001b[1;32m    783\u001b[0m     \u001b[0;32mdef\u001b[0m \u001b[0m__iter__\u001b[0m\u001b[0;34m(\u001b[0m\u001b[0mself\u001b[0m\u001b[0;34m)\u001b[0m\u001b[0;34m:\u001b[0m\u001b[0;34m\u001b[0m\u001b[0;34m\u001b[0m\u001b[0m\n",
      "\u001b[0;32m~/opt/anaconda3/lib/python3.9/site-packages/networkx/classes/reportviews.py\u001b[0m in \u001b[0;36m<genexpr>\u001b[0;34m(.0)\u001b[0m\n\u001b[1;32m    779\u001b[0m \u001b[0;34m\u001b[0m\u001b[0m\n\u001b[1;32m    780\u001b[0m     \u001b[0;32mdef\u001b[0m \u001b[0m__len__\u001b[0m\u001b[0;34m(\u001b[0m\u001b[0mself\u001b[0m\u001b[0;34m)\u001b[0m\u001b[0;34m:\u001b[0m\u001b[0;34m\u001b[0m\u001b[0;34m\u001b[0m\u001b[0m\n\u001b[0;32m--> 781\u001b[0;31m         \u001b[0;32mreturn\u001b[0m \u001b[0msum\u001b[0m\u001b[0;34m(\u001b[0m\u001b[0;36m1\u001b[0m \u001b[0;32mfor\u001b[0m \u001b[0me\u001b[0m \u001b[0;32min\u001b[0m \u001b[0mself\u001b[0m\u001b[0;34m)\u001b[0m\u001b[0;34m\u001b[0m\u001b[0;34m\u001b[0m\u001b[0m\n\u001b[0m\u001b[1;32m    782\u001b[0m \u001b[0;34m\u001b[0m\u001b[0m\n\u001b[1;32m    783\u001b[0m     \u001b[0;32mdef\u001b[0m \u001b[0m__iter__\u001b[0m\u001b[0;34m(\u001b[0m\u001b[0mself\u001b[0m\u001b[0;34m)\u001b[0m\u001b[0;34m:\u001b[0m\u001b[0;34m\u001b[0m\u001b[0;34m\u001b[0m\u001b[0m\n",
      "\u001b[0;31mKeyboardInterrupt\u001b[0m: "
     ]
    }
   ],
   "source": [
    "df_n2v = n2v_embedding(graph_list)"
   ]
  },
  {
   "cell_type": "code",
   "execution_count": null,
   "id": "e3d405d7",
   "metadata": {},
   "outputs": [],
   "source": [
    "df_n2v.shape"
   ]
  },
  {
   "cell_type": "code",
   "execution_count": null,
   "id": "3824ca2c",
   "metadata": {},
   "outputs": [],
   "source": [
    "X_resampled, y_resampled = sampler.fit_resample(df_n2v, y)\n",
    "\n",
    "X_train, X_test, y_train, y_test = train_test_split(X_resampled, y_resampled,\n",
    "                                                        test_size = 0.25,\n",
    "                                                        stratify = y_resampled)\n",
    "\n",
    "\n",
    "clf = rf(max_depth=5, max_features=\"log2\")\n",
    "clf.fit(X_train, y_train)\n",
    "y_pred = clf.predict(X_test)\n",
    "model_metrics(clf, y_test, y_pred)"
   ]
  },
  {
   "cell_type": "markdown",
   "id": "c0bd762d",
   "metadata": {},
   "source": [
    "### graph2vec"
   ]
  },
  {
   "cell_type": "code",
   "execution_count": 29,
   "id": "6c403c82",
   "metadata": {},
   "outputs": [],
   "source": [
    "g2v = Graph2Vec(wl_iterations = 5, dimensions = 20)\n",
    "g2v.fit(graph_list)\n",
    "embed = g2v.get_embedding()\n",
    "df_g2v = pd.DataFrame(embed)"
   ]
  },
  {
   "cell_type": "code",
   "execution_count": 30,
   "id": "4ef5b0db",
   "metadata": {},
   "outputs": [
    {
     "data": {
      "image/png": "[encoded data removed]",
      "text/plain": [
       "<Figure size 432x288 with 2 Axes>"
      ]
     },
     "metadata": {
      "needs_background": "light"
     },
     "output_type": "display_data"
    },
    {
     "name": "stdout",
     "output_type": "stream",
     "text": [
      "Precision: 0.515\n",
      "Recall: 0.515\n",
      "F1: 0.515\n",
      "Accuracy: 0.515\n"
     ]
    }
   ],
   "source": [
    "X_resampled, y_resampled = sampler.fit_resample(df_g2v, y)\n",
    "\n",
    "X_train, X_test, y_train, y_test = train_test_split(X_resampled, y_resampled,\n",
    "                                                        test_size = 0.25,\n",
    "                                                        stratify = y_resampled)\n",
    "\n",
    "\n",
    "clf = rf(max_depth=5, max_features=\"log2\")\n",
    "clf.fit(X_train, y_train)\n",
    "y_pred = clf.predict(X_test)\n",
    "model_metrics(clf, y_test, y_pred)"
   ]
  },
  {
   "cell_type": "markdown",
   "id": "148b5d61",
   "metadata": {},
   "source": [
    "### Simply input the Adjacency Matrix"
   ]
  },
  {
   "cell_type": "code",
   "execution_count": 31,
   "id": "c4a5c00d",
   "metadata": {},
   "outputs": [
    {
     "data": {
      "image/png": "[encoded data removed]",
      "text/plain": [
       "<Figure size 432x288 with 2 Axes>"
      ]
     },
     "metadata": {
      "needs_background": "light"
     },
     "output_type": "display_data"
    },
    {
     "name": "stdout",
     "output_type": "stream",
     "text": [
      "Precision: 0.576\n",
      "Recall: 0.576\n",
      "F1: 0.576\n",
      "Accuracy: 0.576\n"
     ]
    }
   ],
   "source": [
    "X_resampled, y_resampled = sampler.fit_resample(X_adj, y)\n",
    "\n",
    "X_train, X_test, y_train, y_test = train_test_split(X_resampled, y_resampled,\n",
    "                                                        test_size = 0.25,\n",
    "                                                        stratify = y_resampled)\n",
    "\n",
    "\n",
    "clf = rf(max_depth=5, max_features=\"log2\")\n",
    "clf.fit(X_train, y_train)\n",
    "y_pred = clf.predict(X_test)\n",
    "model_metrics(clf, y_test, y_pred)"
   ]
  },
  {
   "cell_type": "code",
   "execution_count": null,
   "id": "93f60193",
   "metadata": {},
   "outputs": [],
   "source": []
  },
  {
   "cell_type": "code",
   "execution_count": null,
   "id": "961bd881",
   "metadata": {},
   "outputs": [],
   "source": []
  },
  {
   "cell_type": "code",
   "execution_count": null,
   "id": "cb8e7382",
   "metadata": {},
   "outputs": [],
   "source": []
  },
  {
   "cell_type": "code",
   "execution_count": null,
   "id": "21750105",
   "metadata": {},
   "outputs": [],
   "source": []
  },
  {
   "cell_type": "markdown",
   "id": "de8cda03",
   "metadata": {},
   "source": [
    "# Graph Generation by using newman_watts_strogatz_graph"
   ]
  },
  {
   "cell_type": "code",
   "execution_count": 58,
   "id": "e7f62882",
   "metadata": {},
   "outputs": [],
   "source": [
    "# FCA_iter: total iteration for the FCA model, used for label\n",
    "# baseline_iter: the iteration for baseline model, usually less than FCA_iter\n",
    "# iter_include: number of iteration to include in the dataframe\n",
    "# X: a list of graph structure (for each graph, length = k^2 if num_nodes=k)\n",
    "# num_edges, num_nodes, min_degree, max_degree, diameter, quartile_1, quartile_2, quartile_3, states, y, baseline_width\n",
    "def FCA_NWS(num_nodes, num_samples, max_neighbors, kappa, FCA_iter, baseline_iter, iter_include, file_name):\n",
    "    # generate the toy dataset\n",
    "    file = open(file_name, 'w+', newline='')\n",
    "\n",
    "    probability = random.uniform(0, 1)\n",
    "    graph_list = []\n",
    "    \n",
    "    header = [\"num_edges\", \"num_nodes\", \"min_degree\", \"max_degree\", \"diameter\", \"quartile_1\",\n",
    "              \"quartile_2\", \"quartile_3\", \"y\", \"baseline_width\"]\n",
    "    for i in range(baseline_iter):\n",
    "        for j in range(num_nodes):\n",
    "            header.append(\"s\" + str(i + 1) + \"_\" + str(j + 1))\n",
    "\n",
    "    with file:\n",
    "        write = csv.writer(file)\n",
    "\n",
    "        write.writerow(header)\n",
    "        for i in range(num_samples): \n",
    "            neighbors = int(random.uniform(1, max_neighbors))\n",
    "            G = nx.newman_watts_strogatz_graph(num_nodes, neighbors, probability)\n",
    "            G=nx.Graph(G)\n",
    "            \n",
    "            if nx.is_connected(G):\n",
    "                \n",
    "                graph_list.append(G)\n",
    "            \n",
    "                col = np.random.randint(0,kappa,size=num_nodes)\n",
    "\n",
    "                num_edges = G.number_of_edges()\n",
    "                min_degree = min(list(G.degree), key=lambda x: x[1])[1]\n",
    "                max_degree = max(list(G.degree), key=lambda x: x[1])[1]\n",
    "                diameter = nx.diameter(G)\n",
    "                quartile_1 = s.quantiles(col, n=4)[0]\n",
    "                quartile_2 = s.quantiles(col, n=4)[1]\n",
    "                quartile_3 = s.quantiles(col, n=4)[2]\n",
    "\n",
    "                sample = [num_edges, num_nodes, min_degree, max_degree, diameter,\n",
    "                          quartile_1, quartile_2, quartile_3]\n",
    "                states, label = FCA.FCA(G, col, kappa, FCA_iter)\n",
    "\n",
    "                width = FCA.width_compute(states[FCA_iter - 1], kappa)\n",
    "                y = False\n",
    "                if (width < floor(kappa / 2)):  # half circle concentration\n",
    "                    y = True\n",
    "                sample.append(y)\n",
    "\n",
    "                baseline_width = FCA.width_compute(states[baseline_iter - 1], kappa)\n",
    "                baseline = False\n",
    "                if (baseline_width < floor(kappa / 2)):  # half circle concentration\n",
    "                    baseline = True\n",
    "                sample.append(baseline)\n",
    "\n",
    "                for j in range(iter_include):\n",
    "                    sample = sample + list(states[j])\n",
    "\n",
    "                write.writerow(sample)\n",
    "    return graph_list"
   ]
  },
  {
   "cell_type": "markdown",
   "id": "6454873c",
   "metadata": {},
   "source": [
    "## Max_Neighbors = 5, num_sample = 10,000"
   ]
  },
  {
   "cell_type": "code",
   "execution_count": 59,
   "id": "1d9d0322",
   "metadata": {},
   "outputs": [],
   "source": [
    "num_nodes = 20\n",
    "num_samples = 10000\n",
    "max_neighbors = 5\n",
    "kappa = 10\n",
    "FCA_iter = 200\n",
    "baseline_iter = 50\n",
    "iter_include = 5\n",
    "file_name = \"max_neighbors=5.csv\"\n",
    "new_graph_list = FCA_NWS(num_nodes, num_samples, max_neighbors, kappa, FCA_iter, baseline_iter, iter_include, file_name)"
   ]
  },
  {
   "cell_type": "code",
   "execution_count": 60,
   "id": "babf90ac",
   "metadata": {},
   "outputs": [
    {
     "data": {
      "text/html": [
       "<div>\n",
       "<style scoped>\n",
       "    .dataframe tbody tr th:only-of-type {\n",
       "        vertical-align: middle;\n",
       "    }\n",
       "\n",
       "    .dataframe tbody tr th {\n",
       "        vertical-align: top;\n",
       "    }\n",
       "\n",
       "    .dataframe thead th {\n",
       "        text-align: right;\n",
       "    }\n",
       "</style>\n",
       "<table border=\"1\" class=\"dataframe\">\n",
       "  <thead>\n",
       "    <tr style=\"text-align: right;\">\n",
       "      <th></th>\n",
       "      <th>num_edges</th>\n",
       "      <th>num_nodes</th>\n",
       "      <th>min_degree</th>\n",
       "      <th>max_degree</th>\n",
       "      <th>diameter</th>\n",
       "      <th>quartile_1</th>\n",
       "      <th>quartile_2</th>\n",
       "      <th>quartile_3</th>\n",
       "      <th>y</th>\n",
       "      <th>baseline_width</th>\n",
       "      <th>...</th>\n",
       "      <th>s50_11</th>\n",
       "      <th>s50_12</th>\n",
       "      <th>s50_13</th>\n",
       "      <th>s50_14</th>\n",
       "      <th>s50_15</th>\n",
       "      <th>s50_16</th>\n",
       "      <th>s50_17</th>\n",
       "      <th>s50_18</th>\n",
       "      <th>s50_19</th>\n",
       "      <th>s50_20</th>\n",
       "    </tr>\n",
       "  </thead>\n",
       "  <tbody>\n",
       "    <tr>\n",
       "      <th>0</th>\n",
       "      <td>35</td>\n",
       "      <td>20</td>\n",
       "      <td>2</td>\n",
       "      <td>6</td>\n",
       "      <td>4</td>\n",
       "      <td>0.25</td>\n",
       "      <td>2.5</td>\n",
       "      <td>4.00</td>\n",
       "      <td>True</td>\n",
       "      <td>True</td>\n",
       "      <td>...</td>\n",
       "      <td>NaN</td>\n",
       "      <td>NaN</td>\n",
       "      <td>NaN</td>\n",
       "      <td>NaN</td>\n",
       "      <td>NaN</td>\n",
       "      <td>NaN</td>\n",
       "      <td>NaN</td>\n",
       "      <td>NaN</td>\n",
       "      <td>NaN</td>\n",
       "      <td>NaN</td>\n",
       "    </tr>\n",
       "    <tr>\n",
       "      <th>1</th>\n",
       "      <td>31</td>\n",
       "      <td>20</td>\n",
       "      <td>2</td>\n",
       "      <td>5</td>\n",
       "      <td>6</td>\n",
       "      <td>1.00</td>\n",
       "      <td>3.0</td>\n",
       "      <td>7.00</td>\n",
       "      <td>True</td>\n",
       "      <td>False</td>\n",
       "      <td>...</td>\n",
       "      <td>NaN</td>\n",
       "      <td>NaN</td>\n",
       "      <td>NaN</td>\n",
       "      <td>NaN</td>\n",
       "      <td>NaN</td>\n",
       "      <td>NaN</td>\n",
       "      <td>NaN</td>\n",
       "      <td>NaN</td>\n",
       "      <td>NaN</td>\n",
       "      <td>NaN</td>\n",
       "    </tr>\n",
       "    <tr>\n",
       "      <th>2</th>\n",
       "      <td>69</td>\n",
       "      <td>20</td>\n",
       "      <td>4</td>\n",
       "      <td>10</td>\n",
       "      <td>3</td>\n",
       "      <td>3.00</td>\n",
       "      <td>5.0</td>\n",
       "      <td>6.75</td>\n",
       "      <td>True</td>\n",
       "      <td>True</td>\n",
       "      <td>...</td>\n",
       "      <td>NaN</td>\n",
       "      <td>NaN</td>\n",
       "      <td>NaN</td>\n",
       "      <td>NaN</td>\n",
       "      <td>NaN</td>\n",
       "      <td>NaN</td>\n",
       "      <td>NaN</td>\n",
       "      <td>NaN</td>\n",
       "      <td>NaN</td>\n",
       "      <td>NaN</td>\n",
       "    </tr>\n",
       "    <tr>\n",
       "      <th>3</th>\n",
       "      <td>64</td>\n",
       "      <td>20</td>\n",
       "      <td>4</td>\n",
       "      <td>10</td>\n",
       "      <td>3</td>\n",
       "      <td>2.00</td>\n",
       "      <td>3.5</td>\n",
       "      <td>8.00</td>\n",
       "      <td>True</td>\n",
       "      <td>True</td>\n",
       "      <td>...</td>\n",
       "      <td>NaN</td>\n",
       "      <td>NaN</td>\n",
       "      <td>NaN</td>\n",
       "      <td>NaN</td>\n",
       "      <td>NaN</td>\n",
       "      <td>NaN</td>\n",
       "      <td>NaN</td>\n",
       "      <td>NaN</td>\n",
       "      <td>NaN</td>\n",
       "      <td>NaN</td>\n",
       "    </tr>\n",
       "    <tr>\n",
       "      <th>4</th>\n",
       "      <td>33</td>\n",
       "      <td>20</td>\n",
       "      <td>2</td>\n",
       "      <td>4</td>\n",
       "      <td>4</td>\n",
       "      <td>2.00</td>\n",
       "      <td>5.0</td>\n",
       "      <td>5.00</td>\n",
       "      <td>False</td>\n",
       "      <td>False</td>\n",
       "      <td>...</td>\n",
       "      <td>NaN</td>\n",
       "      <td>NaN</td>\n",
       "      <td>NaN</td>\n",
       "      <td>NaN</td>\n",
       "      <td>NaN</td>\n",
       "      <td>NaN</td>\n",
       "      <td>NaN</td>\n",
       "      <td>NaN</td>\n",
       "      <td>NaN</td>\n",
       "      <td>NaN</td>\n",
       "    </tr>\n",
       "    <tr>\n",
       "      <th>...</th>\n",
       "      <td>...</td>\n",
       "      <td>...</td>\n",
       "      <td>...</td>\n",
       "      <td>...</td>\n",
       "      <td>...</td>\n",
       "      <td>...</td>\n",
       "      <td>...</td>\n",
       "      <td>...</td>\n",
       "      <td>...</td>\n",
       "      <td>...</td>\n",
       "      <td>...</td>\n",
       "      <td>...</td>\n",
       "      <td>...</td>\n",
       "      <td>...</td>\n",
       "      <td>...</td>\n",
       "      <td>...</td>\n",
       "      <td>...</td>\n",
       "      <td>...</td>\n",
       "      <td>...</td>\n",
       "      <td>...</td>\n",
       "      <td>...</td>\n",
       "    </tr>\n",
       "    <tr>\n",
       "      <th>7527</th>\n",
       "      <td>31</td>\n",
       "      <td>20</td>\n",
       "      <td>2</td>\n",
       "      <td>5</td>\n",
       "      <td>5</td>\n",
       "      <td>3.00</td>\n",
       "      <td>5.0</td>\n",
       "      <td>7.75</td>\n",
       "      <td>True</td>\n",
       "      <td>True</td>\n",
       "      <td>...</td>\n",
       "      <td>NaN</td>\n",
       "      <td>NaN</td>\n",
       "      <td>NaN</td>\n",
       "      <td>NaN</td>\n",
       "      <td>NaN</td>\n",
       "      <td>NaN</td>\n",
       "      <td>NaN</td>\n",
       "      <td>NaN</td>\n",
       "      <td>NaN</td>\n",
       "      <td>NaN</td>\n",
       "    </tr>\n",
       "    <tr>\n",
       "      <th>7528</th>\n",
       "      <td>66</td>\n",
       "      <td>20</td>\n",
       "      <td>4</td>\n",
       "      <td>10</td>\n",
       "      <td>3</td>\n",
       "      <td>1.00</td>\n",
       "      <td>4.0</td>\n",
       "      <td>5.75</td>\n",
       "      <td>True</td>\n",
       "      <td>True</td>\n",
       "      <td>...</td>\n",
       "      <td>NaN</td>\n",
       "      <td>NaN</td>\n",
       "      <td>NaN</td>\n",
       "      <td>NaN</td>\n",
       "      <td>NaN</td>\n",
       "      <td>NaN</td>\n",
       "      <td>NaN</td>\n",
       "      <td>NaN</td>\n",
       "      <td>NaN</td>\n",
       "      <td>NaN</td>\n",
       "    </tr>\n",
       "    <tr>\n",
       "      <th>7529</th>\n",
       "      <td>31</td>\n",
       "      <td>20</td>\n",
       "      <td>2</td>\n",
       "      <td>6</td>\n",
       "      <td>5</td>\n",
       "      <td>2.25</td>\n",
       "      <td>5.0</td>\n",
       "      <td>7.00</td>\n",
       "      <td>True</td>\n",
       "      <td>True</td>\n",
       "      <td>...</td>\n",
       "      <td>NaN</td>\n",
       "      <td>NaN</td>\n",
       "      <td>NaN</td>\n",
       "      <td>NaN</td>\n",
       "      <td>NaN</td>\n",
       "      <td>NaN</td>\n",
       "      <td>NaN</td>\n",
       "      <td>NaN</td>\n",
       "      <td>NaN</td>\n",
       "      <td>NaN</td>\n",
       "    </tr>\n",
       "    <tr>\n",
       "      <th>7530</th>\n",
       "      <td>66</td>\n",
       "      <td>20</td>\n",
       "      <td>5</td>\n",
       "      <td>9</td>\n",
       "      <td>3</td>\n",
       "      <td>2.00</td>\n",
       "      <td>4.5</td>\n",
       "      <td>8.00</td>\n",
       "      <td>True</td>\n",
       "      <td>True</td>\n",
       "      <td>...</td>\n",
       "      <td>NaN</td>\n",
       "      <td>NaN</td>\n",
       "      <td>NaN</td>\n",
       "      <td>NaN</td>\n",
       "      <td>NaN</td>\n",
       "      <td>NaN</td>\n",
       "      <td>NaN</td>\n",
       "      <td>NaN</td>\n",
       "      <td>NaN</td>\n",
       "      <td>NaN</td>\n",
       "    </tr>\n",
       "    <tr>\n",
       "      <th>7531</th>\n",
       "      <td>66</td>\n",
       "      <td>20</td>\n",
       "      <td>5</td>\n",
       "      <td>8</td>\n",
       "      <td>3</td>\n",
       "      <td>2.25</td>\n",
       "      <td>5.5</td>\n",
       "      <td>8.00</td>\n",
       "      <td>True</td>\n",
       "      <td>True</td>\n",
       "      <td>...</td>\n",
       "      <td>NaN</td>\n",
       "      <td>NaN</td>\n",
       "      <td>NaN</td>\n",
       "      <td>NaN</td>\n",
       "      <td>NaN</td>\n",
       "      <td>NaN</td>\n",
       "      <td>NaN</td>\n",
       "      <td>NaN</td>\n",
       "      <td>NaN</td>\n",
       "      <td>NaN</td>\n",
       "    </tr>\n",
       "  </tbody>\n",
       "</table>\n",
       "<p>7532 rows × 1010 columns</p>\n",
       "</div>"
      ],
      "text/plain": [
       "      num_edges  num_nodes  min_degree  max_degree  diameter  quartile_1  \\\n",
       "0            35         20           2           6         4        0.25   \n",
       "1            31         20           2           5         6        1.00   \n",
       "2            69         20           4          10         3        3.00   \n",
       "3            64         20           4          10         3        2.00   \n",
       "4            33         20           2           4         4        2.00   \n",
       "...         ...        ...         ...         ...       ...         ...   \n",
       "7527         31         20           2           5         5        3.00   \n",
       "7528         66         20           4          10         3        1.00   \n",
       "7529         31         20           2           6         5        2.25   \n",
       "7530         66         20           5           9         3        2.00   \n",
       "7531         66         20           5           8         3        2.25   \n",
       "\n",
       "      quartile_2  quartile_3      y  baseline_width  ...  s50_11  s50_12  \\\n",
       "0            2.5        4.00   True            True  ...     NaN     NaN   \n",
       "1            3.0        7.00   True           False  ...     NaN     NaN   \n",
       "2            5.0        6.75   True            True  ...     NaN     NaN   \n",
       "3            3.5        8.00   True            True  ...     NaN     NaN   \n",
       "4            5.0        5.00  False           False  ...     NaN     NaN   \n",
       "...          ...         ...    ...             ...  ...     ...     ...   \n",
       "7527         5.0        7.75   True            True  ...     NaN     NaN   \n",
       "7528         4.0        5.75   True            True  ...     NaN     NaN   \n",
       "7529         5.0        7.00   True            True  ...     NaN     NaN   \n",
       "7530         4.5        8.00   True            True  ...     NaN     NaN   \n",
       "7531         5.5        8.00   True            True  ...     NaN     NaN   \n",
       "\n",
       "      s50_13  s50_14  s50_15  s50_16  s50_17  s50_18  s50_19  s50_20  \n",
       "0        NaN     NaN     NaN     NaN     NaN     NaN     NaN     NaN  \n",
       "1        NaN     NaN     NaN     NaN     NaN     NaN     NaN     NaN  \n",
       "2        NaN     NaN     NaN     NaN     NaN     NaN     NaN     NaN  \n",
       "3        NaN     NaN     NaN     NaN     NaN     NaN     NaN     NaN  \n",
       "4        NaN     NaN     NaN     NaN     NaN     NaN     NaN     NaN  \n",
       "...      ...     ...     ...     ...     ...     ...     ...     ...  \n",
       "7527     NaN     NaN     NaN     NaN     NaN     NaN     NaN     NaN  \n",
       "7528     NaN     NaN     NaN     NaN     NaN     NaN     NaN     NaN  \n",
       "7529     NaN     NaN     NaN     NaN     NaN     NaN     NaN     NaN  \n",
       "7530     NaN     NaN     NaN     NaN     NaN     NaN     NaN     NaN  \n",
       "7531     NaN     NaN     NaN     NaN     NaN     NaN     NaN     NaN  \n",
       "\n",
       "[7532 rows x 1010 columns]"
      ]
     },
     "execution_count": 60,
     "metadata": {},
     "output_type": "execute_result"
    }
   ],
   "source": [
    "df = pd.read_csv(\"max_neighbors=5.csv\")\n",
    "df"
   ]
  },
  {
   "cell_type": "code",
   "execution_count": 61,
   "id": "e5581d69",
   "metadata": {},
   "outputs": [
    {
     "data": {
      "text/plain": [
       "True     5624\n",
       "False    1908\n",
       "Name: y, dtype: int64"
      ]
     },
     "execution_count": 61,
     "metadata": {},
     "output_type": "execute_result"
    }
   ],
   "source": [
    "df.y.value_counts()"
   ]
  },
  {
   "cell_type": "code",
   "execution_count": 62,
   "id": "045a110e",
   "metadata": {},
   "outputs": [
    {
     "data": {
      "text/plain": [
       "False    4129\n",
       "True     3403\n",
       "Name: baseline_width, dtype: int64"
      ]
     },
     "execution_count": 62,
     "metadata": {},
     "output_type": "execute_result"
    }
   ],
   "source": [
    "df.baseline_width.value_counts()"
   ]
  },
  {
   "cell_type": "code",
   "execution_count": 63,
   "id": "f772f772",
   "metadata": {},
   "outputs": [
    {
     "data": {
      "text/plain": [
       "(7532, 1010)"
      ]
     },
     "execution_count": 63,
     "metadata": {},
     "output_type": "execute_result"
    }
   ],
   "source": [
    "df.shape"
   ]
  },
  {
   "cell_type": "code",
   "execution_count": 64,
   "id": "4fc70134",
   "metadata": {},
   "outputs": [
    {
     "data": {
      "text/plain": [
       "(7532,)"
      ]
     },
     "execution_count": 64,
     "metadata": {},
     "output_type": "execute_result"
    }
   ],
   "source": [
    "y = df.y.astype('int')\n",
    "y.shape"
   ]
  },
  {
   "cell_type": "markdown",
   "id": "6ec9f413",
   "metadata": {},
   "source": [
    "### graph2vec on the NWS graph (FCA)"
   ]
  },
  {
   "cell_type": "code",
   "execution_count": 65,
   "id": "b8095512",
   "metadata": {},
   "outputs": [
    {
     "data": {
      "text/plain": [
       "7532"
      ]
     },
     "execution_count": 65,
     "metadata": {},
     "output_type": "execute_result"
    }
   ],
   "source": [
    "len(new_graph_list)"
   ]
  },
  {
   "cell_type": "code",
   "execution_count": 66,
   "id": "a18c5524",
   "metadata": {},
   "outputs": [],
   "source": [
    "g2v = Graph2Vec(wl_iterations = 5, dimensions = 10)\n",
    "g2v.fit(new_graph_list)\n",
    "embed = g2v.get_embedding()\n",
    "df_g2v = pd.DataFrame(embed)"
   ]
  },
  {
   "cell_type": "code",
   "execution_count": 67,
   "id": "1634785b",
   "metadata": {
    "scrolled": true
   },
   "outputs": [
    {
     "data": {
      "image/png": "[encoded data removed]",
      "text/plain": [
       "<Figure size 432x288 with 2 Axes>"
      ]
     },
     "metadata": {
      "needs_background": "light"
     },
     "output_type": "display_data"
    },
    {
     "name": "stdout",
     "output_type": "stream",
     "text": [
      "Precision: 0.889\n",
      "Recall: 0.455\n",
      "F1: 0.602\n",
      "Accuracy: 0.699\n"
     ]
    }
   ],
   "source": [
    "X_resampled, y_resampled = sampler.fit_resample(df_g2v, y)\n",
    "\n",
    "X_train, X_test, y_train, y_test = train_test_split(X_resampled, y_resampled,\n",
    "                                                        test_size = 0.25,\n",
    "                                                        stratify = y_resampled)\n",
    "\n",
    "\n",
    "clf = rf(max_depth=5, max_features=\"log2\")\n",
    "clf.fit(X_train, y_train)\n",
    "y_pred = clf.predict(X_test)\n",
    "model_metrics(clf, y_test, y_pred)"
   ]
  },
  {
   "cell_type": "code",
   "execution_count": 68,
   "id": "d91db6d0",
   "metadata": {},
   "outputs": [
    {
     "data": {
      "text/plain": [
       "1    1431\n",
       "0    1431\n",
       "Name: y, dtype: int64"
      ]
     },
     "execution_count": 68,
     "metadata": {},
     "output_type": "execute_result"
    }
   ],
   "source": [
    "y_train.value_counts()"
   ]
  },
  {
   "cell_type": "code",
   "execution_count": 69,
   "id": "3d070892",
   "metadata": {},
   "outputs": [
    {
     "data": {
      "text/plain": [
       "0    477\n",
       "1    477\n",
       "Name: y, dtype: int64"
      ]
     },
     "execution_count": 69,
     "metadata": {},
     "output_type": "execute_result"
    }
   ],
   "source": [
    "y_test.value_counts()"
   ]
  },
  {
   "cell_type": "code",
   "execution_count": 70,
   "id": "ef2c0a1f",
   "metadata": {},
   "outputs": [
    {
     "data": {
      "image/png": "[encoded data removed]",
      "text/plain": [
       "<Figure size 432x288 with 2 Axes>"
      ]
     },
     "metadata": {
      "needs_background": "light"
     },
     "output_type": "display_data"
    },
    {
     "name": "stdout",
     "output_type": "stream",
     "text": [
      "Precision: 0.923\n",
      "Recall: 0.480\n",
      "F1: 0.632\n",
      "Accuracy: 0.720\n"
     ]
    }
   ],
   "source": [
    "g2v = Graph2Vec(wl_iterations = 5, dimensions = 20)\n",
    "g2v.fit(new_graph_list)\n",
    "embed = g2v.get_embedding()\n",
    "df_g2v_2 = pd.DataFrame(embed)\n",
    "\n",
    "X_resampled, y_resampled = sampler.fit_resample(df_g2v_2, y)\n",
    "\n",
    "X_train, X_test, y_train, y_test = train_test_split(X_resampled, y_resampled,\n",
    "                                                        test_size = 0.25,\n",
    "                                                        stratify = y_resampled)\n",
    "\n",
    "\n",
    "clf = rf(max_depth=5, max_features=\"log2\")\n",
    "clf.fit(X_train, y_train)\n",
    "y_pred = clf.predict(X_test)\n",
    "model_metrics(clf, y_test, y_pred)"
   ]
  },
  {
   "cell_type": "markdown",
   "id": "4d584ab0",
   "metadata": {},
   "source": [
    "### node2vec on the NWS graph (FCA)"
   ]
  },
  {
   "cell_type": "code",
   "execution_count": 80,
   "id": "f95fbe5d",
   "metadata": {},
   "outputs": [],
   "source": [
    "def n2v_embedding(graph_list):\n",
    "\n",
    "    df_n2v = pd.DataFrame()\n",
    "\n",
    "    for graph in graph_list:        \n",
    "        n2v = Node2Vec(dimensions = 1)\n",
    "        n2v.fit(graph)\n",
    "        embed = n2v.get_embedding()\n",
    "        df_embed = pd.DataFrame(embed.T)\n",
    "        df_n2v = pd.concat([df_n2v, df_embed], ignore_index=True, axis=0)\n",
    "        \n",
    "    return df_n2v"
   ]
  },
  {
   "cell_type": "code",
   "execution_count": 62,
   "id": "30458bb8",
   "metadata": {
    "collapsed": true
   },
   "outputs": [
    {
     "ename": "KeyboardInterrupt",
     "evalue": "",
     "output_type": "error",
     "traceback": [
      "\u001b[0;31m---------------------------------------------------------------------------\u001b[0m",
      "\u001b[0;31mKeyboardInterrupt\u001b[0m                         Traceback (most recent call last)",
      "\u001b[0;32m/var/folders/9r/2gx8_pxn3r90xfxb1d4km5fh0000gn/T/ipykernel_85876/1881368479.py\u001b[0m in \u001b[0;36m<module>\u001b[0;34m\u001b[0m\n\u001b[0;32m----> 1\u001b[0;31m \u001b[0mdf_n2v\u001b[0m \u001b[0;34m=\u001b[0m \u001b[0mn2v_embedding\u001b[0m\u001b[0;34m(\u001b[0m\u001b[0mnew_graph_list\u001b[0m\u001b[0;34m)\u001b[0m\u001b[0;34m\u001b[0m\u001b[0;34m\u001b[0m\u001b[0m\n\u001b[0m\u001b[1;32m      2\u001b[0m \u001b[0;34m\u001b[0m\u001b[0m\n\u001b[1;32m      3\u001b[0m \u001b[0mX_resampled\u001b[0m\u001b[0;34m,\u001b[0m \u001b[0my_resampled\u001b[0m \u001b[0;34m=\u001b[0m \u001b[0msampler\u001b[0m\u001b[0;34m.\u001b[0m\u001b[0mfit_resample\u001b[0m\u001b[0;34m(\u001b[0m\u001b[0mdf_n2v\u001b[0m\u001b[0;34m,\u001b[0m \u001b[0my\u001b[0m\u001b[0;34m)\u001b[0m\u001b[0;34m\u001b[0m\u001b[0;34m\u001b[0m\u001b[0m\n\u001b[1;32m      4\u001b[0m \u001b[0;34m\u001b[0m\u001b[0m\n\u001b[1;32m      5\u001b[0m X_train, X_test, y_train, y_test = train_test_split(X_resampled, y_resampled,\n",
      "\u001b[0;32m/var/folders/9r/2gx8_pxn3r90xfxb1d4km5fh0000gn/T/ipykernel_85876/1705319821.py\u001b[0m in \u001b[0;36mn2v_embedding\u001b[0;34m(graph_list)\u001b[0m\n\u001b[1;32m      5\u001b[0m     \u001b[0;32mfor\u001b[0m \u001b[0mgraph\u001b[0m \u001b[0;32min\u001b[0m \u001b[0mgraph_list\u001b[0m\u001b[0;34m:\u001b[0m\u001b[0;34m\u001b[0m\u001b[0;34m\u001b[0m\u001b[0m\n\u001b[1;32m      6\u001b[0m         \u001b[0mn2v\u001b[0m \u001b[0;34m=\u001b[0m \u001b[0mNode2Vec\u001b[0m\u001b[0;34m(\u001b[0m\u001b[0mdimensions\u001b[0m \u001b[0;34m=\u001b[0m \u001b[0;36m1\u001b[0m\u001b[0;34m)\u001b[0m\u001b[0;34m\u001b[0m\u001b[0;34m\u001b[0m\u001b[0m\n\u001b[0;32m----> 7\u001b[0;31m         \u001b[0mn2v\u001b[0m\u001b[0;34m.\u001b[0m\u001b[0mfit\u001b[0m\u001b[0;34m(\u001b[0m\u001b[0mgraph\u001b[0m\u001b[0;34m)\u001b[0m\u001b[0;34m\u001b[0m\u001b[0;34m\u001b[0m\u001b[0m\n\u001b[0m\u001b[1;32m      8\u001b[0m         \u001b[0membed\u001b[0m \u001b[0;34m=\u001b[0m \u001b[0mn2v\u001b[0m\u001b[0;34m.\u001b[0m\u001b[0mget_embedding\u001b[0m\u001b[0;34m(\u001b[0m\u001b[0;34m)\u001b[0m\u001b[0;34m\u001b[0m\u001b[0;34m\u001b[0m\u001b[0m\n\u001b[1;32m      9\u001b[0m         \u001b[0mdf_embed\u001b[0m \u001b[0;34m=\u001b[0m \u001b[0mpd\u001b[0m\u001b[0;34m.\u001b[0m\u001b[0mDataFrame\u001b[0m\u001b[0;34m(\u001b[0m\u001b[0membed\u001b[0m\u001b[0;34m.\u001b[0m\u001b[0mT\u001b[0m\u001b[0;34m)\u001b[0m\u001b[0;34m\u001b[0m\u001b[0;34m\u001b[0m\u001b[0m\n",
      "\u001b[0;32m~/opt/anaconda3/lib/python3.9/site-packages/karateclub/node_embedding/neighbourhood/node2vec.py\u001b[0m in \u001b[0;36mfit\u001b[0;34m(self, graph)\u001b[0m\n\u001b[1;32m     69\u001b[0m         \u001b[0mgraph\u001b[0m \u001b[0;34m=\u001b[0m \u001b[0mself\u001b[0m\u001b[0;34m.\u001b[0m\u001b[0m_check_graph\u001b[0m\u001b[0;34m(\u001b[0m\u001b[0mgraph\u001b[0m\u001b[0;34m)\u001b[0m\u001b[0;34m\u001b[0m\u001b[0;34m\u001b[0m\u001b[0m\n\u001b[1;32m     70\u001b[0m         \u001b[0mwalker\u001b[0m \u001b[0;34m=\u001b[0m \u001b[0mBiasedRandomWalker\u001b[0m\u001b[0;34m(\u001b[0m\u001b[0mself\u001b[0m\u001b[0;34m.\u001b[0m\u001b[0mwalk_length\u001b[0m\u001b[0;34m,\u001b[0m \u001b[0mself\u001b[0m\u001b[0;34m.\u001b[0m\u001b[0mwalk_number\u001b[0m\u001b[0;34m,\u001b[0m \u001b[0mself\u001b[0m\u001b[0;34m.\u001b[0m\u001b[0mp\u001b[0m\u001b[0;34m,\u001b[0m \u001b[0mself\u001b[0m\u001b[0;34m.\u001b[0m\u001b[0mq\u001b[0m\u001b[0;34m)\u001b[0m\u001b[0;34m\u001b[0m\u001b[0;34m\u001b[0m\u001b[0m\n\u001b[0;32m---> 71\u001b[0;31m         \u001b[0mwalker\u001b[0m\u001b[0;34m.\u001b[0m\u001b[0mdo_walks\u001b[0m\u001b[0;34m(\u001b[0m\u001b[0mgraph\u001b[0m\u001b[0;34m)\u001b[0m\u001b[0;34m\u001b[0m\u001b[0;34m\u001b[0m\u001b[0m\n\u001b[0m\u001b[1;32m     72\u001b[0m \u001b[0;34m\u001b[0m\u001b[0m\n\u001b[1;32m     73\u001b[0m         model = Word2Vec(\n",
      "\u001b[0;32m~/opt/anaconda3/lib/python3.9/site-packages/karateclub/utils/walker.py\u001b[0m in \u001b[0;36mdo_walks\u001b[0;34m(self, graph)\u001b[0m\n\u001b[1;32m    179\u001b[0m         \u001b[0;32mfor\u001b[0m \u001b[0mnode\u001b[0m \u001b[0;32min\u001b[0m \u001b[0mself\u001b[0m\u001b[0;34m.\u001b[0m\u001b[0mgraph\u001b[0m\u001b[0;34m.\u001b[0m\u001b[0mnodes\u001b[0m\u001b[0;34m(\u001b[0m\u001b[0;34m)\u001b[0m\u001b[0;34m:\u001b[0m\u001b[0;34m\u001b[0m\u001b[0;34m\u001b[0m\u001b[0m\n\u001b[1;32m    180\u001b[0m             \u001b[0;32mfor\u001b[0m \u001b[0m_\u001b[0m \u001b[0;32min\u001b[0m \u001b[0mrange\u001b[0m\u001b[0;34m(\u001b[0m\u001b[0mself\u001b[0m\u001b[0;34m.\u001b[0m\u001b[0mwalk_number\u001b[0m\u001b[0;34m)\u001b[0m\u001b[0;34m:\u001b[0m\u001b[0;34m\u001b[0m\u001b[0;34m\u001b[0m\u001b[0m\n\u001b[0;32m--> 181\u001b[0;31m                 \u001b[0mwalk_from_node\u001b[0m \u001b[0;34m=\u001b[0m \u001b[0mself\u001b[0m\u001b[0;34m.\u001b[0m\u001b[0mdo_walk\u001b[0m\u001b[0;34m(\u001b[0m\u001b[0mnode\u001b[0m\u001b[0;34m)\u001b[0m\u001b[0;34m\u001b[0m\u001b[0;34m\u001b[0m\u001b[0m\n\u001b[0m\u001b[1;32m    182\u001b[0m                 \u001b[0mself\u001b[0m\u001b[0;34m.\u001b[0m\u001b[0mwalks\u001b[0m\u001b[0;34m.\u001b[0m\u001b[0mappend\u001b[0m\u001b[0;34m(\u001b[0m\u001b[0mwalk_from_node\u001b[0m\u001b[0;34m)\u001b[0m\u001b[0;34m\u001b[0m\u001b[0;34m\u001b[0m\u001b[0m\n",
      "\u001b[0;32m~/opt/anaconda3/lib/python3.9/site-packages/karateclub/utils/walker.py\u001b[0m in \u001b[0;36mdo_walk\u001b[0;34m(self, node)\u001b[0m\n\u001b[1;32m    153\u001b[0m \u001b[0;34m\u001b[0m\u001b[0m\n\u001b[1;32m    154\u001b[0m             \u001b[0mnorm_probability\u001b[0m \u001b[0;34m=\u001b[0m \u001b[0mprobability\u001b[0m \u001b[0;34m/\u001b[0m \u001b[0msum\u001b[0m\u001b[0;34m(\u001b[0m\u001b[0mprobability\u001b[0m\u001b[0;34m)\u001b[0m\u001b[0;34m\u001b[0m\u001b[0;34m\u001b[0m\u001b[0m\n\u001b[0;32m--> 155\u001b[0;31m             selected = np.random.choice(current_node_neighbors, 1, p=norm_probability)[\n\u001b[0m\u001b[1;32m    156\u001b[0m                 \u001b[0;36m0\u001b[0m\u001b[0;34m\u001b[0m\u001b[0;34m\u001b[0m\u001b[0m\n\u001b[1;32m    157\u001b[0m             ]\n",
      "\u001b[0;31mKeyboardInterrupt\u001b[0m: "
     ]
    }
   ],
   "source": [
    "df_n2v = n2v_embedding(new_graph_list)\n",
    "\n",
    "X_resampled, y_resampled = sampler.fit_resample(df_n2v, y)\n",
    "\n",
    "X_train, X_test, y_train, y_test = train_test_split(X_resampled, y_resampled,\n",
    "                                                        test_size = 0.25,\n",
    "                                                        stratify = y_resampled)\n",
    "\n",
    "\n",
    "clf = rf(max_depth=5, max_features=\"log2\")\n",
    "clf.fit(X_train, y_train)\n",
    "y_pred = clf.predict(X_test)\n",
    "model_metrics(clf, y_test, y_pred)"
   ]
  },
  {
   "cell_type": "code",
   "execution_count": null,
   "id": "b07ca5aa",
   "metadata": {},
   "outputs": [],
   "source": []
  },
  {
   "cell_type": "code",
   "execution_count": null,
   "id": "e4ba1aea",
   "metadata": {},
   "outputs": [],
   "source": []
  },
  {
   "cell_type": "markdown",
   "id": "3e1554ed",
   "metadata": {},
   "source": [
    "### Simply input the Adjacency Matrix"
   ]
  },
  {
   "cell_type": "code",
   "execution_count": 71,
   "id": "4044d7fe",
   "metadata": {},
   "outputs": [],
   "source": [
    "def adj_matrices(graph_list):\n",
    "    \n",
    "    df = pd.DataFrame()\n",
    "    \n",
    "    for G in graph_list:\n",
    "        adj_matrix = nx.adjacency_matrix(G).todense()\n",
    "        vectorized_adj = adj_matrix.reshape(1, 400)\n",
    "        temp = pd.DataFrame(vectorized_adj)\n",
    "        df = pd.concat([df, temp], axis=0, ignore_index=True)\n",
    "        \n",
    "    return df"
   ]
  },
  {
   "cell_type": "code",
   "execution_count": 72,
   "id": "da4227d0",
   "metadata": {},
   "outputs": [
    {
     "data": {
      "image/png": "[encoded data removed]",
      "text/plain": [
       "<Figure size 432x288 with 2 Axes>"
      ]
     },
     "metadata": {
      "needs_background": "light"
     },
     "output_type": "display_data"
    },
    {
     "name": "stdout",
     "output_type": "stream",
     "text": [
      "Precision: 0.991\n",
      "Recall: 0.484\n",
      "F1: 0.651\n",
      "Accuracy: 0.740\n"
     ]
    }
   ],
   "source": [
    "X_resampled, y_resampled = sampler.fit_resample(adj_matrices(new_graph_list), y)\n",
    "\n",
    "X_train, X_test, y_train, y_test = train_test_split(X_resampled, y_resampled,\n",
    "                                                        test_size = 0.25,\n",
    "                                                        stratify = y_resampled)\n",
    "\n",
    "\n",
    "clf = rf(max_depth=5, max_features=\"log2\")\n",
    "clf.fit(X_train, y_train)\n",
    "y_pred = clf.predict(X_test)\n",
    "model_metrics(clf, y_test, y_pred)"
   ]
  },
  {
   "cell_type": "markdown",
   "id": "9d6ce824",
   "metadata": {},
   "source": [
    "### Spectral Embedding on the NWS graphs (FCA)"
   ]
  },
  {
   "cell_type": "code",
   "execution_count": 74,
   "id": "84bae352",
   "metadata": {},
   "outputs": [
    {
     "data": {
      "image/png": "[encoded data removed]",
      "text/plain": [
       "<Figure size 432x288 with 2 Axes>"
      ]
     },
     "metadata": {
      "needs_background": "light"
     },
     "output_type": "display_data"
    },
    {
     "name": "stdout",
     "output_type": "stream",
     "text": [
      "Precision: 0.995\n",
      "Recall: 0.449\n",
      "F1: 0.618\n",
      "Accuracy: 0.723\n"
     ]
    }
   ],
   "source": [
    "embedding = SpectralEmbedding(n_components=10)\n",
    "X_transformed = embedding.fit_transform(adj_matrices(new_graph_list))\n",
    "X_transformed.shape\n",
    "\n",
    "X_resampled, y_resampled = sampler.fit_resample(X_transformed, y)\n",
    "\n",
    "X_train, X_test, y_train, y_test = train_test_split(X_resampled, y_resampled,\n",
    "                                                        test_size = 0.25,\n",
    "                                                        stratify = y_resampled)\n",
    "\n",
    "clf = rf(max_depth=5, max_features=\"log2\")\n",
    "clf.fit(X_train, y_train)\n",
    "y_pred = clf.predict(X_test)\n",
    "model_metrics(clf, y_test, y_pred)"
   ]
  },
  {
   "cell_type": "code",
   "execution_count": 75,
   "id": "536a05cc",
   "metadata": {},
   "outputs": [
    {
     "data": {
      "image/png": "[encoded data removed]",
      "text/plain": [
       "<Figure size 432x288 with 2 Axes>"
      ]
     },
     "metadata": {
      "needs_background": "light"
     },
     "output_type": "display_data"
    },
    {
     "name": "stdout",
     "output_type": "stream",
     "text": [
      "Precision: 1.000\n",
      "Recall: 0.478\n",
      "F1: 0.647\n",
      "Accuracy: 0.739\n"
     ]
    }
   ],
   "source": [
    "embedding = SpectralEmbedding(n_components=20)\n",
    "X_transformed = embedding.fit_transform(adj_matrices(new_graph_list))\n",
    "X_transformed.shape\n",
    "\n",
    "X_resampled, y_resampled = sampler.fit_resample(X_transformed, y)\n",
    "\n",
    "X_train, X_test, y_train, y_test = train_test_split(X_resampled, y_resampled,\n",
    "                                                        test_size = 0.25,\n",
    "                                                        stratify = y_resampled)\n",
    "\n",
    "clf = rf(max_depth=5, max_features=\"log2\")\n",
    "clf.fit(X_train, y_train)\n",
    "y_pred = clf.predict(X_test)\n",
    "model_metrics(clf, y_test, y_pred)"
   ]
  },
  {
   "cell_type": "markdown",
   "id": "828293ba",
   "metadata": {},
   "source": [
    "## Max_Neighbors = 15"
   ]
  },
  {
   "cell_type": "code",
   "execution_count": 76,
   "id": "6d0b047d",
   "metadata": {},
   "outputs": [],
   "source": [
    "num_nodes = 20\n",
    "num_samples = 10000\n",
    "max_neighbors = 15\n",
    "kappa = 10\n",
    "FCA_iter = 200\n",
    "baseline_iter = 50\n",
    "iter_include = 5\n",
    "file_name = \"max_neighbors=15.csv\"\n",
    "new_graph_list = FCA_NWS(num_nodes, num_samples, max_neighbors, kappa, FCA_iter, baseline_iter, iter_include, file_name)"
   ]
  },
  {
   "cell_type": "code",
   "execution_count": 77,
   "id": "f9b39855",
   "metadata": {},
   "outputs": [
    {
     "data": {
      "text/html": [
       "<div>\n",
       "<style scoped>\n",
       "    .dataframe tbody tr th:only-of-type {\n",
       "        vertical-align: middle;\n",
       "    }\n",
       "\n",
       "    .dataframe tbody tr th {\n",
       "        vertical-align: top;\n",
       "    }\n",
       "\n",
       "    .dataframe thead th {\n",
       "        text-align: right;\n",
       "    }\n",
       "</style>\n",
       "<table border=\"1\" class=\"dataframe\">\n",
       "  <thead>\n",
       "    <tr style=\"text-align: right;\">\n",
       "      <th></th>\n",
       "      <th>num_edges</th>\n",
       "      <th>num_nodes</th>\n",
       "      <th>min_degree</th>\n",
       "      <th>max_degree</th>\n",
       "      <th>diameter</th>\n",
       "      <th>quartile_1</th>\n",
       "      <th>quartile_2</th>\n",
       "      <th>quartile_3</th>\n",
       "      <th>y</th>\n",
       "      <th>baseline_width</th>\n",
       "      <th>...</th>\n",
       "      <th>s50_11</th>\n",
       "      <th>s50_12</th>\n",
       "      <th>s50_13</th>\n",
       "      <th>s50_14</th>\n",
       "      <th>s50_15</th>\n",
       "      <th>s50_16</th>\n",
       "      <th>s50_17</th>\n",
       "      <th>s50_18</th>\n",
       "      <th>s50_19</th>\n",
       "      <th>s50_20</th>\n",
       "    </tr>\n",
       "  </thead>\n",
       "  <tbody>\n",
       "    <tr>\n",
       "      <th>0</th>\n",
       "      <td>66</td>\n",
       "      <td>20</td>\n",
       "      <td>5</td>\n",
       "      <td>9</td>\n",
       "      <td>3</td>\n",
       "      <td>3.00</td>\n",
       "      <td>5.0</td>\n",
       "      <td>7.00</td>\n",
       "      <td>True</td>\n",
       "      <td>False</td>\n",
       "      <td>...</td>\n",
       "      <td>NaN</td>\n",
       "      <td>NaN</td>\n",
       "      <td>NaN</td>\n",
       "      <td>NaN</td>\n",
       "      <td>NaN</td>\n",
       "      <td>NaN</td>\n",
       "      <td>NaN</td>\n",
       "      <td>NaN</td>\n",
       "      <td>NaN</td>\n",
       "      <td>NaN</td>\n",
       "    </tr>\n",
       "    <tr>\n",
       "      <th>1</th>\n",
       "      <td>92</td>\n",
       "      <td>20</td>\n",
       "      <td>6</td>\n",
       "      <td>11</td>\n",
       "      <td>3</td>\n",
       "      <td>1.00</td>\n",
       "      <td>4.5</td>\n",
       "      <td>7.00</td>\n",
       "      <td>True</td>\n",
       "      <td>True</td>\n",
       "      <td>...</td>\n",
       "      <td>NaN</td>\n",
       "      <td>NaN</td>\n",
       "      <td>NaN</td>\n",
       "      <td>NaN</td>\n",
       "      <td>NaN</td>\n",
       "      <td>NaN</td>\n",
       "      <td>NaN</td>\n",
       "      <td>NaN</td>\n",
       "      <td>NaN</td>\n",
       "      <td>NaN</td>\n",
       "    </tr>\n",
       "    <tr>\n",
       "      <th>2</th>\n",
       "      <td>31</td>\n",
       "      <td>20</td>\n",
       "      <td>2</td>\n",
       "      <td>5</td>\n",
       "      <td>4</td>\n",
       "      <td>0.25</td>\n",
       "      <td>4.5</td>\n",
       "      <td>7.75</td>\n",
       "      <td>False</td>\n",
       "      <td>False</td>\n",
       "      <td>...</td>\n",
       "      <td>NaN</td>\n",
       "      <td>NaN</td>\n",
       "      <td>NaN</td>\n",
       "      <td>NaN</td>\n",
       "      <td>NaN</td>\n",
       "      <td>NaN</td>\n",
       "      <td>NaN</td>\n",
       "      <td>NaN</td>\n",
       "      <td>NaN</td>\n",
       "      <td>NaN</td>\n",
       "    </tr>\n",
       "    <tr>\n",
       "      <th>3</th>\n",
       "      <td>190</td>\n",
       "      <td>20</td>\n",
       "      <td>19</td>\n",
       "      <td>19</td>\n",
       "      <td>1</td>\n",
       "      <td>1.00</td>\n",
       "      <td>4.0</td>\n",
       "      <td>6.75</td>\n",
       "      <td>True</td>\n",
       "      <td>True</td>\n",
       "      <td>...</td>\n",
       "      <td>NaN</td>\n",
       "      <td>NaN</td>\n",
       "      <td>NaN</td>\n",
       "      <td>NaN</td>\n",
       "      <td>NaN</td>\n",
       "      <td>NaN</td>\n",
       "      <td>NaN</td>\n",
       "      <td>NaN</td>\n",
       "      <td>NaN</td>\n",
       "      <td>NaN</td>\n",
       "    </tr>\n",
       "    <tr>\n",
       "      <th>4</th>\n",
       "      <td>29</td>\n",
       "      <td>20</td>\n",
       "      <td>2</td>\n",
       "      <td>5</td>\n",
       "      <td>6</td>\n",
       "      <td>3.25</td>\n",
       "      <td>5.0</td>\n",
       "      <td>7.00</td>\n",
       "      <td>True</td>\n",
       "      <td>False</td>\n",
       "      <td>...</td>\n",
       "      <td>NaN</td>\n",
       "      <td>NaN</td>\n",
       "      <td>NaN</td>\n",
       "      <td>NaN</td>\n",
       "      <td>NaN</td>\n",
       "      <td>NaN</td>\n",
       "      <td>NaN</td>\n",
       "      <td>NaN</td>\n",
       "      <td>NaN</td>\n",
       "      <td>NaN</td>\n",
       "    </tr>\n",
       "    <tr>\n",
       "      <th>...</th>\n",
       "      <td>...</td>\n",
       "      <td>...</td>\n",
       "      <td>...</td>\n",
       "      <td>...</td>\n",
       "      <td>...</td>\n",
       "      <td>...</td>\n",
       "      <td>...</td>\n",
       "      <td>...</td>\n",
       "      <td>...</td>\n",
       "      <td>...</td>\n",
       "      <td>...</td>\n",
       "      <td>...</td>\n",
       "      <td>...</td>\n",
       "      <td>...</td>\n",
       "      <td>...</td>\n",
       "      <td>...</td>\n",
       "      <td>...</td>\n",
       "      <td>...</td>\n",
       "      <td>...</td>\n",
       "      <td>...</td>\n",
       "      <td>...</td>\n",
       "    </tr>\n",
       "    <tr>\n",
       "      <th>9294</th>\n",
       "      <td>99</td>\n",
       "      <td>20</td>\n",
       "      <td>8</td>\n",
       "      <td>14</td>\n",
       "      <td>2</td>\n",
       "      <td>3.25</td>\n",
       "      <td>5.0</td>\n",
       "      <td>6.75</td>\n",
       "      <td>True</td>\n",
       "      <td>True</td>\n",
       "      <td>...</td>\n",
       "      <td>NaN</td>\n",
       "      <td>NaN</td>\n",
       "      <td>NaN</td>\n",
       "      <td>NaN</td>\n",
       "      <td>NaN</td>\n",
       "      <td>NaN</td>\n",
       "      <td>NaN</td>\n",
       "      <td>NaN</td>\n",
       "      <td>NaN</td>\n",
       "      <td>NaN</td>\n",
       "    </tr>\n",
       "    <tr>\n",
       "      <th>9295</th>\n",
       "      <td>132</td>\n",
       "      <td>20</td>\n",
       "      <td>10</td>\n",
       "      <td>17</td>\n",
       "      <td>2</td>\n",
       "      <td>1.25</td>\n",
       "      <td>3.0</td>\n",
       "      <td>6.00</td>\n",
       "      <td>True</td>\n",
       "      <td>True</td>\n",
       "      <td>...</td>\n",
       "      <td>NaN</td>\n",
       "      <td>NaN</td>\n",
       "      <td>NaN</td>\n",
       "      <td>NaN</td>\n",
       "      <td>NaN</td>\n",
       "      <td>NaN</td>\n",
       "      <td>NaN</td>\n",
       "      <td>NaN</td>\n",
       "      <td>NaN</td>\n",
       "      <td>NaN</td>\n",
       "    </tr>\n",
       "    <tr>\n",
       "      <th>9296</th>\n",
       "      <td>29</td>\n",
       "      <td>20</td>\n",
       "      <td>2</td>\n",
       "      <td>5</td>\n",
       "      <td>5</td>\n",
       "      <td>3.25</td>\n",
       "      <td>5.5</td>\n",
       "      <td>7.00</td>\n",
       "      <td>False</td>\n",
       "      <td>False</td>\n",
       "      <td>...</td>\n",
       "      <td>NaN</td>\n",
       "      <td>NaN</td>\n",
       "      <td>NaN</td>\n",
       "      <td>NaN</td>\n",
       "      <td>NaN</td>\n",
       "      <td>NaN</td>\n",
       "      <td>NaN</td>\n",
       "      <td>NaN</td>\n",
       "      <td>NaN</td>\n",
       "      <td>NaN</td>\n",
       "    </tr>\n",
       "    <tr>\n",
       "      <th>9297</th>\n",
       "      <td>160</td>\n",
       "      <td>20</td>\n",
       "      <td>14</td>\n",
       "      <td>19</td>\n",
       "      <td>2</td>\n",
       "      <td>2.00</td>\n",
       "      <td>4.0</td>\n",
       "      <td>7.00</td>\n",
       "      <td>True</td>\n",
       "      <td>True</td>\n",
       "      <td>...</td>\n",
       "      <td>NaN</td>\n",
       "      <td>NaN</td>\n",
       "      <td>NaN</td>\n",
       "      <td>NaN</td>\n",
       "      <td>NaN</td>\n",
       "      <td>NaN</td>\n",
       "      <td>NaN</td>\n",
       "      <td>NaN</td>\n",
       "      <td>NaN</td>\n",
       "      <td>NaN</td>\n",
       "    </tr>\n",
       "    <tr>\n",
       "      <th>9298</th>\n",
       "      <td>96</td>\n",
       "      <td>20</td>\n",
       "      <td>7</td>\n",
       "      <td>13</td>\n",
       "      <td>2</td>\n",
       "      <td>3.25</td>\n",
       "      <td>5.0</td>\n",
       "      <td>6.75</td>\n",
       "      <td>True</td>\n",
       "      <td>True</td>\n",
       "      <td>...</td>\n",
       "      <td>NaN</td>\n",
       "      <td>NaN</td>\n",
       "      <td>NaN</td>\n",
       "      <td>NaN</td>\n",
       "      <td>NaN</td>\n",
       "      <td>NaN</td>\n",
       "      <td>NaN</td>\n",
       "      <td>NaN</td>\n",
       "      <td>NaN</td>\n",
       "      <td>NaN</td>\n",
       "    </tr>\n",
       "  </tbody>\n",
       "</table>\n",
       "<p>9299 rows × 1010 columns</p>\n",
       "</div>"
      ],
      "text/plain": [
       "      num_edges  num_nodes  min_degree  max_degree  diameter  quartile_1  \\\n",
       "0            66         20           5           9         3        3.00   \n",
       "1            92         20           6          11         3        1.00   \n",
       "2            31         20           2           5         4        0.25   \n",
       "3           190         20          19          19         1        1.00   \n",
       "4            29         20           2           5         6        3.25   \n",
       "...         ...        ...         ...         ...       ...         ...   \n",
       "9294         99         20           8          14         2        3.25   \n",
       "9295        132         20          10          17         2        1.25   \n",
       "9296         29         20           2           5         5        3.25   \n",
       "9297        160         20          14          19         2        2.00   \n",
       "9298         96         20           7          13         2        3.25   \n",
       "\n",
       "      quartile_2  quartile_3      y  baseline_width  ...  s50_11  s50_12  \\\n",
       "0            5.0        7.00   True           False  ...     NaN     NaN   \n",
       "1            4.5        7.00   True            True  ...     NaN     NaN   \n",
       "2            4.5        7.75  False           False  ...     NaN     NaN   \n",
       "3            4.0        6.75   True            True  ...     NaN     NaN   \n",
       "4            5.0        7.00   True           False  ...     NaN     NaN   \n",
       "...          ...         ...    ...             ...  ...     ...     ...   \n",
       "9294         5.0        6.75   True            True  ...     NaN     NaN   \n",
       "9295         3.0        6.00   True            True  ...     NaN     NaN   \n",
       "9296         5.5        7.00  False           False  ...     NaN     NaN   \n",
       "9297         4.0        7.00   True            True  ...     NaN     NaN   \n",
       "9298         5.0        6.75   True            True  ...     NaN     NaN   \n",
       "\n",
       "      s50_13  s50_14  s50_15  s50_16  s50_17  s50_18  s50_19  s50_20  \n",
       "0        NaN     NaN     NaN     NaN     NaN     NaN     NaN     NaN  \n",
       "1        NaN     NaN     NaN     NaN     NaN     NaN     NaN     NaN  \n",
       "2        NaN     NaN     NaN     NaN     NaN     NaN     NaN     NaN  \n",
       "3        NaN     NaN     NaN     NaN     NaN     NaN     NaN     NaN  \n",
       "4        NaN     NaN     NaN     NaN     NaN     NaN     NaN     NaN  \n",
       "...      ...     ...     ...     ...     ...     ...     ...     ...  \n",
       "9294     NaN     NaN     NaN     NaN     NaN     NaN     NaN     NaN  \n",
       "9295     NaN     NaN     NaN     NaN     NaN     NaN     NaN     NaN  \n",
       "9296     NaN     NaN     NaN     NaN     NaN     NaN     NaN     NaN  \n",
       "9297     NaN     NaN     NaN     NaN     NaN     NaN     NaN     NaN  \n",
       "9298     NaN     NaN     NaN     NaN     NaN     NaN     NaN     NaN  \n",
       "\n",
       "[9299 rows x 1010 columns]"
      ]
     },
     "execution_count": 77,
     "metadata": {},
     "output_type": "execute_result"
    }
   ],
   "source": [
    "df = pd.read_csv(\"max_neighbors=15.csv\")\n",
    "df"
   ]
  },
  {
   "cell_type": "code",
   "execution_count": 78,
   "id": "f4a605f6",
   "metadata": {},
   "outputs": [
    {
     "data": {
      "text/plain": [
       "True     8706\n",
       "False     593\n",
       "Name: y, dtype: int64"
      ]
     },
     "execution_count": 78,
     "metadata": {},
     "output_type": "execute_result"
    }
   ],
   "source": [
    "df.y.value_counts()"
   ]
  },
  {
   "cell_type": "code",
   "execution_count": 79,
   "id": "638c1716",
   "metadata": {},
   "outputs": [
    {
     "data": {
      "text/plain": [
       "True     7354\n",
       "False    1945\n",
       "Name: baseline_width, dtype: int64"
      ]
     },
     "execution_count": 79,
     "metadata": {},
     "output_type": "execute_result"
    }
   ],
   "source": [
    "df.baseline_width.value_counts()"
   ]
  },
  {
   "cell_type": "code",
   "execution_count": 80,
   "id": "8a11b925",
   "metadata": {},
   "outputs": [
    {
     "data": {
      "text/plain": [
       "(9299,)"
      ]
     },
     "execution_count": 80,
     "metadata": {},
     "output_type": "execute_result"
    }
   ],
   "source": [
    "y = df.y.astype('int')\n",
    "y.shape"
   ]
  },
  {
   "cell_type": "markdown",
   "id": "7a885cf7",
   "metadata": {},
   "source": [
    "### graph2vec on the NWS graph (FCA)"
   ]
  },
  {
   "cell_type": "code",
   "execution_count": 81,
   "id": "95def0bb",
   "metadata": {},
   "outputs": [],
   "source": [
    "g2v = Graph2Vec(wl_iterations = 5, dimensions = 10)\n",
    "g2v.fit(new_graph_list)\n",
    "embed = g2v.get_embedding()\n",
    "df_g2v = pd.DataFrame(embed)"
   ]
  },
  {
   "cell_type": "code",
   "execution_count": 82,
   "id": "2d5c997c",
   "metadata": {},
   "outputs": [
    {
     "data": {
      "image/png": "[encoded data removed]",
      "text/plain": [
       "<Figure size 432x288 with 2 Axes>"
      ]
     },
     "metadata": {
      "needs_background": "light"
     },
     "output_type": "display_data"
    },
    {
     "name": "stdout",
     "output_type": "stream",
     "text": [
      "Precision: 0.906\n",
      "Recall: 0.851\n",
      "F1: 0.878\n",
      "Accuracy: 0.882\n"
     ]
    }
   ],
   "source": [
    "X_resampled, y_resampled = sampler.fit_resample(df_g2v, y)\n",
    "\n",
    "X_train, X_test, y_train, y_test = train_test_split(X_resampled, y_resampled,\n",
    "                                                        test_size = 0.25,\n",
    "                                                        stratify = y_resampled)\n",
    "\n",
    "\n",
    "clf = rf(max_depth=5, max_features=\"log2\")\n",
    "clf.fit(X_train, y_train)\n",
    "y_pred = clf.predict(X_test)\n",
    "model_metrics(clf, y_test, y_pred)"
   ]
  },
  {
   "cell_type": "code",
   "execution_count": 83,
   "id": "c78f803d",
   "metadata": {},
   "outputs": [
    {
     "data": {
      "text/plain": [
       "1    445\n",
       "0    444\n",
       "Name: y, dtype: int64"
      ]
     },
     "execution_count": 83,
     "metadata": {},
     "output_type": "execute_result"
    }
   ],
   "source": [
    "y_train.value_counts()"
   ]
  },
  {
   "cell_type": "code",
   "execution_count": 85,
   "id": "c7c02c1d",
   "metadata": {},
   "outputs": [
    {
     "data": {
      "text/plain": [
       "0    149\n",
       "1    148\n",
       "Name: y, dtype: int64"
      ]
     },
     "execution_count": 85,
     "metadata": {},
     "output_type": "execute_result"
    }
   ],
   "source": [
    "y_test.value_counts()"
   ]
  },
  {
   "cell_type": "markdown",
   "id": "50de3b8c",
   "metadata": {},
   "source": [
    "### Simply input the Adjacency Matrix"
   ]
  },
  {
   "cell_type": "code",
   "execution_count": 86,
   "id": "8a890bb0",
   "metadata": {},
   "outputs": [
    {
     "data": {
      "image/png": "[encoded data removed]",
      "text/plain": [
       "<Figure size 432x288 with 2 Axes>"
      ]
     },
     "metadata": {
      "needs_background": "light"
     },
     "output_type": "display_data"
    },
    {
     "name": "stdout",
     "output_type": "stream",
     "text": [
      "Precision: 0.869\n",
      "Recall: 0.893\n",
      "F1: 0.881\n",
      "Accuracy: 0.879\n"
     ]
    }
   ],
   "source": [
    "X_resampled, y_resampled = sampler.fit_resample(adj_matrices(new_graph_list), y)\n",
    "\n",
    "X_train, X_test, y_train, y_test = train_test_split(X_resampled, y_resampled,\n",
    "                                                        test_size = 0.25,\n",
    "                                                        stratify = y_resampled)\n",
    "\n",
    "\n",
    "clf = rf(max_depth=5, max_features=\"log2\")\n",
    "clf.fit(X_train, y_train)\n",
    "y_pred = clf.predict(X_test)\n",
    "model_metrics(clf, y_test, y_pred)"
   ]
  },
  {
   "cell_type": "markdown",
   "id": "6d9c5fb1",
   "metadata": {},
   "source": [
    "### Spectral Embedding on the NWS graphs (FCA)"
   ]
  },
  {
   "cell_type": "code",
   "execution_count": 88,
   "id": "3e964ef5",
   "metadata": {},
   "outputs": [
    {
     "data": {
      "image/png": "[encoded data removed]",
      "text/plain": [
       "<Figure size 432x288 with 2 Axes>"
      ]
     },
     "metadata": {
      "needs_background": "light"
     },
     "output_type": "display_data"
    },
    {
     "name": "stdout",
     "output_type": "stream",
     "text": [
      "Precision: 0.909\n",
      "Recall: 0.878\n",
      "F1: 0.893\n",
      "Accuracy: 0.896\n"
     ]
    }
   ],
   "source": [
    "embedding = SpectralEmbedding(n_components=10)\n",
    "X_transformed2 = embedding.fit_transform(adj_matrices(new_graph_list))\n",
    "X_transformed2.shape\n",
    "\n",
    "X_resampled, y_resampled = sampler.fit_resample(X_transformed2, y)\n",
    "\n",
    "X_train, X_test, y_train, y_test = train_test_split(X_resampled, y_resampled,\n",
    "                                                        test_size = 0.25,\n",
    "                                                        stratify = y_resampled)\n",
    "\n",
    "clf = rf(max_depth=5, max_features=\"log2\")\n",
    "clf.fit(X_train, y_train)\n",
    "y_pred = clf.predict(X_test)\n",
    "model_metrics(clf, y_test, y_pred)"
   ]
  },
  {
   "cell_type": "code",
   "execution_count": null,
   "id": "caf53f8a",
   "metadata": {},
   "outputs": [],
   "source": []
  },
  {
   "cell_type": "markdown",
   "id": "deb5671f",
   "metadata": {},
   "source": [
    "## Max_Neighbors = 3"
   ]
  },
  {
   "cell_type": "code",
   "execution_count": 89,
   "id": "efc1d6c6",
   "metadata": {},
   "outputs": [],
   "source": [
    "num_nodes = 20\n",
    "num_samples = 10000\n",
    "max_neighbors = 3\n",
    "kappa = 10\n",
    "FCA_iter = 200\n",
    "baseline_iter = 50\n",
    "iter_include = 5\n",
    "file_name = \"max_neighbors=15.csv\"\n",
    "new_graph_list = FCA_NWS(num_nodes, num_samples, max_neighbors, kappa, FCA_iter, baseline_iter, iter_include, file_name)"
   ]
  },
  {
   "cell_type": "code",
   "execution_count": 90,
   "id": "d1de3ccc",
   "metadata": {},
   "outputs": [],
   "source": [
    "df = pd.read_csv(\"max_neighbors=15.csv\")\n",
    "y = df.y.astype('int')\n",
    "\n"
   ]
  },
  {
   "cell_type": "markdown",
   "id": "3c5463d0",
   "metadata": {},
   "source": [
    "### node2vec"
   ]
  },
  {
   "cell_type": "code",
   "execution_count": 91,
   "id": "9e197b87",
   "metadata": {},
   "outputs": [
    {
     "data": {
      "image/png": "[encoded data removed]",
      "text/plain": [
       "<Figure size 432x288 with 2 Axes>"
      ]
     },
     "metadata": {
      "needs_background": "light"
     },
     "output_type": "display_data"
    },
    {
     "name": "stdout",
     "output_type": "stream",
     "text": [
      "Precision: 0.530\n",
      "Recall: 0.539\n",
      "F1: 0.534\n",
      "Accuracy: 0.531\n"
     ]
    }
   ],
   "source": [
    "g2v = Graph2Vec(wl_iterations = 5, dimensions = 10)\n",
    "g2v.fit(new_graph_list)\n",
    "embed = g2v.get_embedding()\n",
    "df_g2v = pd.DataFrame(embed)\n",
    "\n",
    "X_resampled, y_resampled = sampler.fit_resample(df_g2v, y)\n",
    "\n",
    "X_train, X_test, y_train, y_test = train_test_split(X_resampled, y_resampled,\n",
    "                                                        test_size = 0.25,\n",
    "                                                        stratify = y_resampled)\n",
    "\n",
    "\n",
    "clf = rf(max_depth=5, max_features=\"log2\")\n",
    "clf.fit(X_train, y_train)\n",
    "y_pred = clf.predict(X_test)\n",
    "model_metrics(clf, y_test, y_pred)"
   ]
  },
  {
   "cell_type": "code",
   "execution_count": 95,
   "id": "1666b3f7",
   "metadata": {},
   "outputs": [
    {
     "data": {
      "image/png": "[encoded data removed]",
      "text/plain": [
       "<Figure size 432x288 with 2 Axes>"
      ]
     },
     "metadata": {
      "needs_background": "light"
     },
     "output_type": "display_data"
    },
    {
     "name": "stdout",
     "output_type": "stream",
     "text": [
      "Precision: 0.565\n",
      "Recall: 0.531\n",
      "F1: 0.547\n",
      "Accuracy: 0.561\n"
     ]
    }
   ],
   "source": [
    "g2v = Graph2Vec(wl_iterations = 5, dimensions = 20)\n",
    "g2v.fit(new_graph_list)\n",
    "embed = g2v.get_embedding()\n",
    "df_g2v = pd.DataFrame(embed)\n",
    "\n",
    "X_resampled, y_resampled = sampler.fit_resample(df_g2v, y)\n",
    "\n",
    "X_train, X_test, y_train, y_test = train_test_split(X_resampled, y_resampled,\n",
    "                                                        test_size = 0.25,\n",
    "                                                        stratify = y_resampled)\n",
    "\n",
    "\n",
    "clf = rf(max_depth=5, max_features=\"log2\")\n",
    "clf.fit(X_train, y_train)\n",
    "y_pred = clf.predict(X_test)\n",
    "model_metrics(clf, y_test, y_pred)"
   ]
  },
  {
   "cell_type": "markdown",
   "id": "2f9f9373",
   "metadata": {},
   "source": [
    "### adj matrix"
   ]
  },
  {
   "cell_type": "code",
   "execution_count": 92,
   "id": "1135a715",
   "metadata": {},
   "outputs": [
    {
     "data": {
      "image/png": "[encoded data removed]",
      "text/plain": [
       "<Figure size 432x288 with 2 Axes>"
      ]
     },
     "metadata": {
      "needs_background": "light"
     },
     "output_type": "display_data"
    },
    {
     "name": "stdout",
     "output_type": "stream",
     "text": [
      "Precision: 0.524\n",
      "Recall: 0.484\n",
      "F1: 0.503\n",
      "Accuracy: 0.522\n"
     ]
    }
   ],
   "source": [
    "X_resampled, y_resampled = sampler.fit_resample(adj_matrices(new_graph_list), y)\n",
    "\n",
    "X_train, X_test, y_train, y_test = train_test_split(X_resampled, y_resampled,\n",
    "                                                        test_size = 0.25,\n",
    "                                                        stratify = y_resampled)\n",
    "\n",
    "\n",
    "clf = rf(max_depth=5, max_features=\"log2\")\n",
    "clf.fit(X_train, y_train)\n",
    "y_pred = clf.predict(X_test)\n",
    "model_metrics(clf, y_test, y_pred)"
   ]
  },
  {
   "cell_type": "markdown",
   "id": "e874d054",
   "metadata": {},
   "source": [
    "### Spectral Embedding"
   ]
  },
  {
   "cell_type": "code",
   "execution_count": 94,
   "id": "267490eb",
   "metadata": {},
   "outputs": [
    {
     "data": {
      "image/png": "[encoded data removed]",
      "text/plain": [
       "<Figure size 432x288 with 2 Axes>"
      ]
     },
     "metadata": {
      "needs_background": "light"
     },
     "output_type": "display_data"
    },
    {
     "name": "stdout",
     "output_type": "stream",
     "text": [
      "Precision: 0.530\n",
      "Recall: 0.501\n",
      "F1: 0.515\n",
      "Accuracy: 0.528\n"
     ]
    }
   ],
   "source": [
    "embedding = SpectralEmbedding(n_components=10)\n",
    "X_transformed2 = embedding.fit_transform(adj_matrices(new_graph_list))\n",
    "X_transformed2.shape\n",
    "\n",
    "X_resampled, y_resampled = sampler.fit_resample(X_transformed2, y)\n",
    "\n",
    "X_train, X_test, y_train, y_test = train_test_split(X_resampled, y_resampled,\n",
    "                                                        test_size = 0.25,\n",
    "                                                        stratify = y_resampled)\n",
    "\n",
    "clf = rf(max_depth=5, max_features=\"log2\")\n",
    "clf.fit(X_train, y_train)\n",
    "y_pred = clf.predict(X_test)\n",
    "model_metrics(clf, y_test, y_pred)"
   ]
  }
 ],
 "metadata": {
  "kernelspec": {
   "display_name": "Python 3 (ipykernel)",
   "language": "python",
   "name": "python3"
  },
  "language_info": {
   "codemirror_mode": {
    "name": "ipython",
    "version": 3
   },
   "file_extension": ".py",
   "mimetype": "text/x-python",
   "name": "python",
   "nbconvert_exporter": "python",
   "pygments_lexer": "ipython3",
   "version": "3.9.7"
  }
 },
 "nbformat": 4,
 "nbformat_minor": 5
}
