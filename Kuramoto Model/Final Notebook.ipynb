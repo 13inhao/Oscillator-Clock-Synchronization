{
 "cells": [
  {
   "cell_type": "code",
   "execution_count": 1,
   "id": "c44c7e58",
   "metadata": {},
   "outputs": [],
   "source": [
    "from kuramoto import Kuramoto\n",
    "from kuramoto.nmf import *\n",
    "from NNetwork import NNetwork as nn\n",
    "\n",
    "import networkx as nx\n",
    "import seaborn as sns"
   ]
  },
  {
   "cell_type": "code",
   "execution_count": 26,
   "id": "c82a1b41",
   "metadata": {},
   "outputs": [],
   "source": [
    "def adj_to_coladj(adj_mat, dynamics):\n",
    "    col_adj = np.zeros((adj_mat.shape[0], adj_mat.shape[1]))\n",
    "    for i in range(adj_mat.shape[0]):\n",
    "        for j in range(i, adj_mat.shape[1]):\n",
    "            if i == j or adj_mat[i][j] == 0:\n",
    "                col_adj[i][j] = 0\n",
    "                col_adj[j][i] = 0\n",
    "            if adj_mat[i][j] == 1:\n",
    "                a = abs(dynamics[j] - dynamics[i])\n",
    "                b = abs(2*np.pi + (dynamics[j] - dynamics[i]))\n",
    "                col_adj[i][j] = min(a, b)\n",
    "                col_adj[j][i] = min(a, b)\n",
    "                                         \n",
    "    return col_adj"
   ]
  },
  {
   "cell_type": "code",
   "execution_count": 5,
   "id": "0370a0b8",
   "metadata": {},
   "outputs": [],
   "source": [
    "def predict_concentration(colors):\n",
    "        '''\n",
    "        computes width from a color list\n",
    "        '''\n",
    "        ordered = list(np.pi - colors); ordered.sort()\n",
    "        lordered = len(ordered)\n",
    "        threshold = np.pi\n",
    "        if ordered == 0:\n",
    "            assert(\"Empty array or logic error.\")\n",
    "        elif lordered == 1:\n",
    "            return 0\n",
    "        elif lordered == 2:\n",
    "            dw = ordered[1]-ordered[0]\n",
    "            if dw > threshold:\n",
    "                return 2*np.pi - dw\n",
    "            else:\n",
    "                return dw\n",
    "        else:\n",
    "            widths = [2*np.pi+ordered[0]-ordered[-1]]\n",
    "            for i in range(lordered-1):\n",
    "                widths.append(ordered[i+1]-ordered[i])\n",
    "            return np.abs(2*np.pi - max(widths))"
   ]
  },
  {
   "cell_type": "code",
   "execution_count": 44,
   "id": "d6f8adc9",
   "metadata": {},
   "outputs": [],
   "source": [
    "model = Kuramoto(\n",
    "    coupling=3,\n",
    "    dt=0.01,\n",
    "    T=100,\n",
    "    n_nodes=25,\n",
    "    base_iter=126,\n",
    "    natfreqs=None,\n",
    "    half_sync=False\n",
    ")"
   ]
  },
  {
   "cell_type": "code",
   "execution_count": 47,
   "id": "54a5cdce",
   "metadata": {},
   "outputs": [],
   "source": [
    "G = nx.newman_watts_strogatz_graph(25, 10, 0.67)\n",
    "adj = nx.to_numpy_array(G)\n",
    "sim = model.run(adj)"
   ]
  },
  {
   "cell_type": "code",
   "execution_count": 48,
   "id": "dccb238b",
   "metadata": {},
   "outputs": [
    {
     "name": "stdout",
     "output_type": "stream",
     "text": [
      "207\n"
     ]
    }
   ],
   "source": [
    "for i in range(1, 250):\n",
    "    if predict_concentration(sim.T[i]) < np.pi:\n",
    "        print(i)\n",
    "        break"
   ]
  },
  {
   "cell_type": "code",
   "execution_count": 50,
   "id": "423939ca",
   "metadata": {
    "scrolled": true
   },
   "outputs": [
    {
     "data": {
      "image/png": "[encoded data removed]",
      "text/plain": [
       "<Figure size 432x288 with 1 Axes>"
      ]
     },
     "metadata": {},
     "output_type": "display_data"
    }
   ],
   "source": [
    "heatmap = sns.heatmap(adj, cbar=False, robust=True, square=True, xticklabels=False, yticklabels=False)\n",
    "\n",
    "heatmap = heatmap.get_figure()\n",
    "heatmap.savefig('report_figs/nws_coladj/nws_adj.png')"
   ]
  },
  {
   "cell_type": "code",
   "execution_count": 52,
   "id": "4e0929ce",
   "metadata": {},
   "outputs": [
    {
     "data": {
      "image/png": "[encoded data removed]",
      "text/plain": [
       "<Figure size 432x288 with 1 Axes>"
      ]
     },
     "metadata": {},
     "output_type": "display_data"
    }
   ],
   "source": [
    "dynamics = sim.T[0]\n",
    "col_adj = adj_to_coladj(adj, dynamics)\n",
    "heatmap = sns.heatmap(col_adj, robust=True, square=True,\n",
    "            xticklabels=False, yticklabels=False, \n",
    "            cbar=False,\n",
    "            vmin=0, vmax=2*np.pi)\n",
    "\n",
    "heatmap = heatmap.get_figure()\n",
    "heatmap.savefig('report_figs/nws_coladj/nws0.png')"
   ]
  },
  {
   "cell_type": "code",
   "execution_count": 54,
   "id": "f4d5640f",
   "metadata": {},
   "outputs": [
    {
     "data": {
      "image/png": "[encoded data removed]",
      "text/plain": [
       "<Figure size 432x288 with 1 Axes>"
      ]
     },
     "metadata": {},
     "output_type": "display_data"
    }
   ],
   "source": [
    "dynamics = sim.T[50]\n",
    "col_adj = adj_to_coladj(adj, dynamics)\n",
    "heatmap = sns.heatmap(col_adj, robust=True, square=True,\n",
    "            xticklabels=False, yticklabels=False, \n",
    "            cbar=False,\n",
    "            vmin=0, vmax=2*np.pi)\n",
    "\n",
    "heatmap = heatmap.get_figure()\n",
    "heatmap.savefig('report_figs/nws_coladj/nws50.png')"
   ]
  },
  {
   "cell_type": "code",
   "execution_count": 57,
   "id": "f0b6b81f",
   "metadata": {},
   "outputs": [
    {
     "data": {
      "image/png": "[encoded data removed]",
      "text/plain": [
       "<Figure size 432x288 with 1 Axes>"
      ]
     },
     "metadata": {},
     "output_type": "display_data"
    }
   ],
   "source": [
    "dynamics = sim.T[100]\n",
    "col_adj = adj_to_coladj(adj, dynamics)\n",
    "heatmap = sns.heatmap(col_adj, robust=True, square=True,\n",
    "            xticklabels=False, yticklabels=False, \n",
    "            cbar=False,\n",
    "            vmin=0, vmax=2*np.pi)\n",
    "\n",
    "heatmap = heatmap.get_figure()\n",
    "heatmap.savefig('report_figs/nws_coladj/nws100.png')"
   ]
  },
  {
   "cell_type": "code",
   "execution_count": 60,
   "id": "ff57ed7e",
   "metadata": {},
   "outputs": [
    {
     "data": {
      "image/png": "[encoded data removed]",
      "text/plain": [
       "<Figure size 432x288 with 1 Axes>"
      ]
     },
     "metadata": {},
     "output_type": "display_data"
    }
   ],
   "source": [
    "dynamics = sim.T[150]\n",
    "col_adj = adj_to_coladj(adj, dynamics)\n",
    "heatmap = sns.heatmap(col_adj, robust=True, square=True,\n",
    "            xticklabels=False, yticklabels=False, \n",
    "            cbar=False,\n",
    "            vmin=0, vmax=2*np.pi)\n",
    "\n",
    "heatmap = heatmap.get_figure()\n",
    "heatmap.savefig('report_figs/nws_coladj/nws150.png')"
   ]
  },
  {
   "cell_type": "code",
   "execution_count": 62,
   "id": "824a1f23",
   "metadata": {},
   "outputs": [
    {
     "data": {
      "image/png": "[encoded data removed]",
      "text/plain": [
       "<Figure size 432x288 with 1 Axes>"
      ]
     },
     "metadata": {},
     "output_type": "display_data"
    }
   ],
   "source": [
    "dynamics = sim.T[200]\n",
    "col_adj = adj_to_coladj(adj, dynamics)\n",
    "heatmap = sns.heatmap(col_adj, robust=True, square=True,\n",
    "            xticklabels=False, yticklabels=False, \n",
    "            cbar=False,\n",
    "            vmin=0, vmax=2*np.pi)\n",
    "\n",
    "heatmap = heatmap.get_figure()\n",
    "heatmap.savefig('report_figs/nws_coladj/nws200.png')"
   ]
  },
  {
   "cell_type": "code",
   "execution_count": 64,
   "id": "fab1a0b9",
   "metadata": {},
   "outputs": [
    {
     "data": {
      "image/png": "[encoded data removed]",
      "text/plain": [
       "<Figure size 432x288 with 1 Axes>"
      ]
     },
     "metadata": {},
     "output_type": "display_data"
    }
   ],
   "source": [
    "dynamics = sim.T[250]\n",
    "col_adj = adj_to_coladj(adj, dynamics)\n",
    "heatmap = sns.heatmap(col_adj, robust=True, square=True,\n",
    "            xticklabels=False, yticklabels=False, \n",
    "            cbar=False,\n",
    "            vmin=0, vmax=2*np.pi)\n",
    "\n",
    "heatmap = heatmap.get_figure()\n",
    "heatmap.savefig('report_figs/nws_coladj/nws250.png')"
   ]
  },
  {
   "cell_type": "code",
   "execution_count": null,
   "id": "4fae880a",
   "metadata": {},
   "outputs": [],
   "source": []
  },
  {
   "cell_type": "code",
   "execution_count": 65,
   "id": "a8a090d3",
   "metadata": {},
   "outputs": [],
   "source": [
    "model = Kuramoto(\n",
    "    coupling=1.5,\n",
    "    dt=0.01,\n",
    "    T=100,\n",
    "    n_nodes=50,\n",
    "    base_iter=126,\n",
    "    natfreqs=None,\n",
    "    half_sync=False\n",
    ")"
   ]
  },
  {
   "cell_type": "code",
   "execution_count": 66,
   "id": "5093f4d4",
   "metadata": {},
   "outputs": [],
   "source": [
    "G = nx.cycle_graph(50)\n",
    "adj = nx.to_numpy_array(G)\n",
    "sim = model.run(adj)"
   ]
  },
  {
   "cell_type": "code",
   "execution_count": 67,
   "id": "9f2b7495",
   "metadata": {},
   "outputs": [],
   "source": [
    "for i in range(1, 1000):\n",
    "    if predict_concentration(sim.T[i]) < np.pi:\n",
    "        print(i)\n",
    "        break"
   ]
  },
  {
   "cell_type": "code",
   "execution_count": 68,
   "id": "a44fcb41",
   "metadata": {},
   "outputs": [
    {
     "data": {
      "image/png": "[encoded data removed]",
      "text/plain": [
       "<Figure size 432x288 with 1 Axes>"
      ]
     },
     "metadata": {},
     "output_type": "display_data"
    }
   ],
   "source": [
    "heatmap = sns.heatmap(adj, cbar=False, robust=True, square=True, xticklabels=False, yticklabels=False)\n",
    "\n",
    "heatmap = heatmap.get_figure()\n",
    "heatmap.savefig('report_figs/cyc_coladj/cyc_adj.png')"
   ]
  },
  {
   "cell_type": "code",
   "execution_count": 70,
   "id": "258dad75",
   "metadata": {},
   "outputs": [
    {
     "data": {
      "image/png": "[encoded data removed]",
      "text/plain": [
       "<Figure size 432x288 with 1 Axes>"
      ]
     },
     "metadata": {},
     "output_type": "display_data"
    }
   ],
   "source": [
    "dynamics = sim.T[0]\n",
    "col_adj = adj_to_coladj(adj, dynamics)\n",
    "heatmap = sns.heatmap(col_adj, robust=True, square=True,\n",
    "            xticklabels=False, yticklabels=False, \n",
    "            cbar=False,\n",
    "            vmin=0, vmax=2*np.pi);\n",
    "\n",
    "heatmap = heatmap.get_figure()\n",
    "heatmap.savefig('report_figs/cyc_coladj/cyc0.png')"
   ]
  },
  {
   "cell_type": "code",
   "execution_count": 71,
   "id": "f6921b2f",
   "metadata": {},
   "outputs": [
    {
     "data": {
      "image/png": "[encoded data removed]",
      "text/plain": [
       "<Figure size 432x288 with 1 Axes>"
      ]
     },
     "metadata": {},
     "output_type": "display_data"
    }
   ],
   "source": [
    "dynamics = sim.T[50]\n",
    "col_adj = adj_to_coladj(adj, dynamics)\n",
    "heatmap = sns.heatmap(col_adj, robust=True, square=True,\n",
    "            xticklabels=False, yticklabels=False, \n",
    "            cbar=False,\n",
    "            vmin=0, vmax=2*np.pi);\n",
    "\n",
    "heatmap = heatmap.get_figure()\n",
    "heatmap.savefig('report_figs/cyc_coladj/cyc50.png')"
   ]
  },
  {
   "cell_type": "code",
   "execution_count": 73,
   "id": "dd51c095",
   "metadata": {},
   "outputs": [
    {
     "data": {
      "image/png": "[encoded data removed]",
      "text/plain": [
       "<Figure size 432x288 with 1 Axes>"
      ]
     },
     "metadata": {},
     "output_type": "display_data"
    }
   ],
   "source": [
    "dynamics = sim.T[100]\n",
    "col_adj = adj_to_coladj(adj, dynamics)\n",
    "heatmap = sns.heatmap(col_adj, robust=True, square=True,\n",
    "            xticklabels=False, yticklabels=False, \n",
    "            cbar=False,\n",
    "            vmin=0, vmax=2*np.pi);\n",
    "\n",
    "heatmap = heatmap.get_figure()\n",
    "heatmap.savefig('report_figs/cyc_coladj/cyc100.png')"
   ]
  },
  {
   "cell_type": "code",
   "execution_count": 74,
   "id": "1e67951b",
   "metadata": {},
   "outputs": [
    {
     "data": {
      "image/png": "[encoded data removed]",
      "text/plain": [
       "<Figure size 432x288 with 1 Axes>"
      ]
     },
     "metadata": {},
     "output_type": "display_data"
    }
   ],
   "source": [
    "dynamics = sim.T[150]\n",
    "col_adj = adj_to_coladj(adj, dynamics)\n",
    "heatmap = sns.heatmap(col_adj, robust=True, square=True,\n",
    "            xticklabels=False, yticklabels=False, \n",
    "            cbar=False,\n",
    "            vmin=0, vmax=2*np.pi);\n",
    "\n",
    "heatmap = heatmap.get_figure()\n",
    "heatmap.savefig('report_figs/cyc_coladj/cyc150.png')"
   ]
  },
  {
   "cell_type": "code",
   "execution_count": 75,
   "id": "e51315d9",
   "metadata": {},
   "outputs": [
    {
     "data": {
      "image/png": "[encoded data removed]",
      "text/plain": [
       "<Figure size 432x288 with 1 Axes>"
      ]
     },
     "metadata": {},
     "output_type": "display_data"
    }
   ],
   "source": [
    "dynamics = sim.T[200]\n",
    "col_adj = adj_to_coladj(adj, dynamics)\n",
    "heatmap = sns.heatmap(col_adj, robust=True, square=True,\n",
    "            xticklabels=False, yticklabels=False, \n",
    "            cbar=False,\n",
    "            vmin=0, vmax=2*np.pi);\n",
    "\n",
    "heatmap = heatmap.get_figure()\n",
    "heatmap.savefig('report_figs/cyc_coladj/cyc200.png')"
   ]
  },
  {
   "cell_type": "code",
   "execution_count": 76,
   "id": "1a4bef57",
   "metadata": {},
   "outputs": [
    {
     "data": {
      "image/png": "[encoded data removed]",
      "text/plain": [
       "<Figure size 432x288 with 1 Axes>"
      ]
     },
     "metadata": {},
     "output_type": "display_data"
    }
   ],
   "source": [
    "dynamics = sim.T[250]\n",
    "col_adj = adj_to_coladj(adj, dynamics)\n",
    "heatmap = sns.heatmap(col_adj, robust=True, square=True,\n",
    "            xticklabels=False, yticklabels=False, \n",
    "            cbar=False,\n",
    "            vmin=0, vmax=2*np.pi);\n",
    "\n",
    "heatmap = heatmap.get_figure()\n",
    "heatmap.savefig('report_figs/cyc_coladj/cyc250.png')"
   ]
  }
 ],
 "metadata": {
  "kernelspec": {
   "display_name": "Python 3 (ipykernel)",
   "language": "python",
   "name": "python3"
  },
  "language_info": {
   "codemirror_mode": {
    "name": "ipython",
    "version": 3
   },
   "file_extension": ".py",
   "mimetype": "text/x-python",
   "name": "python",
   "nbconvert_exporter": "python",
   "pygments_lexer": "ipython3",
   "version": "3.9.13"
  }
 },
 "nbformat": 4,
 "nbformat_minor": 5
}
