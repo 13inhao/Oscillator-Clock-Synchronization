{
 "cells": [
  {
   "cell_type": "code",
   "execution_count": 2,
   "id": "95626d03",
   "metadata": {},
   "outputs": [],
   "source": [
    "from NNetwork.NNetwork import NNetwork\n",
    "import numpy as np\n",
    "import pandas as pd\n",
    "import networkx as nx\n",
    "import random\n",
    "import seaborn as sns"
   ]
  },
  {
   "cell_type": "code",
   "execution_count": 1,
   "id": "ba3b3a22",
   "metadata": {},
   "outputs": [],
   "source": [
    "\"\"\"input: graph G, current state s (array), k(color FCA), number of iteration\"\"\"\n",
    "def FCA(G, s, k, iteration):\n",
    "    b = (k-1)//2 #blinking color\n",
    "    ret = s\n",
    "    s_next = np.zeros(G.number_nodes)\n",
    "    for h in range(iteration):\n",
    "        if h != 0:\n",
    "            s = s_next #update to the newest state\n",
    "            ret = np.vstack((ret, s_next))\n",
    "        s_next = np.zeros(G.number_nodes)\n",
    "        for i in range(G.number_nodes):\n",
    "            flag = False #true if inhibited by the blinking neighbor\n",
    "            if s[i]>b:\n",
    "                for j in range(G.number_nodes):\n",
    "                    if s[j] == b and G.vertices[j] in G.neighbors(G.vertices[i]):\n",
    "                        flag = True\n",
    "                if flag:\n",
    "                    s_next[i] = s[i]\n",
    "                else:\n",
    "                    s_next[i] = (s[i]+1)%k\n",
    "            else:\n",
    "                s_next[i] = (s[i]+1)%k\n",
    "    return ret"
   ]
  },
  {
   "cell_type": "code",
   "execution_count": 121,
   "id": "50d67815",
   "metadata": {},
   "outputs": [
    {
     "data": {
      "text/plain": [
       "array([[0., 2.],\n",
       "       [1., 3.],\n",
       "       [2., 3.],\n",
       "       [3., 0.],\n",
       "       [0., 1.],\n",
       "       [1., 2.],\n",
       "       [2., 2.],\n",
       "       [3., 3.],\n",
       "       [0., 0.],\n",
       "       [1., 1.]])"
      ]
     },
     "execution_count": 121,
     "metadata": {},
     "output_type": "execute_result"
    }
   ],
   "source": [
    "edgelist = [['a', 'b']]\n",
    "G = NNetwork()\n",
    "G.add_edges(edgelist)\n",
    "ret = FCA(G, [0, 2], 4, 10)\n",
    "ret"
   ]
  },
  {
   "cell_type": "code",
   "execution_count": 122,
   "id": "1ee0b0c5",
   "metadata": {},
   "outputs": [
    {
     "data": {
      "text/plain": [
       "array([[1., 3.],\n",
       "       [2., 4.],\n",
       "       [3., 4.],\n",
       "       [4., 5.],\n",
       "       [5., 0.],\n",
       "       [0., 1.],\n",
       "       [1., 2.],\n",
       "       [2., 3.],\n",
       "       [3., 3.],\n",
       "       [4., 4.]])"
      ]
     },
     "execution_count": 122,
     "metadata": {},
     "output_type": "execute_result"
    }
   ],
   "source": [
    "ret = FCA(G, [1, 3], 6, 10)\n",
    "ret"
   ]
  },
  {
   "cell_type": "code",
   "execution_count": 20,
   "id": "6934ee37",
   "metadata": {},
   "outputs": [
    {
     "data": {
      "text/plain": [
       "<AxesSubplot:>"
      ]
     },
     "execution_count": 20,
     "metadata": {},
     "output_type": "execute_result"
    },
    {
     "data": {
      "image/png": "[encoded data removed]",
      "text/plain": [
       "<Figure size 432x288 with 2 Axes>"
      ]
     },
     "metadata": {
      "needs_background": "light"
     },
     "output_type": "display_data"
    }
   ],
   "source": [
    "edgelist = [['a','b'], ['a', 'c'], ['b', 'c'], ['b', 'd'], ['c', 'e'], ['d', 'e']]\n",
    "G = NNetwork()\n",
    "G.add_edges(edgelist)\n",
    "ret = FCA(G, [1, 2, 3, 1, 4], 6, 15)"
   ]
  },
  {
   "cell_type": "code",
   "execution_count": 124,
   "id": "bbe7fadf",
   "metadata": {},
   "outputs": [
    {
     "data": {
      "text/plain": [
       "array([[3., 0., 1., 2., 3., 4., 5.],\n",
       "       [4., 1., 2., 3., 4., 5., 0.],\n",
       "       [5., 2., 3., 4., 5., 0., 1.]])"
      ]
     },
     "execution_count": 124,
     "metadata": {},
     "output_type": "execute_result"
    }
   ],
   "source": [
    "edgelist = [['1', '0'], ['2', '0'], ['3', '0'], ['4', '0'], ['5', '0'], ['6', '0']]\n",
    "G = NNetwork()\n",
    "G.add_edges(edgelist)\n",
    "ret = FCA(G, [3, 0, 1, 2, 3, 4, 5], 6, 3)\n",
    "ret"
   ]
  },
  {
   "cell_type": "code",
   "execution_count": 125,
   "id": "ee954797",
   "metadata": {},
   "outputs": [
    {
     "data": {
      "text/plain": [
       "array([[0., 2., 4., 5.],\n",
       "       [1., 3., 4., 5.],\n",
       "       [2., 4., 5., 0.]])"
      ]
     },
     "execution_count": 125,
     "metadata": {},
     "output_type": "execute_result"
    }
   ],
   "source": [
    "edgelist = [['0', '2'], ['0', '4'], ['0', '5'], ['2', '4'], ['2', '5'], ['5', '4']]\n",
    "G = NNetwork()\n",
    "G.add_edges(edgelist)\n",
    "ret = FCA(G, [0,2,4,5], 6, 3)\n",
    "ret"
   ]
  },
  {
   "cell_type": "code",
   "execution_count": 4,
   "id": "65b78878",
   "metadata": {
    "scrolled": true
   },
   "outputs": [
    {
     "data": {
      "text/plain": [
       "<AxesSubplot:>"
      ]
     },
     "execution_count": 4,
     "metadata": {},
     "output_type": "execute_result"
    },
    {
     "data": {
      "image/png": "[encoded data removed]",
      "text/plain": [
       "<Figure size 432x288 with 2 Axes>"
      ]
     },
     "metadata": {
      "needs_background": "light"
     },
     "output_type": "display_data"
    }
   ],
   "source": [
    "#generate a grid 2d graph with 400 nodes\n",
    "G = nx.grid_2d_graph(10, 40)\n",
    "G.edges()\n",
    "new_nodes = {e: n for n, e in enumerate(G.nodes, start=1)}\n",
    "new_edges = [(new_nodes[e1], new_nodes[e2]) for e1, e2 in G.edges]\n",
    "edgelist = [] #update the formate of edgelist to match with NNetwork input\n",
    "for i in range(len(new_edges)):\n",
    "    temp = [str(new_edges[i][0]), str(new_edges[i][1])]\n",
    "    edgelist.append(temp)\n",
    "G = NNetwork()\n",
    "G.add_edges(edgelist)\n",
    "\n",
    "S = []\n",
    "for i in range(400):\n",
    "    S.append(random.randint(0, 3))\n",
    "ret = FCA(G, S, 4, 120)\n",
    "df = pd.DataFrame(ret)\n",
    "sns.heatmap(df)"
   ]
  },
  {
   "cell_type": "code",
   "execution_count": null,
   "id": "91bde42a",
   "metadata": {},
   "outputs": [],
   "source": []
  }
 ],
 "metadata": {
  "@webio": {
   "lastCommId": null,
   "lastKernelId": null
  },
  "kernelspec": {
   "display_name": "Python 3",
   "language": "python",
   "name": "python3"
  },
  "language_info": {
   "codemirror_mode": {
    "name": "ipython",
    "version": 3
   },
   "file_extension": ".py",
   "mimetype": "text/x-python",
   "name": "python",
   "nbconvert_exporter": "python",
   "pygments_lexer": "ipython3",
   "version": "3.8.8"
  }
 },
 "nbformat": 4,
 "nbformat_minor": 5
}
