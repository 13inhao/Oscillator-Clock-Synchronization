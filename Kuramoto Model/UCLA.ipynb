{
 "cells": [
  {
   "cell_type": "code",
   "execution_count": 1,
   "id": "841c0647",
   "metadata": {},
   "outputs": [],
   "source": [
    "import numpy as np\n",
    "from tqdm import trange\n",
    "\n",
    "from kuramoto import Kuramoto\n",
    "from kuramoto.db_metrics import *\n",
    "\n",
    "from NNetwork import NNetwork as nn\n",
    "import networkx as nx\n",
    "\n",
    "import matplotlib.pyplot as plt\n",
    "import matplotlib.gridspec as gridspec\n",
    "\n",
    "from sklearn import svm\n",
    "from sklearn import metrics, model_selection\n",
    "from sklearn.cluster import KMeans\n",
    "from sklearn.decomposition import PCA ### Use truncated SVD / online PCA later for better computational efficiency\n",
    "\n",
    "import warnings\n",
    "warnings.filterwarnings(\"ignore\")"
   ]
  },
  {
   "cell_type": "markdown",
   "id": "c0fc5513",
   "metadata": {},
   "source": [
    "## Plotting Functions"
   ]
  },
  {
   "cell_type": "markdown",
   "id": "936145ae",
   "metadata": {},
   "source": [
    "#### 1. Display Graphs"
   ]
  },
  {
   "cell_type": "code",
   "execution_count": 2,
   "id": "0405f3cc",
   "metadata": {},
   "outputs": [],
   "source": [
    "def display_graphs(title,\n",
    "                     save_path,\n",
    "                     grid_shape=[2,3],\n",
    "                     fig_size=[10,10],\n",
    "                     data = None, # [X, embs]\n",
    "                     show_importance=False):\n",
    "\n",
    "        # columns of X = vectorized k x k adjacency matrices\n",
    "        # corresponding list in embs = sequence of nodes (may overalp)\n",
    "        X, embs = data\n",
    "        print('X.shape', X.shape)\n",
    "\n",
    "        rows = grid_shape[0]\n",
    "        cols = grid_shape[1]\n",
    "\n",
    "        fig = plt.figure(figsize=fig_size, constrained_layout=False)\n",
    "        # make outer gridspec\n",
    "\n",
    "        idx = np.arange(X.shape[1])\n",
    "        outer_grid = gridspec.GridSpec(nrows=rows, ncols=cols, wspace=0.02, hspace=0.02)\n",
    "\n",
    "        # make nested gridspecs\n",
    "        for i in range(rows * cols):\n",
    "            a = i // cols\n",
    "            b = i % rows\n",
    "\n",
    "            Ndict_wspace = 0.05\n",
    "            Ndict_hspace = 0.05\n",
    "\n",
    "            # display graphs\n",
    "            inner_grid = outer_grid[i].subgridspec(1, 1, wspace=Ndict_wspace, hspace=Ndict_hspace)\n",
    "\n",
    "            # get rid of duplicate nodes\n",
    "            A = X[:,idx[i]]\n",
    "            A = X[:,idx[i]].reshape(int(np.sqrt(X.shape[0])), -1)\n",
    "            H = nn.NNetwork()\n",
    "            H.read_adj(A, embs[idx[i]])\n",
    "            A_sub = H.get_adjacency_matrix()\n",
    "\n",
    "            # read in as a nx graph for plotting\n",
    "            G1 = nx.from_numpy_matrix(A_sub)\n",
    "            ax = fig.add_subplot(inner_grid[0, 0])\n",
    "            pos = nx.spring_layout(G1)\n",
    "            edges = G1.edges()\n",
    "            weights = [1*G1[u][v]['weight'] for u,v in edges]\n",
    "            nx.draw(G1, with_labels=False, node_size=20, ax=ax, width=weights, label='Graph')\n",
    "\n",
    "            ax.set_xticks([])\n",
    "            ax.set_yticks([])\n",
    "\n",
    "        plt.suptitle(title, fontsize=15)\n",
    "        fig.subplots_adjust(left=0.1, bottom=0.1, right=0.9, top=0.9, wspace=0.2, hspace=0)\n",
    "        fig.savefig(save_path, bbox_inches='tight')"
   ]
  },
  {
   "cell_type": "markdown",
   "id": "0d231811",
   "metadata": {},
   "source": [
    "#### 2. Display Dictionaries"
   ]
  },
  {
   "cell_type": "code",
   "execution_count": 3,
   "id": "384343e6",
   "metadata": {},
   "outputs": [],
   "source": [
    "def display_dictionary(W, dictionary_shape=None ,save_name=None, score=None, grid_shape=None, figsize=[10,10]):\n",
    "    \n",
    "    if dictionary_shape is None:\n",
    "        k = int(np.sqrt(W.shape[0]))\n",
    "        dict_shape = (k,k)\n",
    "    else:\n",
    "        dict_shape = dictionary_shape\n",
    "        \n",
    "    rows = int(np.sqrt(W.shape[1]))\n",
    "    cols = int(np.sqrt(W.shape[1]))\n",
    "    if grid_shape is not None:\n",
    "        rows = grid_shape[0]\n",
    "        cols = grid_shape[1]\n",
    "    \n",
    "    figsize0=figsize\n",
    "    if (score is None) and (grid_shape is not None):\n",
    "        figsize0=(cols, rows)\n",
    "    if (score is not None) and (grid_shape is not None):\n",
    "        figsize0=(cols, rows+0.2)\n",
    "    \n",
    "    fig, axs = plt.subplots(nrows=rows, ncols=cols, figsize=figsize0,\n",
    "                            subplot_kw={'xticks': [], 'yticks': []})\n",
    "        \n",
    "        \n",
    "    for ax, i in zip(axs.flat, range(100)):\n",
    "        if score is not None:\n",
    "            idx = np.argsort(score)\n",
    "            idx = np.flip(idx)    \n",
    "            \n",
    "            ax.imshow(W.T[idx[i]].reshape(dict_shape), cmap=\"viridis\", interpolation='nearest')\n",
    "            ax.set_xlabel('%1.2f' % score[i], fontsize=13)  # get the largest first\n",
    "            ax.xaxis.set_label_coords(0.5, -0.05)\n",
    "        else: \n",
    "            ax.imshow(W.T[i].reshape(dict_shape), cmap=\"viridis\", interpolation='nearest')\n",
    "            if score is not None:\n",
    "                ax.set_xlabel('%1.2f' % score[i], fontsize=13)  # get the largest first\n",
    "                ax.xaxis.set_label_coords(0.5, -0.05)\n",
    "       \n",
    "    plt.tight_layout()\n",
    "    # plt.suptitle('Dictionary learned from patches of size %d' % k, fontsize=16)\n",
    "    plt.subplots_adjust(0.08, 0.02, 0.92, 0.85, 0.08, 0.23)\n",
    "    \n",
    "    if save_name is not None:\n",
    "        plt.savefig( save_name, bbox_inches='tight')\n",
    "    plt.show()"
   ]
  },
  {
   "cell_type": "markdown",
   "id": "3bdda565",
   "metadata": {},
   "source": [
    "#### 3. Display both Graphs and Dictionaries"
   ]
  },
  {
   "cell_type": "code",
   "execution_count": 4,
   "id": "6032fc8d",
   "metadata": {},
   "outputs": [],
   "source": [
    "def display_dict_and_graph(title,\n",
    "                           W,\n",
    "                           singular_values, \n",
    "                           save_path,\n",
    "                           grid_shape=None,\n",
    "                           fig_size=[10,10],\n",
    "                           show_importance=False,\n",
    "                           only_show_matrices=True):\n",
    "        \n",
    "        n_components = W.shape[1]\n",
    "        k = int(np.sqrt(W.shape[0]))\n",
    "\n",
    "        rows = np.round(np.sqrt(n_components))\n",
    "        rows = rows.astype(int)\n",
    "        if grid_shape is not None:\n",
    "            rows = grid_shape[0]\n",
    "            cols = grid_shape[1]\n",
    "        else:\n",
    "            if rows ** 2 == n_components:\n",
    "                cols = rows\n",
    "            else:\n",
    "                cols = rows + 1\n",
    "\n",
    "        if show_importance:\n",
    "            # importance = np.sum(self.code, axis=1) / sum(sum(self.code))\n",
    "            idx = np.argsort(singular_values)\n",
    "            idx = np.flip(idx)\n",
    "        else:\n",
    "            idx = np.arange(W.shape[1])\n",
    "\n",
    "        Ndict_wspace = 0.05\n",
    "        Ndict_hspace = 0.05\n",
    "\n",
    "        fig = plt.figure(figsize=fig_size, constrained_layout=False)\n",
    "        ncols = 2 \n",
    "        if only_show_matrices:\n",
    "            ncols = 1\n",
    "        outer_grid = gridspec.GridSpec(nrows=1, ncols=ncols, wspace=0.02, hspace=0.02)\n",
    "        for t in np.arange(2):\n",
    "            # make nested gridspecs\n",
    "\n",
    "            if t == 0:\n",
    "                ### Make gridspec\n",
    "                inner_grid = outer_grid[t].subgridspec(rows, cols, wspace=Ndict_wspace, hspace=Ndict_hspace)\n",
    "                #gs1 = fig.add_gridspec(nrows=rows, ncols=cols, wspace=0.05, hspace=0.05)\n",
    "\n",
    "                for i in range(rows * cols):\n",
    "                    a = i // cols\n",
    "                    b = i % cols\n",
    "                    ax = fig.add_subplot(inner_grid[a, b])\n",
    "                    ax.imshow(W.T[idx[i]].reshape(k, k), cmap=\"viridis\", interpolation='nearest')\n",
    "                    # ax.set_xlabel('%1.2f' % importance[idx[i]], fontsize=13)  # get the largest first\n",
    "                    # ax.xaxis.set_label_coords(0.5, -0.05)  # adjust location of importance appearing beneath patches\n",
    "                    ax.set_xticks([])\n",
    "                    ax.set_yticks([])\n",
    "            if (t == 1) and not only_show_matrices:\n",
    "                inner_grid = outer_grid[t].subgridspec(rows, cols, wspace=Ndict_wspace, hspace=Ndict_hspace)\n",
    "                #gs1 = fig.add_gridspec(nrows=rows, ncols=cols, wspace=0.05, hspace=0.05)\n",
    "\n",
    "                for i in range(rows * cols):\n",
    "                    a = i // cols\n",
    "                    b = i % cols\n",
    "\n",
    "                    G1 = nx.from_numpy_matrix(W[:,idx[i]].reshape(int(np.sqrt(W.shape[0])),-1))\n",
    "                    ax = fig.add_subplot(inner_grid[a, b])\n",
    "                    pos = nx.spring_layout(G1)\n",
    "                    edges = G1.edges()\n",
    "                    weights = [2*G1[u][v]['weight'] for u,v in edges]\n",
    "                    nx.draw(G1, with_labels=False, node_size=10, ax=ax, width=weights, label='Graph')\n",
    "                    if show_importance:\n",
    "                        ax.set_xlabel('%1.2f' % importance[idx[i]], fontsize=13)  # get the largest first\n",
    "                        ax.xaxis.set_label_coords(0.5, -0.05)  # adjust location of importance appearing beneath patches\n",
    "\n",
    "                    ax.set_xticks([])\n",
    "                    ax.set_yticks([])\n",
    "\n",
    "        if title is not None:\n",
    "            plt.suptitle(title, fontsize=25)\n",
    "        fig.subplots_adjust(left=0.1, bottom=0.1, right=0.9, top=0.9, wspace=0.2, hspace=0)\n",
    "        fig.savefig(save_path, bbox_inches='tight')"
   ]
  },
  {
   "cell_type": "markdown",
   "id": "bea3f45f",
   "metadata": {},
   "source": [
    "## NMF Functions"
   ]
  },
  {
   "cell_type": "code",
   "execution_count": 5,
   "id": "abf40961",
   "metadata": {},
   "outputs": [],
   "source": [
    "def coding(X, W, H0, \n",
    "          r=None, \n",
    "          a1=0, #L1 regularizer\n",
    "          a2=0, #L2 regularizer\n",
    "          sub_iter=[5], \n",
    "          stopping_grad_ratio=0.0001, \n",
    "          nonnegativity=True,\n",
    "          subsample_ratio=1):\n",
    "    \"\"\"\n",
    "    Find \\hat{H} = argmin_H ( || X - WH||_{F}^2 + a1*|H| + a2*|H|_{F}^{2} ) within radius r from H0\n",
    "    Use row-wise projected gradient descent\n",
    "    \"\"\"\n",
    "    H1 = H0.copy()\n",
    "    i = 0\n",
    "    dist = 1\n",
    "    idx = np.arange(X.shape[1])\n",
    "    if subsample_ratio>1:  # subsample columns of X and solve reduced problem (like in SGD)\n",
    "        idx = np.random.randint(X.shape[1], size=X.shape[1]//subsample_ratio)\n",
    "    A = W.T @ W ## Needed for gradient computation\n",
    "    grad = W.T @ (W @ H0 - X)\n",
    "    while (i < np.random.choice(sub_iter)):\n",
    "        step_size = (1 / (((i + 1) ** (1)) * (np.trace(A) + 1)))\n",
    "        H1 -= step_size * grad \n",
    "        if nonnegativity:\n",
    "            H1 = np.maximum(H1, 0)  # nonnegativity constraint\n",
    "        i = i + 1\n",
    "    return H1\n",
    "\n",
    "\n",
    "def ALS(X,\n",
    "        n_components = 10, # number of columns in the dictionary matrix W\n",
    "        n_iter=100,\n",
    "        a0 = 0, # L1 regularizer for H\n",
    "        a1 = 0, # L1 regularizer for W\n",
    "        a12 = 0, # L2 regularizer for W\n",
    "        H_nonnegativity=True,\n",
    "        W_nonnegativity=True,\n",
    "        compute_recons_error=False,\n",
    "        subsample_ratio = 10):\n",
    "    \n",
    "        '''\n",
    "        Given data matrix X, use alternating least squares to find factors W,H so that \n",
    "                                || X - WH ||_{F}^2 + a0*|H|_{1} + a1*|W|_{1} + a12 * |W|_{F}^{2}\n",
    "        is minimized (at least locally)\n",
    "        '''\n",
    "        \n",
    "        d, n = X.shape\n",
    "        r = n_components\n",
    "        \n",
    "        #normalization = np.linalg.norm(X.reshape(-1,1),1)/np.product(X.shape) # avg entry of X\n",
    "        #print('!!! avg entry of X', normalization)\n",
    "        #X = X/normalization\n",
    "\n",
    "        # Initialize factors \n",
    "        W = np.random.rand(d,r)\n",
    "        H = np.random.rand(r,n) \n",
    "        # H = H * np.linalg.norm(X) / np.linalg.norm(H)\n",
    "        for i in trange(n_iter):\n",
    "            #H = coding_within_radius(X, W.copy(), H.copy(), a1=a0, nonnegativity=H_nonnegativity, subsample_ratio=subsample_ratio)\n",
    "            #W = coding_within_radius(X.T, H.copy().T, W.copy().T, a1=a1, a2=a12, nonnegativity=W_nonnegativity, subsample_ratio=subsample_ratio).T\n",
    "            H = coding(X, W.copy(), H.copy(), a1=a0, nonnegativity=H_nonnegativity, subsample_ratio=subsample_ratio)\n",
    "            W = coding(X.T, H.copy().T, W.copy().T, a1=a1, a2=a12, nonnegativity=W_nonnegativity, subsample_ratio=subsample_ratio).T\n",
    "            W /= np.linalg.norm(W)\n",
    "            if compute_recons_error and (i % 10 == 0) :\n",
    "                print('iteration %i, reconstruction error %f' % (i, np.linalg.norm(X-W@H)**2))\n",
    "        return W, H"
   ]
  },
  {
   "cell_type": "markdown",
   "id": "653a1643",
   "metadata": {},
   "source": [
    "## Dictionary Plotting Functions"
   ]
  },
  {
   "cell_type": "code",
   "execution_count": 70,
   "id": "a2055b38",
   "metadata": {},
   "outputs": [],
   "source": [
    "def generate_nxg(get_patches_X):\n",
    "    \n",
    "    graph_list = []\n",
    "    for i in range(X.shape[1]):\n",
    "        adj_mat = X.T[i].reshape(50,50)\n",
    "        G = nx.from_numpy_matrix(adj_mat)\n",
    "        graph_list.append(G)\n",
    "    \n",
    "    return graph_list\n",
    "\n",
    "def synchronization(colors):\n",
    "    ordered = list(np.pi - colors); ordered.sort()\n",
    "    lordered = len(ordered)\n",
    "    \n",
    "    threshold = np.pi\n",
    "    if ordered == 0:\n",
    "        assert(\"Empty array or logic error.\")\n",
    "    elif lordered == 1:\n",
    "        return (0 < threshold)\n",
    "    elif lordered == 2:\n",
    "        dw = ordered[1]-ordered[0]\n",
    "        if dw > threshold:\n",
    "            return ((2*np.pi - dw) < threshold)\n",
    "        else:\n",
    "            return (dw < threshold)\n",
    "    else:\n",
    "        widths = [2*np.pi+ordered[0]-ordered[-1]]\n",
    "        for i in range(lordered-1):\n",
    "            widths.append(ordered[i+1]-ordered[i])\n",
    "        return (np.abs(2*np.pi - max(widths)) < threshold)"
   ]
  },
  {
   "cell_type": "markdown",
   "id": "2a0145dd",
   "metadata": {},
   "source": [
    "## Network Sampling - UCLA"
   ]
  },
  {
   "cell_type": "code",
   "execution_count": 67,
   "id": "cacdbc06",
   "metadata": {},
   "outputs": [
    {
     "name": "stdout",
     "output_type": "stream",
     "text": [
      "num nodes in G 20467\n",
      "num edges in G 1495226\n"
     ]
    }
   ],
   "source": [
    "sampling_alg = 'pivot'\n",
    "\n",
    "ntwk = 'UCLA26' # COVID_PPI, Wisconsin87, Caltech36\n",
    "ntwk_nonumber = ''.join([i for i in ntwk if not i.isdigit()])\n",
    "save_folder = 'images/'\n",
    "k = 50\n",
    "\n",
    "path = \"../Data/Networks_all_NDL/\" + str(ntwk) + '.txt'\n",
    "G = nn.NNetwork()\n",
    "G.load_add_edges(path, increment_weights=False, use_genfromtxt=True)\n",
    "print('num nodes in G', len(G.nodes()))\n",
    "print('num edges in G', len(G.get_edges()))"
   ]
  },
  {
   "cell_type": "code",
   "execution_count": 68,
   "id": "01395fd5",
   "metadata": {},
   "outputs": [
    {
     "name": "stdout",
     "output_type": "stream",
     "text": [
      "num of subgraphs induced on k-paths: 2500\n",
      "X.shape (2500, 2500)\n"
     ]
    },
    {
     "data": {
      "image/png": "[encoded data removed]",
      "text/plain": [
       "<Figure size 1080x360 with 75 Axes>"
      ]
     },
     "metadata": {},
     "output_type": "display_data"
    }
   ],
   "source": [
    "X, embs = G.get_patches(k=k, sample_size=2500, skip_folded_hom=True)\n",
    "\n",
    "display_graphs(title='Induced subgraphs on {}-walks in {}'.format(k, ntwk_nonumber),\n",
    "                 save_path=save_folder + ntwk_nonumber + \"_subgraphs_\"+ str(sampling_alg) + \"_walk\", \n",
    "                 data = [X, embs],\n",
    "                 grid_shape = [5, 15],\n",
    "                 fig_size = [15, 5],\n",
    "                 show_importance=False)"
   ]
  },
  {
   "cell_type": "code",
   "execution_count": 95,
   "id": "da9b314d",
   "metadata": {
    "scrolled": true
   },
   "outputs": [
    {
     "name": "stderr",
     "output_type": "stream",
     "text": [
      "  0%|▏                                   | 5/1000 [00:00<00:55, 17.78it/s]"
     ]
    },
    {
     "name": "stdout",
     "output_type": "stream",
     "text": [
      "iteration 0, reconstruction error 394901.851706\n"
     ]
    },
    {
     "name": "stderr",
     "output_type": "stream",
     "text": [
      "  2%|▌                                  | 15/1000 [00:00<00:50, 19.41it/s]"
     ]
    },
    {
     "name": "stdout",
     "output_type": "stream",
     "text": [
      "iteration 10, reconstruction error 154780.586986\n"
     ]
    },
    {
     "name": "stderr",
     "output_type": "stream",
     "text": [
      "  2%|▊                                  | 24/1000 [00:01<00:48, 20.22it/s]"
     ]
    },
    {
     "name": "stdout",
     "output_type": "stream",
     "text": [
      "iteration 20, reconstruction error 160602.025835\n"
     ]
    },
    {
     "name": "stderr",
     "output_type": "stream",
     "text": [
      "  3%|█▏                                 | 33/1000 [00:01<00:49, 19.56it/s]"
     ]
    },
    {
     "name": "stdout",
     "output_type": "stream",
     "text": [
      "iteration 30, reconstruction error 168309.093655\n"
     ]
    },
    {
     "name": "stderr",
     "output_type": "stream",
     "text": [
      "  4%|█▌                                 | 45/1000 [00:02<00:48, 19.69it/s]"
     ]
    },
    {
     "name": "stdout",
     "output_type": "stream",
     "text": [
      "iteration 40, reconstruction error 169053.810166\n"
     ]
    },
    {
     "name": "stderr",
     "output_type": "stream",
     "text": [
      "  5%|█▊                                 | 53/1000 [00:02<00:47, 20.04it/s]"
     ]
    },
    {
     "name": "stdout",
     "output_type": "stream",
     "text": [
      "iteration 50, reconstruction error 168938.460190\n"
     ]
    },
    {
     "name": "stderr",
     "output_type": "stream",
     "text": [
      "  6%|██▏                                | 64/1000 [00:03<00:47, 19.56it/s]"
     ]
    },
    {
     "name": "stdout",
     "output_type": "stream",
     "text": [
      "iteration 60, reconstruction error 168573.037343\n"
     ]
    },
    {
     "name": "stderr",
     "output_type": "stream",
     "text": [
      "  7%|██▌                                | 73/1000 [00:03<00:46, 19.80it/s]"
     ]
    },
    {
     "name": "stdout",
     "output_type": "stream",
     "text": [
      "iteration 70, reconstruction error 167701.395110\n"
     ]
    },
    {
     "name": "stderr",
     "output_type": "stream",
     "text": [
      "  8%|██▊                                | 82/1000 [00:04<00:47, 19.22it/s]"
     ]
    },
    {
     "name": "stdout",
     "output_type": "stream",
     "text": [
      "iteration 80, reconstruction error 165737.300386\n"
     ]
    },
    {
     "name": "stderr",
     "output_type": "stream",
     "text": [
      "  9%|███▎                               | 94/1000 [00:04<00:48, 18.54it/s]"
     ]
    },
    {
     "name": "stdout",
     "output_type": "stream",
     "text": [
      "iteration 90, reconstruction error 161612.979464\n"
     ]
    },
    {
     "name": "stderr",
     "output_type": "stream",
     "text": [
      " 10%|███▌                              | 105/1000 [00:05<00:45, 19.57it/s]"
     ]
    },
    {
     "name": "stdout",
     "output_type": "stream",
     "text": [
      "iteration 100, reconstruction error 154074.362193\n"
     ]
    },
    {
     "name": "stderr",
     "output_type": "stream",
     "text": [
      " 11%|███▉                              | 114/1000 [00:05<00:47, 18.85it/s]"
     ]
    },
    {
     "name": "stdout",
     "output_type": "stream",
     "text": [
      "iteration 110, reconstruction error 143729.350773\n"
     ]
    },
    {
     "name": "stderr",
     "output_type": "stream",
     "text": [
      " 12%|████▏                             | 124/1000 [00:06<00:44, 19.54it/s]"
     ]
    },
    {
     "name": "stdout",
     "output_type": "stream",
     "text": [
      "iteration 120, reconstruction error 136976.615933\n"
     ]
    },
    {
     "name": "stderr",
     "output_type": "stream",
     "text": [
      " 13%|████▌                             | 133/1000 [00:06<00:45, 18.87it/s]"
     ]
    },
    {
     "name": "stdout",
     "output_type": "stream",
     "text": [
      "iteration 130, reconstruction error 134928.292994\n"
     ]
    },
    {
     "name": "stderr",
     "output_type": "stream",
     "text": [
      " 14%|████▉                             | 144/1000 [00:07<00:45, 18.66it/s]"
     ]
    },
    {
     "name": "stdout",
     "output_type": "stream",
     "text": [
      "iteration 140, reconstruction error 133421.326608\n"
     ]
    },
    {
     "name": "stderr",
     "output_type": "stream",
     "text": [
      " 15%|█████▏                            | 153/1000 [00:07<00:48, 17.61it/s]"
     ]
    },
    {
     "name": "stdout",
     "output_type": "stream",
     "text": [
      "iteration 150, reconstruction error 132056.103953\n"
     ]
    },
    {
     "name": "stderr",
     "output_type": "stream",
     "text": [
      " 16%|█████▌                            | 164/1000 [00:08<00:44, 18.96it/s]"
     ]
    },
    {
     "name": "stdout",
     "output_type": "stream",
     "text": [
      "iteration 160, reconstruction error 130884.740957\n"
     ]
    },
    {
     "name": "stderr",
     "output_type": "stream",
     "text": [
      " 17%|█████▉                            | 174/1000 [00:09<00:43, 18.91it/s]"
     ]
    },
    {
     "name": "stdout",
     "output_type": "stream",
     "text": [
      "iteration 170, reconstruction error 129966.331167\n"
     ]
    },
    {
     "name": "stderr",
     "output_type": "stream",
     "text": [
      " 18%|██████▏                           | 183/1000 [00:09<00:51, 15.90it/s]"
     ]
    },
    {
     "name": "stdout",
     "output_type": "stream",
     "text": [
      "iteration 180, reconstruction error 129284.549229\n"
     ]
    },
    {
     "name": "stderr",
     "output_type": "stream",
     "text": [
      " 19%|██████▌                           | 193/1000 [00:10<00:46, 17.48it/s]"
     ]
    },
    {
     "name": "stdout",
     "output_type": "stream",
     "text": [
      "iteration 190, reconstruction error 128785.400651\n"
     ]
    },
    {
     "name": "stderr",
     "output_type": "stream",
     "text": [
      " 20%|██████▉                           | 204/1000 [00:10<00:47, 16.76it/s]"
     ]
    },
    {
     "name": "stdout",
     "output_type": "stream",
     "text": [
      "iteration 200, reconstruction error 128416.966460\n"
     ]
    },
    {
     "name": "stderr",
     "output_type": "stream",
     "text": [
      " 21%|███████▏                          | 213/1000 [00:11<00:43, 18.30it/s]"
     ]
    },
    {
     "name": "stdout",
     "output_type": "stream",
     "text": [
      "iteration 210, reconstruction error 128140.452339\n"
     ]
    },
    {
     "name": "stderr",
     "output_type": "stream",
     "text": [
      " 22%|███████▌                          | 224/1000 [00:11<00:41, 18.80it/s]"
     ]
    },
    {
     "name": "stdout",
     "output_type": "stream",
     "text": [
      "iteration 220, reconstruction error 127929.746825\n"
     ]
    },
    {
     "name": "stderr",
     "output_type": "stream",
     "text": [
      " 23%|███████▉                          | 233/1000 [00:12<00:41, 18.34it/s]"
     ]
    },
    {
     "name": "stdout",
     "output_type": "stream",
     "text": [
      "iteration 230, reconstruction error 127766.200368\n"
     ]
    },
    {
     "name": "stderr",
     "output_type": "stream",
     "text": [
      " 24%|████████▎                         | 244/1000 [00:12<00:39, 19.03it/s]"
     ]
    },
    {
     "name": "stdout",
     "output_type": "stream",
     "text": [
      "iteration 240, reconstruction error 127636.769868\n"
     ]
    },
    {
     "name": "stderr",
     "output_type": "stream",
     "text": [
      " 26%|████████▋                         | 255/1000 [00:13<00:37, 19.63it/s]"
     ]
    },
    {
     "name": "stdout",
     "output_type": "stream",
     "text": [
      "iteration 250, reconstruction error 127532.328066\n"
     ]
    },
    {
     "name": "stderr",
     "output_type": "stream",
     "text": [
      " 26%|████████▉                         | 263/1000 [00:13<00:38, 18.94it/s]"
     ]
    },
    {
     "name": "stdout",
     "output_type": "stream",
     "text": [
      "iteration 260, reconstruction error 127446.757599\n"
     ]
    },
    {
     "name": "stderr",
     "output_type": "stream",
     "text": [
      " 27%|█████████▎                        | 274/1000 [00:14<00:39, 18.45it/s]"
     ]
    },
    {
     "name": "stdout",
     "output_type": "stream",
     "text": [
      "iteration 270, reconstruction error 127375.254812\n"
     ]
    },
    {
     "name": "stderr",
     "output_type": "stream",
     "text": [
      " 28%|█████████▌                        | 283/1000 [00:15<00:40, 17.83it/s]"
     ]
    },
    {
     "name": "stdout",
     "output_type": "stream",
     "text": [
      "iteration 280, reconstruction error 127314.634119\n"
     ]
    },
    {
     "name": "stderr",
     "output_type": "stream",
     "text": [
      " 29%|█████████▉                        | 293/1000 [00:15<00:37, 18.83it/s]"
     ]
    },
    {
     "name": "stdout",
     "output_type": "stream",
     "text": [
      "iteration 290, reconstruction error 127262.237302\n"
     ]
    },
    {
     "name": "stderr",
     "output_type": "stream",
     "text": [
      " 30%|██████████▎                       | 303/1000 [00:16<00:37, 18.43it/s]"
     ]
    },
    {
     "name": "stdout",
     "output_type": "stream",
     "text": [
      "iteration 300, reconstruction error 127216.213928\n"
     ]
    },
    {
     "name": "stderr",
     "output_type": "stream",
     "text": [
      " 31%|██████████▋                       | 314/1000 [00:16<00:36, 18.57it/s]"
     ]
    },
    {
     "name": "stdout",
     "output_type": "stream",
     "text": [
      "iteration 310, reconstruction error 127175.131397\n"
     ]
    },
    {
     "name": "stderr",
     "output_type": "stream",
     "text": [
      " 32%|███████████                       | 324/1000 [00:17<00:36, 18.44it/s]"
     ]
    },
    {
     "name": "stdout",
     "output_type": "stream",
     "text": [
      "iteration 320, reconstruction error 127138.047480\n"
     ]
    },
    {
     "name": "stderr",
     "output_type": "stream",
     "text": [
      " 33%|███████████▎                      | 334/1000 [00:17<00:39, 16.89it/s]"
     ]
    },
    {
     "name": "stdout",
     "output_type": "stream",
     "text": [
      "iteration 330, reconstruction error 127104.218022\n"
     ]
    },
    {
     "name": "stderr",
     "output_type": "stream",
     "text": [
      " 34%|███████████▋                      | 344/1000 [00:18<00:35, 18.57it/s]"
     ]
    },
    {
     "name": "stdout",
     "output_type": "stream",
     "text": [
      "iteration 340, reconstruction error 127073.083347\n"
     ]
    },
    {
     "name": "stderr",
     "output_type": "stream",
     "text": [
      " 35%|████████████                      | 353/1000 [00:18<00:34, 18.64it/s]"
     ]
    },
    {
     "name": "stdout",
     "output_type": "stream",
     "text": [
      "iteration 350, reconstruction error 127044.218204\n"
     ]
    },
    {
     "name": "stderr",
     "output_type": "stream",
     "text": [
      " 36%|████████████▍                     | 364/1000 [00:19<00:33, 18.82it/s]"
     ]
    },
    {
     "name": "stdout",
     "output_type": "stream",
     "text": [
      "iteration 360, reconstruction error 127017.301467\n"
     ]
    },
    {
     "name": "stderr",
     "output_type": "stream",
     "text": [
      " 37%|████████████▋                     | 374/1000 [00:19<00:32, 19.21it/s]"
     ]
    },
    {
     "name": "stdout",
     "output_type": "stream",
     "text": [
      "iteration 370, reconstruction error 126992.044834\n"
     ]
    },
    {
     "name": "stderr",
     "output_type": "stream",
     "text": [
      " 38%|█████████████                     | 383/1000 [00:20<00:32, 18.77it/s]"
     ]
    },
    {
     "name": "stdout",
     "output_type": "stream",
     "text": [
      "iteration 380, reconstruction error 126968.197722\n"
     ]
    },
    {
     "name": "stderr",
     "output_type": "stream",
     "text": [
      " 40%|█████████████▍                    | 395/1000 [00:21<00:32, 18.62it/s]"
     ]
    },
    {
     "name": "stdout",
     "output_type": "stream",
     "text": [
      "iteration 390, reconstruction error 126945.562931\n"
     ]
    },
    {
     "name": "stderr",
     "output_type": "stream",
     "text": [
      " 40%|█████████████▋                    | 403/1000 [00:21<00:33, 17.99it/s]"
     ]
    },
    {
     "name": "stdout",
     "output_type": "stream",
     "text": [
      "iteration 400, reconstruction error 126923.966344\n"
     ]
    },
    {
     "name": "stderr",
     "output_type": "stream",
     "text": [
      " 41%|██████████████                    | 413/1000 [00:22<00:32, 17.99it/s]"
     ]
    },
    {
     "name": "stdout",
     "output_type": "stream",
     "text": [
      "iteration 410, reconstruction error 126903.255955\n"
     ]
    },
    {
     "name": "stderr",
     "output_type": "stream",
     "text": [
      " 42%|██████████████▍                   | 423/1000 [00:22<00:30, 18.66it/s]"
     ]
    },
    {
     "name": "stdout",
     "output_type": "stream",
     "text": [
      "iteration 420, reconstruction error 126883.304391\n"
     ]
    },
    {
     "name": "stderr",
     "output_type": "stream",
     "text": [
      " 43%|██████████████▊                   | 434/1000 [00:23<00:29, 18.96it/s]"
     ]
    },
    {
     "name": "stdout",
     "output_type": "stream",
     "text": [
      "iteration 430, reconstruction error 126864.049966\n"
     ]
    },
    {
     "name": "stderr",
     "output_type": "stream",
     "text": [
      " 44%|███████████████                   | 444/1000 [00:23<00:28, 19.67it/s]"
     ]
    },
    {
     "name": "stdout",
     "output_type": "stream",
     "text": [
      "iteration 440, reconstruction error 126845.425366\n"
     ]
    },
    {
     "name": "stderr",
     "output_type": "stream",
     "text": [
      " 45%|███████████████▍                  | 454/1000 [00:24<00:30, 18.19it/s]"
     ]
    },
    {
     "name": "stdout",
     "output_type": "stream",
     "text": [
      "iteration 450, reconstruction error 126827.358810\n"
     ]
    },
    {
     "name": "stderr",
     "output_type": "stream",
     "text": [
      " 46%|███████████████▋                  | 463/1000 [00:24<00:28, 18.84it/s]"
     ]
    },
    {
     "name": "stdout",
     "output_type": "stream",
     "text": [
      "iteration 460, reconstruction error 126809.747749\n"
     ]
    },
    {
     "name": "stderr",
     "output_type": "stream",
     "text": [
      " 47%|████████████████                  | 474/1000 [00:25<00:26, 19.64it/s]"
     ]
    },
    {
     "name": "stdout",
     "output_type": "stream",
     "text": [
      "iteration 470, reconstruction error 126792.534484\n"
     ]
    },
    {
     "name": "stderr",
     "output_type": "stream",
     "text": [
      " 48%|████████████████▍                 | 483/1000 [00:25<00:30, 16.73it/s]"
     ]
    },
    {
     "name": "stdout",
     "output_type": "stream",
     "text": [
      "iteration 480, reconstruction error 126775.669952\n"
     ]
    },
    {
     "name": "stderr",
     "output_type": "stream",
     "text": [
      " 49%|████████████████▋                 | 492/1000 [00:26<00:27, 18.26it/s]"
     ]
    },
    {
     "name": "stdout",
     "output_type": "stream",
     "text": [
      "iteration 490, reconstruction error 126759.121490\n"
     ]
    },
    {
     "name": "stderr",
     "output_type": "stream",
     "text": [
      " 50%|█████████████████                 | 503/1000 [00:26<00:26, 18.77it/s]"
     ]
    },
    {
     "name": "stdout",
     "output_type": "stream",
     "text": [
      "iteration 500, reconstruction error 126742.844912\n"
     ]
    },
    {
     "name": "stderr",
     "output_type": "stream",
     "text": [
      " 51%|█████████████████▍                | 514/1000 [00:27<00:28, 17.09it/s]"
     ]
    },
    {
     "name": "stdout",
     "output_type": "stream",
     "text": [
      "iteration 510, reconstruction error 126726.800399\n"
     ]
    },
    {
     "name": "stderr",
     "output_type": "stream",
     "text": [
      " 52%|█████████████████▊                | 524/1000 [00:28<00:26, 17.94it/s]"
     ]
    },
    {
     "name": "stdout",
     "output_type": "stream",
     "text": [
      "iteration 520, reconstruction error 126710.992342\n"
     ]
    },
    {
     "name": "stderr",
     "output_type": "stream",
     "text": [
      " 53%|██████████████████                | 533/1000 [00:28<00:25, 18.12it/s]"
     ]
    },
    {
     "name": "stdout",
     "output_type": "stream",
     "text": [
      "iteration 530, reconstruction error 126695.385850\n"
     ]
    },
    {
     "name": "stderr",
     "output_type": "stream",
     "text": [
      " 54%|██████████████████▍               | 543/1000 [00:29<00:24, 18.82it/s]"
     ]
    },
    {
     "name": "stdout",
     "output_type": "stream",
     "text": [
      "iteration 540, reconstruction error 126680.004965\n"
     ]
    },
    {
     "name": "stderr",
     "output_type": "stream",
     "text": [
      " 56%|██████████████████▊               | 555/1000 [00:29<00:23, 19.32it/s]"
     ]
    },
    {
     "name": "stdout",
     "output_type": "stream",
     "text": [
      "iteration 550, reconstruction error 126664.850734\n"
     ]
    },
    {
     "name": "stderr",
     "output_type": "stream",
     "text": [
      " 56%|███████████████████▏              | 564/1000 [00:30<00:23, 18.17it/s]"
     ]
    },
    {
     "name": "stdout",
     "output_type": "stream",
     "text": [
      "iteration 560, reconstruction error 126649.891035\n"
     ]
    },
    {
     "name": "stderr",
     "output_type": "stream",
     "text": [
      " 57%|███████████████████▍              | 573/1000 [00:30<00:23, 18.46it/s]"
     ]
    },
    {
     "name": "stdout",
     "output_type": "stream",
     "text": [
      "iteration 570, reconstruction error 126635.067563\n"
     ]
    },
    {
     "name": "stderr",
     "output_type": "stream",
     "text": [
      " 58%|███████████████████▊              | 584/1000 [00:31<00:21, 19.51it/s]"
     ]
    },
    {
     "name": "stdout",
     "output_type": "stream",
     "text": [
      "iteration 580, reconstruction error 126620.335516\n"
     ]
    },
    {
     "name": "stderr",
     "output_type": "stream",
     "text": [
      " 60%|████████████████████▏             | 595/1000 [00:31<00:20, 20.10it/s]"
     ]
    },
    {
     "name": "stdout",
     "output_type": "stream",
     "text": [
      "iteration 590, reconstruction error 126605.665065\n"
     ]
    },
    {
     "name": "stderr",
     "output_type": "stream",
     "text": [
      " 60%|████████████████████▌             | 603/1000 [00:32<00:20, 19.18it/s]"
     ]
    },
    {
     "name": "stdout",
     "output_type": "stream",
     "text": [
      "iteration 600, reconstruction error 126591.030871\n"
     ]
    },
    {
     "name": "stderr",
     "output_type": "stream",
     "text": [
      " 61%|████████████████████▉             | 614/1000 [00:32<00:20, 18.69it/s]"
     ]
    },
    {
     "name": "stdout",
     "output_type": "stream",
     "text": [
      "iteration 610, reconstruction error 126576.399337\n"
     ]
    },
    {
     "name": "stderr",
     "output_type": "stream",
     "text": [
      " 62%|█████████████████████▏            | 624/1000 [00:33<00:22, 16.42it/s]"
     ]
    },
    {
     "name": "stdout",
     "output_type": "stream",
     "text": [
      "iteration 620, reconstruction error 126561.744082\n"
     ]
    },
    {
     "name": "stderr",
     "output_type": "stream",
     "text": [
      " 63%|█████████████████████▌            | 634/1000 [00:34<00:21, 16.95it/s]"
     ]
    },
    {
     "name": "stdout",
     "output_type": "stream",
     "text": [
      "iteration 630, reconstruction error 126547.055661\n"
     ]
    },
    {
     "name": "stderr",
     "output_type": "stream",
     "text": [
      " 64%|█████████████████████▉            | 644/1000 [00:34<00:23, 15.04it/s]"
     ]
    },
    {
     "name": "stdout",
     "output_type": "stream",
     "text": [
      "iteration 640, reconstruction error 126532.324277\n"
     ]
    },
    {
     "name": "stderr",
     "output_type": "stream",
     "text": [
      " 65%|██████████████████████▏           | 654/1000 [00:35<00:21, 15.93it/s]"
     ]
    },
    {
     "name": "stdout",
     "output_type": "stream",
     "text": [
      "iteration 650, reconstruction error 126517.548402\n"
     ]
    },
    {
     "name": "stderr",
     "output_type": "stream",
     "text": [
      " 66%|██████████████████████▌           | 664/1000 [00:35<00:18, 18.23it/s]"
     ]
    },
    {
     "name": "stdout",
     "output_type": "stream",
     "text": [
      "iteration 660, reconstruction error 126502.708457\n"
     ]
    },
    {
     "name": "stderr",
     "output_type": "stream",
     "text": [
      " 67%|██████████████████████▉           | 673/1000 [00:36<00:17, 18.91it/s]"
     ]
    },
    {
     "name": "stdout",
     "output_type": "stream",
     "text": [
      "iteration 670, reconstruction error 126487.779915\n"
     ]
    },
    {
     "name": "stderr",
     "output_type": "stream",
     "text": [
      " 68%|███████████████████████▏          | 683/1000 [00:36<00:17, 18.38it/s]"
     ]
    },
    {
     "name": "stdout",
     "output_type": "stream",
     "text": [
      "iteration 680, reconstruction error 126472.759047\n"
     ]
    },
    {
     "name": "stderr",
     "output_type": "stream",
     "text": [
      " 70%|███████████████████████▋          | 695/1000 [00:37<00:15, 19.45it/s]"
     ]
    },
    {
     "name": "stdout",
     "output_type": "stream",
     "text": [
      "iteration 690, reconstruction error 126457.622890\n"
     ]
    },
    {
     "name": "stderr",
     "output_type": "stream",
     "text": [
      " 70%|███████████████████████▉          | 703/1000 [00:37<00:16, 17.97it/s]"
     ]
    },
    {
     "name": "stdout",
     "output_type": "stream",
     "text": [
      "iteration 700, reconstruction error 126442.375978\n"
     ]
    },
    {
     "name": "stderr",
     "output_type": "stream",
     "text": [
      " 71%|████████████████████████▏         | 713/1000 [00:38<00:14, 19.17it/s]"
     ]
    },
    {
     "name": "stdout",
     "output_type": "stream",
     "text": [
      "iteration 710, reconstruction error 126427.021241\n"
     ]
    },
    {
     "name": "stderr",
     "output_type": "stream",
     "text": [
      " 72%|████████████████████████▌         | 724/1000 [00:39<00:14, 18.79it/s]"
     ]
    },
    {
     "name": "stdout",
     "output_type": "stream",
     "text": [
      "iteration 720, reconstruction error 126411.581196\n"
     ]
    },
    {
     "name": "stderr",
     "output_type": "stream",
     "text": [
      " 73%|████████████████████████▉         | 734/1000 [00:39<00:15, 17.51it/s]"
     ]
    },
    {
     "name": "stdout",
     "output_type": "stream",
     "text": [
      "iteration 730, reconstruction error 126396.042392\n"
     ]
    },
    {
     "name": "stderr",
     "output_type": "stream",
     "text": [
      " 74%|█████████████████████████▎        | 744/1000 [00:40<00:14, 17.97it/s]"
     ]
    },
    {
     "name": "stdout",
     "output_type": "stream",
     "text": [
      "iteration 740, reconstruction error 126380.416383\n"
     ]
    },
    {
     "name": "stderr",
     "output_type": "stream",
     "text": [
      " 75%|█████████████████████████▋        | 754/1000 [00:40<00:13, 18.16it/s]"
     ]
    },
    {
     "name": "stdout",
     "output_type": "stream",
     "text": [
      "iteration 750, reconstruction error 126364.722191\n"
     ]
    },
    {
     "name": "stderr",
     "output_type": "stream",
     "text": [
      " 76%|█████████████████████████▉        | 764/1000 [00:41<00:13, 17.17it/s]"
     ]
    },
    {
     "name": "stdout",
     "output_type": "stream",
     "text": [
      "iteration 760, reconstruction error 126348.993545\n"
     ]
    },
    {
     "name": "stderr",
     "output_type": "stream",
     "text": [
      " 78%|██████████████████████████▎       | 775/1000 [00:41<00:12, 18.66it/s]"
     ]
    },
    {
     "name": "stdout",
     "output_type": "stream",
     "text": [
      "iteration 770, reconstruction error 126333.254772\n"
     ]
    },
    {
     "name": "stderr",
     "output_type": "stream",
     "text": [
      " 78%|██████████████████████████▋       | 784/1000 [00:42<00:11, 18.86it/s]"
     ]
    },
    {
     "name": "stdout",
     "output_type": "stream",
     "text": [
      "iteration 780, reconstruction error 126317.539406\n"
     ]
    },
    {
     "name": "stderr",
     "output_type": "stream",
     "text": [
      " 79%|██████████████████████████▉       | 793/1000 [00:42<00:11, 18.74it/s]"
     ]
    },
    {
     "name": "stdout",
     "output_type": "stream",
     "text": [
      "iteration 790, reconstruction error 126301.880521\n"
     ]
    },
    {
     "name": "stderr",
     "output_type": "stream",
     "text": [
      " 80%|███████████████████████████▎      | 805/1000 [00:43<00:09, 19.86it/s]"
     ]
    },
    {
     "name": "stdout",
     "output_type": "stream",
     "text": [
      "iteration 800, reconstruction error 126286.326185\n"
     ]
    },
    {
     "name": "stderr",
     "output_type": "stream",
     "text": [
      " 82%|███████████████████████████▋      | 815/1000 [00:44<00:09, 18.74it/s]"
     ]
    },
    {
     "name": "stdout",
     "output_type": "stream",
     "text": [
      "iteration 810, reconstruction error 126270.909593\n"
     ]
    },
    {
     "name": "stderr",
     "output_type": "stream",
     "text": [
      " 82%|████████████████████████████      | 824/1000 [00:44<00:09, 18.27it/s]"
     ]
    },
    {
     "name": "stdout",
     "output_type": "stream",
     "text": [
      "iteration 820, reconstruction error 126255.672220\n"
     ]
    },
    {
     "name": "stderr",
     "output_type": "stream",
     "text": [
      " 83%|████████████████████████████▎     | 833/1000 [00:44<00:09, 18.49it/s]"
     ]
    },
    {
     "name": "stdout",
     "output_type": "stream",
     "text": [
      "iteration 830, reconstruction error 126240.671517\n"
     ]
    },
    {
     "name": "stderr",
     "output_type": "stream",
     "text": [
      " 84%|████████████████████████████▋     | 842/1000 [00:45<00:08, 18.40it/s]"
     ]
    },
    {
     "name": "stdout",
     "output_type": "stream",
     "text": [
      "iteration 840, reconstruction error 126225.955941\n"
     ]
    },
    {
     "name": "stderr",
     "output_type": "stream",
     "text": [
      " 85%|█████████████████████████████     | 853/1000 [00:46<00:08, 18.34it/s]"
     ]
    },
    {
     "name": "stdout",
     "output_type": "stream",
     "text": [
      "iteration 850, reconstruction error 126211.553587\n"
     ]
    },
    {
     "name": "stderr",
     "output_type": "stream",
     "text": [
      " 86%|█████████████████████████████▍    | 864/1000 [00:46<00:06, 19.48it/s]"
     ]
    },
    {
     "name": "stdout",
     "output_type": "stream",
     "text": [
      "iteration 860, reconstruction error 126197.500127\n"
     ]
    },
    {
     "name": "stderr",
     "output_type": "stream",
     "text": [
      " 87%|█████████████████████████████▋    | 873/1000 [00:47<00:06, 18.69it/s]"
     ]
    },
    {
     "name": "stdout",
     "output_type": "stream",
     "text": [
      "iteration 870, reconstruction error 126183.825293\n"
     ]
    },
    {
     "name": "stderr",
     "output_type": "stream",
     "text": [
      " 88%|██████████████████████████████    | 883/1000 [00:47<00:06, 18.33it/s]"
     ]
    },
    {
     "name": "stdout",
     "output_type": "stream",
     "text": [
      "iteration 880, reconstruction error 126170.549180\n"
     ]
    },
    {
     "name": "stderr",
     "output_type": "stream",
     "text": [
      " 89%|██████████████████████████████▎   | 892/1000 [00:48<00:05, 18.28it/s]"
     ]
    },
    {
     "name": "stdout",
     "output_type": "stream",
     "text": [
      "iteration 890, reconstruction error 126157.703188\n"
     ]
    },
    {
     "name": "stderr",
     "output_type": "stream",
     "text": [
      " 90%|██████████████████████████████▋   | 904/1000 [00:48<00:04, 19.27it/s]"
     ]
    },
    {
     "name": "stdout",
     "output_type": "stream",
     "text": [
      "iteration 900, reconstruction error 126145.293298\n"
     ]
    },
    {
     "name": "stderr",
     "output_type": "stream",
     "text": [
      " 91%|███████████████████████████████   | 914/1000 [00:49<00:04, 18.24it/s]"
     ]
    },
    {
     "name": "stdout",
     "output_type": "stream",
     "text": [
      "iteration 910, reconstruction error 126133.328202\n"
     ]
    },
    {
     "name": "stderr",
     "output_type": "stream",
     "text": [
      " 92%|███████████████████████████████▍  | 924/1000 [00:49<00:03, 20.02it/s]"
     ]
    },
    {
     "name": "stdout",
     "output_type": "stream",
     "text": [
      "iteration 920, reconstruction error 126121.808375\n"
     ]
    },
    {
     "name": "stderr",
     "output_type": "stream",
     "text": [
      " 94%|███████████████████████████████▊  | 935/1000 [00:50<00:03, 19.40it/s]"
     ]
    },
    {
     "name": "stdout",
     "output_type": "stream",
     "text": [
      "iteration 930, reconstruction error 126110.737319\n"
     ]
    },
    {
     "name": "stderr",
     "output_type": "stream",
     "text": [
      " 94%|████████████████████████████████▏ | 945/1000 [00:50<00:02, 18.83it/s]"
     ]
    },
    {
     "name": "stdout",
     "output_type": "stream",
     "text": [
      "iteration 940, reconstruction error 126100.119899\n"
     ]
    },
    {
     "name": "stderr",
     "output_type": "stream",
     "text": [
      " 95%|████████████████████████████████▍ | 954/1000 [00:51<00:02, 19.07it/s]"
     ]
    },
    {
     "name": "stdout",
     "output_type": "stream",
     "text": [
      "iteration 950, reconstruction error 126089.949570\n"
     ]
    },
    {
     "name": "stderr",
     "output_type": "stream",
     "text": [
      " 96%|████████████████████████████████▊ | 964/1000 [00:51<00:01, 19.53it/s]"
     ]
    },
    {
     "name": "stdout",
     "output_type": "stream",
     "text": [
      "iteration 960, reconstruction error 126080.220949\n"
     ]
    },
    {
     "name": "stderr",
     "output_type": "stream",
     "text": [
      " 97%|█████████████████████████████████ | 973/1000 [00:52<00:01, 18.22it/s]"
     ]
    },
    {
     "name": "stdout",
     "output_type": "stream",
     "text": [
      "iteration 970, reconstruction error 126070.915749\n"
     ]
    },
    {
     "name": "stderr",
     "output_type": "stream",
     "text": [
      " 98%|█████████████████████████████████▍| 984/1000 [00:53<00:00, 18.95it/s]"
     ]
    },
    {
     "name": "stdout",
     "output_type": "stream",
     "text": [
      "iteration 980, reconstruction error 126062.027978\n"
     ]
    },
    {
     "name": "stderr",
     "output_type": "stream",
     "text": [
      "100%|█████████████████████████████████▊| 995/1000 [00:53<00:00, 18.86it/s]"
     ]
    },
    {
     "name": "stdout",
     "output_type": "stream",
     "text": [
      "iteration 990, reconstruction error 126053.538404\n"
     ]
    },
    {
     "name": "stderr",
     "output_type": "stream",
     "text": [
      "100%|█████████████████████████████████| 1000/1000 [00:53<00:00, 18.56it/s]\n"
     ]
    }
   ],
   "source": [
    "W, H = ALS(X=X, \n",
    "           n_components=16, # Reconstruction Error reduces as n_components increases\n",
    "           n_iter=1000, \n",
    "           a0 = 0, # L1 regularizer for H\n",
    "           a1 = 0, # L1 regularizer for W\n",
    "           a12 = 0, # L2 regularizer for W\n",
    "           H_nonnegativity=True,\n",
    "           W_nonnegativity=True,\n",
    "           compute_recons_error=True,\n",
    "           subsample_ratio=1)"
   ]
  },
  {
   "cell_type": "code",
   "execution_count": 85,
   "id": "b5d22ec5",
   "metadata": {},
   "outputs": [
    {
     "name": "stdout",
     "output_type": "stream",
     "text": [
      "num of graphs: 2500\n"
     ]
    }
   ],
   "source": [
    "graph_list = generate_nxg(X)\n",
    "print(f\"num of graphs: {len(graph_list)}\")"
   ]
  },
  {
   "cell_type": "code",
   "execution_count": 86,
   "id": "f3c02e69",
   "metadata": {},
   "outputs": [
    {
     "data": {
      "text/html": [
       "<div>\n",
       "<style scoped>\n",
       "    .dataframe tbody tr th:only-of-type {\n",
       "        vertical-align: middle;\n",
       "    }\n",
       "\n",
       "    .dataframe tbody tr th {\n",
       "        vertical-align: top;\n",
       "    }\n",
       "\n",
       "    .dataframe thead th {\n",
       "        text-align: right;\n",
       "    }\n",
       "</style>\n",
       "<table border=\"1\" class=\"dataframe\">\n",
       "  <thead>\n",
       "    <tr style=\"text-align: right;\">\n",
       "      <th></th>\n",
       "      <th>0</th>\n",
       "      <th>1</th>\n",
       "      <th>2</th>\n",
       "      <th>3</th>\n",
       "      <th>4</th>\n",
       "      <th>5</th>\n",
       "      <th>6</th>\n",
       "      <th>7</th>\n",
       "      <th>8</th>\n",
       "      <th>9</th>\n",
       "      <th>...</th>\n",
       "      <th>2491</th>\n",
       "      <th>2492</th>\n",
       "      <th>2493</th>\n",
       "      <th>2494</th>\n",
       "      <th>2495</th>\n",
       "      <th>2496</th>\n",
       "      <th>2497</th>\n",
       "      <th>2498</th>\n",
       "      <th>2499</th>\n",
       "      <th>Synchronized</th>\n",
       "    </tr>\n",
       "  </thead>\n",
       "  <tbody>\n",
       "    <tr>\n",
       "      <th>0</th>\n",
       "      <td>0.0</td>\n",
       "      <td>1.0</td>\n",
       "      <td>1.0</td>\n",
       "      <td>0.0</td>\n",
       "      <td>0.0</td>\n",
       "      <td>0.0</td>\n",
       "      <td>0.0</td>\n",
       "      <td>0.0</td>\n",
       "      <td>0.0</td>\n",
       "      <td>0.0</td>\n",
       "      <td>...</td>\n",
       "      <td>0.0</td>\n",
       "      <td>0.0</td>\n",
       "      <td>0.0</td>\n",
       "      <td>0.0</td>\n",
       "      <td>0.0</td>\n",
       "      <td>0.0</td>\n",
       "      <td>0.0</td>\n",
       "      <td>1.0</td>\n",
       "      <td>0.0</td>\n",
       "      <td>False</td>\n",
       "    </tr>\n",
       "    <tr>\n",
       "      <th>1</th>\n",
       "      <td>0.0</td>\n",
       "      <td>1.0</td>\n",
       "      <td>0.0</td>\n",
       "      <td>0.0</td>\n",
       "      <td>0.0</td>\n",
       "      <td>0.0</td>\n",
       "      <td>0.0</td>\n",
       "      <td>0.0</td>\n",
       "      <td>0.0</td>\n",
       "      <td>0.0</td>\n",
       "      <td>...</td>\n",
       "      <td>0.0</td>\n",
       "      <td>0.0</td>\n",
       "      <td>0.0</td>\n",
       "      <td>0.0</td>\n",
       "      <td>0.0</td>\n",
       "      <td>0.0</td>\n",
       "      <td>0.0</td>\n",
       "      <td>1.0</td>\n",
       "      <td>0.0</td>\n",
       "      <td>False</td>\n",
       "    </tr>\n",
       "    <tr>\n",
       "      <th>2</th>\n",
       "      <td>0.0</td>\n",
       "      <td>1.0</td>\n",
       "      <td>0.0</td>\n",
       "      <td>0.0</td>\n",
       "      <td>0.0</td>\n",
       "      <td>0.0</td>\n",
       "      <td>0.0</td>\n",
       "      <td>0.0</td>\n",
       "      <td>0.0</td>\n",
       "      <td>0.0</td>\n",
       "      <td>...</td>\n",
       "      <td>0.0</td>\n",
       "      <td>1.0</td>\n",
       "      <td>0.0</td>\n",
       "      <td>0.0</td>\n",
       "      <td>0.0</td>\n",
       "      <td>0.0</td>\n",
       "      <td>1.0</td>\n",
       "      <td>1.0</td>\n",
       "      <td>0.0</td>\n",
       "      <td>False</td>\n",
       "    </tr>\n",
       "    <tr>\n",
       "      <th>3</th>\n",
       "      <td>0.0</td>\n",
       "      <td>1.0</td>\n",
       "      <td>0.0</td>\n",
       "      <td>0.0</td>\n",
       "      <td>0.0</td>\n",
       "      <td>0.0</td>\n",
       "      <td>0.0</td>\n",
       "      <td>0.0</td>\n",
       "      <td>0.0</td>\n",
       "      <td>0.0</td>\n",
       "      <td>...</td>\n",
       "      <td>0.0</td>\n",
       "      <td>0.0</td>\n",
       "      <td>0.0</td>\n",
       "      <td>0.0</td>\n",
       "      <td>0.0</td>\n",
       "      <td>0.0</td>\n",
       "      <td>0.0</td>\n",
       "      <td>1.0</td>\n",
       "      <td>0.0</td>\n",
       "      <td>False</td>\n",
       "    </tr>\n",
       "    <tr>\n",
       "      <th>4</th>\n",
       "      <td>0.0</td>\n",
       "      <td>1.0</td>\n",
       "      <td>0.0</td>\n",
       "      <td>0.0</td>\n",
       "      <td>0.0</td>\n",
       "      <td>0.0</td>\n",
       "      <td>0.0</td>\n",
       "      <td>0.0</td>\n",
       "      <td>0.0</td>\n",
       "      <td>0.0</td>\n",
       "      <td>...</td>\n",
       "      <td>0.0</td>\n",
       "      <td>0.0</td>\n",
       "      <td>0.0</td>\n",
       "      <td>0.0</td>\n",
       "      <td>0.0</td>\n",
       "      <td>0.0</td>\n",
       "      <td>1.0</td>\n",
       "      <td>1.0</td>\n",
       "      <td>0.0</td>\n",
       "      <td>False</td>\n",
       "    </tr>\n",
       "    <tr>\n",
       "      <th>...</th>\n",
       "      <td>...</td>\n",
       "      <td>...</td>\n",
       "      <td>...</td>\n",
       "      <td>...</td>\n",
       "      <td>...</td>\n",
       "      <td>...</td>\n",
       "      <td>...</td>\n",
       "      <td>...</td>\n",
       "      <td>...</td>\n",
       "      <td>...</td>\n",
       "      <td>...</td>\n",
       "      <td>...</td>\n",
       "      <td>...</td>\n",
       "      <td>...</td>\n",
       "      <td>...</td>\n",
       "      <td>...</td>\n",
       "      <td>...</td>\n",
       "      <td>...</td>\n",
       "      <td>...</td>\n",
       "      <td>...</td>\n",
       "      <td>...</td>\n",
       "    </tr>\n",
       "    <tr>\n",
       "      <th>2495</th>\n",
       "      <td>0.0</td>\n",
       "      <td>1.0</td>\n",
       "      <td>0.0</td>\n",
       "      <td>0.0</td>\n",
       "      <td>0.0</td>\n",
       "      <td>0.0</td>\n",
       "      <td>0.0</td>\n",
       "      <td>0.0</td>\n",
       "      <td>0.0</td>\n",
       "      <td>0.0</td>\n",
       "      <td>...</td>\n",
       "      <td>0.0</td>\n",
       "      <td>0.0</td>\n",
       "      <td>0.0</td>\n",
       "      <td>0.0</td>\n",
       "      <td>0.0</td>\n",
       "      <td>0.0</td>\n",
       "      <td>0.0</td>\n",
       "      <td>1.0</td>\n",
       "      <td>0.0</td>\n",
       "      <td>False</td>\n",
       "    </tr>\n",
       "    <tr>\n",
       "      <th>2496</th>\n",
       "      <td>0.0</td>\n",
       "      <td>1.0</td>\n",
       "      <td>0.0</td>\n",
       "      <td>0.0</td>\n",
       "      <td>0.0</td>\n",
       "      <td>0.0</td>\n",
       "      <td>0.0</td>\n",
       "      <td>0.0</td>\n",
       "      <td>0.0</td>\n",
       "      <td>0.0</td>\n",
       "      <td>...</td>\n",
       "      <td>0.0</td>\n",
       "      <td>0.0</td>\n",
       "      <td>0.0</td>\n",
       "      <td>0.0</td>\n",
       "      <td>0.0</td>\n",
       "      <td>0.0</td>\n",
       "      <td>0.0</td>\n",
       "      <td>1.0</td>\n",
       "      <td>0.0</td>\n",
       "      <td>False</td>\n",
       "    </tr>\n",
       "    <tr>\n",
       "      <th>2497</th>\n",
       "      <td>0.0</td>\n",
       "      <td>1.0</td>\n",
       "      <td>0.0</td>\n",
       "      <td>0.0</td>\n",
       "      <td>0.0</td>\n",
       "      <td>0.0</td>\n",
       "      <td>0.0</td>\n",
       "      <td>0.0</td>\n",
       "      <td>0.0</td>\n",
       "      <td>0.0</td>\n",
       "      <td>...</td>\n",
       "      <td>0.0</td>\n",
       "      <td>0.0</td>\n",
       "      <td>0.0</td>\n",
       "      <td>0.0</td>\n",
       "      <td>0.0</td>\n",
       "      <td>0.0</td>\n",
       "      <td>0.0</td>\n",
       "      <td>1.0</td>\n",
       "      <td>0.0</td>\n",
       "      <td>False</td>\n",
       "    </tr>\n",
       "    <tr>\n",
       "      <th>2498</th>\n",
       "      <td>0.0</td>\n",
       "      <td>1.0</td>\n",
       "      <td>0.0</td>\n",
       "      <td>0.0</td>\n",
       "      <td>0.0</td>\n",
       "      <td>0.0</td>\n",
       "      <td>0.0</td>\n",
       "      <td>0.0</td>\n",
       "      <td>0.0</td>\n",
       "      <td>0.0</td>\n",
       "      <td>...</td>\n",
       "      <td>0.0</td>\n",
       "      <td>0.0</td>\n",
       "      <td>0.0</td>\n",
       "      <td>0.0</td>\n",
       "      <td>0.0</td>\n",
       "      <td>0.0</td>\n",
       "      <td>1.0</td>\n",
       "      <td>1.0</td>\n",
       "      <td>0.0</td>\n",
       "      <td>False</td>\n",
       "    </tr>\n",
       "    <tr>\n",
       "      <th>2499</th>\n",
       "      <td>0.0</td>\n",
       "      <td>1.0</td>\n",
       "      <td>0.0</td>\n",
       "      <td>0.0</td>\n",
       "      <td>0.0</td>\n",
       "      <td>0.0</td>\n",
       "      <td>0.0</td>\n",
       "      <td>0.0</td>\n",
       "      <td>0.0</td>\n",
       "      <td>0.0</td>\n",
       "      <td>...</td>\n",
       "      <td>0.0</td>\n",
       "      <td>0.0</td>\n",
       "      <td>0.0</td>\n",
       "      <td>0.0</td>\n",
       "      <td>0.0</td>\n",
       "      <td>0.0</td>\n",
       "      <td>0.0</td>\n",
       "      <td>1.0</td>\n",
       "      <td>0.0</td>\n",
       "      <td>False</td>\n",
       "    </tr>\n",
       "  </tbody>\n",
       "</table>\n",
       "<p>2500 rows × 2501 columns</p>\n",
       "</div>"
      ],
      "text/plain": [
       "        0    1    2    3    4    5    6    7    8    9  ...  2491  2492  2493  \\\n",
       "0     0.0  1.0  1.0  0.0  0.0  0.0  0.0  0.0  0.0  0.0  ...   0.0   0.0   0.0   \n",
       "1     0.0  1.0  0.0  0.0  0.0  0.0  0.0  0.0  0.0  0.0  ...   0.0   0.0   0.0   \n",
       "2     0.0  1.0  0.0  0.0  0.0  0.0  0.0  0.0  0.0  0.0  ...   0.0   1.0   0.0   \n",
       "3     0.0  1.0  0.0  0.0  0.0  0.0  0.0  0.0  0.0  0.0  ...   0.0   0.0   0.0   \n",
       "4     0.0  1.0  0.0  0.0  0.0  0.0  0.0  0.0  0.0  0.0  ...   0.0   0.0   0.0   \n",
       "...   ...  ...  ...  ...  ...  ...  ...  ...  ...  ...  ...   ...   ...   ...   \n",
       "2495  0.0  1.0  0.0  0.0  0.0  0.0  0.0  0.0  0.0  0.0  ...   0.0   0.0   0.0   \n",
       "2496  0.0  1.0  0.0  0.0  0.0  0.0  0.0  0.0  0.0  0.0  ...   0.0   0.0   0.0   \n",
       "2497  0.0  1.0  0.0  0.0  0.0  0.0  0.0  0.0  0.0  0.0  ...   0.0   0.0   0.0   \n",
       "2498  0.0  1.0  0.0  0.0  0.0  0.0  0.0  0.0  0.0  0.0  ...   0.0   0.0   0.0   \n",
       "2499  0.0  1.0  0.0  0.0  0.0  0.0  0.0  0.0  0.0  0.0  ...   0.0   0.0   0.0   \n",
       "\n",
       "      2494  2495  2496  2497  2498  2499  Synchronized  \n",
       "0      0.0   0.0   0.0   0.0   1.0   0.0         False  \n",
       "1      0.0   0.0   0.0   0.0   1.0   0.0         False  \n",
       "2      0.0   0.0   0.0   1.0   1.0   0.0         False  \n",
       "3      0.0   0.0   0.0   0.0   1.0   0.0         False  \n",
       "4      0.0   0.0   0.0   1.0   1.0   0.0         False  \n",
       "...    ...   ...   ...   ...   ...   ...           ...  \n",
       "2495   0.0   0.0   0.0   0.0   1.0   0.0         False  \n",
       "2496   0.0   0.0   0.0   0.0   1.0   0.0         False  \n",
       "2497   0.0   0.0   0.0   0.0   1.0   0.0         False  \n",
       "2498   0.0   0.0   0.0   1.0   1.0   0.0         False  \n",
       "2499   0.0   0.0   0.0   0.0   1.0   0.0         False  \n",
       "\n",
       "[2500 rows x 2501 columns]"
      ]
     },
     "execution_count": 86,
     "metadata": {},
     "output_type": "execute_result"
    }
   ],
   "source": [
    "nodes = int(np.sqrt(X.shape[0]))\n",
    "df = pd.DataFrame()\n",
    "K = 2.5\n",
    "\n",
    "for G in graph_list:\n",
    "    \n",
    "    headers = []\n",
    "    for i in range(1, nodes+1):\n",
    "        for j in range(1, r+1):\n",
    "            headers.append(f's{i}_{j}')\n",
    "        \n",
    "    if nx.is_connected(G):\n",
    "\n",
    "        adj_mat = nx.to_numpy_array(G)\n",
    "        temp = pd.DataFrame(np.array(nx.adjacency_matrix(G).todense().flatten('C')))\n",
    "        \n",
    "        model = Kuramoto(coupling=K, dt=0.01, T=18, n_nodes=nodes, base_iter=r, half_sync=False)\n",
    "\n",
    "        sim = model.run(adj_mat)\n",
    "        arr = sim.T[-1]\n",
    "        conc = pd.DataFrame(pd.Series(synchronization(arr)), columns=['Synchronized'])\n",
    "            \n",
    "        temp = pd.concat([temp, conc], axis=1)\n",
    "\n",
    "        df = pd.concat([df, temp], ignore_index=True)\n",
    "    \n",
    "df"
   ]
  },
  {
   "cell_type": "code",
   "execution_count": 87,
   "id": "e3549b5f",
   "metadata": {},
   "outputs": [
    {
     "name": "stdout",
     "output_type": "stream",
     "text": [
      "% of synchronized cases: 0.008\n"
     ]
    }
   ],
   "source": [
    "print(f\"% of synchronized cases: {sum(df['Synchronized'])/len(df)}\")"
   ]
  },
  {
   "cell_type": "code",
   "execution_count": 88,
   "id": "b42314a9",
   "metadata": {},
   "outputs": [],
   "source": [
    "X_true = df[df['Synchronized'] == True].drop(['Synchronized'], axis=1).values.astype('float32').T\n",
    "X_false = df[df['Synchronized'] == False].drop(['Synchronized'], axis=1).values.astype('float32').T"
   ]
  },
  {
   "cell_type": "code",
   "execution_count": 89,
   "id": "8d6140a9",
   "metadata": {},
   "outputs": [
    {
     "name": "stderr",
     "output_type": "stream",
     "text": [
      "  2%|▋                                  | 20/1000 [00:00<00:10, 93.26it/s]"
     ]
    },
    {
     "name": "stdout",
     "output_type": "stream",
     "text": [
      "iteration 0, reconstruction error 3541.505295\n",
      "iteration 10, reconstruction error 1323.903405\n",
      "iteration 20, reconstruction error 916.824954\n",
      "iteration 30, reconstruction error 707.989759\n"
     ]
    },
    {
     "name": "stderr",
     "output_type": "stream",
     "text": [
      " 10%|███▎                             | 100/1000 [00:00<00:03, 294.24it/s]"
     ]
    },
    {
     "name": "stdout",
     "output_type": "stream",
     "text": [
      "iteration 40, reconstruction error 567.845183\n",
      "iteration 50, reconstruction error 473.559631\n",
      "iteration 60, reconstruction error 399.346285\n",
      "iteration 70, reconstruction error 340.902849\n",
      "iteration 80, reconstruction error 297.553815\n",
      "iteration 90, reconstruction error 266.800709\n",
      "iteration 100, reconstruction error 244.977037\n",
      "iteration 110, reconstruction error 229.316376\n",
      "iteration 120, reconstruction error 217.742449\n"
     ]
    },
    {
     "name": "stderr",
     "output_type": "stream",
     "text": [
      " 18%|█████▊                           | 177/1000 [00:00<00:02, 336.19it/s]"
     ]
    },
    {
     "name": "stdout",
     "output_type": "stream",
     "text": [
      "iteration 130, reconstruction error 209.072070\n",
      "iteration 140, reconstruction error 202.597997\n",
      "iteration 150, reconstruction error 197.694287\n",
      "iteration 160, reconstruction error 193.912229\n",
      "iteration 170, reconstruction error 190.961715\n",
      "iteration 180, reconstruction error 188.607965\n",
      "iteration 190, reconstruction error 186.700280\n",
      "iteration 200, reconstruction error 185.139107\n",
      "iteration 210, reconstruction error 183.838618\n"
     ]
    },
    {
     "name": "stderr",
     "output_type": "stream",
     "text": [
      " 31%|██████████▏                      | 310/1000 [00:00<00:01, 405.92it/s]"
     ]
    },
    {
     "name": "stdout",
     "output_type": "stream",
     "text": [
      "iteration 220, reconstruction error 182.750377\n",
      "iteration 230, reconstruction error 181.867497\n",
      "iteration 240, reconstruction error 181.125580\n",
      "iteration 250, reconstruction error 180.471315\n",
      "iteration 260, reconstruction error 179.887806\n",
      "iteration 270, reconstruction error 179.365534\n",
      "iteration 280, reconstruction error 178.898809\n",
      "iteration 290, reconstruction error 178.479867\n",
      "iteration 300, reconstruction error 178.102984\n",
      "iteration 310, reconstruction error 177.761270\n"
     ]
    },
    {
     "name": "stderr",
     "output_type": "stream",
     "text": [
      "\r",
      " 35%|███████████▌                     | 351/1000 [00:01<00:01, 366.58it/s]"
     ]
    },
    {
     "name": "stdout",
     "output_type": "stream",
     "text": [
      "iteration 320, reconstruction error 177.452514\n",
      "iteration 330, reconstruction error 177.173826\n",
      "iteration 340, reconstruction error 176.924386\n",
      "iteration 350, reconstruction error 176.697882\n",
      "iteration 360, reconstruction error 176.490212\n",
      "iteration 370, reconstruction error 176.299054\n"
     ]
    },
    {
     "name": "stderr",
     "output_type": "stream",
     "text": [
      " 42%|█████████████▉                   | 424/1000 [00:01<00:01, 332.37it/s]"
     ]
    },
    {
     "name": "stdout",
     "output_type": "stream",
     "text": [
      "iteration 380, reconstruction error 176.124035\n",
      "iteration 390, reconstruction error 175.961280\n",
      "iteration 400, reconstruction error 175.809443\n",
      "iteration 410, reconstruction error 175.669310\n",
      "iteration 420, reconstruction error 175.538286\n",
      "iteration 430, reconstruction error 175.413967\n",
      "iteration 440, reconstruction error 175.294878\n",
      "iteration 450, reconstruction error 175.179751\n"
     ]
    },
    {
     "name": "stderr",
     "output_type": "stream",
     "text": [
      " 55%|██████████████████               | 546/1000 [00:01<00:01, 387.95it/s]"
     ]
    },
    {
     "name": "stdout",
     "output_type": "stream",
     "text": [
      "iteration 460, reconstruction error 175.066900\n",
      "iteration 470, reconstruction error 174.955201\n",
      "iteration 480, reconstruction error 174.845144\n",
      "iteration 490, reconstruction error 174.735130\n",
      "iteration 500, reconstruction error 174.624049\n",
      "iteration 510, reconstruction error 174.510968\n",
      "iteration 520, reconstruction error 174.395492\n",
      "iteration 530, reconstruction error 174.276836\n",
      "iteration 540, reconstruction error 174.153913\n"
     ]
    },
    {
     "name": "stderr",
     "output_type": "stream",
     "text": [
      " 63%|████████████████████▊            | 632/1000 [00:01<00:00, 406.75it/s]"
     ]
    },
    {
     "name": "stdout",
     "output_type": "stream",
     "text": [
      "iteration 550, reconstruction error 174.026136\n",
      "iteration 560, reconstruction error 173.893044\n",
      "iteration 570, reconstruction error 173.754202\n",
      "iteration 580, reconstruction error 173.609204\n",
      "iteration 590, reconstruction error 173.457625\n",
      "iteration 600, reconstruction error 173.299173\n",
      "iteration 610, reconstruction error 173.133715\n",
      "iteration 620, reconstruction error 172.961072\n",
      "iteration 630, reconstruction error 172.781225\n",
      "iteration 640, reconstruction error 172.594345\n"
     ]
    },
    {
     "name": "stderr",
     "output_type": "stream",
     "text": [
      " 71%|███████████████████████▌         | 714/1000 [00:02<00:00, 385.18it/s]"
     ]
    },
    {
     "name": "stdout",
     "output_type": "stream",
     "text": [
      "iteration 650, reconstruction error 172.400587\n",
      "iteration 660, reconstruction error 172.200180\n",
      "iteration 670, reconstruction error 171.993422\n",
      "iteration 680, reconstruction error 171.780770\n",
      "iteration 690, reconstruction error 171.562917\n",
      "iteration 700, reconstruction error 171.340765\n",
      "iteration 710, reconstruction error 171.115338\n",
      "iteration 720, reconstruction error 170.887186\n"
     ]
    },
    {
     "name": "stderr",
     "output_type": "stream",
     "text": [
      " 80%|██████████████████████████▎      | 797/1000 [00:02<00:00, 389.93it/s]"
     ]
    },
    {
     "name": "stdout",
     "output_type": "stream",
     "text": [
      "iteration 730, reconstruction error 170.657240\n",
      "iteration 740, reconstruction error 170.426636\n",
      "iteration 750, reconstruction error 170.196632\n",
      "iteration 760, reconstruction error 169.968444\n",
      "iteration 770, reconstruction error 169.743593\n",
      "iteration 780, reconstruction error 169.522301\n",
      "iteration 790, reconstruction error 169.304511\n",
      "iteration 800, reconstruction error 169.090316\n",
      "iteration 810, reconstruction error 168.879389\n",
      "iteration 820, reconstruction error 168.671059\n"
     ]
    },
    {
     "name": "stderr",
     "output_type": "stream",
     "text": [
      " 89%|█████████████████████████████▏   | 886/1000 [00:02<00:00, 412.06it/s]"
     ]
    },
    {
     "name": "stdout",
     "output_type": "stream",
     "text": [
      "iteration 830, reconstruction error 168.465410\n",
      "iteration 840, reconstruction error 168.265281\n",
      "iteration 850, reconstruction error 168.070619\n",
      "iteration 860, reconstruction error 167.880697\n",
      "iteration 870, reconstruction error 167.695268\n",
      "iteration 880, reconstruction error 167.514078\n",
      "iteration 890, reconstruction error 167.337079\n",
      "iteration 900, reconstruction error 167.164650\n",
      "iteration 910, reconstruction error 166.996863\n",
      "iteration 920, reconstruction error 166.833091\n"
     ]
    },
    {
     "name": "stderr",
     "output_type": "stream",
     "text": [
      "100%|████████████████████████████████| 1000/1000 [00:02<00:00, 367.38it/s]\n"
     ]
    },
    {
     "name": "stdout",
     "output_type": "stream",
     "text": [
      "iteration 930, reconstruction error 166.678692\n",
      "iteration 940, reconstruction error 166.531155\n",
      "iteration 950, reconstruction error 166.385958\n",
      "iteration 960, reconstruction error 166.242834\n",
      "iteration 970, reconstruction error 166.101801\n",
      "iteration 980, reconstruction error 165.963024\n",
      "iteration 990, reconstruction error 165.826685\n",
      "\n",
      "\n",
      "###########################\n",
      "Shape of W_true: (2500, 16)\n",
      "###########################\n",
      "\n",
      "\n"
     ]
    },
    {
     "name": "stderr",
     "output_type": "stream",
     "text": [
      "  0%|▏                                   | 5/1000 [00:00<00:45, 21.97it/s]"
     ]
    },
    {
     "name": "stdout",
     "output_type": "stream",
     "text": [
      "iteration 0, reconstruction error 391460.039648\n"
     ]
    },
    {
     "name": "stderr",
     "output_type": "stream",
     "text": [
      "  1%|▍                                  | 14/1000 [00:00<00:42, 23.43it/s]"
     ]
    },
    {
     "name": "stdout",
     "output_type": "stream",
     "text": [
      "iteration 10, reconstruction error 153132.669762\n"
     ]
    },
    {
     "name": "stderr",
     "output_type": "stream",
     "text": [
      "  3%|▉                                  | 26/1000 [00:01<00:41, 23.61it/s]"
     ]
    },
    {
     "name": "stdout",
     "output_type": "stream",
     "text": [
      "iteration 20, reconstruction error 159315.938149\n"
     ]
    },
    {
     "name": "stderr",
     "output_type": "stream",
     "text": [
      "  4%|█▏                                 | 35/1000 [00:01<00:42, 22.76it/s]"
     ]
    },
    {
     "name": "stdout",
     "output_type": "stream",
     "text": [
      "iteration 30, reconstruction error 166706.698361\n"
     ]
    },
    {
     "name": "stderr",
     "output_type": "stream",
     "text": [
      "  4%|█▌                                 | 44/1000 [00:01<00:41, 22.95it/s]"
     ]
    },
    {
     "name": "stdout",
     "output_type": "stream",
     "text": [
      "iteration 40, reconstruction error 167352.614112\n"
     ]
    },
    {
     "name": "stderr",
     "output_type": "stream",
     "text": [
      "  5%|█▊                                 | 53/1000 [00:02<00:41, 22.99it/s]"
     ]
    },
    {
     "name": "stdout",
     "output_type": "stream",
     "text": [
      "iteration 50, reconstruction error 167242.322207\n"
     ]
    },
    {
     "name": "stderr",
     "output_type": "stream",
     "text": [
      "  6%|██▎                                | 65/1000 [00:02<00:40, 23.37it/s]"
     ]
    },
    {
     "name": "stdout",
     "output_type": "stream",
     "text": [
      "iteration 60, reconstruction error 166897.140371\n"
     ]
    },
    {
     "name": "stderr",
     "output_type": "stream",
     "text": [
      "  7%|██▌                                | 74/1000 [00:03<00:40, 22.69it/s]"
     ]
    },
    {
     "name": "stdout",
     "output_type": "stream",
     "text": [
      "iteration 70, reconstruction error 166078.231464\n"
     ]
    },
    {
     "name": "stderr",
     "output_type": "stream",
     "text": [
      "  8%|██▉                                | 83/1000 [00:03<00:42, 21.42it/s]"
     ]
    },
    {
     "name": "stdout",
     "output_type": "stream",
     "text": [
      "iteration 80, reconstruction error 164275.091583\n"
     ]
    },
    {
     "name": "stderr",
     "output_type": "stream",
     "text": [
      " 10%|███▎                               | 95/1000 [00:04<00:41, 21.78it/s]"
     ]
    },
    {
     "name": "stdout",
     "output_type": "stream",
     "text": [
      "iteration 90, reconstruction error 160583.351465\n"
     ]
    },
    {
     "name": "stderr",
     "output_type": "stream",
     "text": [
      " 10%|███▌                              | 104/1000 [00:04<00:39, 22.54it/s]"
     ]
    },
    {
     "name": "stdout",
     "output_type": "stream",
     "text": [
      "iteration 100, reconstruction error 153685.500525\n"
     ]
    },
    {
     "name": "stderr",
     "output_type": "stream",
     "text": [
      " 11%|███▊                              | 113/1000 [00:04<00:38, 23.17it/s]"
     ]
    },
    {
     "name": "stdout",
     "output_type": "stream",
     "text": [
      "iteration 110, reconstruction error 143383.753738\n"
     ]
    },
    {
     "name": "stderr",
     "output_type": "stream",
     "text": [
      " 12%|████▎                             | 125/1000 [00:05<00:39, 22.09it/s]"
     ]
    },
    {
     "name": "stdout",
     "output_type": "stream",
     "text": [
      "iteration 120, reconstruction error 135709.295848\n"
     ]
    },
    {
     "name": "stderr",
     "output_type": "stream",
     "text": [
      " 13%|████▌                             | 134/1000 [00:05<00:38, 22.63it/s]"
     ]
    },
    {
     "name": "stdout",
     "output_type": "stream",
     "text": [
      "iteration 130, reconstruction error 133408.101410\n"
     ]
    },
    {
     "name": "stderr",
     "output_type": "stream",
     "text": [
      " 14%|████▊                             | 143/1000 [00:06<00:39, 21.74it/s]"
     ]
    },
    {
     "name": "stdout",
     "output_type": "stream",
     "text": [
      "iteration 140, reconstruction error 131862.552095\n"
     ]
    },
    {
     "name": "stderr",
     "output_type": "stream",
     "text": [
      " 16%|█████▎                            | 155/1000 [00:06<00:36, 23.17it/s]"
     ]
    },
    {
     "name": "stdout",
     "output_type": "stream",
     "text": [
      "iteration 150, reconstruction error 130598.024933\n"
     ]
    },
    {
     "name": "stderr",
     "output_type": "stream",
     "text": [
      " 16%|█████▌                            | 164/1000 [00:07<00:36, 22.61it/s]"
     ]
    },
    {
     "name": "stdout",
     "output_type": "stream",
     "text": [
      "iteration 160, reconstruction error 129575.109973\n"
     ]
    },
    {
     "name": "stderr",
     "output_type": "stream",
     "text": [
      " 18%|█████▉                            | 176/1000 [00:07<00:35, 23.38it/s]"
     ]
    },
    {
     "name": "stdout",
     "output_type": "stream",
     "text": [
      "iteration 170, reconstruction error 128756.373797\n"
     ]
    },
    {
     "name": "stderr",
     "output_type": "stream",
     "text": [
      " 18%|██████▎                           | 185/1000 [00:08<00:36, 22.32it/s]"
     ]
    },
    {
     "name": "stdout",
     "output_type": "stream",
     "text": [
      "iteration 180, reconstruction error 128104.263839\n"
     ]
    },
    {
     "name": "stderr",
     "output_type": "stream",
     "text": [
      " 19%|██████▌                           | 194/1000 [00:08<00:36, 22.15it/s]"
     ]
    },
    {
     "name": "stdout",
     "output_type": "stream",
     "text": [
      "iteration 190, reconstruction error 127591.657288\n"
     ]
    },
    {
     "name": "stderr",
     "output_type": "stream",
     "text": [
      " 21%|███████                           | 206/1000 [00:09<00:34, 23.02it/s]"
     ]
    },
    {
     "name": "stdout",
     "output_type": "stream",
     "text": [
      "iteration 200, reconstruction error 127183.224919\n"
     ]
    },
    {
     "name": "stderr",
     "output_type": "stream",
     "text": [
      " 22%|███████▎                          | 215/1000 [00:09<00:34, 22.48it/s]"
     ]
    },
    {
     "name": "stdout",
     "output_type": "stream",
     "text": [
      "iteration 210, reconstruction error 126855.467736\n"
     ]
    },
    {
     "name": "stderr",
     "output_type": "stream",
     "text": [
      " 22%|███████▌                          | 224/1000 [00:09<00:33, 22.99it/s]"
     ]
    },
    {
     "name": "stdout",
     "output_type": "stream",
     "text": [
      "iteration 220, reconstruction error 126589.415700\n"
     ]
    },
    {
     "name": "stderr",
     "output_type": "stream",
     "text": [
      " 24%|████████                          | 236/1000 [00:10<00:33, 23.12it/s]"
     ]
    },
    {
     "name": "stdout",
     "output_type": "stream",
     "text": [
      "iteration 230, reconstruction error 126369.484768\n"
     ]
    },
    {
     "name": "stderr",
     "output_type": "stream",
     "text": [
      " 24%|████████▎                         | 245/1000 [00:10<00:32, 23.10it/s]"
     ]
    },
    {
     "name": "stdout",
     "output_type": "stream",
     "text": [
      "iteration 240, reconstruction error 126185.300378\n"
     ]
    },
    {
     "name": "stderr",
     "output_type": "stream",
     "text": [
      " 25%|████████▋                         | 254/1000 [00:11<00:32, 22.87it/s]"
     ]
    },
    {
     "name": "stdout",
     "output_type": "stream",
     "text": [
      "iteration 250, reconstruction error 126028.774871\n"
     ]
    },
    {
     "name": "stderr",
     "output_type": "stream",
     "text": [
      " 26%|████████▉                         | 263/1000 [00:11<00:33, 21.96it/s]"
     ]
    },
    {
     "name": "stdout",
     "output_type": "stream",
     "text": [
      "iteration 260, reconstruction error 125894.015428\n"
     ]
    },
    {
     "name": "stderr",
     "output_type": "stream",
     "text": [
      " 28%|█████████▎                        | 275/1000 [00:12<00:31, 23.21it/s]"
     ]
    },
    {
     "name": "stdout",
     "output_type": "stream",
     "text": [
      "iteration 270, reconstruction error 125777.409632\n"
     ]
    },
    {
     "name": "stderr",
     "output_type": "stream",
     "text": [
      " 28%|█████████▋                        | 284/1000 [00:12<00:32, 22.17it/s]"
     ]
    },
    {
     "name": "stdout",
     "output_type": "stream",
     "text": [
      "iteration 280, reconstruction error 125675.906087\n"
     ]
    },
    {
     "name": "stderr",
     "output_type": "stream",
     "text": [
      " 29%|█████████▉                        | 293/1000 [00:12<00:31, 22.58it/s]"
     ]
    },
    {
     "name": "stdout",
     "output_type": "stream",
     "text": [
      "iteration 290, reconstruction error 125587.116657\n"
     ]
    },
    {
     "name": "stderr",
     "output_type": "stream",
     "text": [
      " 30%|██████████▎                       | 305/1000 [00:13<00:30, 23.08it/s]"
     ]
    },
    {
     "name": "stdout",
     "output_type": "stream",
     "text": [
      "iteration 300, reconstruction error 125509.255493\n"
     ]
    },
    {
     "name": "stderr",
     "output_type": "stream",
     "text": [
      " 31%|██████████▋                       | 314/1000 [00:13<00:31, 21.52it/s]"
     ]
    },
    {
     "name": "stdout",
     "output_type": "stream",
     "text": [
      "iteration 310, reconstruction error 125441.001085\n"
     ]
    },
    {
     "name": "stderr",
     "output_type": "stream",
     "text": [
      " 32%|██████████▉                       | 323/1000 [00:14<00:31, 21.23it/s]"
     ]
    },
    {
     "name": "stdout",
     "output_type": "stream",
     "text": [
      "iteration 320, reconstruction error 125381.007482\n"
     ]
    },
    {
     "name": "stderr",
     "output_type": "stream",
     "text": [
      " 34%|███████████▍                      | 335/1000 [00:14<00:30, 22.09it/s]"
     ]
    },
    {
     "name": "stdout",
     "output_type": "stream",
     "text": [
      "iteration 330, reconstruction error 125328.094187\n"
     ]
    },
    {
     "name": "stderr",
     "output_type": "stream",
     "text": [
      " 34%|███████████▋                      | 344/1000 [00:15<00:29, 21.90it/s]"
     ]
    },
    {
     "name": "stdout",
     "output_type": "stream",
     "text": [
      "iteration 340, reconstruction error 125281.195991\n"
     ]
    },
    {
     "name": "stderr",
     "output_type": "stream",
     "text": [
      " 35%|████████████                      | 353/1000 [00:15<00:31, 20.59it/s]"
     ]
    },
    {
     "name": "stdout",
     "output_type": "stream",
     "text": [
      "iteration 350, reconstruction error 125239.302474\n"
     ]
    },
    {
     "name": "stderr",
     "output_type": "stream",
     "text": [
      " 36%|████████████▍                     | 365/1000 [00:16<00:28, 21.94it/s]"
     ]
    },
    {
     "name": "stdout",
     "output_type": "stream",
     "text": [
      "iteration 360, reconstruction error 125201.597270\n"
     ]
    },
    {
     "name": "stderr",
     "output_type": "stream",
     "text": [
      " 37%|████████████▋                     | 374/1000 [00:16<00:28, 21.72it/s]"
     ]
    },
    {
     "name": "stdout",
     "output_type": "stream",
     "text": [
      "iteration 370, reconstruction error 125167.411500\n"
     ]
    },
    {
     "name": "stderr",
     "output_type": "stream",
     "text": [
      " 38%|█████████████                     | 383/1000 [00:17<00:29, 21.04it/s]"
     ]
    },
    {
     "name": "stdout",
     "output_type": "stream",
     "text": [
      "iteration 380, reconstruction error 125136.085742\n"
     ]
    },
    {
     "name": "stderr",
     "output_type": "stream",
     "text": [
      " 40%|█████████████▍                    | 395/1000 [00:17<00:27, 21.63it/s]"
     ]
    },
    {
     "name": "stdout",
     "output_type": "stream",
     "text": [
      "iteration 390, reconstruction error 125107.055492\n"
     ]
    },
    {
     "name": "stderr",
     "output_type": "stream",
     "text": [
      " 40%|█████████████▋                    | 404/1000 [00:18<00:27, 21.59it/s]"
     ]
    },
    {
     "name": "stdout",
     "output_type": "stream",
     "text": [
      "iteration 400, reconstruction error 125079.914016\n"
     ]
    },
    {
     "name": "stderr",
     "output_type": "stream",
     "text": [
      " 41%|██████████████                    | 413/1000 [00:18<00:26, 22.14it/s]"
     ]
    },
    {
     "name": "stdout",
     "output_type": "stream",
     "text": [
      "iteration 410, reconstruction error 125054.243816\n"
     ]
    },
    {
     "name": "stderr",
     "output_type": "stream",
     "text": [
      " 42%|██████████████▍                   | 425/1000 [00:19<00:29, 19.55it/s]"
     ]
    },
    {
     "name": "stdout",
     "output_type": "stream",
     "text": [
      "iteration 420, reconstruction error 125029.751841\n"
     ]
    },
    {
     "name": "stderr",
     "output_type": "stream",
     "text": [
      " 43%|██████████████▊                   | 434/1000 [00:19<00:26, 21.47it/s]"
     ]
    },
    {
     "name": "stdout",
     "output_type": "stream",
     "text": [
      "iteration 430, reconstruction error 125006.230179\n"
     ]
    },
    {
     "name": "stderr",
     "output_type": "stream",
     "text": [
      " 44%|███████████████                   | 443/1000 [00:19<00:27, 20.61it/s]"
     ]
    },
    {
     "name": "stdout",
     "output_type": "stream",
     "text": [
      "iteration 440, reconstruction error 124983.481228\n"
     ]
    },
    {
     "name": "stderr",
     "output_type": "stream",
     "text": [
      " 46%|███████████████▍                  | 455/1000 [00:20<00:24, 22.57it/s]"
     ]
    },
    {
     "name": "stdout",
     "output_type": "stream",
     "text": [
      "iteration 450, reconstruction error 124961.352236\n"
     ]
    },
    {
     "name": "stderr",
     "output_type": "stream",
     "text": [
      " 46%|███████████████▊                  | 464/1000 [00:20<00:24, 21.84it/s]"
     ]
    },
    {
     "name": "stdout",
     "output_type": "stream",
     "text": [
      "iteration 460, reconstruction error 124939.721068\n"
     ]
    },
    {
     "name": "stderr",
     "output_type": "stream",
     "text": [
      " 47%|████████████████                  | 473/1000 [00:21<00:25, 20.33it/s]"
     ]
    },
    {
     "name": "stdout",
     "output_type": "stream",
     "text": [
      "iteration 470, reconstruction error 124918.479726\n"
     ]
    },
    {
     "name": "stderr",
     "output_type": "stream",
     "text": [
      " 48%|████████████████▍                 | 485/1000 [00:21<00:24, 21.18it/s]"
     ]
    },
    {
     "name": "stdout",
     "output_type": "stream",
     "text": [
      "iteration 480, reconstruction error 124897.637830\n"
     ]
    },
    {
     "name": "stderr",
     "output_type": "stream",
     "text": [
      " 49%|████████████████▊                 | 494/1000 [00:22<00:22, 22.92it/s]"
     ]
    },
    {
     "name": "stdout",
     "output_type": "stream",
     "text": [
      "iteration 490, reconstruction error 124877.102941\n"
     ]
    },
    {
     "name": "stderr",
     "output_type": "stream",
     "text": [
      " 50%|█████████████████                 | 503/1000 [00:22<00:21, 22.70it/s]"
     ]
    },
    {
     "name": "stdout",
     "output_type": "stream",
     "text": [
      "iteration 500, reconstruction error 124856.817400\n"
     ]
    },
    {
     "name": "stderr",
     "output_type": "stream",
     "text": [
      " 52%|█████████████████▌                | 515/1000 [00:23<00:20, 23.28it/s]"
     ]
    },
    {
     "name": "stdout",
     "output_type": "stream",
     "text": [
      "iteration 510, reconstruction error 124836.814376\n"
     ]
    },
    {
     "name": "stderr",
     "output_type": "stream",
     "text": [
      " 52%|█████████████████▊                | 524/1000 [00:23<00:21, 22.51it/s]"
     ]
    },
    {
     "name": "stdout",
     "output_type": "stream",
     "text": [
      "iteration 520, reconstruction error 124817.059282\n"
     ]
    },
    {
     "name": "stderr",
     "output_type": "stream",
     "text": [
      " 53%|██████████████████                | 533/1000 [00:24<00:21, 21.63it/s]"
     ]
    },
    {
     "name": "stdout",
     "output_type": "stream",
     "text": [
      "iteration 530, reconstruction error 124797.541598\n"
     ]
    },
    {
     "name": "stderr",
     "output_type": "stream",
     "text": [
      " 55%|██████████████████▌               | 545/1000 [00:24<00:20, 21.70it/s]"
     ]
    },
    {
     "name": "stdout",
     "output_type": "stream",
     "text": [
      "iteration 540, reconstruction error 124778.296772\n"
     ]
    },
    {
     "name": "stderr",
     "output_type": "stream",
     "text": [
      " 55%|██████████████████▊               | 554/1000 [00:25<00:20, 22.23it/s]"
     ]
    },
    {
     "name": "stdout",
     "output_type": "stream",
     "text": [
      "iteration 550, reconstruction error 124759.357056\n"
     ]
    },
    {
     "name": "stderr",
     "output_type": "stream",
     "text": [
      " 56%|███████████████████▏              | 563/1000 [00:25<00:20, 20.87it/s]"
     ]
    },
    {
     "name": "stdout",
     "output_type": "stream",
     "text": [
      "iteration 560, reconstruction error 124740.770598\n"
     ]
    },
    {
     "name": "stderr",
     "output_type": "stream",
     "text": [
      " 57%|███████████████████▌              | 575/1000 [00:26<00:19, 21.33it/s]"
     ]
    },
    {
     "name": "stdout",
     "output_type": "stream",
     "text": [
      "iteration 570, reconstruction error 124722.559654\n"
     ]
    },
    {
     "name": "stderr",
     "output_type": "stream",
     "text": [
      " 58%|███████████████████▊              | 584/1000 [00:26<00:19, 21.42it/s]"
     ]
    },
    {
     "name": "stdout",
     "output_type": "stream",
     "text": [
      "iteration 580, reconstruction error 124704.755295\n"
     ]
    },
    {
     "name": "stderr",
     "output_type": "stream",
     "text": [
      " 60%|████████████████████▎             | 596/1000 [00:26<00:17, 23.42it/s]"
     ]
    },
    {
     "name": "stdout",
     "output_type": "stream",
     "text": [
      "iteration 590, reconstruction error 124687.410318\n"
     ]
    },
    {
     "name": "stderr",
     "output_type": "stream",
     "text": [
      " 60%|████████████████████▌             | 605/1000 [00:27<00:18, 21.60it/s]"
     ]
    },
    {
     "name": "stdout",
     "output_type": "stream",
     "text": [
      "iteration 600, reconstruction error 124670.600602\n"
     ]
    },
    {
     "name": "stderr",
     "output_type": "stream",
     "text": [
      " 61%|████████████████████▉             | 614/1000 [00:27<00:16, 22.74it/s]"
     ]
    },
    {
     "name": "stdout",
     "output_type": "stream",
     "text": [
      "iteration 610, reconstruction error 124654.395202\n"
     ]
    },
    {
     "name": "stderr",
     "output_type": "stream",
     "text": [
      " 62%|█████████████████████▏            | 623/1000 [00:28<00:16, 22.44it/s]"
     ]
    },
    {
     "name": "stdout",
     "output_type": "stream",
     "text": [
      "iteration 620, reconstruction error 124638.895759\n"
     ]
    },
    {
     "name": "stderr",
     "output_type": "stream",
     "text": [
      " 64%|█████████████████████▌            | 635/1000 [00:28<00:15, 22.94it/s]"
     ]
    },
    {
     "name": "stdout",
     "output_type": "stream",
     "text": [
      "iteration 630, reconstruction error 124624.301380\n"
     ]
    },
    {
     "name": "stderr",
     "output_type": "stream",
     "text": [
      " 64%|█████████████████████▉            | 644/1000 [00:29<00:15, 23.65it/s]"
     ]
    },
    {
     "name": "stdout",
     "output_type": "stream",
     "text": [
      "iteration 640, reconstruction error 124610.606411\n"
     ]
    },
    {
     "name": "stderr",
     "output_type": "stream",
     "text": [
      " 65%|██████████████████████▏           | 653/1000 [00:29<00:15, 22.90it/s]"
     ]
    },
    {
     "name": "stdout",
     "output_type": "stream",
     "text": [
      "iteration 650, reconstruction error 124597.824951\n"
     ]
    },
    {
     "name": "stderr",
     "output_type": "stream",
     "text": [
      " 66%|██████████████████████▌           | 665/1000 [00:29<00:14, 23.47it/s]"
     ]
    },
    {
     "name": "stdout",
     "output_type": "stream",
     "text": [
      "iteration 660, reconstruction error 124585.933775\n"
     ]
    },
    {
     "name": "stderr",
     "output_type": "stream",
     "text": [
      " 67%|██████████████████████▉           | 674/1000 [00:30<00:13, 23.59it/s]"
     ]
    },
    {
     "name": "stdout",
     "output_type": "stream",
     "text": [
      "iteration 670, reconstruction error 124574.931900\n"
     ]
    },
    {
     "name": "stderr",
     "output_type": "stream",
     "text": [
      " 68%|███████████████████████▏          | 683/1000 [00:30<00:13, 23.25it/s]"
     ]
    },
    {
     "name": "stdout",
     "output_type": "stream",
     "text": [
      "iteration 680, reconstruction error 124564.814812\n"
     ]
    },
    {
     "name": "stderr",
     "output_type": "stream",
     "text": [
      " 70%|███████████████████████▋          | 695/1000 [00:31<00:12, 23.53it/s]"
     ]
    },
    {
     "name": "stdout",
     "output_type": "stream",
     "text": [
      "iteration 690, reconstruction error 124555.532530\n"
     ]
    },
    {
     "name": "stderr",
     "output_type": "stream",
     "text": [
      " 70%|███████████████████████▉          | 704/1000 [00:31<00:12, 22.93it/s]"
     ]
    },
    {
     "name": "stdout",
     "output_type": "stream",
     "text": [
      "iteration 700, reconstruction error 124547.047579\n"
     ]
    },
    {
     "name": "stderr",
     "output_type": "stream",
     "text": [
      " 71%|████████████████████████▏         | 713/1000 [00:32<00:12, 22.32it/s]"
     ]
    },
    {
     "name": "stdout",
     "output_type": "stream",
     "text": [
      "iteration 710, reconstruction error 124539.294714\n"
     ]
    },
    {
     "name": "stderr",
     "output_type": "stream",
     "text": [
      " 72%|████████████████████████▋         | 725/1000 [00:32<00:12, 22.30it/s]"
     ]
    },
    {
     "name": "stdout",
     "output_type": "stream",
     "text": [
      "iteration 720, reconstruction error 124532.229879\n"
     ]
    },
    {
     "name": "stderr",
     "output_type": "stream",
     "text": [
      " 73%|████████████████████████▉         | 734/1000 [00:33<00:12, 22.10it/s]"
     ]
    },
    {
     "name": "stdout",
     "output_type": "stream",
     "text": [
      "iteration 730, reconstruction error 124525.855941\n"
     ]
    },
    {
     "name": "stderr",
     "output_type": "stream",
     "text": [
      " 74%|█████████████████████████▎        | 743/1000 [00:33<00:11, 22.48it/s]"
     ]
    },
    {
     "name": "stdout",
     "output_type": "stream",
     "text": [
      "iteration 740, reconstruction error 124520.113203\n"
     ]
    },
    {
     "name": "stderr",
     "output_type": "stream",
     "text": [
      " 76%|█████████████████████████▋        | 755/1000 [00:34<00:11, 21.45it/s]"
     ]
    },
    {
     "name": "stdout",
     "output_type": "stream",
     "text": [
      "iteration 750, reconstruction error 124514.922334\n"
     ]
    },
    {
     "name": "stderr",
     "output_type": "stream",
     "text": [
      " 76%|█████████████████████████▉        | 764/1000 [00:34<00:10, 22.45it/s]"
     ]
    },
    {
     "name": "stdout",
     "output_type": "stream",
     "text": [
      "iteration 760, reconstruction error 124510.226935\n"
     ]
    },
    {
     "name": "stderr",
     "output_type": "stream",
     "text": [
      " 77%|██████████████████████████▎       | 773/1000 [00:34<00:11, 19.91it/s]"
     ]
    },
    {
     "name": "stdout",
     "output_type": "stream",
     "text": [
      "iteration 770, reconstruction error 124505.965549\n"
     ]
    },
    {
     "name": "stderr",
     "output_type": "stream",
     "text": [
      " 78%|██████████████████████████▋       | 784/1000 [00:35<00:10, 20.32it/s]"
     ]
    },
    {
     "name": "stdout",
     "output_type": "stream",
     "text": [
      "iteration 780, reconstruction error 124502.098309\n"
     ]
    },
    {
     "name": "stderr",
     "output_type": "stream",
     "text": [
      " 79%|██████████████████████████▉       | 794/1000 [00:36<00:11, 18.06it/s]"
     ]
    },
    {
     "name": "stdout",
     "output_type": "stream",
     "text": [
      "iteration 790, reconstruction error 124498.568726\n"
     ]
    },
    {
     "name": "stderr",
     "output_type": "stream",
     "text": [
      " 80%|███████████████████████████▎      | 804/1000 [00:36<00:09, 19.96it/s]"
     ]
    },
    {
     "name": "stdout",
     "output_type": "stream",
     "text": [
      "iteration 800, reconstruction error 124495.331908\n"
     ]
    },
    {
     "name": "stderr",
     "output_type": "stream",
     "text": [
      " 81%|███████████████████████████▋      | 813/1000 [00:36<00:09, 19.05it/s]"
     ]
    },
    {
     "name": "stdout",
     "output_type": "stream",
     "text": [
      "iteration 810, reconstruction error 124492.348791\n"
     ]
    },
    {
     "name": "stderr",
     "output_type": "stream",
     "text": [
      " 82%|████████████████████████████      | 825/1000 [00:37<00:08, 19.82it/s]"
     ]
    },
    {
     "name": "stdout",
     "output_type": "stream",
     "text": [
      "iteration 820, reconstruction error 124489.587384\n"
     ]
    },
    {
     "name": "stderr",
     "output_type": "stream",
     "text": [
      " 84%|████████████████████████████▍     | 835/1000 [00:38<00:08, 20.00it/s]"
     ]
    },
    {
     "name": "stdout",
     "output_type": "stream",
     "text": [
      "iteration 830, reconstruction error 124487.021493\n"
     ]
    },
    {
     "name": "stderr",
     "output_type": "stream",
     "text": [
      " 84%|████████████████████████████▋     | 844/1000 [00:38<00:07, 21.58it/s]"
     ]
    },
    {
     "name": "stdout",
     "output_type": "stream",
     "text": [
      "iteration 840, reconstruction error 124484.629093\n"
     ]
    },
    {
     "name": "stderr",
     "output_type": "stream",
     "text": [
      " 85%|█████████████████████████████     | 853/1000 [00:38<00:06, 22.02it/s]"
     ]
    },
    {
     "name": "stdout",
     "output_type": "stream",
     "text": [
      "iteration 850, reconstruction error 124482.391752\n"
     ]
    },
    {
     "name": "stderr",
     "output_type": "stream",
     "text": [
      " 86%|█████████████████████████████▍    | 865/1000 [00:39<00:06, 22.02it/s]"
     ]
    },
    {
     "name": "stdout",
     "output_type": "stream",
     "text": [
      "iteration 860, reconstruction error 124480.293915\n"
     ]
    },
    {
     "name": "stderr",
     "output_type": "stream",
     "text": [
      " 87%|█████████████████████████████▋    | 874/1000 [00:39<00:05, 22.25it/s]"
     ]
    },
    {
     "name": "stdout",
     "output_type": "stream",
     "text": [
      "iteration 870, reconstruction error 124478.320340\n"
     ]
    },
    {
     "name": "stderr",
     "output_type": "stream",
     "text": [
      " 88%|██████████████████████████████    | 883/1000 [00:40<00:05, 22.29it/s]"
     ]
    },
    {
     "name": "stdout",
     "output_type": "stream",
     "text": [
      "iteration 880, reconstruction error 124476.457437\n"
     ]
    },
    {
     "name": "stderr",
     "output_type": "stream",
     "text": [
      " 90%|██████████████████████████████▍   | 895/1000 [00:40<00:04, 23.17it/s]"
     ]
    },
    {
     "name": "stdout",
     "output_type": "stream",
     "text": [
      "iteration 890, reconstruction error 124474.694977\n"
     ]
    },
    {
     "name": "stderr",
     "output_type": "stream",
     "text": [
      " 90%|██████████████████████████████▋   | 904/1000 [00:41<00:04, 22.89it/s]"
     ]
    },
    {
     "name": "stdout",
     "output_type": "stream",
     "text": [
      "iteration 900, reconstruction error 124473.023970\n"
     ]
    },
    {
     "name": "stderr",
     "output_type": "stream",
     "text": [
      " 91%|███████████████████████████████   | 913/1000 [00:41<00:03, 22.50it/s]"
     ]
    },
    {
     "name": "stdout",
     "output_type": "stream",
     "text": [
      "iteration 910, reconstruction error 124471.437392\n"
     ]
    },
    {
     "name": "stderr",
     "output_type": "stream",
     "text": [
      " 92%|███████████████████████████████▍  | 925/1000 [00:42<00:03, 21.80it/s]"
     ]
    },
    {
     "name": "stdout",
     "output_type": "stream",
     "text": [
      "iteration 920, reconstruction error 124469.927124\n"
     ]
    },
    {
     "name": "stderr",
     "output_type": "stream",
     "text": [
      " 93%|███████████████████████████████▊  | 934/1000 [00:42<00:02, 22.76it/s]"
     ]
    },
    {
     "name": "stdout",
     "output_type": "stream",
     "text": [
      "iteration 930, reconstruction error 124468.486129\n"
     ]
    },
    {
     "name": "stderr",
     "output_type": "stream",
     "text": [
      " 94%|████████████████████████████████  | 943/1000 [00:42<00:02, 22.55it/s]"
     ]
    },
    {
     "name": "stdout",
     "output_type": "stream",
     "text": [
      "iteration 940, reconstruction error 124467.107987\n"
     ]
    },
    {
     "name": "stderr",
     "output_type": "stream",
     "text": [
      " 96%|████████████████████████████████▍ | 955/1000 [00:43<00:01, 23.18it/s]"
     ]
    },
    {
     "name": "stdout",
     "output_type": "stream",
     "text": [
      "iteration 950, reconstruction error 124465.788546\n"
     ]
    },
    {
     "name": "stderr",
     "output_type": "stream",
     "text": [
      " 96%|████████████████████████████████▊ | 964/1000 [00:43<00:01, 22.75it/s]"
     ]
    },
    {
     "name": "stdout",
     "output_type": "stream",
     "text": [
      "iteration 960, reconstruction error 124464.523120\n"
     ]
    },
    {
     "name": "stderr",
     "output_type": "stream",
     "text": [
      " 98%|█████████████████████████████████▏| 976/1000 [00:44<00:01, 21.64it/s]"
     ]
    },
    {
     "name": "stdout",
     "output_type": "stream",
     "text": [
      "iteration 970, reconstruction error 124463.307280\n"
     ]
    },
    {
     "name": "stderr",
     "output_type": "stream",
     "text": [
      " 98%|█████████████████████████████████▍| 985/1000 [00:44<00:00, 22.74it/s]"
     ]
    },
    {
     "name": "stdout",
     "output_type": "stream",
     "text": [
      "iteration 980, reconstruction error 124462.136941\n"
     ]
    },
    {
     "name": "stderr",
     "output_type": "stream",
     "text": [
      " 99%|█████████████████████████████████▊| 994/1000 [00:45<00:00, 23.34it/s]"
     ]
    },
    {
     "name": "stdout",
     "output_type": "stream",
     "text": [
      "iteration 990, reconstruction error 124461.008983\n"
     ]
    },
    {
     "name": "stderr",
     "output_type": "stream",
     "text": [
      "100%|█████████████████████████████████| 1000/1000 [00:45<00:00, 21.99it/s]"
     ]
    },
    {
     "name": "stdout",
     "output_type": "stream",
     "text": [
      "\n",
      "\n",
      "###########################\n",
      "Shape of W_false: (2500, 16)\n",
      "###########################\n",
      "\n",
      "\n"
     ]
    },
    {
     "name": "stderr",
     "output_type": "stream",
     "text": [
      "\n"
     ]
    }
   ],
   "source": [
    "W_true, H_true = ALS(X = X_true, \n",
    "           n_components = 16, # Reconstruction Error reduces as n_components increases\n",
    "           n_iter = 1000, \n",
    "           a0 = 0, # L1 regularizer for H\n",
    "           a1 = 0, # L1 regularizer for W\n",
    "           a12 = 0, # L2 regularizer for W\n",
    "           H_nonnegativity = True,\n",
    "           W_nonnegativity = True,\n",
    "           compute_recons_error = True,\n",
    "           subsample_ratio = 1)\n",
    "\n",
    "print(f\"\\n\\n###########################\\nShape of W_true: {W_true.shape}\\n###########################\\n\\n\")\n",
    "\n",
    "W_false, H_false = ALS(X = X_false, \n",
    "           n_components = 16, # Reconstruction Error reduces as n_components increases\n",
    "           n_iter = 1000, \n",
    "           a0 = 0, # L1 regularizer for H\n",
    "           a1 = 0, # L1 regularizer for W\n",
    "           a12 = 0, # L2 regularizer for W\n",
    "           H_nonnegativity = True,\n",
    "           W_nonnegativity = True,\n",
    "           compute_recons_error = True,\n",
    "           subsample_ratio = 1)\n",
    "\n",
    "print(f\"\\n\\n###########################\\nShape of W_false: {W_false.shape}\\n###########################\\n\\n\")"
   ]
  },
  {
   "cell_type": "code",
   "execution_count": 96,
   "id": "16670846",
   "metadata": {},
   "outputs": [
    {
     "data": {
      "image/png": "[encoded data removed]",
      "text/plain": [
       "<Figure size 720x720 with 16 Axes>"
      ]
     },
     "metadata": {},
     "output_type": "display_data"
    }
   ],
   "source": [
    "display_dictionary(W, figsize=[10,10])"
   ]
  },
  {
   "cell_type": "code",
   "execution_count": 90,
   "id": "9ee8cc83",
   "metadata": {},
   "outputs": [
    {
     "data": {
      "image/png": "[encoded data removed]",
      "text/plain": [
       "<Figure size 720x720 with 16 Axes>"
      ]
     },
     "metadata": {},
     "output_type": "display_data"
    }
   ],
   "source": [
    "display_dictionary(W_true, figsize=[10,10])"
   ]
  },
  {
   "cell_type": "code",
   "execution_count": 91,
   "id": "2938e02a",
   "metadata": {},
   "outputs": [
    {
     "data": {
      "image/png": "[encoded data removed]",
      "text/plain": [
       "<Figure size 720x720 with 16 Axes>"
      ]
     },
     "metadata": {},
     "output_type": "display_data"
    }
   ],
   "source": [
    "display_dictionary(W_false, figsize=[10,10])"
   ]
  },
  {
   "cell_type": "code",
   "execution_count": 92,
   "id": "26bcd8d7",
   "metadata": {
    "scrolled": true
   },
   "outputs": [
    {
     "name": "stderr",
     "output_type": "stream",
     "text": [
      "  0%|▏                                   | 4/1000 [00:00<00:56, 17.48it/s]"
     ]
    },
    {
     "name": "stdout",
     "output_type": "stream",
     "text": [
      "iteration 0, reconstruction error 394022.517156\n"
     ]
    },
    {
     "name": "stderr",
     "output_type": "stream",
     "text": [
      "  1%|▍                                  | 13/1000 [00:00<00:49, 20.02it/s]"
     ]
    },
    {
     "name": "stdout",
     "output_type": "stream",
     "text": [
      "iteration 10, reconstruction error 165540.076154\n"
     ]
    },
    {
     "name": "stderr",
     "output_type": "stream",
     "text": [
      "  2%|▊                                  | 22/1000 [00:01<00:48, 20.24it/s]"
     ]
    },
    {
     "name": "stdout",
     "output_type": "stream",
     "text": [
      "iteration 20, reconstruction error 168227.464153\n"
     ]
    },
    {
     "name": "stderr",
     "output_type": "stream",
     "text": [
      "  3%|█▏                                 | 34/1000 [00:01<00:49, 19.41it/s]"
     ]
    },
    {
     "name": "stdout",
     "output_type": "stream",
     "text": [
      "iteration 30, reconstruction error 167633.123546\n"
     ]
    },
    {
     "name": "stderr",
     "output_type": "stream",
     "text": [
      "  4%|█▌                                 | 43/1000 [00:02<00:48, 19.73it/s]"
     ]
    },
    {
     "name": "stdout",
     "output_type": "stream",
     "text": [
      "iteration 40, reconstruction error 166622.894762\n"
     ]
    },
    {
     "name": "stderr",
     "output_type": "stream",
     "text": [
      "  5%|█▉                                 | 54/1000 [00:02<00:47, 19.91it/s]"
     ]
    },
    {
     "name": "stdout",
     "output_type": "stream",
     "text": [
      "iteration 50, reconstruction error 165023.357334\n"
     ]
    },
    {
     "name": "stderr",
     "output_type": "stream",
     "text": [
      "  6%|██▏                                | 63/1000 [00:03<00:46, 20.11it/s]"
     ]
    },
    {
     "name": "stdout",
     "output_type": "stream",
     "text": [
      "iteration 60, reconstruction error 162683.977595\n"
     ]
    },
    {
     "name": "stderr",
     "output_type": "stream",
     "text": [
      "  8%|██▋                                | 75/1000 [00:03<00:45, 20.32it/s]"
     ]
    },
    {
     "name": "stdout",
     "output_type": "stream",
     "text": [
      "iteration 70, reconstruction error 159297.381514\n"
     ]
    },
    {
     "name": "stderr",
     "output_type": "stream",
     "text": [
      "  8%|██▉                                | 84/1000 [00:04<00:45, 20.27it/s]"
     ]
    },
    {
     "name": "stdout",
     "output_type": "stream",
     "text": [
      "iteration 80, reconstruction error 154351.719144\n"
     ]
    },
    {
     "name": "stderr",
     "output_type": "stream",
     "text": [
      "  9%|███▎                               | 93/1000 [00:04<00:46, 19.59it/s]"
     ]
    },
    {
     "name": "stdout",
     "output_type": "stream",
     "text": [
      "iteration 90, reconstruction error 147448.445030\n"
     ]
    },
    {
     "name": "stderr",
     "output_type": "stream",
     "text": [
      " 10%|███▌                              | 105/1000 [00:05<00:43, 20.37it/s]"
     ]
    },
    {
     "name": "stdout",
     "output_type": "stream",
     "text": [
      "iteration 100, reconstruction error 139234.651077\n"
     ]
    },
    {
     "name": "stderr",
     "output_type": "stream",
     "text": [
      " 11%|███▉                              | 114/1000 [00:05<00:46, 19.06it/s]"
     ]
    },
    {
     "name": "stdout",
     "output_type": "stream",
     "text": [
      "iteration 110, reconstruction error 133565.969221\n"
     ]
    },
    {
     "name": "stderr",
     "output_type": "stream",
     "text": [
      " 12%|████▎                             | 125/1000 [00:06<00:43, 19.92it/s]"
     ]
    },
    {
     "name": "stdout",
     "output_type": "stream",
     "text": [
      "iteration 120, reconstruction error 131492.213726\n"
     ]
    },
    {
     "name": "stderr",
     "output_type": "stream",
     "text": [
      " 13%|████▌                             | 133/1000 [00:06<00:50, 17.08it/s]"
     ]
    },
    {
     "name": "stdout",
     "output_type": "stream",
     "text": [
      "iteration 130, reconstruction error 130380.965362\n"
     ]
    },
    {
     "name": "stderr",
     "output_type": "stream",
     "text": [
      " 14%|████▊                             | 143/1000 [00:07<00:45, 18.83it/s]"
     ]
    },
    {
     "name": "stdout",
     "output_type": "stream",
     "text": [
      "iteration 140, reconstruction error 129618.319712\n"
     ]
    },
    {
     "name": "stderr",
     "output_type": "stream",
     "text": [
      " 16%|█████▎                            | 155/1000 [00:07<00:41, 20.29it/s]"
     ]
    },
    {
     "name": "stdout",
     "output_type": "stream",
     "text": [
      "iteration 150, reconstruction error 129066.387232\n"
     ]
    },
    {
     "name": "stderr",
     "output_type": "stream",
     "text": [
      " 16%|█████▌                            | 164/1000 [00:08<00:42, 19.71it/s]"
     ]
    },
    {
     "name": "stdout",
     "output_type": "stream",
     "text": [
      "iteration 160, reconstruction error 128653.463308\n"
     ]
    },
    {
     "name": "stderr",
     "output_type": "stream",
     "text": [
      " 17%|█████▉                            | 173/1000 [00:08<00:43, 19.22it/s]"
     ]
    },
    {
     "name": "stdout",
     "output_type": "stream",
     "text": [
      "iteration 170, reconstruction error 128335.411513\n"
     ]
    },
    {
     "name": "stderr",
     "output_type": "stream",
     "text": [
      " 18%|██████▎                           | 184/1000 [00:09<00:41, 19.87it/s]"
     ]
    },
    {
     "name": "stdout",
     "output_type": "stream",
     "text": [
      "iteration 180, reconstruction error 128081.859941\n"
     ]
    },
    {
     "name": "stderr",
     "output_type": "stream",
     "text": [
      " 19%|██████▌                           | 193/1000 [00:09<00:41, 19.30it/s]"
     ]
    },
    {
     "name": "stdout",
     "output_type": "stream",
     "text": [
      "iteration 190, reconstruction error 127875.148879\n"
     ]
    },
    {
     "name": "stderr",
     "output_type": "stream",
     "text": [
      " 20%|██████▊                           | 202/1000 [00:10<00:43, 18.45it/s]"
     ]
    },
    {
     "name": "stdout",
     "output_type": "stream",
     "text": [
      "iteration 200, reconstruction error 127703.894938\n"
     ]
    },
    {
     "name": "stderr",
     "output_type": "stream",
     "text": [
      " 21%|███████▏                          | 213/1000 [00:10<00:39, 19.94it/s]"
     ]
    },
    {
     "name": "stdout",
     "output_type": "stream",
     "text": [
      "iteration 210, reconstruction error 127559.381028\n"
     ]
    },
    {
     "name": "stderr",
     "output_type": "stream",
     "text": [
      " 22%|███████▌                          | 223/1000 [00:11<00:40, 19.06it/s]"
     ]
    },
    {
     "name": "stdout",
     "output_type": "stream",
     "text": [
      "iteration 220, reconstruction error 127435.663557\n"
     ]
    },
    {
     "name": "stderr",
     "output_type": "stream",
     "text": [
      " 23%|███████▉                          | 234/1000 [00:12<00:39, 19.18it/s]"
     ]
    },
    {
     "name": "stdout",
     "output_type": "stream",
     "text": [
      "iteration 230, reconstruction error 127327.761259\n"
     ]
    },
    {
     "name": "stderr",
     "output_type": "stream",
     "text": [
      " 24%|████████▎                         | 245/1000 [00:12<00:45, 16.41it/s]"
     ]
    },
    {
     "name": "stdout",
     "output_type": "stream",
     "text": [
      "iteration 240, reconstruction error 127232.541496\n"
     ]
    },
    {
     "name": "stderr",
     "output_type": "stream",
     "text": [
      " 25%|████████▋                         | 254/1000 [00:13<00:40, 18.40it/s]"
     ]
    },
    {
     "name": "stdout",
     "output_type": "stream",
     "text": [
      "iteration 250, reconstruction error 127147.931208\n"
     ]
    },
    {
     "name": "stderr",
     "output_type": "stream",
     "text": [
      " 26%|████████▉                         | 263/1000 [00:13<00:37, 19.54it/s]"
     ]
    },
    {
     "name": "stdout",
     "output_type": "stream",
     "text": [
      "iteration 260, reconstruction error 127071.699653\n"
     ]
    },
    {
     "name": "stderr",
     "output_type": "stream",
     "text": [
      " 28%|█████████▎                        | 275/1000 [00:14<00:35, 20.63it/s]"
     ]
    },
    {
     "name": "stdout",
     "output_type": "stream",
     "text": [
      "iteration 270, reconstruction error 127002.043873\n"
     ]
    },
    {
     "name": "stderr",
     "output_type": "stream",
     "text": [
      " 28%|█████████▋                        | 284/1000 [00:14<00:35, 20.18it/s]"
     ]
    },
    {
     "name": "stdout",
     "output_type": "stream",
     "text": [
      "iteration 280, reconstruction error 126937.282876\n"
     ]
    },
    {
     "name": "stderr",
     "output_type": "stream",
     "text": [
      " 29%|█████████▉                        | 293/1000 [00:15<00:35, 20.06it/s]"
     ]
    },
    {
     "name": "stdout",
     "output_type": "stream",
     "text": [
      "iteration 290, reconstruction error 126876.898683\n"
     ]
    },
    {
     "name": "stderr",
     "output_type": "stream",
     "text": [
      " 30%|██████████▎                       | 304/1000 [00:15<00:34, 20.02it/s]"
     ]
    },
    {
     "name": "stdout",
     "output_type": "stream",
     "text": [
      "iteration 300, reconstruction error 126819.885670\n"
     ]
    },
    {
     "name": "stderr",
     "output_type": "stream",
     "text": [
      " 31%|██████████▋                       | 314/1000 [00:16<00:36, 18.88it/s]"
     ]
    },
    {
     "name": "stdout",
     "output_type": "stream",
     "text": [
      "iteration 310, reconstruction error 126765.657572\n"
     ]
    },
    {
     "name": "stderr",
     "output_type": "stream",
     "text": [
      " 32%|███████████                       | 325/1000 [00:16<00:34, 19.48it/s]"
     ]
    },
    {
     "name": "stdout",
     "output_type": "stream",
     "text": [
      "iteration 320, reconstruction error 126713.966632\n"
     ]
    },
    {
     "name": "stderr",
     "output_type": "stream",
     "text": [
      " 33%|███████████▎                      | 333/1000 [00:17<00:34, 19.07it/s]"
     ]
    },
    {
     "name": "stdout",
     "output_type": "stream",
     "text": [
      "iteration 330, reconstruction error 126664.652476\n"
     ]
    },
    {
     "name": "stderr",
     "output_type": "stream",
     "text": [
      " 34%|███████████▋                      | 344/1000 [00:17<00:35, 18.63it/s]"
     ]
    },
    {
     "name": "stdout",
     "output_type": "stream",
     "text": [
      "iteration 340, reconstruction error 126617.451985\n"
     ]
    },
    {
     "name": "stderr",
     "output_type": "stream",
     "text": [
      " 35%|████████████                      | 353/1000 [00:18<00:34, 18.98it/s]"
     ]
    },
    {
     "name": "stdout",
     "output_type": "stream",
     "text": [
      "iteration 350, reconstruction error 126572.142915\n"
     ]
    },
    {
     "name": "stderr",
     "output_type": "stream",
     "text": [
      " 36%|████████████▍                     | 364/1000 [00:18<00:31, 20.26it/s]"
     ]
    },
    {
     "name": "stdout",
     "output_type": "stream",
     "text": [
      "iteration 360, reconstruction error 126528.737868\n"
     ]
    },
    {
     "name": "stderr",
     "output_type": "stream",
     "text": [
      " 37%|████████████▋                     | 373/1000 [00:19<00:31, 19.94it/s]"
     ]
    },
    {
     "name": "stdout",
     "output_type": "stream",
     "text": [
      "iteration 370, reconstruction error 126487.307772\n"
     ]
    },
    {
     "name": "stderr",
     "output_type": "stream",
     "text": [
      " 38%|█████████████                     | 384/1000 [00:19<00:32, 19.23it/s]"
     ]
    },
    {
     "name": "stdout",
     "output_type": "stream",
     "text": [
      "iteration 380, reconstruction error 126447.888505\n"
     ]
    },
    {
     "name": "stderr",
     "output_type": "stream",
     "text": [
      " 39%|█████████████▎                    | 393/1000 [00:20<00:31, 19.29it/s]"
     ]
    },
    {
     "name": "stdout",
     "output_type": "stream",
     "text": [
      "iteration 390, reconstruction error 126410.718072\n"
     ]
    },
    {
     "name": "stderr",
     "output_type": "stream",
     "text": [
      " 40%|█████████████▊                    | 405/1000 [00:20<00:31, 19.18it/s]"
     ]
    },
    {
     "name": "stdout",
     "output_type": "stream",
     "text": [
      "iteration 400, reconstruction error 126375.888928\n"
     ]
    },
    {
     "name": "stderr",
     "output_type": "stream",
     "text": [
      " 41%|██████████████                    | 413/1000 [00:21<00:31, 18.57it/s]"
     ]
    },
    {
     "name": "stdout",
     "output_type": "stream",
     "text": [
      "iteration 410, reconstruction error 126343.505575\n"
     ]
    },
    {
     "name": "stderr",
     "output_type": "stream",
     "text": [
      " 42%|██████████████▍                   | 423/1000 [00:21<00:32, 17.77it/s]"
     ]
    },
    {
     "name": "stdout",
     "output_type": "stream",
     "text": [
      "iteration 420, reconstruction error 126313.342808\n"
     ]
    },
    {
     "name": "stderr",
     "output_type": "stream",
     "text": [
      " 43%|██████████████▋                   | 433/1000 [00:22<00:29, 18.90it/s]"
     ]
    },
    {
     "name": "stdout",
     "output_type": "stream",
     "text": [
      "iteration 430, reconstruction error 126285.366876\n"
     ]
    },
    {
     "name": "stderr",
     "output_type": "stream",
     "text": [
      " 44%|███████████████                   | 443/1000 [00:22<00:29, 18.99it/s]"
     ]
    },
    {
     "name": "stdout",
     "output_type": "stream",
     "text": [
      "iteration 440, reconstruction error 126259.613372\n"
     ]
    },
    {
     "name": "stderr",
     "output_type": "stream",
     "text": [
      " 45%|███████████████▍                  | 454/1000 [00:23<00:28, 19.33it/s]"
     ]
    },
    {
     "name": "stdout",
     "output_type": "stream",
     "text": [
      "iteration 450, reconstruction error 126235.936948\n"
     ]
    },
    {
     "name": "stderr",
     "output_type": "stream",
     "text": [
      " 46%|███████████████▋                  | 463/1000 [00:23<00:28, 19.14it/s]"
     ]
    },
    {
     "name": "stdout",
     "output_type": "stream",
     "text": [
      "iteration 460, reconstruction error 126214.255997\n"
     ]
    },
    {
     "name": "stderr",
     "output_type": "stream",
     "text": [
      " 47%|████████████████                  | 474/1000 [00:24<00:27, 19.42it/s]"
     ]
    },
    {
     "name": "stdout",
     "output_type": "stream",
     "text": [
      "iteration 470, reconstruction error 126194.351825\n"
     ]
    },
    {
     "name": "stderr",
     "output_type": "stream",
     "text": [
      " 48%|████████████████▍                 | 484/1000 [00:24<00:25, 20.30it/s]"
     ]
    },
    {
     "name": "stdout",
     "output_type": "stream",
     "text": [
      "iteration 480, reconstruction error 126176.070423\n"
     ]
    },
    {
     "name": "stderr",
     "output_type": "stream",
     "text": [
      " 49%|████████████████▊                 | 494/1000 [00:25<00:27, 18.34it/s]"
     ]
    },
    {
     "name": "stdout",
     "output_type": "stream",
     "text": [
      "iteration 490, reconstruction error 126159.254073\n"
     ]
    },
    {
     "name": "stderr",
     "output_type": "stream",
     "text": [
      " 50%|█████████████████▏                | 504/1000 [00:26<00:26, 19.06it/s]"
     ]
    },
    {
     "name": "stdout",
     "output_type": "stream",
     "text": [
      "iteration 500, reconstruction error 126143.762300\n"
     ]
    },
    {
     "name": "stderr",
     "output_type": "stream",
     "text": [
      " 51%|█████████████████▍                | 513/1000 [00:26<00:27, 17.40it/s]"
     ]
    },
    {
     "name": "stdout",
     "output_type": "stream",
     "text": [
      "iteration 510, reconstruction error 126129.466027\n"
     ]
    },
    {
     "name": "stderr",
     "output_type": "stream",
     "text": [
      " 52%|█████████████████▊                | 524/1000 [00:27<00:26, 18.28it/s]"
     ]
    },
    {
     "name": "stdout",
     "output_type": "stream",
     "text": [
      "iteration 520, reconstruction error 126116.362902\n"
     ]
    },
    {
     "name": "stderr",
     "output_type": "stream",
     "text": [
      " 53%|██████████████████                | 533/1000 [00:27<00:25, 18.27it/s]"
     ]
    },
    {
     "name": "stdout",
     "output_type": "stream",
     "text": [
      "iteration 530, reconstruction error 126104.324756\n"
     ]
    },
    {
     "name": "stderr",
     "output_type": "stream",
     "text": [
      " 54%|██████████████████▍               | 543/1000 [00:28<00:23, 19.39it/s]"
     ]
    },
    {
     "name": "stdout",
     "output_type": "stream",
     "text": [
      "iteration 540, reconstruction error 126093.189535\n"
     ]
    },
    {
     "name": "stderr",
     "output_type": "stream",
     "text": [
      " 55%|██████████████████▊               | 554/1000 [00:28<00:21, 20.28it/s]"
     ]
    },
    {
     "name": "stdout",
     "output_type": "stream",
     "text": [
      "iteration 550, reconstruction error 126082.843662\n"
     ]
    },
    {
     "name": "stderr",
     "output_type": "stream",
     "text": [
      " 56%|███████████████████▏              | 563/1000 [00:29<00:23, 18.42it/s]"
     ]
    },
    {
     "name": "stdout",
     "output_type": "stream",
     "text": [
      "iteration 560, reconstruction error 126073.210099\n"
     ]
    },
    {
     "name": "stderr",
     "output_type": "stream",
     "text": [
      " 57%|███████████████████▌              | 574/1000 [00:29<00:22, 19.03it/s]"
     ]
    },
    {
     "name": "stdout",
     "output_type": "stream",
     "text": [
      "iteration 570, reconstruction error 126064.231046\n"
     ]
    },
    {
     "name": "stderr",
     "output_type": "stream",
     "text": [
      " 58%|███████████████████▊              | 583/1000 [00:30<00:22, 18.84it/s]"
     ]
    },
    {
     "name": "stdout",
     "output_type": "stream",
     "text": [
      "iteration 580, reconstruction error 126055.839064\n"
     ]
    },
    {
     "name": "stderr",
     "output_type": "stream",
     "text": [
      " 60%|████████████████████▏             | 595/1000 [00:30<00:20, 19.38it/s]"
     ]
    },
    {
     "name": "stdout",
     "output_type": "stream",
     "text": [
      "iteration 590, reconstruction error 126047.980157\n"
     ]
    },
    {
     "name": "stderr",
     "output_type": "stream",
     "text": [
      " 60%|████████████████████▌             | 604/1000 [00:31<00:20, 19.17it/s]"
     ]
    },
    {
     "name": "stdout",
     "output_type": "stream",
     "text": [
      "iteration 600, reconstruction error 126040.630769\n"
     ]
    },
    {
     "name": "stderr",
     "output_type": "stream",
     "text": [
      " 61%|████████████████████▊             | 613/1000 [00:31<00:20, 18.77it/s]"
     ]
    },
    {
     "name": "stdout",
     "output_type": "stream",
     "text": [
      "iteration 610, reconstruction error 126033.736373\n"
     ]
    },
    {
     "name": "stderr",
     "output_type": "stream",
     "text": [
      " 62%|█████████████████████▏            | 623/1000 [00:32<00:20, 18.46it/s]"
     ]
    },
    {
     "name": "stdout",
     "output_type": "stream",
     "text": [
      "iteration 620, reconstruction error 126027.251902\n"
     ]
    },
    {
     "name": "stderr",
     "output_type": "stream",
     "text": [
      " 63%|█████████████████████▌            | 633/1000 [00:32<00:19, 18.48it/s]"
     ]
    },
    {
     "name": "stdout",
     "output_type": "stream",
     "text": [
      "iteration 630, reconstruction error 126021.145222\n"
     ]
    },
    {
     "name": "stderr",
     "output_type": "stream",
     "text": [
      " 64%|█████████████████████▊            | 643/1000 [00:33<00:18, 18.83it/s]"
     ]
    },
    {
     "name": "stdout",
     "output_type": "stream",
     "text": [
      "iteration 640, reconstruction error 126015.381998\n"
     ]
    },
    {
     "name": "stderr",
     "output_type": "stream",
     "text": [
      " 65%|██████████████████████▏           | 654/1000 [00:33<00:17, 19.58it/s]"
     ]
    },
    {
     "name": "stdout",
     "output_type": "stream",
     "text": [
      "iteration 650, reconstruction error 126009.927185\n"
     ]
    },
    {
     "name": "stderr",
     "output_type": "stream",
     "text": [
      " 66%|██████████████████████▌           | 663/1000 [00:34<00:16, 20.19it/s]"
     ]
    },
    {
     "name": "stdout",
     "output_type": "stream",
     "text": [
      "iteration 660, reconstruction error 126004.751642\n"
     ]
    },
    {
     "name": "stderr",
     "output_type": "stream",
     "text": [
      " 67%|██████████████████████▉           | 674/1000 [00:34<00:16, 19.26it/s]"
     ]
    },
    {
     "name": "stdout",
     "output_type": "stream",
     "text": [
      "iteration 670, reconstruction error 125999.828873\n"
     ]
    },
    {
     "name": "stderr",
     "output_type": "stream",
     "text": [
      " 68%|███████████████████████▎          | 684/1000 [00:35<00:16, 18.96it/s]"
     ]
    },
    {
     "name": "stdout",
     "output_type": "stream",
     "text": [
      "iteration 680, reconstruction error 125995.138773\n"
     ]
    },
    {
     "name": "stderr",
     "output_type": "stream",
     "text": [
      " 69%|███████████████████████▌          | 694/1000 [00:36<00:16, 18.98it/s]"
     ]
    },
    {
     "name": "stdout",
     "output_type": "stream",
     "text": [
      "iteration 690, reconstruction error 125990.671410\n"
     ]
    },
    {
     "name": "stderr",
     "output_type": "stream",
     "text": [
      " 70%|███████████████████████▉          | 704/1000 [00:36<00:15, 18.69it/s]"
     ]
    },
    {
     "name": "stdout",
     "output_type": "stream",
     "text": [
      "iteration 700, reconstruction error 125986.396989\n"
     ]
    },
    {
     "name": "stderr",
     "output_type": "stream",
     "text": [
      " 71%|████████████████████████▏         | 713/1000 [00:37<00:15, 18.04it/s]"
     ]
    },
    {
     "name": "stdout",
     "output_type": "stream",
     "text": [
      "iteration 710, reconstruction error 125982.298519\n"
     ]
    },
    {
     "name": "stderr",
     "output_type": "stream",
     "text": [
      " 72%|████████████████████████▌         | 724/1000 [00:37<00:14, 18.60it/s]"
     ]
    },
    {
     "name": "stdout",
     "output_type": "stream",
     "text": [
      "iteration 720, reconstruction error 125978.356321\n"
     ]
    },
    {
     "name": "stderr",
     "output_type": "stream",
     "text": [
      " 73%|████████████████████████▉         | 733/1000 [00:38<00:15, 17.42it/s]"
     ]
    },
    {
     "name": "stdout",
     "output_type": "stream",
     "text": [
      "iteration 730, reconstruction error 125974.552009\n"
     ]
    },
    {
     "name": "stderr",
     "output_type": "stream",
     "text": [
      " 74%|█████████████████████████▎        | 743/1000 [00:38<00:14, 18.25it/s]"
     ]
    },
    {
     "name": "stdout",
     "output_type": "stream",
     "text": [
      "iteration 740, reconstruction error 125970.874010\n"
     ]
    },
    {
     "name": "stderr",
     "output_type": "stream",
     "text": [
      " 75%|█████████████████████████▋        | 754/1000 [00:39<00:14, 17.49it/s]"
     ]
    },
    {
     "name": "stdout",
     "output_type": "stream",
     "text": [
      "iteration 750, reconstruction error 125967.317658\n"
     ]
    },
    {
     "name": "stderr",
     "output_type": "stream",
     "text": [
      " 76%|█████████████████████████▉        | 764/1000 [00:39<00:14, 16.54it/s]"
     ]
    },
    {
     "name": "stdout",
     "output_type": "stream",
     "text": [
      "iteration 760, reconstruction error 125963.867881\n"
     ]
    },
    {
     "name": "stderr",
     "output_type": "stream",
     "text": [
      " 77%|██████████████████████████▎       | 773/1000 [00:40<00:12, 17.73it/s]"
     ]
    },
    {
     "name": "stdout",
     "output_type": "stream",
     "text": [
      "iteration 770, reconstruction error 125960.514679\n"
     ]
    },
    {
     "name": "stderr",
     "output_type": "stream",
     "text": [
      " 78%|██████████████████████████▋       | 785/1000 [00:41<00:10, 20.22it/s]"
     ]
    },
    {
     "name": "stdout",
     "output_type": "stream",
     "text": [
      "iteration 780, reconstruction error 125957.251748\n"
     ]
    },
    {
     "name": "stderr",
     "output_type": "stream",
     "text": [
      " 80%|███████████████████████████       | 795/1000 [00:41<00:10, 19.28it/s]"
     ]
    },
    {
     "name": "stdout",
     "output_type": "stream",
     "text": [
      "iteration 790, reconstruction error 125954.072917\n"
     ]
    },
    {
     "name": "stderr",
     "output_type": "stream",
     "text": [
      " 80%|███████████████████████████▎      | 803/1000 [00:42<00:10, 18.01it/s]"
     ]
    },
    {
     "name": "stdout",
     "output_type": "stream",
     "text": [
      "iteration 800, reconstruction error 125950.974541\n"
     ]
    },
    {
     "name": "stderr",
     "output_type": "stream",
     "text": [
      " 81%|███████████████████████████▋      | 813/1000 [00:42<00:09, 18.90it/s]"
     ]
    },
    {
     "name": "stdout",
     "output_type": "stream",
     "text": [
      "iteration 810, reconstruction error 125947.953008\n"
     ]
    },
    {
     "name": "stderr",
     "output_type": "stream",
     "text": [
      " 82%|████████████████████████████      | 824/1000 [00:43<00:09, 18.96it/s]"
     ]
    },
    {
     "name": "stdout",
     "output_type": "stream",
     "text": [
      "iteration 820, reconstruction error 125945.003280\n"
     ]
    },
    {
     "name": "stderr",
     "output_type": "stream",
     "text": [
      " 83%|████████████████████████████▎     | 833/1000 [00:43<00:09, 17.87it/s]"
     ]
    },
    {
     "name": "stdout",
     "output_type": "stream",
     "text": [
      "iteration 830, reconstruction error 125942.124048\n"
     ]
    },
    {
     "name": "stderr",
     "output_type": "stream",
     "text": [
      " 84%|████████████████████████████▋     | 842/1000 [00:44<00:09, 16.88it/s]"
     ]
    },
    {
     "name": "stdout",
     "output_type": "stream",
     "text": [
      "iteration 840, reconstruction error 125939.323659\n"
     ]
    },
    {
     "name": "stderr",
     "output_type": "stream",
     "text": [
      " 85%|█████████████████████████████     | 853/1000 [00:44<00:08, 18.21it/s]"
     ]
    },
    {
     "name": "stdout",
     "output_type": "stream",
     "text": [
      "iteration 850, reconstruction error 125936.596628\n"
     ]
    },
    {
     "name": "stderr",
     "output_type": "stream",
     "text": [
      " 86%|█████████████████████████████▍    | 864/1000 [00:45<00:07, 18.08it/s]"
     ]
    },
    {
     "name": "stdout",
     "output_type": "stream",
     "text": [
      "iteration 860, reconstruction error 125933.941481\n"
     ]
    },
    {
     "name": "stderr",
     "output_type": "stream",
     "text": [
      " 87%|█████████████████████████████▋    | 874/1000 [00:45<00:06, 19.03it/s]"
     ]
    },
    {
     "name": "stdout",
     "output_type": "stream",
     "text": [
      "iteration 870, reconstruction error 125931.358041\n"
     ]
    },
    {
     "name": "stderr",
     "output_type": "stream",
     "text": [
      " 88%|██████████████████████████████    | 883/1000 [00:46<00:06, 18.78it/s]"
     ]
    },
    {
     "name": "stdout",
     "output_type": "stream",
     "text": [
      "iteration 880, reconstruction error 125928.847562\n"
     ]
    },
    {
     "name": "stderr",
     "output_type": "stream",
     "text": [
      " 89%|██████████████████████████████▍   | 894/1000 [00:47<00:05, 17.82it/s]"
     ]
    },
    {
     "name": "stdout",
     "output_type": "stream",
     "text": [
      "iteration 890, reconstruction error 125926.408549\n"
     ]
    },
    {
     "name": "stderr",
     "output_type": "stream",
     "text": [
      " 90%|██████████████████████████████▋   | 903/1000 [00:47<00:06, 16.04it/s]"
     ]
    },
    {
     "name": "stdout",
     "output_type": "stream",
     "text": [
      "iteration 900, reconstruction error 125924.042685\n"
     ]
    },
    {
     "name": "stderr",
     "output_type": "stream",
     "text": [
      " 91%|███████████████████████████████   | 914/1000 [00:48<00:04, 17.57it/s]"
     ]
    },
    {
     "name": "stdout",
     "output_type": "stream",
     "text": [
      "iteration 910, reconstruction error 125921.753495\n"
     ]
    },
    {
     "name": "stderr",
     "output_type": "stream",
     "text": [
      " 92%|███████████████████████████████▍  | 924/1000 [00:48<00:04, 17.60it/s]"
     ]
    },
    {
     "name": "stdout",
     "output_type": "stream",
     "text": [
      "iteration 920, reconstruction error 125919.542487\n"
     ]
    },
    {
     "name": "stderr",
     "output_type": "stream",
     "text": [
      " 93%|███████████████████████████████▋  | 933/1000 [00:49<00:03, 18.25it/s]"
     ]
    },
    {
     "name": "stdout",
     "output_type": "stream",
     "text": [
      "iteration 930, reconstruction error 125917.407145\n"
     ]
    },
    {
     "name": "stderr",
     "output_type": "stream",
     "text": [
      " 94%|████████████████████████████████  | 943/1000 [00:49<00:03, 17.06it/s]"
     ]
    },
    {
     "name": "stdout",
     "output_type": "stream",
     "text": [
      "iteration 940, reconstruction error 125915.349167\n"
     ]
    },
    {
     "name": "stderr",
     "output_type": "stream",
     "text": [
      " 95%|████████████████████████████████▍ | 954/1000 [00:50<00:02, 18.57it/s]"
     ]
    },
    {
     "name": "stdout",
     "output_type": "stream",
     "text": [
      "iteration 950, reconstruction error 125913.368581\n"
     ]
    },
    {
     "name": "stderr",
     "output_type": "stream",
     "text": [
      " 96%|████████████████████████████████▊ | 964/1000 [00:51<00:01, 18.76it/s]"
     ]
    },
    {
     "name": "stdout",
     "output_type": "stream",
     "text": [
      "iteration 960, reconstruction error 125911.467316\n"
     ]
    },
    {
     "name": "stderr",
     "output_type": "stream",
     "text": [
      " 97%|█████████████████████████████████ | 973/1000 [00:51<00:01, 17.57it/s]"
     ]
    },
    {
     "name": "stdout",
     "output_type": "stream",
     "text": [
      "iteration 970, reconstruction error 125909.648762\n"
     ]
    },
    {
     "name": "stderr",
     "output_type": "stream",
     "text": [
      " 98%|█████████████████████████████████▍| 984/1000 [00:52<00:00, 18.73it/s]"
     ]
    },
    {
     "name": "stdout",
     "output_type": "stream",
     "text": [
      "iteration 980, reconstruction error 125907.909866\n"
     ]
    },
    {
     "name": "stderr",
     "output_type": "stream",
     "text": [
      " 99%|█████████████████████████████████▊| 994/1000 [00:52<00:00, 18.88it/s]"
     ]
    },
    {
     "name": "stdout",
     "output_type": "stream",
     "text": [
      "iteration 990, reconstruction error 125906.250596\n"
     ]
    },
    {
     "name": "stderr",
     "output_type": "stream",
     "text": [
      "100%|█████████████████████████████████| 1000/1000 [00:52<00:00, 18.88it/s]\n"
     ]
    }
   ],
   "source": [
    "W, H = ALS(X=X.T, \n",
    "           n_components=16, # Reconstruction Error reduces as n_components increases\n",
    "           n_iter=1000, \n",
    "           a0 = 0, # L1 regularizer for H\n",
    "           a1 = 0, # L1 regularizer for W\n",
    "           a12 = 0, # L2 regularizer for W\n",
    "           H_nonnegativity=True,\n",
    "           W_nonnegativity=True,\n",
    "           compute_recons_error=True,\n",
    "           subsample_ratio=1)"
   ]
  },
  {
   "cell_type": "code",
   "execution_count": 93,
   "id": "dcffd07e",
   "metadata": {},
   "outputs": [
    {
     "data": {
      "image/png": "[encoded data removed]",
      "text/plain": [
       "<Figure size 720x720 with 16 Axes>"
      ]
     },
     "metadata": {},
     "output_type": "display_data"
    }
   ],
   "source": [
    "display_dictionary(W, figsize=[10,10])"
   ]
  }
 ],
 "metadata": {
  "kernelspec": {
   "display_name": "Python 3 (ipykernel)",
   "language": "python",
   "name": "python3"
  },
  "language_info": {
   "codemirror_mode": {
    "name": "ipython",
    "version": 3
   },
   "file_extension": ".py",
   "mimetype": "text/x-python",
   "name": "python",
   "nbconvert_exporter": "python",
   "pygments_lexer": "ipython3",
   "version": "3.9.12"
  }
 },
 "nbformat": 4,
 "nbformat_minor": 5
}
