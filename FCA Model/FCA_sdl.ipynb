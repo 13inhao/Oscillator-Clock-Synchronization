{
 "cells": [
  {
   "cell_type": "code",
   "execution_count": 1,
   "id": "221d7719",
   "metadata": {},
   "outputs": [],
   "source": [
    "import pickle, csv\n",
    "import numpy as np\n",
    "import pandas as pd\n",
    "import networkx as nx\n",
    "import statistics as s\n",
    "from math import floor\n",
    "from tqdm import trange\n",
    "from NNetwork import NNetwork as nn\n",
    "import matplotlib.pyplot as plt\n",
    "import matplotlib.gridspec as gridspec\n",
    "import warnings\n",
    "warnings.filterwarnings(\"ignore\")\n",
    "from FCA import *"
   ]
  },
  {
   "cell_type": "code",
   "execution_count": 2,
   "id": "240710d7",
   "metadata": {
    "scrolled": true
   },
   "outputs": [
    {
     "data": {
      "image/png": "[encoded data removed]",
      "text/plain": [
       "<Figure size 1080x1080 with 100 Axes>"
      ]
     },
     "metadata": {},
     "output_type": "display_data"
    }
   ],
   "source": [
    "fileo = open('./my_data/UCLA26_20walk_8kappa.pkl', 'rb')\n",
    "X = pickle.load(fileo)\n",
    "fileo.close()\n",
    "display_dictionary(X[:,:100], figsize=[15,15])"
   ]
  },
  {
   "cell_type": "code",
   "execution_count": 3,
   "id": "1c090caf",
   "metadata": {
    "scrolled": true
   },
   "outputs": [
    {
     "data": {
      "text/html": [
       "<div>\n",
       "<style scoped>\n",
       "    .dataframe tbody tr th:only-of-type {\n",
       "        vertical-align: middle;\n",
       "    }\n",
       "\n",
       "    .dataframe tbody tr th {\n",
       "        vertical-align: top;\n",
       "    }\n",
       "\n",
       "    .dataframe thead th {\n",
       "        text-align: right;\n",
       "    }\n",
       "</style>\n",
       "<table border=\"1\" class=\"dataframe\">\n",
       "  <thead>\n",
       "    <tr style=\"text-align: right;\">\n",
       "      <th></th>\n",
       "      <th>num_edges</th>\n",
       "      <th>num_nodes</th>\n",
       "      <th>min_degree</th>\n",
       "      <th>max_degree</th>\n",
       "      <th>diameter</th>\n",
       "      <th>quartile_1</th>\n",
       "      <th>quartile_2</th>\n",
       "      <th>quartile_3</th>\n",
       "      <th>y</th>\n",
       "      <th>baseline_width</th>\n",
       "      <th>...</th>\n",
       "      <th>s50_11</th>\n",
       "      <th>s50_12</th>\n",
       "      <th>s50_13</th>\n",
       "      <th>s50_14</th>\n",
       "      <th>s50_15</th>\n",
       "      <th>s50_16</th>\n",
       "      <th>s50_17</th>\n",
       "      <th>s50_18</th>\n",
       "      <th>s50_19</th>\n",
       "      <th>s50_20</th>\n",
       "    </tr>\n",
       "  </thead>\n",
       "  <tbody>\n",
       "    <tr>\n",
       "      <th>0</th>\n",
       "      <td>24</td>\n",
       "      <td>20</td>\n",
       "      <td>1</td>\n",
       "      <td>4</td>\n",
       "      <td>12</td>\n",
       "      <td>1.00</td>\n",
       "      <td>4.5</td>\n",
       "      <td>6.0</td>\n",
       "      <td>True</td>\n",
       "      <td>False</td>\n",
       "      <td>...</td>\n",
       "      <td>5.0</td>\n",
       "      <td>5.0</td>\n",
       "      <td>5.0</td>\n",
       "      <td>5.0</td>\n",
       "      <td>5.0</td>\n",
       "      <td>5.0</td>\n",
       "      <td>5.0</td>\n",
       "      <td>5.0</td>\n",
       "      <td>5.0</td>\n",
       "      <td>5.0</td>\n",
       "    </tr>\n",
       "    <tr>\n",
       "      <th>1</th>\n",
       "      <td>21</td>\n",
       "      <td>20</td>\n",
       "      <td>1</td>\n",
       "      <td>3</td>\n",
       "      <td>17</td>\n",
       "      <td>2.00</td>\n",
       "      <td>3.0</td>\n",
       "      <td>6.5</td>\n",
       "      <td>True</td>\n",
       "      <td>False</td>\n",
       "      <td>...</td>\n",
       "      <td>4.0</td>\n",
       "      <td>3.0</td>\n",
       "      <td>3.0</td>\n",
       "      <td>2.0</td>\n",
       "      <td>1.0</td>\n",
       "      <td>1.0</td>\n",
       "      <td>1.0</td>\n",
       "      <td>1.0</td>\n",
       "      <td>1.0</td>\n",
       "      <td>1.0</td>\n",
       "    </tr>\n",
       "    <tr>\n",
       "      <th>2</th>\n",
       "      <td>25</td>\n",
       "      <td>20</td>\n",
       "      <td>1</td>\n",
       "      <td>4</td>\n",
       "      <td>7</td>\n",
       "      <td>2.00</td>\n",
       "      <td>3.5</td>\n",
       "      <td>5.0</td>\n",
       "      <td>False</td>\n",
       "      <td>False</td>\n",
       "      <td>...</td>\n",
       "      <td>2.0</td>\n",
       "      <td>1.0</td>\n",
       "      <td>0.0</td>\n",
       "      <td>6.0</td>\n",
       "      <td>7.0</td>\n",
       "      <td>6.0</td>\n",
       "      <td>6.0</td>\n",
       "      <td>3.0</td>\n",
       "      <td>3.0</td>\n",
       "      <td>2.0</td>\n",
       "    </tr>\n",
       "    <tr>\n",
       "      <th>3</th>\n",
       "      <td>26</td>\n",
       "      <td>20</td>\n",
       "      <td>1</td>\n",
       "      <td>5</td>\n",
       "      <td>15</td>\n",
       "      <td>3.25</td>\n",
       "      <td>5.0</td>\n",
       "      <td>6.0</td>\n",
       "      <td>True</td>\n",
       "      <td>False</td>\n",
       "      <td>...</td>\n",
       "      <td>2.0</td>\n",
       "      <td>3.0</td>\n",
       "      <td>4.0</td>\n",
       "      <td>4.0</td>\n",
       "      <td>4.0</td>\n",
       "      <td>4.0</td>\n",
       "      <td>4.0</td>\n",
       "      <td>5.0</td>\n",
       "      <td>5.0</td>\n",
       "      <td>5.0</td>\n",
       "    </tr>\n",
       "    <tr>\n",
       "      <th>4</th>\n",
       "      <td>25</td>\n",
       "      <td>20</td>\n",
       "      <td>1</td>\n",
       "      <td>4</td>\n",
       "      <td>8</td>\n",
       "      <td>1.00</td>\n",
       "      <td>4.0</td>\n",
       "      <td>6.0</td>\n",
       "      <td>True</td>\n",
       "      <td>False</td>\n",
       "      <td>...</td>\n",
       "      <td>4.0</td>\n",
       "      <td>4.0</td>\n",
       "      <td>4.0</td>\n",
       "      <td>4.0</td>\n",
       "      <td>4.0</td>\n",
       "      <td>3.0</td>\n",
       "      <td>2.0</td>\n",
       "      <td>4.0</td>\n",
       "      <td>4.0</td>\n",
       "      <td>6.0</td>\n",
       "    </tr>\n",
       "    <tr>\n",
       "      <th>...</th>\n",
       "      <td>...</td>\n",
       "      <td>...</td>\n",
       "      <td>...</td>\n",
       "      <td>...</td>\n",
       "      <td>...</td>\n",
       "      <td>...</td>\n",
       "      <td>...</td>\n",
       "      <td>...</td>\n",
       "      <td>...</td>\n",
       "      <td>...</td>\n",
       "      <td>...</td>\n",
       "      <td>...</td>\n",
       "      <td>...</td>\n",
       "      <td>...</td>\n",
       "      <td>...</td>\n",
       "      <td>...</td>\n",
       "      <td>...</td>\n",
       "      <td>...</td>\n",
       "      <td>...</td>\n",
       "      <td>...</td>\n",
       "      <td>...</td>\n",
       "    </tr>\n",
       "    <tr>\n",
       "      <th>9995</th>\n",
       "      <td>23</td>\n",
       "      <td>20</td>\n",
       "      <td>1</td>\n",
       "      <td>4</td>\n",
       "      <td>8</td>\n",
       "      <td>2.00</td>\n",
       "      <td>4.5</td>\n",
       "      <td>6.0</td>\n",
       "      <td>False</td>\n",
       "      <td>False</td>\n",
       "      <td>...</td>\n",
       "      <td>3.0</td>\n",
       "      <td>2.0</td>\n",
       "      <td>3.0</td>\n",
       "      <td>4.0</td>\n",
       "      <td>4.0</td>\n",
       "      <td>4.0</td>\n",
       "      <td>5.0</td>\n",
       "      <td>7.0</td>\n",
       "      <td>0.0</td>\n",
       "      <td>1.0</td>\n",
       "    </tr>\n",
       "    <tr>\n",
       "      <th>9996</th>\n",
       "      <td>23</td>\n",
       "      <td>20</td>\n",
       "      <td>1</td>\n",
       "      <td>3</td>\n",
       "      <td>16</td>\n",
       "      <td>2.25</td>\n",
       "      <td>5.0</td>\n",
       "      <td>6.0</td>\n",
       "      <td>True</td>\n",
       "      <td>False</td>\n",
       "      <td>...</td>\n",
       "      <td>2.0</td>\n",
       "      <td>3.0</td>\n",
       "      <td>4.0</td>\n",
       "      <td>4.0</td>\n",
       "      <td>4.0</td>\n",
       "      <td>4.0</td>\n",
       "      <td>4.0</td>\n",
       "      <td>4.0</td>\n",
       "      <td>4.0</td>\n",
       "      <td>4.0</td>\n",
       "    </tr>\n",
       "    <tr>\n",
       "      <th>9997</th>\n",
       "      <td>22</td>\n",
       "      <td>20</td>\n",
       "      <td>2</td>\n",
       "      <td>3</td>\n",
       "      <td>9</td>\n",
       "      <td>2.00</td>\n",
       "      <td>4.0</td>\n",
       "      <td>6.0</td>\n",
       "      <td>True</td>\n",
       "      <td>True</td>\n",
       "      <td>...</td>\n",
       "      <td>1.0</td>\n",
       "      <td>1.0</td>\n",
       "      <td>0.0</td>\n",
       "      <td>0.0</td>\n",
       "      <td>7.0</td>\n",
       "      <td>6.0</td>\n",
       "      <td>0.0</td>\n",
       "      <td>0.0</td>\n",
       "      <td>7.0</td>\n",
       "      <td>7.0</td>\n",
       "    </tr>\n",
       "    <tr>\n",
       "      <th>9998</th>\n",
       "      <td>23</td>\n",
       "      <td>20</td>\n",
       "      <td>1</td>\n",
       "      <td>4</td>\n",
       "      <td>11</td>\n",
       "      <td>1.00</td>\n",
       "      <td>4.5</td>\n",
       "      <td>6.0</td>\n",
       "      <td>True</td>\n",
       "      <td>False</td>\n",
       "      <td>...</td>\n",
       "      <td>6.0</td>\n",
       "      <td>6.0</td>\n",
       "      <td>6.0</td>\n",
       "      <td>6.0</td>\n",
       "      <td>6.0</td>\n",
       "      <td>7.0</td>\n",
       "      <td>0.0</td>\n",
       "      <td>1.0</td>\n",
       "      <td>0.0</td>\n",
       "      <td>2.0</td>\n",
       "    </tr>\n",
       "    <tr>\n",
       "      <th>9999</th>\n",
       "      <td>29</td>\n",
       "      <td>20</td>\n",
       "      <td>1</td>\n",
       "      <td>5</td>\n",
       "      <td>6</td>\n",
       "      <td>1.00</td>\n",
       "      <td>3.0</td>\n",
       "      <td>5.0</td>\n",
       "      <td>False</td>\n",
       "      <td>False</td>\n",
       "      <td>...</td>\n",
       "      <td>0.0</td>\n",
       "      <td>7.0</td>\n",
       "      <td>6.0</td>\n",
       "      <td>5.0</td>\n",
       "      <td>6.0</td>\n",
       "      <td>6.0</td>\n",
       "      <td>7.0</td>\n",
       "      <td>0.0</td>\n",
       "      <td>2.0</td>\n",
       "      <td>2.0</td>\n",
       "    </tr>\n",
       "  </tbody>\n",
       "</table>\n",
       "<p>10000 rows × 1010 columns</p>\n",
       "</div>"
      ],
      "text/plain": [
       "      num_edges  num_nodes  min_degree  max_degree  diameter  quartile_1  \\\n",
       "0            24         20           1           4        12        1.00   \n",
       "1            21         20           1           3        17        2.00   \n",
       "2            25         20           1           4         7        2.00   \n",
       "3            26         20           1           5        15        3.25   \n",
       "4            25         20           1           4         8        1.00   \n",
       "...         ...        ...         ...         ...       ...         ...   \n",
       "9995         23         20           1           4         8        2.00   \n",
       "9996         23         20           1           3        16        2.25   \n",
       "9997         22         20           2           3         9        2.00   \n",
       "9998         23         20           1           4        11        1.00   \n",
       "9999         29         20           1           5         6        1.00   \n",
       "\n",
       "      quartile_2  quartile_3      y  baseline_width  ...  s50_11  s50_12  \\\n",
       "0            4.5         6.0   True           False  ...     5.0     5.0   \n",
       "1            3.0         6.5   True           False  ...     4.0     3.0   \n",
       "2            3.5         5.0  False           False  ...     2.0     1.0   \n",
       "3            5.0         6.0   True           False  ...     2.0     3.0   \n",
       "4            4.0         6.0   True           False  ...     4.0     4.0   \n",
       "...          ...         ...    ...             ...  ...     ...     ...   \n",
       "9995         4.5         6.0  False           False  ...     3.0     2.0   \n",
       "9996         5.0         6.0   True           False  ...     2.0     3.0   \n",
       "9997         4.0         6.0   True            True  ...     1.0     1.0   \n",
       "9998         4.5         6.0   True           False  ...     6.0     6.0   \n",
       "9999         3.0         5.0  False           False  ...     0.0     7.0   \n",
       "\n",
       "      s50_13  s50_14  s50_15  s50_16  s50_17  s50_18  s50_19  s50_20  \n",
       "0        5.0     5.0     5.0     5.0     5.0     5.0     5.0     5.0  \n",
       "1        3.0     2.0     1.0     1.0     1.0     1.0     1.0     1.0  \n",
       "2        0.0     6.0     7.0     6.0     6.0     3.0     3.0     2.0  \n",
       "3        4.0     4.0     4.0     4.0     4.0     5.0     5.0     5.0  \n",
       "4        4.0     4.0     4.0     3.0     2.0     4.0     4.0     6.0  \n",
       "...      ...     ...     ...     ...     ...     ...     ...     ...  \n",
       "9995     3.0     4.0     4.0     4.0     5.0     7.0     0.0     1.0  \n",
       "9996     4.0     4.0     4.0     4.0     4.0     4.0     4.0     4.0  \n",
       "9997     0.0     0.0     7.0     6.0     0.0     0.0     7.0     7.0  \n",
       "9998     6.0     6.0     6.0     7.0     0.0     1.0     0.0     2.0  \n",
       "9999     6.0     5.0     6.0     6.0     7.0     0.0     2.0     2.0  \n",
       "\n",
       "[10000 rows x 1010 columns]"
      ]
     },
     "execution_count": 3,
     "metadata": {},
     "output_type": "execute_result"
    }
   ],
   "source": [
    "df_original = pd.read_csv(\"./my_data/UCLA26_20walk_8kappa.csv\")\n",
    "df = df_original.copy()\n",
    "df"
   ]
  },
  {
   "cell_type": "code",
   "execution_count": 4,
   "id": "122620eb",
   "metadata": {},
   "outputs": [
    {
     "name": "stdout",
     "output_type": "stream",
     "text": [
      "shape:  (10000, 1010)\n",
      "edge mean: 25.9439\n",
      "edge std: 4.749163377901461\n",
      "diameter mean: 11.1812\n",
      "diameter std: 3.473840318725003\n",
      "===========y==========\n",
      " True     7655\n",
      "False    2345\n",
      "Name: y, dtype: int64\n",
      "===========baseline_width==========\n",
      " False    6323\n",
      "True     3677\n",
      "Name: baseline_width, dtype: int64\n"
     ]
    }
   ],
   "source": [
    "print(\"shape: \", df.shape)\n",
    "print(\"edge mean:\", np.mean(df.num_edges))\n",
    "print(\"edge std:\", np.std(df.num_edges))\n",
    "print(\"diameter mean:\", np.mean(df.diameter))\n",
    "print(\"diameter std:\", np.std(df.diameter))\n",
    "print(\"===========y==========\\n\", df.y.value_counts())\n",
    "print(\"===========baseline_width==========\\n\", df.baseline_width.value_counts())"
   ]
  },
  {
   "cell_type": "markdown",
   "id": "27faeeb5",
   "metadata": {},
   "source": [
    "## Input Adjacency matrix"
   ]
  },
  {
   "cell_type": "code",
   "execution_count": 5,
   "id": "b5fecbe7",
   "metadata": {},
   "outputs": [],
   "source": [
    "#from SDL_src.LMF import LMF, update_code_within_radius\n",
    "from SDL_src.SNMF import SNMF\n",
    "import pandas as pd\n",
    "from sklearn.metrics import confusion_matrix, precision_score, recall_score, f1_score, accuracy_score\n",
    "from imblearn.under_sampling import RandomUnderSampler\n",
    "from sklearn.model_selection import train_test_split\n",
    "from sklearn.svm import SVC\n",
    "import matplotlib.pyplot as plt\n",
    "import random"
   ]
  },
  {
   "cell_type": "code",
   "execution_count": 6,
   "id": "9db1ed61",
   "metadata": {},
   "outputs": [],
   "source": [
    "Y_data = df_original.y\n",
    "df = pd.DataFrame(X.T)\n",
    "\n",
    "under_sampler = RandomUnderSampler(random_state=42)\n",
    "X_res, y_res = under_sampler.fit_resample(df, Y_data)\n",
    "X_train, X_test, y_train, y_test = train_test_split(X_res, y_res, \n",
    "                                                    test_size = 0.2, \n",
    "                                                    random_state = 4, \n",
    "                                                    stratify = y_res)"
   ]
  },
  {
   "cell_type": "markdown",
   "id": "c3861369",
   "metadata": {},
   "source": [
    "## SDL"
   ]
  },
  {
   "cell_type": "code",
   "execution_count": 9,
   "id": "847b18d2",
   "metadata": {
    "scrolled": true
   },
   "outputs": [
    {
     "name": "stderr",
     "output_type": "stream",
     "text": [
      "  3%|▎         | 3/100 [00:00<00:04, 22.65it/s]"
     ]
    },
    {
     "name": "stdout",
     "output_type": "stream",
     "text": [
      "initial loading beta [[-0.43733115 -0.1792355  -0.0416564  -0.31240822  0.07502517  0.55298347\n",
      "  -0.45902496 -0.94390512  0.98093403  0.08075411  0.10875684]]\n"
     ]
    },
    {
     "name": "stderr",
     "output_type": "stream",
     "text": [
      "100%|██████████| 100/100 [00:04<00:00, 20.52it/s]\n"
     ]
    }
   ],
   "source": [
    "xi = 1\n",
    "iter_avg = 1\n",
    "beta = 0.5\n",
    "iteration = 100\n",
    "r = 10\n",
    "SNMF_class_new = SNMF(X=[X_train.to_numpy().T, y_train.to_numpy().reshape(-1,1).T],  # data, label\n",
    "                        X_test=[X_test.to_numpy().T, y_test.to_numpy().reshape(-1,1).T],\n",
    "                        #X_auxiliary = None,\n",
    "                        n_components=r,  # =: r = number of columns in dictionary matrices W, W'\n",
    "                        # ini_loading=None,  # Initializatio for [W,W'], W1.shape = [d1, r], W2.shape = [d2, r]\n",
    "                        # ini_loading=[W_true, np.hstack((np.array([[0]]), Beta_true))],\n",
    "                        # ini_code = H_true,\n",
    "                        xi=xi,  # weight on label reconstruction error\n",
    "                        L1_reg = [0,0,0], # L1 regularizer for code H, dictionary W[0], reg param W[1]\n",
    "                        L2_reg = [0,0,0], # L2 regularizer for code H, dictionary W[0], reg param W[1]\n",
    "                        nonnegativity=[True,True,False], # nonnegativity constraints on code H, dictionary W[0], reg params W[1]\n",
    "                        full_dim=False)\n",
    "\n",
    "results_dict_new = SNMF_class_new.train_logistic(iter=iteration, subsample_size=None,\n",
    "                                                beta = beta,\n",
    "                                                search_radius_const=np.linalg.norm(X_train),\n",
    "                                                update_nuance_param=False,\n",
    "                                                if_compute_recons_error=False, if_validate=False)"
   ]
  },
  {
   "cell_type": "code",
   "execution_count": 10,
   "id": "09c82b5f",
   "metadata": {},
   "outputs": [
    {
     "data": {
      "text/plain": [
       "{'xi': 1,\n",
       " 'L1_reg': [0, 0, 0],\n",
       " 'L2_reg': [0, 0, 0],\n",
       " 'nonnegativity': [True, True, False],\n",
       " 'n_components': 10,\n",
       " 'loading': [array([[0.00000000e+00, 0.00000000e+00, 0.00000000e+00, ...,\n",
       "          0.00000000e+00, 2.34197748e-06, 0.00000000e+00],\n",
       "         [6.17316516e-02, 2.98124834e-02, 4.42029353e-02, ...,\n",
       "          3.15569057e-02, 2.52917941e-02, 3.76877555e-02],\n",
       "         [0.00000000e+00, 0.00000000e+00, 9.80320918e-06, ...,\n",
       "          0.00000000e+00, 8.01246196e-03, 4.01187919e-02],\n",
       "         ...,\n",
       "         [0.00000000e+00, 0.00000000e+00, 0.00000000e+00, ...,\n",
       "          0.00000000e+00, 0.00000000e+00, 0.00000000e+00],\n",
       "         [6.18576663e-02, 2.98447367e-02, 4.42591609e-02, ...,\n",
       "          3.17428594e-02, 2.49061141e-02, 3.76644868e-02],\n",
       "         [0.00000000e+00, 0.00000000e+00, 0.00000000e+00, ...,\n",
       "          0.00000000e+00, 0.00000000e+00, 0.00000000e+00]]),\n",
       "  array([[-2.39161255, -0.82168411,  1.22938016, -0.3707344 , -0.32274782,\n",
       "           0.74058717,  0.79663087,  0.26377343,  0.36538867,  0.67543137,\n",
       "           0.50127728]])],\n",
       " 'code': array([[14.96987623,  3.59020763,  2.39344496, ...,  2.16929611,\n",
       "          2.26900111,  4.53759523],\n",
       "        [ 0.        ,  0.224364  ,  0.        , ...,  8.60495872,\n",
       "          2.94677725,  0.0878884 ],\n",
       "        [ 0.        ,  2.38521942,  0.12371293, ...,  0.        ,\n",
       "          0.        ,  0.49850854],\n",
       "        ...,\n",
       "        [ 0.        ,  0.03086016,  4.75160294, ...,  3.199244  ,\n",
       "          0.        ,  0.        ],\n",
       "        [ 1.93050663,  0.        ,  0.95441277, ...,  1.55265869,\n",
       "          0.        ,  0.        ],\n",
       "        [ 0.        ,  1.12331821,  2.88143686, ...,  0.        ,\n",
       "          6.10491971,  0.        ]]),\n",
       " 'iter': 100,\n",
       " 'dict_update_freq': 1,\n",
       " 'Relative_reconstruction_loss (test)': 0.19462624919815863,\n",
       " 'Y_test': array([[ True, False,  True, False, False, False, False,  True,  True,\n",
       "          True,  True,  True,  True,  True,  True, False, False,  True,\n",
       "         False,  True,  True,  True, False, False,  True, False,  True,\n",
       "          True,  True,  True,  True,  True, False, False,  True,  True,\n",
       "         False, False,  True, False,  True, False, False,  True, False,\n",
       "         False, False, False,  True,  True,  True, False,  True, False,\n",
       "          True,  True,  True,  True, False,  True, False,  True, False,\n",
       "         False, False, False, False, False,  True,  True, False,  True,\n",
       "         False,  True, False,  True, False,  True, False,  True,  True,\n",
       "          True, False, False, False, False,  True,  True,  True, False,\n",
       "         False, False,  True, False, False,  True,  True,  True, False,\n",
       "         False, False,  True,  True,  True,  True, False, False, False,\n",
       "         False, False,  True,  True,  True,  True, False, False, False,\n",
       "         False,  True,  True,  True, False, False, False,  True, False,\n",
       "         False, False,  True,  True, False, False,  True, False,  True,\n",
       "         False, False, False,  True, False, False, False, False, False,\n",
       "          True,  True,  True, False,  True, False, False, False, False,\n",
       "          True, False, False, False, False, False,  True,  True, False,\n",
       "          True, False, False,  True,  True,  True,  True,  True, False,\n",
       "          True, False, False, False, False,  True, False, False, False,\n",
       "          True, False,  True,  True, False,  True,  True, False, False,\n",
       "          True,  True,  True,  True,  True, False, False,  True, False,\n",
       "         False, False,  True,  True, False,  True, False, False, False,\n",
       "          True,  True, False,  True,  True, False, False, False, False,\n",
       "          True, False, False, False, False, False,  True, False, False,\n",
       "          True,  True,  True,  True, False, False, False, False, False,\n",
       "          True,  True,  True,  True,  True,  True,  True, False,  True,\n",
       "         False, False,  True,  True, False, False,  True,  True, False,\n",
       "         False, False,  True, False, False, False, False, False,  True,\n",
       "          True, False,  True, False, False,  True,  True, False, False,\n",
       "         False,  True, False,  True, False,  True, False,  True,  True,\n",
       "         False, False, False,  True,  True, False, False,  True,  True,\n",
       "          True,  True,  True, False,  True, False, False,  True,  True,\n",
       "         False,  True,  True, False, False, False,  True,  True,  True,\n",
       "         False, False,  True,  True, False,  True,  True, False,  True,\n",
       "          True, False, False,  True,  True,  True,  True,  True,  True,\n",
       "          True,  True, False, False, False, False,  True, False,  True,\n",
       "          True,  True, False, False, False,  True, False, False, False,\n",
       "          True,  True,  True, False,  True, False, False,  True, False,\n",
       "         False,  True, False,  True, False,  True, False,  True, False,\n",
       "         False, False, False,  True,  True, False,  True,  True,  True,\n",
       "          True,  True, False,  True,  True, False, False,  True,  True,\n",
       "         False, False,  True, False,  True,  True, False,  True, False,\n",
       "          True, False,  True,  True,  True,  True,  True,  True,  True,\n",
       "         False, False,  True,  True, False,  True,  True,  True, False,\n",
       "         False,  True, False,  True,  True,  True, False, False, False,\n",
       "          True, False,  True, False,  True,  True, False, False, False,\n",
       "         False, False, False,  True, False, False,  True,  True,  True,\n",
       "         False, False, False,  True, False, False,  True, False, False,\n",
       "         False, False,  True, False,  True, False, False,  True,  True,\n",
       "          True,  True,  True, False, False, False,  True,  True, False,\n",
       "          True, False, False, False, False,  True,  True, False, False,\n",
       "          True,  True, False, False,  True,  True, False, False, False,\n",
       "         False, False,  True, False,  True, False, False, False,  True,\n",
       "          True, False, False, False,  True,  True,  True, False, False,\n",
       "         False,  True, False, False,  True,  True,  True, False,  True,\n",
       "          True,  True,  True,  True, False, False,  True,  True,  True,\n",
       "         False,  True,  True, False, False, False, False, False,  True,\n",
       "         False,  True,  True, False,  True,  True,  True, False, False,\n",
       "          True, False, False,  True, False,  True,  True, False,  True,\n",
       "          True, False,  True,  True,  True,  True, False,  True,  True,\n",
       "         False, False, False,  True,  True,  True, False,  True, False,\n",
       "          True,  True,  True, False,  True, False, False, False,  True,\n",
       "          True, False,  True, False,  True,  True,  True, False, False,\n",
       "         False, False, False, False, False,  True, False,  True, False,\n",
       "          True, False,  True, False,  True, False,  True,  True,  True,\n",
       "          True,  True,  True,  True, False,  True,  True, False,  True,\n",
       "          True, False, False, False,  True,  True,  True, False,  True,\n",
       "          True,  True, False,  True, False, False,  True, False, False,\n",
       "         False, False, False, False,  True,  True, False,  True,  True,\n",
       "         False,  True,  True, False, False, False, False,  True,  True,\n",
       "         False,  True,  True,  True,  True, False,  True, False, False,\n",
       "         False,  True,  True, False, False, False, False,  True,  True,\n",
       "         False,  True, False, False, False,  True,  True,  True,  True,\n",
       "          True, False,  True,  True,  True, False,  True,  True,  True,\n",
       "          True,  True, False, False,  True, False,  True, False, False,\n",
       "          True, False,  True,  True,  True, False, False, False, False,\n",
       "          True,  True,  True, False, False, False,  True,  True, False,\n",
       "         False,  True,  True, False, False, False, False, False, False,\n",
       "         False,  True, False,  True,  True, False,  True, False, False,\n",
       "         False, False,  True, False,  True, False, False, False, False,\n",
       "          True,  True, False,  True,  True, False, False, False,  True,\n",
       "          True, False, False,  True,  True, False,  True, False,  True,\n",
       "         False,  True,  True, False, False,  True,  True,  True, False,\n",
       "          True,  True,  True, False,  True,  True,  True,  True,  True,\n",
       "         False, False,  True, False, False, False,  True, False,  True,\n",
       "          True,  True, False, False,  True, False,  True,  True, False,\n",
       "         False,  True, False,  True,  True, False, False, False,  True,\n",
       "         False,  True, False, False,  True, False,  True, False, False,\n",
       "         False,  True,  True, False,  True, False,  True, False, False,\n",
       "          True, False,  True, False, False, False,  True, False, False,\n",
       "          True, False,  True, False,  True, False, False,  True, False,\n",
       "         False,  True,  True, False, False, False,  True,  True,  True,\n",
       "          True,  True,  True,  True,  True, False, False,  True, False,\n",
       "         False,  True,  True,  True,  True,  True,  True,  True,  True,\n",
       "          True, False, False,  True, False, False,  True, False,  True,\n",
       "          True, False, False,  True, False,  True,  True, False,  True,\n",
       "         False,  True, False, False,  True,  True,  True,  True,  True,\n",
       "          True,  True, False,  True,  True,  True, False, False, False,\n",
       "         False, False, False, False,  True,  True, False,  True,  True,\n",
       "          True, False, False,  True,  True,  True, False,  True,  True,\n",
       "          True,  True, False, False, False,  True,  True,  True, False,\n",
       "          True,  True,  True, False, False, False, False, False, False,\n",
       "          True,  True, False, False, False, False,  True,  True, False,\n",
       "         False, False]]),\n",
       " 'P_pred': array([[0.48142609],\n",
       "        [0.45061611],\n",
       "        [0.49107903],\n",
       "        [0.52459595],\n",
       "        [0.4116427 ],\n",
       "        [0.48979103],\n",
       "        [0.50200262],\n",
       "        [0.52998553],\n",
       "        [0.46260801],\n",
       "        [0.57740335],\n",
       "        [0.59496113],\n",
       "        [0.46891148],\n",
       "        [0.54592442],\n",
       "        [0.71400356],\n",
       "        [0.40977456],\n",
       "        [0.52883315],\n",
       "        [0.47754754],\n",
       "        [0.53490862],\n",
       "        [0.48887671],\n",
       "        [0.51200738],\n",
       "        [0.55767884],\n",
       "        [0.49309152],\n",
       "        [0.57293977],\n",
       "        [0.59450536],\n",
       "        [0.45685138],\n",
       "        [0.55818723],\n",
       "        [0.504326  ],\n",
       "        [0.4716059 ],\n",
       "        [0.5175211 ],\n",
       "        [0.61412511],\n",
       "        [0.44132951],\n",
       "        [0.5513402 ],\n",
       "        [0.4962862 ],\n",
       "        [0.56777024],\n",
       "        [0.52722189],\n",
       "        [0.46122669],\n",
       "        [0.4748396 ],\n",
       "        [0.47059089],\n",
       "        [0.56813398],\n",
       "        [0.58561794],\n",
       "        [0.42458075],\n",
       "        [0.57120195],\n",
       "        [0.64070245],\n",
       "        [0.48804027],\n",
       "        [0.60086918],\n",
       "        [0.58723584],\n",
       "        [0.55224479],\n",
       "        [0.58461796],\n",
       "        [0.51416971],\n",
       "        [0.47708467],\n",
       "        [0.420506  ],\n",
       "        [0.44303587],\n",
       "        [0.66705138],\n",
       "        [0.41218369],\n",
       "        [0.60312816],\n",
       "        [0.573154  ],\n",
       "        [0.50233438],\n",
       "        [0.50947312],\n",
       "        [0.39109361],\n",
       "        [0.58147021],\n",
       "        [0.4504729 ],\n",
       "        [0.51077462],\n",
       "        [0.55292217],\n",
       "        [0.47573675],\n",
       "        [0.5934234 ],\n",
       "        [0.5022803 ],\n",
       "        [0.50393414],\n",
       "        [0.44655105],\n",
       "        [0.50715272],\n",
       "        [0.48449221],\n",
       "        [0.53221758],\n",
       "        [0.71275032],\n",
       "        [0.6052591 ],\n",
       "        [0.45715894],\n",
       "        [0.46763022],\n",
       "        [0.4761277 ],\n",
       "        [0.54411935],\n",
       "        [0.45620713],\n",
       "        [0.5173215 ],\n",
       "        [0.4821976 ],\n",
       "        [0.49793407],\n",
       "        [0.49140205],\n",
       "        [0.47399713],\n",
       "        [0.47044773],\n",
       "        [0.41572486],\n",
       "        [0.55878391],\n",
       "        [0.42770779],\n",
       "        [0.41597995],\n",
       "        [0.40977456],\n",
       "        [0.5162559 ],\n",
       "        [0.42683704],\n",
       "        [0.55481443],\n",
       "        [0.51470658],\n",
       "        [0.53985362],\n",
       "        [0.48602988],\n",
       "        [0.49337875],\n",
       "        [0.42702455],\n",
       "        [0.44976926],\n",
       "        [0.46144694],\n",
       "        [0.46409063],\n",
       "        [0.52507099],\n",
       "        [0.61440839],\n",
       "        [0.43591687],\n",
       "        [0.46785243],\n",
       "        [0.41776078],\n",
       "        [0.4915089 ],\n",
       "        [0.51452961],\n",
       "        [0.49141317],\n",
       "        [0.45015426],\n",
       "        [0.47796633],\n",
       "        [0.59415944],\n",
       "        [0.47075753],\n",
       "        [0.56855671],\n",
       "        [0.52137445],\n",
       "        [0.43223375],\n",
       "        [0.46167034],\n",
       "        [0.64057384],\n",
       "        [0.46159925],\n",
       "        [0.44388225],\n",
       "        [0.43211578],\n",
       "        [0.47567465],\n",
       "        [0.52117609],\n",
       "        [0.48310898],\n",
       "        [0.46282327],\n",
       "        [0.61469938],\n",
       "        [0.51632455],\n",
       "        [0.42401731],\n",
       "        [0.58732109],\n",
       "        [0.51413867],\n",
       "        [0.43405127],\n",
       "        [0.44973863],\n",
       "        [0.59716783],\n",
       "        [0.41616614],\n",
       "        [0.62478947],\n",
       "        [0.47670109],\n",
       "        [0.49069246],\n",
       "        [0.45379588],\n",
       "        [0.40360802],\n",
       "        [0.41551058],\n",
       "        [0.47209368],\n",
       "        [0.52655757],\n",
       "        [0.50035731],\n",
       "        [0.50524387],\n",
       "        [0.40127697],\n",
       "        [0.3948506 ],\n",
       "        [0.5467491 ],\n",
       "        [0.43141741],\n",
       "        [0.45239913],\n",
       "        [0.51414573],\n",
       "        [0.47003947],\n",
       "        [0.54377459],\n",
       "        [0.53858592],\n",
       "        [0.51963588],\n",
       "        [0.46131971],\n",
       "        [0.41569127],\n",
       "        [0.50768478],\n",
       "        [0.52139552],\n",
       "        [0.43317207],\n",
       "        [0.4924634 ],\n",
       "        [0.44201868],\n",
       "        [0.43433558],\n",
       "        [0.54370522],\n",
       "        [0.48834395],\n",
       "        [0.58843613],\n",
       "        [0.47859188],\n",
       "        [0.52023782],\n",
       "        [0.52007582],\n",
       "        [0.42446069],\n",
       "        [0.54536305],\n",
       "        [0.55193045],\n",
       "        [0.52016137],\n",
       "        [0.57712789],\n",
       "        [0.42659084],\n",
       "        [0.45032363],\n",
       "        [0.46063058],\n",
       "        [0.55465526],\n",
       "        [0.50139525],\n",
       "        [0.53624925],\n",
       "        [0.40893885],\n",
       "        [0.45854435],\n",
       "        [0.71448539],\n",
       "        [0.4718835 ],\n",
       "        [0.54688536],\n",
       "        [0.49089375],\n",
       "        [0.59924224],\n",
       "        [0.51002202],\n",
       "        [0.50291321],\n",
       "        [0.4942578 ],\n",
       "        [0.50041874],\n",
       "        [0.5818046 ],\n",
       "        [0.51178941],\n",
       "        [0.51825641],\n",
       "        [0.56366798],\n",
       "        [0.59683284],\n",
       "        [0.59306769],\n",
       "        [0.45386049],\n",
       "        [0.547883  ],\n",
       "        [0.44177721],\n",
       "        [0.43909721],\n",
       "        [0.59260326],\n",
       "        [0.47594528],\n",
       "        [0.45068159],\n",
       "        [0.50102519],\n",
       "        [0.48148617],\n",
       "        [0.51307686],\n",
       "        [0.53137582],\n",
       "        [0.47784489],\n",
       "        [0.44493302],\n",
       "        [0.54006628],\n",
       "        [0.42599511],\n",
       "        [0.5071165 ],\n",
       "        [0.63570544],\n",
       "        [0.52509966],\n",
       "        [0.43065832],\n",
       "        [0.52755801],\n",
       "        [0.45637152],\n",
       "        [0.46451134],\n",
       "        [0.52859943],\n",
       "        [0.46681164],\n",
       "        [0.54021243],\n",
       "        [0.58182399],\n",
       "        [0.48687999],\n",
       "        [0.42068346],\n",
       "        [0.45057544],\n",
       "        [0.48956579],\n",
       "        [0.51318711],\n",
       "        [0.52590206],\n",
       "        [0.51422996],\n",
       "        [0.42933586],\n",
       "        [0.58034377],\n",
       "        [0.45508003],\n",
       "        [0.636787  ],\n",
       "        [0.4540863 ],\n",
       "        [0.51577322],\n",
       "        [0.46652146],\n",
       "        [0.46350938],\n",
       "        [0.57220756],\n",
       "        [0.45608979],\n",
       "        [0.474027  ],\n",
       "        [0.49449533],\n",
       "        [0.53550379],\n",
       "        [0.39456964],\n",
       "        [0.49058393],\n",
       "        [0.45592607],\n",
       "        [0.55654924],\n",
       "        [0.42619055],\n",
       "        [0.55903646],\n",
       "        [0.42677829],\n",
       "        [0.62401149],\n",
       "        [0.44548911],\n",
       "        [0.43974639],\n",
       "        [0.55969465],\n",
       "        [0.4609466 ],\n",
       "        [0.45567863],\n",
       "        [0.51510767],\n",
       "        [0.42259048],\n",
       "        [0.49555474],\n",
       "        [0.48992593],\n",
       "        [0.47382567],\n",
       "        [0.54605313],\n",
       "        [0.42829071],\n",
       "        [0.48135617],\n",
       "        [0.53240683],\n",
       "        [0.47406501],\n",
       "        [0.45589096],\n",
       "        [0.52902338],\n",
       "        [0.591294  ],\n",
       "        [0.56286382],\n",
       "        [0.50082863],\n",
       "        [0.46064244],\n",
       "        [0.49787557],\n",
       "        [0.42970003],\n",
       "        [0.50576722],\n",
       "        [0.54253598],\n",
       "        [0.50308068],\n",
       "        [0.67438684],\n",
       "        [0.42852974],\n",
       "        [0.41257108],\n",
       "        [0.55641192],\n",
       "        [0.45365846],\n",
       "        [0.45480857],\n",
       "        [0.46266332],\n",
       "        [0.55720024],\n",
       "        [0.42574139],\n",
       "        [0.51419826],\n",
       "        [0.4491193 ],\n",
       "        [0.65473265],\n",
       "        [0.50242878],\n",
       "        [0.44198415],\n",
       "        [0.49397004],\n",
       "        [0.50223524],\n",
       "        [0.5063944 ],\n",
       "        [0.51616299],\n",
       "        [0.59521191],\n",
       "        [0.42912197],\n",
       "        [0.61959101],\n",
       "        [0.45871133],\n",
       "        [0.41111817],\n",
       "        [0.59663704],\n",
       "        [0.45164907],\n",
       "        [0.46535333],\n",
       "        [0.4092654 ],\n",
       "        [0.51154357],\n",
       "        [0.48717639],\n",
       "        [0.47195801],\n",
       "        [0.44371996],\n",
       "        [0.41728763],\n",
       "        [0.45330303],\n",
       "        [0.43111974],\n",
       "        [0.47183127],\n",
       "        [0.44952422],\n",
       "        [0.48299375],\n",
       "        [0.43158416],\n",
       "        [0.60279929],\n",
       "        [0.50108403],\n",
       "        [0.46648735],\n",
       "        [0.51502934],\n",
       "        [0.48297971],\n",
       "        [0.48654711],\n",
       "        [0.49370202],\n",
       "        [0.40977456],\n",
       "        [0.42192076],\n",
       "        [0.54371064],\n",
       "        [0.74864389],\n",
       "        [0.54744596],\n",
       "        [0.61133704],\n",
       "        [0.4748818 ],\n",
       "        [0.45505606],\n",
       "        [0.52970756],\n",
       "        [0.4284117 ],\n",
       "        [0.50898341],\n",
       "        [0.47523161],\n",
       "        [0.51419014],\n",
       "        [0.49097386],\n",
       "        [0.49830188],\n",
       "        [0.46197588],\n",
       "        [0.4004399 ],\n",
       "        [0.48420276],\n",
       "        [0.41440219],\n",
       "        [0.50460395],\n",
       "        [0.43594085],\n",
       "        [0.54683611],\n",
       "        [0.60363543],\n",
       "        [0.54652082],\n",
       "        [0.62115371],\n",
       "        [0.48200445],\n",
       "        [0.476995  ],\n",
       "        [0.44921127],\n",
       "        [0.43069156],\n",
       "        [0.47837159],\n",
       "        [0.47525853],\n",
       "        [0.41453306],\n",
       "        [0.57156372],\n",
       "        [0.52113882],\n",
       "        [0.5247432 ],\n",
       "        [0.45842422],\n",
       "        [0.42879176],\n",
       "        [0.50567031],\n",
       "        [0.45871755],\n",
       "        [0.48051961],\n",
       "        [0.48430132],\n",
       "        [0.48468554],\n",
       "        [0.5555455 ],\n",
       "        [0.44427331],\n",
       "        [0.58094267],\n",
       "        [0.49675874],\n",
       "        [0.46941449],\n",
       "        [0.42632173],\n",
       "        [0.50745627],\n",
       "        [0.43093449],\n",
       "        [0.55573932],\n",
       "        [0.56519095],\n",
       "        [0.59857926],\n",
       "        [0.4665168 ],\n",
       "        [0.49188017],\n",
       "        [0.43289261],\n",
       "        [0.46067193],\n",
       "        [0.59997962],\n",
       "        [0.58659501],\n",
       "        [0.64205251],\n",
       "        [0.43492748],\n",
       "        [0.48193947],\n",
       "        [0.5139464 ],\n",
       "        [0.47617881],\n",
       "        [0.44890745],\n",
       "        [0.41980456],\n",
       "        [0.486235  ],\n",
       "        [0.50875007],\n",
       "        [0.49413737],\n",
       "        [0.50583145],\n",
       "        [0.46022212],\n",
       "        [0.4955149 ],\n",
       "        [0.46905666],\n",
       "        [0.84039275],\n",
       "        [0.47211119],\n",
       "        [0.50938473],\n",
       "        [0.45140799],\n",
       "        [0.43380614],\n",
       "        [0.55704164],\n",
       "        [0.4285969 ],\n",
       "        [0.60169952],\n",
       "        [0.40095828],\n",
       "        [0.49569306],\n",
       "        [0.51259899],\n",
       "        [0.48856927],\n",
       "        [0.42408578],\n",
       "        [0.55329751],\n",
       "        [0.56051581],\n",
       "        [0.46645411],\n",
       "        [0.51246203],\n",
       "        [0.62135423],\n",
       "        [0.47417281],\n",
       "        [0.52185589],\n",
       "        [0.53256625],\n",
       "        [0.46093397],\n",
       "        [0.61247721],\n",
       "        [0.75037409],\n",
       "        [0.4406518 ],\n",
       "        [0.78561663],\n",
       "        [0.5633247 ],\n",
       "        [0.41568683],\n",
       "        [0.43220261],\n",
       "        [0.46049669],\n",
       "        [0.43917293],\n",
       "        [0.45003713],\n",
       "        [0.59802127],\n",
       "        [0.56437162],\n",
       "        [0.43028022],\n",
       "        [0.47206851],\n",
       "        [0.47469793],\n",
       "        [0.52922001],\n",
       "        [0.54012373],\n",
       "        [0.58951729],\n",
       "        [0.42178047],\n",
       "        [0.50546698],\n",
       "        [0.52818188],\n",
       "        [0.41888171],\n",
       "        [0.47446921],\n",
       "        [0.41295056],\n",
       "        [0.45032165],\n",
       "        [0.52136922],\n",
       "        [0.42498416],\n",
       "        [0.43652248],\n",
       "        [0.4106753 ],\n",
       "        [0.4377156 ],\n",
       "        [0.52809509],\n",
       "        [0.40471106],\n",
       "        [0.47580468],\n",
       "        [0.48389237],\n",
       "        [0.49629655],\n",
       "        [0.53780197],\n",
       "        [0.47135074],\n",
       "        [0.56332059],\n",
       "        [0.4310852 ],\n",
       "        [0.49872383],\n",
       "        [0.45429234],\n",
       "        [0.46606791],\n",
       "        [0.50308512],\n",
       "        [0.54020735],\n",
       "        [0.59652552],\n",
       "        [0.46369832],\n",
       "        [0.42845492],\n",
       "        [0.46173702],\n",
       "        [0.40844453],\n",
       "        [0.48039514],\n",
       "        [0.40810853],\n",
       "        [0.45016164],\n",
       "        [0.48419599],\n",
       "        [0.47433611],\n",
       "        [0.44178347],\n",
       "        [0.53515024],\n",
       "        [0.48010712],\n",
       "        [0.52827246],\n",
       "        [0.56045408],\n",
       "        [0.43530708],\n",
       "        [0.52721455],\n",
       "        [0.58271677],\n",
       "        [0.49917566],\n",
       "        [0.53698207],\n",
       "        [0.48722674],\n",
       "        [0.48737223],\n",
       "        [0.49225711],\n",
       "        [0.41405061],\n",
       "        [0.48643794],\n",
       "        [0.71734487],\n",
       "        [0.5181233 ],\n",
       "        [0.43166262],\n",
       "        [0.46628718],\n",
       "        [0.52307845],\n",
       "        [0.41606103],\n",
       "        [0.49436937],\n",
       "        [0.55865825],\n",
       "        [0.42702563],\n",
       "        [0.46168803],\n",
       "        [0.59323832],\n",
       "        [0.57942764],\n",
       "        [0.54260476],\n",
       "        [0.61856498],\n",
       "        [0.41012318],\n",
       "        [0.5099012 ],\n",
       "        [0.57214684],\n",
       "        [0.40085023],\n",
       "        [0.43716683],\n",
       "        [0.53898674],\n",
       "        [0.65014117],\n",
       "        [0.54821436],\n",
       "        [0.52386529],\n",
       "        [0.493399  ],\n",
       "        [0.53351197],\n",
       "        [0.45587478],\n",
       "        [0.46100284],\n",
       "        [0.58465162],\n",
       "        [0.39584742],\n",
       "        [0.48765233],\n",
       "        [0.50757959],\n",
       "        [0.61331267],\n",
       "        [0.59119938],\n",
       "        [0.56030664],\n",
       "        [0.47067993],\n",
       "        [0.51270503],\n",
       "        [0.49671496],\n",
       "        [0.5658595 ],\n",
       "        [0.5300199 ],\n",
       "        [0.44406877],\n",
       "        [0.55602473],\n",
       "        [0.47393668],\n",
       "        [0.53917479],\n",
       "        [0.48117726],\n",
       "        [0.42239077],\n",
       "        [0.47699957],\n",
       "        [0.46496433],\n",
       "        [0.52002773],\n",
       "        [0.50514193],\n",
       "        [0.42152861],\n",
       "        [0.56866143],\n",
       "        [0.44009417],\n",
       "        [0.40977456],\n",
       "        [0.39444908],\n",
       "        [0.63327249],\n",
       "        [0.41516485],\n",
       "        [0.47502836],\n",
       "        [0.46938538],\n",
       "        [0.70011083],\n",
       "        [0.56031403],\n",
       "        [0.49021191],\n",
       "        [0.58566133],\n",
       "        [0.40070134],\n",
       "        [0.67361231],\n",
       "        [0.48822463],\n",
       "        [0.47254079],\n",
       "        [0.47176321],\n",
       "        [0.48475919],\n",
       "        [0.54532571],\n",
       "        [0.44129362],\n",
       "        [0.65475641],\n",
       "        [0.58681674],\n",
       "        [0.45958038],\n",
       "        [0.42207073],\n",
       "        [0.40977456],\n",
       "        [0.44619234],\n",
       "        [0.54406677],\n",
       "        [0.43210171],\n",
       "        [0.48557648],\n",
       "        [0.47384889],\n",
       "        [0.54689516],\n",
       "        [0.47902675],\n",
       "        [0.42564846],\n",
       "        [0.57011827],\n",
       "        [0.43751965],\n",
       "        [0.53625748],\n",
       "        [0.51250435],\n",
       "        [0.45097935],\n",
       "        [0.47227704],\n",
       "        [0.41043395],\n",
       "        [0.4634312 ],\n",
       "        [0.46427617],\n",
       "        [0.45962355],\n",
       "        [0.56605971],\n",
       "        [0.51306127],\n",
       "        [0.42901495],\n",
       "        [0.44909162],\n",
       "        [0.49178767],\n",
       "        [0.59495424],\n",
       "        [0.43644903],\n",
       "        [0.45128437],\n",
       "        [0.48555248],\n",
       "        [0.44028812],\n",
       "        [0.55924354],\n",
       "        [0.47144336],\n",
       "        [0.57529936],\n",
       "        [0.4358736 ],\n",
       "        [0.71504048],\n",
       "        [0.51665697],\n",
       "        [0.48728609],\n",
       "        [0.52633681],\n",
       "        [0.43892339],\n",
       "        [0.44241201],\n",
       "        [0.52974795],\n",
       "        [0.48230292],\n",
       "        [0.51903489],\n",
       "        [0.45137197],\n",
       "        [0.44636749],\n",
       "        [0.45701188],\n",
       "        [0.46955284],\n",
       "        [0.42886399],\n",
       "        [0.59581344],\n",
       "        [0.56006386],\n",
       "        [0.59444647],\n",
       "        [0.49937435],\n",
       "        [0.51686113],\n",
       "        [0.46717867],\n",
       "        [0.52889955],\n",
       "        [0.51915805],\n",
       "        [0.5862217 ],\n",
       "        [0.46873881],\n",
       "        [0.4328525 ],\n",
       "        [0.56317619],\n",
       "        [0.57783478],\n",
       "        [0.47064394],\n",
       "        [0.53214439],\n",
       "        [0.41911718],\n",
       "        [0.41744418],\n",
       "        [0.47477264],\n",
       "        [0.50434338],\n",
       "        [0.41466516],\n",
       "        [0.5012375 ],\n",
       "        [0.4710735 ],\n",
       "        [0.52248267],\n",
       "        [0.43498884],\n",
       "        [0.46903966],\n",
       "        [0.58250673],\n",
       "        [0.49870581],\n",
       "        [0.56578913],\n",
       "        [0.54801589],\n",
       "        [0.42715542],\n",
       "        [0.51247407],\n",
       "        [0.47544393],\n",
       "        [0.45067926],\n",
       "        [0.4145233 ],\n",
       "        [0.46151133],\n",
       "        [0.46655499],\n",
       "        [0.51452989],\n",
       "        [0.49914778],\n",
       "        [0.51697216],\n",
       "        [0.5469129 ],\n",
       "        [0.40338214],\n",
       "        [0.43266912],\n",
       "        [0.48039233],\n",
       "        [0.45949304],\n",
       "        [0.43496125],\n",
       "        [0.46882057],\n",
       "        [0.48174142],\n",
       "        [0.54631206],\n",
       "        [0.54689209],\n",
       "        [0.40890851],\n",
       "        [0.41278147],\n",
       "        [0.45017533],\n",
       "        [0.46285931],\n",
       "        [0.49924613],\n",
       "        [0.56101625],\n",
       "        [0.49534207],\n",
       "        [0.5232877 ],\n",
       "        [0.61157227],\n",
       "        [0.55091147],\n",
       "        [0.48463345],\n",
       "        [0.5096664 ],\n",
       "        [0.5430544 ],\n",
       "        [0.49730343],\n",
       "        [0.57546375],\n",
       "        [0.46025848],\n",
       "        [0.39104535],\n",
       "        [0.48381352],\n",
       "        [0.51765586],\n",
       "        [0.41703285],\n",
       "        [0.43130551],\n",
       "        [0.47119459],\n",
       "        [0.46270248],\n",
       "        [0.41052464],\n",
       "        [0.51965104],\n",
       "        [0.44087877],\n",
       "        [0.47954851],\n",
       "        [0.59628879],\n",
       "        [0.42832382],\n",
       "        [0.41922714],\n",
       "        [0.44825636],\n",
       "        [0.54247839],\n",
       "        [0.42181831],\n",
       "        [0.53326702],\n",
       "        [0.59567096],\n",
       "        [0.53271642],\n",
       "        [0.44545149],\n",
       "        [0.49732063],\n",
       "        [0.46939769],\n",
       "        [0.44468721],\n",
       "        [0.52854975],\n",
       "        [0.47614629],\n",
       "        [0.51961964],\n",
       "        [0.43950545],\n",
       "        [0.47699831],\n",
       "        [0.55260335],\n",
       "        [0.58765432],\n",
       "        [0.48649317],\n",
       "        [0.60630556],\n",
       "        [0.43240269],\n",
       "        [0.42295289],\n",
       "        [0.43151976],\n",
       "        [0.60135892],\n",
       "        [0.42421132],\n",
       "        [0.46056825],\n",
       "        [0.42104493],\n",
       "        [0.46282867],\n",
       "        [0.48181375],\n",
       "        [0.49377703],\n",
       "        [0.54759736],\n",
       "        [0.55008925],\n",
       "        [0.44147954],\n",
       "        [0.4340194 ],\n",
       "        [0.41688239],\n",
       "        [0.53681434],\n",
       "        [0.40007662],\n",
       "        [0.50633474],\n",
       "        [0.4248133 ],\n",
       "        [0.45097328],\n",
       "        [0.49451373],\n",
       "        [0.45899755],\n",
       "        [0.55119314],\n",
       "        [0.45713331],\n",
       "        [0.5174306 ],\n",
       "        [0.51113555],\n",
       "        [0.60670927],\n",
       "        [0.56247235],\n",
       "        [0.43095811],\n",
       "        [0.60633601],\n",
       "        [0.57170417],\n",
       "        [0.53351273],\n",
       "        [0.57763992],\n",
       "        [0.57960515],\n",
       "        [0.52681695],\n",
       "        [0.65047466],\n",
       "        [0.53494243],\n",
       "        [0.48095967],\n",
       "        [0.43498884],\n",
       "        [0.60757493],\n",
       "        [0.59794991],\n",
       "        [0.45506313],\n",
       "        [0.48818946],\n",
       "        [0.44351932],\n",
       "        [0.49927992],\n",
       "        [0.42879176],\n",
       "        [0.43878042],\n",
       "        [0.56375438],\n",
       "        [0.45213854],\n",
       "        [0.47845052],\n",
       "        [0.49541473],\n",
       "        [0.42574139],\n",
       "        [0.52313399],\n",
       "        [0.53912197],\n",
       "        [0.43699515],\n",
       "        [0.51028756],\n",
       "        [0.54663565],\n",
       "        [0.4351772 ],\n",
       "        [0.52021216],\n",
       "        [0.56173149],\n",
       "        [0.5832618 ],\n",
       "        [0.49541361],\n",
       "        [0.53211885],\n",
       "        [0.53256095],\n",
       "        [0.52741883],\n",
       "        [0.43623414],\n",
       "        [0.48016309],\n",
       "        [0.44935845],\n",
       "        [0.68181571],\n",
       "        [0.41924124],\n",
       "        [0.42564846],\n",
       "        [0.56337153],\n",
       "        [0.45178323],\n",
       "        [0.56668248],\n",
       "        [0.50822267],\n",
       "        [0.45544442],\n",
       "        [0.4721115 ],\n",
       "        [0.48693199],\n",
       "        [0.42437569],\n",
       "        [0.44799202],\n",
       "        [0.57378676],\n",
       "        [0.47200693],\n",
       "        [0.45137147],\n",
       "        [0.52374657],\n",
       "        [0.44371996],\n",
       "        [0.43693501],\n",
       "        [0.43048061],\n",
       "        [0.52055196],\n",
       "        [0.48497879],\n",
       "        [0.53786894],\n",
       "        [0.49682604],\n",
       "        [0.5196526 ],\n",
       "        [0.53048924],\n",
       "        [0.5671005 ],\n",
       "        [0.5846742 ],\n",
       "        [0.57907597],\n",
       "        [0.42097948],\n",
       "        [0.46801638],\n",
       "        [0.51656545],\n",
       "        [0.50773986],\n",
       "        [0.40184812],\n",
       "        [0.42018564],\n",
       "        [0.49349118],\n",
       "        [0.46468488],\n",
       "        [0.5092156 ],\n",
       "        [0.47912157],\n",
       "        [0.47460367],\n",
       "        [0.78743903],\n",
       "        [0.51742876],\n",
       "        [0.5397217 ],\n",
       "        [0.46437144],\n",
       "        [0.58527533],\n",
       "        [0.41819323],\n",
       "        [0.51536047],\n",
       "        [0.46979159],\n",
       "        [0.4987234 ],\n",
       "        [0.65740047],\n",
       "        [0.54898876],\n",
       "        [0.43414345],\n",
       "        [0.48919943],\n",
       "        [0.42529825],\n",
       "        [0.41013876],\n",
       "        [0.47513174],\n",
       "        [0.57195118],\n",
       "        [0.62307203],\n",
       "        [0.51529278],\n",
       "        [0.63523982],\n",
       "        [0.52629052],\n",
       "        [0.71846084],\n",
       "        [0.43715488],\n",
       "        [0.49745109],\n",
       "        [0.51399526],\n",
       "        [0.57391761],\n",
       "        [0.57983932],\n",
       "        [0.49712846],\n",
       "        [0.52234297],\n",
       "        [0.54541972],\n",
       "        [0.56994879],\n",
       "        [0.50410055],\n",
       "        [0.46550074],\n",
       "        [0.48154569],\n",
       "        [0.50467724],\n",
       "        [0.4850017 ],\n",
       "        [0.47279295],\n",
       "        [0.48038967],\n",
       "        [0.53743922],\n",
       "        [0.5155274 ],\n",
       "        [0.49123282],\n",
       "        [0.47536896],\n",
       "        [0.70200949],\n",
       "        [0.48034624],\n",
       "        [0.50961361],\n",
       "        [0.49389797],\n",
       "        [0.45734332],\n",
       "        [0.48093471],\n",
       "        [0.4761145 ],\n",
       "        [0.60350633],\n",
       "        [0.48664233],\n",
       "        [0.46961755],\n",
       "        [0.56453308],\n",
       "        [0.67826598],\n",
       "        [0.54185295],\n",
       "        [0.42573955],\n",
       "        [0.4621143 ],\n",
       "        [0.43448709],\n",
       "        [0.4733681 ],\n",
       "        [0.52493364],\n",
       "        [0.68196633],\n",
       "        [0.41989483],\n",
       "        [0.66088097],\n",
       "        [0.55392507],\n",
       "        [0.6257569 ],\n",
       "        [0.65110644],\n",
       "        [0.46003618],\n",
       "        [0.53466238],\n",
       "        [0.41854235],\n",
       "        [0.41275888],\n",
       "        [0.42594191],\n",
       "        [0.4753542 ],\n",
       "        [0.48392818],\n",
       "        [0.54911465],\n",
       "        [0.43516711],\n",
       "        [0.58105802],\n",
       "        [0.50728957],\n",
       "        [0.50673544],\n",
       "        [0.45052254],\n",
       "        [0.55426954],\n",
       "        [0.46084101],\n",
       "        [0.46771839],\n",
       "        [0.45657744],\n",
       "        [0.49658571],\n",
       "        [0.49531906],\n",
       "        [0.44786721],\n",
       "        [0.56389092],\n",
       "        [0.4982376 ],\n",
       "        [0.522636  ],\n",
       "        [0.45689129],\n",
       "        [0.4538567 ],\n",
       "        [0.49409926],\n",
       "        [0.58643108],\n",
       "        [0.40977456],\n",
       "        [0.44309148],\n",
       "        [0.53616555],\n",
       "        [0.47637089],\n",
       "        [0.45414867],\n",
       "        [0.44105018],\n",
       "        [0.48123897],\n",
       "        [0.41646064],\n",
       "        [0.52316875],\n",
       "        [0.4976442 ],\n",
       "        [0.51215733],\n",
       "        [0.55236298],\n",
       "        [0.50535874],\n",
       "        [0.51001327],\n",
       "        [0.46156957],\n",
       "        [0.50960875],\n",
       "        [0.51576594],\n",
       "        [0.60739425],\n",
       "        [0.49338406],\n",
       "        [0.45641092],\n",
       "        [0.4479157 ],\n",
       "        [0.5756834 ],\n",
       "        [0.44639261],\n",
       "        [0.44089018],\n",
       "        [0.61957607],\n",
       "        [0.44837216],\n",
       "        [0.43535948],\n",
       "        [0.60603991],\n",
       "        [0.51942441],\n",
       "        [0.4964234 ],\n",
       "        [0.72666058],\n",
       "        [0.42468465],\n",
       "        [0.4431671 ],\n",
       "        [0.50099379],\n",
       "        [0.5444656 ]]),\n",
       " 'Y_pred': array([[0.],\n",
       "        [0.],\n",
       "        [1.],\n",
       "        [1.],\n",
       "        [0.],\n",
       "        [1.],\n",
       "        [1.],\n",
       "        [1.],\n",
       "        [0.],\n",
       "        [1.],\n",
       "        [1.],\n",
       "        [0.],\n",
       "        [1.],\n",
       "        [1.],\n",
       "        [0.],\n",
       "        [1.],\n",
       "        [0.],\n",
       "        [1.],\n",
       "        [1.],\n",
       "        [1.],\n",
       "        [1.],\n",
       "        [1.],\n",
       "        [1.],\n",
       "        [1.],\n",
       "        [0.],\n",
       "        [1.],\n",
       "        [1.],\n",
       "        [0.],\n",
       "        [1.],\n",
       "        [1.],\n",
       "        [0.],\n",
       "        [1.],\n",
       "        [1.],\n",
       "        [1.],\n",
       "        [1.],\n",
       "        [0.],\n",
       "        [0.],\n",
       "        [0.],\n",
       "        [1.],\n",
       "        [1.],\n",
       "        [0.],\n",
       "        [1.],\n",
       "        [1.],\n",
       "        [1.],\n",
       "        [1.],\n",
       "        [1.],\n",
       "        [1.],\n",
       "        [1.],\n",
       "        [1.],\n",
       "        [0.],\n",
       "        [0.],\n",
       "        [0.],\n",
       "        [1.],\n",
       "        [0.],\n",
       "        [1.],\n",
       "        [1.],\n",
       "        [1.],\n",
       "        [1.],\n",
       "        [0.],\n",
       "        [1.],\n",
       "        [0.],\n",
       "        [1.],\n",
       "        [1.],\n",
       "        [0.],\n",
       "        [1.],\n",
       "        [1.],\n",
       "        [1.],\n",
       "        [0.],\n",
       "        [1.],\n",
       "        [0.],\n",
       "        [1.],\n",
       "        [1.],\n",
       "        [1.],\n",
       "        [0.],\n",
       "        [0.],\n",
       "        [0.],\n",
       "        [1.],\n",
       "        [0.],\n",
       "        [1.],\n",
       "        [0.],\n",
       "        [1.],\n",
       "        [1.],\n",
       "        [0.],\n",
       "        [0.],\n",
       "        [0.],\n",
       "        [1.],\n",
       "        [0.],\n",
       "        [0.],\n",
       "        [0.],\n",
       "        [1.],\n",
       "        [0.],\n",
       "        [1.],\n",
       "        [1.],\n",
       "        [1.],\n",
       "        [1.],\n",
       "        [1.],\n",
       "        [0.],\n",
       "        [0.],\n",
       "        [0.],\n",
       "        [0.],\n",
       "        [1.],\n",
       "        [1.],\n",
       "        [0.],\n",
       "        [0.],\n",
       "        [0.],\n",
       "        [1.],\n",
       "        [1.],\n",
       "        [1.],\n",
       "        [0.],\n",
       "        [0.],\n",
       "        [1.],\n",
       "        [0.],\n",
       "        [1.],\n",
       "        [1.],\n",
       "        [0.],\n",
       "        [0.],\n",
       "        [1.],\n",
       "        [0.],\n",
       "        [0.],\n",
       "        [0.],\n",
       "        [0.],\n",
       "        [1.],\n",
       "        [0.],\n",
       "        [0.],\n",
       "        [1.],\n",
       "        [1.],\n",
       "        [0.],\n",
       "        [1.],\n",
       "        [1.],\n",
       "        [0.],\n",
       "        [0.],\n",
       "        [1.],\n",
       "        [0.],\n",
       "        [1.],\n",
       "        [0.],\n",
       "        [1.],\n",
       "        [0.],\n",
       "        [0.],\n",
       "        [0.],\n",
       "        [0.],\n",
       "        [1.],\n",
       "        [1.],\n",
       "        [1.],\n",
       "        [0.],\n",
       "        [0.],\n",
       "        [1.],\n",
       "        [0.],\n",
       "        [0.],\n",
       "        [1.],\n",
       "        [0.],\n",
       "        [1.],\n",
       "        [1.],\n",
       "        [1.],\n",
       "        [0.],\n",
       "        [0.],\n",
       "        [1.],\n",
       "        [1.],\n",
       "        [0.],\n",
       "        [1.],\n",
       "        [0.],\n",
       "        [0.],\n",
       "        [1.],\n",
       "        [1.],\n",
       "        [1.],\n",
       "        [0.],\n",
       "        [1.],\n",
       "        [1.],\n",
       "        [0.],\n",
       "        [1.],\n",
       "        [1.],\n",
       "        [1.],\n",
       "        [1.],\n",
       "        [0.],\n",
       "        [0.],\n",
       "        [0.],\n",
       "        [1.],\n",
       "        [1.],\n",
       "        [1.],\n",
       "        [0.],\n",
       "        [0.],\n",
       "        [1.],\n",
       "        [0.],\n",
       "        [1.],\n",
       "        [1.],\n",
       "        [1.],\n",
       "        [1.],\n",
       "        [1.],\n",
       "        [1.],\n",
       "        [1.],\n",
       "        [1.],\n",
       "        [1.],\n",
       "        [1.],\n",
       "        [1.],\n",
       "        [1.],\n",
       "        [1.],\n",
       "        [0.],\n",
       "        [1.],\n",
       "        [0.],\n",
       "        [0.],\n",
       "        [1.],\n",
       "        [0.],\n",
       "        [0.],\n",
       "        [1.],\n",
       "        [0.],\n",
       "        [1.],\n",
       "        [1.],\n",
       "        [0.],\n",
       "        [0.],\n",
       "        [1.],\n",
       "        [0.],\n",
       "        [1.],\n",
       "        [1.],\n",
       "        [1.],\n",
       "        [0.],\n",
       "        [1.],\n",
       "        [0.],\n",
       "        [0.],\n",
       "        [1.],\n",
       "        [0.],\n",
       "        [1.],\n",
       "        [1.],\n",
       "        [1.],\n",
       "        [0.],\n",
       "        [0.],\n",
       "        [1.],\n",
       "        [1.],\n",
       "        [1.],\n",
       "        [1.],\n",
       "        [0.],\n",
       "        [1.],\n",
       "        [0.],\n",
       "        [1.],\n",
       "        [0.],\n",
       "        [1.],\n",
       "        [0.],\n",
       "        [0.],\n",
       "        [1.],\n",
       "        [0.],\n",
       "        [0.],\n",
       "        [1.],\n",
       "        [1.],\n",
       "        [0.],\n",
       "        [1.],\n",
       "        [0.],\n",
       "        [1.],\n",
       "        [0.],\n",
       "        [1.],\n",
       "        [0.],\n",
       "        [1.],\n",
       "        [0.],\n",
       "        [0.],\n",
       "        [1.],\n",
       "        [0.],\n",
       "        [0.],\n",
       "        [1.],\n",
       "        [0.],\n",
       "        [1.],\n",
       "        [1.],\n",
       "        [0.],\n",
       "        [1.],\n",
       "        [0.],\n",
       "        [0.],\n",
       "        [1.],\n",
       "        [0.],\n",
       "        [0.],\n",
       "        [1.],\n",
       "        [1.],\n",
       "        [1.],\n",
       "        [1.],\n",
       "        [0.],\n",
       "        [1.],\n",
       "        [0.],\n",
       "        [1.],\n",
       "        [1.],\n",
       "        [1.],\n",
       "        [1.],\n",
       "        [0.],\n",
       "        [0.],\n",
       "        [1.],\n",
       "        [0.],\n",
       "        [0.],\n",
       "        [0.],\n",
       "        [1.],\n",
       "        [0.],\n",
       "        [1.],\n",
       "        [0.],\n",
       "        [1.],\n",
       "        [1.],\n",
       "        [0.],\n",
       "        [1.],\n",
       "        [1.],\n",
       "        [1.],\n",
       "        [1.],\n",
       "        [1.],\n",
       "        [0.],\n",
       "        [1.],\n",
       "        [0.],\n",
       "        [0.],\n",
       "        [1.],\n",
       "        [0.],\n",
       "        [0.],\n",
       "        [0.],\n",
       "        [1.],\n",
       "        [1.],\n",
       "        [0.],\n",
       "        [0.],\n",
       "        [0.],\n",
       "        [0.],\n",
       "        [0.],\n",
       "        [0.],\n",
       "        [0.],\n",
       "        [0.],\n",
       "        [0.],\n",
       "        [1.],\n",
       "        [1.],\n",
       "        [0.],\n",
       "        [1.],\n",
       "        [0.],\n",
       "        [1.],\n",
       "        [1.],\n",
       "        [0.],\n",
       "        [0.],\n",
       "        [1.],\n",
       "        [1.],\n",
       "        [1.],\n",
       "        [1.],\n",
       "        [0.],\n",
       "        [0.],\n",
       "        [1.],\n",
       "        [0.],\n",
       "        [1.],\n",
       "        [0.],\n",
       "        [1.],\n",
       "        [1.],\n",
       "        [1.],\n",
       "        [0.],\n",
       "        [0.],\n",
       "        [0.],\n",
       "        [0.],\n",
       "        [1.],\n",
       "        [0.],\n",
       "        [1.],\n",
       "        [1.],\n",
       "        [1.],\n",
       "        [1.],\n",
       "        [0.],\n",
       "        [0.],\n",
       "        [0.],\n",
       "        [0.],\n",
       "        [0.],\n",
       "        [0.],\n",
       "        [0.],\n",
       "        [1.],\n",
       "        [1.],\n",
       "        [1.],\n",
       "        [0.],\n",
       "        [0.],\n",
       "        [1.],\n",
       "        [0.],\n",
       "        [0.],\n",
       "        [0.],\n",
       "        [0.],\n",
       "        [1.],\n",
       "        [0.],\n",
       "        [1.],\n",
       "        [1.],\n",
       "        [0.],\n",
       "        [0.],\n",
       "        [1.],\n",
       "        [0.],\n",
       "        [1.],\n",
       "        [1.],\n",
       "        [1.],\n",
       "        [0.],\n",
       "        [1.],\n",
       "        [0.],\n",
       "        [0.],\n",
       "        [1.],\n",
       "        [1.],\n",
       "        [1.],\n",
       "        [0.],\n",
       "        [0.],\n",
       "        [1.],\n",
       "        [0.],\n",
       "        [0.],\n",
       "        [0.],\n",
       "        [1.],\n",
       "        [1.],\n",
       "        [1.],\n",
       "        [1.],\n",
       "        [0.],\n",
       "        [1.],\n",
       "        [0.],\n",
       "        [1.],\n",
       "        [0.],\n",
       "        [1.],\n",
       "        [0.],\n",
       "        [0.],\n",
       "        [1.],\n",
       "        [0.],\n",
       "        [1.],\n",
       "        [0.],\n",
       "        [1.],\n",
       "        [1.],\n",
       "        [1.],\n",
       "        [0.],\n",
       "        [1.],\n",
       "        [1.],\n",
       "        [0.],\n",
       "        [1.],\n",
       "        [1.],\n",
       "        [0.],\n",
       "        [1.],\n",
       "        [1.],\n",
       "        [0.],\n",
       "        [1.],\n",
       "        [1.],\n",
       "        [0.],\n",
       "        [1.],\n",
       "        [1.],\n",
       "        [0.],\n",
       "        [0.],\n",
       "        [0.],\n",
       "        [0.],\n",
       "        [0.],\n",
       "        [1.],\n",
       "        [1.],\n",
       "        [0.],\n",
       "        [0.],\n",
       "        [0.],\n",
       "        [1.],\n",
       "        [1.],\n",
       "        [1.],\n",
       "        [0.],\n",
       "        [1.],\n",
       "        [1.],\n",
       "        [0.],\n",
       "        [0.],\n",
       "        [0.],\n",
       "        [0.],\n",
       "        [1.],\n",
       "        [0.],\n",
       "        [0.],\n",
       "        [0.],\n",
       "        [0.],\n",
       "        [1.],\n",
       "        [0.],\n",
       "        [0.],\n",
       "        [0.],\n",
       "        [1.],\n",
       "        [1.],\n",
       "        [0.],\n",
       "        [1.],\n",
       "        [0.],\n",
       "        [1.],\n",
       "        [0.],\n",
       "        [0.],\n",
       "        [1.],\n",
       "        [1.],\n",
       "        [1.],\n",
       "        [0.],\n",
       "        [0.],\n",
       "        [0.],\n",
       "        [0.],\n",
       "        [0.],\n",
       "        [0.],\n",
       "        [0.],\n",
       "        [0.],\n",
       "        [0.],\n",
       "        [0.],\n",
       "        [1.],\n",
       "        [0.],\n",
       "        [1.],\n",
       "        [1.],\n",
       "        [0.],\n",
       "        [1.],\n",
       "        [1.],\n",
       "        [1.],\n",
       "        [1.],\n",
       "        [1.],\n",
       "        [1.],\n",
       "        [1.],\n",
       "        [0.],\n",
       "        [1.],\n",
       "        [1.],\n",
       "        [1.],\n",
       "        [0.],\n",
       "        [0.],\n",
       "        [1.],\n",
       "        [0.],\n",
       "        [1.],\n",
       "        [1.],\n",
       "        [0.],\n",
       "        [0.],\n",
       "        [1.],\n",
       "        [1.],\n",
       "        [1.],\n",
       "        [1.],\n",
       "        [0.],\n",
       "        [1.],\n",
       "        [1.],\n",
       "        [0.],\n",
       "        [0.],\n",
       "        [1.],\n",
       "        [1.],\n",
       "        [1.],\n",
       "        [1.],\n",
       "        [1.],\n",
       "        [1.],\n",
       "        [0.],\n",
       "        [0.],\n",
       "        [1.],\n",
       "        [0.],\n",
       "        [1.],\n",
       "        [1.],\n",
       "        [1.],\n",
       "        [1.],\n",
       "        [1.],\n",
       "        [0.],\n",
       "        [1.],\n",
       "        [1.],\n",
       "        [1.],\n",
       "        [1.],\n",
       "        [0.],\n",
       "        [1.],\n",
       "        [0.],\n",
       "        [1.],\n",
       "        [0.],\n",
       "        [0.],\n",
       "        [0.],\n",
       "        [0.],\n",
       "        [1.],\n",
       "        [1.],\n",
       "        [0.],\n",
       "        [1.],\n",
       "        [0.],\n",
       "        [0.],\n",
       "        [0.],\n",
       "        [1.],\n",
       "        [0.],\n",
       "        [0.],\n",
       "        [0.],\n",
       "        [1.],\n",
       "        [1.],\n",
       "        [1.],\n",
       "        [1.],\n",
       "        [0.],\n",
       "        [1.],\n",
       "        [1.],\n",
       "        [0.],\n",
       "        [0.],\n",
       "        [0.],\n",
       "        [1.],\n",
       "        [0.],\n",
       "        [1.],\n",
       "        [1.],\n",
       "        [0.],\n",
       "        [0.],\n",
       "        [0.],\n",
       "        [0.],\n",
       "        [1.],\n",
       "        [0.],\n",
       "        [1.],\n",
       "        [0.],\n",
       "        [1.],\n",
       "        [0.],\n",
       "        [0.],\n",
       "        [1.],\n",
       "        [0.],\n",
       "        [1.],\n",
       "        [1.],\n",
       "        [0.],\n",
       "        [0.],\n",
       "        [0.],\n",
       "        [0.],\n",
       "        [0.],\n",
       "        [0.],\n",
       "        [1.],\n",
       "        [1.],\n",
       "        [0.],\n",
       "        [0.],\n",
       "        [1.],\n",
       "        [1.],\n",
       "        [0.],\n",
       "        [0.],\n",
       "        [1.],\n",
       "        [0.],\n",
       "        [1.],\n",
       "        [0.],\n",
       "        [1.],\n",
       "        [0.],\n",
       "        [1.],\n",
       "        [1.],\n",
       "        [1.],\n",
       "        [1.],\n",
       "        [0.],\n",
       "        [0.],\n",
       "        [1.],\n",
       "        [0.],\n",
       "        [1.],\n",
       "        [0.],\n",
       "        [0.],\n",
       "        [0.],\n",
       "        [0.],\n",
       "        [0.],\n",
       "        [1.],\n",
       "        [1.],\n",
       "        [1.],\n",
       "        [1.],\n",
       "        [1.],\n",
       "        [0.],\n",
       "        [1.],\n",
       "        [1.],\n",
       "        [1.],\n",
       "        [0.],\n",
       "        [0.],\n",
       "        [1.],\n",
       "        [1.],\n",
       "        [0.],\n",
       "        [1.],\n",
       "        [0.],\n",
       "        [0.],\n",
       "        [0.],\n",
       "        [1.],\n",
       "        [0.],\n",
       "        [1.],\n",
       "        [0.],\n",
       "        [1.],\n",
       "        [0.],\n",
       "        [0.],\n",
       "        [1.],\n",
       "        [1.],\n",
       "        [1.],\n",
       "        [1.],\n",
       "        [0.],\n",
       "        [1.],\n",
       "        [0.],\n",
       "        [0.],\n",
       "        [0.],\n",
       "        [0.],\n",
       "        [0.],\n",
       "        [1.],\n",
       "        [1.],\n",
       "        [1.],\n",
       "        [1.],\n",
       "        [0.],\n",
       "        [0.],\n",
       "        [0.],\n",
       "        [0.],\n",
       "        [0.],\n",
       "        [0.],\n",
       "        [0.],\n",
       "        [1.],\n",
       "        [1.],\n",
       "        [0.],\n",
       "        [0.],\n",
       "        [0.],\n",
       "        [0.],\n",
       "        [1.],\n",
       "        [1.],\n",
       "        [1.],\n",
       "        [1.],\n",
       "        [1.],\n",
       "        [1.],\n",
       "        [0.],\n",
       "        [1.],\n",
       "        [1.],\n",
       "        [1.],\n",
       "        [1.],\n",
       "        [0.],\n",
       "        [0.],\n",
       "        [0.],\n",
       "        [1.],\n",
       "        [0.],\n",
       "        [0.],\n",
       "        [0.],\n",
       "        [0.],\n",
       "        [0.],\n",
       "        [1.],\n",
       "        [0.],\n",
       "        [0.],\n",
       "        [1.],\n",
       "        [0.],\n",
       "        [0.],\n",
       "        [0.],\n",
       "        [1.],\n",
       "        [0.],\n",
       "        [1.],\n",
       "        [1.],\n",
       "        [1.],\n",
       "        [0.],\n",
       "        [1.],\n",
       "        [0.],\n",
       "        [0.],\n",
       "        [1.],\n",
       "        [0.],\n",
       "        [1.],\n",
       "        [0.],\n",
       "        [0.],\n",
       "        [1.],\n",
       "        [1.],\n",
       "        [1.],\n",
       "        [1.],\n",
       "        [0.],\n",
       "        [0.],\n",
       "        [0.],\n",
       "        [1.],\n",
       "        [0.],\n",
       "        [0.],\n",
       "        [0.],\n",
       "        [0.],\n",
       "        [0.],\n",
       "        [1.],\n",
       "        [1.],\n",
       "        [1.],\n",
       "        [0.],\n",
       "        [0.],\n",
       "        [0.],\n",
       "        [1.],\n",
       "        [0.],\n",
       "        [1.],\n",
       "        [0.],\n",
       "        [0.],\n",
       "        [1.],\n",
       "        [0.],\n",
       "        [1.],\n",
       "        [0.],\n",
       "        [1.],\n",
       "        [1.],\n",
       "        [1.],\n",
       "        [1.],\n",
       "        [0.],\n",
       "        [1.],\n",
       "        [1.],\n",
       "        [1.],\n",
       "        [1.],\n",
       "        [1.],\n",
       "        [1.],\n",
       "        [1.],\n",
       "        [1.],\n",
       "        [0.],\n",
       "        [0.],\n",
       "        [1.],\n",
       "        [1.],\n",
       "        [0.],\n",
       "        [1.],\n",
       "        [0.],\n",
       "        [1.],\n",
       "        [0.],\n",
       "        [0.],\n",
       "        [1.],\n",
       "        [0.],\n",
       "        [0.],\n",
       "        [1.],\n",
       "        [0.],\n",
       "        [1.],\n",
       "        [1.],\n",
       "        [0.],\n",
       "        [1.],\n",
       "        [1.],\n",
       "        [0.],\n",
       "        [1.],\n",
       "        [1.],\n",
       "        [1.],\n",
       "        [1.],\n",
       "        [1.],\n",
       "        [1.],\n",
       "        [1.],\n",
       "        [0.],\n",
       "        [0.],\n",
       "        [0.],\n",
       "        [1.],\n",
       "        [0.],\n",
       "        [0.],\n",
       "        [1.],\n",
       "        [0.],\n",
       "        [1.],\n",
       "        [1.],\n",
       "        [0.],\n",
       "        [0.],\n",
       "        [1.],\n",
       "        [0.],\n",
       "        [0.],\n",
       "        [1.],\n",
       "        [0.],\n",
       "        [0.],\n",
       "        [1.],\n",
       "        [0.],\n",
       "        [0.],\n",
       "        [0.],\n",
       "        [1.],\n",
       "        [0.],\n",
       "        [1.],\n",
       "        [1.],\n",
       "        [1.],\n",
       "        [1.],\n",
       "        [1.],\n",
       "        [1.],\n",
       "        [1.],\n",
       "        [0.],\n",
       "        [0.],\n",
       "        [1.],\n",
       "        [1.],\n",
       "        [0.],\n",
       "        [0.],\n",
       "        [1.],\n",
       "        [0.],\n",
       "        [1.],\n",
       "        [0.],\n",
       "        [0.],\n",
       "        [1.],\n",
       "        [1.],\n",
       "        [1.],\n",
       "        [0.],\n",
       "        [1.],\n",
       "        [0.],\n",
       "        [1.],\n",
       "        [0.],\n",
       "        [1.],\n",
       "        [1.],\n",
       "        [1.],\n",
       "        [0.],\n",
       "        [1.],\n",
       "        [0.],\n",
       "        [0.],\n",
       "        [0.],\n",
       "        [1.],\n",
       "        [1.],\n",
       "        [1.],\n",
       "        [1.],\n",
       "        [1.],\n",
       "        [1.],\n",
       "        [0.],\n",
       "        [1.],\n",
       "        [1.],\n",
       "        [1.],\n",
       "        [1.],\n",
       "        [1.],\n",
       "        [1.],\n",
       "        [1.],\n",
       "        [1.],\n",
       "        [1.],\n",
       "        [0.],\n",
       "        [0.],\n",
       "        [1.],\n",
       "        [0.],\n",
       "        [0.],\n",
       "        [0.],\n",
       "        [1.],\n",
       "        [1.],\n",
       "        [1.],\n",
       "        [0.],\n",
       "        [1.],\n",
       "        [0.],\n",
       "        [1.],\n",
       "        [1.],\n",
       "        [0.],\n",
       "        [0.],\n",
       "        [0.],\n",
       "        [1.],\n",
       "        [1.],\n",
       "        [0.],\n",
       "        [1.],\n",
       "        [1.],\n",
       "        [1.],\n",
       "        [0.],\n",
       "        [0.],\n",
       "        [0.],\n",
       "        [0.],\n",
       "        [1.],\n",
       "        [1.],\n",
       "        [0.],\n",
       "        [1.],\n",
       "        [1.],\n",
       "        [1.],\n",
       "        [1.],\n",
       "        [0.],\n",
       "        [1.],\n",
       "        [0.],\n",
       "        [0.],\n",
       "        [0.],\n",
       "        [0.],\n",
       "        [0.],\n",
       "        [1.],\n",
       "        [0.],\n",
       "        [1.],\n",
       "        [1.],\n",
       "        [1.],\n",
       "        [0.],\n",
       "        [1.],\n",
       "        [0.],\n",
       "        [0.],\n",
       "        [0.],\n",
       "        [1.],\n",
       "        [1.],\n",
       "        [0.],\n",
       "        [1.],\n",
       "        [1.],\n",
       "        [1.],\n",
       "        [0.],\n",
       "        [0.],\n",
       "        [1.],\n",
       "        [1.],\n",
       "        [0.],\n",
       "        [0.],\n",
       "        [1.],\n",
       "        [0.],\n",
       "        [0.],\n",
       "        [0.],\n",
       "        [0.],\n",
       "        [0.],\n",
       "        [1.],\n",
       "        [1.],\n",
       "        [1.],\n",
       "        [1.],\n",
       "        [1.],\n",
       "        [1.],\n",
       "        [0.],\n",
       "        [1.],\n",
       "        [1.],\n",
       "        [1.],\n",
       "        [1.],\n",
       "        [0.],\n",
       "        [0.],\n",
       "        [1.],\n",
       "        [0.],\n",
       "        [0.],\n",
       "        [1.],\n",
       "        [0.],\n",
       "        [0.],\n",
       "        [1.],\n",
       "        [1.],\n",
       "        [1.],\n",
       "        [1.],\n",
       "        [0.],\n",
       "        [0.],\n",
       "        [1.],\n",
       "        [1.]]),\n",
       " 'AUC': 0.5740274696423457,\n",
       " 'Training_threshold': 0.48547157597558627,\n",
       " 'Opt_threshold': 0.5067354433006533,\n",
       " 'Accuracy': 0.5469083155650319,\n",
       " 'Misclassification': 0.45309168443496806,\n",
       " 'Precision': 0.5443548387096774,\n",
       " 'Recall': 0.5756929637526652,\n",
       " 'Sensitivity': 0.5756929637526652,\n",
       " 'Specificity': 0.5181236673773987,\n",
       " 'F_score': 0.5595854922279793,\n",
       " 'Fall_out': 0.48187633262260127,\n",
       " 'Miss_rate': 0.42430703624733473}"
      ]
     },
     "execution_count": 10,
     "metadata": {},
     "output_type": "execute_result"
    }
   ],
   "source": [
    "results_dict_new"
   ]
  },
  {
   "cell_type": "markdown",
   "id": "bae1998e",
   "metadata": {},
   "source": [
    "## NMF"
   ]
  },
  {
   "cell_type": "code",
   "execution_count": 11,
   "id": "9403a438",
   "metadata": {},
   "outputs": [],
   "source": [
    "#plotting the dictionary elements(adjacency matrix) as networks and its corresponding degree rank plot\n",
    "#n: total number of components\n",
    "#weighted: if true, the degree rank plot is weighted\n",
    "def plot_DL_adj_deg(n, weighted, filename=None):\n",
    "    ncol = 8\n",
    "    nrow = int(np.ceil(n/2))\n",
    "    fig, axs = plt.subplots(ncols=ncol, nrows=nrow, figsize=(ncol*4, nrow*4))\n",
    "    \n",
    "    if weighted:\n",
    "        for i in range(n):\n",
    "            df_adj = pd.DataFrame(W_true.T[i].reshape(20, 20))\n",
    "            G = nx.Graph()\n",
    "            G = nx.from_pandas_adjacency(df_adj)\n",
    "            edges = G.edges()\n",
    "            weights = [80*G[u][v]['weight'] for u,v in edges]\n",
    "            nx.draw(G, ax=axs[(i//4)*2,i%4], width=weights)\n",
    "            axs[(i//4)*2,i%4].title.set_text('Synchronizing')\n",
    "            deg_seq = sorted((d for n, d in G.degree(weight='weight')), reverse=True)\n",
    "            axs[(i//4)*2+1,i%4].plot(deg_seq, \"b-\", marker=\"o\")\n",
    "\n",
    "        for i in range(n):\n",
    "            df_adj = pd.DataFrame(W_false.T[i].reshape(20, 20))\n",
    "            G = nx.Graph()\n",
    "            G = nx.from_pandas_adjacency(df_adj)\n",
    "            edges = G.edges()\n",
    "            weights = [80*G[u][v]['weight'] for u,v in edges]\n",
    "            nx.draw(G, ax=axs[(i//4)*2,i%4+4], width=weights)\n",
    "            axs[(i//4)*2,i%4+4].title.set_text('Non-Synchronizing')\n",
    "            deg_seq = sorted((d for n, d in G.degree(weight='weight')), reverse=True)\n",
    "            axs[(i//4)*2+1,i%4+4].plot(deg_seq, \"b-\", marker=\"o\")\n",
    "        if filename != None:\n",
    "            fig.savefig(filename)\n",
    "        plt.show()\n",
    "        \n",
    "    else:\n",
    "        for i in range(n):\n",
    "            df_adj = pd.DataFrame(W_true.T[i].reshape(20, 20))\n",
    "            G = nx.Graph()\n",
    "            G = nx.from_pandas_adjacency(df_adj)\n",
    "            edges = G.edges()\n",
    "            weights = [80*G[u][v]['weight'] for u,v in edges]\n",
    "            nx.draw(G, ax=axs[(i//4)*2,i%4], width=weights)\n",
    "            axs[(i//4)*2,i%4].title.set_text('Synchronizing')\n",
    "            deg_seq = sorted((d for n, d in G.degree()), reverse=True)\n",
    "            axs[(i//4)*2+1,i%4].plot(deg_seq, \"b-\", marker=\"o\")\n",
    "\n",
    "        for i in range(n):\n",
    "            df_adj = pd.DataFrame(W_false.T[i].reshape(20, 20))\n",
    "            G = nx.Graph()\n",
    "            G = nx.from_pandas_adjacency(df_adj)\n",
    "            edges = G.edges()\n",
    "            weights = [80*G[u][v]['weight'] for u,v in edges]\n",
    "            nx.draw(G, ax=axs[(i//4)*2,i%4+4], width=weights)\n",
    "            axs[(i//4)*2,i%4+4].title.set_text('Non-Synchronizing')\n",
    "            deg_seq = sorted((d for n, d in G.degree()), reverse=True)\n",
    "            axs[(i//4)*2+1,i%4+4].plot(deg_seq, \"b-\", marker=\"o\")\n",
    "        if filename != None:\n",
    "            fig.savefig(filename)\n",
    "        plt.show()"
   ]
  },
  {
   "cell_type": "code",
   "execution_count": 12,
   "id": "1d54f4ff",
   "metadata": {
    "scrolled": true
   },
   "outputs": [
    {
     "name": "stderr",
     "output_type": "stream",
     "text": [
      "  2%|▏         | 22/1000 [00:00<00:09, 104.84it/s]"
     ]
    },
    {
     "name": "stdout",
     "output_type": "stream",
     "text": [
      "iteration 0, reconstruction error 120006.529913\n",
      "iteration 10, reconstruction error 33747.443392\n",
      "iteration 20, reconstruction error 38344.078381\n"
     ]
    },
    {
     "name": "stderr",
     "output_type": "stream",
     "text": [
      "  5%|▍         | 46/1000 [00:00<00:08, 112.02it/s]"
     ]
    },
    {
     "name": "stdout",
     "output_type": "stream",
     "text": [
      "iteration 30, reconstruction error 38296.879727\n",
      "iteration 40, reconstruction error 36004.450391\n",
      "iteration 50, reconstruction error 31491.773836\n"
     ]
    },
    {
     "name": "stderr",
     "output_type": "stream",
     "text": [
      "  8%|▊         | 82/1000 [00:00<00:08, 113.05it/s]"
     ]
    },
    {
     "name": "stdout",
     "output_type": "stream",
     "text": [
      "iteration 60, reconstruction error 27732.481061\n",
      "iteration 70, reconstruction error 26730.884300\n",
      "iteration 80, reconstruction error 26289.196830\n"
     ]
    },
    {
     "name": "stderr",
     "output_type": "stream",
     "text": [
      " 11%|█         | 106/1000 [00:00<00:07, 113.57it/s]"
     ]
    },
    {
     "name": "stdout",
     "output_type": "stream",
     "text": [
      "iteration 90, reconstruction error 25929.254910\n",
      "iteration 100, reconstruction error 25609.865255\n",
      "iteration 110, reconstruction error 25335.892049\n"
     ]
    },
    {
     "name": "stderr",
     "output_type": "stream",
     "text": [
      " 14%|█▍        | 142/1000 [00:01<00:07, 108.27it/s]"
     ]
    },
    {
     "name": "stdout",
     "output_type": "stream",
     "text": [
      "iteration 120, reconstruction error 25122.558102\n",
      "iteration 130, reconstruction error 24968.550570\n",
      "iteration 140, reconstruction error 24856.545370\n"
     ]
    },
    {
     "name": "stderr",
     "output_type": "stream",
     "text": [
      " 16%|█▋        | 164/1000 [00:01<00:07, 108.18it/s]"
     ]
    },
    {
     "name": "stdout",
     "output_type": "stream",
     "text": [
      "iteration 150, reconstruction error 24771.634205\n",
      "iteration 160, reconstruction error 24703.764542\n",
      "iteration 170, reconstruction error 24646.213624\n"
     ]
    },
    {
     "name": "stderr",
     "output_type": "stream",
     "text": [
      " 20%|██        | 201/1000 [00:01<00:07, 113.96it/s]"
     ]
    },
    {
     "name": "stdout",
     "output_type": "stream",
     "text": [
      "iteration 180, reconstruction error 24595.502265\n",
      "iteration 190, reconstruction error 24549.665039\n",
      "iteration 200, reconstruction error 24507.190645\n"
     ]
    },
    {
     "name": "stderr",
     "output_type": "stream",
     "text": [
      " 22%|██▎       | 225/1000 [00:02<00:06, 112.60it/s]"
     ]
    },
    {
     "name": "stdout",
     "output_type": "stream",
     "text": [
      "iteration 210, reconstruction error 24467.499694\n",
      "iteration 220, reconstruction error 24430.248169\n",
      "iteration 230, reconstruction error 24395.404081\n"
     ]
    },
    {
     "name": "stderr",
     "output_type": "stream",
     "text": [
      " 26%|██▌       | 261/1000 [00:02<00:06, 112.75it/s]"
     ]
    },
    {
     "name": "stdout",
     "output_type": "stream",
     "text": [
      "iteration 240, reconstruction error 24363.123461\n",
      "iteration 250, reconstruction error 24333.403625\n",
      "iteration 260, reconstruction error 24306.180679\n"
     ]
    },
    {
     "name": "stderr",
     "output_type": "stream",
     "text": [
      " 28%|██▊       | 285/1000 [00:02<00:06, 113.61it/s]"
     ]
    },
    {
     "name": "stdout",
     "output_type": "stream",
     "text": [
      "iteration 270, reconstruction error 24281.531636\n",
      "iteration 280, reconstruction error 24259.442072\n",
      "iteration 290, reconstruction error 24239.857816\n"
     ]
    },
    {
     "name": "stderr",
     "output_type": "stream",
     "text": [
      " 32%|███▏      | 321/1000 [00:02<00:06, 111.28it/s]"
     ]
    },
    {
     "name": "stdout",
     "output_type": "stream",
     "text": [
      "iteration 300, reconstruction error 24222.632096\n",
      "iteration 310, reconstruction error 24207.559571\n",
      "iteration 320, reconstruction error 24194.459071\n"
     ]
    },
    {
     "name": "stderr",
     "output_type": "stream",
     "text": [
      " 34%|███▍      | 345/1000 [00:03<00:06, 104.90it/s]"
     ]
    },
    {
     "name": "stdout",
     "output_type": "stream",
     "text": [
      "iteration 330, reconstruction error 24183.171353\n",
      "iteration 340, reconstruction error 24173.434975\n"
     ]
    },
    {
     "name": "stderr",
     "output_type": "stream",
     "text": [
      " 37%|███▋      | 367/1000 [00:03<00:06, 101.63it/s]"
     ]
    },
    {
     "name": "stdout",
     "output_type": "stream",
     "text": [
      "iteration 350, reconstruction error 24165.015555\n",
      "iteration 360, reconstruction error 24157.726225\n",
      "iteration 370, reconstruction error 24151.393609\n"
     ]
    },
    {
     "name": "stderr",
     "output_type": "stream",
     "text": [
      " 40%|████      | 400/1000 [00:03<00:05, 101.54it/s]"
     ]
    },
    {
     "name": "stdout",
     "output_type": "stream",
     "text": [
      "iteration 380, reconstruction error 24145.875986\n",
      "iteration 390, reconstruction error 24141.045325\n",
      "iteration 400, reconstruction error 24136.799086\n"
     ]
    },
    {
     "name": "stderr",
     "output_type": "stream",
     "text": [
      " 42%|████▏     | 422/1000 [00:03<00:05, 105.03it/s]"
     ]
    },
    {
     "name": "stdout",
     "output_type": "stream",
     "text": [
      "iteration 410, reconstruction error 24133.037564\n",
      "iteration 420, reconstruction error 24129.687059\n",
      "iteration 430, reconstruction error 24126.689461\n"
     ]
    },
    {
     "name": "stderr",
     "output_type": "stream",
     "text": [
      " 46%|████▌     | 455/1000 [00:04<00:05, 104.98it/s]"
     ]
    },
    {
     "name": "stdout",
     "output_type": "stream",
     "text": [
      "iteration 440, reconstruction error 24123.968872\n",
      "iteration 450, reconstruction error 24121.465417\n",
      "iteration 460, reconstruction error 24119.134296\n"
     ]
    },
    {
     "name": "stderr",
     "output_type": "stream",
     "text": [
      " 49%|████▉     | 490/1000 [00:04<00:04, 111.96it/s]"
     ]
    },
    {
     "name": "stdout",
     "output_type": "stream",
     "text": [
      "iteration 470, reconstruction error 24116.937803\n",
      "iteration 480, reconstruction error 24114.855096\n",
      "iteration 490, reconstruction error 24112.862437\n"
     ]
    },
    {
     "name": "stderr",
     "output_type": "stream",
     "text": [
      " 51%|█████▏    | 514/1000 [00:04<00:04, 109.50it/s]"
     ]
    },
    {
     "name": "stdout",
     "output_type": "stream",
     "text": [
      "iteration 500, reconstruction error 24110.941937\n",
      "iteration 510, reconstruction error 24109.092889\n",
      "iteration 520, reconstruction error 24107.303956\n"
     ]
    },
    {
     "name": "stderr",
     "output_type": "stream",
     "text": [
      " 55%|█████▌    | 550/1000 [00:05<00:04, 105.31it/s]"
     ]
    },
    {
     "name": "stdout",
     "output_type": "stream",
     "text": [
      "iteration 530, reconstruction error 24105.561096\n",
      "iteration 540, reconstruction error 24103.855511\n"
     ]
    },
    {
     "name": "stderr",
     "output_type": "stream",
     "text": [
      "\r",
      " 56%|█████▌    | 561/1000 [00:05<00:04, 103.34it/s]"
     ]
    },
    {
     "name": "stdout",
     "output_type": "stream",
     "text": [
      "iteration 550, reconstruction error 24102.183729\n",
      "iteration 560, reconstruction error 24100.543172\n",
      "iteration 570, reconstruction error 24098.929239\n"
     ]
    },
    {
     "name": "stderr",
     "output_type": "stream",
     "text": [
      " 59%|█████▉    | 593/1000 [00:05<00:04, 98.46it/s] "
     ]
    },
    {
     "name": "stdout",
     "output_type": "stream",
     "text": [
      "iteration 580, reconstruction error 24097.341908\n",
      "iteration 590, reconstruction error 24095.784712\n"
     ]
    },
    {
     "name": "stderr",
     "output_type": "stream",
     "text": [
      " 62%|██████▏   | 615/1000 [00:05<00:03, 103.03it/s]"
     ]
    },
    {
     "name": "stdout",
     "output_type": "stream",
     "text": [
      "iteration 600, reconstruction error 24094.258866\n",
      "iteration 610, reconstruction error 24092.768512\n",
      "iteration 620, reconstruction error 24091.319018\n"
     ]
    },
    {
     "name": "stderr",
     "output_type": "stream",
     "text": [
      " 65%|██████▌   | 651/1000 [00:06<00:03, 111.25it/s]"
     ]
    },
    {
     "name": "stdout",
     "output_type": "stream",
     "text": [
      "iteration 630, reconstruction error 24089.913772\n",
      "iteration 640, reconstruction error 24088.558856\n",
      "iteration 650, reconstruction error 24087.255302\n"
     ]
    },
    {
     "name": "stderr",
     "output_type": "stream",
     "text": [
      " 68%|██████▊   | 675/1000 [00:06<00:02, 112.57it/s]"
     ]
    },
    {
     "name": "stdout",
     "output_type": "stream",
     "text": [
      "iteration 660, reconstruction error 24086.006266\n",
      "iteration 670, reconstruction error 24084.815222\n",
      "iteration 680, reconstruction error 24083.688087\n"
     ]
    },
    {
     "name": "stderr",
     "output_type": "stream",
     "text": [
      " 71%|███████   | 710/1000 [00:06<00:02, 103.11it/s]"
     ]
    },
    {
     "name": "stdout",
     "output_type": "stream",
     "text": [
      "iteration 690, reconstruction error 24082.626152\n",
      "iteration 700, reconstruction error 24081.629093\n"
     ]
    },
    {
     "name": "stderr",
     "output_type": "stream",
     "text": [
      "\r",
      " 72%|███████▏  | 722/1000 [00:06<00:02, 105.16it/s]"
     ]
    },
    {
     "name": "stdout",
     "output_type": "stream",
     "text": [
      "iteration 710, reconstruction error 24080.697882\n",
      "iteration 720, reconstruction error 24079.830999\n",
      "iteration 730, reconstruction error 24079.025619\n"
     ]
    },
    {
     "name": "stderr",
     "output_type": "stream",
     "text": [
      " 76%|███████▌  | 759/1000 [00:07<00:02, 111.37it/s]"
     ]
    },
    {
     "name": "stdout",
     "output_type": "stream",
     "text": [
      "iteration 740, reconstruction error 24078.278333\n",
      "iteration 750, reconstruction error 24077.588282\n",
      "iteration 760, reconstruction error 24076.949974\n"
     ]
    },
    {
     "name": "stderr",
     "output_type": "stream",
     "text": [
      " 78%|███████▊  | 783/1000 [00:07<00:01, 111.69it/s]"
     ]
    },
    {
     "name": "stdout",
     "output_type": "stream",
     "text": [
      "iteration 770, reconstruction error 24076.359258\n",
      "iteration 780, reconstruction error 24075.812636\n",
      "iteration 790, reconstruction error 24075.306244\n"
     ]
    },
    {
     "name": "stderr",
     "output_type": "stream",
     "text": [
      " 82%|████████▏ | 819/1000 [00:07<00:01, 111.03it/s]"
     ]
    },
    {
     "name": "stdout",
     "output_type": "stream",
     "text": [
      "iteration 800, reconstruction error 24074.836681\n",
      "iteration 810, reconstruction error 24074.401202\n",
      "iteration 820, reconstruction error 24073.996589\n"
     ]
    },
    {
     "name": "stderr",
     "output_type": "stream",
     "text": [
      " 84%|████████▍ | 843/1000 [00:07<00:01, 110.17it/s]"
     ]
    },
    {
     "name": "stdout",
     "output_type": "stream",
     "text": [
      "iteration 830, reconstruction error 24073.620221\n",
      "iteration 840, reconstruction error 24073.269599\n",
      "iteration 850, reconstruction error 24072.942595\n"
     ]
    },
    {
     "name": "stderr",
     "output_type": "stream",
     "text": [
      " 88%|████████▊ | 879/1000 [00:08<00:01, 110.70it/s]"
     ]
    },
    {
     "name": "stdout",
     "output_type": "stream",
     "text": [
      "iteration 860, reconstruction error 24072.642286\n",
      "iteration 870, reconstruction error 24072.369779\n",
      "iteration 880, reconstruction error 24072.119794\n"
     ]
    },
    {
     "name": "stderr",
     "output_type": "stream",
     "text": [
      " 90%|█████████ | 902/1000 [00:08<00:00, 106.84it/s]"
     ]
    },
    {
     "name": "stdout",
     "output_type": "stream",
     "text": [
      "iteration 890, reconstruction error 24071.888903\n",
      "iteration 900, reconstruction error 24071.674310\n",
      "iteration 910, reconstruction error 24071.473926\n"
     ]
    },
    {
     "name": "stderr",
     "output_type": "stream",
     "text": [
      " 94%|█████████▎| 936/1000 [00:08<00:00, 110.15it/s]"
     ]
    },
    {
     "name": "stdout",
     "output_type": "stream",
     "text": [
      "iteration 920, reconstruction error 24071.286309\n",
      "iteration 930, reconstruction error 24071.110200\n",
      "iteration 940, reconstruction error 24070.944453\n"
     ]
    },
    {
     "name": "stderr",
     "output_type": "stream",
     "text": [
      " 97%|█████████▋| 972/1000 [00:08<00:00, 110.97it/s]"
     ]
    },
    {
     "name": "stdout",
     "output_type": "stream",
     "text": [
      "iteration 950, reconstruction error 24070.788114\n",
      "iteration 960, reconstruction error 24070.640379\n",
      "iteration 970, reconstruction error 24070.500504\n"
     ]
    },
    {
     "name": "stderr",
     "output_type": "stream",
     "text": [
      "100%|██████████| 1000/1000 [00:09<00:00, 108.77it/s]\n",
      "  0%|          | 0/1000 [00:00<?, ?it/s]"
     ]
    },
    {
     "name": "stdout",
     "output_type": "stream",
     "text": [
      "iteration 980, reconstruction error 24070.367877\n",
      "iteration 990, reconstruction error 24070.241970\n"
     ]
    },
    {
     "name": "stderr",
     "output_type": "stream",
     "text": [
      "  1%|          | 7/1000 [00:00<00:30, 32.97it/s]"
     ]
    },
    {
     "name": "stdout",
     "output_type": "stream",
     "text": [
      "iteration 0, reconstruction error 395291.875322\n"
     ]
    },
    {
     "name": "stderr",
     "output_type": "stream",
     "text": [
      "  2%|▏         | 15/1000 [00:00<00:29, 33.66it/s]"
     ]
    },
    {
     "name": "stdout",
     "output_type": "stream",
     "text": [
      "iteration 10, reconstruction error 112720.159604\n"
     ]
    },
    {
     "name": "stderr",
     "output_type": "stream",
     "text": [
      "  3%|▎         | 27/1000 [00:00<00:28, 33.72it/s]"
     ]
    },
    {
     "name": "stdout",
     "output_type": "stream",
     "text": [
      "iteration 20, reconstruction error 120702.090081\n"
     ]
    },
    {
     "name": "stderr",
     "output_type": "stream",
     "text": [
      "  4%|▎         | 35/1000 [00:01<00:28, 33.50it/s]"
     ]
    },
    {
     "name": "stdout",
     "output_type": "stream",
     "text": [
      "iteration 30, reconstruction error 107711.756304\n"
     ]
    },
    {
     "name": "stderr",
     "output_type": "stream",
     "text": [
      "  5%|▍         | 47/1000 [00:01<00:28, 33.96it/s]"
     ]
    },
    {
     "name": "stdout",
     "output_type": "stream",
     "text": [
      "iteration 40, reconstruction error 92011.298676\n"
     ]
    },
    {
     "name": "stderr",
     "output_type": "stream",
     "text": [
      "  6%|▌         | 55/1000 [00:01<00:27, 34.33it/s]"
     ]
    },
    {
     "name": "stdout",
     "output_type": "stream",
     "text": [
      "iteration 50, reconstruction error 86891.317908\n"
     ]
    },
    {
     "name": "stderr",
     "output_type": "stream",
     "text": [
      "  7%|▋         | 67/1000 [00:01<00:26, 35.51it/s]"
     ]
    },
    {
     "name": "stdout",
     "output_type": "stream",
     "text": [
      "iteration 60, reconstruction error 84916.029070\n"
     ]
    },
    {
     "name": "stderr",
     "output_type": "stream",
     "text": [
      "  8%|▊         | 75/1000 [00:02<00:26, 34.51it/s]"
     ]
    },
    {
     "name": "stdout",
     "output_type": "stream",
     "text": [
      "iteration 70, reconstruction error 83380.741163\n"
     ]
    },
    {
     "name": "stderr",
     "output_type": "stream",
     "text": [
      "  9%|▊         | 87/1000 [00:02<00:26, 34.48it/s]"
     ]
    },
    {
     "name": "stdout",
     "output_type": "stream",
     "text": [
      "iteration 80, reconstruction error 82380.674480\n"
     ]
    },
    {
     "name": "stderr",
     "output_type": "stream",
     "text": [
      " 10%|▉         | 95/1000 [00:02<00:26, 34.22it/s]"
     ]
    },
    {
     "name": "stdout",
     "output_type": "stream",
     "text": [
      "iteration 90, reconstruction error 81659.459626\n"
     ]
    },
    {
     "name": "stderr",
     "output_type": "stream",
     "text": [
      " 11%|█         | 107/1000 [00:03<00:26, 33.90it/s]"
     ]
    },
    {
     "name": "stdout",
     "output_type": "stream",
     "text": [
      "iteration 100, reconstruction error 81019.436379\n"
     ]
    },
    {
     "name": "stderr",
     "output_type": "stream",
     "text": [
      " 12%|█▏        | 115/1000 [00:03<00:26, 33.31it/s]"
     ]
    },
    {
     "name": "stdout",
     "output_type": "stream",
     "text": [
      "iteration 110, reconstruction error 80395.236707\n"
     ]
    },
    {
     "name": "stderr",
     "output_type": "stream",
     "text": [
      " 13%|█▎        | 127/1000 [00:03<00:25, 34.37it/s]"
     ]
    },
    {
     "name": "stdout",
     "output_type": "stream",
     "text": [
      "iteration 120, reconstruction error 79811.188074\n"
     ]
    },
    {
     "name": "stderr",
     "output_type": "stream",
     "text": [
      " 14%|█▎        | 135/1000 [00:04<00:25, 33.85it/s]"
     ]
    },
    {
     "name": "stdout",
     "output_type": "stream",
     "text": [
      "iteration 130, reconstruction error 79300.708723\n"
     ]
    },
    {
     "name": "stderr",
     "output_type": "stream",
     "text": [
      " 15%|█▍        | 147/1000 [00:04<00:24, 34.19it/s]"
     ]
    },
    {
     "name": "stdout",
     "output_type": "stream",
     "text": [
      "iteration 140, reconstruction error 78865.543597\n"
     ]
    },
    {
     "name": "stderr",
     "output_type": "stream",
     "text": [
      " 16%|█▌        | 155/1000 [00:04<00:24, 34.47it/s]"
     ]
    },
    {
     "name": "stdout",
     "output_type": "stream",
     "text": [
      "iteration 150, reconstruction error 78500.106301\n"
     ]
    },
    {
     "name": "stderr",
     "output_type": "stream",
     "text": [
      " 17%|█▋        | 167/1000 [00:04<00:23, 34.77it/s]"
     ]
    },
    {
     "name": "stdout",
     "output_type": "stream",
     "text": [
      "iteration 160, reconstruction error 78193.716542\n"
     ]
    },
    {
     "name": "stderr",
     "output_type": "stream",
     "text": [
      " 18%|█▊        | 175/1000 [00:05<00:24, 34.07it/s]"
     ]
    },
    {
     "name": "stdout",
     "output_type": "stream",
     "text": [
      "iteration 170, reconstruction error 77931.396233\n"
     ]
    },
    {
     "name": "stderr",
     "output_type": "stream",
     "text": [
      " 19%|█▊        | 187/1000 [00:05<00:23, 34.99it/s]"
     ]
    },
    {
     "name": "stdout",
     "output_type": "stream",
     "text": [
      "iteration 180, reconstruction error 77704.792548\n"
     ]
    },
    {
     "name": "stderr",
     "output_type": "stream",
     "text": [
      " 20%|█▉        | 195/1000 [00:05<00:23, 34.04it/s]"
     ]
    },
    {
     "name": "stdout",
     "output_type": "stream",
     "text": [
      "iteration 190, reconstruction error 77508.239496\n"
     ]
    },
    {
     "name": "stderr",
     "output_type": "stream",
     "text": [
      " 21%|██        | 207/1000 [00:06<00:23, 34.39it/s]"
     ]
    },
    {
     "name": "stdout",
     "output_type": "stream",
     "text": [
      "iteration 200, reconstruction error 77336.825160\n"
     ]
    },
    {
     "name": "stderr",
     "output_type": "stream",
     "text": [
      " 22%|██▏       | 215/1000 [00:06<00:23, 33.50it/s]"
     ]
    },
    {
     "name": "stdout",
     "output_type": "stream",
     "text": [
      "iteration 210, reconstruction error 77187.051859\n"
     ]
    },
    {
     "name": "stderr",
     "output_type": "stream",
     "text": [
      " 23%|██▎       | 227/1000 [00:06<00:22, 35.02it/s]"
     ]
    },
    {
     "name": "stdout",
     "output_type": "stream",
     "text": [
      "iteration 220, reconstruction error 77056.040917\n"
     ]
    },
    {
     "name": "stderr",
     "output_type": "stream",
     "text": [
      " 24%|██▎       | 235/1000 [00:06<00:22, 34.76it/s]"
     ]
    },
    {
     "name": "stdout",
     "output_type": "stream",
     "text": [
      "iteration 230, reconstruction error 76940.806839\n"
     ]
    },
    {
     "name": "stderr",
     "output_type": "stream",
     "text": [
      " 25%|██▍       | 247/1000 [00:07<00:21, 35.40it/s]"
     ]
    },
    {
     "name": "stdout",
     "output_type": "stream",
     "text": [
      "iteration 240, reconstruction error 76838.653701\n"
     ]
    },
    {
     "name": "stderr",
     "output_type": "stream",
     "text": [
      " 26%|██▌       | 255/1000 [00:07<00:21, 35.04it/s]"
     ]
    },
    {
     "name": "stdout",
     "output_type": "stream",
     "text": [
      "iteration 250, reconstruction error 76747.710018\n"
     ]
    },
    {
     "name": "stderr",
     "output_type": "stream",
     "text": [
      " 27%|██▋       | 267/1000 [00:07<00:20, 35.55it/s]"
     ]
    },
    {
     "name": "stdout",
     "output_type": "stream",
     "text": [
      "iteration 260, reconstruction error 76668.012487\n"
     ]
    },
    {
     "name": "stderr",
     "output_type": "stream",
     "text": [
      " 28%|██▊       | 275/1000 [00:08<00:20, 35.21it/s]"
     ]
    },
    {
     "name": "stdout",
     "output_type": "stream",
     "text": [
      "iteration 270, reconstruction error 76599.454323\n"
     ]
    },
    {
     "name": "stderr",
     "output_type": "stream",
     "text": [
      " 29%|██▊       | 287/1000 [00:08<00:20, 35.51it/s]"
     ]
    },
    {
     "name": "stdout",
     "output_type": "stream",
     "text": [
      "iteration 280, reconstruction error 76540.980131\n"
     ]
    },
    {
     "name": "stderr",
     "output_type": "stream",
     "text": [
      " 30%|██▉       | 295/1000 [00:08<00:20, 35.08it/s]"
     ]
    },
    {
     "name": "stdout",
     "output_type": "stream",
     "text": [
      "iteration 290, reconstruction error 76490.890941\n"
     ]
    },
    {
     "name": "stderr",
     "output_type": "stream",
     "text": [
      " 31%|███       | 307/1000 [00:08<00:19, 35.31it/s]"
     ]
    },
    {
     "name": "stdout",
     "output_type": "stream",
     "text": [
      "iteration 300, reconstruction error 76447.613496\n"
     ]
    },
    {
     "name": "stderr",
     "output_type": "stream",
     "text": [
      " 32%|███▏      | 315/1000 [00:09<00:19, 35.07it/s]"
     ]
    },
    {
     "name": "stdout",
     "output_type": "stream",
     "text": [
      "iteration 310, reconstruction error 76409.982551\n"
     ]
    },
    {
     "name": "stderr",
     "output_type": "stream",
     "text": [
      " 33%|███▎      | 327/1000 [00:09<00:19, 34.70it/s]"
     ]
    },
    {
     "name": "stdout",
     "output_type": "stream",
     "text": [
      "iteration 320, reconstruction error 76377.039879\n"
     ]
    },
    {
     "name": "stderr",
     "output_type": "stream",
     "text": [
      " 34%|███▎      | 335/1000 [00:09<00:19, 33.66it/s]"
     ]
    },
    {
     "name": "stdout",
     "output_type": "stream",
     "text": [
      "iteration 330, reconstruction error 76347.678596\n"
     ]
    },
    {
     "name": "stderr",
     "output_type": "stream",
     "text": [
      " 35%|███▍      | 347/1000 [00:10<00:20, 32.10it/s]"
     ]
    },
    {
     "name": "stdout",
     "output_type": "stream",
     "text": [
      "iteration 340, reconstruction error 76321.305441\n"
     ]
    },
    {
     "name": "stderr",
     "output_type": "stream",
     "text": [
      " 36%|███▌      | 355/1000 [00:10<00:19, 32.36it/s]"
     ]
    },
    {
     "name": "stdout",
     "output_type": "stream",
     "text": [
      "iteration 350, reconstruction error 76297.691002\n"
     ]
    },
    {
     "name": "stderr",
     "output_type": "stream",
     "text": [
      " 37%|███▋      | 367/1000 [00:10<00:19, 32.71it/s]"
     ]
    },
    {
     "name": "stdout",
     "output_type": "stream",
     "text": [
      "iteration 360, reconstruction error 76276.536588\n"
     ]
    },
    {
     "name": "stderr",
     "output_type": "stream",
     "text": [
      " 38%|███▊      | 375/1000 [00:11<00:19, 32.87it/s]"
     ]
    },
    {
     "name": "stdout",
     "output_type": "stream",
     "text": [
      "iteration 370, reconstruction error 76257.588850\n"
     ]
    },
    {
     "name": "stderr",
     "output_type": "stream",
     "text": [
      " 39%|███▊      | 387/1000 [00:11<00:18, 33.06it/s]"
     ]
    },
    {
     "name": "stdout",
     "output_type": "stream",
     "text": [
      "iteration 380, reconstruction error 76240.658362\n"
     ]
    },
    {
     "name": "stderr",
     "output_type": "stream",
     "text": [
      " 40%|███▉      | 395/1000 [00:11<00:20, 29.70it/s]"
     ]
    },
    {
     "name": "stdout",
     "output_type": "stream",
     "text": [
      "iteration 390, reconstruction error 76225.586505\n"
     ]
    },
    {
     "name": "stderr",
     "output_type": "stream",
     "text": [
      " 41%|████      | 407/1000 [00:12<00:17, 33.35it/s]"
     ]
    },
    {
     "name": "stdout",
     "output_type": "stream",
     "text": [
      "iteration 400, reconstruction error 76212.230683\n"
     ]
    },
    {
     "name": "stderr",
     "output_type": "stream",
     "text": [
      " 42%|████▏     | 415/1000 [00:12<00:17, 33.92it/s]"
     ]
    },
    {
     "name": "stdout",
     "output_type": "stream",
     "text": [
      "iteration 410, reconstruction error 76200.398989\n"
     ]
    },
    {
     "name": "stderr",
     "output_type": "stream",
     "text": [
      " 43%|████▎     | 427/1000 [00:12<00:16, 34.99it/s]"
     ]
    },
    {
     "name": "stdout",
     "output_type": "stream",
     "text": [
      "iteration 420, reconstruction error 76189.939378\n"
     ]
    },
    {
     "name": "stderr",
     "output_type": "stream",
     "text": [
      " 44%|████▎     | 435/1000 [00:12<00:16, 34.89it/s]"
     ]
    },
    {
     "name": "stdout",
     "output_type": "stream",
     "text": [
      "iteration 430, reconstruction error 76180.711748\n"
     ]
    },
    {
     "name": "stderr",
     "output_type": "stream",
     "text": [
      " 45%|████▍     | 447/1000 [00:13<00:15, 35.46it/s]"
     ]
    },
    {
     "name": "stdout",
     "output_type": "stream",
     "text": [
      "iteration 440, reconstruction error 76172.584569\n"
     ]
    },
    {
     "name": "stderr",
     "output_type": "stream",
     "text": [
      " 46%|████▌     | 455/1000 [00:13<00:15, 34.98it/s]"
     ]
    },
    {
     "name": "stdout",
     "output_type": "stream",
     "text": [
      "iteration 450, reconstruction error 76165.413977\n"
     ]
    },
    {
     "name": "stderr",
     "output_type": "stream",
     "text": [
      " 47%|████▋     | 467/1000 [00:13<00:16, 32.11it/s]"
     ]
    },
    {
     "name": "stdout",
     "output_type": "stream",
     "text": [
      "iteration 460, reconstruction error 76159.076363\n"
     ]
    },
    {
     "name": "stderr",
     "output_type": "stream",
     "text": [
      " 48%|████▊     | 475/1000 [00:14<00:16, 31.32it/s]"
     ]
    },
    {
     "name": "stdout",
     "output_type": "stream",
     "text": [
      "iteration 470, reconstruction error 76153.468491\n"
     ]
    },
    {
     "name": "stderr",
     "output_type": "stream",
     "text": [
      " 49%|████▊     | 487/1000 [00:14<00:15, 32.20it/s]"
     ]
    },
    {
     "name": "stdout",
     "output_type": "stream",
     "text": [
      "iteration 480, reconstruction error 76148.474878\n"
     ]
    },
    {
     "name": "stderr",
     "output_type": "stream",
     "text": [
      " 50%|████▉     | 495/1000 [00:14<00:15, 33.46it/s]"
     ]
    },
    {
     "name": "stdout",
     "output_type": "stream",
     "text": [
      "iteration 490, reconstruction error 76144.013682\n"
     ]
    },
    {
     "name": "stderr",
     "output_type": "stream",
     "text": [
      " 51%|█████     | 507/1000 [00:15<00:14, 34.24it/s]"
     ]
    },
    {
     "name": "stdout",
     "output_type": "stream",
     "text": [
      "iteration 500, reconstruction error 76140.007873\n"
     ]
    },
    {
     "name": "stderr",
     "output_type": "stream",
     "text": [
      " 52%|█████▏    | 515/1000 [00:15<00:14, 33.41it/s]"
     ]
    },
    {
     "name": "stdout",
     "output_type": "stream",
     "text": [
      "iteration 510, reconstruction error 76136.390236\n"
     ]
    },
    {
     "name": "stderr",
     "output_type": "stream",
     "text": [
      " 53%|█████▎    | 527/1000 [00:15<00:15, 31.44it/s]"
     ]
    },
    {
     "name": "stdout",
     "output_type": "stream",
     "text": [
      "iteration 520, reconstruction error 76133.091839\n"
     ]
    },
    {
     "name": "stderr",
     "output_type": "stream",
     "text": [
      " 54%|█████▎    | 535/1000 [00:15<00:14, 31.10it/s]"
     ]
    },
    {
     "name": "stdout",
     "output_type": "stream",
     "text": [
      "iteration 530, reconstruction error 76130.055830\n"
     ]
    },
    {
     "name": "stderr",
     "output_type": "stream",
     "text": [
      " 55%|█████▍    | 547/1000 [00:16<00:14, 31.83it/s]"
     ]
    },
    {
     "name": "stdout",
     "output_type": "stream",
     "text": [
      "iteration 540, reconstruction error 76127.228943\n"
     ]
    },
    {
     "name": "stderr",
     "output_type": "stream",
     "text": [
      " 56%|█████▌    | 555/1000 [00:16<00:14, 31.63it/s]"
     ]
    },
    {
     "name": "stdout",
     "output_type": "stream",
     "text": [
      "iteration 550, reconstruction error 76124.570036\n"
     ]
    },
    {
     "name": "stderr",
     "output_type": "stream",
     "text": [
      " 57%|█████▋    | 567/1000 [00:16<00:13, 32.95it/s]"
     ]
    },
    {
     "name": "stdout",
     "output_type": "stream",
     "text": [
      "iteration 560, reconstruction error 76122.041487\n"
     ]
    },
    {
     "name": "stderr",
     "output_type": "stream",
     "text": [
      " 57%|█████▊    | 575/1000 [00:17<00:12, 33.41it/s]"
     ]
    },
    {
     "name": "stdout",
     "output_type": "stream",
     "text": [
      "iteration 570, reconstruction error 76119.614210\n"
     ]
    },
    {
     "name": "stderr",
     "output_type": "stream",
     "text": [
      " 59%|█████▊    | 587/1000 [00:17<00:11, 34.73it/s]"
     ]
    },
    {
     "name": "stdout",
     "output_type": "stream",
     "text": [
      "iteration 580, reconstruction error 76117.259776\n"
     ]
    },
    {
     "name": "stderr",
     "output_type": "stream",
     "text": [
      " 60%|█████▉    | 595/1000 [00:17<00:11, 34.66it/s]"
     ]
    },
    {
     "name": "stdout",
     "output_type": "stream",
     "text": [
      "iteration 590, reconstruction error 76114.958140\n"
     ]
    },
    {
     "name": "stderr",
     "output_type": "stream",
     "text": [
      " 61%|██████    | 607/1000 [00:18<00:11, 35.35it/s]"
     ]
    },
    {
     "name": "stdout",
     "output_type": "stream",
     "text": [
      "iteration 600, reconstruction error 76112.690169\n"
     ]
    },
    {
     "name": "stderr",
     "output_type": "stream",
     "text": [
      " 62%|██████▏   | 615/1000 [00:18<00:11, 34.98it/s]"
     ]
    },
    {
     "name": "stdout",
     "output_type": "stream",
     "text": [
      "iteration 610, reconstruction error 76110.439516\n"
     ]
    },
    {
     "name": "stderr",
     "output_type": "stream",
     "text": [
      " 63%|██████▎   | 627/1000 [00:18<00:10, 35.36it/s]"
     ]
    },
    {
     "name": "stdout",
     "output_type": "stream",
     "text": [
      "iteration 620, reconstruction error 76108.194953\n"
     ]
    },
    {
     "name": "stderr",
     "output_type": "stream",
     "text": [
      " 64%|██████▎   | 635/1000 [00:18<00:10, 34.88it/s]"
     ]
    },
    {
     "name": "stdout",
     "output_type": "stream",
     "text": [
      "iteration 630, reconstruction error 76105.948276\n"
     ]
    },
    {
     "name": "stderr",
     "output_type": "stream",
     "text": [
      " 65%|██████▍   | 647/1000 [00:19<00:10, 35.09it/s]"
     ]
    },
    {
     "name": "stdout",
     "output_type": "stream",
     "text": [
      "iteration 640, reconstruction error 76103.692716\n"
     ]
    },
    {
     "name": "stderr",
     "output_type": "stream",
     "text": [
      " 66%|██████▌   | 655/1000 [00:19<00:09, 34.95it/s]"
     ]
    },
    {
     "name": "stdout",
     "output_type": "stream",
     "text": [
      "iteration 650, reconstruction error 76101.421140\n"
     ]
    },
    {
     "name": "stderr",
     "output_type": "stream",
     "text": [
      " 67%|██████▋   | 667/1000 [00:19<00:09, 35.28it/s]"
     ]
    },
    {
     "name": "stdout",
     "output_type": "stream",
     "text": [
      "iteration 660, reconstruction error 76099.124950\n"
     ]
    },
    {
     "name": "stderr",
     "output_type": "stream",
     "text": [
      " 68%|██████▊   | 675/1000 [00:20<00:09, 35.10it/s]"
     ]
    },
    {
     "name": "stdout",
     "output_type": "stream",
     "text": [
      "iteration 670, reconstruction error 76096.798737\n"
     ]
    },
    {
     "name": "stderr",
     "output_type": "stream",
     "text": [
      " 69%|██████▊   | 687/1000 [00:20<00:08, 35.37it/s]"
     ]
    },
    {
     "name": "stdout",
     "output_type": "stream",
     "text": [
      "iteration 680, reconstruction error 76094.437855\n"
     ]
    },
    {
     "name": "stderr",
     "output_type": "stream",
     "text": [
      " 70%|██████▉   | 695/1000 [00:20<00:08, 34.95it/s]"
     ]
    },
    {
     "name": "stdout",
     "output_type": "stream",
     "text": [
      "iteration 690, reconstruction error 76092.037858\n"
     ]
    },
    {
     "name": "stderr",
     "output_type": "stream",
     "text": [
      " 71%|███████   | 707/1000 [00:20<00:08, 35.08it/s]"
     ]
    },
    {
     "name": "stdout",
     "output_type": "stream",
     "text": [
      "iteration 700, reconstruction error 76089.594266\n"
     ]
    },
    {
     "name": "stderr",
     "output_type": "stream",
     "text": [
      " 72%|███████▏  | 715/1000 [00:21<00:08, 34.89it/s]"
     ]
    },
    {
     "name": "stdout",
     "output_type": "stream",
     "text": [
      "iteration 710, reconstruction error 76087.105270\n"
     ]
    },
    {
     "name": "stderr",
     "output_type": "stream",
     "text": [
      " 73%|███████▎  | 727/1000 [00:21<00:07, 35.22it/s]"
     ]
    },
    {
     "name": "stdout",
     "output_type": "stream",
     "text": [
      "iteration 720, reconstruction error 76084.600285\n"
     ]
    },
    {
     "name": "stderr",
     "output_type": "stream",
     "text": [
      " 74%|███████▎  | 735/1000 [00:21<00:07, 34.69it/s]"
     ]
    },
    {
     "name": "stdout",
     "output_type": "stream",
     "text": [
      "iteration 730, reconstruction error 76082.081394\n"
     ]
    },
    {
     "name": "stderr",
     "output_type": "stream",
     "text": [
      " 75%|███████▍  | 747/1000 [00:22<00:07, 34.27it/s]"
     ]
    },
    {
     "name": "stdout",
     "output_type": "stream",
     "text": [
      "iteration 740, reconstruction error 76079.546400\n"
     ]
    },
    {
     "name": "stderr",
     "output_type": "stream",
     "text": [
      " 76%|███████▌  | 755/1000 [00:22<00:07, 33.47it/s]"
     ]
    },
    {
     "name": "stdout",
     "output_type": "stream",
     "text": [
      "iteration 750, reconstruction error 76076.993074\n"
     ]
    },
    {
     "name": "stderr",
     "output_type": "stream",
     "text": [
      " 77%|███████▋  | 767/1000 [00:22<00:06, 33.59it/s]"
     ]
    },
    {
     "name": "stdout",
     "output_type": "stream",
     "text": [
      "iteration 760, reconstruction error 76074.419022\n"
     ]
    },
    {
     "name": "stderr",
     "output_type": "stream",
     "text": [
      " 78%|███████▊  | 775/1000 [00:22<00:06, 33.46it/s]"
     ]
    },
    {
     "name": "stdout",
     "output_type": "stream",
     "text": [
      "iteration 770, reconstruction error 76071.824541\n"
     ]
    },
    {
     "name": "stderr",
     "output_type": "stream",
     "text": [
      " 79%|███████▊  | 787/1000 [00:23<00:06, 34.61it/s]"
     ]
    },
    {
     "name": "stdout",
     "output_type": "stream",
     "text": [
      "iteration 780, reconstruction error 76069.210756\n"
     ]
    },
    {
     "name": "stderr",
     "output_type": "stream",
     "text": [
      " 80%|███████▉  | 795/1000 [00:23<00:06, 33.62it/s]"
     ]
    },
    {
     "name": "stdout",
     "output_type": "stream",
     "text": [
      "iteration 790, reconstruction error 76066.580469\n"
     ]
    },
    {
     "name": "stderr",
     "output_type": "stream",
     "text": [
      " 81%|████████  | 807/1000 [00:23<00:05, 34.70it/s]"
     ]
    },
    {
     "name": "stdout",
     "output_type": "stream",
     "text": [
      "iteration 800, reconstruction error 76063.937389\n"
     ]
    },
    {
     "name": "stderr",
     "output_type": "stream",
     "text": [
      " 82%|████████▏ | 815/1000 [00:24<00:05, 34.70it/s]"
     ]
    },
    {
     "name": "stdout",
     "output_type": "stream",
     "text": [
      "iteration 810, reconstruction error 76061.286193\n"
     ]
    },
    {
     "name": "stderr",
     "output_type": "stream",
     "text": [
      " 83%|████████▎ | 827/1000 [00:24<00:05, 34.05it/s]"
     ]
    },
    {
     "name": "stdout",
     "output_type": "stream",
     "text": [
      "iteration 820, reconstruction error 76058.630674\n"
     ]
    },
    {
     "name": "stderr",
     "output_type": "stream",
     "text": [
      " 84%|████████▎ | 835/1000 [00:24<00:04, 34.36it/s]"
     ]
    },
    {
     "name": "stdout",
     "output_type": "stream",
     "text": [
      "iteration 830, reconstruction error 76055.976582\n"
     ]
    },
    {
     "name": "stderr",
     "output_type": "stream",
     "text": [
      " 85%|████████▍ | 847/1000 [00:25<00:04, 34.18it/s]"
     ]
    },
    {
     "name": "stdout",
     "output_type": "stream",
     "text": [
      "iteration 840, reconstruction error 76053.329500\n"
     ]
    },
    {
     "name": "stderr",
     "output_type": "stream",
     "text": [
      " 86%|████████▌ | 855/1000 [00:25<00:04, 33.96it/s]"
     ]
    },
    {
     "name": "stdout",
     "output_type": "stream",
     "text": [
      "iteration 850, reconstruction error 76050.701768\n"
     ]
    },
    {
     "name": "stderr",
     "output_type": "stream",
     "text": [
      " 87%|████████▋ | 867/1000 [00:25<00:03, 34.40it/s]"
     ]
    },
    {
     "name": "stdout",
     "output_type": "stream",
     "text": [
      "iteration 860, reconstruction error 76048.098440\n"
     ]
    },
    {
     "name": "stderr",
     "output_type": "stream",
     "text": [
      " 88%|████████▊ | 875/1000 [00:25<00:03, 34.08it/s]"
     ]
    },
    {
     "name": "stdout",
     "output_type": "stream",
     "text": [
      "iteration 870, reconstruction error 76045.519777\n"
     ]
    },
    {
     "name": "stderr",
     "output_type": "stream",
     "text": [
      " 89%|████████▊ | 887/1000 [00:26<00:03, 34.73it/s]"
     ]
    },
    {
     "name": "stdout",
     "output_type": "stream",
     "text": [
      "iteration 880, reconstruction error 76042.972547\n"
     ]
    },
    {
     "name": "stderr",
     "output_type": "stream",
     "text": [
      " 90%|████████▉ | 895/1000 [00:26<00:03, 33.33it/s]"
     ]
    },
    {
     "name": "stdout",
     "output_type": "stream",
     "text": [
      "iteration 890, reconstruction error 76040.460847\n"
     ]
    },
    {
     "name": "stderr",
     "output_type": "stream",
     "text": [
      " 91%|█████████ | 907/1000 [00:26<00:02, 34.41it/s]"
     ]
    },
    {
     "name": "stdout",
     "output_type": "stream",
     "text": [
      "iteration 900, reconstruction error 76037.989406\n"
     ]
    },
    {
     "name": "stderr",
     "output_type": "stream",
     "text": [
      " 92%|█████████▏| 915/1000 [00:27<00:02, 32.86it/s]"
     ]
    },
    {
     "name": "stdout",
     "output_type": "stream",
     "text": [
      "iteration 910, reconstruction error 76035.556320\n"
     ]
    },
    {
     "name": "stderr",
     "output_type": "stream",
     "text": [
      " 93%|█████████▎| 927/1000 [00:27<00:02, 33.85it/s]"
     ]
    },
    {
     "name": "stdout",
     "output_type": "stream",
     "text": [
      "iteration 920, reconstruction error 76033.159476\n"
     ]
    },
    {
     "name": "stderr",
     "output_type": "stream",
     "text": [
      " 94%|█████████▎| 935/1000 [00:27<00:01, 34.15it/s]"
     ]
    },
    {
     "name": "stdout",
     "output_type": "stream",
     "text": [
      "iteration 930, reconstruction error 76030.802376\n"
     ]
    },
    {
     "name": "stderr",
     "output_type": "stream",
     "text": [
      " 95%|█████████▍| 947/1000 [00:28<00:01, 34.99it/s]"
     ]
    },
    {
     "name": "stdout",
     "output_type": "stream",
     "text": [
      "iteration 940, reconstruction error 76028.486633\n"
     ]
    },
    {
     "name": "stderr",
     "output_type": "stream",
     "text": [
      " 96%|█████████▌| 955/1000 [00:28<00:01, 34.38it/s]"
     ]
    },
    {
     "name": "stdout",
     "output_type": "stream",
     "text": [
      "iteration 950, reconstruction error 76026.214815\n"
     ]
    },
    {
     "name": "stderr",
     "output_type": "stream",
     "text": [
      " 97%|█████████▋| 967/1000 [00:28<00:00, 35.36it/s]"
     ]
    },
    {
     "name": "stdout",
     "output_type": "stream",
     "text": [
      "iteration 960, reconstruction error 76023.989344\n"
     ]
    },
    {
     "name": "stderr",
     "output_type": "stream",
     "text": [
      " 98%|█████████▊| 975/1000 [00:28<00:00, 32.86it/s]"
     ]
    },
    {
     "name": "stdout",
     "output_type": "stream",
     "text": [
      "iteration 970, reconstruction error 76021.816313\n"
     ]
    },
    {
     "name": "stderr",
     "output_type": "stream",
     "text": [
      " 99%|█████████▊| 987/1000 [00:29<00:00, 32.70it/s]"
     ]
    },
    {
     "name": "stdout",
     "output_type": "stream",
     "text": [
      "iteration 980, reconstruction error 76019.704365\n"
     ]
    },
    {
     "name": "stderr",
     "output_type": "stream",
     "text": [
      "100%|█████████▉| 995/1000 [00:29<00:00, 31.51it/s]"
     ]
    },
    {
     "name": "stdout",
     "output_type": "stream",
     "text": [
      "iteration 990, reconstruction error 76017.655895\n"
     ]
    },
    {
     "name": "stderr",
     "output_type": "stream",
     "text": [
      "100%|██████████| 1000/1000 [00:29<00:00, 33.69it/s]\n"
     ]
    }
   ],
   "source": [
    "n = 8\n",
    "W_false, H = ALS(X=pd.DataFrame(X.T)[df_original.y == 0].to_numpy().T, \n",
    "           n_components=n, # Reconstruction Error reduces as n_components increases\n",
    "           n_iter=1000, \n",
    "           a0 = 0, # L1 regularizer for H\n",
    "           a1 = 0, # L1 regularizer for W\n",
    "           a12 = 0, # L2 regularizer for W\n",
    "           H_nonnegativity=True,\n",
    "           W_nonnegativity=True,\n",
    "           compute_recons_error=True,\n",
    "           subsample_ratio=1)\n",
    "\n",
    "W_true, H = ALS(X=pd.DataFrame(X.T)[df_original.y != 0].to_numpy().T, \n",
    "           n_components=n, # Reconstruction Error reduces as n_components increases\n",
    "           n_iter=1000, \n",
    "           a0 = 0, # L1 regularizer for H\n",
    "           a1 = 0, # L1 regularizer for W\n",
    "           a12 = 0, # L2 regularizer for W\n",
    "           H_nonnegativity=True,\n",
    "           W_nonnegativity=True,\n",
    "           compute_recons_error=True,\n",
    "           subsample_ratio=1)"
   ]
  },
  {
   "cell_type": "code",
   "execution_count": 13,
   "id": "922d7f1b",
   "metadata": {},
   "outputs": [
    {
     "data": {
      "image/png": "[encoded data removed]",
      "text/plain": [
       "<Figure size 2304x1152 with 32 Axes>"
      ]
     },
     "metadata": {},
     "output_type": "display_data"
    }
   ],
   "source": [
    "plot_DL_adj_deg(n, True)"
   ]
  },
  {
   "cell_type": "markdown",
   "id": "b088cf37",
   "metadata": {},
   "source": [
    "## Node2vec"
   ]
  },
  {
   "cell_type": "code",
   "execution_count": 14,
   "id": "f3858665",
   "metadata": {},
   "outputs": [],
   "source": [
    "n2v = pd.read_csv(\"./my_data/UCLA26_20walk_8kappa_node2vec\", header = None)"
   ]
  },
  {
   "cell_type": "code",
   "execution_count": 15,
   "id": "fd9464cc",
   "metadata": {},
   "outputs": [
    {
     "data": {
      "text/plain": [
       "0        True\n",
       "1        True\n",
       "2       False\n",
       "3        True\n",
       "4        True\n",
       "        ...  \n",
       "9995    False\n",
       "9996     True\n",
       "9997     True\n",
       "9998     True\n",
       "9999    False\n",
       "Name: y, Length: 10000, dtype: bool"
      ]
     },
     "execution_count": 15,
     "metadata": {},
     "output_type": "execute_result"
    }
   ],
   "source": [
    "df_original.y"
   ]
  },
  {
   "cell_type": "code",
   "execution_count": 16,
   "id": "9855193f",
   "metadata": {},
   "outputs": [],
   "source": [
    "Y_data = df_original.y\n",
    "df = pd.DataFrame(n2v)\n",
    "\n",
    "under_sampler = RandomUnderSampler(random_state=42)\n",
    "X_res, y_res = under_sampler.fit_resample(df, Y_data)\n",
    "X_train, X_test, y_train, y_test = train_test_split(X_res, y_res, \n",
    "                                                    test_size = 0.2, \n",
    "                                                    random_state = 4, \n",
    "                                                    stratify = y_res)"
   ]
  },
  {
   "cell_type": "code",
   "execution_count": 17,
   "id": "d5c24f39",
   "metadata": {},
   "outputs": [
    {
     "name": "stderr",
     "output_type": "stream",
     "text": [
      "  3%|▎         | 3/100 [00:00<00:04, 23.97it/s]"
     ]
    },
    {
     "name": "stdout",
     "output_type": "stream",
     "text": [
      "initial loading beta [[ 0.51029658 -0.31276332  0.21759599 -0.92789013  0.12765932  0.60906703\n",
      "  -0.28658693  0.72878704  0.20568063  0.96692663 -0.88204149]]\n"
     ]
    },
    {
     "name": "stderr",
     "output_type": "stream",
     "text": [
      "100%|██████████| 100/100 [00:03<00:00, 25.79it/s]\n"
     ]
    }
   ],
   "source": [
    "xi = 1\n",
    "iter_avg = 1\n",
    "beta = 0.5\n",
    "iteration = 100\n",
    "r = 10\n",
    "SNMF_class_new = SNMF(X=[X_train.to_numpy().T, y_train.to_numpy().reshape(-1,1).T],  # data, label\n",
    "                        X_test=[X_test.to_numpy().T, y_test.to_numpy().reshape(-1,1).T],\n",
    "                        #X_auxiliary = None,\n",
    "                        n_components=r,  # =: r = number of columns in dictionary matrices W, W'\n",
    "                        # ini_loading=None,  # Initializatio for [W,W'], W1.shape = [d1, r], W2.shape = [d2, r]\n",
    "                        # ini_loading=[W_true, np.hstack((np.array([[0]]), Beta_true))],\n",
    "                        # ini_code = H_true,\n",
    "                        xi=xi,  # weight on label reconstruction error\n",
    "                        L1_reg = [0,0,0], # L1 regularizer for code H, dictionary W[0], reg param W[1]\n",
    "                        L2_reg = [0,0,0], # L2 regularizer for code H, dictionary W[0], reg param W[1]\n",
    "                        nonnegativity=[True,True,False], # nonnegativity constraints on code H, dictionary W[0], reg params W[1]\n",
    "                        full_dim=False)\n",
    "\n",
    "results_dict_new = SNMF_class_new.train_logistic(iter=iteration, subsample_size=None,\n",
    "                                                beta = beta,\n",
    "                                                search_radius_const=np.linalg.norm(X_train),\n",
    "                                                update_nuance_param=False,\n",
    "                                                if_compute_recons_error=False, if_validate=False)"
   ]
  },
  {
   "cell_type": "code",
   "execution_count": 18,
   "id": "c2d77130",
   "metadata": {},
   "outputs": [
    {
     "data": {
      "text/plain": [
       "{'xi': 1,\n",
       " 'L1_reg': [0, 0, 0],\n",
       " 'L2_reg': [0, 0, 0],\n",
       " 'nonnegativity': [True, True, False],\n",
       " 'n_components': 10,\n",
       " 'loading': [array([[0.        , 0.00096084, 0.03006021, ..., 0.        , 0.        ,\n",
       "          0.        ],\n",
       "         [0.        , 0.        , 0.        , ..., 0.        , 0.        ,\n",
       "          0.        ],\n",
       "         [0.        , 0.        , 0.        , ..., 0.        , 0.        ,\n",
       "          0.        ],\n",
       "         ...,\n",
       "         [0.        , 0.0409502 , 0.        , ..., 0.        , 0.        ,\n",
       "          0.        ],\n",
       "         [0.00017266, 0.        , 0.        , ..., 0.        , 0.        ,\n",
       "          0.        ],\n",
       "         [0.        , 0.        , 0.        , ..., 0.        , 0.        ,\n",
       "          0.        ]]),\n",
       "  array([[ 0.02683347,  0.23473956, -0.02315595,  0.07237147,  0.32647794,\n",
       "           0.033474  , -0.52922384,  0.4179396 , -0.33036902,  0.91159326,\n",
       "           0.25201278]])],\n",
       " 'code': array([[0.        , 0.43031068, 0.        , ..., 0.88449025, 0.        ,\n",
       "         0.29161635],\n",
       "        [0.81405754, 0.50075162, 0.        , ..., 0.        , 0.        ,\n",
       "         0.2849913 ],\n",
       "        [0.74481363, 0.77405395, 0.        , ..., 1.40650307, 0.18096714,\n",
       "         0.        ],\n",
       "        ...,\n",
       "        [0.        , 0.69905945, 0.        , ..., 0.        , 0.        ,\n",
       "         0.10015216],\n",
       "        [0.        , 0.49146645, 0.        , ..., 0.        , 0.        ,\n",
       "         1.40969511],\n",
       "        [1.00322437, 0.        , 0.40209113, ..., 1.05455685, 0.30423995,\n",
       "         0.        ]]),\n",
       " 'iter': 100,\n",
       " 'dict_update_freq': 1,\n",
       " 'Relative_reconstruction_loss (test)': 0.7973693184659045,\n",
       " 'Y_test': array([[ True, False,  True, False, False, False, False,  True,  True,\n",
       "          True,  True,  True,  True,  True,  True, False, False,  True,\n",
       "         False,  True,  True,  True, False, False,  True, False,  True,\n",
       "          True,  True,  True,  True,  True, False, False,  True,  True,\n",
       "         False, False,  True, False,  True, False, False,  True, False,\n",
       "         False, False, False,  True,  True,  True, False,  True, False,\n",
       "          True,  True,  True,  True, False,  True, False,  True, False,\n",
       "         False, False, False, False, False,  True,  True, False,  True,\n",
       "         False,  True, False,  True, False,  True, False,  True,  True,\n",
       "          True, False, False, False, False,  True,  True,  True, False,\n",
       "         False, False,  True, False, False,  True,  True,  True, False,\n",
       "         False, False,  True,  True,  True,  True, False, False, False,\n",
       "         False, False,  True,  True,  True,  True, False, False, False,\n",
       "         False,  True,  True,  True, False, False, False,  True, False,\n",
       "         False, False,  True,  True, False, False,  True, False,  True,\n",
       "         False, False, False,  True, False, False, False, False, False,\n",
       "          True,  True,  True, False,  True, False, False, False, False,\n",
       "          True, False, False, False, False, False,  True,  True, False,\n",
       "          True, False, False,  True,  True,  True,  True,  True, False,\n",
       "          True, False, False, False, False,  True, False, False, False,\n",
       "          True, False,  True,  True, False,  True,  True, False, False,\n",
       "          True,  True,  True,  True,  True, False, False,  True, False,\n",
       "         False, False,  True,  True, False,  True, False, False, False,\n",
       "          True,  True, False,  True,  True, False, False, False, False,\n",
       "          True, False, False, False, False, False,  True, False, False,\n",
       "          True,  True,  True,  True, False, False, False, False, False,\n",
       "          True,  True,  True,  True,  True,  True,  True, False,  True,\n",
       "         False, False,  True,  True, False, False,  True,  True, False,\n",
       "         False, False,  True, False, False, False, False, False,  True,\n",
       "          True, False,  True, False, False,  True,  True, False, False,\n",
       "         False,  True, False,  True, False,  True, False,  True,  True,\n",
       "         False, False, False,  True,  True, False, False,  True,  True,\n",
       "          True,  True,  True, False,  True, False, False,  True,  True,\n",
       "         False,  True,  True, False, False, False,  True,  True,  True,\n",
       "         False, False,  True,  True, False,  True,  True, False,  True,\n",
       "          True, False, False,  True,  True,  True,  True,  True,  True,\n",
       "          True,  True, False, False, False, False,  True, False,  True,\n",
       "          True,  True, False, False, False,  True, False, False, False,\n",
       "          True,  True,  True, False,  True, False, False,  True, False,\n",
       "         False,  True, False,  True, False,  True, False,  True, False,\n",
       "         False, False, False,  True,  True, False,  True,  True,  True,\n",
       "          True,  True, False,  True,  True, False, False,  True,  True,\n",
       "         False, False,  True, False,  True,  True, False,  True, False,\n",
       "          True, False,  True,  True,  True,  True,  True,  True,  True,\n",
       "         False, False,  True,  True, False,  True,  True,  True, False,\n",
       "         False,  True, False,  True,  True,  True, False, False, False,\n",
       "          True, False,  True, False,  True,  True, False, False, False,\n",
       "         False, False, False,  True, False, False,  True,  True,  True,\n",
       "         False, False, False,  True, False, False,  True, False, False,\n",
       "         False, False,  True, False,  True, False, False,  True,  True,\n",
       "          True,  True,  True, False, False, False,  True,  True, False,\n",
       "          True, False, False, False, False,  True,  True, False, False,\n",
       "          True,  True, False, False,  True,  True, False, False, False,\n",
       "         False, False,  True, False,  True, False, False, False,  True,\n",
       "          True, False, False, False,  True,  True,  True, False, False,\n",
       "         False,  True, False, False,  True,  True,  True, False,  True,\n",
       "          True,  True,  True,  True, False, False,  True,  True,  True,\n",
       "         False,  True,  True, False, False, False, False, False,  True,\n",
       "         False,  True,  True, False,  True,  True,  True, False, False,\n",
       "          True, False, False,  True, False,  True,  True, False,  True,\n",
       "          True, False,  True,  True,  True,  True, False,  True,  True,\n",
       "         False, False, False,  True,  True,  True, False,  True, False,\n",
       "          True,  True,  True, False,  True, False, False, False,  True,\n",
       "          True, False,  True, False,  True,  True,  True, False, False,\n",
       "         False, False, False, False, False,  True, False,  True, False,\n",
       "          True, False,  True, False,  True, False,  True,  True,  True,\n",
       "          True,  True,  True,  True, False,  True,  True, False,  True,\n",
       "          True, False, False, False,  True,  True,  True, False,  True,\n",
       "          True,  True, False,  True, False, False,  True, False, False,\n",
       "         False, False, False, False,  True,  True, False,  True,  True,\n",
       "         False,  True,  True, False, False, False, False,  True,  True,\n",
       "         False,  True,  True,  True,  True, False,  True, False, False,\n",
       "         False,  True,  True, False, False, False, False,  True,  True,\n",
       "         False,  True, False, False, False,  True,  True,  True,  True,\n",
       "          True, False,  True,  True,  True, False,  True,  True,  True,\n",
       "          True,  True, False, False,  True, False,  True, False, False,\n",
       "          True, False,  True,  True,  True, False, False, False, False,\n",
       "          True,  True,  True, False, False, False,  True,  True, False,\n",
       "         False,  True,  True, False, False, False, False, False, False,\n",
       "         False,  True, False,  True,  True, False,  True, False, False,\n",
       "         False, False,  True, False,  True, False, False, False, False,\n",
       "          True,  True, False,  True,  True, False, False, False,  True,\n",
       "          True, False, False,  True,  True, False,  True, False,  True,\n",
       "         False,  True,  True, False, False,  True,  True,  True, False,\n",
       "          True,  True,  True, False,  True,  True,  True,  True,  True,\n",
       "         False, False,  True, False, False, False,  True, False,  True,\n",
       "          True,  True, False, False,  True, False,  True,  True, False,\n",
       "         False,  True, False,  True,  True, False, False, False,  True,\n",
       "         False,  True, False, False,  True, False,  True, False, False,\n",
       "         False,  True,  True, False,  True, False,  True, False, False,\n",
       "          True, False,  True, False, False, False,  True, False, False,\n",
       "          True, False,  True, False,  True, False, False,  True, False,\n",
       "         False,  True,  True, False, False, False,  True,  True,  True,\n",
       "          True,  True,  True,  True,  True, False, False,  True, False,\n",
       "         False,  True,  True,  True,  True,  True,  True,  True,  True,\n",
       "          True, False, False,  True, False, False,  True, False,  True,\n",
       "          True, False, False,  True, False,  True,  True, False,  True,\n",
       "         False,  True, False, False,  True,  True,  True,  True,  True,\n",
       "          True,  True, False,  True,  True,  True, False, False, False,\n",
       "         False, False, False, False,  True,  True, False,  True,  True,\n",
       "          True, False, False,  True,  True,  True, False,  True,  True,\n",
       "          True,  True, False, False, False,  True,  True,  True, False,\n",
       "          True,  True,  True, False, False, False, False, False, False,\n",
       "          True,  True, False, False, False, False,  True,  True, False,\n",
       "         False, False]]),\n",
       " 'P_pred': array([[0.50826416],\n",
       "        [0.50914584],\n",
       "        [0.49101589],\n",
       "        [0.49762889],\n",
       "        [0.51580018],\n",
       "        [0.44237975],\n",
       "        [0.49023443],\n",
       "        [0.42246399],\n",
       "        [0.5207946 ],\n",
       "        [0.52328393],\n",
       "        [0.429702  ],\n",
       "        [0.52051898],\n",
       "        [0.40439194],\n",
       "        [0.44444676],\n",
       "        [0.510731  ],\n",
       "        [0.54810445],\n",
       "        [0.52153072],\n",
       "        [0.4253714 ],\n",
       "        [0.46200924],\n",
       "        [0.53923833],\n",
       "        [0.49656035],\n",
       "        [0.52826698],\n",
       "        [0.50819125],\n",
       "        [0.54593688],\n",
       "        [0.46947034],\n",
       "        [0.53229966],\n",
       "        [0.49974671],\n",
       "        [0.52439728],\n",
       "        [0.51602136],\n",
       "        [0.49309487],\n",
       "        [0.47221321],\n",
       "        [0.46091755],\n",
       "        [0.50328934],\n",
       "        [0.53687828],\n",
       "        [0.48556776],\n",
       "        [0.53808251],\n",
       "        [0.46773049],\n",
       "        [0.57414089],\n",
       "        [0.47552131],\n",
       "        [0.50400977],\n",
       "        [0.47346273],\n",
       "        [0.57192931],\n",
       "        [0.54699883],\n",
       "        [0.45830018],\n",
       "        [0.48424248],\n",
       "        [0.41667339],\n",
       "        [0.47393199],\n",
       "        [0.51752762],\n",
       "        [0.48066799],\n",
       "        [0.49327891],\n",
       "        [0.57175006],\n",
       "        [0.49714888],\n",
       "        [0.47197556],\n",
       "        [0.48124067],\n",
       "        [0.55840637],\n",
       "        [0.46836233],\n",
       "        [0.4833903 ],\n",
       "        [0.45446564],\n",
       "        [0.50037213],\n",
       "        [0.50682423],\n",
       "        [0.49838516],\n",
       "        [0.46442747],\n",
       "        [0.56378052],\n",
       "        [0.46848896],\n",
       "        [0.51077451],\n",
       "        [0.49559752],\n",
       "        [0.44880204],\n",
       "        [0.50774116],\n",
       "        [0.50381738],\n",
       "        [0.4911522 ],\n",
       "        [0.59253517],\n",
       "        [0.5049777 ],\n",
       "        [0.53224955],\n",
       "        [0.50432792],\n",
       "        [0.53473717],\n",
       "        [0.49685035],\n",
       "        [0.51165937],\n",
       "        [0.53407529],\n",
       "        [0.52026506],\n",
       "        [0.50694739],\n",
       "        [0.47944522],\n",
       "        [0.47453467],\n",
       "        [0.5047295 ],\n",
       "        [0.47164329],\n",
       "        [0.5063657 ],\n",
       "        [0.62003353],\n",
       "        [0.49483344],\n",
       "        [0.48465953],\n",
       "        [0.5118497 ],\n",
       "        [0.46086769],\n",
       "        [0.47766579],\n",
       "        [0.45544779],\n",
       "        [0.5328121 ],\n",
       "        [0.53257134],\n",
       "        [0.49051141],\n",
       "        [0.49903801],\n",
       "        [0.50030362],\n",
       "        [0.51322243],\n",
       "        [0.53864252],\n",
       "        [0.50907881],\n",
       "        [0.50875691],\n",
       "        [0.46215371],\n",
       "        [0.4915876 ],\n",
       "        [0.47833969],\n",
       "        [0.49252037],\n",
       "        [0.51692053],\n",
       "        [0.51623283],\n",
       "        [0.52767936],\n",
       "        [0.53874799],\n",
       "        [0.44969082],\n",
       "        [0.47653436],\n",
       "        [0.52873925],\n",
       "        [0.50154795],\n",
       "        [0.39625079],\n",
       "        [0.47115185],\n",
       "        [0.50425265],\n",
       "        [0.54138462],\n",
       "        [0.5235427 ],\n",
       "        [0.50327519],\n",
       "        [0.56195978],\n",
       "        [0.5019137 ],\n",
       "        [0.49611555],\n",
       "        [0.5089077 ],\n",
       "        [0.58125108],\n",
       "        [0.49355721],\n",
       "        [0.49813294],\n",
       "        [0.5103147 ],\n",
       "        [0.48161275],\n",
       "        [0.51719935],\n",
       "        [0.491994  ],\n",
       "        [0.46686842],\n",
       "        [0.47324791],\n",
       "        [0.4972832 ],\n",
       "        [0.57075049],\n",
       "        [0.50468086],\n",
       "        [0.48441977],\n",
       "        [0.54875173],\n",
       "        [0.51421831],\n",
       "        [0.52182668],\n",
       "        [0.48451984],\n",
       "        [0.49489331],\n",
       "        [0.45659184],\n",
       "        [0.48484491],\n",
       "        [0.49333582],\n",
       "        [0.49773866],\n",
       "        [0.54382194],\n",
       "        [0.49412712],\n",
       "        [0.47838797],\n",
       "        [0.50188741],\n",
       "        [0.51910683],\n",
       "        [0.49761315],\n",
       "        [0.4876399 ],\n",
       "        [0.49770642],\n",
       "        [0.51386337],\n",
       "        [0.51177024],\n",
       "        [0.47584548],\n",
       "        [0.49412033],\n",
       "        [0.47991129],\n",
       "        [0.48559992],\n",
       "        [0.48547285],\n",
       "        [0.51710886],\n",
       "        [0.48551346],\n",
       "        [0.49532554],\n",
       "        [0.46363914],\n",
       "        [0.45648526],\n",
       "        [0.47683161],\n",
       "        [0.49876987],\n",
       "        [0.47515324],\n",
       "        [0.49231144],\n",
       "        [0.52427272],\n",
       "        [0.50543592],\n",
       "        [0.49156748],\n",
       "        [0.44996024],\n",
       "        [0.50332168],\n",
       "        [0.50825176],\n",
       "        [0.55804198],\n",
       "        [0.48839514],\n",
       "        [0.514287  ],\n",
       "        [0.48425743],\n",
       "        [0.4763284 ],\n",
       "        [0.46185793],\n",
       "        [0.49742241],\n",
       "        [0.42360333],\n",
       "        [0.50697677],\n",
       "        [0.42029431],\n",
       "        [0.4624645 ],\n",
       "        [0.51697231],\n",
       "        [0.50712912],\n",
       "        [0.48217224],\n",
       "        [0.50480019],\n",
       "        [0.47663648],\n",
       "        [0.49879269],\n",
       "        [0.50613389],\n",
       "        [0.52933639],\n",
       "        [0.52688002],\n",
       "        [0.48018726],\n",
       "        [0.52091161],\n",
       "        [0.49394189],\n",
       "        [0.53126157],\n",
       "        [0.5251753 ],\n",
       "        [0.51303953],\n",
       "        [0.5056502 ],\n",
       "        [0.49726928],\n",
       "        [0.50740592],\n",
       "        [0.50501849],\n",
       "        [0.53968285],\n",
       "        [0.56673177],\n",
       "        [0.50885692],\n",
       "        [0.5208524 ],\n",
       "        [0.50634329],\n",
       "        [0.51794011],\n",
       "        [0.46337504],\n",
       "        [0.47001882],\n",
       "        [0.43827229],\n",
       "        [0.52462292],\n",
       "        [0.47657134],\n",
       "        [0.49516223],\n",
       "        [0.53886922],\n",
       "        [0.45249289],\n",
       "        [0.46226323],\n",
       "        [0.50457045],\n",
       "        [0.44113898],\n",
       "        [0.44275548],\n",
       "        [0.47727117],\n",
       "        [0.48709328],\n",
       "        [0.48679988],\n",
       "        [0.51568054],\n",
       "        [0.51631324],\n",
       "        [0.51664396],\n",
       "        [0.51928191],\n",
       "        [0.49237422],\n",
       "        [0.53045537],\n",
       "        [0.49632173],\n",
       "        [0.49949537],\n",
       "        [0.471104  ],\n",
       "        [0.50142152],\n",
       "        [0.51549811],\n",
       "        [0.51254042],\n",
       "        [0.47847572],\n",
       "        [0.50889137],\n",
       "        [0.51270922],\n",
       "        [0.51409424],\n",
       "        [0.53217317],\n",
       "        [0.49402615],\n",
       "        [0.49778991],\n",
       "        [0.45996714],\n",
       "        [0.47194055],\n",
       "        [0.50383934],\n",
       "        [0.51999477],\n",
       "        [0.52789352],\n",
       "        [0.50833782],\n",
       "        [0.48715489],\n",
       "        [0.46948251],\n",
       "        [0.45382051],\n",
       "        [0.48002549],\n",
       "        [0.50469089],\n",
       "        [0.5102123 ],\n",
       "        [0.50607559],\n",
       "        [0.44220229],\n",
       "        [0.49895903],\n",
       "        [0.49940325],\n",
       "        [0.46159185],\n",
       "        [0.54388941],\n",
       "        [0.51225175],\n",
       "        [0.5447741 ],\n",
       "        [0.49858767],\n",
       "        [0.51182046],\n",
       "        [0.49898223],\n",
       "        [0.49843514],\n",
       "        [0.52132811],\n",
       "        [0.47297314],\n",
       "        [0.49791299],\n",
       "        [0.52974364],\n",
       "        [0.5115461 ],\n",
       "        [0.52077809],\n",
       "        [0.50505113],\n",
       "        [0.4822792 ],\n",
       "        [0.47392498],\n",
       "        [0.52181934],\n",
       "        [0.46677386],\n",
       "        [0.48758648],\n",
       "        [0.51594354],\n",
       "        [0.41923603],\n",
       "        [0.5032478 ],\n",
       "        [0.46653127],\n",
       "        [0.59154616],\n",
       "        [0.51071086],\n",
       "        [0.46212271],\n",
       "        [0.49405021],\n",
       "        [0.48052139],\n",
       "        [0.50150883],\n",
       "        [0.52514216],\n",
       "        [0.48926719],\n",
       "        [0.48260877],\n",
       "        [0.50833105],\n",
       "        [0.41583267],\n",
       "        [0.49323332],\n",
       "        [0.49656615],\n",
       "        [0.48069414],\n",
       "        [0.50837892],\n",
       "        [0.5225002 ],\n",
       "        [0.50135885],\n",
       "        [0.46983282],\n",
       "        [0.53107317],\n",
       "        [0.47236646],\n",
       "        [0.49816747],\n",
       "        [0.5254017 ],\n",
       "        [0.51836776],\n",
       "        [0.49977417],\n",
       "        [0.46863675],\n",
       "        [0.48284673],\n",
       "        [0.52071213],\n",
       "        [0.50023082],\n",
       "        [0.46344391],\n",
       "        [0.52305989],\n",
       "        [0.5041062 ],\n",
       "        [0.52452201],\n",
       "        [0.49756337],\n",
       "        [0.51811927],\n",
       "        [0.53608059],\n",
       "        [0.51475911],\n",
       "        [0.5042182 ],\n",
       "        [0.53792485],\n",
       "        [0.51154727],\n",
       "        [0.48606768],\n",
       "        [0.52779567],\n",
       "        [0.4660414 ],\n",
       "        [0.57868842],\n",
       "        [0.54919969],\n",
       "        [0.49801957],\n",
       "        [0.49499289],\n",
       "        [0.48850205],\n",
       "        [0.52383753],\n",
       "        [0.55654114],\n",
       "        [0.51917205],\n",
       "        [0.47825325],\n",
       "        [0.49420812],\n",
       "        [0.52569991],\n",
       "        [0.49708497],\n",
       "        [0.50879189],\n",
       "        [0.4708877 ],\n",
       "        [0.49642184],\n",
       "        [0.46874017],\n",
       "        [0.53008784],\n",
       "        [0.516426  ],\n",
       "        [0.48017738],\n",
       "        [0.52589048],\n",
       "        [0.466307  ],\n",
       "        [0.53920281],\n",
       "        [0.51225042],\n",
       "        [0.475087  ],\n",
       "        [0.48930272],\n",
       "        [0.54007334],\n",
       "        [0.44140504],\n",
       "        [0.49085976],\n",
       "        [0.4985728 ],\n",
       "        [0.49419015],\n",
       "        [0.53613363],\n",
       "        [0.49988239],\n",
       "        [0.49888931],\n",
       "        [0.49977328],\n",
       "        [0.45913451],\n",
       "        [0.45000344],\n",
       "        [0.47729187],\n",
       "        [0.61042354],\n",
       "        [0.46397858],\n",
       "        [0.51120561],\n",
       "        [0.50136228],\n",
       "        [0.48643016],\n",
       "        [0.51815938],\n",
       "        [0.50802069],\n",
       "        [0.47591073],\n",
       "        [0.50042666],\n",
       "        [0.47089844],\n",
       "        [0.55184002],\n",
       "        [0.47947788],\n",
       "        [0.5299567 ],\n",
       "        [0.51902324],\n",
       "        [0.46615503],\n",
       "        [0.53085208],\n",
       "        [0.51553358],\n",
       "        [0.51465265],\n",
       "        [0.47618925],\n",
       "        [0.51809741],\n",
       "        [0.4789058 ],\n",
       "        [0.51031951],\n",
       "        [0.48841938],\n",
       "        [0.51887251],\n",
       "        [0.49837037],\n",
       "        [0.44168457],\n",
       "        [0.54356521],\n",
       "        [0.54975205],\n",
       "        [0.47247507],\n",
       "        [0.6299212 ],\n",
       "        [0.5700241 ],\n",
       "        [0.53013755],\n",
       "        [0.50492866],\n",
       "        [0.51905797],\n",
       "        [0.50283769],\n",
       "        [0.50206775],\n",
       "        [0.53496828],\n",
       "        [0.48887325],\n",
       "        [0.51620291],\n",
       "        [0.57371346],\n",
       "        [0.52192822],\n",
       "        [0.48480647],\n",
       "        [0.47894016],\n",
       "        [0.4493893 ],\n",
       "        [0.51916631],\n",
       "        [0.4873756 ],\n",
       "        [0.39214325],\n",
       "        [0.48555965],\n",
       "        [0.48814989],\n",
       "        [0.47525856],\n",
       "        [0.50237591],\n",
       "        [0.47693101],\n",
       "        [0.55000931],\n",
       "        [0.4996881 ],\n",
       "        [0.40083222],\n",
       "        [0.52271573],\n",
       "        [0.51309054],\n",
       "        [0.50410039],\n",
       "        [0.48585716],\n",
       "        [0.5226647 ],\n",
       "        [0.48872832],\n",
       "        [0.51513611],\n",
       "        [0.47008288],\n",
       "        [0.45386127],\n",
       "        [0.49041821],\n",
       "        [0.49642947],\n",
       "        [0.50615225],\n",
       "        [0.50140536],\n",
       "        [0.53264753],\n",
       "        [0.50350203],\n",
       "        [0.50628382],\n",
       "        [0.51541731],\n",
       "        [0.48447429],\n",
       "        [0.48543729],\n",
       "        [0.49527342],\n",
       "        [0.54165915],\n",
       "        [0.51256676],\n",
       "        [0.49339135],\n",
       "        [0.48172182],\n",
       "        [0.48740357],\n",
       "        [0.48635321],\n",
       "        [0.52123685],\n",
       "        [0.47947364],\n",
       "        [0.53960976],\n",
       "        [0.49911124],\n",
       "        [0.4504896 ],\n",
       "        [0.52719007],\n",
       "        [0.56655931],\n",
       "        [0.48526419],\n",
       "        [0.48142625],\n",
       "        [0.50060629],\n",
       "        [0.52489499],\n",
       "        [0.47828414],\n",
       "        [0.47273881],\n",
       "        [0.51955958],\n",
       "        [0.45752081],\n",
       "        [0.51610985],\n",
       "        [0.50523819],\n",
       "        [0.51879455],\n",
       "        [0.50144746],\n",
       "        [0.51364202],\n",
       "        [0.45984507],\n",
       "        [0.49886186],\n",
       "        [0.50902168],\n",
       "        [0.47039311],\n",
       "        [0.49249191],\n",
       "        [0.54005885],\n",
       "        [0.48027234],\n",
       "        [0.53026327],\n",
       "        [0.50522419],\n",
       "        [0.48681018],\n",
       "        [0.48922524],\n",
       "        [0.51254564],\n",
       "        [0.5090267 ],\n",
       "        [0.45800119],\n",
       "        [0.48986358],\n",
       "        [0.53803308],\n",
       "        [0.49406589],\n",
       "        [0.48038997],\n",
       "        [0.47312513],\n",
       "        [0.53845401],\n",
       "        [0.52708411],\n",
       "        [0.50134211],\n",
       "        [0.52042719],\n",
       "        [0.48536855],\n",
       "        [0.54369199],\n",
       "        [0.50184044],\n",
       "        [0.47725934],\n",
       "        [0.4836794 ],\n",
       "        [0.47074168],\n",
       "        [0.47098219],\n",
       "        [0.43264989],\n",
       "        [0.51865334],\n",
       "        [0.45015745],\n",
       "        [0.48716932],\n",
       "        [0.47118171],\n",
       "        [0.48377438],\n",
       "        [0.52928611],\n",
       "        [0.51183628],\n",
       "        [0.56230943],\n",
       "        [0.44272353],\n",
       "        [0.54397549],\n",
       "        [0.5295329 ],\n",
       "        [0.4995521 ],\n",
       "        [0.49608872],\n",
       "        [0.50086807],\n",
       "        [0.52771157],\n",
       "        [0.50291796],\n",
       "        [0.47841122],\n",
       "        [0.50288192],\n",
       "        [0.49299639],\n",
       "        [0.54760619],\n",
       "        [0.47893775],\n",
       "        [0.47082347],\n",
       "        [0.52599347],\n",
       "        [0.50543596],\n",
       "        [0.50075532],\n",
       "        [0.49192211],\n",
       "        [0.50245057],\n",
       "        [0.52260672],\n",
       "        [0.53188362],\n",
       "        [0.49193559],\n",
       "        [0.48421166],\n",
       "        [0.49102713],\n",
       "        [0.49076624],\n",
       "        [0.53057522],\n",
       "        [0.49012618],\n",
       "        [0.47037999],\n",
       "        [0.4243532 ],\n",
       "        [0.4970545 ],\n",
       "        [0.49133154],\n",
       "        [0.44161633],\n",
       "        [0.52264219],\n",
       "        [0.49204929],\n",
       "        [0.48033552],\n",
       "        [0.46936085],\n",
       "        [0.4836552 ],\n",
       "        [0.47287047],\n",
       "        [0.55837117],\n",
       "        [0.51926489],\n",
       "        [0.5224292 ],\n",
       "        [0.49718595],\n",
       "        [0.49528851],\n",
       "        [0.52863856],\n",
       "        [0.48955451],\n",
       "        [0.48473929],\n",
       "        [0.51505313],\n",
       "        [0.53246114],\n",
       "        [0.52021601],\n",
       "        [0.52408679],\n",
       "        [0.53496179],\n",
       "        [0.5214133 ],\n",
       "        [0.47535477],\n",
       "        [0.51361017],\n",
       "        [0.48791258],\n",
       "        [0.53119494],\n",
       "        [0.53224351],\n",
       "        [0.4908372 ],\n",
       "        [0.51684516],\n",
       "        [0.51702278],\n",
       "        [0.52140946],\n",
       "        [0.50005285],\n",
       "        [0.50367481],\n",
       "        [0.50632323],\n",
       "        [0.47191184],\n",
       "        [0.50957522],\n",
       "        [0.53260822],\n",
       "        [0.48501992],\n",
       "        [0.4914781 ],\n",
       "        [0.49622391],\n",
       "        [0.48654666],\n",
       "        [0.50146989],\n",
       "        [0.49414874],\n",
       "        [0.51647661],\n",
       "        [0.46777995],\n",
       "        [0.50257658],\n",
       "        [0.48753292],\n",
       "        [0.4807585 ],\n",
       "        [0.51278266],\n",
       "        [0.46465209],\n",
       "        [0.46938294],\n",
       "        [0.42193451],\n",
       "        [0.51277278],\n",
       "        [0.50184888],\n",
       "        [0.48602617],\n",
       "        [0.45477986],\n",
       "        [0.48586716],\n",
       "        [0.4725918 ],\n",
       "        [0.49900601],\n",
       "        [0.48945254],\n",
       "        [0.53740877],\n",
       "        [0.52414326],\n",
       "        [0.50377569],\n",
       "        [0.54354995],\n",
       "        [0.51336592],\n",
       "        [0.49722709],\n",
       "        [0.49172143],\n",
       "        [0.50196975],\n",
       "        [0.53432564],\n",
       "        [0.50118309],\n",
       "        [0.50522483],\n",
       "        [0.38778272],\n",
       "        [0.51379733],\n",
       "        [0.44731568],\n",
       "        [0.47804365],\n",
       "        [0.47747206],\n",
       "        [0.50489927],\n",
       "        [0.51045803],\n",
       "        [0.53438517],\n",
       "        [0.45784464],\n",
       "        [0.5031903 ],\n",
       "        [0.49506299],\n",
       "        [0.49641526],\n",
       "        [0.55290489],\n",
       "        [0.47372529],\n",
       "        [0.39437956],\n",
       "        [0.5320204 ],\n",
       "        [0.51341673],\n",
       "        [0.48700144],\n",
       "        [0.51821316],\n",
       "        [0.52192269],\n",
       "        [0.43361764],\n",
       "        [0.52302836],\n",
       "        [0.44252159],\n",
       "        [0.5046264 ],\n",
       "        [0.49738907],\n",
       "        [0.51239613],\n",
       "        [0.50937561],\n",
       "        [0.51932229],\n",
       "        [0.54370389],\n",
       "        [0.51911091],\n",
       "        [0.43161698],\n",
       "        [0.47205331],\n",
       "        [0.49783412],\n",
       "        [0.47910323],\n",
       "        [0.51233643],\n",
       "        [0.50557507],\n",
       "        [0.49598496],\n",
       "        [0.47202483],\n",
       "        [0.50703386],\n",
       "        [0.51250589],\n",
       "        [0.50314337],\n",
       "        [0.45706072],\n",
       "        [0.52971757],\n",
       "        [0.51857702],\n",
       "        [0.52126092],\n",
       "        [0.50652242],\n",
       "        [0.59311807],\n",
       "        [0.50490111],\n",
       "        [0.52018131],\n",
       "        [0.51522655],\n",
       "        [0.491349  ],\n",
       "        [0.46836139],\n",
       "        [0.48832405],\n",
       "        [0.50939887],\n",
       "        [0.54367325],\n",
       "        [0.47434588],\n",
       "        [0.52419878],\n",
       "        [0.47871241],\n",
       "        [0.45574245],\n",
       "        [0.50722796],\n",
       "        [0.5006928 ],\n",
       "        [0.44433977],\n",
       "        [0.4868406 ],\n",
       "        [0.54070247],\n",
       "        [0.48643084],\n",
       "        [0.48326297],\n",
       "        [0.48634569],\n",
       "        [0.47856815],\n",
       "        [0.47090407],\n",
       "        [0.49378539],\n",
       "        [0.53951509],\n",
       "        [0.49794728],\n",
       "        [0.49429312],\n",
       "        [0.45105972],\n",
       "        [0.4772024 ],\n",
       "        [0.50385477],\n",
       "        [0.49874059],\n",
       "        [0.48680017],\n",
       "        [0.61049397],\n",
       "        [0.45041532],\n",
       "        [0.50732706],\n",
       "        [0.49983555],\n",
       "        [0.52291655],\n",
       "        [0.46843732],\n",
       "        [0.50997323],\n",
       "        [0.54347407],\n",
       "        [0.58431022],\n",
       "        [0.54087842],\n",
       "        [0.49861044],\n",
       "        [0.48130359],\n",
       "        [0.49650023],\n",
       "        [0.48456549],\n",
       "        [0.58857542],\n",
       "        [0.53501885],\n",
       "        [0.51526302],\n",
       "        [0.48049332],\n",
       "        [0.50070406],\n",
       "        [0.45028568],\n",
       "        [0.52145477],\n",
       "        [0.49739099],\n",
       "        [0.51482524],\n",
       "        [0.5849524 ],\n",
       "        [0.46447331],\n",
       "        [0.51515955],\n",
       "        [0.51546415],\n",
       "        [0.4555669 ],\n",
       "        [0.48346909],\n",
       "        [0.48892134],\n",
       "        [0.52429679],\n",
       "        [0.44884566],\n",
       "        [0.49972374],\n",
       "        [0.489253  ],\n",
       "        [0.46312975],\n",
       "        [0.48190826],\n",
       "        [0.49828555],\n",
       "        [0.47948292],\n",
       "        [0.51906027],\n",
       "        [0.53722154],\n",
       "        [0.56383971],\n",
       "        [0.49875486],\n",
       "        [0.51790511],\n",
       "        [0.55908381],\n",
       "        [0.48642419],\n",
       "        [0.46497408],\n",
       "        [0.47084289],\n",
       "        [0.40802222],\n",
       "        [0.47086657],\n",
       "        [0.45520039],\n",
       "        [0.44043247],\n",
       "        [0.48775535],\n",
       "        [0.48111957],\n",
       "        [0.68205796],\n",
       "        [0.50139168],\n",
       "        [0.51409931],\n",
       "        [0.53312855],\n",
       "        [0.48085418],\n",
       "        [0.50320657],\n",
       "        [0.47491339],\n",
       "        [0.48571389],\n",
       "        [0.50625611],\n",
       "        [0.49521503],\n",
       "        [0.50616061],\n",
       "        [0.49275907],\n",
       "        [0.51507408],\n",
       "        [0.44676287],\n",
       "        [0.48724207],\n",
       "        [0.47010237],\n",
       "        [0.50365215],\n",
       "        [0.44000928],\n",
       "        [0.54357505],\n",
       "        [0.45452759],\n",
       "        [0.50229178],\n",
       "        [0.45182347],\n",
       "        [0.49080485],\n",
       "        [0.57937607],\n",
       "        [0.49042394],\n",
       "        [0.48796515],\n",
       "        [0.45406021],\n",
       "        [0.45172173],\n",
       "        [0.45500163],\n",
       "        [0.54332818],\n",
       "        [0.46668654],\n",
       "        [0.54362656],\n",
       "        [0.52069317],\n",
       "        [0.44758726],\n",
       "        [0.53704458],\n",
       "        [0.55892804],\n",
       "        [0.51078144],\n",
       "        [0.50356353],\n",
       "        [0.45014542],\n",
       "        [0.47635199],\n",
       "        [0.4531419 ],\n",
       "        [0.48748454],\n",
       "        [0.5079768 ],\n",
       "        [0.5026856 ],\n",
       "        [0.50377166],\n",
       "        [0.48665541],\n",
       "        [0.50794706],\n",
       "        [0.45297845],\n",
       "        [0.5149664 ],\n",
       "        [0.46662957],\n",
       "        [0.492106  ],\n",
       "        [0.50353308],\n",
       "        [0.56955752],\n",
       "        [0.55574147],\n",
       "        [0.55201169],\n",
       "        [0.45618842],\n",
       "        [0.43344593],\n",
       "        [0.51961418],\n",
       "        [0.46922375],\n",
       "        [0.49351641],\n",
       "        [0.52299629],\n",
       "        [0.42899147],\n",
       "        [0.50519349],\n",
       "        [0.51793509],\n",
       "        [0.5005952 ],\n",
       "        [0.51648813],\n",
       "        [0.52444983],\n",
       "        [0.49597431],\n",
       "        [0.51404124],\n",
       "        [0.5635113 ],\n",
       "        [0.48322157],\n",
       "        [0.52615349],\n",
       "        [0.4711542 ],\n",
       "        [0.48290889],\n",
       "        [0.48858266],\n",
       "        [0.48004313],\n",
       "        [0.51624461],\n",
       "        [0.51071753],\n",
       "        [0.48358935],\n",
       "        [0.49531955],\n",
       "        [0.4732853 ],\n",
       "        [0.5133694 ],\n",
       "        [0.51378594],\n",
       "        [0.5313447 ],\n",
       "        [0.48312181],\n",
       "        [0.50823177],\n",
       "        [0.46192095],\n",
       "        [0.49983548],\n",
       "        [0.47665207],\n",
       "        [0.50582283],\n",
       "        [0.53408728],\n",
       "        [0.47944746],\n",
       "        [0.48594914],\n",
       "        [0.45705623],\n",
       "        [0.54260746],\n",
       "        [0.45273155],\n",
       "        [0.50980813],\n",
       "        [0.5176026 ],\n",
       "        [0.45300047],\n",
       "        [0.50806939],\n",
       "        [0.47349256],\n",
       "        [0.49407573],\n",
       "        [0.48395452],\n",
       "        [0.46898402],\n",
       "        [0.53024569],\n",
       "        [0.49218373],\n",
       "        [0.54494201],\n",
       "        [0.55538562],\n",
       "        [0.46343368],\n",
       "        [0.49288725],\n",
       "        [0.49291389],\n",
       "        [0.50326998],\n",
       "        [0.46936005],\n",
       "        [0.5035251 ],\n",
       "        [0.53782912],\n",
       "        [0.46735463],\n",
       "        [0.42613995],\n",
       "        [0.5018324 ],\n",
       "        [0.50300159],\n",
       "        [0.47499833],\n",
       "        [0.4917657 ],\n",
       "        [0.49032262],\n",
       "        [0.48006977],\n",
       "        [0.53228247],\n",
       "        [0.49947865],\n",
       "        [0.48432334],\n",
       "        [0.46135709],\n",
       "        [0.54341273],\n",
       "        [0.48782609],\n",
       "        [0.52837334],\n",
       "        [0.49027475],\n",
       "        [0.50036641],\n",
       "        [0.4802581 ],\n",
       "        [0.53148447],\n",
       "        [0.47916171],\n",
       "        [0.49199076],\n",
       "        [0.47991418],\n",
       "        [0.51415383],\n",
       "        [0.42174477],\n",
       "        [0.52276105],\n",
       "        [0.55643986],\n",
       "        [0.47613671],\n",
       "        [0.51843543],\n",
       "        [0.48934059],\n",
       "        [0.49687669],\n",
       "        [0.47522306],\n",
       "        [0.49669856],\n",
       "        [0.50672551],\n",
       "        [0.4769044 ],\n",
       "        [0.46243651],\n",
       "        [0.47832924],\n",
       "        [0.51045632],\n",
       "        [0.48846423],\n",
       "        [0.5061515 ],\n",
       "        [0.50316002],\n",
       "        [0.52475572],\n",
       "        [0.50550304],\n",
       "        [0.5051406 ],\n",
       "        [0.44373848],\n",
       "        [0.53561704],\n",
       "        [0.50039326],\n",
       "        [0.49807115],\n",
       "        [0.49491058],\n",
       "        [0.47554107],\n",
       "        [0.54398607],\n",
       "        [0.49572881],\n",
       "        [0.45348367],\n",
       "        [0.50296669],\n",
       "        [0.50417789],\n",
       "        [0.55596687],\n",
       "        [0.49260722],\n",
       "        [0.49829184],\n",
       "        [0.50925467],\n",
       "        [0.47968445],\n",
       "        [0.47828275],\n",
       "        [0.4754989 ],\n",
       "        [0.48998958],\n",
       "        [0.45934656],\n",
       "        [0.51252849],\n",
       "        [0.5207255 ],\n",
       "        [0.49134616],\n",
       "        [0.48127256],\n",
       "        [0.3948962 ],\n",
       "        [0.46868493],\n",
       "        [0.53360527],\n",
       "        [0.50429781],\n",
       "        [0.48999648],\n",
       "        [0.46314384],\n",
       "        [0.52813093],\n",
       "        [0.53850326],\n",
       "        [0.49416767],\n",
       "        [0.45373886],\n",
       "        [0.50698716],\n",
       "        [0.4836649 ],\n",
       "        [0.45192436],\n",
       "        [0.52066768],\n",
       "        [0.44746295],\n",
       "        [0.50600708],\n",
       "        [0.4726415 ],\n",
       "        [0.43575531],\n",
       "        [0.50430863],\n",
       "        [0.51540798]]),\n",
       " 'Y_pred': array([[1.],\n",
       "        [1.],\n",
       "        [1.],\n",
       "        [1.],\n",
       "        [1.],\n",
       "        [0.],\n",
       "        [1.],\n",
       "        [0.],\n",
       "        [1.],\n",
       "        [1.],\n",
       "        [0.],\n",
       "        [1.],\n",
       "        [0.],\n",
       "        [0.],\n",
       "        [1.],\n",
       "        [1.],\n",
       "        [1.],\n",
       "        [0.],\n",
       "        [0.],\n",
       "        [1.],\n",
       "        [1.],\n",
       "        [1.],\n",
       "        [1.],\n",
       "        [1.],\n",
       "        [0.],\n",
       "        [1.],\n",
       "        [1.],\n",
       "        [1.],\n",
       "        [1.],\n",
       "        [1.],\n",
       "        [0.],\n",
       "        [0.],\n",
       "        [1.],\n",
       "        [1.],\n",
       "        [0.],\n",
       "        [1.],\n",
       "        [0.],\n",
       "        [1.],\n",
       "        [0.],\n",
       "        [1.],\n",
       "        [0.],\n",
       "        [1.],\n",
       "        [1.],\n",
       "        [0.],\n",
       "        [0.],\n",
       "        [0.],\n",
       "        [0.],\n",
       "        [1.],\n",
       "        [0.],\n",
       "        [1.],\n",
       "        [1.],\n",
       "        [1.],\n",
       "        [0.],\n",
       "        [0.],\n",
       "        [1.],\n",
       "        [0.],\n",
       "        [0.],\n",
       "        [0.],\n",
       "        [1.],\n",
       "        [1.],\n",
       "        [1.],\n",
       "        [0.],\n",
       "        [1.],\n",
       "        [0.],\n",
       "        [1.],\n",
       "        [1.],\n",
       "        [0.],\n",
       "        [1.],\n",
       "        [1.],\n",
       "        [1.],\n",
       "        [1.],\n",
       "        [1.],\n",
       "        [1.],\n",
       "        [1.],\n",
       "        [1.],\n",
       "        [1.],\n",
       "        [1.],\n",
       "        [1.],\n",
       "        [1.],\n",
       "        [1.],\n",
       "        [0.],\n",
       "        [0.],\n",
       "        [1.],\n",
       "        [0.],\n",
       "        [1.],\n",
       "        [1.],\n",
       "        [1.],\n",
       "        [0.],\n",
       "        [1.],\n",
       "        [0.],\n",
       "        [0.],\n",
       "        [0.],\n",
       "        [1.],\n",
       "        [1.],\n",
       "        [1.],\n",
       "        [1.],\n",
       "        [1.],\n",
       "        [1.],\n",
       "        [1.],\n",
       "        [1.],\n",
       "        [1.],\n",
       "        [0.],\n",
       "        [1.],\n",
       "        [0.],\n",
       "        [1.],\n",
       "        [1.],\n",
       "        [1.],\n",
       "        [1.],\n",
       "        [1.],\n",
       "        [0.],\n",
       "        [0.],\n",
       "        [1.],\n",
       "        [1.],\n",
       "        [0.],\n",
       "        [0.],\n",
       "        [1.],\n",
       "        [1.],\n",
       "        [1.],\n",
       "        [1.],\n",
       "        [1.],\n",
       "        [1.],\n",
       "        [1.],\n",
       "        [1.],\n",
       "        [1.],\n",
       "        [1.],\n",
       "        [1.],\n",
       "        [1.],\n",
       "        [0.],\n",
       "        [1.],\n",
       "        [1.],\n",
       "        [0.],\n",
       "        [0.],\n",
       "        [1.],\n",
       "        [1.],\n",
       "        [1.],\n",
       "        [0.],\n",
       "        [1.],\n",
       "        [1.],\n",
       "        [1.],\n",
       "        [0.],\n",
       "        [1.],\n",
       "        [0.],\n",
       "        [0.],\n",
       "        [1.],\n",
       "        [1.],\n",
       "        [1.],\n",
       "        [1.],\n",
       "        [0.],\n",
       "        [1.],\n",
       "        [1.],\n",
       "        [1.],\n",
       "        [1.],\n",
       "        [1.],\n",
       "        [1.],\n",
       "        [1.],\n",
       "        [0.],\n",
       "        [1.],\n",
       "        [0.],\n",
       "        [0.],\n",
       "        [0.],\n",
       "        [1.],\n",
       "        [0.],\n",
       "        [1.],\n",
       "        [0.],\n",
       "        [0.],\n",
       "        [0.],\n",
       "        [1.],\n",
       "        [0.],\n",
       "        [1.],\n",
       "        [1.],\n",
       "        [1.],\n",
       "        [1.],\n",
       "        [0.],\n",
       "        [1.],\n",
       "        [1.],\n",
       "        [1.],\n",
       "        [1.],\n",
       "        [1.],\n",
       "        [0.],\n",
       "        [0.],\n",
       "        [0.],\n",
       "        [1.],\n",
       "        [0.],\n",
       "        [1.],\n",
       "        [0.],\n",
       "        [0.],\n",
       "        [1.],\n",
       "        [1.],\n",
       "        [0.],\n",
       "        [1.],\n",
       "        [0.],\n",
       "        [1.],\n",
       "        [1.],\n",
       "        [1.],\n",
       "        [1.],\n",
       "        [0.],\n",
       "        [1.],\n",
       "        [1.],\n",
       "        [1.],\n",
       "        [1.],\n",
       "        [1.],\n",
       "        [1.],\n",
       "        [1.],\n",
       "        [1.],\n",
       "        [1.],\n",
       "        [1.],\n",
       "        [1.],\n",
       "        [1.],\n",
       "        [1.],\n",
       "        [1.],\n",
       "        [1.],\n",
       "        [0.],\n",
       "        [0.],\n",
       "        [0.],\n",
       "        [1.],\n",
       "        [0.],\n",
       "        [1.],\n",
       "        [1.],\n",
       "        [0.],\n",
       "        [0.],\n",
       "        [1.],\n",
       "        [0.],\n",
       "        [0.],\n",
       "        [0.],\n",
       "        [1.],\n",
       "        [1.],\n",
       "        [1.],\n",
       "        [1.],\n",
       "        [1.],\n",
       "        [1.],\n",
       "        [1.],\n",
       "        [1.],\n",
       "        [1.],\n",
       "        [1.],\n",
       "        [0.],\n",
       "        [1.],\n",
       "        [1.],\n",
       "        [1.],\n",
       "        [0.],\n",
       "        [1.],\n",
       "        [1.],\n",
       "        [1.],\n",
       "        [1.],\n",
       "        [1.],\n",
       "        [1.],\n",
       "        [0.],\n",
       "        [0.],\n",
       "        [1.],\n",
       "        [1.],\n",
       "        [1.],\n",
       "        [1.],\n",
       "        [1.],\n",
       "        [0.],\n",
       "        [0.],\n",
       "        [0.],\n",
       "        [1.],\n",
       "        [1.],\n",
       "        [1.],\n",
       "        [0.],\n",
       "        [1.],\n",
       "        [1.],\n",
       "        [0.],\n",
       "        [1.],\n",
       "        [1.],\n",
       "        [1.],\n",
       "        [1.],\n",
       "        [1.],\n",
       "        [1.],\n",
       "        [1.],\n",
       "        [1.],\n",
       "        [0.],\n",
       "        [1.],\n",
       "        [1.],\n",
       "        [1.],\n",
       "        [1.],\n",
       "        [1.],\n",
       "        [0.],\n",
       "        [0.],\n",
       "        [1.],\n",
       "        [0.],\n",
       "        [1.],\n",
       "        [1.],\n",
       "        [0.],\n",
       "        [1.],\n",
       "        [0.],\n",
       "        [1.],\n",
       "        [1.],\n",
       "        [0.],\n",
       "        [1.],\n",
       "        [0.],\n",
       "        [1.],\n",
       "        [1.],\n",
       "        [1.],\n",
       "        [0.],\n",
       "        [1.],\n",
       "        [0.],\n",
       "        [1.],\n",
       "        [1.],\n",
       "        [0.],\n",
       "        [1.],\n",
       "        [1.],\n",
       "        [1.],\n",
       "        [0.],\n",
       "        [1.],\n",
       "        [0.],\n",
       "        [1.],\n",
       "        [1.],\n",
       "        [1.],\n",
       "        [1.],\n",
       "        [0.],\n",
       "        [0.],\n",
       "        [1.],\n",
       "        [1.],\n",
       "        [0.],\n",
       "        [1.],\n",
       "        [1.],\n",
       "        [1.],\n",
       "        [1.],\n",
       "        [1.],\n",
       "        [1.],\n",
       "        [1.],\n",
       "        [1.],\n",
       "        [1.],\n",
       "        [1.],\n",
       "        [0.],\n",
       "        [1.],\n",
       "        [0.],\n",
       "        [1.],\n",
       "        [1.],\n",
       "        [1.],\n",
       "        [1.],\n",
       "        [1.],\n",
       "        [1.],\n",
       "        [1.],\n",
       "        [1.],\n",
       "        [0.],\n",
       "        [1.],\n",
       "        [1.],\n",
       "        [1.],\n",
       "        [1.],\n",
       "        [0.],\n",
       "        [1.],\n",
       "        [0.],\n",
       "        [1.],\n",
       "        [1.],\n",
       "        [0.],\n",
       "        [1.],\n",
       "        [0.],\n",
       "        [1.],\n",
       "        [1.],\n",
       "        [0.],\n",
       "        [1.],\n",
       "        [1.],\n",
       "        [0.],\n",
       "        [1.],\n",
       "        [1.],\n",
       "        [1.],\n",
       "        [1.],\n",
       "        [1.],\n",
       "        [1.],\n",
       "        [1.],\n",
       "        [0.],\n",
       "        [0.],\n",
       "        [0.],\n",
       "        [1.],\n",
       "        [0.],\n",
       "        [1.],\n",
       "        [1.],\n",
       "        [0.],\n",
       "        [1.],\n",
       "        [1.],\n",
       "        [0.],\n",
       "        [1.],\n",
       "        [0.],\n",
       "        [1.],\n",
       "        [0.],\n",
       "        [1.],\n",
       "        [1.],\n",
       "        [0.],\n",
       "        [1.],\n",
       "        [1.],\n",
       "        [1.],\n",
       "        [0.],\n",
       "        [1.],\n",
       "        [0.],\n",
       "        [1.],\n",
       "        [1.],\n",
       "        [1.],\n",
       "        [1.],\n",
       "        [0.],\n",
       "        [1.],\n",
       "        [1.],\n",
       "        [0.],\n",
       "        [1.],\n",
       "        [1.],\n",
       "        [1.],\n",
       "        [1.],\n",
       "        [1.],\n",
       "        [1.],\n",
       "        [1.],\n",
       "        [1.],\n",
       "        [1.],\n",
       "        [1.],\n",
       "        [1.],\n",
       "        [1.],\n",
       "        [0.],\n",
       "        [0.],\n",
       "        [0.],\n",
       "        [1.],\n",
       "        [1.],\n",
       "        [0.],\n",
       "        [0.],\n",
       "        [1.],\n",
       "        [0.],\n",
       "        [1.],\n",
       "        [0.],\n",
       "        [1.],\n",
       "        [1.],\n",
       "        [0.],\n",
       "        [1.],\n",
       "        [1.],\n",
       "        [1.],\n",
       "        [0.],\n",
       "        [1.],\n",
       "        [1.],\n",
       "        [1.],\n",
       "        [0.],\n",
       "        [0.],\n",
       "        [1.],\n",
       "        [1.],\n",
       "        [1.],\n",
       "        [1.],\n",
       "        [1.],\n",
       "        [1.],\n",
       "        [1.],\n",
       "        [1.],\n",
       "        [0.],\n",
       "        [0.],\n",
       "        [1.],\n",
       "        [1.],\n",
       "        [1.],\n",
       "        [1.],\n",
       "        [0.],\n",
       "        [1.],\n",
       "        [0.],\n",
       "        [1.],\n",
       "        [0.],\n",
       "        [1.],\n",
       "        [1.],\n",
       "        [0.],\n",
       "        [1.],\n",
       "        [1.],\n",
       "        [0.],\n",
       "        [0.],\n",
       "        [1.],\n",
       "        [1.],\n",
       "        [0.],\n",
       "        [0.],\n",
       "        [1.],\n",
       "        [0.],\n",
       "        [1.],\n",
       "        [1.],\n",
       "        [1.],\n",
       "        [1.],\n",
       "        [1.],\n",
       "        [0.],\n",
       "        [1.],\n",
       "        [1.],\n",
       "        [0.],\n",
       "        [1.],\n",
       "        [1.],\n",
       "        [0.],\n",
       "        [1.],\n",
       "        [1.],\n",
       "        [1.],\n",
       "        [1.],\n",
       "        [1.],\n",
       "        [1.],\n",
       "        [0.],\n",
       "        [1.],\n",
       "        [1.],\n",
       "        [1.],\n",
       "        [0.],\n",
       "        [0.],\n",
       "        [1.],\n",
       "        [1.],\n",
       "        [1.],\n",
       "        [1.],\n",
       "        [0.],\n",
       "        [1.],\n",
       "        [1.],\n",
       "        [0.],\n",
       "        [0.],\n",
       "        [0.],\n",
       "        [0.],\n",
       "        [0.],\n",
       "        [1.],\n",
       "        [0.],\n",
       "        [1.],\n",
       "        [0.],\n",
       "        [0.],\n",
       "        [1.],\n",
       "        [1.],\n",
       "        [1.],\n",
       "        [0.],\n",
       "        [1.],\n",
       "        [1.],\n",
       "        [1.],\n",
       "        [1.],\n",
       "        [1.],\n",
       "        [1.],\n",
       "        [1.],\n",
       "        [0.],\n",
       "        [1.],\n",
       "        [1.],\n",
       "        [1.],\n",
       "        [0.],\n",
       "        [0.],\n",
       "        [1.],\n",
       "        [1.],\n",
       "        [1.],\n",
       "        [1.],\n",
       "        [1.],\n",
       "        [1.],\n",
       "        [1.],\n",
       "        [1.],\n",
       "        [0.],\n",
       "        [1.],\n",
       "        [1.],\n",
       "        [1.],\n",
       "        [1.],\n",
       "        [0.],\n",
       "        [0.],\n",
       "        [1.],\n",
       "        [1.],\n",
       "        [0.],\n",
       "        [1.],\n",
       "        [1.],\n",
       "        [0.],\n",
       "        [0.],\n",
       "        [0.],\n",
       "        [0.],\n",
       "        [1.],\n",
       "        [1.],\n",
       "        [1.],\n",
       "        [1.],\n",
       "        [1.],\n",
       "        [1.],\n",
       "        [1.],\n",
       "        [0.],\n",
       "        [1.],\n",
       "        [1.],\n",
       "        [1.],\n",
       "        [1.],\n",
       "        [1.],\n",
       "        [1.],\n",
       "        [0.],\n",
       "        [1.],\n",
       "        [1.],\n",
       "        [1.],\n",
       "        [1.],\n",
       "        [1.],\n",
       "        [1.],\n",
       "        [1.],\n",
       "        [1.],\n",
       "        [1.],\n",
       "        [1.],\n",
       "        [1.],\n",
       "        [0.],\n",
       "        [1.],\n",
       "        [1.],\n",
       "        [0.],\n",
       "        [1.],\n",
       "        [1.],\n",
       "        [0.],\n",
       "        [1.],\n",
       "        [1.],\n",
       "        [1.],\n",
       "        [0.],\n",
       "        [1.],\n",
       "        [1.],\n",
       "        [0.],\n",
       "        [1.],\n",
       "        [0.],\n",
       "        [0.],\n",
       "        [0.],\n",
       "        [1.],\n",
       "        [1.],\n",
       "        [0.],\n",
       "        [0.],\n",
       "        [0.],\n",
       "        [0.],\n",
       "        [1.],\n",
       "        [1.],\n",
       "        [1.],\n",
       "        [1.],\n",
       "        [1.],\n",
       "        [1.],\n",
       "        [1.],\n",
       "        [1.],\n",
       "        [1.],\n",
       "        [1.],\n",
       "        [1.],\n",
       "        [1.],\n",
       "        [1.],\n",
       "        [0.],\n",
       "        [1.],\n",
       "        [0.],\n",
       "        [0.],\n",
       "        [0.],\n",
       "        [1.],\n",
       "        [1.],\n",
       "        [1.],\n",
       "        [0.],\n",
       "        [1.],\n",
       "        [1.],\n",
       "        [1.],\n",
       "        [1.],\n",
       "        [0.],\n",
       "        [0.],\n",
       "        [1.],\n",
       "        [1.],\n",
       "        [1.],\n",
       "        [1.],\n",
       "        [1.],\n",
       "        [0.],\n",
       "        [1.],\n",
       "        [0.],\n",
       "        [1.],\n",
       "        [1.],\n",
       "        [1.],\n",
       "        [1.],\n",
       "        [1.],\n",
       "        [1.],\n",
       "        [1.],\n",
       "        [0.],\n",
       "        [0.],\n",
       "        [1.],\n",
       "        [0.],\n",
       "        [1.],\n",
       "        [1.],\n",
       "        [1.],\n",
       "        [0.],\n",
       "        [1.],\n",
       "        [1.],\n",
       "        [1.],\n",
       "        [0.],\n",
       "        [1.],\n",
       "        [1.],\n",
       "        [1.],\n",
       "        [1.],\n",
       "        [1.],\n",
       "        [1.],\n",
       "        [1.],\n",
       "        [1.],\n",
       "        [1.],\n",
       "        [0.],\n",
       "        [1.],\n",
       "        [1.],\n",
       "        [1.],\n",
       "        [0.],\n",
       "        [1.],\n",
       "        [0.],\n",
       "        [0.],\n",
       "        [1.],\n",
       "        [1.],\n",
       "        [0.],\n",
       "        [1.],\n",
       "        [1.],\n",
       "        [0.],\n",
       "        [0.],\n",
       "        [0.],\n",
       "        [0.],\n",
       "        [0.],\n",
       "        [1.],\n",
       "        [1.],\n",
       "        [1.],\n",
       "        [1.],\n",
       "        [0.],\n",
       "        [0.],\n",
       "        [1.],\n",
       "        [1.],\n",
       "        [1.],\n",
       "        [1.],\n",
       "        [0.],\n",
       "        [1.],\n",
       "        [1.],\n",
       "        [1.],\n",
       "        [0.],\n",
       "        [1.],\n",
       "        [1.],\n",
       "        [1.],\n",
       "        [1.],\n",
       "        [1.],\n",
       "        [0.],\n",
       "        [1.],\n",
       "        [0.],\n",
       "        [1.],\n",
       "        [1.],\n",
       "        [1.],\n",
       "        [0.],\n",
       "        [1.],\n",
       "        [0.],\n",
       "        [1.],\n",
       "        [1.],\n",
       "        [1.],\n",
       "        [1.],\n",
       "        [0.],\n",
       "        [1.],\n",
       "        [1.],\n",
       "        [0.],\n",
       "        [0.],\n",
       "        [1.],\n",
       "        [1.],\n",
       "        [0.],\n",
       "        [1.],\n",
       "        [1.],\n",
       "        [0.],\n",
       "        [0.],\n",
       "        [1.],\n",
       "        [0.],\n",
       "        [1.],\n",
       "        [1.],\n",
       "        [1.],\n",
       "        [1.],\n",
       "        [1.],\n",
       "        [1.],\n",
       "        [0.],\n",
       "        [0.],\n",
       "        [0.],\n",
       "        [0.],\n",
       "        [0.],\n",
       "        [0.],\n",
       "        [0.],\n",
       "        [1.],\n",
       "        [0.],\n",
       "        [1.],\n",
       "        [1.],\n",
       "        [1.],\n",
       "        [1.],\n",
       "        [0.],\n",
       "        [1.],\n",
       "        [0.],\n",
       "        [0.],\n",
       "        [1.],\n",
       "        [1.],\n",
       "        [1.],\n",
       "        [1.],\n",
       "        [1.],\n",
       "        [0.],\n",
       "        [1.],\n",
       "        [0.],\n",
       "        [1.],\n",
       "        [0.],\n",
       "        [1.],\n",
       "        [0.],\n",
       "        [1.],\n",
       "        [0.],\n",
       "        [1.],\n",
       "        [1.],\n",
       "        [1.],\n",
       "        [1.],\n",
       "        [0.],\n",
       "        [0.],\n",
       "        [0.],\n",
       "        [1.],\n",
       "        [0.],\n",
       "        [1.],\n",
       "        [1.],\n",
       "        [0.],\n",
       "        [1.],\n",
       "        [1.],\n",
       "        [1.],\n",
       "        [1.],\n",
       "        [0.],\n",
       "        [0.],\n",
       "        [0.],\n",
       "        [1.],\n",
       "        [1.],\n",
       "        [1.],\n",
       "        [1.],\n",
       "        [0.],\n",
       "        [1.],\n",
       "        [0.],\n",
       "        [1.],\n",
       "        [0.],\n",
       "        [1.],\n",
       "        [1.],\n",
       "        [1.],\n",
       "        [1.],\n",
       "        [1.],\n",
       "        [0.],\n",
       "        [0.],\n",
       "        [1.],\n",
       "        [0.],\n",
       "        [1.],\n",
       "        [1.],\n",
       "        [0.],\n",
       "        [1.],\n",
       "        [1.],\n",
       "        [1.],\n",
       "        [1.],\n",
       "        [1.],\n",
       "        [1.],\n",
       "        [1.],\n",
       "        [1.],\n",
       "        [0.],\n",
       "        [1.],\n",
       "        [0.],\n",
       "        [0.],\n",
       "        [1.],\n",
       "        [0.],\n",
       "        [1.],\n",
       "        [1.],\n",
       "        [0.],\n",
       "        [1.],\n",
       "        [0.],\n",
       "        [1.],\n",
       "        [1.],\n",
       "        [1.],\n",
       "        [0.],\n",
       "        [1.],\n",
       "        [0.],\n",
       "        [1.],\n",
       "        [0.],\n",
       "        [1.],\n",
       "        [1.],\n",
       "        [0.],\n",
       "        [0.],\n",
       "        [0.],\n",
       "        [1.],\n",
       "        [0.],\n",
       "        [1.],\n",
       "        [1.],\n",
       "        [0.],\n",
       "        [1.],\n",
       "        [0.],\n",
       "        [1.],\n",
       "        [0.],\n",
       "        [0.],\n",
       "        [1.],\n",
       "        [1.],\n",
       "        [1.],\n",
       "        [1.],\n",
       "        [0.],\n",
       "        [1.],\n",
       "        [1.],\n",
       "        [1.],\n",
       "        [0.],\n",
       "        [1.],\n",
       "        [1.],\n",
       "        [0.],\n",
       "        [0.],\n",
       "        [1.],\n",
       "        [1.],\n",
       "        [0.],\n",
       "        [1.],\n",
       "        [1.],\n",
       "        [0.],\n",
       "        [1.],\n",
       "        [1.],\n",
       "        [0.],\n",
       "        [0.],\n",
       "        [1.],\n",
       "        [1.],\n",
       "        [1.],\n",
       "        [1.],\n",
       "        [1.],\n",
       "        [0.],\n",
       "        [1.],\n",
       "        [0.],\n",
       "        [1.],\n",
       "        [0.],\n",
       "        [1.],\n",
       "        [0.],\n",
       "        [1.],\n",
       "        [1.],\n",
       "        [0.],\n",
       "        [1.],\n",
       "        [1.],\n",
       "        [1.],\n",
       "        [0.],\n",
       "        [1.],\n",
       "        [1.],\n",
       "        [0.],\n",
       "        [0.],\n",
       "        [0.],\n",
       "        [1.],\n",
       "        [1.],\n",
       "        [1.],\n",
       "        [1.],\n",
       "        [1.],\n",
       "        [1.],\n",
       "        [1.],\n",
       "        [0.],\n",
       "        [1.],\n",
       "        [1.],\n",
       "        [1.],\n",
       "        [1.],\n",
       "        [0.],\n",
       "        [1.],\n",
       "        [1.],\n",
       "        [0.],\n",
       "        [1.],\n",
       "        [1.],\n",
       "        [1.],\n",
       "        [1.],\n",
       "        [1.],\n",
       "        [1.],\n",
       "        [0.],\n",
       "        [0.],\n",
       "        [0.],\n",
       "        [1.],\n",
       "        [0.],\n",
       "        [1.],\n",
       "        [1.],\n",
       "        [1.],\n",
       "        [0.],\n",
       "        [0.],\n",
       "        [0.],\n",
       "        [1.],\n",
       "        [1.],\n",
       "        [1.],\n",
       "        [0.],\n",
       "        [1.],\n",
       "        [1.],\n",
       "        [1.],\n",
       "        [0.],\n",
       "        [1.],\n",
       "        [0.],\n",
       "        [0.],\n",
       "        [1.],\n",
       "        [0.],\n",
       "        [1.],\n",
       "        [0.],\n",
       "        [0.],\n",
       "        [1.],\n",
       "        [1.]]),\n",
       " 'AUC': 0.537805281390792,\n",
       " 'Training_threshold': 0.48668132869435027,\n",
       " 'Opt_threshold': 0.4907662442848714,\n",
       " 'Accuracy': 0.509594882729211,\n",
       " 'Misclassification': 0.49040511727078895,\n",
       " 'Precision': 0.5071315372424723,\n",
       " 'Recall': 0.6823027718550106,\n",
       " 'Sensitivity': 0.6823027718550106,\n",
       " 'Specificity': 0.3368869936034115,\n",
       " 'F_score': 0.5818181818181818,\n",
       " 'Fall_out': 0.6631130063965884,\n",
       " 'Miss_rate': 0.31769722814498935}"
      ]
     },
     "execution_count": 18,
     "metadata": {},
     "output_type": "execute_result"
    }
   ],
   "source": [
    "results_dict_new"
   ]
  },
  {
   "cell_type": "code",
   "execution_count": 19,
   "id": "dcccc1c7",
   "metadata": {
    "scrolled": true
   },
   "outputs": [
    {
     "name": "stderr",
     "output_type": "stream",
     "text": [
      "  3%|▎         | 26/1000 [00:00<00:07, 127.32it/s]"
     ]
    },
    {
     "name": "stdout",
     "output_type": "stream",
     "text": [
      "iteration 0, reconstruction error 6322.303578\n",
      "iteration 10, reconstruction error 5426.848068\n",
      "iteration 20, reconstruction error 5232.723380\n"
     ]
    },
    {
     "name": "stderr",
     "output_type": "stream",
     "text": [
      "  6%|▌         | 58/1000 [00:00<00:06, 144.81it/s]"
     ]
    },
    {
     "name": "stdout",
     "output_type": "stream",
     "text": [
      "iteration 30, reconstruction error 5162.367162\n",
      "iteration 40, reconstruction error 5138.824627\n",
      "iteration 50, reconstruction error 5122.828720\n",
      "iteration 60, reconstruction error 5104.753978\n"
     ]
    },
    {
     "name": "stderr",
     "output_type": "stream",
     "text": [
      "  9%|▉         | 89/1000 [00:00<00:06, 150.08it/s]"
     ]
    },
    {
     "name": "stdout",
     "output_type": "stream",
     "text": [
      "iteration 70, reconstruction error 5091.279145\n",
      "iteration 80, reconstruction error 5079.570214\n",
      "iteration 90, reconstruction error 5071.522017\n",
      "iteration 100, reconstruction error 5066.747261\n"
     ]
    },
    {
     "name": "stderr",
     "output_type": "stream",
     "text": [
      " 14%|█▎        | 135/1000 [00:00<00:05, 144.95it/s]"
     ]
    },
    {
     "name": "stdout",
     "output_type": "stream",
     "text": [
      "iteration 110, reconstruction error 5062.838620\n",
      "iteration 120, reconstruction error 5059.445728\n",
      "iteration 130, reconstruction error 5056.572956\n",
      "iteration 140, reconstruction error 5054.188816\n"
     ]
    },
    {
     "name": "stderr",
     "output_type": "stream",
     "text": [
      " 16%|█▋        | 165/1000 [00:01<00:05, 142.08it/s]"
     ]
    },
    {
     "name": "stdout",
     "output_type": "stream",
     "text": [
      "iteration 150, reconstruction error 5052.405878\n",
      "iteration 160, reconstruction error 5051.219566\n",
      "iteration 170, reconstruction error 5050.337099\n"
     ]
    },
    {
     "name": "stderr",
     "output_type": "stream",
     "text": [
      " 19%|█▉        | 194/1000 [00:01<00:06, 128.70it/s]"
     ]
    },
    {
     "name": "stdout",
     "output_type": "stream",
     "text": [
      "iteration 180, reconstruction error 5049.613203\n",
      "iteration 190, reconstruction error 5049.212184\n",
      "iteration 200, reconstruction error 5049.071730\n"
     ]
    },
    {
     "name": "stderr",
     "output_type": "stream",
     "text": [
      " 24%|██▎       | 235/1000 [00:01<00:05, 130.02it/s]"
     ]
    },
    {
     "name": "stdout",
     "output_type": "stream",
     "text": [
      "iteration 210, reconstruction error 5049.015625\n",
      "iteration 220, reconstruction error 5048.989100\n",
      "iteration 230, reconstruction error 5048.975718\n"
     ]
    },
    {
     "name": "stderr",
     "output_type": "stream",
     "text": [
      " 26%|██▋       | 263/1000 [00:01<00:05, 129.11it/s]"
     ]
    },
    {
     "name": "stdout",
     "output_type": "stream",
     "text": [
      "iteration 240, reconstruction error 5048.968839\n",
      "iteration 250, reconstruction error 5048.965276\n",
      "iteration 260, reconstruction error 5048.963424\n"
     ]
    },
    {
     "name": "stderr",
     "output_type": "stream",
     "text": [
      " 29%|██▉       | 290/1000 [00:02<00:05, 129.51it/s]"
     ]
    },
    {
     "name": "stdout",
     "output_type": "stream",
     "text": [
      "iteration 270, reconstruction error 5048.962458\n",
      "iteration 280, reconstruction error 5048.961950\n",
      "iteration 290, reconstruction error 5048.961682\n"
     ]
    },
    {
     "name": "stderr",
     "output_type": "stream",
     "text": [
      " 32%|███▏      | 317/1000 [00:02<00:05, 129.65it/s]"
     ]
    },
    {
     "name": "stdout",
     "output_type": "stream",
     "text": [
      "iteration 300, reconstruction error 5048.961540\n",
      "iteration 310, reconstruction error 5048.961464\n",
      "iteration 320, reconstruction error 5048.961423\n"
     ]
    },
    {
     "name": "stderr",
     "output_type": "stream",
     "text": [
      " 34%|███▍      | 345/1000 [00:02<00:04, 132.07it/s]"
     ]
    },
    {
     "name": "stdout",
     "output_type": "stream",
     "text": [
      "iteration 330, reconstruction error 5048.961402\n",
      "iteration 340, reconstruction error 5048.961390\n",
      "iteration 350, reconstruction error 5048.961384\n"
     ]
    },
    {
     "name": "stderr",
     "output_type": "stream",
     "text": [
      " 39%|███▊      | 387/1000 [00:02<00:04, 131.49it/s]"
     ]
    },
    {
     "name": "stdout",
     "output_type": "stream",
     "text": [
      "iteration 360, reconstruction error 5048.961380\n",
      "iteration 370, reconstruction error 5048.961379\n",
      "iteration 380, reconstruction error 5048.961378\n"
     ]
    },
    {
     "name": "stderr",
     "output_type": "stream",
     "text": [
      " 42%|████▏     | 419/1000 [00:03<00:04, 144.44it/s]"
     ]
    },
    {
     "name": "stdout",
     "output_type": "stream",
     "text": [
      "iteration 390, reconstruction error 5048.961377\n",
      "iteration 400, reconstruction error 5048.961377\n",
      "iteration 410, reconstruction error 5048.961376\n",
      "iteration 420, reconstruction error 5048.961376\n"
     ]
    },
    {
     "name": "stderr",
     "output_type": "stream",
     "text": [
      " 45%|████▍     | 449/1000 [00:03<00:03, 137.84it/s]"
     ]
    },
    {
     "name": "stdout",
     "output_type": "stream",
     "text": [
      "iteration 430, reconstruction error 5048.961376\n",
      "iteration 440, reconstruction error 5048.961376\n",
      "iteration 450, reconstruction error 5048.961376\n"
     ]
    },
    {
     "name": "stderr",
     "output_type": "stream",
     "text": [
      " 48%|████▊     | 480/1000 [00:03<00:03, 143.31it/s]"
     ]
    },
    {
     "name": "stdout",
     "output_type": "stream",
     "text": [
      "iteration 460, reconstruction error 5048.961376\n",
      "iteration 470, reconstruction error 5048.961376\n",
      "iteration 480, reconstruction error 5048.961376\n"
     ]
    },
    {
     "name": "stderr",
     "output_type": "stream",
     "text": [
      " 51%|█████     | 509/1000 [00:03<00:03, 135.49it/s]"
     ]
    },
    {
     "name": "stdout",
     "output_type": "stream",
     "text": [
      "iteration 490, reconstruction error 5048.961376\n",
      "iteration 500, reconstruction error 5048.961376\n",
      "iteration 510, reconstruction error 5048.961376\n"
     ]
    },
    {
     "name": "stderr",
     "output_type": "stream",
     "text": [
      " 54%|█████▍    | 538/1000 [00:03<00:03, 133.32it/s]"
     ]
    },
    {
     "name": "stdout",
     "output_type": "stream",
     "text": [
      "iteration 520, reconstruction error 5048.961376\n",
      "iteration 530, reconstruction error 5048.961376\n",
      "iteration 540, reconstruction error 5048.961376\n"
     ]
    },
    {
     "name": "stderr",
     "output_type": "stream",
     "text": [
      " 57%|█████▋    | 567/1000 [00:04<00:03, 134.23it/s]"
     ]
    },
    {
     "name": "stdout",
     "output_type": "stream",
     "text": [
      "iteration 550, reconstruction error 5048.961376\n",
      "iteration 560, reconstruction error 5048.961376\n",
      "iteration 570, reconstruction error 5048.961376\n"
     ]
    },
    {
     "name": "stderr",
     "output_type": "stream",
     "text": [
      " 61%|██████    | 610/1000 [00:04<00:02, 135.86it/s]"
     ]
    },
    {
     "name": "stdout",
     "output_type": "stream",
     "text": [
      "iteration 580, reconstruction error 5048.961376\n",
      "iteration 590, reconstruction error 5048.961376\n",
      "iteration 600, reconstruction error 5048.961376\n"
     ]
    },
    {
     "name": "stderr",
     "output_type": "stream",
     "text": [
      "\r",
      " 62%|██████▏   | 624/1000 [00:04<00:02, 132.85it/s]"
     ]
    },
    {
     "name": "stdout",
     "output_type": "stream",
     "text": [
      "iteration 610, reconstruction error 5048.961376\n",
      "iteration 620, reconstruction error 5048.961376\n",
      "iteration 630, reconstruction error 5048.961376\n"
     ]
    },
    {
     "name": "stderr",
     "output_type": "stream",
     "text": [
      " 67%|██████▋   | 671/1000 [00:04<00:02, 143.64it/s]"
     ]
    },
    {
     "name": "stdout",
     "output_type": "stream",
     "text": [
      "iteration 640, reconstruction error 5048.961376\n",
      "iteration 650, reconstruction error 5048.961376\n",
      "iteration 660, reconstruction error 5048.961376\n",
      "iteration 670, reconstruction error 5048.961376\n"
     ]
    },
    {
     "name": "stderr",
     "output_type": "stream",
     "text": [
      " 70%|███████   | 701/1000 [00:05<00:02, 141.09it/s]"
     ]
    },
    {
     "name": "stdout",
     "output_type": "stream",
     "text": [
      "iteration 680, reconstruction error 5048.961376\n",
      "iteration 690, reconstruction error 5048.961376\n",
      "iteration 700, reconstruction error 5048.961376\n"
     ]
    },
    {
     "name": "stderr",
     "output_type": "stream",
     "text": [
      "\r",
      " 72%|███████▏  | 716/1000 [00:05<00:02, 137.86it/s]"
     ]
    },
    {
     "name": "stdout",
     "output_type": "stream",
     "text": [
      "iteration 710, reconstruction error 5048.961376\n",
      "iteration 720, reconstruction error 5048.961376\n"
     ]
    },
    {
     "name": "stderr",
     "output_type": "stream",
     "text": [
      " 76%|███████▌  | 756/1000 [00:05<00:02, 119.80it/s]"
     ]
    },
    {
     "name": "stdout",
     "output_type": "stream",
     "text": [
      "iteration 730, reconstruction error 5048.961376\n",
      "iteration 740, reconstruction error 5048.961376\n",
      "iteration 750, reconstruction error 5048.961376\n"
     ]
    },
    {
     "name": "stderr",
     "output_type": "stream",
     "text": [
      " 78%|███████▊  | 782/1000 [00:05<00:01, 123.00it/s]"
     ]
    },
    {
     "name": "stdout",
     "output_type": "stream",
     "text": [
      "iteration 760, reconstruction error 5048.961376\n",
      "iteration 770, reconstruction error 5048.961376\n",
      "iteration 780, reconstruction error 5048.961376\n"
     ]
    },
    {
     "name": "stderr",
     "output_type": "stream",
     "text": [
      " 81%|████████  | 809/1000 [00:06<00:01, 127.31it/s]"
     ]
    },
    {
     "name": "stdout",
     "output_type": "stream",
     "text": [
      "iteration 790, reconstruction error 5048.961376\n",
      "iteration 800, reconstruction error 5048.961376\n",
      "iteration 810, reconstruction error 5048.961376\n"
     ]
    },
    {
     "name": "stderr",
     "output_type": "stream",
     "text": [
      " 84%|████████▎ | 837/1000 [00:06<00:01, 132.11it/s]"
     ]
    },
    {
     "name": "stdout",
     "output_type": "stream",
     "text": [
      "iteration 820, reconstruction error 5048.961376\n",
      "iteration 830, reconstruction error 5048.961376\n",
      "iteration 840, reconstruction error 5048.961376\n"
     ]
    },
    {
     "name": "stderr",
     "output_type": "stream",
     "text": [
      " 87%|████████▋ | 868/1000 [00:06<00:00, 142.81it/s]"
     ]
    },
    {
     "name": "stdout",
     "output_type": "stream",
     "text": [
      "iteration 850, reconstruction error 5048.961376\n",
      "iteration 860, reconstruction error 5048.961376\n",
      "iteration 870, reconstruction error 5048.961376\n",
      "iteration 880, reconstruction error 5048.961376\n"
     ]
    },
    {
     "name": "stderr",
     "output_type": "stream",
     "text": [
      " 92%|█████████▏| 916/1000 [00:06<00:00, 148.25it/s]"
     ]
    },
    {
     "name": "stdout",
     "output_type": "stream",
     "text": [
      "iteration 890, reconstruction error 5048.961376\n",
      "iteration 900, reconstruction error 5048.961376\n",
      "iteration 910, reconstruction error 5048.961376\n",
      "iteration 920, reconstruction error 5048.961376\n"
     ]
    },
    {
     "name": "stderr",
     "output_type": "stream",
     "text": [
      " 95%|█████████▍| 948/1000 [00:06<00:00, 152.51it/s]"
     ]
    },
    {
     "name": "stdout",
     "output_type": "stream",
     "text": [
      "iteration 930, reconstruction error 5048.961376\n",
      "iteration 940, reconstruction error 5048.961376\n",
      "iteration 950, reconstruction error 5048.961376\n",
      "iteration 960, reconstruction error 5048.961376\n"
     ]
    },
    {
     "name": "stderr",
     "output_type": "stream",
     "text": [
      "100%|█████████▉| 995/1000 [00:07<00:00, 144.47it/s]"
     ]
    },
    {
     "name": "stdout",
     "output_type": "stream",
     "text": [
      "iteration 970, reconstruction error 5048.961376\n",
      "iteration 980, reconstruction error 5048.961376\n",
      "iteration 990, reconstruction error 5048.961376\n"
     ]
    },
    {
     "name": "stderr",
     "output_type": "stream",
     "text": [
      "100%|██████████| 1000/1000 [00:07<00:00, 135.97it/s]\n",
      "  1%|          | 7/1000 [00:00<00:29, 34.21it/s]"
     ]
    },
    {
     "name": "stdout",
     "output_type": "stream",
     "text": [
      "iteration 0, reconstruction error 18977.206426\n"
     ]
    },
    {
     "name": "stderr",
     "output_type": "stream",
     "text": [
      "  2%|▏         | 15/1000 [00:00<00:28, 35.13it/s]"
     ]
    },
    {
     "name": "stdout",
     "output_type": "stream",
     "text": [
      "iteration 10, reconstruction error 16423.343516\n"
     ]
    },
    {
     "name": "stderr",
     "output_type": "stream",
     "text": [
      "  3%|▎         | 28/1000 [00:00<00:25, 38.50it/s]"
     ]
    },
    {
     "name": "stdout",
     "output_type": "stream",
     "text": [
      "iteration 20, reconstruction error 15873.275048\n"
     ]
    },
    {
     "name": "stderr",
     "output_type": "stream",
     "text": [
      "  4%|▎         | 36/1000 [00:00<00:25, 37.97it/s]"
     ]
    },
    {
     "name": "stdout",
     "output_type": "stream",
     "text": [
      "iteration 30, reconstruction error 15635.463294\n"
     ]
    },
    {
     "name": "stderr",
     "output_type": "stream",
     "text": [
      "  5%|▍         | 49/1000 [00:01<00:24, 39.21it/s]"
     ]
    },
    {
     "name": "stdout",
     "output_type": "stream",
     "text": [
      "iteration 40, reconstruction error 15476.310811\n"
     ]
    },
    {
     "name": "stderr",
     "output_type": "stream",
     "text": [
      "  6%|▌         | 58/1000 [00:01<00:24, 38.75it/s]"
     ]
    },
    {
     "name": "stdout",
     "output_type": "stream",
     "text": [
      "iteration 50, reconstruction error 15376.939573\n"
     ]
    },
    {
     "name": "stderr",
     "output_type": "stream",
     "text": [
      "  7%|▋         | 66/1000 [00:01<00:26, 35.50it/s]"
     ]
    },
    {
     "name": "stdout",
     "output_type": "stream",
     "text": [
      "iteration 60, reconstruction error 15332.637305\n"
     ]
    },
    {
     "name": "stderr",
     "output_type": "stream",
     "text": [
      "  8%|▊         | 78/1000 [00:02<00:26, 35.31it/s]"
     ]
    },
    {
     "name": "stdout",
     "output_type": "stream",
     "text": [
      "iteration 70, reconstruction error 15302.518120\n"
     ]
    },
    {
     "name": "stderr",
     "output_type": "stream",
     "text": [
      "  9%|▊         | 86/1000 [00:02<00:26, 34.84it/s]"
     ]
    },
    {
     "name": "stdout",
     "output_type": "stream",
     "text": [
      "iteration 80, reconstruction error 15283.113797\n"
     ]
    },
    {
     "name": "stderr",
     "output_type": "stream",
     "text": [
      " 10%|▉         | 96/1000 [00:02<00:23, 37.81it/s]"
     ]
    },
    {
     "name": "stdout",
     "output_type": "stream",
     "text": [
      "iteration 90, reconstruction error 15267.485839\n"
     ]
    },
    {
     "name": "stderr",
     "output_type": "stream",
     "text": [
      " 11%|█         | 106/1000 [00:02<00:23, 38.67it/s]"
     ]
    },
    {
     "name": "stdout",
     "output_type": "stream",
     "text": [
      "iteration 100, reconstruction error 15260.702587\n"
     ]
    },
    {
     "name": "stderr",
     "output_type": "stream",
     "text": [
      " 12%|█▏        | 118/1000 [00:03<00:25, 35.18it/s]"
     ]
    },
    {
     "name": "stdout",
     "output_type": "stream",
     "text": [
      "iteration 110, reconstruction error 15256.289789\n"
     ]
    },
    {
     "name": "stderr",
     "output_type": "stream",
     "text": [
      " 13%|█▎        | 127/1000 [00:03<00:23, 37.55it/s]"
     ]
    },
    {
     "name": "stdout",
     "output_type": "stream",
     "text": [
      "iteration 120, reconstruction error 15252.908065\n"
     ]
    },
    {
     "name": "stderr",
     "output_type": "stream",
     "text": [
      " 14%|█▎        | 136/1000 [00:03<00:22, 38.87it/s]"
     ]
    },
    {
     "name": "stdout",
     "output_type": "stream",
     "text": [
      "iteration 130, reconstruction error 15250.571563\n"
     ]
    },
    {
     "name": "stderr",
     "output_type": "stream",
     "text": [
      " 15%|█▍        | 146/1000 [00:03<00:21, 39.11it/s]"
     ]
    },
    {
     "name": "stdout",
     "output_type": "stream",
     "text": [
      "iteration 140, reconstruction error 15249.488770\n"
     ]
    },
    {
     "name": "stderr",
     "output_type": "stream",
     "text": [
      " 16%|█▌        | 158/1000 [00:04<00:23, 35.20it/s]"
     ]
    },
    {
     "name": "stdout",
     "output_type": "stream",
     "text": [
      "iteration 150, reconstruction error 15249.158476\n"
     ]
    },
    {
     "name": "stderr",
     "output_type": "stream",
     "text": [
      " 17%|█▋        | 166/1000 [00:04<00:24, 34.41it/s]"
     ]
    },
    {
     "name": "stdout",
     "output_type": "stream",
     "text": [
      "iteration 160, reconstruction error 15248.997655\n"
     ]
    },
    {
     "name": "stderr",
     "output_type": "stream",
     "text": [
      " 18%|█▊        | 178/1000 [00:04<00:22, 35.95it/s]"
     ]
    },
    {
     "name": "stdout",
     "output_type": "stream",
     "text": [
      "iteration 170, reconstruction error 15248.848440\n"
     ]
    },
    {
     "name": "stderr",
     "output_type": "stream",
     "text": [
      " 19%|█▊        | 186/1000 [00:05<00:22, 36.52it/s]"
     ]
    },
    {
     "name": "stdout",
     "output_type": "stream",
     "text": [
      "iteration 180, reconstruction error 15248.657185\n"
     ]
    },
    {
     "name": "stderr",
     "output_type": "stream",
     "text": [
      " 20%|█▉        | 198/1000 [00:05<00:22, 35.78it/s]"
     ]
    },
    {
     "name": "stdout",
     "output_type": "stream",
     "text": [
      "iteration 190, reconstruction error 15248.377384\n"
     ]
    },
    {
     "name": "stderr",
     "output_type": "stream",
     "text": [
      " 21%|██        | 206/1000 [00:05<00:22, 35.82it/s]"
     ]
    },
    {
     "name": "stdout",
     "output_type": "stream",
     "text": [
      "iteration 200, reconstruction error 15247.947136\n"
     ]
    },
    {
     "name": "stderr",
     "output_type": "stream",
     "text": [
      " 22%|██▏       | 218/1000 [00:05<00:21, 35.98it/s]"
     ]
    },
    {
     "name": "stdout",
     "output_type": "stream",
     "text": [
      "iteration 210, reconstruction error 15247.274664\n"
     ]
    },
    {
     "name": "stderr",
     "output_type": "stream",
     "text": [
      " 23%|██▎       | 226/1000 [00:06<00:21, 35.71it/s]"
     ]
    },
    {
     "name": "stdout",
     "output_type": "stream",
     "text": [
      "iteration 220, reconstruction error 15246.232568\n"
     ]
    },
    {
     "name": "stderr",
     "output_type": "stream",
     "text": [
      " 24%|██▍       | 238/1000 [00:06<00:21, 35.99it/s]"
     ]
    },
    {
     "name": "stdout",
     "output_type": "stream",
     "text": [
      "iteration 230, reconstruction error 15244.638005\n"
     ]
    },
    {
     "name": "stderr",
     "output_type": "stream",
     "text": [
      " 25%|██▍       | 246/1000 [00:06<00:21, 35.34it/s]"
     ]
    },
    {
     "name": "stdout",
     "output_type": "stream",
     "text": [
      "iteration 240, reconstruction error 15242.232580\n"
     ]
    },
    {
     "name": "stderr",
     "output_type": "stream",
     "text": [
      " 26%|██▌       | 258/1000 [00:07<00:20, 35.43it/s]"
     ]
    },
    {
     "name": "stdout",
     "output_type": "stream",
     "text": [
      "iteration 250, reconstruction error 15238.653803\n"
     ]
    },
    {
     "name": "stderr",
     "output_type": "stream",
     "text": [
      " 27%|██▋       | 266/1000 [00:07<00:20, 36.02it/s]"
     ]
    },
    {
     "name": "stdout",
     "output_type": "stream",
     "text": [
      "iteration 260, reconstruction error 15234.196879\n"
     ]
    },
    {
     "name": "stderr",
     "output_type": "stream",
     "text": [
      " 28%|██▊       | 278/1000 [00:07<00:20, 35.96it/s]"
     ]
    },
    {
     "name": "stdout",
     "output_type": "stream",
     "text": [
      "iteration 270, reconstruction error 15230.414916\n"
     ]
    },
    {
     "name": "stderr",
     "output_type": "stream",
     "text": [
      " 29%|██▊       | 286/1000 [00:07<00:19, 35.76it/s]"
     ]
    },
    {
     "name": "stdout",
     "output_type": "stream",
     "text": [
      "iteration 280, reconstruction error 15227.407517\n"
     ]
    },
    {
     "name": "stderr",
     "output_type": "stream",
     "text": [
      " 30%|██▉       | 298/1000 [00:08<00:19, 35.59it/s]"
     ]
    },
    {
     "name": "stdout",
     "output_type": "stream",
     "text": [
      "iteration 290, reconstruction error 15224.917344\n"
     ]
    },
    {
     "name": "stderr",
     "output_type": "stream",
     "text": [
      " 31%|███       | 306/1000 [00:08<00:19, 35.49it/s]"
     ]
    },
    {
     "name": "stdout",
     "output_type": "stream",
     "text": [
      "iteration 300, reconstruction error 15222.787528\n"
     ]
    },
    {
     "name": "stderr",
     "output_type": "stream",
     "text": [
      " 32%|███▏      | 318/1000 [00:08<00:18, 36.05it/s]"
     ]
    },
    {
     "name": "stdout",
     "output_type": "stream",
     "text": [
      "iteration 310, reconstruction error 15220.970813\n"
     ]
    },
    {
     "name": "stderr",
     "output_type": "stream",
     "text": [
      " 33%|███▎      | 326/1000 [00:09<00:18, 36.04it/s]"
     ]
    },
    {
     "name": "stdout",
     "output_type": "stream",
     "text": [
      "iteration 320, reconstruction error 15219.408970\n"
     ]
    },
    {
     "name": "stderr",
     "output_type": "stream",
     "text": [
      " 34%|███▍      | 338/1000 [00:09<00:18, 35.83it/s]"
     ]
    },
    {
     "name": "stdout",
     "output_type": "stream",
     "text": [
      "iteration 330, reconstruction error 15218.059763\n"
     ]
    },
    {
     "name": "stderr",
     "output_type": "stream",
     "text": [
      " 35%|███▍      | 346/1000 [00:09<00:18, 36.17it/s]"
     ]
    },
    {
     "name": "stdout",
     "output_type": "stream",
     "text": [
      "iteration 340, reconstruction error 15216.912555\n"
     ]
    },
    {
     "name": "stderr",
     "output_type": "stream",
     "text": [
      " 36%|███▌      | 358/1000 [00:09<00:17, 35.93it/s]"
     ]
    },
    {
     "name": "stdout",
     "output_type": "stream",
     "text": [
      "iteration 350, reconstruction error 15215.956559\n"
     ]
    },
    {
     "name": "stderr",
     "output_type": "stream",
     "text": [
      " 37%|███▋      | 366/1000 [00:10<00:17, 35.83it/s]"
     ]
    },
    {
     "name": "stdout",
     "output_type": "stream",
     "text": [
      "iteration 360, reconstruction error 15215.156769\n"
     ]
    },
    {
     "name": "stderr",
     "output_type": "stream",
     "text": [
      " 38%|███▊      | 378/1000 [00:10<00:17, 35.99it/s]"
     ]
    },
    {
     "name": "stdout",
     "output_type": "stream",
     "text": [
      "iteration 370, reconstruction error 15214.487528\n"
     ]
    },
    {
     "name": "stderr",
     "output_type": "stream",
     "text": [
      " 39%|███▊      | 386/1000 [00:10<00:17, 35.94it/s]"
     ]
    },
    {
     "name": "stdout",
     "output_type": "stream",
     "text": [
      "iteration 380, reconstruction error 15213.929183\n"
     ]
    },
    {
     "name": "stderr",
     "output_type": "stream",
     "text": [
      " 40%|███▉      | 398/1000 [00:11<00:16, 37.10it/s]"
     ]
    },
    {
     "name": "stdout",
     "output_type": "stream",
     "text": [
      "iteration 390, reconstruction error 15213.460189\n"
     ]
    },
    {
     "name": "stderr",
     "output_type": "stream",
     "text": [
      " 41%|████      | 406/1000 [00:11<00:16, 37.01it/s]"
     ]
    },
    {
     "name": "stdout",
     "output_type": "stream",
     "text": [
      "iteration 400, reconstruction error 15213.055854\n"
     ]
    },
    {
     "name": "stderr",
     "output_type": "stream",
     "text": [
      " 42%|████▏     | 415/1000 [00:11<00:15, 37.46it/s]"
     ]
    },
    {
     "name": "stdout",
     "output_type": "stream",
     "text": [
      "iteration 410, reconstruction error 15212.696867\n"
     ]
    },
    {
     "name": "stderr",
     "output_type": "stream",
     "text": [
      " 43%|████▎     | 429/1000 [00:11<00:14, 39.45it/s]"
     ]
    },
    {
     "name": "stdout",
     "output_type": "stream",
     "text": [
      "iteration 420, reconstruction error 15212.371603\n"
     ]
    },
    {
     "name": "stderr",
     "output_type": "stream",
     "text": [
      " 44%|████▍     | 438/1000 [00:12<00:14, 39.03it/s]"
     ]
    },
    {
     "name": "stdout",
     "output_type": "stream",
     "text": [
      "iteration 430, reconstruction error 15212.070403\n"
     ]
    },
    {
     "name": "stderr",
     "output_type": "stream",
     "text": [
      " 45%|████▍     | 446/1000 [00:12<00:14, 36.98it/s]"
     ]
    },
    {
     "name": "stdout",
     "output_type": "stream",
     "text": [
      "iteration 440, reconstruction error 15211.790677\n"
     ]
    },
    {
     "name": "stderr",
     "output_type": "stream",
     "text": [
      " 46%|████▌     | 459/1000 [00:12<00:13, 38.98it/s]"
     ]
    },
    {
     "name": "stdout",
     "output_type": "stream",
     "text": [
      "iteration 450, reconstruction error 15211.535664\n"
     ]
    },
    {
     "name": "stderr",
     "output_type": "stream",
     "text": [
      " 47%|████▋     | 467/1000 [00:12<00:14, 37.56it/s]"
     ]
    },
    {
     "name": "stdout",
     "output_type": "stream",
     "text": [
      "iteration 460, reconstruction error 15211.299259\n"
     ]
    },
    {
     "name": "stderr",
     "output_type": "stream",
     "text": [
      " 48%|████▊     | 475/1000 [00:13<00:14, 36.89it/s]"
     ]
    },
    {
     "name": "stdout",
     "output_type": "stream",
     "text": [
      "iteration 470, reconstruction error 15211.078507\n"
     ]
    },
    {
     "name": "stderr",
     "output_type": "stream",
     "text": [
      " 49%|████▊     | 487/1000 [00:13<00:14, 35.07it/s]"
     ]
    },
    {
     "name": "stdout",
     "output_type": "stream",
     "text": [
      "iteration 480, reconstruction error 15210.873114\n"
     ]
    },
    {
     "name": "stderr",
     "output_type": "stream",
     "text": [
      " 50%|████▉     | 496/1000 [00:13<00:14, 35.11it/s]"
     ]
    },
    {
     "name": "stdout",
     "output_type": "stream",
     "text": [
      "iteration 490, reconstruction error 15210.681071\n"
     ]
    },
    {
     "name": "stderr",
     "output_type": "stream",
     "text": [
      " 51%|█████     | 506/1000 [00:13<00:12, 38.13it/s]"
     ]
    },
    {
     "name": "stdout",
     "output_type": "stream",
     "text": [
      "iteration 500, reconstruction error 15210.498240\n"
     ]
    },
    {
     "name": "stderr",
     "output_type": "stream",
     "text": [
      " 52%|█████▏    | 515/1000 [00:14<00:12, 37.44it/s]"
     ]
    },
    {
     "name": "stdout",
     "output_type": "stream",
     "text": [
      "iteration 510, reconstruction error 15210.321379\n"
     ]
    },
    {
     "name": "stderr",
     "output_type": "stream",
     "text": [
      " 53%|█████▎    | 527/1000 [00:14<00:13, 36.36it/s]"
     ]
    },
    {
     "name": "stdout",
     "output_type": "stream",
     "text": [
      "iteration 520, reconstruction error 15210.146090\n"
     ]
    },
    {
     "name": "stderr",
     "output_type": "stream",
     "text": [
      " 54%|█████▎    | 535/1000 [00:14<00:13, 34.24it/s]"
     ]
    },
    {
     "name": "stdout",
     "output_type": "stream",
     "text": [
      "iteration 530, reconstruction error 15209.970303\n"
     ]
    },
    {
     "name": "stderr",
     "output_type": "stream",
     "text": [
      " 55%|█████▍    | 548/1000 [00:15<00:12, 37.27it/s]"
     ]
    },
    {
     "name": "stdout",
     "output_type": "stream",
     "text": [
      "iteration 540, reconstruction error 15209.791550\n"
     ]
    },
    {
     "name": "stderr",
     "output_type": "stream",
     "text": [
      " 56%|█████▌    | 557/1000 [00:15<00:11, 38.55it/s]"
     ]
    },
    {
     "name": "stdout",
     "output_type": "stream",
     "text": [
      "iteration 550, reconstruction error 15209.602105\n"
     ]
    },
    {
     "name": "stderr",
     "output_type": "stream",
     "text": [
      " 56%|█████▋    | 565/1000 [00:15<00:11, 37.71it/s]"
     ]
    },
    {
     "name": "stdout",
     "output_type": "stream",
     "text": [
      "iteration 560, reconstruction error 15209.388875\n"
     ]
    },
    {
     "name": "stderr",
     "output_type": "stream",
     "text": [
      " 58%|█████▊    | 577/1000 [00:15<00:11, 36.86it/s]"
     ]
    },
    {
     "name": "stdout",
     "output_type": "stream",
     "text": [
      "iteration 570, reconstruction error 15209.136618\n"
     ]
    },
    {
     "name": "stderr",
     "output_type": "stream",
     "text": [
      " 58%|█████▊    | 585/1000 [00:16<00:11, 37.05it/s]"
     ]
    },
    {
     "name": "stdout",
     "output_type": "stream",
     "text": [
      "iteration 580, reconstruction error 15208.811398\n"
     ]
    },
    {
     "name": "stderr",
     "output_type": "stream",
     "text": [
      " 60%|█████▉    | 599/1000 [00:16<00:10, 38.44it/s]"
     ]
    },
    {
     "name": "stdout",
     "output_type": "stream",
     "text": [
      "iteration 590, reconstruction error 15208.326472\n"
     ]
    },
    {
     "name": "stderr",
     "output_type": "stream",
     "text": [
      " 61%|██████    | 607/1000 [00:16<00:10, 37.25it/s]"
     ]
    },
    {
     "name": "stdout",
     "output_type": "stream",
     "text": [
      "iteration 600, reconstruction error 15207.454684\n"
     ]
    },
    {
     "name": "stderr",
     "output_type": "stream",
     "text": [
      " 62%|██████▏   | 615/1000 [00:16<00:11, 34.86it/s]"
     ]
    },
    {
     "name": "stdout",
     "output_type": "stream",
     "text": [
      "iteration 610, reconstruction error 15205.683936\n"
     ]
    },
    {
     "name": "stderr",
     "output_type": "stream",
     "text": [
      " 63%|██████▎   | 628/1000 [00:17<00:09, 38.15it/s]"
     ]
    },
    {
     "name": "stdout",
     "output_type": "stream",
     "text": [
      "iteration 620, reconstruction error 15202.500458\n"
     ]
    },
    {
     "name": "stderr",
     "output_type": "stream",
     "text": [
      " 64%|██████▎   | 637/1000 [00:17<00:09, 39.38it/s]"
     ]
    },
    {
     "name": "stdout",
     "output_type": "stream",
     "text": [
      "iteration 630, reconstruction error 15200.574033\n"
     ]
    },
    {
     "name": "stderr",
     "output_type": "stream",
     "text": [
      " 65%|██████▍   | 646/1000 [00:17<00:09, 39.00it/s]"
     ]
    },
    {
     "name": "stdout",
     "output_type": "stream",
     "text": [
      "iteration 640, reconstruction error 15199.508751\n"
     ]
    },
    {
     "name": "stderr",
     "output_type": "stream",
     "text": [
      " 66%|██████▌   | 658/1000 [00:18<00:09, 37.17it/s]"
     ]
    },
    {
     "name": "stdout",
     "output_type": "stream",
     "text": [
      "iteration 650, reconstruction error 15198.784615\n"
     ]
    },
    {
     "name": "stderr",
     "output_type": "stream",
     "text": [
      " 67%|██████▋   | 667/1000 [00:18<00:08, 37.54it/s]"
     ]
    },
    {
     "name": "stdout",
     "output_type": "stream",
     "text": [
      "iteration 660, reconstruction error 15198.286264\n"
     ]
    },
    {
     "name": "stderr",
     "output_type": "stream",
     "text": [
      " 68%|██████▊   | 675/1000 [00:18<00:09, 35.14it/s]"
     ]
    },
    {
     "name": "stdout",
     "output_type": "stream",
     "text": [
      "iteration 670, reconstruction error 15197.941199\n"
     ]
    },
    {
     "name": "stderr",
     "output_type": "stream",
     "text": [
      " 69%|██████▉   | 688/1000 [00:18<00:08, 37.71it/s]"
     ]
    },
    {
     "name": "stdout",
     "output_type": "stream",
     "text": [
      "iteration 680, reconstruction error 15197.700929\n"
     ]
    },
    {
     "name": "stderr",
     "output_type": "stream",
     "text": [
      " 70%|██████▉   | 696/1000 [00:19<00:09, 31.80it/s]"
     ]
    },
    {
     "name": "stdout",
     "output_type": "stream",
     "text": [
      "iteration 690, reconstruction error 15197.530871\n"
     ]
    },
    {
     "name": "stderr",
     "output_type": "stream",
     "text": [
      " 70%|███████   | 704/1000 [00:19<00:09, 32.34it/s]"
     ]
    },
    {
     "name": "stdout",
     "output_type": "stream",
     "text": [
      "iteration 700, reconstruction error 15197.405412\n"
     ]
    },
    {
     "name": "stderr",
     "output_type": "stream",
     "text": [
      " 72%|███████▏  | 717/1000 [00:19<00:08, 32.44it/s]"
     ]
    },
    {
     "name": "stdout",
     "output_type": "stream",
     "text": [
      "iteration 710, reconstruction error 15197.306922\n"
     ]
    },
    {
     "name": "stderr",
     "output_type": "stream",
     "text": [
      " 72%|███████▎  | 725/1000 [00:20<00:08, 31.19it/s]"
     ]
    },
    {
     "name": "stdout",
     "output_type": "stream",
     "text": [
      "iteration 720, reconstruction error 15197.224022\n"
     ]
    },
    {
     "name": "stderr",
     "output_type": "stream",
     "text": [
      " 74%|███████▍  | 739/1000 [00:20<00:07, 37.21it/s]"
     ]
    },
    {
     "name": "stdout",
     "output_type": "stream",
     "text": [
      "iteration 730, reconstruction error 15197.149421\n"
     ]
    },
    {
     "name": "stderr",
     "output_type": "stream",
     "text": [
      " 75%|███████▍  | 748/1000 [00:20<00:06, 39.37it/s]"
     ]
    },
    {
     "name": "stdout",
     "output_type": "stream",
     "text": [
      "iteration 740, reconstruction error 15197.078393\n"
     ]
    },
    {
     "name": "stderr",
     "output_type": "stream",
     "text": [
      " 76%|███████▌  | 756/1000 [00:20<00:06, 38.77it/s]"
     ]
    },
    {
     "name": "stdout",
     "output_type": "stream",
     "text": [
      "iteration 750, reconstruction error 15197.007618\n"
     ]
    },
    {
     "name": "stderr",
     "output_type": "stream",
     "text": [
      " 76%|███████▋  | 764/1000 [00:21<00:07, 32.33it/s]"
     ]
    },
    {
     "name": "stdout",
     "output_type": "stream",
     "text": [
      "iteration 760, reconstruction error 15196.934694\n"
     ]
    },
    {
     "name": "stderr",
     "output_type": "stream",
     "text": [
      " 78%|███████▊  | 778/1000 [00:21<00:05, 37.83it/s]"
     ]
    },
    {
     "name": "stdout",
     "output_type": "stream",
     "text": [
      "iteration 770, reconstruction error 15196.857921\n"
     ]
    },
    {
     "name": "stderr",
     "output_type": "stream",
     "text": [
      " 79%|███████▊  | 786/1000 [00:21<00:05, 36.73it/s]"
     ]
    },
    {
     "name": "stdout",
     "output_type": "stream",
     "text": [
      "iteration 780, reconstruction error 15196.775966\n"
     ]
    },
    {
     "name": "stderr",
     "output_type": "stream",
     "text": [
      " 80%|███████▉  | 798/1000 [00:22<00:05, 35.96it/s]"
     ]
    },
    {
     "name": "stdout",
     "output_type": "stream",
     "text": [
      "iteration 790, reconstruction error 15196.687799\n"
     ]
    },
    {
     "name": "stderr",
     "output_type": "stream",
     "text": [
      " 81%|████████  | 806/1000 [00:22<00:05, 34.67it/s]"
     ]
    },
    {
     "name": "stdout",
     "output_type": "stream",
     "text": [
      "iteration 800, reconstruction error 15196.592774\n"
     ]
    },
    {
     "name": "stderr",
     "output_type": "stream",
     "text": [
      " 82%|████████▏ | 816/1000 [00:22<00:04, 37.36it/s]"
     ]
    },
    {
     "name": "stdout",
     "output_type": "stream",
     "text": [
      "iteration 810, reconstruction error 15196.490588\n"
     ]
    },
    {
     "name": "stderr",
     "output_type": "stream",
     "text": [
      " 83%|████████▎ | 826/1000 [00:22<00:04, 39.22it/s]"
     ]
    },
    {
     "name": "stdout",
     "output_type": "stream",
     "text": [
      "iteration 820, reconstruction error 15196.380576\n"
     ]
    },
    {
     "name": "stderr",
     "output_type": "stream",
     "text": [
      " 84%|████████▎ | 836/1000 [00:23<00:04, 39.60it/s]"
     ]
    },
    {
     "name": "stdout",
     "output_type": "stream",
     "text": [
      "iteration 830, reconstruction error 15196.261903\n"
     ]
    },
    {
     "name": "stderr",
     "output_type": "stream",
     "text": [
      " 84%|████████▍ | 845/1000 [00:23<00:03, 38.82it/s]"
     ]
    },
    {
     "name": "stdout",
     "output_type": "stream",
     "text": [
      "iteration 840, reconstruction error 15196.133827\n"
     ]
    },
    {
     "name": "stderr",
     "output_type": "stream",
     "text": [
      " 85%|████████▌ | 854/1000 [00:23<00:04, 34.98it/s]"
     ]
    },
    {
     "name": "stdout",
     "output_type": "stream",
     "text": [
      "iteration 850, reconstruction error 15195.995293\n"
     ]
    },
    {
     "name": "stderr",
     "output_type": "stream",
     "text": [
      " 87%|████████▋ | 866/1000 [00:23<00:03, 33.83it/s]"
     ]
    },
    {
     "name": "stdout",
     "output_type": "stream",
     "text": [
      "iteration 860, reconstruction error 15195.845302\n"
     ]
    },
    {
     "name": "stderr",
     "output_type": "stream",
     "text": [
      " 88%|████████▊ | 879/1000 [00:24<00:03, 35.83it/s]"
     ]
    },
    {
     "name": "stdout",
     "output_type": "stream",
     "text": [
      "iteration 870, reconstruction error 15195.684024\n"
     ]
    },
    {
     "name": "stderr",
     "output_type": "stream",
     "text": [
      " 89%|████████▉ | 888/1000 [00:24<00:02, 38.21it/s]"
     ]
    },
    {
     "name": "stdout",
     "output_type": "stream",
     "text": [
      "iteration 880, reconstruction error 15195.510206\n"
     ]
    },
    {
     "name": "stderr",
     "output_type": "stream",
     "text": [
      " 90%|████████▉ | 897/1000 [00:24<00:02, 39.19it/s]"
     ]
    },
    {
     "name": "stdout",
     "output_type": "stream",
     "text": [
      "iteration 890, reconstruction error 15195.323262\n"
     ]
    },
    {
     "name": "stderr",
     "output_type": "stream",
     "text": [
      " 90%|█████████ | 905/1000 [00:24<00:02, 37.03it/s]"
     ]
    },
    {
     "name": "stdout",
     "output_type": "stream",
     "text": [
      "iteration 900, reconstruction error 15195.123067\n"
     ]
    },
    {
     "name": "stderr",
     "output_type": "stream",
     "text": [
      " 92%|█████████▏| 917/1000 [00:25<00:02, 35.96it/s]"
     ]
    },
    {
     "name": "stdout",
     "output_type": "stream",
     "text": [
      "iteration 910, reconstruction error 15194.907527\n"
     ]
    },
    {
     "name": "stderr",
     "output_type": "stream",
     "text": [
      " 92%|█████████▎| 925/1000 [00:25<00:02, 35.31it/s]"
     ]
    },
    {
     "name": "stdout",
     "output_type": "stream",
     "text": [
      "iteration 920, reconstruction error 15194.674230\n"
     ]
    },
    {
     "name": "stderr",
     "output_type": "stream",
     "text": [
      " 94%|█████████▍| 938/1000 [00:25<00:01, 37.76it/s]"
     ]
    },
    {
     "name": "stdout",
     "output_type": "stream",
     "text": [
      "iteration 930, reconstruction error 15194.422761\n"
     ]
    },
    {
     "name": "stderr",
     "output_type": "stream",
     "text": [
      " 95%|█████████▍| 946/1000 [00:26<00:01, 36.51it/s]"
     ]
    },
    {
     "name": "stdout",
     "output_type": "stream",
     "text": [
      "iteration 940, reconstruction error 15194.165834\n"
     ]
    },
    {
     "name": "stderr",
     "output_type": "stream",
     "text": [
      " 96%|█████████▌| 956/1000 [00:26<00:01, 37.92it/s]"
     ]
    },
    {
     "name": "stdout",
     "output_type": "stream",
     "text": [
      "iteration 950, reconstruction error 15193.929812\n"
     ]
    },
    {
     "name": "stderr",
     "output_type": "stream",
     "text": [
      " 96%|█████████▋| 965/1000 [00:26<00:00, 37.50it/s]"
     ]
    },
    {
     "name": "stdout",
     "output_type": "stream",
     "text": [
      "iteration 960, reconstruction error 15193.759101\n"
     ]
    },
    {
     "name": "stderr",
     "output_type": "stream",
     "text": [
      " 98%|█████████▊| 978/1000 [00:26<00:00, 38.45it/s]"
     ]
    },
    {
     "name": "stdout",
     "output_type": "stream",
     "text": [
      "iteration 970, reconstruction error 15193.650077\n"
     ]
    },
    {
     "name": "stderr",
     "output_type": "stream",
     "text": [
      " 99%|█████████▊| 987/1000 [00:27<00:00, 39.32it/s]"
     ]
    },
    {
     "name": "stdout",
     "output_type": "stream",
     "text": [
      "iteration 980, reconstruction error 15193.584357\n"
     ]
    },
    {
     "name": "stderr",
     "output_type": "stream",
     "text": [
      "100%|█████████▉| 996/1000 [00:27<00:00, 39.41it/s]"
     ]
    },
    {
     "name": "stdout",
     "output_type": "stream",
     "text": [
      "iteration 990, reconstruction error 15193.550936\n"
     ]
    },
    {
     "name": "stderr",
     "output_type": "stream",
     "text": [
      "100%|██████████| 1000/1000 [00:27<00:00, 36.33it/s]\n"
     ]
    }
   ],
   "source": [
    "n = 8\n",
    "W_false, H = ALS(X=pd.DataFrame(n2v)[df_original.y == 0].to_numpy().T, \n",
    "           n_components=n, # Reconstruction Error reduces as n_components increases\n",
    "           n_iter=1000, \n",
    "           a0 = 0, # L1 regularizer for H\n",
    "           a1 = 0, # L1 regularizer for W\n",
    "           a12 = 0, # L2 regularizer for W\n",
    "           H_nonnegativity=True,\n",
    "           W_nonnegativity=True,\n",
    "           compute_recons_error=True,\n",
    "           subsample_ratio=1)\n",
    "\n",
    "W_true, H = ALS(X=pd.DataFrame(n2v)[df_original.y != 0].to_numpy().T, \n",
    "           n_components=n, # Reconstruction Error reduces as n_components increases\n",
    "           n_iter=1000, \n",
    "           a0 = 0, # L1 regularizer for H\n",
    "           a1 = 0, # L1 regularizer for W\n",
    "           a12 = 0, # L2 regularizer for W\n",
    "           H_nonnegativity=True,\n",
    "           W_nonnegativity=True,\n",
    "           compute_recons_error=True,\n",
    "           subsample_ratio=1)"
   ]
  },
  {
   "cell_type": "code",
   "execution_count": 20,
   "id": "1f46ee56",
   "metadata": {},
   "outputs": [
    {
     "data": {
      "text/plain": [
       "array([[<AxesSubplot:title={'center':'0'}>,\n",
       "        <AxesSubplot:title={'center':'1'}>,\n",
       "        <AxesSubplot:title={'center':'2'}>],\n",
       "       [<AxesSubplot:title={'center':'3'}>,\n",
       "        <AxesSubplot:title={'center':'4'}>,\n",
       "        <AxesSubplot:title={'center':'5'}>],\n",
       "       [<AxesSubplot:title={'center':'6'}>,\n",
       "        <AxesSubplot:title={'center':'7'}>, <AxesSubplot:>]], dtype=object)"
      ]
     },
     "execution_count": 20,
     "metadata": {},
     "output_type": "execute_result"
    },
    {
     "data": {
      "image/png": "[encoded data removed]",
      "text/plain": [
       "<Figure size 432x288 with 9 Axes>"
      ]
     },
     "metadata": {
      "needs_background": "light"
     },
     "output_type": "display_data"
    },
    {
     "data": {
      "image/png": "[encoded data removed]",
      "text/plain": [
       "<Figure size 432x288 with 9 Axes>"
      ]
     },
     "metadata": {
      "needs_background": "light"
     },
     "output_type": "display_data"
    }
   ],
   "source": [
    "pd.DataFrame(W_false).describe()\n",
    "pd.DataFrame(W_true).describe()\n",
    "pd.DataFrame(W_false).hist()\n",
    "pd.DataFrame(W_true).hist()"
   ]
  },
  {
   "cell_type": "code",
   "execution_count": null,
   "id": "6aa41b05",
   "metadata": {},
   "outputs": [],
   "source": []
  }
 ],
 "metadata": {
  "@webio": {
   "lastCommId": null,
   "lastKernelId": null
  },
  "kernelspec": {
   "display_name": "Python 3",
   "language": "python",
   "name": "python3"
  },
  "language_info": {
   "codemirror_mode": {
    "name": "ipython",
    "version": 3
   },
   "file_extension": ".py",
   "mimetype": "text/x-python",
   "name": "python",
   "nbconvert_exporter": "python",
   "pygments_lexer": "ipython3",
   "version": "3.8.8"
  }
 },
 "nbformat": 4,
 "nbformat_minor": 5
}
