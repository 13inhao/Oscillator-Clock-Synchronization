{
 "cells": [
  {
   "cell_type": "code",
   "execution_count": null,
   "id": "c44c7e58",
   "metadata": {},
   "outputs": [],
   "source": [
    "from kuramoto import Kuramoto\n",
    "from kuramoto.nmf import *\n",
    "from NNetwork import NNetwork as nn\n",
    "\n",
    "import networkx as nx\n",
    "import seaborn as sns"
   ]
  },
  {
   "cell_type": "code",
   "execution_count": 37,
   "id": "c82a1b41",
   "metadata": {},
   "outputs": [],
   "source": [
    "def adj_to_coladj(adj_mat, dynamics):\n",
    "    col_adj = np.zeros((adj_mat.shape[0], adj_mat.shape[1]))\n",
    "    for i in range(adj_mat.shape[0]):\n",
    "        for j in range(i, adj_mat.shape[1]):\n",
    "            if i == j or adj_mat[i][j] == 0:\n",
    "                col_adj[i][j] = 0\n",
    "                col_adj[j][i] = 0\n",
    "            if adj_mat[i][j] == 1:\n",
    "                a = abs(dynamics[j] - dynamics[i])\n",
    "                b = abs(2*np.pi + (dynamics[j] - dynamics[i]))\n",
    "                col_adj[i][j] = np.round(min(a, b), 2)\n",
    "                col_adj[j][i] = np.round(min(a, b), 2)\n",
    "                \n",
    "    return col_adj"
   ]
  },
  {
   "cell_type": "code",
   "execution_count": 3,
   "id": "d6f8adc9",
   "metadata": {},
   "outputs": [],
   "source": [
    "model = Kuramoto(\n",
    "    coupling=3,\n",
    "    dt=0.01,\n",
    "    T=100,\n",
    "    n_nodes=25,\n",
    "    base_iter=126,\n",
    "    natfreqs=None,\n",
    "    half_sync=False\n",
    ")"
   ]
  },
  {
   "cell_type": "code",
   "execution_count": 4,
   "id": "54a5cdce",
   "metadata": {},
   "outputs": [],
   "source": [
    "G = nx.newman_watts_strogatz_graph(25, 10, 0.67)\n",
    "adj = nx.to_numpy_array(G)\n",
    "sim = model.run(adj)"
   ]
  },
  {
   "cell_type": "code",
   "execution_count": 188,
   "id": "0370a0b8",
   "metadata": {},
   "outputs": [],
   "source": [
    "def predict_concentration(colors):\n",
    "        '''\n",
    "        computes width from a color list\n",
    "        '''\n",
    "        ordered = list(np.pi - colors); ordered.sort()\n",
    "        lordered = len(ordered)\n",
    "        threshold = np.pi\n",
    "        if ordered == 0:\n",
    "            assert(\"Empty array or logic error.\")\n",
    "        elif lordered == 1:\n",
    "            return 0\n",
    "        elif lordered == 2:\n",
    "            dw = ordered[1]-ordered[0]\n",
    "            if dw > threshold:\n",
    "                return 2*np.pi - dw\n",
    "            else:\n",
    "                return dw\n",
    "        else:\n",
    "            widths = [2*np.pi+ordered[0]-ordered[-1]]\n",
    "            for i in range(lordered-1):\n",
    "                widths.append(ordered[i+1]-ordered[i])\n",
    "            return np.abs(2*np.pi - max(widths))"
   ]
  },
  {
   "cell_type": "code",
   "execution_count": 189,
   "id": "dccb238b",
   "metadata": {},
   "outputs": [
    {
     "name": "stdout",
     "output_type": "stream",
     "text": [
      "38\n"
     ]
    }
   ],
   "source": [
    "for i in range(1, 126):\n",
    "    if predict_concentration(sim.T[i]) < np.pi:\n",
    "        print(i)\n",
    "        break"
   ]
  },
  {
   "cell_type": "code",
   "execution_count": 7,
   "id": "423939ca",
   "metadata": {
    "scrolled": true
   },
   "outputs": [
    {
     "data": {
      "image/png": "[encoded data removed]",
      "text/plain": [
       "<Figure size 432x288 with 1 Axes>"
      ]
     },
     "metadata": {
      "needs_background": "light"
     },
     "output_type": "display_data"
    }
   ],
   "source": [
    "sns.heatmap(adj, cbar=False, robust=True);"
   ]
  },
  {
   "cell_type": "code",
   "execution_count": 8,
   "id": "4e0929ce",
   "metadata": {},
   "outputs": [
    {
     "data": {
      "text/plain": [
       "array([4.81905827, 1.09911013, 0.86400258, 1.39278627, 6.11844443,\n",
       "       0.59459201, 0.7641233 , 1.14739979, 2.61852695, 4.80784259,\n",
       "       1.07933717, 0.06496069, 5.46406818, 3.69123214, 1.81873437,\n",
       "       6.17567719, 1.62945827, 3.2020944 , 3.78647174, 4.8099828 ,\n",
       "       0.22453039, 1.22314812, 2.23349185, 2.38558595, 5.56552263])"
      ]
     },
     "execution_count": 8,
     "metadata": {},
     "output_type": "execute_result"
    }
   ],
   "source": [
    "dynamics = sim.T[0]\n",
    "dynamics"
   ]
  },
  {
   "cell_type": "code",
   "execution_count": 10,
   "id": "f4d5640f",
   "metadata": {},
   "outputs": [
    {
     "data": {
      "image/png": "[encoded data removed]",
      "text/plain": [
       "<Figure size 432x288 with 2 Axes>"
      ]
     },
     "metadata": {
      "needs_background": "light"
     },
     "output_type": "display_data"
    }
   ],
   "source": [
    "col_adj = adj_to_coladj(adj, dynamics)\n",
    "sns.heatmap(col_adj, robust=True);"
   ]
  },
  {
   "cell_type": "code",
   "execution_count": 25,
   "id": "ebfc2179",
   "metadata": {},
   "outputs": [
    {
     "data": {
      "text/plain": [
       "array([0.48420703, 0.89585501, 0.82965541, 0.8999636 , 0.7106097 ,\n",
       "       0.69690694, 0.82779463, 0.8072915 , 1.08886805, 0.4443445 ,\n",
       "       0.68894883, 0.75083901, 0.66554065, 1.76410706, 0.9598702 ,\n",
       "       0.80626478, 1.03808114, 1.36502261, 1.78703111, 0.45421075,\n",
       "       0.78305349, 0.9385931 , 1.07583318, 1.125077  , 0.64275623])"
      ]
     },
     "execution_count": 25,
     "metadata": {},
     "output_type": "execute_result"
    }
   ],
   "source": [
    "dynamics = sim.T[125]\n",
    "dynamics"
   ]
  }
 ],
 "metadata": {
  "kernelspec": {
   "display_name": "Python 3 (ipykernel)",
   "language": "python",
   "name": "python3"
  },
  "language_info": {
   "codemirror_mode": {
    "name": "ipython",
    "version": 3
   },
   "file_extension": ".py",
   "mimetype": "text/x-python",
   "name": "python",
   "nbconvert_exporter": "python",
   "pygments_lexer": "ipython3",
   "version": "3.9.12"
  }
 },
 "nbformat": 4,
 "nbformat_minor": 5
}
