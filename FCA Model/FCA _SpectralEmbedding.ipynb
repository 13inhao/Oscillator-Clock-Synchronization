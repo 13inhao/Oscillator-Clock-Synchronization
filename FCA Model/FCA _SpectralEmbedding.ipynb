{
 "cells": [
  {
   "cell_type": "code",
   "execution_count": 68,
   "id": "5c3344a1",
   "metadata": {},
   "outputs": [],
   "source": [
    "import FCA, pickle, csv\n",
    "import numpy as np\n",
    "import pandas as pd\n",
    "import networkx as nx\n",
    "import statistics as s\n",
    "from math import floor\n",
    "from NNetwork import NNetwork as nn\n",
    "import matplotlib.pyplot as plt\n",
    "import matplotlib.gridspec as gridspec\n",
    "import warnings\n",
    "warnings.filterwarnings(\"ignore\")\n",
    "\n",
    "from sklearn.manifold import SpectralEmbedding\n",
    "\n",
    "from imblearn.under_sampling import RandomUnderSampler\n",
    "from sklearn.model_selection import train_test_split\n",
    "sampler = RandomUnderSampler()\n",
    "\n",
    "from karateclub import Node2Vec\n",
    "from karateclub import Graph2Vec\n",
    "\n",
    "\n",
    "from sklearn.model_selection import train_test_split\n",
    "from sklearn.metrics import confusion_matrix, precision_score, recall_score, f1_score, accuracy_score, ConfusionMatrixDisplay\n",
    "from sklearn.svm import SVC\n",
    "from sklearn.ensemble import RandomForestClassifier as rf"
   ]
  },
  {
   "cell_type": "code",
   "execution_count": null,
   "id": "128090de",
   "metadata": {},
   "outputs": [],
   "source": [
    "def model_metrics(model, y_test, y_pred):\n",
    "    conf_matrix = confusion_matrix(y_true = y_test, y_pred = y_pred)\n",
    "    disp = ConfusionMatrixDisplay(confusion_matrix=conf_matrix,\n",
    "                                  display_labels=model.classes_)\n",
    "    disp.plot()\n",
    "    plt.show()\n",
    "    \n",
    "    print('Precision: %.3f' % precision_score(y_test, y_pred))\n",
    "    print('Recall: %.3f' % recall_score(y_test, y_pred))\n",
    "    print('F1: %.3f' % f1_score(y_test, y_pred))\n",
    "    print('Accuracy: %.3f' % accuracy_score(y_test, y_pred))\n",
    "    \n",
    "    pass\n",
    "    return"
   ]
  },
  {
   "cell_type": "code",
   "execution_count": 4,
   "id": "e10fdc17",
   "metadata": {},
   "outputs": [],
   "source": [
    "# FCA_iter: total iteration for the FCA model, used for label\n",
    "# baseline_iter: the iteration for baseline model, usually less than FCA_iter\n",
    "# iter_include: number of iteration to include in the dataframe\n",
    "# X: a list of graph structure (for each graph, length = k^2 if num_nodes=k)\n",
    "# num_edges, num_nodes, min_degree, max_degree, diameter, quartile_1, quartile_2, quartile_3, states, y, baseline_width\n",
    "def FCA_datagen(num_nodes, kappa, FCA_iter, baseline_iter, iter_include, file_name, X):\n",
    "    # generate the toy dataset\n",
    "    file = open(file_name, 'w+', newline='')\n",
    "\n",
    "    header = [\"num_edges\", \"num_nodes\", \"min_degree\", \"max_degree\", \"diameter\", \"quartile_1\",\n",
    "              \"quartile_2\", \"quartile_3\", \"y\", \"baseline_width\"]\n",
    "    for i in range(baseline_iter):\n",
    "        for j in range(num_nodes):\n",
    "            header.append(\"s\" + str(i + 1) + \"_\" + str(j + 1))\n",
    "\n",
    "    with file:\n",
    "        write = csv.writer(file)\n",
    "\n",
    "        write.writerow(header)\n",
    "        for i in range(X.shape[1]): #X.shape = (400, 3000)\n",
    "            G=nx.from_pandas_adjacency(pd.DataFrame(X[:,i].reshape(20, -1)))\n",
    "            G=nx.Graph(G)\n",
    "            \n",
    "            \n",
    "            col = np.random.randint(0,kappa,size=num_nodes)\n",
    "\n",
    "            num_edges = G.number_of_edges()\n",
    "            min_degree = min(list(G.degree), key=lambda x: x[1])[1]\n",
    "            max_degree = max(list(G.degree), key=lambda x: x[1])[1]\n",
    "            diameter = nx.diameter(G)\n",
    "            quartile_1 = s.quantiles(col, n=4)[0]\n",
    "            quartile_2 = s.quantiles(col, n=4)[1]\n",
    "            quartile_3 = s.quantiles(col, n=4)[2]\n",
    "\n",
    "            sample = [num_edges, num_nodes, min_degree, max_degree, diameter,\n",
    "                      quartile_1, quartile_2, quartile_3]\n",
    "            states, label = FCA.FCA(G, col, kappa, FCA_iter)\n",
    "\n",
    "            width = FCA.width_compute(states[FCA_iter - 1], kappa)\n",
    "            y = False\n",
    "            if (width < floor(kappa / 2)):  # half circle concentration\n",
    "                y = True\n",
    "            sample.append(y)\n",
    "\n",
    "            baseline_width = FCA.width_compute(states[baseline_iter - 1], kappa)\n",
    "            baseline = False\n",
    "            if (baseline_width < floor(kappa / 2)):  # half circle concentration\n",
    "                baseline = True\n",
    "            sample.append(baseline)\n",
    "\n",
    "            for j in range(iter_include):\n",
    "                sample = sample + list(states[j])\n",
    "\n",
    "            write.writerow(sample)\n",
    "    #return graph_list"
   ]
  },
  {
   "cell_type": "code",
   "execution_count": 8,
   "id": "2367ea23",
   "metadata": {},
   "outputs": [
    {
     "name": "stdout",
     "output_type": "stream",
     "text": [
      "num nodes in G 769\n",
      "num edges in G 33312\n"
     ]
    }
   ],
   "source": [
    "sampling_alg = 'pivot'\n",
    "\n",
    "ntwk = 'Caltech36' # COVID_PPI, Wisconsin87, UCLA26\n",
    "ntwk_nonumber = ''.join([i for i in ntwk if not i.isdigit()])\n",
    "save_folder = 'Subgraph_sampling/test1/'\n",
    "k=20\n",
    "\n",
    "path = \"../Data/Networks_all_NDL/\" + str(ntwk) + '.txt'\n",
    "G = nn.NNetwork()\n",
    "G.load_add_edges(path, increment_weights=False, use_genfromtxt=True)\n",
    "print('num nodes in G', len(G.nodes()))\n",
    "print('num edges in G', len(G.get_edges()))"
   ]
  },
  {
   "cell_type": "code",
   "execution_count": 9,
   "id": "1fed52e5",
   "metadata": {},
   "outputs": [
    {
     "name": "stdout",
     "output_type": "stream",
     "text": [
      "num of subgraphs induced on k-paths: 10000\n"
     ]
    },
    {
     "data": {
      "text/plain": [
       "(400, 10000)"
      ]
     },
     "execution_count": 9,
     "metadata": {},
     "output_type": "execute_result"
    }
   ],
   "source": [
    "X, embs = G.get_patches(k=k, sample_size=10000, skip_folded_hom=True)\n",
    "# file = open('toy.pkl', 'wb')\n",
    "# pickle.dump(X, file)\n",
    "# file.close()\n",
    "X.shape"
   ]
  },
  {
   "cell_type": "code",
   "execution_count": 10,
   "id": "ff0198cb",
   "metadata": {},
   "outputs": [],
   "source": [
    "num_nodes = 20\n",
    "kappa = 10\n",
    "FCA_iter = 200\n",
    "baseline_iter = 50\n",
    "iter_include = 5\n",
    "file_name = \"toy.csv\"\n",
    "FCA_datagen(num_nodes, kappa, FCA_iter, baseline_iter, iter_include, file_name, X)"
   ]
  },
  {
   "cell_type": "code",
   "execution_count": 18,
   "id": "15e533a1",
   "metadata": {},
   "outputs": [
    {
     "data": {
      "text/html": [
       "<div>\n",
       "<style scoped>\n",
       "    .dataframe tbody tr th:only-of-type {\n",
       "        vertical-align: middle;\n",
       "    }\n",
       "\n",
       "    .dataframe tbody tr th {\n",
       "        vertical-align: top;\n",
       "    }\n",
       "\n",
       "    .dataframe thead th {\n",
       "        text-align: right;\n",
       "    }\n",
       "</style>\n",
       "<table border=\"1\" class=\"dataframe\">\n",
       "  <thead>\n",
       "    <tr style=\"text-align: right;\">\n",
       "      <th></th>\n",
       "      <th>num_edges</th>\n",
       "      <th>num_nodes</th>\n",
       "      <th>min_degree</th>\n",
       "      <th>max_degree</th>\n",
       "      <th>diameter</th>\n",
       "      <th>quartile_1</th>\n",
       "      <th>quartile_2</th>\n",
       "      <th>quartile_3</th>\n",
       "      <th>y</th>\n",
       "      <th>baseline_width</th>\n",
       "      <th>...</th>\n",
       "      <th>s5_11</th>\n",
       "      <th>s5_12</th>\n",
       "      <th>s5_13</th>\n",
       "      <th>s5_14</th>\n",
       "      <th>s5_15</th>\n",
       "      <th>s5_16</th>\n",
       "      <th>s5_17</th>\n",
       "      <th>s5_18</th>\n",
       "      <th>s5_19</th>\n",
       "      <th>s5_20</th>\n",
       "    </tr>\n",
       "  </thead>\n",
       "  <tbody>\n",
       "    <tr>\n",
       "      <th>0</th>\n",
       "      <td>47</td>\n",
       "      <td>20</td>\n",
       "      <td>2</td>\n",
       "      <td>8</td>\n",
       "      <td>5</td>\n",
       "      <td>2.00</td>\n",
       "      <td>4.0</td>\n",
       "      <td>5.00</td>\n",
       "      <td>True</td>\n",
       "      <td>True</td>\n",
       "      <td>...</td>\n",
       "      <td>4</td>\n",
       "      <td>6</td>\n",
       "      <td>7</td>\n",
       "      <td>8</td>\n",
       "      <td>6</td>\n",
       "      <td>7</td>\n",
       "      <td>6</td>\n",
       "      <td>5</td>\n",
       "      <td>6</td>\n",
       "      <td>5</td>\n",
       "    </tr>\n",
       "    <tr>\n",
       "      <th>1</th>\n",
       "      <td>55</td>\n",
       "      <td>20</td>\n",
       "      <td>1</td>\n",
       "      <td>12</td>\n",
       "      <td>4</td>\n",
       "      <td>3.25</td>\n",
       "      <td>5.5</td>\n",
       "      <td>6.00</td>\n",
       "      <td>True</td>\n",
       "      <td>False</td>\n",
       "      <td>...</td>\n",
       "      <td>5</td>\n",
       "      <td>9</td>\n",
       "      <td>0</td>\n",
       "      <td>6</td>\n",
       "      <td>4</td>\n",
       "      <td>5</td>\n",
       "      <td>8</td>\n",
       "      <td>8</td>\n",
       "      <td>9</td>\n",
       "      <td>0</td>\n",
       "    </tr>\n",
       "    <tr>\n",
       "      <th>2</th>\n",
       "      <td>55</td>\n",
       "      <td>20</td>\n",
       "      <td>2</td>\n",
       "      <td>9</td>\n",
       "      <td>5</td>\n",
       "      <td>2.00</td>\n",
       "      <td>5.5</td>\n",
       "      <td>8.00</td>\n",
       "      <td>True</td>\n",
       "      <td>True</td>\n",
       "      <td>...</td>\n",
       "      <td>3</td>\n",
       "      <td>6</td>\n",
       "      <td>0</td>\n",
       "      <td>2</td>\n",
       "      <td>0</td>\n",
       "      <td>2</td>\n",
       "      <td>1</td>\n",
       "      <td>8</td>\n",
       "      <td>4</td>\n",
       "      <td>4</td>\n",
       "    </tr>\n",
       "    <tr>\n",
       "      <th>3</th>\n",
       "      <td>56</td>\n",
       "      <td>20</td>\n",
       "      <td>2</td>\n",
       "      <td>9</td>\n",
       "      <td>3</td>\n",
       "      <td>3.00</td>\n",
       "      <td>6.0</td>\n",
       "      <td>7.00</td>\n",
       "      <td>True</td>\n",
       "      <td>True</td>\n",
       "      <td>...</td>\n",
       "      <td>7</td>\n",
       "      <td>7</td>\n",
       "      <td>7</td>\n",
       "      <td>9</td>\n",
       "      <td>8</td>\n",
       "      <td>7</td>\n",
       "      <td>7</td>\n",
       "      <td>7</td>\n",
       "      <td>9</td>\n",
       "      <td>8</td>\n",
       "    </tr>\n",
       "    <tr>\n",
       "      <th>4</th>\n",
       "      <td>53</td>\n",
       "      <td>20</td>\n",
       "      <td>2</td>\n",
       "      <td>14</td>\n",
       "      <td>3</td>\n",
       "      <td>4.00</td>\n",
       "      <td>5.5</td>\n",
       "      <td>7.75</td>\n",
       "      <td>True</td>\n",
       "      <td>False</td>\n",
       "      <td>...</td>\n",
       "      <td>7</td>\n",
       "      <td>6</td>\n",
       "      <td>5</td>\n",
       "      <td>7</td>\n",
       "      <td>8</td>\n",
       "      <td>0</td>\n",
       "      <td>7</td>\n",
       "      <td>7</td>\n",
       "      <td>4</td>\n",
       "      <td>2</td>\n",
       "    </tr>\n",
       "    <tr>\n",
       "      <th>...</th>\n",
       "      <td>...</td>\n",
       "      <td>...</td>\n",
       "      <td>...</td>\n",
       "      <td>...</td>\n",
       "      <td>...</td>\n",
       "      <td>...</td>\n",
       "      <td>...</td>\n",
       "      <td>...</td>\n",
       "      <td>...</td>\n",
       "      <td>...</td>\n",
       "      <td>...</td>\n",
       "      <td>...</td>\n",
       "      <td>...</td>\n",
       "      <td>...</td>\n",
       "      <td>...</td>\n",
       "      <td>...</td>\n",
       "      <td>...</td>\n",
       "      <td>...</td>\n",
       "      <td>...</td>\n",
       "      <td>...</td>\n",
       "      <td>...</td>\n",
       "    </tr>\n",
       "    <tr>\n",
       "      <th>9995</th>\n",
       "      <td>49</td>\n",
       "      <td>20</td>\n",
       "      <td>2</td>\n",
       "      <td>8</td>\n",
       "      <td>4</td>\n",
       "      <td>2.00</td>\n",
       "      <td>3.5</td>\n",
       "      <td>5.75</td>\n",
       "      <td>True</td>\n",
       "      <td>False</td>\n",
       "      <td>...</td>\n",
       "      <td>6</td>\n",
       "      <td>7</td>\n",
       "      <td>7</td>\n",
       "      <td>5</td>\n",
       "      <td>5</td>\n",
       "      <td>7</td>\n",
       "      <td>6</td>\n",
       "      <td>5</td>\n",
       "      <td>6</td>\n",
       "      <td>8</td>\n",
       "    </tr>\n",
       "    <tr>\n",
       "      <th>9996</th>\n",
       "      <td>42</td>\n",
       "      <td>20</td>\n",
       "      <td>2</td>\n",
       "      <td>7</td>\n",
       "      <td>5</td>\n",
       "      <td>1.00</td>\n",
       "      <td>3.5</td>\n",
       "      <td>5.75</td>\n",
       "      <td>True</td>\n",
       "      <td>True</td>\n",
       "      <td>...</td>\n",
       "      <td>5</td>\n",
       "      <td>8</td>\n",
       "      <td>4</td>\n",
       "      <td>1</td>\n",
       "      <td>7</td>\n",
       "      <td>6</td>\n",
       "      <td>8</td>\n",
       "      <td>8</td>\n",
       "      <td>7</td>\n",
       "      <td>7</td>\n",
       "    </tr>\n",
       "    <tr>\n",
       "      <th>9997</th>\n",
       "      <td>45</td>\n",
       "      <td>20</td>\n",
       "      <td>2</td>\n",
       "      <td>8</td>\n",
       "      <td>4</td>\n",
       "      <td>1.50</td>\n",
       "      <td>5.0</td>\n",
       "      <td>6.75</td>\n",
       "      <td>True</td>\n",
       "      <td>False</td>\n",
       "      <td>...</td>\n",
       "      <td>3</td>\n",
       "      <td>4</td>\n",
       "      <td>7</td>\n",
       "      <td>9</td>\n",
       "      <td>2</td>\n",
       "      <td>8</td>\n",
       "      <td>8</td>\n",
       "      <td>4</td>\n",
       "      <td>8</td>\n",
       "      <td>4</td>\n",
       "    </tr>\n",
       "    <tr>\n",
       "      <th>9998</th>\n",
       "      <td>49</td>\n",
       "      <td>20</td>\n",
       "      <td>2</td>\n",
       "      <td>9</td>\n",
       "      <td>4</td>\n",
       "      <td>4.25</td>\n",
       "      <td>6.0</td>\n",
       "      <td>8.00</td>\n",
       "      <td>True</td>\n",
       "      <td>False</td>\n",
       "      <td>...</td>\n",
       "      <td>2</td>\n",
       "      <td>9</td>\n",
       "      <td>5</td>\n",
       "      <td>3</td>\n",
       "      <td>0</td>\n",
       "      <td>9</td>\n",
       "      <td>8</td>\n",
       "      <td>6</td>\n",
       "      <td>6</td>\n",
       "      <td>8</td>\n",
       "    </tr>\n",
       "    <tr>\n",
       "      <th>9999</th>\n",
       "      <td>40</td>\n",
       "      <td>20</td>\n",
       "      <td>2</td>\n",
       "      <td>9</td>\n",
       "      <td>5</td>\n",
       "      <td>2.25</td>\n",
       "      <td>4.0</td>\n",
       "      <td>6.50</td>\n",
       "      <td>False</td>\n",
       "      <td>False</td>\n",
       "      <td>...</td>\n",
       "      <td>4</td>\n",
       "      <td>1</td>\n",
       "      <td>7</td>\n",
       "      <td>6</td>\n",
       "      <td>5</td>\n",
       "      <td>3</td>\n",
       "      <td>0</td>\n",
       "      <td>7</td>\n",
       "      <td>7</td>\n",
       "      <td>6</td>\n",
       "    </tr>\n",
       "  </tbody>\n",
       "</table>\n",
       "<p>10000 rows × 110 columns</p>\n",
       "</div>"
      ],
      "text/plain": [
       "      num_edges  num_nodes  min_degree  max_degree  diameter  quartile_1  \\\n",
       "0            47         20           2           8         5        2.00   \n",
       "1            55         20           1          12         4        3.25   \n",
       "2            55         20           2           9         5        2.00   \n",
       "3            56         20           2           9         3        3.00   \n",
       "4            53         20           2          14         3        4.00   \n",
       "...         ...        ...         ...         ...       ...         ...   \n",
       "9995         49         20           2           8         4        2.00   \n",
       "9996         42         20           2           7         5        1.00   \n",
       "9997         45         20           2           8         4        1.50   \n",
       "9998         49         20           2           9         4        4.25   \n",
       "9999         40         20           2           9         5        2.25   \n",
       "\n",
       "      quartile_2  quartile_3      y  baseline_width  ...  s5_11  s5_12  s5_13  \\\n",
       "0            4.0        5.00   True            True  ...      4      6      7   \n",
       "1            5.5        6.00   True           False  ...      5      9      0   \n",
       "2            5.5        8.00   True            True  ...      3      6      0   \n",
       "3            6.0        7.00   True            True  ...      7      7      7   \n",
       "4            5.5        7.75   True           False  ...      7      6      5   \n",
       "...          ...         ...    ...             ...  ...    ...    ...    ...   \n",
       "9995         3.5        5.75   True           False  ...      6      7      7   \n",
       "9996         3.5        5.75   True            True  ...      5      8      4   \n",
       "9997         5.0        6.75   True           False  ...      3      4      7   \n",
       "9998         6.0        8.00   True           False  ...      2      9      5   \n",
       "9999         4.0        6.50  False           False  ...      4      1      7   \n",
       "\n",
       "      s5_14  s5_15  s5_16  s5_17  s5_18  s5_19  s5_20  \n",
       "0         8      6      7      6      5      6      5  \n",
       "1         6      4      5      8      8      9      0  \n",
       "2         2      0      2      1      8      4      4  \n",
       "3         9      8      7      7      7      9      8  \n",
       "4         7      8      0      7      7      4      2  \n",
       "...     ...    ...    ...    ...    ...    ...    ...  \n",
       "9995      5      5      7      6      5      6      8  \n",
       "9996      1      7      6      8      8      7      7  \n",
       "9997      9      2      8      8      4      8      4  \n",
       "9998      3      0      9      8      6      6      8  \n",
       "9999      6      5      3      0      7      7      6  \n",
       "\n",
       "[10000 rows x 110 columns]"
      ]
     },
     "execution_count": 18,
     "metadata": {},
     "output_type": "execute_result"
    }
   ],
   "source": [
    "df = pd.read_csv(\"toy.csv\")\n",
    "df"
   ]
  },
  {
   "cell_type": "code",
   "execution_count": 19,
   "id": "31fde198",
   "metadata": {},
   "outputs": [
    {
     "data": {
      "text/plain": [
       "True     9260\n",
       "False     740\n",
       "Name: y, dtype: int64"
      ]
     },
     "execution_count": 19,
     "metadata": {},
     "output_type": "execute_result"
    }
   ],
   "source": [
    "df.y.value_counts()"
   ]
  },
  {
   "cell_type": "code",
   "execution_count": 20,
   "id": "8f3a4426",
   "metadata": {},
   "outputs": [
    {
     "data": {
      "text/plain": [
       "False    5280\n",
       "True     4720\n",
       "Name: baseline_width, dtype: int64"
      ]
     },
     "execution_count": 20,
     "metadata": {},
     "output_type": "execute_result"
    }
   ],
   "source": [
    "df.baseline_width.value_counts()"
   ]
  },
  {
   "cell_type": "code",
   "execution_count": 22,
   "id": "76822d0c",
   "metadata": {},
   "outputs": [
    {
     "data": {
      "text/plain": [
       "(10000, 110)"
      ]
     },
     "execution_count": 22,
     "metadata": {},
     "output_type": "execute_result"
    }
   ],
   "source": [
    "df.shape"
   ]
  },
  {
   "cell_type": "code",
   "execution_count": 26,
   "id": "0333400c",
   "metadata": {},
   "outputs": [
    {
     "data": {
      "text/plain": [
       "(10000, 400)"
      ]
     },
     "execution_count": 26,
     "metadata": {},
     "output_type": "execute_result"
    }
   ],
   "source": [
    "X_adj = X.T\n",
    "X_adj.shape"
   ]
  },
  {
   "cell_type": "markdown",
   "id": "2fac147c",
   "metadata": {},
   "source": [
    "### The dimension of the projected subspace = 2"
   ]
  },
  {
   "cell_type": "code",
   "execution_count": 27,
   "id": "c30d617f",
   "metadata": {},
   "outputs": [
    {
     "data": {
      "text/plain": [
       "(10000, 2)"
      ]
     },
     "execution_count": 27,
     "metadata": {},
     "output_type": "execute_result"
    }
   ],
   "source": [
    "embedding = SpectralEmbedding(n_components=2)\n",
    "X_transformed = embedding.fit_transform(X_adj)\n",
    "X_transformed.shape"
   ]
  },
  {
   "cell_type": "code",
   "execution_count": 29,
   "id": "49e10526",
   "metadata": {},
   "outputs": [],
   "source": [
    "y = df.y.astype('int')\n"
   ]
  },
  {
   "cell_type": "code",
   "execution_count": 31,
   "id": "d0d58344",
   "metadata": {},
   "outputs": [
    {
     "data": {
      "text/plain": [
       "(10000,)"
      ]
     },
     "execution_count": 31,
     "metadata": {},
     "output_type": "execute_result"
    }
   ],
   "source": [
    "y.shape"
   ]
  },
  {
   "cell_type": "code",
   "execution_count": 34,
   "id": "aff1d0dd",
   "metadata": {},
   "outputs": [],
   "source": [
    "X_resampled, y_resampled = sampler.fit_resample(X_transformed, y)\n",
    "\n",
    "X_train, X_test, y_train, y_test = train_test_split(X_resampled, y_resampled,\n",
    "                                                        test_size = 0.25,\n",
    "                                                        stratify = y_resampled)"
   ]
  },
  {
   "cell_type": "code",
   "execution_count": 38,
   "id": "2c322679",
   "metadata": {},
   "outputs": [
    {
     "data": {
      "image/png": "[encoded data removed]",
      "text/plain": [
       "<Figure size 432x288 with 2 Axes>"
      ]
     },
     "metadata": {
      "needs_background": "light"
     },
     "output_type": "display_data"
    },
    {
     "name": "stdout",
     "output_type": "stream",
     "text": [
      "Precision: 0.557\n",
      "Recall: 0.557\n",
      "F1: 0.557\n",
      "Accuracy: 0.557\n"
     ]
    }
   ],
   "source": [
    "\n",
    "\n",
    "clf = rf(max_depth=5, max_features=\"log2\")\n",
    "clf.fit(X_train, y_train)\n",
    "y_pred = clf.predict(X_test)\n",
    "model_metrics(clf, y_test, y_pred)"
   ]
  },
  {
   "cell_type": "code",
   "execution_count": null,
   "id": "a032bbc8",
   "metadata": {},
   "outputs": [],
   "source": []
  },
  {
   "cell_type": "code",
   "execution_count": null,
   "id": "4eb124e6",
   "metadata": {},
   "outputs": [],
   "source": []
  },
  {
   "cell_type": "markdown",
   "id": "741d0639",
   "metadata": {},
   "source": [
    "### The dimension of the projected subspace = 10"
   ]
  },
  {
   "cell_type": "code",
   "execution_count": 39,
   "id": "7b4d4ac9",
   "metadata": {},
   "outputs": [
    {
     "data": {
      "text/plain": [
       "(10000, 10)"
      ]
     },
     "execution_count": 39,
     "metadata": {},
     "output_type": "execute_result"
    }
   ],
   "source": [
    "embedding = SpectralEmbedding(n_components=10)\n",
    "X_transformed2 = embedding.fit_transform(X_adj)\n",
    "X_transformed2.shape"
   ]
  },
  {
   "cell_type": "code",
   "execution_count": 40,
   "id": "c0c643c0",
   "metadata": {},
   "outputs": [],
   "source": [
    "X_resampled, y_resampled = sampler.fit_resample(X_transformed2, y)\n",
    "\n",
    "X_train, X_test, y_train, y_test = train_test_split(X_resampled, y_resampled,\n",
    "                                                        test_size = 0.25,\n",
    "                                                        stratify = y_resampled)"
   ]
  },
  {
   "cell_type": "code",
   "execution_count": 41,
   "id": "9d450eec",
   "metadata": {},
   "outputs": [
    {
     "data": {
      "image/png": "[encoded data removed]",
      "text/plain": [
       "<Figure size 432x288 with 2 Axes>"
      ]
     },
     "metadata": {
      "needs_background": "light"
     },
     "output_type": "display_data"
    },
    {
     "name": "stdout",
     "output_type": "stream",
     "text": [
      "Precision: 0.548\n",
      "Recall: 0.551\n",
      "F1: 0.550\n",
      "Accuracy: 0.549\n"
     ]
    }
   ],
   "source": [
    "clf = rf(max_depth=5, max_features=\"log2\")\n",
    "clf.fit(X_train, y_train)\n",
    "y_pred = clf.predict(X_test)\n",
    "model_metrics(clf, y_test, y_pred)"
   ]
  },
  {
   "cell_type": "markdown",
   "id": "618fde55",
   "metadata": {},
   "source": [
    "### The dimension of the projected subspace = 100"
   ]
  },
  {
   "cell_type": "code",
   "execution_count": 42,
   "id": "597b1d44",
   "metadata": {},
   "outputs": [
    {
     "data": {
      "text/plain": [
       "(10000, 100)"
      ]
     },
     "execution_count": 42,
     "metadata": {},
     "output_type": "execute_result"
    }
   ],
   "source": [
    "embedding = SpectralEmbedding(n_components=100)\n",
    "X_transformed3 = embedding.fit_transform(X_adj)\n",
    "X_transformed3.shape"
   ]
  },
  {
   "cell_type": "code",
   "execution_count": 47,
   "id": "255a4128",
   "metadata": {},
   "outputs": [],
   "source": [
    "X_resampled, y_resampled = sampler.fit_resample(X_transformed3, y)\n",
    "    \n",
    "X_train, X_test, y_train, y_test = train_test_split(X_resampled, y_resampled,\n",
    "                                                        test_size = 0.25,\n",
    "                                                        stratify = y_resampled)"
   ]
  },
  {
   "cell_type": "code",
   "execution_count": 48,
   "id": "a6e18af1",
   "metadata": {},
   "outputs": [
    {
     "data": {
      "image/png": "[encoded data removed]",
      "text/plain": [
       "<Figure size 432x288 with 2 Axes>"
      ]
     },
     "metadata": {
      "needs_background": "light"
     },
     "output_type": "display_data"
    },
    {
     "name": "stdout",
     "output_type": "stream",
     "text": [
      "Precision: 0.611\n",
      "Recall: 0.654\n",
      "F1: 0.632\n",
      "Accuracy: 0.619\n"
     ]
    }
   ],
   "source": [
    "clf = rf(max_depth=5, max_features=\"log2\")\n",
    "clf.fit(X_train, y_train)\n",
    "y_pred = clf.predict(X_test)\n",
    "model_metrics(clf, y_test, y_pred)"
   ]
  },
  {
   "cell_type": "code",
   "execution_count": 50,
   "id": "ad7d798f",
   "metadata": {},
   "outputs": [
    {
     "data": {
      "text/plain": [
       "(400, 10000)"
      ]
     },
     "execution_count": 50,
     "metadata": {},
     "output_type": "execute_result"
    }
   ],
   "source": [
    "X.shape"
   ]
  },
  {
   "cell_type": "markdown",
   "id": "a8e6f802",
   "metadata": {},
   "source": [
    "### Check node2vec and graph2vec"
   ]
  },
  {
   "cell_type": "code",
   "execution_count": 62,
   "id": "038154da",
   "metadata": {},
   "outputs": [
    {
     "data": {
      "text/plain": [
       "20"
      ]
     },
     "execution_count": 62,
     "metadata": {},
     "output_type": "execute_result"
    }
   ],
   "source": [
    "X[:,i].reshape(20, -1) #adjacency matrix of the first sample\n",
    "int(np.sqrt(X.shape[0]))"
   ]
  },
  {
   "cell_type": "code",
   "execution_count": 63,
   "id": "1c733bee",
   "metadata": {},
   "outputs": [],
   "source": [
    "graph_list = []\n",
    "for i in range(10000):\n",
    "    G=nx.from_pandas_adjacency(pd.DataFrame(X[:,i].reshape(20, -1)))\n",
    "    G=nx.Graph(G)\n",
    "    graph_list.append(G)"
   ]
  },
  {
   "cell_type": "code",
   "execution_count": 64,
   "id": "a9b474c8",
   "metadata": {},
   "outputs": [
    {
     "data": {
      "text/plain": [
       "10000"
      ]
     },
     "execution_count": 64,
     "metadata": {},
     "output_type": "execute_result"
    }
   ],
   "source": [
    "len(graph_list)"
   ]
  },
  {
   "cell_type": "code",
   "execution_count": 65,
   "id": "1d17a936",
   "metadata": {},
   "outputs": [],
   "source": []
  },
  {
   "cell_type": "code",
   "execution_count": 66,
   "id": "3ae2d9ac",
   "metadata": {},
   "outputs": [],
   "source": [
    "def n2v_embedding(graph_list):\n",
    "\n",
    "    df_n2v = pd.DataFrame()\n",
    "\n",
    "    for graph in graph_list:        \n",
    "        n2v = Node2Vec(dimensions = 1)\n",
    "        n2v.fit(graph)\n",
    "        embed = n2v.get_embedding()\n",
    "        df_embed = pd.DataFrame(embed.T)\n",
    "        df_n2v = pd.concat([df_n2v, df_embed], ignore_index=True, axis=0)\n",
    "        \n",
    "    return df_n2v\n"
   ]
  },
  {
   "cell_type": "code",
   "execution_count": 67,
   "id": "2339330b",
   "metadata": {},
   "outputs": [
    {
     "ename": "KeyboardInterrupt",
     "evalue": "",
     "output_type": "error",
     "traceback": [
      "\u001b[0;31m---------------------------------------------------------------------------\u001b[0m",
      "\u001b[0;31mKeyboardInterrupt\u001b[0m                         Traceback (most recent call last)",
      "\u001b[0;32m/var/folders/9r/2gx8_pxn3r90xfxb1d4km5fh0000gn/T/ipykernel_93444/2977420932.py\u001b[0m in \u001b[0;36m<module>\u001b[0;34m\u001b[0m\n\u001b[0;32m----> 1\u001b[0;31m \u001b[0mdf_n2v\u001b[0m \u001b[0;34m=\u001b[0m \u001b[0mn2v_embedding\u001b[0m\u001b[0;34m(\u001b[0m\u001b[0mgraph_list\u001b[0m\u001b[0;34m)\u001b[0m\u001b[0;34m\u001b[0m\u001b[0;34m\u001b[0m\u001b[0m\n\u001b[0m",
      "\u001b[0;32m/var/folders/9r/2gx8_pxn3r90xfxb1d4km5fh0000gn/T/ipykernel_93444/556904461.py\u001b[0m in \u001b[0;36mn2v_embedding\u001b[0;34m(graph_list)\u001b[0m\n\u001b[1;32m      5\u001b[0m     \u001b[0;32mfor\u001b[0m \u001b[0mgraph\u001b[0m \u001b[0;32min\u001b[0m \u001b[0mgraph_list\u001b[0m\u001b[0;34m:\u001b[0m\u001b[0;34m\u001b[0m\u001b[0;34m\u001b[0m\u001b[0m\n\u001b[1;32m      6\u001b[0m         \u001b[0mn2v\u001b[0m \u001b[0;34m=\u001b[0m \u001b[0mNode2Vec\u001b[0m\u001b[0;34m(\u001b[0m\u001b[0mdimensions\u001b[0m \u001b[0;34m=\u001b[0m \u001b[0;36m1\u001b[0m\u001b[0;34m)\u001b[0m\u001b[0;34m\u001b[0m\u001b[0;34m\u001b[0m\u001b[0m\n\u001b[0;32m----> 7\u001b[0;31m         \u001b[0mn2v\u001b[0m\u001b[0;34m.\u001b[0m\u001b[0mfit\u001b[0m\u001b[0;34m(\u001b[0m\u001b[0mgraph\u001b[0m\u001b[0;34m)\u001b[0m\u001b[0;34m\u001b[0m\u001b[0;34m\u001b[0m\u001b[0m\n\u001b[0m\u001b[1;32m      8\u001b[0m         \u001b[0membed\u001b[0m \u001b[0;34m=\u001b[0m \u001b[0mn2v\u001b[0m\u001b[0;34m.\u001b[0m\u001b[0mget_embedding\u001b[0m\u001b[0;34m(\u001b[0m\u001b[0;34m)\u001b[0m\u001b[0;34m\u001b[0m\u001b[0;34m\u001b[0m\u001b[0m\n\u001b[1;32m      9\u001b[0m         \u001b[0mdf_embed\u001b[0m \u001b[0;34m=\u001b[0m \u001b[0mpd\u001b[0m\u001b[0;34m.\u001b[0m\u001b[0mDataFrame\u001b[0m\u001b[0;34m(\u001b[0m\u001b[0membed\u001b[0m\u001b[0;34m.\u001b[0m\u001b[0mT\u001b[0m\u001b[0;34m)\u001b[0m\u001b[0;34m\u001b[0m\u001b[0;34m\u001b[0m\u001b[0m\n",
      "\u001b[0;32m~/opt/anaconda3/lib/python3.9/site-packages/karateclub/node_embedding/neighbourhood/node2vec.py\u001b[0m in \u001b[0;36mfit\u001b[0;34m(self, graph)\u001b[0m\n\u001b[1;32m     69\u001b[0m         \u001b[0mgraph\u001b[0m \u001b[0;34m=\u001b[0m \u001b[0mself\u001b[0m\u001b[0;34m.\u001b[0m\u001b[0m_check_graph\u001b[0m\u001b[0;34m(\u001b[0m\u001b[0mgraph\u001b[0m\u001b[0;34m)\u001b[0m\u001b[0;34m\u001b[0m\u001b[0;34m\u001b[0m\u001b[0m\n\u001b[1;32m     70\u001b[0m         \u001b[0mwalker\u001b[0m \u001b[0;34m=\u001b[0m \u001b[0mBiasedRandomWalker\u001b[0m\u001b[0;34m(\u001b[0m\u001b[0mself\u001b[0m\u001b[0;34m.\u001b[0m\u001b[0mwalk_length\u001b[0m\u001b[0;34m,\u001b[0m \u001b[0mself\u001b[0m\u001b[0;34m.\u001b[0m\u001b[0mwalk_number\u001b[0m\u001b[0;34m,\u001b[0m \u001b[0mself\u001b[0m\u001b[0;34m.\u001b[0m\u001b[0mp\u001b[0m\u001b[0;34m,\u001b[0m \u001b[0mself\u001b[0m\u001b[0;34m.\u001b[0m\u001b[0mq\u001b[0m\u001b[0;34m)\u001b[0m\u001b[0;34m\u001b[0m\u001b[0;34m\u001b[0m\u001b[0m\n\u001b[0;32m---> 71\u001b[0;31m         \u001b[0mwalker\u001b[0m\u001b[0;34m.\u001b[0m\u001b[0mdo_walks\u001b[0m\u001b[0;34m(\u001b[0m\u001b[0mgraph\u001b[0m\u001b[0;34m)\u001b[0m\u001b[0;34m\u001b[0m\u001b[0;34m\u001b[0m\u001b[0m\n\u001b[0m\u001b[1;32m     72\u001b[0m \u001b[0;34m\u001b[0m\u001b[0m\n\u001b[1;32m     73\u001b[0m         model = Word2Vec(\n",
      "\u001b[0;32m~/opt/anaconda3/lib/python3.9/site-packages/karateclub/utils/walker.py\u001b[0m in \u001b[0;36mdo_walks\u001b[0;34m(self, graph)\u001b[0m\n\u001b[1;32m    179\u001b[0m         \u001b[0;32mfor\u001b[0m \u001b[0mnode\u001b[0m \u001b[0;32min\u001b[0m \u001b[0mself\u001b[0m\u001b[0;34m.\u001b[0m\u001b[0mgraph\u001b[0m\u001b[0;34m.\u001b[0m\u001b[0mnodes\u001b[0m\u001b[0;34m(\u001b[0m\u001b[0;34m)\u001b[0m\u001b[0;34m:\u001b[0m\u001b[0;34m\u001b[0m\u001b[0;34m\u001b[0m\u001b[0m\n\u001b[1;32m    180\u001b[0m             \u001b[0;32mfor\u001b[0m \u001b[0m_\u001b[0m \u001b[0;32min\u001b[0m \u001b[0mrange\u001b[0m\u001b[0;34m(\u001b[0m\u001b[0mself\u001b[0m\u001b[0;34m.\u001b[0m\u001b[0mwalk_number\u001b[0m\u001b[0;34m)\u001b[0m\u001b[0;34m:\u001b[0m\u001b[0;34m\u001b[0m\u001b[0;34m\u001b[0m\u001b[0m\n\u001b[0;32m--> 181\u001b[0;31m                 \u001b[0mwalk_from_node\u001b[0m \u001b[0;34m=\u001b[0m \u001b[0mself\u001b[0m\u001b[0;34m.\u001b[0m\u001b[0mdo_walk\u001b[0m\u001b[0;34m(\u001b[0m\u001b[0mnode\u001b[0m\u001b[0;34m)\u001b[0m\u001b[0;34m\u001b[0m\u001b[0;34m\u001b[0m\u001b[0m\n\u001b[0m\u001b[1;32m    182\u001b[0m                 \u001b[0mself\u001b[0m\u001b[0;34m.\u001b[0m\u001b[0mwalks\u001b[0m\u001b[0;34m.\u001b[0m\u001b[0mappend\u001b[0m\u001b[0;34m(\u001b[0m\u001b[0mwalk_from_node\u001b[0m\u001b[0;34m)\u001b[0m\u001b[0;34m\u001b[0m\u001b[0;34m\u001b[0m\u001b[0m\n",
      "\u001b[0;32m~/opt/anaconda3/lib/python3.9/site-packages/karateclub/utils/walker.py\u001b[0m in \u001b[0;36mdo_walk\u001b[0;34m(self, node)\u001b[0m\n\u001b[1;32m    159\u001b[0m \u001b[0;34m\u001b[0m\u001b[0m\n\u001b[1;32m    160\u001b[0m             \u001b[0mprevious_node_neighbors\u001b[0m \u001b[0;34m=\u001b[0m \u001b[0mcurrent_node_neighbors\u001b[0m\u001b[0;34m\u001b[0m\u001b[0;34m\u001b[0m\u001b[0m\n\u001b[0;32m--> 161\u001b[0;31m             \u001b[0mprevious_node\u001b[0m \u001b[0;34m=\u001b[0m \u001b[0mcurrent_node\u001b[0m\u001b[0;34m\u001b[0m\u001b[0;34m\u001b[0m\u001b[0m\n\u001b[0m\u001b[1;32m    162\u001b[0m \u001b[0;34m\u001b[0m\u001b[0m\n\u001b[1;32m    163\u001b[0m         \u001b[0mwalk\u001b[0m \u001b[0;34m=\u001b[0m \u001b[0;34m[\u001b[0m\u001b[0mstr\u001b[0m\u001b[0;34m(\u001b[0m\u001b[0mw\u001b[0m\u001b[0;34m)\u001b[0m \u001b[0;32mfor\u001b[0m \u001b[0mw\u001b[0m \u001b[0;32min\u001b[0m \u001b[0mwalk\u001b[0m\u001b[0;34m]\u001b[0m\u001b[0;34m\u001b[0m\u001b[0;34m\u001b[0m\u001b[0m\n",
      "\u001b[0;31mKeyboardInterrupt\u001b[0m: "
     ]
    }
   ],
   "source": [
    "df_n2v = n2v_embedding(graph_list)"
   ]
  },
  {
   "cell_type": "code",
   "execution_count": null,
   "id": "e3d405d7",
   "metadata": {},
   "outputs": [],
   "source": [
    "df_n2v.shape"
   ]
  },
  {
   "cell_type": "code",
   "execution_count": null,
   "id": "3824ca2c",
   "metadata": {},
   "outputs": [],
   "source": [
    "X_resampled, y_resampled = sampler.fit_resample(df_n2v, y)\n",
    "\n",
    "X_train, X_test, y_train, y_test = train_test_split(X_resampled, y_resampled,\n",
    "                                                        test_size = 0.25,\n",
    "                                                        stratify = y_resampled)\n",
    "\n",
    "\n",
    "clf = rf(max_depth=5, max_features=\"log2\")\n",
    "clf.fit(X_train, y_train)\n",
    "y_pred = clf.predict(X_test)\n",
    "model_metrics(clf, y_test, y_pred)"
   ]
  },
  {
   "cell_type": "code",
   "execution_count": 76,
   "id": "9b0a7ede",
   "metadata": {},
   "outputs": [],
   "source": [
    "g2v = Graph2Vec(wl_iterations = 5, dimensions = 10)\n",
    "g2v.fit(graph_list)\n",
    "embed = g2v.get_embedding()\n",
    "df_g2v = pd.DataFrame(embed)"
   ]
  },
  {
   "cell_type": "code",
   "execution_count": 82,
   "id": "4ef5b0db",
   "metadata": {},
   "outputs": [
    {
     "data": {
      "image/png": "[encoded data removed]",
      "text/plain": [
       "<Figure size 432x288 with 2 Axes>"
      ]
     },
     "metadata": {
      "needs_background": "light"
     },
     "output_type": "display_data"
    },
    {
     "name": "stdout",
     "output_type": "stream",
     "text": [
      "Precision: 0.600\n",
      "Recall: 0.438\n",
      "F1: 0.506\n",
      "Accuracy: 0.573\n"
     ]
    }
   ],
   "source": [
    "X_resampled, y_resampled = sampler.fit_resample(df_g2v, y)\n",
    "\n",
    "X_train, X_test, y_train, y_test = train_test_split(X_resampled, y_resampled,\n",
    "                                                        test_size = 0.25,\n",
    "                                                        stratify = y_resampled)\n",
    "\n",
    "\n",
    "clf = rf(max_depth=5, max_features=\"log2\")\n",
    "clf.fit(X_train, y_train)\n",
    "y_pred = clf.predict(X_test)\n",
    "model_metrics(clf, y_test, y_pred)"
   ]
  },
  {
   "cell_type": "code",
   "execution_count": 84,
   "id": "c4a5c00d",
   "metadata": {},
   "outputs": [
    {
     "data": {
      "image/png": "[encoded data removed]",
      "text/plain": [
       "<Figure size 432x288 with 2 Axes>"
      ]
     },
     "metadata": {
      "needs_background": "light"
     },
     "output_type": "display_data"
    },
    {
     "name": "stdout",
     "output_type": "stream",
     "text": [
      "Precision: 0.730\n",
      "Recall: 0.584\n",
      "F1: 0.649\n",
      "Accuracy: 0.684\n"
     ]
    }
   ],
   "source": [
    "X_resampled, y_resampled = sampler.fit_resample(X_adj, y)\n",
    "\n",
    "X_train, X_test, y_train, y_test = train_test_split(X_resampled, y_resampled,\n",
    "                                                        test_size = 0.25,\n",
    "                                                        stratify = y_resampled)\n",
    "\n",
    "\n",
    "clf = rf(max_depth=5, max_features=\"log2\")\n",
    "clf.fit(X_train, y_train)\n",
    "y_pred = clf.predict(X_test)\n",
    "model_metrics(clf, y_test, y_pred)"
   ]
  }
 ],
 "metadata": {
  "kernelspec": {
   "display_name": "Python 3 (ipykernel)",
   "language": "python",
   "name": "python3"
  },
  "language_info": {
   "codemirror_mode": {
    "name": "ipython",
    "version": 3
   },
   "file_extension": ".py",
   "mimetype": "text/x-python",
   "name": "python",
   "nbconvert_exporter": "python",
   "pygments_lexer": "ipython3",
   "version": "3.9.7"
  }
 },
 "nbformat": 4,
 "nbformat_minor": 5
}
