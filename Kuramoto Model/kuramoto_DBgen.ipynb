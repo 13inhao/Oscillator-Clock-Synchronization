{
 "cells": [
  {
   "cell_type": "code",
   "execution_count": null,
   "id": "51ea5224",
   "metadata": {},
   "outputs": [],
   "source": [
    "import pandas as pd\n",
    "import numpy as np\n",
    "import networkx as nx\n",
    "import statistics as stats\n",
    "import csv\n",
    "from kuramoto import Kuramoto, plot_phase_coherence, plot_activity"
   ]
  },
  {
   "cell_type": "code",
   "execution_count": null,
   "id": "ee6e2fd6",
   "metadata": {},
   "outputs": [],
   "source": [
    "### Implement a method in the Kuramoto class to generate databases of colors"
   ]
  },
  {
   "cell_type": "code",
   "execution_count": null,
   "id": "e20d0b1f",
   "metadata": {},
   "outputs": [],
   "source": []
  }
 ],
 "metadata": {
  "kernelspec": {
   "display_name": "Python 3 (ipykernel)",
   "language": "python",
   "name": "python3"
  },
  "language_info": {
   "codemirror_mode": {
    "name": "ipython",
    "version": 3
   },
   "file_extension": ".py",
   "mimetype": "text/x-python",
   "name": "python",
   "nbconvert_exporter": "python",
   "pygments_lexer": "ipython3",
   "version": "3.9.12"
  }
 },
 "nbformat": 4,
 "nbformat_minor": 5
}
