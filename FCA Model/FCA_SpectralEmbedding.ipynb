{
 "cells": [
  {
   "cell_type": "code",
   "execution_count": 8,
   "id": "5c3344a1",
   "metadata": {},
   "outputs": [],
   "source": [
    "import FCA, pickle, csv\n",
    "import numpy as np\n",
    "import pandas as pd\n",
    "import networkx as nx\n",
    "import statistics as s\n",
    "from math import floor\n",
    "from NNetwork import NNetwork as nn\n",
    "import matplotlib.pyplot as plt\n",
    "import matplotlib.gridspec as gridspec\n",
    "import warnings\n",
    "warnings.filterwarnings(\"ignore\")\n",
    "\n",
    "import random\n",
    "\n",
    "from sklearn.manifold import SpectralEmbedding\n",
    "\n",
    "from imblearn.under_sampling import RandomUnderSampler\n",
    "from sklearn.model_selection import train_test_split\n",
    "sampler = RandomUnderSampler()\n",
    "\n",
    "from karateclub import Node2Vec\n",
    "from karateclub import Graph2Vec\n",
    "\n",
    "\n",
    "from sklearn.model_selection import train_test_split\n",
    "from sklearn.metrics import confusion_matrix, precision_score, recall_score, f1_score, accuracy_score, ConfusionMatrixDisplay\n",
    "from sklearn.svm import SVC\n",
    "from sklearn.ensemble import RandomForestClassifier as rf"
   ]
  },
  {
   "cell_type": "code",
   "execution_count": 3,
   "id": "128090de",
   "metadata": {},
   "outputs": [],
   "source": [
    "def model_metrics(model, y_test, y_pred):\n",
    "    conf_matrix = confusion_matrix(y_true = y_test, y_pred = y_pred)\n",
    "    disp = ConfusionMatrixDisplay(confusion_matrix=conf_matrix,\n",
    "                                  display_labels=model.classes_)\n",
    "    disp.plot()\n",
    "    plt.show()\n",
    "    \n",
    "    print('Precision: %.3f' % precision_score(y_test, y_pred))\n",
    "    print('Recall: %.3f' % recall_score(y_test, y_pred))\n",
    "    print('F1: %.3f' % f1_score(y_test, y_pred))\n",
    "    print('Accuracy: %.3f' % accuracy_score(y_test, y_pred))\n",
    "    \n",
    "    pass\n",
    "    return"
   ]
  },
  {
   "cell_type": "code",
   "execution_count": 4,
   "id": "e10fdc17",
   "metadata": {},
   "outputs": [],
   "source": [
    "# FCA_iter: total iteration for the FCA model, used for label\n",
    "# baseline_iter: the iteration for baseline model, usually less than FCA_iter\n",
    "# iter_include: number of iteration to include in the dataframe\n",
    "# X: a list of graph structure (for each graph, length = k^2 if num_nodes=k)\n",
    "# num_edges, num_nodes, min_degree, max_degree, diameter, quartile_1, quartile_2, quartile_3, states, y, baseline_width\n",
    "def FCA_datagen(num_nodes, kappa, FCA_iter, baseline_iter, iter_include, file_name, X):\n",
    "    # generate the toy dataset\n",
    "    file = open(file_name, 'w+', newline='')\n",
    "\n",
    "    header = [\"num_edges\", \"num_nodes\", \"min_degree\", \"max_degree\", \"diameter\", \"quartile_1\",\n",
    "              \"quartile_2\", \"quartile_3\", \"y\", \"baseline_width\"]\n",
    "    for i in range(baseline_iter):\n",
    "        for j in range(num_nodes):\n",
    "            header.append(\"s\" + str(i + 1) + \"_\" + str(j + 1))\n",
    "\n",
    "    with file:\n",
    "        write = csv.writer(file)\n",
    "\n",
    "        write.writerow(header)\n",
    "        for i in range(X.shape[1]): #X.shape = (400, 3000)\n",
    "            G=nx.from_pandas_adjacency(pd.DataFrame(X[:,i].reshape(20, -1)))\n",
    "            G=nx.Graph(G)\n",
    "            \n",
    "            \n",
    "            col = np.random.randint(0,kappa,size=num_nodes)\n",
    "\n",
    "            num_edges = G.number_of_edges()\n",
    "            min_degree = min(list(G.degree), key=lambda x: x[1])[1]\n",
    "            max_degree = max(list(G.degree), key=lambda x: x[1])[1]\n",
    "            diameter = nx.diameter(G)\n",
    "            quartile_1 = s.quantiles(col, n=4)[0]\n",
    "            quartile_2 = s.quantiles(col, n=4)[1]\n",
    "            quartile_3 = s.quantiles(col, n=4)[2]\n",
    "\n",
    "            sample = [num_edges, num_nodes, min_degree, max_degree, diameter,\n",
    "                      quartile_1, quartile_2, quartile_3]\n",
    "            states, label = FCA.FCA(G, col, kappa, FCA_iter)\n",
    "\n",
    "            width = FCA.width_compute(states[FCA_iter - 1], kappa)\n",
    "            y = False\n",
    "            if (width < floor(kappa / 2)):  # half circle concentration\n",
    "                y = True\n",
    "            sample.append(y)\n",
    "\n",
    "            baseline_width = FCA.width_compute(states[baseline_iter - 1], kappa)\n",
    "            baseline = False\n",
    "            if (baseline_width < floor(kappa / 2)):  # half circle concentration\n",
    "                baseline = True\n",
    "            sample.append(baseline)\n",
    "\n",
    "            for j in range(iter_include):\n",
    "                sample = sample + list(states[j])\n",
    "\n",
    "            write.writerow(sample)\n",
    "    #return graph_list"
   ]
  },
  {
   "cell_type": "code",
   "execution_count": 92,
   "id": "2367ea23",
   "metadata": {},
   "outputs": [
    {
     "name": "stdout",
     "output_type": "stream",
     "text": [
      "num nodes in G 20467\n",
      "num edges in G 1495226\n"
     ]
    }
   ],
   "source": [
    "sampling_alg = 'pivot'\n",
    "\n",
    "ntwk = 'UCLA26' # COVID_PPI, Wisconsin87, UCLA26, Caltech36\n",
    "ntwk_nonumber = ''.join([i for i in ntwk if not i.isdigit()])\n",
    "save_folder = 'Subgraph_sampling/test1/'\n",
    "\n",
    "path = \"../Data/Networks_all_NDL/\" + str(ntwk) + '.txt'\n",
    "G = nn.NNetwork()\n",
    "G.load_add_edges(path, increment_weights=False, use_genfromtxt=True)\n",
    "print('num nodes in G', len(G.nodes()))\n",
    "print('num edges in G', len(G.get_edges()))"
   ]
  },
  {
   "cell_type": "code",
   "execution_count": 96,
   "id": "1fed52e5",
   "metadata": {},
   "outputs": [
    {
     "name": "stdout",
     "output_type": "stream",
     "text": [
      "num of subgraphs induced on k-paths: 1000\n"
     ]
    },
    {
     "data": {
      "text/plain": [
       "(400, 1000)"
      ]
     },
     "execution_count": 96,
     "metadata": {},
     "output_type": "execute_result"
    }
   ],
   "source": [
    "k=20\n",
    "X, embs = G.get_patches(k=k, sample_size=1000, skip_folded_hom=True)\n",
    "# file = open('toy.pkl', 'wb')\n",
    "# pickle.dump(X, file)\n",
    "# file.close()\n",
    "X.shape"
   ]
  },
  {
   "cell_type": "code",
   "execution_count": 97,
   "id": "ff0198cb",
   "metadata": {},
   "outputs": [],
   "source": [
    "num_nodes = 20\n",
    "kappa = 10\n",
    "FCA_iter = 200\n",
    "baseline_iter = 50\n",
    "iter_include = 5\n",
    "file_name = \"toy.csv\"\n",
    "FCA_datagen(num_nodes, kappa, FCA_iter, baseline_iter, iter_include, file_name, X)"
   ]
  },
  {
   "cell_type": "code",
   "execution_count": 98,
   "id": "15e533a1",
   "metadata": {},
   "outputs": [
    {
     "data": {
      "text/html": [
       "<div>\n",
       "<style scoped>\n",
       "    .dataframe tbody tr th:only-of-type {\n",
       "        vertical-align: middle;\n",
       "    }\n",
       "\n",
       "    .dataframe tbody tr th {\n",
       "        vertical-align: top;\n",
       "    }\n",
       "\n",
       "    .dataframe thead th {\n",
       "        text-align: right;\n",
       "    }\n",
       "</style>\n",
       "<table border=\"1\" class=\"dataframe\">\n",
       "  <thead>\n",
       "    <tr style=\"text-align: right;\">\n",
       "      <th></th>\n",
       "      <th>num_edges</th>\n",
       "      <th>num_nodes</th>\n",
       "      <th>min_degree</th>\n",
       "      <th>max_degree</th>\n",
       "      <th>diameter</th>\n",
       "      <th>quartile_1</th>\n",
       "      <th>quartile_2</th>\n",
       "      <th>quartile_3</th>\n",
       "      <th>y</th>\n",
       "      <th>baseline_width</th>\n",
       "      <th>...</th>\n",
       "      <th>s50_11</th>\n",
       "      <th>s50_12</th>\n",
       "      <th>s50_13</th>\n",
       "      <th>s50_14</th>\n",
       "      <th>s50_15</th>\n",
       "      <th>s50_16</th>\n",
       "      <th>s50_17</th>\n",
       "      <th>s50_18</th>\n",
       "      <th>s50_19</th>\n",
       "      <th>s50_20</th>\n",
       "    </tr>\n",
       "  </thead>\n",
       "  <tbody>\n",
       "    <tr>\n",
       "      <th>0</th>\n",
       "      <td>25</td>\n",
       "      <td>20</td>\n",
       "      <td>1</td>\n",
       "      <td>5</td>\n",
       "      <td>13</td>\n",
       "      <td>1.25</td>\n",
       "      <td>5.0</td>\n",
       "      <td>6.75</td>\n",
       "      <td>True</td>\n",
       "      <td>False</td>\n",
       "      <td>...</td>\n",
       "      <td>NaN</td>\n",
       "      <td>NaN</td>\n",
       "      <td>NaN</td>\n",
       "      <td>NaN</td>\n",
       "      <td>NaN</td>\n",
       "      <td>NaN</td>\n",
       "      <td>NaN</td>\n",
       "      <td>NaN</td>\n",
       "      <td>NaN</td>\n",
       "      <td>NaN</td>\n",
       "    </tr>\n",
       "    <tr>\n",
       "      <th>1</th>\n",
       "      <td>25</td>\n",
       "      <td>20</td>\n",
       "      <td>1</td>\n",
       "      <td>5</td>\n",
       "      <td>11</td>\n",
       "      <td>3.00</td>\n",
       "      <td>5.5</td>\n",
       "      <td>8.00</td>\n",
       "      <td>True</td>\n",
       "      <td>False</td>\n",
       "      <td>...</td>\n",
       "      <td>NaN</td>\n",
       "      <td>NaN</td>\n",
       "      <td>NaN</td>\n",
       "      <td>NaN</td>\n",
       "      <td>NaN</td>\n",
       "      <td>NaN</td>\n",
       "      <td>NaN</td>\n",
       "      <td>NaN</td>\n",
       "      <td>NaN</td>\n",
       "      <td>NaN</td>\n",
       "    </tr>\n",
       "    <tr>\n",
       "      <th>2</th>\n",
       "      <td>25</td>\n",
       "      <td>20</td>\n",
       "      <td>1</td>\n",
       "      <td>4</td>\n",
       "      <td>8</td>\n",
       "      <td>2.00</td>\n",
       "      <td>6.0</td>\n",
       "      <td>7.00</td>\n",
       "      <td>False</td>\n",
       "      <td>False</td>\n",
       "      <td>...</td>\n",
       "      <td>NaN</td>\n",
       "      <td>NaN</td>\n",
       "      <td>NaN</td>\n",
       "      <td>NaN</td>\n",
       "      <td>NaN</td>\n",
       "      <td>NaN</td>\n",
       "      <td>NaN</td>\n",
       "      <td>NaN</td>\n",
       "      <td>NaN</td>\n",
       "      <td>NaN</td>\n",
       "    </tr>\n",
       "    <tr>\n",
       "      <th>3</th>\n",
       "      <td>23</td>\n",
       "      <td>20</td>\n",
       "      <td>1</td>\n",
       "      <td>4</td>\n",
       "      <td>8</td>\n",
       "      <td>1.00</td>\n",
       "      <td>3.0</td>\n",
       "      <td>6.00</td>\n",
       "      <td>False</td>\n",
       "      <td>False</td>\n",
       "      <td>...</td>\n",
       "      <td>NaN</td>\n",
       "      <td>NaN</td>\n",
       "      <td>NaN</td>\n",
       "      <td>NaN</td>\n",
       "      <td>NaN</td>\n",
       "      <td>NaN</td>\n",
       "      <td>NaN</td>\n",
       "      <td>NaN</td>\n",
       "      <td>NaN</td>\n",
       "      <td>NaN</td>\n",
       "    </tr>\n",
       "    <tr>\n",
       "      <th>4</th>\n",
       "      <td>26</td>\n",
       "      <td>20</td>\n",
       "      <td>2</td>\n",
       "      <td>5</td>\n",
       "      <td>11</td>\n",
       "      <td>2.00</td>\n",
       "      <td>5.0</td>\n",
       "      <td>6.75</td>\n",
       "      <td>False</td>\n",
       "      <td>False</td>\n",
       "      <td>...</td>\n",
       "      <td>NaN</td>\n",
       "      <td>NaN</td>\n",
       "      <td>NaN</td>\n",
       "      <td>NaN</td>\n",
       "      <td>NaN</td>\n",
       "      <td>NaN</td>\n",
       "      <td>NaN</td>\n",
       "      <td>NaN</td>\n",
       "      <td>NaN</td>\n",
       "      <td>NaN</td>\n",
       "    </tr>\n",
       "    <tr>\n",
       "      <th>...</th>\n",
       "      <td>...</td>\n",
       "      <td>...</td>\n",
       "      <td>...</td>\n",
       "      <td>...</td>\n",
       "      <td>...</td>\n",
       "      <td>...</td>\n",
       "      <td>...</td>\n",
       "      <td>...</td>\n",
       "      <td>...</td>\n",
       "      <td>...</td>\n",
       "      <td>...</td>\n",
       "      <td>...</td>\n",
       "      <td>...</td>\n",
       "      <td>...</td>\n",
       "      <td>...</td>\n",
       "      <td>...</td>\n",
       "      <td>...</td>\n",
       "      <td>...</td>\n",
       "      <td>...</td>\n",
       "      <td>...</td>\n",
       "      <td>...</td>\n",
       "    </tr>\n",
       "    <tr>\n",
       "      <th>995</th>\n",
       "      <td>34</td>\n",
       "      <td>20</td>\n",
       "      <td>1</td>\n",
       "      <td>7</td>\n",
       "      <td>11</td>\n",
       "      <td>1.00</td>\n",
       "      <td>5.5</td>\n",
       "      <td>7.00</td>\n",
       "      <td>True</td>\n",
       "      <td>False</td>\n",
       "      <td>...</td>\n",
       "      <td>NaN</td>\n",
       "      <td>NaN</td>\n",
       "      <td>NaN</td>\n",
       "      <td>NaN</td>\n",
       "      <td>NaN</td>\n",
       "      <td>NaN</td>\n",
       "      <td>NaN</td>\n",
       "      <td>NaN</td>\n",
       "      <td>NaN</td>\n",
       "      <td>NaN</td>\n",
       "    </tr>\n",
       "    <tr>\n",
       "      <th>996</th>\n",
       "      <td>26</td>\n",
       "      <td>20</td>\n",
       "      <td>1</td>\n",
       "      <td>4</td>\n",
       "      <td>12</td>\n",
       "      <td>3.00</td>\n",
       "      <td>6.0</td>\n",
       "      <td>7.00</td>\n",
       "      <td>True</td>\n",
       "      <td>False</td>\n",
       "      <td>...</td>\n",
       "      <td>NaN</td>\n",
       "      <td>NaN</td>\n",
       "      <td>NaN</td>\n",
       "      <td>NaN</td>\n",
       "      <td>NaN</td>\n",
       "      <td>NaN</td>\n",
       "      <td>NaN</td>\n",
       "      <td>NaN</td>\n",
       "      <td>NaN</td>\n",
       "      <td>NaN</td>\n",
       "    </tr>\n",
       "    <tr>\n",
       "      <th>997</th>\n",
       "      <td>25</td>\n",
       "      <td>20</td>\n",
       "      <td>1</td>\n",
       "      <td>5</td>\n",
       "      <td>13</td>\n",
       "      <td>2.00</td>\n",
       "      <td>4.5</td>\n",
       "      <td>7.75</td>\n",
       "      <td>True</td>\n",
       "      <td>False</td>\n",
       "      <td>...</td>\n",
       "      <td>NaN</td>\n",
       "      <td>NaN</td>\n",
       "      <td>NaN</td>\n",
       "      <td>NaN</td>\n",
       "      <td>NaN</td>\n",
       "      <td>NaN</td>\n",
       "      <td>NaN</td>\n",
       "      <td>NaN</td>\n",
       "      <td>NaN</td>\n",
       "      <td>NaN</td>\n",
       "    </tr>\n",
       "    <tr>\n",
       "      <th>998</th>\n",
       "      <td>27</td>\n",
       "      <td>20</td>\n",
       "      <td>1</td>\n",
       "      <td>6</td>\n",
       "      <td>7</td>\n",
       "      <td>2.25</td>\n",
       "      <td>4.0</td>\n",
       "      <td>6.00</td>\n",
       "      <td>False</td>\n",
       "      <td>False</td>\n",
       "      <td>...</td>\n",
       "      <td>NaN</td>\n",
       "      <td>NaN</td>\n",
       "      <td>NaN</td>\n",
       "      <td>NaN</td>\n",
       "      <td>NaN</td>\n",
       "      <td>NaN</td>\n",
       "      <td>NaN</td>\n",
       "      <td>NaN</td>\n",
       "      <td>NaN</td>\n",
       "      <td>NaN</td>\n",
       "    </tr>\n",
       "    <tr>\n",
       "      <th>999</th>\n",
       "      <td>36</td>\n",
       "      <td>20</td>\n",
       "      <td>1</td>\n",
       "      <td>7</td>\n",
       "      <td>7</td>\n",
       "      <td>2.25</td>\n",
       "      <td>4.5</td>\n",
       "      <td>7.00</td>\n",
       "      <td>True</td>\n",
       "      <td>False</td>\n",
       "      <td>...</td>\n",
       "      <td>NaN</td>\n",
       "      <td>NaN</td>\n",
       "      <td>NaN</td>\n",
       "      <td>NaN</td>\n",
       "      <td>NaN</td>\n",
       "      <td>NaN</td>\n",
       "      <td>NaN</td>\n",
       "      <td>NaN</td>\n",
       "      <td>NaN</td>\n",
       "      <td>NaN</td>\n",
       "    </tr>\n",
       "  </tbody>\n",
       "</table>\n",
       "<p>1000 rows × 1010 columns</p>\n",
       "</div>"
      ],
      "text/plain": [
       "     num_edges  num_nodes  min_degree  max_degree  diameter  quartile_1  \\\n",
       "0           25         20           1           5        13        1.25   \n",
       "1           25         20           1           5        11        3.00   \n",
       "2           25         20           1           4         8        2.00   \n",
       "3           23         20           1           4         8        1.00   \n",
       "4           26         20           2           5        11        2.00   \n",
       "..         ...        ...         ...         ...       ...         ...   \n",
       "995         34         20           1           7        11        1.00   \n",
       "996         26         20           1           4        12        3.00   \n",
       "997         25         20           1           5        13        2.00   \n",
       "998         27         20           1           6         7        2.25   \n",
       "999         36         20           1           7         7        2.25   \n",
       "\n",
       "     quartile_2  quartile_3      y  baseline_width  ...  s50_11  s50_12  \\\n",
       "0           5.0        6.75   True           False  ...     NaN     NaN   \n",
       "1           5.5        8.00   True           False  ...     NaN     NaN   \n",
       "2           6.0        7.00  False           False  ...     NaN     NaN   \n",
       "3           3.0        6.00  False           False  ...     NaN     NaN   \n",
       "4           5.0        6.75  False           False  ...     NaN     NaN   \n",
       "..          ...         ...    ...             ...  ...     ...     ...   \n",
       "995         5.5        7.00   True           False  ...     NaN     NaN   \n",
       "996         6.0        7.00   True           False  ...     NaN     NaN   \n",
       "997         4.5        7.75   True           False  ...     NaN     NaN   \n",
       "998         4.0        6.00  False           False  ...     NaN     NaN   \n",
       "999         4.5        7.00   True           False  ...     NaN     NaN   \n",
       "\n",
       "     s50_13  s50_14  s50_15  s50_16  s50_17  s50_18  s50_19  s50_20  \n",
       "0       NaN     NaN     NaN     NaN     NaN     NaN     NaN     NaN  \n",
       "1       NaN     NaN     NaN     NaN     NaN     NaN     NaN     NaN  \n",
       "2       NaN     NaN     NaN     NaN     NaN     NaN     NaN     NaN  \n",
       "3       NaN     NaN     NaN     NaN     NaN     NaN     NaN     NaN  \n",
       "4       NaN     NaN     NaN     NaN     NaN     NaN     NaN     NaN  \n",
       "..      ...     ...     ...     ...     ...     ...     ...     ...  \n",
       "995     NaN     NaN     NaN     NaN     NaN     NaN     NaN     NaN  \n",
       "996     NaN     NaN     NaN     NaN     NaN     NaN     NaN     NaN  \n",
       "997     NaN     NaN     NaN     NaN     NaN     NaN     NaN     NaN  \n",
       "998     NaN     NaN     NaN     NaN     NaN     NaN     NaN     NaN  \n",
       "999     NaN     NaN     NaN     NaN     NaN     NaN     NaN     NaN  \n",
       "\n",
       "[1000 rows x 1010 columns]"
      ]
     },
     "execution_count": 98,
     "metadata": {},
     "output_type": "execute_result"
    }
   ],
   "source": [
    "df = pd.read_csv(\"toy.csv\")\n",
    "df"
   ]
  },
  {
   "cell_type": "code",
   "execution_count": 99,
   "id": "31fde198",
   "metadata": {},
   "outputs": [
    {
     "data": {
      "text/plain": [
       "True     679\n",
       "False    321\n",
       "Name: y, dtype: int64"
      ]
     },
     "execution_count": 99,
     "metadata": {},
     "output_type": "execute_result"
    }
   ],
   "source": [
    "df.y.value_counts()"
   ]
  },
  {
   "cell_type": "code",
   "execution_count": 100,
   "id": "8f3a4426",
   "metadata": {},
   "outputs": [
    {
     "data": {
      "text/plain": [
       "False    798\n",
       "True     202\n",
       "Name: baseline_width, dtype: int64"
      ]
     },
     "execution_count": 100,
     "metadata": {},
     "output_type": "execute_result"
    }
   ],
   "source": [
    "df.baseline_width.value_counts()"
   ]
  },
  {
   "cell_type": "code",
   "execution_count": 101,
   "id": "76822d0c",
   "metadata": {},
   "outputs": [
    {
     "data": {
      "text/plain": [
       "(1000, 1010)"
      ]
     },
     "execution_count": 101,
     "metadata": {},
     "output_type": "execute_result"
    }
   ],
   "source": [
    "df.shape"
   ]
  },
  {
   "cell_type": "code",
   "execution_count": 102,
   "id": "0333400c",
   "metadata": {},
   "outputs": [
    {
     "data": {
      "text/plain": [
       "(1000, 400)"
      ]
     },
     "execution_count": 102,
     "metadata": {},
     "output_type": "execute_result"
    }
   ],
   "source": [
    "X_adj = X.T\n",
    "X_adj.shape"
   ]
  },
  {
   "cell_type": "markdown",
   "id": "2fac147c",
   "metadata": {},
   "source": [
    "### The dimension of the projected subspace = 2"
   ]
  },
  {
   "cell_type": "code",
   "execution_count": 103,
   "id": "c30d617f",
   "metadata": {},
   "outputs": [
    {
     "data": {
      "text/plain": [
       "(1000, 2)"
      ]
     },
     "execution_count": 103,
     "metadata": {},
     "output_type": "execute_result"
    }
   ],
   "source": [
    "embedding = SpectralEmbedding(n_components=2)\n",
    "X_transformed = embedding.fit_transform(X_adj)\n",
    "X_transformed.shape"
   ]
  },
  {
   "cell_type": "code",
   "execution_count": 105,
   "id": "49e10526",
   "metadata": {},
   "outputs": [
    {
     "data": {
      "text/plain": [
       "(1000,)"
      ]
     },
     "execution_count": 105,
     "metadata": {},
     "output_type": "execute_result"
    }
   ],
   "source": [
    "y = df.y.astype('int')\n",
    "y.shape"
   ]
  },
  {
   "cell_type": "code",
   "execution_count": 106,
   "id": "aff1d0dd",
   "metadata": {},
   "outputs": [],
   "source": [
    "X_resampled, y_resampled = sampler.fit_resample(X_transformed, y)\n",
    "\n",
    "X_train, X_test, y_train, y_test = train_test_split(X_resampled, y_resampled,\n",
    "                                                        test_size = 0.25,\n",
    "                                                        stratify = y_resampled)"
   ]
  },
  {
   "cell_type": "code",
   "execution_count": 107,
   "id": "2c322679",
   "metadata": {},
   "outputs": [
    {
     "data": {
      "image/png": "[encoded data removed]",
      "text/plain": [
       "<Figure size 432x288 with 2 Axes>"
      ]
     },
     "metadata": {
      "needs_background": "light"
     },
     "output_type": "display_data"
    },
    {
     "name": "stdout",
     "output_type": "stream",
     "text": [
      "Precision: 0.575\n",
      "Recall: 0.575\n",
      "F1: 0.575\n",
      "Accuracy: 0.578\n"
     ]
    }
   ],
   "source": [
    "clf = rf(max_depth=5, max_features=\"log2\")\n",
    "clf.fit(X_train, y_train)\n",
    "y_pred = clf.predict(X_test)\n",
    "model_metrics(clf, y_test, y_pred)"
   ]
  },
  {
   "cell_type": "markdown",
   "id": "741d0639",
   "metadata": {},
   "source": [
    "### The dimension of the projected subspace = 10"
   ]
  },
  {
   "cell_type": "code",
   "execution_count": 108,
   "id": "7b4d4ac9",
   "metadata": {},
   "outputs": [
    {
     "data": {
      "text/plain": [
       "(1000, 10)"
      ]
     },
     "execution_count": 108,
     "metadata": {},
     "output_type": "execute_result"
    }
   ],
   "source": [
    "embedding = SpectralEmbedding(n_components=10)\n",
    "X_transformed2 = embedding.fit_transform(X_adj)\n",
    "X_transformed2.shape"
   ]
  },
  {
   "cell_type": "code",
   "execution_count": 109,
   "id": "c0c643c0",
   "metadata": {},
   "outputs": [],
   "source": [
    "X_resampled, y_resampled = sampler.fit_resample(X_transformed2, y)\n",
    "\n",
    "X_train, X_test, y_train, y_test = train_test_split(X_resampled, y_resampled,\n",
    "                                                        test_size = 0.25,\n",
    "                                                        stratify = y_resampled)"
   ]
  },
  {
   "cell_type": "code",
   "execution_count": 110,
   "id": "9d450eec",
   "metadata": {},
   "outputs": [
    {
     "data": {
      "image/png": "[encoded data removed]",
      "text/plain": [
       "<Figure size 432x288 with 2 Axes>"
      ]
     },
     "metadata": {
      "needs_background": "light"
     },
     "output_type": "display_data"
    },
    {
     "name": "stdout",
     "output_type": "stream",
     "text": [
      "Precision: 0.551\n",
      "Recall: 0.537\n",
      "F1: 0.544\n",
      "Accuracy: 0.553\n"
     ]
    }
   ],
   "source": [
    "clf = rf(max_depth=5, max_features=\"log2\")\n",
    "clf.fit(X_train, y_train)\n",
    "y_pred = clf.predict(X_test)\n",
    "model_metrics(clf, y_test, y_pred)"
   ]
  },
  {
   "cell_type": "markdown",
   "id": "618fde55",
   "metadata": {},
   "source": [
    "### The dimension of the projected subspace = 100"
   ]
  },
  {
   "cell_type": "code",
   "execution_count": 111,
   "id": "597b1d44",
   "metadata": {},
   "outputs": [
    {
     "data": {
      "text/plain": [
       "(1000, 100)"
      ]
     },
     "execution_count": 111,
     "metadata": {},
     "output_type": "execute_result"
    }
   ],
   "source": [
    "embedding = SpectralEmbedding(n_components=100)\n",
    "X_transformed3 = embedding.fit_transform(X_adj)\n",
    "X_transformed3.shape"
   ]
  },
  {
   "cell_type": "code",
   "execution_count": 112,
   "id": "255a4128",
   "metadata": {},
   "outputs": [],
   "source": [
    "X_resampled, y_resampled = sampler.fit_resample(X_transformed3, y)\n",
    "    \n",
    "X_train, X_test, y_train, y_test = train_test_split(X_resampled, y_resampled,\n",
    "                                                        test_size = 0.25,\n",
    "                                                        stratify = y_resampled)"
   ]
  },
  {
   "cell_type": "code",
   "execution_count": 115,
   "id": "a6e18af1",
   "metadata": {},
   "outputs": [
    {
     "data": {
      "image/png": "[encoded data removed]",
      "text/plain": [
       "<Figure size 432x288 with 2 Axes>"
      ]
     },
     "metadata": {
      "needs_background": "light"
     },
     "output_type": "display_data"
    },
    {
     "name": "stdout",
     "output_type": "stream",
     "text": [
      "Precision: 0.548\n",
      "Recall: 0.630\n",
      "F1: 0.586\n",
      "Accuracy: 0.553\n"
     ]
    }
   ],
   "source": [
    "clf = rf(max_depth=5, max_features=\"log2\")\n",
    "clf.fit(X_train, y_train)\n",
    "y_pred = clf.predict(X_test)\n",
    "model_metrics(clf, y_test, y_pred)"
   ]
  },
  {
   "cell_type": "markdown",
   "id": "a8e6f802",
   "metadata": {},
   "source": []
  },
  {
   "cell_type": "code",
   "execution_count": 122,
   "id": "1c733bee",
   "metadata": {},
   "outputs": [],
   "source": [
    "graph_list = []\n",
    "for i in range(1000):\n",
    "    G=nx.from_pandas_adjacency(pd.DataFrame(X[:,i].reshape(20, -1)))\n",
    "    G=nx.Graph(G)\n",
    "    graph_list.append(G)"
   ]
  },
  {
   "cell_type": "code",
   "execution_count": 123,
   "id": "a9b474c8",
   "metadata": {},
   "outputs": [
    {
     "data": {
      "text/plain": [
       "1000"
      ]
     },
     "execution_count": 123,
     "metadata": {},
     "output_type": "execute_result"
    }
   ],
   "source": [
    "len(graph_list)"
   ]
  },
  {
   "cell_type": "markdown",
   "id": "268f1ad1",
   "metadata": {},
   "source": [
    "### node2vec"
   ]
  },
  {
   "cell_type": "code",
   "execution_count": 66,
   "id": "3ae2d9ac",
   "metadata": {},
   "outputs": [],
   "source": [
    "def n2v_embedding(graph_list):\n",
    "\n",
    "    df_n2v = pd.DataFrame()\n",
    "\n",
    "    for graph in graph_list:        \n",
    "        n2v = Node2Vec(dimensions = 1)\n",
    "        n2v.fit(graph)\n",
    "        embed = n2v.get_embedding()\n",
    "        df_embed = pd.DataFrame(embed.T)\n",
    "        df_n2v = pd.concat([df_n2v, df_embed], ignore_index=True, axis=0)\n",
    "        \n",
    "    return df_n2v\n"
   ]
  },
  {
   "cell_type": "code",
   "execution_count": 67,
   "id": "2339330b",
   "metadata": {},
   "outputs": [
    {
     "ename": "KeyboardInterrupt",
     "evalue": "",
     "output_type": "error",
     "traceback": [
      "\u001b[0;31m---------------------------------------------------------------------------\u001b[0m",
      "\u001b[0;31mKeyboardInterrupt\u001b[0m                         Traceback (most recent call last)",
      "\u001b[0;32m/var/folders/9r/2gx8_pxn3r90xfxb1d4km5fh0000gn/T/ipykernel_93444/2977420932.py\u001b[0m in \u001b[0;36m<module>\u001b[0;34m\u001b[0m\n\u001b[0;32m----> 1\u001b[0;31m \u001b[0mdf_n2v\u001b[0m \u001b[0;34m=\u001b[0m \u001b[0mn2v_embedding\u001b[0m\u001b[0;34m(\u001b[0m\u001b[0mgraph_list\u001b[0m\u001b[0;34m)\u001b[0m\u001b[0;34m\u001b[0m\u001b[0;34m\u001b[0m\u001b[0m\n\u001b[0m",
      "\u001b[0;32m/var/folders/9r/2gx8_pxn3r90xfxb1d4km5fh0000gn/T/ipykernel_93444/556904461.py\u001b[0m in \u001b[0;36mn2v_embedding\u001b[0;34m(graph_list)\u001b[0m\n\u001b[1;32m      5\u001b[0m     \u001b[0;32mfor\u001b[0m \u001b[0mgraph\u001b[0m \u001b[0;32min\u001b[0m \u001b[0mgraph_list\u001b[0m\u001b[0;34m:\u001b[0m\u001b[0;34m\u001b[0m\u001b[0;34m\u001b[0m\u001b[0m\n\u001b[1;32m      6\u001b[0m         \u001b[0mn2v\u001b[0m \u001b[0;34m=\u001b[0m \u001b[0mNode2Vec\u001b[0m\u001b[0;34m(\u001b[0m\u001b[0mdimensions\u001b[0m \u001b[0;34m=\u001b[0m \u001b[0;36m1\u001b[0m\u001b[0;34m)\u001b[0m\u001b[0;34m\u001b[0m\u001b[0;34m\u001b[0m\u001b[0m\n\u001b[0;32m----> 7\u001b[0;31m         \u001b[0mn2v\u001b[0m\u001b[0;34m.\u001b[0m\u001b[0mfit\u001b[0m\u001b[0;34m(\u001b[0m\u001b[0mgraph\u001b[0m\u001b[0;34m)\u001b[0m\u001b[0;34m\u001b[0m\u001b[0;34m\u001b[0m\u001b[0m\n\u001b[0m\u001b[1;32m      8\u001b[0m         \u001b[0membed\u001b[0m \u001b[0;34m=\u001b[0m \u001b[0mn2v\u001b[0m\u001b[0;34m.\u001b[0m\u001b[0mget_embedding\u001b[0m\u001b[0;34m(\u001b[0m\u001b[0;34m)\u001b[0m\u001b[0;34m\u001b[0m\u001b[0;34m\u001b[0m\u001b[0m\n\u001b[1;32m      9\u001b[0m         \u001b[0mdf_embed\u001b[0m \u001b[0;34m=\u001b[0m \u001b[0mpd\u001b[0m\u001b[0;34m.\u001b[0m\u001b[0mDataFrame\u001b[0m\u001b[0;34m(\u001b[0m\u001b[0membed\u001b[0m\u001b[0;34m.\u001b[0m\u001b[0mT\u001b[0m\u001b[0;34m)\u001b[0m\u001b[0;34m\u001b[0m\u001b[0;34m\u001b[0m\u001b[0m\n",
      "\u001b[0;32m~/opt/anaconda3/lib/python3.9/site-packages/karateclub/node_embedding/neighbourhood/node2vec.py\u001b[0m in \u001b[0;36mfit\u001b[0;34m(self, graph)\u001b[0m\n\u001b[1;32m     69\u001b[0m         \u001b[0mgraph\u001b[0m \u001b[0;34m=\u001b[0m \u001b[0mself\u001b[0m\u001b[0;34m.\u001b[0m\u001b[0m_check_graph\u001b[0m\u001b[0;34m(\u001b[0m\u001b[0mgraph\u001b[0m\u001b[0;34m)\u001b[0m\u001b[0;34m\u001b[0m\u001b[0;34m\u001b[0m\u001b[0m\n\u001b[1;32m     70\u001b[0m         \u001b[0mwalker\u001b[0m \u001b[0;34m=\u001b[0m \u001b[0mBiasedRandomWalker\u001b[0m\u001b[0;34m(\u001b[0m\u001b[0mself\u001b[0m\u001b[0;34m.\u001b[0m\u001b[0mwalk_length\u001b[0m\u001b[0;34m,\u001b[0m \u001b[0mself\u001b[0m\u001b[0;34m.\u001b[0m\u001b[0mwalk_number\u001b[0m\u001b[0;34m,\u001b[0m \u001b[0mself\u001b[0m\u001b[0;34m.\u001b[0m\u001b[0mp\u001b[0m\u001b[0;34m,\u001b[0m \u001b[0mself\u001b[0m\u001b[0;34m.\u001b[0m\u001b[0mq\u001b[0m\u001b[0;34m)\u001b[0m\u001b[0;34m\u001b[0m\u001b[0;34m\u001b[0m\u001b[0m\n\u001b[0;32m---> 71\u001b[0;31m         \u001b[0mwalker\u001b[0m\u001b[0;34m.\u001b[0m\u001b[0mdo_walks\u001b[0m\u001b[0;34m(\u001b[0m\u001b[0mgraph\u001b[0m\u001b[0;34m)\u001b[0m\u001b[0;34m\u001b[0m\u001b[0;34m\u001b[0m\u001b[0m\n\u001b[0m\u001b[1;32m     72\u001b[0m \u001b[0;34m\u001b[0m\u001b[0m\n\u001b[1;32m     73\u001b[0m         model = Word2Vec(\n",
      "\u001b[0;32m~/opt/anaconda3/lib/python3.9/site-packages/karateclub/utils/walker.py\u001b[0m in \u001b[0;36mdo_walks\u001b[0;34m(self, graph)\u001b[0m\n\u001b[1;32m    179\u001b[0m         \u001b[0;32mfor\u001b[0m \u001b[0mnode\u001b[0m \u001b[0;32min\u001b[0m \u001b[0mself\u001b[0m\u001b[0;34m.\u001b[0m\u001b[0mgraph\u001b[0m\u001b[0;34m.\u001b[0m\u001b[0mnodes\u001b[0m\u001b[0;34m(\u001b[0m\u001b[0;34m)\u001b[0m\u001b[0;34m:\u001b[0m\u001b[0;34m\u001b[0m\u001b[0;34m\u001b[0m\u001b[0m\n\u001b[1;32m    180\u001b[0m             \u001b[0;32mfor\u001b[0m \u001b[0m_\u001b[0m \u001b[0;32min\u001b[0m \u001b[0mrange\u001b[0m\u001b[0;34m(\u001b[0m\u001b[0mself\u001b[0m\u001b[0;34m.\u001b[0m\u001b[0mwalk_number\u001b[0m\u001b[0;34m)\u001b[0m\u001b[0;34m:\u001b[0m\u001b[0;34m\u001b[0m\u001b[0;34m\u001b[0m\u001b[0m\n\u001b[0;32m--> 181\u001b[0;31m                 \u001b[0mwalk_from_node\u001b[0m \u001b[0;34m=\u001b[0m \u001b[0mself\u001b[0m\u001b[0;34m.\u001b[0m\u001b[0mdo_walk\u001b[0m\u001b[0;34m(\u001b[0m\u001b[0mnode\u001b[0m\u001b[0;34m)\u001b[0m\u001b[0;34m\u001b[0m\u001b[0;34m\u001b[0m\u001b[0m\n\u001b[0m\u001b[1;32m    182\u001b[0m                 \u001b[0mself\u001b[0m\u001b[0;34m.\u001b[0m\u001b[0mwalks\u001b[0m\u001b[0;34m.\u001b[0m\u001b[0mappend\u001b[0m\u001b[0;34m(\u001b[0m\u001b[0mwalk_from_node\u001b[0m\u001b[0;34m)\u001b[0m\u001b[0;34m\u001b[0m\u001b[0;34m\u001b[0m\u001b[0m\n",
      "\u001b[0;32m~/opt/anaconda3/lib/python3.9/site-packages/karateclub/utils/walker.py\u001b[0m in \u001b[0;36mdo_walk\u001b[0;34m(self, node)\u001b[0m\n\u001b[1;32m    159\u001b[0m \u001b[0;34m\u001b[0m\u001b[0m\n\u001b[1;32m    160\u001b[0m             \u001b[0mprevious_node_neighbors\u001b[0m \u001b[0;34m=\u001b[0m \u001b[0mcurrent_node_neighbors\u001b[0m\u001b[0;34m\u001b[0m\u001b[0;34m\u001b[0m\u001b[0m\n\u001b[0;32m--> 161\u001b[0;31m             \u001b[0mprevious_node\u001b[0m \u001b[0;34m=\u001b[0m \u001b[0mcurrent_node\u001b[0m\u001b[0;34m\u001b[0m\u001b[0;34m\u001b[0m\u001b[0m\n\u001b[0m\u001b[1;32m    162\u001b[0m \u001b[0;34m\u001b[0m\u001b[0m\n\u001b[1;32m    163\u001b[0m         \u001b[0mwalk\u001b[0m \u001b[0;34m=\u001b[0m \u001b[0;34m[\u001b[0m\u001b[0mstr\u001b[0m\u001b[0;34m(\u001b[0m\u001b[0mw\u001b[0m\u001b[0;34m)\u001b[0m \u001b[0;32mfor\u001b[0m \u001b[0mw\u001b[0m \u001b[0;32min\u001b[0m \u001b[0mwalk\u001b[0m\u001b[0;34m]\u001b[0m\u001b[0;34m\u001b[0m\u001b[0;34m\u001b[0m\u001b[0m\n",
      "\u001b[0;31mKeyboardInterrupt\u001b[0m: "
     ]
    }
   ],
   "source": [
    "df_n2v = n2v_embedding(graph_list)"
   ]
  },
  {
   "cell_type": "code",
   "execution_count": null,
   "id": "e3d405d7",
   "metadata": {},
   "outputs": [],
   "source": [
    "df_n2v.shape"
   ]
  },
  {
   "cell_type": "code",
   "execution_count": null,
   "id": "3824ca2c",
   "metadata": {},
   "outputs": [],
   "source": [
    "X_resampled, y_resampled = sampler.fit_resample(df_n2v, y)\n",
    "\n",
    "X_train, X_test, y_train, y_test = train_test_split(X_resampled, y_resampled,\n",
    "                                                        test_size = 0.25,\n",
    "                                                        stratify = y_resampled)\n",
    "\n",
    "\n",
    "clf = rf(max_depth=5, max_features=\"log2\")\n",
    "clf.fit(X_train, y_train)\n",
    "y_pred = clf.predict(X_test)\n",
    "model_metrics(clf, y_test, y_pred)"
   ]
  },
  {
   "cell_type": "markdown",
   "id": "1fbf07fe",
   "metadata": {},
   "source": [
    "### graph2vec"
   ]
  },
  {
   "cell_type": "code",
   "execution_count": 124,
   "id": "c3a50750",
   "metadata": {},
   "outputs": [],
   "source": [
    "g2v = Graph2Vec(wl_iterations = 5, dimensions = 10)\n",
    "g2v.fit(graph_list)\n",
    "embed = g2v.get_embedding()\n",
    "df_g2v = pd.DataFrame(embed)"
   ]
  },
  {
   "cell_type": "code",
   "execution_count": 125,
   "id": "4ef5b0db",
   "metadata": {},
   "outputs": [
    {
     "data": {
      "image/png": "[encoded data removed]",
      "text/plain": [
       "<Figure size 432x288 with 2 Axes>"
      ]
     },
     "metadata": {
      "needs_background": "light"
     },
     "output_type": "display_data"
    },
    {
     "name": "stdout",
     "output_type": "stream",
     "text": [
      "Precision: 0.563\n",
      "Recall: 0.605\n",
      "F1: 0.583\n",
      "Accuracy: 0.565\n"
     ]
    }
   ],
   "source": [
    "X_resampled, y_resampled = sampler.fit_resample(df_g2v, y)\n",
    "\n",
    "X_train, X_test, y_train, y_test = train_test_split(X_resampled, y_resampled,\n",
    "                                                        test_size = 0.25,\n",
    "                                                        stratify = y_resampled)\n",
    "\n",
    "\n",
    "clf = rf(max_depth=5, max_features=\"log2\")\n",
    "clf.fit(X_train, y_train)\n",
    "y_pred = clf.predict(X_test)\n",
    "model_metrics(clf, y_test, y_pred)"
   ]
  },
  {
   "cell_type": "code",
   "execution_count": 126,
   "id": "c4a5c00d",
   "metadata": {},
   "outputs": [
    {
     "data": {
      "image/png": "[encoded data removed]",
      "text/plain": [
       "<Figure size 432x288 with 2 Axes>"
      ]
     },
     "metadata": {
      "needs_background": "light"
     },
     "output_type": "display_data"
    },
    {
     "name": "stdout",
     "output_type": "stream",
     "text": [
      "Precision: 0.582\n",
      "Recall: 0.662\n",
      "F1: 0.620\n",
      "Accuracy: 0.596\n"
     ]
    }
   ],
   "source": [
    "X_resampled, y_resampled = sampler.fit_resample(X_adj, y)\n",
    "\n",
    "X_train, X_test, y_train, y_test = train_test_split(X_resampled, y_resampled,\n",
    "                                                        test_size = 0.25,\n",
    "                                                        stratify = y_resampled)\n",
    "\n",
    "\n",
    "clf = rf(max_depth=5, max_features=\"log2\")\n",
    "clf.fit(X_train, y_train)\n",
    "y_pred = clf.predict(X_test)\n",
    "model_metrics(clf, y_test, y_pred)"
   ]
  },
  {
   "cell_type": "code",
   "execution_count": null,
   "id": "63172437",
   "metadata": {},
   "outputs": [],
   "source": []
  },
  {
   "cell_type": "code",
   "execution_count": null,
   "id": "97462d0d",
   "metadata": {},
   "outputs": [],
   "source": []
  },
  {
   "cell_type": "code",
   "execution_count": null,
   "id": "bb0e13b6",
   "metadata": {},
   "outputs": [],
   "source": []
  },
  {
   "cell_type": "code",
   "execution_count": null,
   "id": "208b476b",
   "metadata": {},
   "outputs": [],
   "source": []
  },
  {
   "cell_type": "markdown",
   "id": "2ddcd836",
   "metadata": {},
   "source": [
    "### Graph Generation by using newman_watts_strogatz_graph"
   ]
  },
  {
   "cell_type": "code",
   "execution_count": 34,
   "id": "0e5d2398",
   "metadata": {},
   "outputs": [],
   "source": [
    "# FCA_iter: total iteration for the FCA model, used for label\n",
    "# baseline_iter: the iteration for baseline model, usually less than FCA_iter\n",
    "# iter_include: number of iteration to include in the dataframe\n",
    "# X: a list of graph structure (for each graph, length = k^2 if num_nodes=k)\n",
    "# num_edges, num_nodes, min_degree, max_degree, diameter, quartile_1, quartile_2, quartile_3, states, y, baseline_width\n",
    "def FCA_NWS(num_nodes, num_samples, kappa, FCA_iter, baseline_iter, iter_include, file_name):\n",
    "    # generate the toy dataset\n",
    "    file = open(file_name, 'w+', newline='')\n",
    "\n",
    "    probability = random.uniform(0, 1)\n",
    "    graph_list = []\n",
    "    \n",
    "    header = [\"num_edges\", \"num_nodes\", \"min_degree\", \"max_degree\", \"diameter\", \"quartile_1\",\n",
    "              \"quartile_2\", \"quartile_3\", \"y\", \"baseline_width\"]\n",
    "    for i in range(baseline_iter):\n",
    "        for j in range(num_nodes):\n",
    "            header.append(\"s\" + str(i + 1) + \"_\" + str(j + 1))\n",
    "\n",
    "    with file:\n",
    "        write = csv.writer(file)\n",
    "\n",
    "        write.writerow(header)\n",
    "        for i in range(num_samples): \n",
    "            neighbors = int(random.uniform(1, 20))\n",
    "            G = nx.newman_watts_strogatz_graph(num_nodes, neighbors, probability)\n",
    "            G=nx.Graph(G)\n",
    "            \n",
    "            if nx.is_connected(G):\n",
    "                \n",
    "                graph_list.append(G)\n",
    "            \n",
    "                col = np.random.randint(0,kappa,size=num_nodes)\n",
    "\n",
    "                num_edges = G.number_of_edges()\n",
    "                min_degree = min(list(G.degree), key=lambda x: x[1])[1]\n",
    "                max_degree = max(list(G.degree), key=lambda x: x[1])[1]\n",
    "                diameter = nx.diameter(G)\n",
    "                quartile_1 = s.quantiles(col, n=4)[0]\n",
    "                quartile_2 = s.quantiles(col, n=4)[1]\n",
    "                quartile_3 = s.quantiles(col, n=4)[2]\n",
    "\n",
    "                sample = [num_edges, num_nodes, min_degree, max_degree, diameter,\n",
    "                          quartile_1, quartile_2, quartile_3]\n",
    "                states, label = FCA.FCA(G, col, kappa, FCA_iter)\n",
    "\n",
    "                width = FCA.width_compute(states[FCA_iter - 1], kappa)\n",
    "                y = False\n",
    "                if (width < floor(kappa / 2)):  # half circle concentration\n",
    "                    y = True\n",
    "                sample.append(y)\n",
    "\n",
    "                baseline_width = FCA.width_compute(states[baseline_iter - 1], kappa)\n",
    "                baseline = False\n",
    "                if (baseline_width < floor(kappa / 2)):  # half circle concentration\n",
    "                    baseline = True\n",
    "                sample.append(baseline)\n",
    "\n",
    "                for j in range(iter_include):\n",
    "                    sample = sample + list(states[j])\n",
    "\n",
    "                write.writerow(sample)\n",
    "    return graph_list"
   ]
  },
  {
   "cell_type": "code",
   "execution_count": 35,
   "id": "97f33f41",
   "metadata": {},
   "outputs": [],
   "source": [
    "num_nodes = 20\n",
    "num_samples = 1000\n",
    "kappa = 10\n",
    "FCA_iter = 200\n",
    "baseline_iter = 50\n",
    "iter_include = 5\n",
    "file_name = \"test.csv\"\n",
    "new_graph_list = FCA_NWS(num_nodes, num_samples, kappa, FCA_iter, baseline_iter, iter_include, file_name)"
   ]
  },
  {
   "cell_type": "code",
   "execution_count": 36,
   "id": "e3e878ea",
   "metadata": {},
   "outputs": [
    {
     "data": {
      "text/html": [
       "<div>\n",
       "<style scoped>\n",
       "    .dataframe tbody tr th:only-of-type {\n",
       "        vertical-align: middle;\n",
       "    }\n",
       "\n",
       "    .dataframe tbody tr th {\n",
       "        vertical-align: top;\n",
       "    }\n",
       "\n",
       "    .dataframe thead th {\n",
       "        text-align: right;\n",
       "    }\n",
       "</style>\n",
       "<table border=\"1\" class=\"dataframe\">\n",
       "  <thead>\n",
       "    <tr style=\"text-align: right;\">\n",
       "      <th></th>\n",
       "      <th>num_edges</th>\n",
       "      <th>num_nodes</th>\n",
       "      <th>min_degree</th>\n",
       "      <th>max_degree</th>\n",
       "      <th>diameter</th>\n",
       "      <th>quartile_1</th>\n",
       "      <th>quartile_2</th>\n",
       "      <th>quartile_3</th>\n",
       "      <th>y</th>\n",
       "      <th>baseline_width</th>\n",
       "      <th>...</th>\n",
       "      <th>s50_11</th>\n",
       "      <th>s50_12</th>\n",
       "      <th>s50_13</th>\n",
       "      <th>s50_14</th>\n",
       "      <th>s50_15</th>\n",
       "      <th>s50_16</th>\n",
       "      <th>s50_17</th>\n",
       "      <th>s50_18</th>\n",
       "      <th>s50_19</th>\n",
       "      <th>s50_20</th>\n",
       "    </tr>\n",
       "  </thead>\n",
       "  <tbody>\n",
       "    <tr>\n",
       "      <th>0</th>\n",
       "      <td>101</td>\n",
       "      <td>20</td>\n",
       "      <td>8</td>\n",
       "      <td>12</td>\n",
       "      <td>2</td>\n",
       "      <td>3.00</td>\n",
       "      <td>5.0</td>\n",
       "      <td>7.00</td>\n",
       "      <td>True</td>\n",
       "      <td>True</td>\n",
       "      <td>...</td>\n",
       "      <td>NaN</td>\n",
       "      <td>NaN</td>\n",
       "      <td>NaN</td>\n",
       "      <td>NaN</td>\n",
       "      <td>NaN</td>\n",
       "      <td>NaN</td>\n",
       "      <td>NaN</td>\n",
       "      <td>NaN</td>\n",
       "      <td>NaN</td>\n",
       "      <td>NaN</td>\n",
       "    </tr>\n",
       "    <tr>\n",
       "      <th>1</th>\n",
       "      <td>190</td>\n",
       "      <td>20</td>\n",
       "      <td>19</td>\n",
       "      <td>19</td>\n",
       "      <td>1</td>\n",
       "      <td>2.00</td>\n",
       "      <td>4.0</td>\n",
       "      <td>7.50</td>\n",
       "      <td>True</td>\n",
       "      <td>True</td>\n",
       "      <td>...</td>\n",
       "      <td>NaN</td>\n",
       "      <td>NaN</td>\n",
       "      <td>NaN</td>\n",
       "      <td>NaN</td>\n",
       "      <td>NaN</td>\n",
       "      <td>NaN</td>\n",
       "      <td>NaN</td>\n",
       "      <td>NaN</td>\n",
       "      <td>NaN</td>\n",
       "      <td>NaN</td>\n",
       "    </tr>\n",
       "    <tr>\n",
       "      <th>2</th>\n",
       "      <td>189</td>\n",
       "      <td>20</td>\n",
       "      <td>18</td>\n",
       "      <td>19</td>\n",
       "      <td>2</td>\n",
       "      <td>1.25</td>\n",
       "      <td>4.5</td>\n",
       "      <td>7.75</td>\n",
       "      <td>True</td>\n",
       "      <td>True</td>\n",
       "      <td>...</td>\n",
       "      <td>NaN</td>\n",
       "      <td>NaN</td>\n",
       "      <td>NaN</td>\n",
       "      <td>NaN</td>\n",
       "      <td>NaN</td>\n",
       "      <td>NaN</td>\n",
       "      <td>NaN</td>\n",
       "      <td>NaN</td>\n",
       "      <td>NaN</td>\n",
       "      <td>NaN</td>\n",
       "    </tr>\n",
       "    <tr>\n",
       "      <th>3</th>\n",
       "      <td>189</td>\n",
       "      <td>20</td>\n",
       "      <td>18</td>\n",
       "      <td>19</td>\n",
       "      <td>2</td>\n",
       "      <td>3.00</td>\n",
       "      <td>6.5</td>\n",
       "      <td>8.00</td>\n",
       "      <td>True</td>\n",
       "      <td>True</td>\n",
       "      <td>...</td>\n",
       "      <td>NaN</td>\n",
       "      <td>NaN</td>\n",
       "      <td>NaN</td>\n",
       "      <td>NaN</td>\n",
       "      <td>NaN</td>\n",
       "      <td>NaN</td>\n",
       "      <td>NaN</td>\n",
       "      <td>NaN</td>\n",
       "      <td>NaN</td>\n",
       "      <td>NaN</td>\n",
       "    </tr>\n",
       "    <tr>\n",
       "      <th>4</th>\n",
       "      <td>190</td>\n",
       "      <td>20</td>\n",
       "      <td>19</td>\n",
       "      <td>19</td>\n",
       "      <td>1</td>\n",
       "      <td>2.00</td>\n",
       "      <td>6.5</td>\n",
       "      <td>7.75</td>\n",
       "      <td>False</td>\n",
       "      <td>False</td>\n",
       "      <td>...</td>\n",
       "      <td>NaN</td>\n",
       "      <td>NaN</td>\n",
       "      <td>NaN</td>\n",
       "      <td>NaN</td>\n",
       "      <td>NaN</td>\n",
       "      <td>NaN</td>\n",
       "      <td>NaN</td>\n",
       "      <td>NaN</td>\n",
       "      <td>NaN</td>\n",
       "      <td>NaN</td>\n",
       "    </tr>\n",
       "    <tr>\n",
       "      <th>...</th>\n",
       "      <td>...</td>\n",
       "      <td>...</td>\n",
       "      <td>...</td>\n",
       "      <td>...</td>\n",
       "      <td>...</td>\n",
       "      <td>...</td>\n",
       "      <td>...</td>\n",
       "      <td>...</td>\n",
       "      <td>...</td>\n",
       "      <td>...</td>\n",
       "      <td>...</td>\n",
       "      <td>...</td>\n",
       "      <td>...</td>\n",
       "      <td>...</td>\n",
       "      <td>...</td>\n",
       "      <td>...</td>\n",
       "      <td>...</td>\n",
       "      <td>...</td>\n",
       "      <td>...</td>\n",
       "      <td>...</td>\n",
       "      <td>...</td>\n",
       "    </tr>\n",
       "    <tr>\n",
       "      <th>933</th>\n",
       "      <td>157</td>\n",
       "      <td>20</td>\n",
       "      <td>13</td>\n",
       "      <td>17</td>\n",
       "      <td>2</td>\n",
       "      <td>1.00</td>\n",
       "      <td>3.0</td>\n",
       "      <td>5.75</td>\n",
       "      <td>True</td>\n",
       "      <td>True</td>\n",
       "      <td>...</td>\n",
       "      <td>NaN</td>\n",
       "      <td>NaN</td>\n",
       "      <td>NaN</td>\n",
       "      <td>NaN</td>\n",
       "      <td>NaN</td>\n",
       "      <td>NaN</td>\n",
       "      <td>NaN</td>\n",
       "      <td>NaN</td>\n",
       "      <td>NaN</td>\n",
       "      <td>NaN</td>\n",
       "    </tr>\n",
       "    <tr>\n",
       "      <th>934</th>\n",
       "      <td>65</td>\n",
       "      <td>20</td>\n",
       "      <td>4</td>\n",
       "      <td>8</td>\n",
       "      <td>3</td>\n",
       "      <td>4.00</td>\n",
       "      <td>5.0</td>\n",
       "      <td>7.00</td>\n",
       "      <td>True</td>\n",
       "      <td>True</td>\n",
       "      <td>...</td>\n",
       "      <td>NaN</td>\n",
       "      <td>NaN</td>\n",
       "      <td>NaN</td>\n",
       "      <td>NaN</td>\n",
       "      <td>NaN</td>\n",
       "      <td>NaN</td>\n",
       "      <td>NaN</td>\n",
       "      <td>NaN</td>\n",
       "      <td>NaN</td>\n",
       "      <td>NaN</td>\n",
       "    </tr>\n",
       "    <tr>\n",
       "      <th>935</th>\n",
       "      <td>34</td>\n",
       "      <td>20</td>\n",
       "      <td>2</td>\n",
       "      <td>5</td>\n",
       "      <td>5</td>\n",
       "      <td>2.25</td>\n",
       "      <td>3.5</td>\n",
       "      <td>5.75</td>\n",
       "      <td>True</td>\n",
       "      <td>True</td>\n",
       "      <td>...</td>\n",
       "      <td>NaN</td>\n",
       "      <td>NaN</td>\n",
       "      <td>NaN</td>\n",
       "      <td>NaN</td>\n",
       "      <td>NaN</td>\n",
       "      <td>NaN</td>\n",
       "      <td>NaN</td>\n",
       "      <td>NaN</td>\n",
       "      <td>NaN</td>\n",
       "      <td>NaN</td>\n",
       "    </tr>\n",
       "    <tr>\n",
       "      <th>936</th>\n",
       "      <td>128</td>\n",
       "      <td>20</td>\n",
       "      <td>9</td>\n",
       "      <td>15</td>\n",
       "      <td>2</td>\n",
       "      <td>2.50</td>\n",
       "      <td>4.0</td>\n",
       "      <td>6.75</td>\n",
       "      <td>True</td>\n",
       "      <td>True</td>\n",
       "      <td>...</td>\n",
       "      <td>NaN</td>\n",
       "      <td>NaN</td>\n",
       "      <td>NaN</td>\n",
       "      <td>NaN</td>\n",
       "      <td>NaN</td>\n",
       "      <td>NaN</td>\n",
       "      <td>NaN</td>\n",
       "      <td>NaN</td>\n",
       "      <td>NaN</td>\n",
       "      <td>NaN</td>\n",
       "    </tr>\n",
       "    <tr>\n",
       "      <th>937</th>\n",
       "      <td>67</td>\n",
       "      <td>20</td>\n",
       "      <td>5</td>\n",
       "      <td>9</td>\n",
       "      <td>3</td>\n",
       "      <td>3.00</td>\n",
       "      <td>5.0</td>\n",
       "      <td>7.75</td>\n",
       "      <td>True</td>\n",
       "      <td>True</td>\n",
       "      <td>...</td>\n",
       "      <td>NaN</td>\n",
       "      <td>NaN</td>\n",
       "      <td>NaN</td>\n",
       "      <td>NaN</td>\n",
       "      <td>NaN</td>\n",
       "      <td>NaN</td>\n",
       "      <td>NaN</td>\n",
       "      <td>NaN</td>\n",
       "      <td>NaN</td>\n",
       "      <td>NaN</td>\n",
       "    </tr>\n",
       "  </tbody>\n",
       "</table>\n",
       "<p>938 rows × 1010 columns</p>\n",
       "</div>"
      ],
      "text/plain": [
       "     num_edges  num_nodes  min_degree  max_degree  diameter  quartile_1  \\\n",
       "0          101         20           8          12         2        3.00   \n",
       "1          190         20          19          19         1        2.00   \n",
       "2          189         20          18          19         2        1.25   \n",
       "3          189         20          18          19         2        3.00   \n",
       "4          190         20          19          19         1        2.00   \n",
       "..         ...        ...         ...         ...       ...         ...   \n",
       "933        157         20          13          17         2        1.00   \n",
       "934         65         20           4           8         3        4.00   \n",
       "935         34         20           2           5         5        2.25   \n",
       "936        128         20           9          15         2        2.50   \n",
       "937         67         20           5           9         3        3.00   \n",
       "\n",
       "     quartile_2  quartile_3      y  baseline_width  ...  s50_11  s50_12  \\\n",
       "0           5.0        7.00   True            True  ...     NaN     NaN   \n",
       "1           4.0        7.50   True            True  ...     NaN     NaN   \n",
       "2           4.5        7.75   True            True  ...     NaN     NaN   \n",
       "3           6.5        8.00   True            True  ...     NaN     NaN   \n",
       "4           6.5        7.75  False           False  ...     NaN     NaN   \n",
       "..          ...         ...    ...             ...  ...     ...     ...   \n",
       "933         3.0        5.75   True            True  ...     NaN     NaN   \n",
       "934         5.0        7.00   True            True  ...     NaN     NaN   \n",
       "935         3.5        5.75   True            True  ...     NaN     NaN   \n",
       "936         4.0        6.75   True            True  ...     NaN     NaN   \n",
       "937         5.0        7.75   True            True  ...     NaN     NaN   \n",
       "\n",
       "     s50_13  s50_14  s50_15  s50_16  s50_17  s50_18  s50_19  s50_20  \n",
       "0       NaN     NaN     NaN     NaN     NaN     NaN     NaN     NaN  \n",
       "1       NaN     NaN     NaN     NaN     NaN     NaN     NaN     NaN  \n",
       "2       NaN     NaN     NaN     NaN     NaN     NaN     NaN     NaN  \n",
       "3       NaN     NaN     NaN     NaN     NaN     NaN     NaN     NaN  \n",
       "4       NaN     NaN     NaN     NaN     NaN     NaN     NaN     NaN  \n",
       "..      ...     ...     ...     ...     ...     ...     ...     ...  \n",
       "933     NaN     NaN     NaN     NaN     NaN     NaN     NaN     NaN  \n",
       "934     NaN     NaN     NaN     NaN     NaN     NaN     NaN     NaN  \n",
       "935     NaN     NaN     NaN     NaN     NaN     NaN     NaN     NaN  \n",
       "936     NaN     NaN     NaN     NaN     NaN     NaN     NaN     NaN  \n",
       "937     NaN     NaN     NaN     NaN     NaN     NaN     NaN     NaN  \n",
       "\n",
       "[938 rows x 1010 columns]"
      ]
     },
     "execution_count": 36,
     "metadata": {},
     "output_type": "execute_result"
    }
   ],
   "source": [
    "df = pd.read_csv(\"test.csv\")\n",
    "df"
   ]
  },
  {
   "cell_type": "code",
   "execution_count": 37,
   "id": "740b19f3",
   "metadata": {},
   "outputs": [
    {
     "data": {
      "text/plain": [
       "True     872\n",
       "False     66\n",
       "Name: y, dtype: int64"
      ]
     },
     "execution_count": 37,
     "metadata": {},
     "output_type": "execute_result"
    }
   ],
   "source": [
    "df.y.value_counts()"
   ]
  },
  {
   "cell_type": "code",
   "execution_count": 38,
   "id": "9b9d1a95",
   "metadata": {},
   "outputs": [
    {
     "data": {
      "text/plain": [
       "True     770\n",
       "False    168\n",
       "Name: baseline_width, dtype: int64"
      ]
     },
     "execution_count": 38,
     "metadata": {},
     "output_type": "execute_result"
    }
   ],
   "source": [
    "df.baseline_width.value_counts()"
   ]
  },
  {
   "cell_type": "code",
   "execution_count": 39,
   "id": "651525c9",
   "metadata": {},
   "outputs": [
    {
     "data": {
      "text/plain": [
       "(938, 1010)"
      ]
     },
     "execution_count": 39,
     "metadata": {},
     "output_type": "execute_result"
    }
   ],
   "source": [
    "df.shape"
   ]
  },
  {
   "cell_type": "code",
   "execution_count": 43,
   "id": "efe88ac5",
   "metadata": {},
   "outputs": [
    {
     "data": {
      "text/plain": [
       "(938,)"
      ]
     },
     "execution_count": 43,
     "metadata": {},
     "output_type": "execute_result"
    }
   ],
   "source": [
    "y = df.y.astype('int')\n",
    "y.shape"
   ]
  },
  {
   "cell_type": "markdown",
   "id": "89dfe81b",
   "metadata": {},
   "source": [
    "### graph2vec on the NWS graph (FCA)"
   ]
  },
  {
   "cell_type": "code",
   "execution_count": 40,
   "id": "17023839",
   "metadata": {},
   "outputs": [
    {
     "data": {
      "text/plain": [
       "938"
      ]
     },
     "execution_count": 40,
     "metadata": {},
     "output_type": "execute_result"
    }
   ],
   "source": [
    "len(new_graph_list)"
   ]
  },
  {
   "cell_type": "code",
   "execution_count": 41,
   "id": "1edba868",
   "metadata": {},
   "outputs": [],
   "source": [
    "g2v = Graph2Vec(wl_iterations = 5, dimensions = 10)\n",
    "g2v.fit(new_graph_list)\n",
    "embed = g2v.get_embedding()\n",
    "df_g2v = pd.DataFrame(embed)"
   ]
  },
  {
   "cell_type": "code",
   "execution_count": 44,
   "id": "9941b497",
   "metadata": {},
   "outputs": [
    {
     "data": {
      "image/png": "[encoded data removed]",
      "text/plain": [
       "<Figure size 432x288 with 2 Axes>"
      ]
     },
     "metadata": {
      "needs_background": "light"
     },
     "output_type": "display_data"
    },
    {
     "name": "stdout",
     "output_type": "stream",
     "text": [
      "Precision: 0.812\n",
      "Recall: 0.812\n",
      "F1: 0.812\n",
      "Accuracy: 0.818\n"
     ]
    }
   ],
   "source": [
    "X_resampled, y_resampled = sampler.fit_resample(df_g2v, y)\n",
    "\n",
    "X_train, X_test, y_train, y_test = train_test_split(X_resampled, y_resampled,\n",
    "                                                        test_size = 0.25,\n",
    "                                                        stratify = y_resampled)\n",
    "\n",
    "\n",
    "clf = rf(max_depth=5, max_features=\"log2\")\n",
    "clf.fit(X_train, y_train)\n",
    "y_pred = clf.predict(X_test)\n",
    "model_metrics(clf, y_test, y_pred)"
   ]
  },
  {
   "cell_type": "code",
   "execution_count": null,
   "id": "95b0fc5f",
   "metadata": {},
   "outputs": [],
   "source": []
  }
 ],
 "metadata": {
  "kernelspec": {
   "display_name": "Python 3 (ipykernel)",
   "language": "python",
   "name": "python3"
  },
  "language_info": {
   "codemirror_mode": {
    "name": "ipython",
    "version": 3
   },
   "file_extension": ".py",
   "mimetype": "text/x-python",
   "name": "python",
   "nbconvert_exporter": "python",
   "pygments_lexer": "ipython3",
   "version": "3.9.7"
  }
 },
 "nbformat": 4,
 "nbformat_minor": 5
}
