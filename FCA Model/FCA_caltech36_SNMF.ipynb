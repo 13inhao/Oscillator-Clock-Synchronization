{
 "cells": [
  {
   "cell_type": "code",
   "execution_count": 1,
   "id": "4a60dab5",
   "metadata": {},
   "outputs": [],
   "source": [
    "import FCA, pickle, csv\n",
    "import numpy as np\n",
    "import pandas as pd\n",
    "import networkx as nx\n",
    "import statistics as s\n",
    "from math import floor\n",
    "from NNetwork import NNetwork as nn\n",
    "import matplotlib.pyplot as plt\n",
    "import matplotlib.gridspec as gridspec\n",
    "import warnings\n",
    "warnings.filterwarnings(\"ignore\")"
   ]
  },
  {
   "cell_type": "code",
   "execution_count": 2,
   "id": "13252020",
   "metadata": {},
   "outputs": [],
   "source": [
    "### from network_sampling_ex\n",
    "def coding(X, W, H0, \n",
    "          r=None, \n",
    "          a1=0, #L1 regularizer\n",
    "          a2=0, #L2 regularizer\n",
    "          sub_iter=[5], \n",
    "          stopping_grad_ratio=0.0001, \n",
    "          nonnegativity=True,\n",
    "          subsample_ratio=1):\n",
    "    \"\"\"\n",
    "    Find \\hat{H} = argmin_H ( || X - WH||_{F}^2 + a1*|H| + a2*|H|_{F}^{2} ) within radius r from H0\n",
    "    Use row-wise projected gradient descent\n",
    "    \"\"\"\n",
    "    H1 = H0.copy()\n",
    "    i = 0\n",
    "    dist = 1\n",
    "    idx = np.arange(X.shape[1])\n",
    "    if subsample_ratio>1:  # subsample columns of X and solve reduced problem (like in SGD)\n",
    "        idx = np.random.randint(X.shape[1], size=X.shape[1]//subsample_ratio)\n",
    "    A = W.T @ W ## Needed for gradient computation\n",
    "    grad = W.T @ (W @ H0 - X)\n",
    "    while (i < np.random.choice(sub_iter)):\n",
    "        step_size = (1 / (((i + 1) ** (1)) * (np.trace(A) + 1)))\n",
    "        H1 -= step_size * grad \n",
    "        if nonnegativity:\n",
    "            H1 = np.maximum(H1, 0)  # nonnegativity constraint\n",
    "        i = i + 1\n",
    "    return H1\n",
    "\n",
    "\n",
    "def ALS(X,\n",
    "        n_components = 10, # number of columns in the dictionary matrix W\n",
    "        n_iter=100,\n",
    "        a0 = 0, # L1 regularizer for H\n",
    "        a1 = 0, # L1 regularizer for W\n",
    "        a12 = 0, # L2 regularizer for W\n",
    "        H_nonnegativity=True,\n",
    "        W_nonnegativity=True,\n",
    "        compute_recons_error=False,\n",
    "        subsample_ratio = 10):\n",
    "    \n",
    "        '''\n",
    "        Given data matrix X, use alternating least squares to find factors W,H so that \n",
    "                                || X - WH ||_{F}^2 + a0*|H|_{1} + a1*|W|_{1} + a12 * |W|_{F}^{2}\n",
    "        is minimized (at least locally)\n",
    "        '''\n",
    "        \n",
    "        d, n = X.shape\n",
    "        r = n_components\n",
    "        \n",
    "        #normalization = np.linalg.norm(X.reshape(-1,1),1)/np.product(X.shape) # avg entry of X\n",
    "        #print('!!! avg entry of X', normalization)\n",
    "        #X = X/normalization\n",
    "\n",
    "        # Initialize factors \n",
    "        W = np.random.rand(d,r)\n",
    "        H = np.random.rand(r,n) \n",
    "        # H = H * np.linalg.norm(X) / np.linalg.norm(H)\n",
    "        for i in trange(n_iter):\n",
    "            #H = coding_within_radius(X, W.copy(), H.copy(), a1=a0, nonnegativity=H_nonnegativity, subsample_ratio=subsample_ratio)\n",
    "            #W = coding_within_radius(X.T, H.copy().T, W.copy().T, a1=a1, a2=a12, nonnegativity=W_nonnegativity, subsample_ratio=subsample_ratio).T\n",
    "            H = coding(X, W.copy(), H.copy(), a1=a0, nonnegativity=H_nonnegativity, subsample_ratio=subsample_ratio)\n",
    "            W = coding(X.T, H.copy().T, W.copy().T, a1=a1, a2=a12, nonnegativity=W_nonnegativity, subsample_ratio=subsample_ratio).T\n",
    "            W /= np.linalg.norm(W)\n",
    "            if compute_recons_error and (i % 10 == 0) :\n",
    "                print('iteration %i, reconstruction error %f' % (i, np.linalg.norm(X-W@H)**2))\n",
    "        return W, H\n",
    "    \n",
    "def display_dictionary(W, save_name=None, score=None, grid_shape=None, figsize=[10,10]):\n",
    "    k = int(np.sqrt(W.shape[0]))\n",
    "    rows = int(np.sqrt(W.shape[1]))\n",
    "    cols = int(np.sqrt(W.shape[1]))\n",
    "    if grid_shape is not None:\n",
    "        rows = grid_shape[0]\n",
    "        cols = grid_shape[1]\n",
    "    \n",
    "    figsize0=figsize\n",
    "    if (score is None) and (grid_shape is not None):\n",
    "        figsize0=(cols, rows)\n",
    "    if (score is not None) and (grid_shape is not None):\n",
    "        figsize0=(cols, rows+0.2)\n",
    "    \n",
    "    fig, axs = plt.subplots(nrows=rows, ncols=cols, figsize=figsize0,\n",
    "                            subplot_kw={'xticks': [], 'yticks': []})\n",
    "        \n",
    "        \n",
    "    for ax, i in zip(axs.flat, range(100)):\n",
    "        if score is not None:\n",
    "            idx = np.argsort(score)\n",
    "            idx = np.flip(idx)    \n",
    "            \n",
    "            ax.imshow(W.T[idx[i]].reshape(k, k), cmap=\"viridis\", interpolation='nearest')\n",
    "            ax.set_xlabel('%1.2f' % score[i], fontsize=13)  # get the largest first\n",
    "            ax.xaxis.set_label_coords(0.5, -0.05)\n",
    "        else: \n",
    "            ax.imshow(W.T[i].reshape(k, k), cmap=\"viridis\", interpolation='nearest')\n",
    "            if score is not None:\n",
    "                ax.set_xlabel('%1.2f' % score[i], fontsize=13)  # get the largest first\n",
    "                ax.xaxis.set_label_coords(0.5, -0.05)\n",
    "       \n",
    "    plt.tight_layout()\n",
    "    # plt.suptitle('Dictionary learned from patches of size %d' % k, fontsize=16)\n",
    "    plt.subplots_adjust(0.08, 0.02, 0.92, 0.85, 0.08, 0.23)\n",
    "    \n",
    "    if save_name is not None:\n",
    "        plt.savefig( save_name, bbox_inches='tight')\n",
    "    plt.show()"
   ]
  },
  {
   "cell_type": "code",
   "execution_count": 3,
   "id": "2773ce7b",
   "metadata": {},
   "outputs": [],
   "source": [
    "# FCA_iter: total iteration for the FCA model, used for label\n",
    "# baseline_iter: the iteration for baseline model, usually less than FCA_iter\n",
    "# iter_include: number of iteration to include in the dataframe\n",
    "# X: a list of graph structure (for each graph, length = k^2 if num_nodes=k)\n",
    "# num_edges, num_nodes, min_degree, max_degree, diameter, quartile_1, quartile_2, quartile_3, states, y, baseline_width\n",
    "def FCA_datagen(num_nodes, kappa, FCA_iter, baseline_iter, iter_include, file_name, X):\n",
    "    # generate the toy dataset\n",
    "    file = open(file_name, 'w+', newline='')\n",
    "\n",
    "    header = [\"num_edges\", \"num_nodes\", \"min_degree\", \"max_degree\", \"diameter\", \"quartile_1\",\n",
    "              \"quartile_2\", \"quartile_3\", \"y\", \"baseline_width\"]\n",
    "    for i in range(baseline_iter):\n",
    "        for j in range(num_nodes):\n",
    "            header.append(\"s\" + str(i + 1) + \"_\" + str(j + 1))\n",
    "\n",
    "    with file:\n",
    "        write = csv.writer(file)\n",
    "\n",
    "        write.writerow(header)\n",
    "        for i in range(X.shape[1]): #X.shape = (400, 3000)\n",
    "            G=nx.from_pandas_adjacency(pd.DataFrame(X[:,i].reshape(20, -1)))\n",
    "            G=nx.Graph(G)\n",
    "            \n",
    "            \n",
    "            col = np.random.randint(0,kappa,size=num_nodes)\n",
    "\n",
    "            num_edges = G.number_of_edges()\n",
    "            min_degree = min(list(G.degree), key=lambda x: x[1])[1]\n",
    "            max_degree = max(list(G.degree), key=lambda x: x[1])[1]\n",
    "            diameter = nx.diameter(G)\n",
    "            quartile_1 = s.quantiles(col, n=4)[0]\n",
    "            quartile_2 = s.quantiles(col, n=4)[1]\n",
    "            quartile_3 = s.quantiles(col, n=4)[2]\n",
    "\n",
    "            sample = [num_edges, num_nodes, min_degree, max_degree, diameter,\n",
    "                      quartile_1, quartile_2, quartile_3]\n",
    "            states, label = FCA.FCA(G, col, kappa, FCA_iter)\n",
    "\n",
    "            width = FCA.width_compute(states[FCA_iter - 1], kappa)\n",
    "            y = False\n",
    "            if (width < floor(kappa / 2)):  # half circle concentration\n",
    "                y = True\n",
    "            sample.append(y)\n",
    "\n",
    "            baseline_width = FCA.width_compute(states[baseline_iter - 1], kappa)\n",
    "            baseline = False\n",
    "            if (baseline_width < floor(kappa / 2)):  # half circle concentration\n",
    "                baseline = True\n",
    "            sample.append(baseline)\n",
    "\n",
    "            for j in range(iter_include):\n",
    "                sample = sample + list(states[j])\n",
    "\n",
    "            write.writerow(sample)\n",
    "    #return graph_list"
   ]
  },
  {
   "cell_type": "markdown",
   "id": "0fe91569",
   "metadata": {},
   "source": [
    "## Data Generation"
   ]
  },
  {
   "cell_type": "code",
   "execution_count": 4,
   "id": "9cefc92c",
   "metadata": {},
   "outputs": [
    {
     "ename": "OSError",
     "evalue": "Data/Networks_all_NDL/Caltech36.txt not found.",
     "output_type": "error",
     "traceback": [
      "\u001b[0;31m---------------------------------------------------------------------------\u001b[0m",
      "\u001b[0;31mOSError\u001b[0m                                   Traceback (most recent call last)",
      "\u001b[0;32m/var/folders/9r/2gx8_pxn3r90xfxb1d4km5fh0000gn/T/ipykernel_60742/1861116576.py\u001b[0m in \u001b[0;36m<module>\u001b[0;34m\u001b[0m\n\u001b[1;32m      8\u001b[0m \u001b[0mpath\u001b[0m \u001b[0;34m=\u001b[0m \u001b[0;34m\"Data/Networks_all_NDL/\"\u001b[0m \u001b[0;34m+\u001b[0m \u001b[0mstr\u001b[0m\u001b[0;34m(\u001b[0m\u001b[0mntwk\u001b[0m\u001b[0;34m)\u001b[0m \u001b[0;34m+\u001b[0m \u001b[0;34m'.txt'\u001b[0m\u001b[0;34m\u001b[0m\u001b[0;34m\u001b[0m\u001b[0m\n\u001b[1;32m      9\u001b[0m \u001b[0mG\u001b[0m \u001b[0;34m=\u001b[0m \u001b[0mnn\u001b[0m\u001b[0;34m.\u001b[0m\u001b[0mNNetwork\u001b[0m\u001b[0;34m(\u001b[0m\u001b[0;34m)\u001b[0m\u001b[0;34m\u001b[0m\u001b[0;34m\u001b[0m\u001b[0m\n\u001b[0;32m---> 10\u001b[0;31m \u001b[0mG\u001b[0m\u001b[0;34m.\u001b[0m\u001b[0mload_add_edges\u001b[0m\u001b[0;34m(\u001b[0m\u001b[0mpath\u001b[0m\u001b[0;34m,\u001b[0m \u001b[0mincrement_weights\u001b[0m\u001b[0;34m=\u001b[0m\u001b[0;32mFalse\u001b[0m\u001b[0;34m,\u001b[0m \u001b[0muse_genfromtxt\u001b[0m\u001b[0;34m=\u001b[0m\u001b[0;32mTrue\u001b[0m\u001b[0;34m)\u001b[0m\u001b[0;34m\u001b[0m\u001b[0;34m\u001b[0m\u001b[0m\n\u001b[0m\u001b[1;32m     11\u001b[0m \u001b[0mprint\u001b[0m\u001b[0;34m(\u001b[0m\u001b[0;34m'num nodes in G'\u001b[0m\u001b[0;34m,\u001b[0m \u001b[0mlen\u001b[0m\u001b[0;34m(\u001b[0m\u001b[0mG\u001b[0m\u001b[0;34m.\u001b[0m\u001b[0mnodes\u001b[0m\u001b[0;34m(\u001b[0m\u001b[0;34m)\u001b[0m\u001b[0;34m)\u001b[0m\u001b[0;34m)\u001b[0m\u001b[0;34m\u001b[0m\u001b[0;34m\u001b[0m\u001b[0m\n\u001b[1;32m     12\u001b[0m \u001b[0mprint\u001b[0m\u001b[0;34m(\u001b[0m\u001b[0;34m'num edges in G'\u001b[0m\u001b[0;34m,\u001b[0m \u001b[0mlen\u001b[0m\u001b[0;34m(\u001b[0m\u001b[0mG\u001b[0m\u001b[0;34m.\u001b[0m\u001b[0mget_edges\u001b[0m\u001b[0;34m(\u001b[0m\u001b[0;34m)\u001b[0m\u001b[0;34m)\u001b[0m\u001b[0;34m)\u001b[0m\u001b[0;34m\u001b[0m\u001b[0;34m\u001b[0m\u001b[0m\n",
      "\u001b[0;32m~/opt/anaconda3/lib/python3.9/site-packages/NNetwork/NNetwork.py\u001b[0m in \u001b[0;36mload_add_edges\u001b[0;34m(self, path, delimiter, increment_weights, use_genfromtxt, is_pickle)\u001b[0m\n\u001b[1;32m    257\u001b[0m \u001b[0;34m\u001b[0m\u001b[0m\n\u001b[1;32m    258\u001b[0m         \u001b[0;32melse\u001b[0m\u001b[0;34m:\u001b[0m\u001b[0;34m\u001b[0m\u001b[0;34m\u001b[0m\u001b[0m\n\u001b[0;32m--> 259\u001b[0;31m             \u001b[0medges\u001b[0m \u001b[0;34m=\u001b[0m \u001b[0mnp\u001b[0m\u001b[0;34m.\u001b[0m\u001b[0mgenfromtxt\u001b[0m\u001b[0;34m(\u001b[0m\u001b[0mpath\u001b[0m\u001b[0;34m,\u001b[0m \u001b[0mdelimiter\u001b[0m\u001b[0;34m=\u001b[0m\u001b[0mdelimiter\u001b[0m\u001b[0;34m,\u001b[0m \u001b[0mdtype\u001b[0m\u001b[0;34m=\u001b[0m\u001b[0mstr\u001b[0m\u001b[0;34m)\u001b[0m\u001b[0;34m\u001b[0m\u001b[0;34m\u001b[0m\u001b[0m\n\u001b[0m\u001b[1;32m    260\u001b[0m             \u001b[0medges\u001b[0m \u001b[0;34m=\u001b[0m \u001b[0medges\u001b[0m\u001b[0;34m.\u001b[0m\u001b[0mtolist\u001b[0m\u001b[0;34m(\u001b[0m\u001b[0;34m)\u001b[0m\u001b[0;34m\u001b[0m\u001b[0;34m\u001b[0m\u001b[0m\n\u001b[1;32m    261\u001b[0m \u001b[0;34m\u001b[0m\u001b[0m\n",
      "\u001b[0;32m~/opt/anaconda3/lib/python3.9/site-packages/numpy/lib/npyio.py\u001b[0m in \u001b[0;36mgenfromtxt\u001b[0;34m(fname, dtype, comments, delimiter, skip_header, skip_footer, converters, missing_values, filling_values, usecols, names, excludelist, deletechars, replace_space, autostrip, case_sensitive, defaultfmt, unpack, usemask, loose, invalid_raise, max_rows, encoding, like)\u001b[0m\n\u001b[1;32m   1789\u001b[0m             \u001b[0mfname\u001b[0m \u001b[0;34m=\u001b[0m \u001b[0mos_fspath\u001b[0m\u001b[0;34m(\u001b[0m\u001b[0mfname\u001b[0m\u001b[0;34m)\u001b[0m\u001b[0;34m\u001b[0m\u001b[0;34m\u001b[0m\u001b[0m\n\u001b[1;32m   1790\u001b[0m         \u001b[0;32mif\u001b[0m \u001b[0misinstance\u001b[0m\u001b[0;34m(\u001b[0m\u001b[0mfname\u001b[0m\u001b[0;34m,\u001b[0m \u001b[0mstr\u001b[0m\u001b[0;34m)\u001b[0m\u001b[0;34m:\u001b[0m\u001b[0;34m\u001b[0m\u001b[0;34m\u001b[0m\u001b[0m\n\u001b[0;32m-> 1791\u001b[0;31m             \u001b[0mfid\u001b[0m \u001b[0;34m=\u001b[0m \u001b[0mnp\u001b[0m\u001b[0;34m.\u001b[0m\u001b[0mlib\u001b[0m\u001b[0;34m.\u001b[0m\u001b[0m_datasource\u001b[0m\u001b[0;34m.\u001b[0m\u001b[0mopen\u001b[0m\u001b[0;34m(\u001b[0m\u001b[0mfname\u001b[0m\u001b[0;34m,\u001b[0m \u001b[0;34m'rt'\u001b[0m\u001b[0;34m,\u001b[0m \u001b[0mencoding\u001b[0m\u001b[0;34m=\u001b[0m\u001b[0mencoding\u001b[0m\u001b[0;34m)\u001b[0m\u001b[0;34m\u001b[0m\u001b[0;34m\u001b[0m\u001b[0m\n\u001b[0m\u001b[1;32m   1792\u001b[0m             \u001b[0mfid_ctx\u001b[0m \u001b[0;34m=\u001b[0m \u001b[0mcontextlib\u001b[0m\u001b[0;34m.\u001b[0m\u001b[0mclosing\u001b[0m\u001b[0;34m(\u001b[0m\u001b[0mfid\u001b[0m\u001b[0;34m)\u001b[0m\u001b[0;34m\u001b[0m\u001b[0;34m\u001b[0m\u001b[0m\n\u001b[1;32m   1793\u001b[0m         \u001b[0;32melse\u001b[0m\u001b[0;34m:\u001b[0m\u001b[0;34m\u001b[0m\u001b[0;34m\u001b[0m\u001b[0m\n",
      "\u001b[0;32m~/opt/anaconda3/lib/python3.9/site-packages/numpy/lib/_datasource.py\u001b[0m in \u001b[0;36mopen\u001b[0;34m(path, mode, destpath, encoding, newline)\u001b[0m\n\u001b[1;32m    192\u001b[0m \u001b[0;34m\u001b[0m\u001b[0m\n\u001b[1;32m    193\u001b[0m     \u001b[0mds\u001b[0m \u001b[0;34m=\u001b[0m \u001b[0mDataSource\u001b[0m\u001b[0;34m(\u001b[0m\u001b[0mdestpath\u001b[0m\u001b[0;34m)\u001b[0m\u001b[0;34m\u001b[0m\u001b[0;34m\u001b[0m\u001b[0m\n\u001b[0;32m--> 194\u001b[0;31m     \u001b[0;32mreturn\u001b[0m \u001b[0mds\u001b[0m\u001b[0;34m.\u001b[0m\u001b[0mopen\u001b[0m\u001b[0;34m(\u001b[0m\u001b[0mpath\u001b[0m\u001b[0;34m,\u001b[0m \u001b[0mmode\u001b[0m\u001b[0;34m,\u001b[0m \u001b[0mencoding\u001b[0m\u001b[0;34m=\u001b[0m\u001b[0mencoding\u001b[0m\u001b[0;34m,\u001b[0m \u001b[0mnewline\u001b[0m\u001b[0;34m=\u001b[0m\u001b[0mnewline\u001b[0m\u001b[0;34m)\u001b[0m\u001b[0;34m\u001b[0m\u001b[0;34m\u001b[0m\u001b[0m\n\u001b[0m\u001b[1;32m    195\u001b[0m \u001b[0;34m\u001b[0m\u001b[0m\n\u001b[1;32m    196\u001b[0m \u001b[0;34m\u001b[0m\u001b[0m\n",
      "\u001b[0;32m~/opt/anaconda3/lib/python3.9/site-packages/numpy/lib/_datasource.py\u001b[0m in \u001b[0;36mopen\u001b[0;34m(self, path, mode, encoding, newline)\u001b[0m\n\u001b[1;32m    529\u001b[0m                                       encoding=encoding, newline=newline)\n\u001b[1;32m    530\u001b[0m         \u001b[0;32melse\u001b[0m\u001b[0;34m:\u001b[0m\u001b[0;34m\u001b[0m\u001b[0;34m\u001b[0m\u001b[0m\n\u001b[0;32m--> 531\u001b[0;31m             \u001b[0;32mraise\u001b[0m \u001b[0mIOError\u001b[0m\u001b[0;34m(\u001b[0m\u001b[0;34m\"%s not found.\"\u001b[0m \u001b[0;34m%\u001b[0m \u001b[0mpath\u001b[0m\u001b[0;34m)\u001b[0m\u001b[0;34m\u001b[0m\u001b[0;34m\u001b[0m\u001b[0m\n\u001b[0m\u001b[1;32m    532\u001b[0m \u001b[0;34m\u001b[0m\u001b[0m\n\u001b[1;32m    533\u001b[0m \u001b[0;34m\u001b[0m\u001b[0m\n",
      "\u001b[0;31mOSError\u001b[0m: Data/Networks_all_NDL/Caltech36.txt not found."
     ]
    }
   ],
   "source": [
    "sampling_alg = 'pivot'\n",
    "\n",
    "ntwk = 'Caltech36' # COVID_PPI, Wisconsin87, UCLA26\n",
    "ntwk_nonumber = ''.join([i for i in ntwk if not i.isdigit()])\n",
    "save_folder = 'Subgraph_sampling/test1/'\n",
    "k=20\n",
    "\n",
    "path = \"Data/Networks_all_NDL/\" + str(ntwk) + '.txt'\n",
    "G = nn.NNetwork()\n",
    "G.load_add_edges(path, increment_weights=False, use_genfromtxt=True)\n",
    "print('num nodes in G', len(G.nodes()))\n",
    "print('num edges in G', len(G.get_edges()))"
   ]
  },
  {
   "cell_type": "code",
   "execution_count": 199,
   "id": "067961cd",
   "metadata": {},
   "outputs": [
    {
     "name": "stdout",
     "output_type": "stream",
     "text": [
      "num of subgraphs induced on k-paths: 10000\n"
     ]
    },
    {
     "data": {
      "text/plain": [
       "(400, 10000)"
      ]
     },
     "execution_count": 199,
     "metadata": {},
     "output_type": "execute_result"
    }
   ],
   "source": [
    "X, embs = G.get_patches(k=k, sample_size=10000, skip_folded_hom=True)\n",
    "file = open('toy.pkl', 'wb')\n",
    "pickle.dump(X, file)\n",
    "file.close()\n",
    "X.shape\n",
    "#X[:,0].reshape(20, -1) #adjacency matrix of the first sample\n",
    "#int(np.sqrt(X.shape[0]))\n",
    "#G=nx.from_pandas_adjacency(pd.DataFrame(X[:,0].reshape(20, -1)))\n",
    "#G=nx.Graph(G)"
   ]
  },
  {
   "cell_type": "code",
   "execution_count": 200,
   "id": "8cce4b3f",
   "metadata": {},
   "outputs": [],
   "source": [
    "num_nodes = 20\n",
    "kappa = 10\n",
    "FCA_iter = 200\n",
    "baseline_iter = 50\n",
    "iter_include = 5\n",
    "file_name = \"toy.csv\"\n",
    "FCA_datagen(num_nodes, kappa, FCA_iter, baseline_iter, iter_include, file_name, X)"
   ]
  },
  {
   "cell_type": "markdown",
   "id": "6beecf6a",
   "metadata": {},
   "source": [
    "## toy_Caltech36_20walk"
   ]
  },
  {
   "cell_type": "code",
   "execution_count": 243,
   "id": "ca22e171",
   "metadata": {},
   "outputs": [
    {
     "data": {
      "text/plain": [
       "array([[0., 0., 0., ..., 0., 0., 0.],\n",
       "       [1., 1., 1., ..., 1., 1., 1.],\n",
       "       [0., 0., 0., ..., 0., 1., 0.],\n",
       "       ...,\n",
       "       [0., 0., 0., ..., 0., 0., 0.],\n",
       "       [1., 1., 1., ..., 1., 1., 1.],\n",
       "       [0., 0., 0., ..., 0., 0., 0.]])"
      ]
     },
     "execution_count": 243,
     "metadata": {},
     "output_type": "execute_result"
    }
   ],
   "source": [
    "fileo = open('toy_Caltech36_20walk.pkl', 'rb')\n",
    "X = pickle.load(fileo)\n",
    "fileo.close()\n",
    "X"
   ]
  },
  {
   "cell_type": "code",
   "execution_count": 244,
   "id": "847c28cc",
   "metadata": {},
   "outputs": [
    {
     "data": {
      "image/png": "[encoded data removed]",
      "text/plain": [
       "<Figure size 1080x1080 with 100 Axes>"
      ]
     },
     "metadata": {},
     "output_type": "display_data"
    }
   ],
   "source": [
    "display_dictionary(X[:,:100], figsize=[15,15])"
   ]
  },
  {
   "cell_type": "code",
   "execution_count": 245,
   "id": "5388079c",
   "metadata": {},
   "outputs": [
    {
     "data": {
      "text/html": [
       "<div>\n",
       "<style scoped>\n",
       "    .dataframe tbody tr th:only-of-type {\n",
       "        vertical-align: middle;\n",
       "    }\n",
       "\n",
       "    .dataframe tbody tr th {\n",
       "        vertical-align: top;\n",
       "    }\n",
       "\n",
       "    .dataframe thead th {\n",
       "        text-align: right;\n",
       "    }\n",
       "</style>\n",
       "<table border=\"1\" class=\"dataframe\">\n",
       "  <thead>\n",
       "    <tr style=\"text-align: right;\">\n",
       "      <th></th>\n",
       "      <th>num_edges</th>\n",
       "      <th>num_nodes</th>\n",
       "      <th>min_degree</th>\n",
       "      <th>max_degree</th>\n",
       "      <th>diameter</th>\n",
       "      <th>quartile_1</th>\n",
       "      <th>quartile_2</th>\n",
       "      <th>quartile_3</th>\n",
       "      <th>y</th>\n",
       "      <th>baseline_width</th>\n",
       "      <th>...</th>\n",
       "      <th>s5_11</th>\n",
       "      <th>s5_12</th>\n",
       "      <th>s5_13</th>\n",
       "      <th>s5_14</th>\n",
       "      <th>s5_15</th>\n",
       "      <th>s5_16</th>\n",
       "      <th>s5_17</th>\n",
       "      <th>s5_18</th>\n",
       "      <th>s5_19</th>\n",
       "      <th>s5_20</th>\n",
       "    </tr>\n",
       "  </thead>\n",
       "  <tbody>\n",
       "    <tr>\n",
       "      <th>0</th>\n",
       "      <td>56</td>\n",
       "      <td>20</td>\n",
       "      <td>1</td>\n",
       "      <td>10</td>\n",
       "      <td>5</td>\n",
       "      <td>2.00</td>\n",
       "      <td>4.0</td>\n",
       "      <td>7.75</td>\n",
       "      <td>True</td>\n",
       "      <td>False</td>\n",
       "      <td>...</td>\n",
       "      <td>4</td>\n",
       "      <td>9</td>\n",
       "      <td>4</td>\n",
       "      <td>7</td>\n",
       "      <td>6</td>\n",
       "      <td>4</td>\n",
       "      <td>1</td>\n",
       "      <td>9</td>\n",
       "      <td>7</td>\n",
       "      <td>4</td>\n",
       "    </tr>\n",
       "    <tr>\n",
       "      <th>1</th>\n",
       "      <td>56</td>\n",
       "      <td>20</td>\n",
       "      <td>1</td>\n",
       "      <td>14</td>\n",
       "      <td>4</td>\n",
       "      <td>1.00</td>\n",
       "      <td>3.5</td>\n",
       "      <td>6.00</td>\n",
       "      <td>True</td>\n",
       "      <td>True</td>\n",
       "      <td>...</td>\n",
       "      <td>5</td>\n",
       "      <td>7</td>\n",
       "      <td>7</td>\n",
       "      <td>8</td>\n",
       "      <td>9</td>\n",
       "      <td>5</td>\n",
       "      <td>6</td>\n",
       "      <td>7</td>\n",
       "      <td>6</td>\n",
       "      <td>4</td>\n",
       "    </tr>\n",
       "    <tr>\n",
       "      <th>2</th>\n",
       "      <td>41</td>\n",
       "      <td>20</td>\n",
       "      <td>1</td>\n",
       "      <td>10</td>\n",
       "      <td>7</td>\n",
       "      <td>3.00</td>\n",
       "      <td>3.5</td>\n",
       "      <td>7.00</td>\n",
       "      <td>True</td>\n",
       "      <td>False</td>\n",
       "      <td>...</td>\n",
       "      <td>7</td>\n",
       "      <td>2</td>\n",
       "      <td>7</td>\n",
       "      <td>0</td>\n",
       "      <td>0</td>\n",
       "      <td>3</td>\n",
       "      <td>7</td>\n",
       "      <td>3</td>\n",
       "      <td>7</td>\n",
       "      <td>7</td>\n",
       "    </tr>\n",
       "    <tr>\n",
       "      <th>3</th>\n",
       "      <td>38</td>\n",
       "      <td>20</td>\n",
       "      <td>1</td>\n",
       "      <td>7</td>\n",
       "      <td>6</td>\n",
       "      <td>2.25</td>\n",
       "      <td>5.0</td>\n",
       "      <td>7.00</td>\n",
       "      <td>True</td>\n",
       "      <td>False</td>\n",
       "      <td>...</td>\n",
       "      <td>5</td>\n",
       "      <td>7</td>\n",
       "      <td>9</td>\n",
       "      <td>6</td>\n",
       "      <td>0</td>\n",
       "      <td>8</td>\n",
       "      <td>8</td>\n",
       "      <td>0</td>\n",
       "      <td>7</td>\n",
       "      <td>9</td>\n",
       "    </tr>\n",
       "    <tr>\n",
       "      <th>4</th>\n",
       "      <td>55</td>\n",
       "      <td>20</td>\n",
       "      <td>1</td>\n",
       "      <td>8</td>\n",
       "      <td>4</td>\n",
       "      <td>3.25</td>\n",
       "      <td>5.0</td>\n",
       "      <td>7.00</td>\n",
       "      <td>True</td>\n",
       "      <td>True</td>\n",
       "      <td>...</td>\n",
       "      <td>5</td>\n",
       "      <td>6</td>\n",
       "      <td>2</td>\n",
       "      <td>7</td>\n",
       "      <td>7</td>\n",
       "      <td>5</td>\n",
       "      <td>8</td>\n",
       "      <td>0</td>\n",
       "      <td>9</td>\n",
       "      <td>5</td>\n",
       "    </tr>\n",
       "    <tr>\n",
       "      <th>...</th>\n",
       "      <td>...</td>\n",
       "      <td>...</td>\n",
       "      <td>...</td>\n",
       "      <td>...</td>\n",
       "      <td>...</td>\n",
       "      <td>...</td>\n",
       "      <td>...</td>\n",
       "      <td>...</td>\n",
       "      <td>...</td>\n",
       "      <td>...</td>\n",
       "      <td>...</td>\n",
       "      <td>...</td>\n",
       "      <td>...</td>\n",
       "      <td>...</td>\n",
       "      <td>...</td>\n",
       "      <td>...</td>\n",
       "      <td>...</td>\n",
       "      <td>...</td>\n",
       "      <td>...</td>\n",
       "      <td>...</td>\n",
       "      <td>...</td>\n",
       "    </tr>\n",
       "    <tr>\n",
       "      <th>9995</th>\n",
       "      <td>30</td>\n",
       "      <td>20</td>\n",
       "      <td>2</td>\n",
       "      <td>5</td>\n",
       "      <td>6</td>\n",
       "      <td>1.25</td>\n",
       "      <td>4.5</td>\n",
       "      <td>6.75</td>\n",
       "      <td>False</td>\n",
       "      <td>False</td>\n",
       "      <td>...</td>\n",
       "      <td>9</td>\n",
       "      <td>9</td>\n",
       "      <td>4</td>\n",
       "      <td>9</td>\n",
       "      <td>5</td>\n",
       "      <td>5</td>\n",
       "      <td>2</td>\n",
       "      <td>8</td>\n",
       "      <td>0</td>\n",
       "      <td>6</td>\n",
       "    </tr>\n",
       "    <tr>\n",
       "      <th>9996</th>\n",
       "      <td>50</td>\n",
       "      <td>20</td>\n",
       "      <td>1</td>\n",
       "      <td>10</td>\n",
       "      <td>5</td>\n",
       "      <td>1.25</td>\n",
       "      <td>4.0</td>\n",
       "      <td>6.00</td>\n",
       "      <td>True</td>\n",
       "      <td>True</td>\n",
       "      <td>...</td>\n",
       "      <td>4</td>\n",
       "      <td>7</td>\n",
       "      <td>4</td>\n",
       "      <td>0</td>\n",
       "      <td>9</td>\n",
       "      <td>7</td>\n",
       "      <td>6</td>\n",
       "      <td>7</td>\n",
       "      <td>9</td>\n",
       "      <td>8</td>\n",
       "    </tr>\n",
       "    <tr>\n",
       "      <th>9997</th>\n",
       "      <td>55</td>\n",
       "      <td>20</td>\n",
       "      <td>2</td>\n",
       "      <td>10</td>\n",
       "      <td>4</td>\n",
       "      <td>3.00</td>\n",
       "      <td>4.0</td>\n",
       "      <td>6.75</td>\n",
       "      <td>True</td>\n",
       "      <td>True</td>\n",
       "      <td>...</td>\n",
       "      <td>6</td>\n",
       "      <td>9</td>\n",
       "      <td>6</td>\n",
       "      <td>9</td>\n",
       "      <td>6</td>\n",
       "      <td>6</td>\n",
       "      <td>5</td>\n",
       "      <td>6</td>\n",
       "      <td>7</td>\n",
       "      <td>8</td>\n",
       "    </tr>\n",
       "    <tr>\n",
       "      <th>9998</th>\n",
       "      <td>46</td>\n",
       "      <td>20</td>\n",
       "      <td>2</td>\n",
       "      <td>9</td>\n",
       "      <td>4</td>\n",
       "      <td>2.00</td>\n",
       "      <td>3.5</td>\n",
       "      <td>5.75</td>\n",
       "      <td>True</td>\n",
       "      <td>True</td>\n",
       "      <td>...</td>\n",
       "      <td>7</td>\n",
       "      <td>7</td>\n",
       "      <td>7</td>\n",
       "      <td>7</td>\n",
       "      <td>5</td>\n",
       "      <td>6</td>\n",
       "      <td>0</td>\n",
       "      <td>1</td>\n",
       "      <td>6</td>\n",
       "      <td>4</td>\n",
       "    </tr>\n",
       "    <tr>\n",
       "      <th>9999</th>\n",
       "      <td>32</td>\n",
       "      <td>20</td>\n",
       "      <td>1</td>\n",
       "      <td>5</td>\n",
       "      <td>5</td>\n",
       "      <td>2.00</td>\n",
       "      <td>4.5</td>\n",
       "      <td>7.75</td>\n",
       "      <td>False</td>\n",
       "      <td>False</td>\n",
       "      <td>...</td>\n",
       "      <td>8</td>\n",
       "      <td>1</td>\n",
       "      <td>8</td>\n",
       "      <td>5</td>\n",
       "      <td>5</td>\n",
       "      <td>5</td>\n",
       "      <td>5</td>\n",
       "      <td>5</td>\n",
       "      <td>7</td>\n",
       "      <td>3</td>\n",
       "    </tr>\n",
       "  </tbody>\n",
       "</table>\n",
       "<p>10000 rows × 110 columns</p>\n",
       "</div>"
      ],
      "text/plain": [
       "      num_edges  num_nodes  min_degree  max_degree  diameter  quartile_1  \\\n",
       "0            56         20           1          10         5        2.00   \n",
       "1            56         20           1          14         4        1.00   \n",
       "2            41         20           1          10         7        3.00   \n",
       "3            38         20           1           7         6        2.25   \n",
       "4            55         20           1           8         4        3.25   \n",
       "...         ...        ...         ...         ...       ...         ...   \n",
       "9995         30         20           2           5         6        1.25   \n",
       "9996         50         20           1          10         5        1.25   \n",
       "9997         55         20           2          10         4        3.00   \n",
       "9998         46         20           2           9         4        2.00   \n",
       "9999         32         20           1           5         5        2.00   \n",
       "\n",
       "      quartile_2  quartile_3      y  baseline_width  ...  s5_11  s5_12  s5_13  \\\n",
       "0            4.0        7.75   True           False  ...      4      9      4   \n",
       "1            3.5        6.00   True            True  ...      5      7      7   \n",
       "2            3.5        7.00   True           False  ...      7      2      7   \n",
       "3            5.0        7.00   True           False  ...      5      7      9   \n",
       "4            5.0        7.00   True            True  ...      5      6      2   \n",
       "...          ...         ...    ...             ...  ...    ...    ...    ...   \n",
       "9995         4.5        6.75  False           False  ...      9      9      4   \n",
       "9996         4.0        6.00   True            True  ...      4      7      4   \n",
       "9997         4.0        6.75   True            True  ...      6      9      6   \n",
       "9998         3.5        5.75   True            True  ...      7      7      7   \n",
       "9999         4.5        7.75  False           False  ...      8      1      8   \n",
       "\n",
       "      s5_14  s5_15  s5_16  s5_17  s5_18  s5_19  s5_20  \n",
       "0         7      6      4      1      9      7      4  \n",
       "1         8      9      5      6      7      6      4  \n",
       "2         0      0      3      7      3      7      7  \n",
       "3         6      0      8      8      0      7      9  \n",
       "4         7      7      5      8      0      9      5  \n",
       "...     ...    ...    ...    ...    ...    ...    ...  \n",
       "9995      9      5      5      2      8      0      6  \n",
       "9996      0      9      7      6      7      9      8  \n",
       "9997      9      6      6      5      6      7      8  \n",
       "9998      7      5      6      0      1      6      4  \n",
       "9999      5      5      5      5      5      7      3  \n",
       "\n",
       "[10000 rows x 110 columns]"
      ]
     },
     "execution_count": 245,
     "metadata": {},
     "output_type": "execute_result"
    }
   ],
   "source": [
    "df = pd.read_csv(\"toy_Caltech36_20walk.csv\")\n",
    "df"
   ]
  },
  {
   "cell_type": "code",
   "execution_count": 246,
   "id": "30924edb",
   "metadata": {},
   "outputs": [
    {
     "data": {
      "text/plain": [
       "True     9227\n",
       "False     773\n",
       "Name: y, dtype: int64"
      ]
     },
     "execution_count": 246,
     "metadata": {},
     "output_type": "execute_result"
    }
   ],
   "source": [
    "df.y.value_counts()"
   ]
  },
  {
   "cell_type": "code",
   "execution_count": 247,
   "id": "37aa7621",
   "metadata": {},
   "outputs": [
    {
     "data": {
      "text/plain": [
       "False    5290\n",
       "True     4710\n",
       "Name: baseline_width, dtype: int64"
      ]
     },
     "execution_count": 247,
     "metadata": {},
     "output_type": "execute_result"
    }
   ],
   "source": [
    "df.baseline_width.value_counts()"
   ]
  },
  {
   "cell_type": "code",
   "execution_count": 248,
   "id": "89875e76",
   "metadata": {},
   "outputs": [],
   "source": [
    "df['y'] = df['y'].astype(int)\n",
    "df['baseline_width'] = df['baseline_width'].astype(int)\n",
    "y = df['y']\n",
    "df.drop('y', axis=1, inplace=True)\n",
    "df.drop('num_nodes', axis=1, inplace=True)"
   ]
  },
  {
   "cell_type": "code",
   "execution_count": 249,
   "id": "72bc7b64",
   "metadata": {},
   "outputs": [
    {
     "data": {
      "text/plain": [
       "(10000, 108)"
      ]
     },
     "execution_count": 249,
     "metadata": {},
     "output_type": "execute_result"
    }
   ],
   "source": [
    "df.shape"
   ]
  },
  {
   "cell_type": "code",
   "execution_count": 250,
   "id": "d1a2aa69",
   "metadata": {},
   "outputs": [],
   "source": [
    "df_false = pd.concat([df[y == 0], pd.DataFrame(X.T)[y == 0]], \n",
    "          axis=1, join='inner')\n",
    "df_true = pd.concat([df[y == 1], pd.DataFrame(X.T)[y == 1]], \n",
    "          axis=1, join='inner')\n",
    "X_false = df_false.to_numpy().T\n",
    "X_true = df_true.to_numpy().T"
   ]
  },
  {
   "cell_type": "code",
   "execution_count": 251,
   "id": "414818b7",
   "metadata": {},
   "outputs": [
    {
     "data": {
      "text/plain": [
       "(508, 773)"
      ]
     },
     "execution_count": 251,
     "metadata": {},
     "output_type": "execute_result"
    }
   ],
   "source": [
    "X_false.shape"
   ]
  },
  {
   "cell_type": "code",
   "execution_count": 252,
   "id": "c31eee3b",
   "metadata": {},
   "outputs": [
    {
     "data": {
      "text/plain": [
       "(508, 9227)"
      ]
     },
     "execution_count": 252,
     "metadata": {},
     "output_type": "execute_result"
    }
   ],
   "source": [
    "X_true.shape"
   ]
  },
  {
   "cell_type": "code",
   "execution_count": 253,
   "id": "0f1066f4",
   "metadata": {},
   "outputs": [
    {
     "name": "stderr",
     "output_type": "stream",
     "text": [
      "  3%|▎         | 29/1000 [00:00<00:03, 283.17it/s]"
     ]
    },
    {
     "name": "stdout",
     "output_type": "stream",
     "text": [
      "iteration 0, reconstruction error 4088433.171882\n",
      "iteration 10, reconstruction error 846508.994382\n",
      "iteration 20, reconstruction error 943087.618993\n",
      "iteration 30, reconstruction error 806277.894256\n",
      "iteration 40, reconstruction error 659688.390004\n",
      "iteration 50, reconstruction error 565247.604095\n"
     ]
    },
    {
     "name": "stderr",
     "output_type": "stream",
     "text": [
      " 11%|█         | 110/1000 [00:00<00:03, 251.76it/s]"
     ]
    },
    {
     "name": "stdout",
     "output_type": "stream",
     "text": [
      "iteration 60, reconstruction error 512101.058849\n",
      "iteration 70, reconstruction error 481048.713355\n",
      "iteration 80, reconstruction error 461502.965689\n",
      "iteration 90, reconstruction error 449566.229202\n",
      "iteration 100, reconstruction error 442211.573469\n",
      "iteration 110, reconstruction error 437501.187322\n"
     ]
    },
    {
     "name": "stderr",
     "output_type": "stream",
     "text": [
      " 17%|█▋        | 168/1000 [00:00<00:03, 272.77it/s]"
     ]
    },
    {
     "name": "stdout",
     "output_type": "stream",
     "text": [
      "iteration 120, reconstruction error 434302.120819\n",
      "iteration 130, reconstruction error 431987.271391\n",
      "iteration 140, reconstruction error 430201.412471\n",
      "iteration 150, reconstruction error 428760.163796\n",
      "iteration 160, reconstruction error 427560.925161\n",
      "iteration 170, reconstruction error 426523.391007\n",
      "iteration 180, reconstruction error 425610.883925\n"
     ]
    },
    {
     "name": "stderr",
     "output_type": "stream",
     "text": [
      " 22%|██▏       | 223/1000 [00:00<00:02, 268.32it/s]"
     ]
    },
    {
     "name": "stdout",
     "output_type": "stream",
     "text": [
      "iteration 190, reconstruction error 424793.605538\n",
      "iteration 200, reconstruction error 424053.345009\n",
      "iteration 210, reconstruction error 423378.583542\n",
      "iteration 220, reconstruction error 422763.467406\n",
      "iteration 230, reconstruction error 422195.586899\n",
      "iteration 240, reconstruction error 421667.740908\n"
     ]
    },
    {
     "name": "stderr",
     "output_type": "stream",
     "text": [
      " 28%|██▊       | 284/1000 [00:01<00:02, 270.94it/s]"
     ]
    },
    {
     "name": "stdout",
     "output_type": "stream",
     "text": [
      "iteration 250, reconstruction error 421176.023691\n",
      "iteration 260, reconstruction error 420716.714385\n",
      "iteration 270, reconstruction error 420287.312865\n",
      "iteration 280, reconstruction error 419886.114344\n",
      "iteration 290, reconstruction error 419508.700564\n",
      "iteration 300, reconstruction error 419153.748343\n"
     ]
    },
    {
     "name": "stderr",
     "output_type": "stream",
     "text": [
      " 34%|███▍      | 344/1000 [00:01<00:02, 266.83it/s]"
     ]
    },
    {
     "name": "stdout",
     "output_type": "stream",
     "text": [
      "iteration 310, reconstruction error 418826.048248\n",
      "iteration 320, reconstruction error 418519.436013\n",
      "iteration 330, reconstruction error 418230.540015\n",
      "iteration 340, reconstruction error 417956.734344\n",
      "iteration 350, reconstruction error 417697.046487\n",
      "iteration 360, reconstruction error 417450.988349\n"
     ]
    },
    {
     "name": "stderr",
     "output_type": "stream",
     "text": [
      " 40%|███▉      | 399/1000 [00:01<00:02, 254.99it/s]"
     ]
    },
    {
     "name": "stdout",
     "output_type": "stream",
     "text": [
      "iteration 370, reconstruction error 417215.923770\n",
      "iteration 380, reconstruction error 416991.192946\n",
      "iteration 390, reconstruction error 416775.640366\n",
      "iteration 400, reconstruction error 416567.919836\n",
      "iteration 410, reconstruction error 416367.450718\n",
      "iteration 420, reconstruction error 416174.532999\n"
     ]
    },
    {
     "name": "stderr",
     "output_type": "stream",
     "text": [
      " 50%|████▉     | 499/1000 [00:01<00:01, 309.36it/s]"
     ]
    },
    {
     "name": "stdout",
     "output_type": "stream",
     "text": [
      "iteration 430, reconstruction error 415988.544900\n",
      "iteration 440, reconstruction error 415809.319986\n",
      "iteration 450, reconstruction error 415635.544552\n",
      "iteration 460, reconstruction error 415467.895060\n",
      "iteration 470, reconstruction error 415308.059186\n",
      "iteration 480, reconstruction error 415152.800427\n",
      "iteration 490, reconstruction error 415001.698766\n",
      "iteration 500, reconstruction error 414854.855704\n"
     ]
    },
    {
     "name": "stderr",
     "output_type": "stream",
     "text": [
      " 56%|█████▌    | 562/1000 [00:02<00:01, 288.65it/s]"
     ]
    },
    {
     "name": "stdout",
     "output_type": "stream",
     "text": [
      "iteration 510, reconstruction error 414712.565602\n",
      "iteration 520, reconstruction error 414574.758907\n",
      "iteration 530, reconstruction error 414440.822461\n",
      "iteration 540, reconstruction error 414310.360434\n",
      "iteration 550, reconstruction error 414184.070205\n",
      "iteration 560, reconstruction error 414061.482310\n"
     ]
    },
    {
     "name": "stderr",
     "output_type": "stream",
     "text": [
      " 62%|██████▏   | 622/1000 [00:02<00:01, 281.41it/s]"
     ]
    },
    {
     "name": "stdout",
     "output_type": "stream",
     "text": [
      "iteration 570, reconstruction error 413942.140567\n",
      "iteration 580, reconstruction error 413825.852622\n",
      "iteration 590, reconstruction error 413712.968714\n",
      "iteration 600, reconstruction error 413603.704988\n",
      "iteration 610, reconstruction error 413498.019502\n",
      "iteration 620, reconstruction error 413395.697578\n"
     ]
    },
    {
     "name": "stderr",
     "output_type": "stream",
     "text": [
      " 68%|██████▊   | 680/1000 [00:02<00:01, 281.77it/s]"
     ]
    },
    {
     "name": "stdout",
     "output_type": "stream",
     "text": [
      "iteration 630, reconstruction error 413297.046002\n",
      "iteration 640, reconstruction error 413201.513321\n",
      "iteration 650, reconstruction error 413108.976928\n",
      "iteration 660, reconstruction error 413018.853835\n",
      "iteration 670, reconstruction error 412930.920194\n",
      "iteration 680, reconstruction error 412845.091388\n"
     ]
    },
    {
     "name": "stderr",
     "output_type": "stream",
     "text": [
      " 74%|███████▍  | 741/1000 [00:02<00:00, 288.03it/s]"
     ]
    },
    {
     "name": "stdout",
     "output_type": "stream",
     "text": [
      "iteration 690, reconstruction error 412761.170432\n",
      "iteration 700, reconstruction error 412679.009901\n",
      "iteration 710, reconstruction error 412598.476318\n",
      "iteration 720, reconstruction error 412519.249071\n",
      "iteration 730, reconstruction error 412441.232996\n",
      "iteration 740, reconstruction error 412364.318537\n"
     ]
    },
    {
     "name": "stderr",
     "output_type": "stream",
     "text": [
      " 80%|███████▉  | 798/1000 [00:02<00:00, 266.04it/s]"
     ]
    },
    {
     "name": "stdout",
     "output_type": "stream",
     "text": [
      "iteration 750, reconstruction error 412288.367519\n",
      "iteration 760, reconstruction error 412213.402023\n",
      "iteration 770, reconstruction error 412139.211772\n",
      "iteration 780, reconstruction error 412065.829839\n",
      "iteration 790, reconstruction error 411993.126414\n"
     ]
    },
    {
     "name": "stderr",
     "output_type": "stream",
     "text": [
      " 85%|████████▌ | 851/1000 [00:03<00:00, 254.59it/s]"
     ]
    },
    {
     "name": "stdout",
     "output_type": "stream",
     "text": [
      "iteration 800, reconstruction error 411920.969095\n",
      "iteration 810, reconstruction error 411849.282177\n",
      "iteration 820, reconstruction error 411777.965352\n",
      "iteration 830, reconstruction error 411707.005374\n",
      "iteration 840, reconstruction error 411636.658681\n",
      "iteration 850, reconstruction error 411567.857823\n"
     ]
    },
    {
     "name": "stderr",
     "output_type": "stream",
     "text": [
      " 92%|█████████▏| 916/1000 [00:03<00:00, 287.61it/s]"
     ]
    },
    {
     "name": "stdout",
     "output_type": "stream",
     "text": [
      "iteration 860, reconstruction error 411500.307036\n",
      "iteration 870, reconstruction error 411433.563926\n",
      "iteration 880, reconstruction error 411367.438823\n",
      "iteration 890, reconstruction error 411301.751926\n",
      "iteration 900, reconstruction error 411236.641711\n",
      "iteration 910, reconstruction error 411172.346840\n",
      "iteration 920, reconstruction error 411108.888368\n"
     ]
    },
    {
     "name": "stderr",
     "output_type": "stream",
     "text": [
      " 98%|█████████▊| 977/1000 [00:03<00:00, 293.87it/s]"
     ]
    },
    {
     "name": "stdout",
     "output_type": "stream",
     "text": [
      "iteration 930, reconstruction error 411045.870606\n",
      "iteration 940, reconstruction error 410983.365206\n",
      "iteration 950, reconstruction error 410921.350906\n",
      "iteration 960, reconstruction error 410859.588677\n",
      "iteration 970, reconstruction error 410797.982419\n",
      "iteration 980, reconstruction error 410736.493697\n"
     ]
    },
    {
     "name": "stderr",
     "output_type": "stream",
     "text": [
      "\r",
      "100%|██████████| 1000/1000 [00:03<00:00, 275.30it/s]"
     ]
    },
    {
     "name": "stdout",
     "output_type": "stream",
     "text": [
      "iteration 990, reconstruction error 410675.068514\n"
     ]
    },
    {
     "name": "stderr",
     "output_type": "stream",
     "text": [
      "\n"
     ]
    }
   ],
   "source": [
    "W_false, H = ALS(X=X_false, \n",
    "           n_components=16, # Reconstruction Error reduces as n_components increases\n",
    "           n_iter=1000, \n",
    "           a0 = 0, # L1 regularizer for H\n",
    "           a1 = 0, # L1 regularizer for W\n",
    "           a12 = 0, # L2 regularizer for W\n",
    "           H_nonnegativity=True,\n",
    "           W_nonnegativity=True,\n",
    "           compute_recons_error=True,\n",
    "           subsample_ratio=1)"
   ]
  },
  {
   "cell_type": "code",
   "execution_count": 254,
   "id": "70a56722",
   "metadata": {},
   "outputs": [
    {
     "name": "stderr",
     "output_type": "stream",
     "text": [
      "  0%|          | 3/1000 [00:00<00:38, 25.94it/s]"
     ]
    },
    {
     "name": "stdout",
     "output_type": "stream",
     "text": [
      "iteration 0, reconstruction error 55668933.769751\n"
     ]
    },
    {
     "name": "stderr",
     "output_type": "stream",
     "text": [
      "  2%|▏         | 17/1000 [00:00<00:33, 29.78it/s]"
     ]
    },
    {
     "name": "stdout",
     "output_type": "stream",
     "text": [
      "iteration 10, reconstruction error 10358423.085000\n"
     ]
    },
    {
     "name": "stderr",
     "output_type": "stream",
     "text": [
      "  2%|▏         | 24/1000 [00:00<00:33, 29.06it/s]"
     ]
    },
    {
     "name": "stdout",
     "output_type": "stream",
     "text": [
      "iteration 20, reconstruction error 11857186.166121\n"
     ]
    },
    {
     "name": "stderr",
     "output_type": "stream",
     "text": [
      "  4%|▎         | 35/1000 [00:01<00:32, 29.69it/s]"
     ]
    },
    {
     "name": "stdout",
     "output_type": "stream",
     "text": [
      "iteration 30, reconstruction error 10182993.066652\n"
     ]
    },
    {
     "name": "stderr",
     "output_type": "stream",
     "text": [
      "  5%|▍         | 47/1000 [00:01<00:32, 29.49it/s]"
     ]
    },
    {
     "name": "stdout",
     "output_type": "stream",
     "text": [
      "iteration 40, reconstruction error 8342144.788996\n"
     ]
    },
    {
     "name": "stderr",
     "output_type": "stream",
     "text": [
      "  6%|▌         | 57/1000 [00:01<00:31, 29.73it/s]"
     ]
    },
    {
     "name": "stdout",
     "output_type": "stream",
     "text": [
      "iteration 50, reconstruction error 7393779.143896\n"
     ]
    },
    {
     "name": "stderr",
     "output_type": "stream",
     "text": [
      "  6%|▋         | 65/1000 [00:02<00:31, 30.09it/s]"
     ]
    },
    {
     "name": "stdout",
     "output_type": "stream",
     "text": [
      "iteration 60, reconstruction error 6620227.370636\n"
     ]
    },
    {
     "name": "stderr",
     "output_type": "stream",
     "text": [
      "  8%|▊         | 77/1000 [00:02<00:30, 30.38it/s]"
     ]
    },
    {
     "name": "stdout",
     "output_type": "stream",
     "text": [
      "iteration 70, reconstruction error 6076870.168472\n"
     ]
    },
    {
     "name": "stderr",
     "output_type": "stream",
     "text": [
      "  8%|▊         | 85/1000 [00:02<00:30, 30.32it/s]"
     ]
    },
    {
     "name": "stdout",
     "output_type": "stream",
     "text": [
      "iteration 80, reconstruction error 5730556.163004\n"
     ]
    },
    {
     "name": "stderr",
     "output_type": "stream",
     "text": [
      " 10%|▉         | 97/1000 [00:03<00:29, 30.28it/s]"
     ]
    },
    {
     "name": "stdout",
     "output_type": "stream",
     "text": [
      "iteration 90, reconstruction error 5500056.405691\n"
     ]
    },
    {
     "name": "stderr",
     "output_type": "stream",
     "text": [
      " 10%|█         | 105/1000 [00:03<00:29, 29.85it/s]"
     ]
    },
    {
     "name": "stdout",
     "output_type": "stream",
     "text": [
      "iteration 100, reconstruction error 5356451.548756\n"
     ]
    },
    {
     "name": "stderr",
     "output_type": "stream",
     "text": [
      " 12%|█▏        | 115/1000 [00:03<00:30, 29.33it/s]"
     ]
    },
    {
     "name": "stdout",
     "output_type": "stream",
     "text": [
      "iteration 110, reconstruction error 5266368.231721\n"
     ]
    },
    {
     "name": "stderr",
     "output_type": "stream",
     "text": [
      " 12%|█▎        | 125/1000 [00:04<00:30, 28.42it/s]"
     ]
    },
    {
     "name": "stdout",
     "output_type": "stream",
     "text": [
      "iteration 120, reconstruction error 5207554.035535\n"
     ]
    },
    {
     "name": "stderr",
     "output_type": "stream",
     "text": [
      " 14%|█▎        | 135/1000 [00:04<00:29, 29.43it/s]"
     ]
    },
    {
     "name": "stdout",
     "output_type": "stream",
     "text": [
      "iteration 130, reconstruction error 5167201.464704\n"
     ]
    },
    {
     "name": "stderr",
     "output_type": "stream",
     "text": [
      " 14%|█▍        | 145/1000 [00:04<00:29, 29.32it/s]"
     ]
    },
    {
     "name": "stdout",
     "output_type": "stream",
     "text": [
      "iteration 140, reconstruction error 5137798.426176\n"
     ]
    },
    {
     "name": "stderr",
     "output_type": "stream",
     "text": [
      " 16%|█▌        | 156/1000 [00:05<00:28, 29.30it/s]"
     ]
    },
    {
     "name": "stdout",
     "output_type": "stream",
     "text": [
      "iteration 150, reconstruction error 5115052.219459\n"
     ]
    },
    {
     "name": "stderr",
     "output_type": "stream",
     "text": [
      " 17%|█▋        | 167/1000 [00:05<00:28, 29.72it/s]"
     ]
    },
    {
     "name": "stdout",
     "output_type": "stream",
     "text": [
      "iteration 160, reconstruction error 5096553.185997\n"
     ]
    },
    {
     "name": "stderr",
     "output_type": "stream",
     "text": [
      " 18%|█▊        | 175/1000 [00:05<00:27, 29.93it/s]"
     ]
    },
    {
     "name": "stdout",
     "output_type": "stream",
     "text": [
      "iteration 170, reconstruction error 5080829.414093\n"
     ]
    },
    {
     "name": "stderr",
     "output_type": "stream",
     "text": [
      " 19%|█▊        | 187/1000 [00:06<00:27, 30.08it/s]"
     ]
    },
    {
     "name": "stdout",
     "output_type": "stream",
     "text": [
      "iteration 180, reconstruction error 5067037.573821\n"
     ]
    },
    {
     "name": "stderr",
     "output_type": "stream",
     "text": [
      " 20%|█▉        | 195/1000 [00:06<00:26, 29.90it/s]"
     ]
    },
    {
     "name": "stdout",
     "output_type": "stream",
     "text": [
      "iteration 190, reconstruction error 5054664.577455\n"
     ]
    },
    {
     "name": "stderr",
     "output_type": "stream",
     "text": [
      " 21%|██        | 207/1000 [00:07<00:26, 29.73it/s]"
     ]
    },
    {
     "name": "stdout",
     "output_type": "stream",
     "text": [
      "iteration 200, reconstruction error 5043354.878913\n"
     ]
    },
    {
     "name": "stderr",
     "output_type": "stream",
     "text": [
      " 22%|██▏       | 215/1000 [00:07<00:26, 29.82it/s]"
     ]
    },
    {
     "name": "stdout",
     "output_type": "stream",
     "text": [
      "iteration 210, reconstruction error 5032868.318840\n"
     ]
    },
    {
     "name": "stderr",
     "output_type": "stream",
     "text": [
      " 22%|██▎       | 225/1000 [00:07<00:25, 29.83it/s]"
     ]
    },
    {
     "name": "stdout",
     "output_type": "stream",
     "text": [
      "iteration 220, reconstruction error 5023091.997394\n"
     ]
    },
    {
     "name": "stderr",
     "output_type": "stream",
     "text": [
      " 24%|██▎       | 237/1000 [00:08<00:25, 30.23it/s]"
     ]
    },
    {
     "name": "stdout",
     "output_type": "stream",
     "text": [
      "iteration 230, reconstruction error 5013903.217081\n"
     ]
    },
    {
     "name": "stderr",
     "output_type": "stream",
     "text": [
      " 24%|██▍       | 245/1000 [00:08<00:25, 29.83it/s]"
     ]
    },
    {
     "name": "stdout",
     "output_type": "stream",
     "text": [
      "iteration 240, reconstruction error 5005237.726572\n"
     ]
    },
    {
     "name": "stderr",
     "output_type": "stream",
     "text": [
      " 26%|██▌       | 257/1000 [00:08<00:24, 30.23it/s]"
     ]
    },
    {
     "name": "stdout",
     "output_type": "stream",
     "text": [
      "iteration 250, reconstruction error 4997031.478708\n"
     ]
    },
    {
     "name": "stderr",
     "output_type": "stream",
     "text": [
      " 26%|██▋       | 265/1000 [00:08<00:24, 29.85it/s]"
     ]
    },
    {
     "name": "stdout",
     "output_type": "stream",
     "text": [
      "iteration 260, reconstruction error 4989289.099098\n"
     ]
    },
    {
     "name": "stderr",
     "output_type": "stream",
     "text": [
      " 28%|██▊       | 277/1000 [00:09<00:24, 29.98it/s]"
     ]
    },
    {
     "name": "stdout",
     "output_type": "stream",
     "text": [
      "iteration 270, reconstruction error 4982010.387539\n"
     ]
    },
    {
     "name": "stderr",
     "output_type": "stream",
     "text": [
      " 28%|██▊       | 285/1000 [00:09<00:24, 29.58it/s]"
     ]
    },
    {
     "name": "stdout",
     "output_type": "stream",
     "text": [
      "iteration 280, reconstruction error 4975140.593719\n"
     ]
    },
    {
     "name": "stderr",
     "output_type": "stream",
     "text": [
      " 30%|██▉       | 296/1000 [00:10<00:23, 29.62it/s]"
     ]
    },
    {
     "name": "stdout",
     "output_type": "stream",
     "text": [
      "iteration 290, reconstruction error 4968529.085294\n"
     ]
    },
    {
     "name": "stderr",
     "output_type": "stream",
     "text": [
      " 31%|███       | 307/1000 [00:10<00:23, 29.33it/s]"
     ]
    },
    {
     "name": "stdout",
     "output_type": "stream",
     "text": [
      "iteration 300, reconstruction error 4962159.463311\n"
     ]
    },
    {
     "name": "stderr",
     "output_type": "stream",
     "text": [
      " 32%|███▏      | 315/1000 [00:10<00:22, 30.00it/s]"
     ]
    },
    {
     "name": "stdout",
     "output_type": "stream",
     "text": [
      "iteration 310, reconstruction error 4956026.892730\n"
     ]
    },
    {
     "name": "stderr",
     "output_type": "stream",
     "text": [
      " 33%|███▎      | 327/1000 [00:11<00:21, 30.81it/s]"
     ]
    },
    {
     "name": "stdout",
     "output_type": "stream",
     "text": [
      "iteration 320, reconstruction error 4950109.083534\n"
     ]
    },
    {
     "name": "stderr",
     "output_type": "stream",
     "text": [
      " 34%|███▎      | 335/1000 [00:11<00:21, 30.39it/s]"
     ]
    },
    {
     "name": "stdout",
     "output_type": "stream",
     "text": [
      "iteration 330, reconstruction error 4944391.510579\n"
     ]
    },
    {
     "name": "stderr",
     "output_type": "stream",
     "text": [
      " 35%|███▍      | 347/1000 [00:11<00:21, 30.71it/s]"
     ]
    },
    {
     "name": "stdout",
     "output_type": "stream",
     "text": [
      "iteration 340, reconstruction error 4938896.035458\n"
     ]
    },
    {
     "name": "stderr",
     "output_type": "stream",
     "text": [
      " 36%|███▌      | 355/1000 [00:12<00:21, 30.54it/s]"
     ]
    },
    {
     "name": "stdout",
     "output_type": "stream",
     "text": [
      "iteration 350, reconstruction error 4933611.119795\n"
     ]
    },
    {
     "name": "stderr",
     "output_type": "stream",
     "text": [
      " 37%|███▋      | 367/1000 [00:12<00:20, 30.61it/s]"
     ]
    },
    {
     "name": "stdout",
     "output_type": "stream",
     "text": [
      "iteration 360, reconstruction error 4928565.339656\n"
     ]
    },
    {
     "name": "stderr",
     "output_type": "stream",
     "text": [
      " 37%|███▋      | 374/1000 [00:12<00:21, 29.36it/s]"
     ]
    },
    {
     "name": "stdout",
     "output_type": "stream",
     "text": [
      "iteration 370, reconstruction error 4923755.492358\n"
     ]
    },
    {
     "name": "stderr",
     "output_type": "stream",
     "text": [
      " 38%|███▊      | 385/1000 [00:13<00:22, 27.72it/s]"
     ]
    },
    {
     "name": "stdout",
     "output_type": "stream",
     "text": [
      "iteration 380, reconstruction error 4919162.081626\n"
     ]
    },
    {
     "name": "stderr",
     "output_type": "stream",
     "text": [
      " 40%|███▉      | 395/1000 [00:13<00:21, 27.86it/s]"
     ]
    },
    {
     "name": "stdout",
     "output_type": "stream",
     "text": [
      "iteration 390, reconstruction error 4914768.407424\n"
     ]
    },
    {
     "name": "stderr",
     "output_type": "stream",
     "text": [
      " 40%|████      | 404/1000 [00:13<00:22, 26.32it/s]"
     ]
    },
    {
     "name": "stdout",
     "output_type": "stream",
     "text": [
      "iteration 400, reconstruction error 4910555.539636\n"
     ]
    },
    {
     "name": "stderr",
     "output_type": "stream",
     "text": [
      " 41%|████▏     | 414/1000 [00:14<00:23, 25.45it/s]"
     ]
    },
    {
     "name": "stdout",
     "output_type": "stream",
     "text": [
      "iteration 410, reconstruction error 4906520.031144\n"
     ]
    },
    {
     "name": "stderr",
     "output_type": "stream",
     "text": [
      " 42%|████▎     | 425/1000 [00:14<00:20, 28.46it/s]"
     ]
    },
    {
     "name": "stdout",
     "output_type": "stream",
     "text": [
      "iteration 420, reconstruction error 4902645.910203\n"
     ]
    },
    {
     "name": "stderr",
     "output_type": "stream",
     "text": [
      " 44%|████▎     | 436/1000 [00:14<00:19, 29.25it/s]"
     ]
    },
    {
     "name": "stdout",
     "output_type": "stream",
     "text": [
      "iteration 430, reconstruction error 4898914.415036\n"
     ]
    },
    {
     "name": "stderr",
     "output_type": "stream",
     "text": [
      " 45%|████▍     | 446/1000 [00:15<00:18, 29.20it/s]"
     ]
    },
    {
     "name": "stdout",
     "output_type": "stream",
     "text": [
      "iteration 440, reconstruction error 4895313.457082\n"
     ]
    },
    {
     "name": "stderr",
     "output_type": "stream",
     "text": [
      " 46%|████▌     | 456/1000 [00:15<00:19, 28.60it/s]"
     ]
    },
    {
     "name": "stdout",
     "output_type": "stream",
     "text": [
      "iteration 450, reconstruction error 4891828.357652\n"
     ]
    },
    {
     "name": "stderr",
     "output_type": "stream",
     "text": [
      " 47%|████▋     | 467/1000 [00:15<00:18, 29.40it/s]"
     ]
    },
    {
     "name": "stdout",
     "output_type": "stream",
     "text": [
      "iteration 460, reconstruction error 4888531.185011\n"
     ]
    },
    {
     "name": "stderr",
     "output_type": "stream",
     "text": [
      " 48%|████▊     | 476/1000 [00:16<00:18, 28.32it/s]"
     ]
    },
    {
     "name": "stdout",
     "output_type": "stream",
     "text": [
      "iteration 470, reconstruction error 4885353.880846\n"
     ]
    },
    {
     "name": "stderr",
     "output_type": "stream",
     "text": [
      " 49%|████▊     | 486/1000 [00:16<00:17, 28.83it/s]"
     ]
    },
    {
     "name": "stdout",
     "output_type": "stream",
     "text": [
      "iteration 480, reconstruction error 4882277.908136\n"
     ]
    },
    {
     "name": "stderr",
     "output_type": "stream",
     "text": [
      " 50%|████▉     | 497/1000 [00:17<00:17, 29.32it/s]"
     ]
    },
    {
     "name": "stdout",
     "output_type": "stream",
     "text": [
      "iteration 490, reconstruction error 4879306.053354\n"
     ]
    },
    {
     "name": "stderr",
     "output_type": "stream",
     "text": [
      " 50%|█████     | 503/1000 [00:17<00:19, 25.41it/s]"
     ]
    },
    {
     "name": "stdout",
     "output_type": "stream",
     "text": [
      "iteration 500, reconstruction error 4876446.647021\n"
     ]
    },
    {
     "name": "stderr",
     "output_type": "stream",
     "text": [
      " 52%|█████▏    | 516/1000 [00:17<00:17, 27.34it/s]"
     ]
    },
    {
     "name": "stdout",
     "output_type": "stream",
     "text": [
      "iteration 510, reconstruction error 4873687.617091\n"
     ]
    },
    {
     "name": "stderr",
     "output_type": "stream",
     "text": [
      " 53%|█████▎    | 527/1000 [00:18<00:16, 28.61it/s]"
     ]
    },
    {
     "name": "stdout",
     "output_type": "stream",
     "text": [
      "iteration 520, reconstruction error 4871014.952642\n"
     ]
    },
    {
     "name": "stderr",
     "output_type": "stream",
     "text": [
      " 54%|█████▎    | 536/1000 [00:18<00:18, 25.45it/s]"
     ]
    },
    {
     "name": "stdout",
     "output_type": "stream",
     "text": [
      "iteration 530, reconstruction error 4868424.731505\n"
     ]
    },
    {
     "name": "stderr",
     "output_type": "stream",
     "text": [
      " 55%|█████▍    | 546/1000 [00:18<00:16, 28.30it/s]"
     ]
    },
    {
     "name": "stdout",
     "output_type": "stream",
     "text": [
      "iteration 540, reconstruction error 4865907.160575\n"
     ]
    },
    {
     "name": "stderr",
     "output_type": "stream",
     "text": [
      " 56%|█████▌    | 556/1000 [00:19<00:15, 28.74it/s]"
     ]
    },
    {
     "name": "stdout",
     "output_type": "stream",
     "text": [
      "iteration 550, reconstruction error 4863455.349054\n"
     ]
    },
    {
     "name": "stderr",
     "output_type": "stream",
     "text": [
      " 56%|█████▋    | 563/1000 [00:19<00:16, 26.42it/s]"
     ]
    },
    {
     "name": "stdout",
     "output_type": "stream",
     "text": [
      "iteration 560, reconstruction error 4861064.107202\n"
     ]
    },
    {
     "name": "stderr",
     "output_type": "stream",
     "text": [
      " 57%|█████▊    | 575/1000 [00:19<00:16, 25.00it/s]"
     ]
    },
    {
     "name": "stdout",
     "output_type": "stream",
     "text": [
      "iteration 570, reconstruction error 4858727.586710\n"
     ]
    },
    {
     "name": "stderr",
     "output_type": "stream",
     "text": [
      " 58%|█████▊    | 584/1000 [00:20<00:16, 24.88it/s]"
     ]
    },
    {
     "name": "stdout",
     "output_type": "stream",
     "text": [
      "iteration 580, reconstruction error 4856444.875122\n"
     ]
    },
    {
     "name": "stderr",
     "output_type": "stream",
     "text": [
      " 60%|█████▉    | 595/1000 [00:20<00:14, 28.48it/s]"
     ]
    },
    {
     "name": "stdout",
     "output_type": "stream",
     "text": [
      "iteration 590, reconstruction error 4854217.777209\n"
     ]
    },
    {
     "name": "stderr",
     "output_type": "stream",
     "text": [
      " 61%|██████    | 606/1000 [00:21<00:13, 29.23it/s]"
     ]
    },
    {
     "name": "stdout",
     "output_type": "stream",
     "text": [
      "iteration 600, reconstruction error 4852038.681691\n"
     ]
    },
    {
     "name": "stderr",
     "output_type": "stream",
     "text": [
      " 62%|██████▏   | 616/1000 [00:21<00:13, 29.52it/s]"
     ]
    },
    {
     "name": "stdout",
     "output_type": "stream",
     "text": [
      "iteration 610, reconstruction error 4849913.583710\n"
     ]
    },
    {
     "name": "stderr",
     "output_type": "stream",
     "text": [
      " 63%|██████▎   | 627/1000 [00:21<00:12, 29.82it/s]"
     ]
    },
    {
     "name": "stdout",
     "output_type": "stream",
     "text": [
      "iteration 620, reconstruction error 4847843.134163\n"
     ]
    },
    {
     "name": "stderr",
     "output_type": "stream",
     "text": [
      " 64%|██████▎   | 637/1000 [00:22<00:12, 29.63it/s]"
     ]
    },
    {
     "name": "stdout",
     "output_type": "stream",
     "text": [
      "iteration 630, reconstruction error 4845821.884730\n"
     ]
    },
    {
     "name": "stderr",
     "output_type": "stream",
     "text": [
      " 64%|██████▍   | 645/1000 [00:22<00:11, 29.74it/s]"
     ]
    },
    {
     "name": "stdout",
     "output_type": "stream",
     "text": [
      "iteration 640, reconstruction error 4843858.858569\n"
     ]
    },
    {
     "name": "stderr",
     "output_type": "stream",
     "text": [
      " 66%|██████▌   | 657/1000 [00:22<00:11, 30.23it/s]"
     ]
    },
    {
     "name": "stdout",
     "output_type": "stream",
     "text": [
      "iteration 650, reconstruction error 4841942.697564\n"
     ]
    },
    {
     "name": "stderr",
     "output_type": "stream",
     "text": [
      " 66%|██████▋   | 665/1000 [00:23<00:11, 30.18it/s]"
     ]
    },
    {
     "name": "stdout",
     "output_type": "stream",
     "text": [
      "iteration 660, reconstruction error 4840080.585606\n"
     ]
    },
    {
     "name": "stderr",
     "output_type": "stream",
     "text": [
      " 68%|██████▊   | 677/1000 [00:23<00:10, 30.46it/s]"
     ]
    },
    {
     "name": "stdout",
     "output_type": "stream",
     "text": [
      "iteration 670, reconstruction error 4838277.407302\n"
     ]
    },
    {
     "name": "stderr",
     "output_type": "stream",
     "text": [
      " 68%|██████▊   | 685/1000 [00:23<00:10, 30.42it/s]"
     ]
    },
    {
     "name": "stdout",
     "output_type": "stream",
     "text": [
      "iteration 680, reconstruction error 4836523.547568\n"
     ]
    },
    {
     "name": "stderr",
     "output_type": "stream",
     "text": [
      " 70%|██████▉   | 697/1000 [00:24<00:09, 30.64it/s]"
     ]
    },
    {
     "name": "stdout",
     "output_type": "stream",
     "text": [
      "iteration 690, reconstruction error 4834816.133876\n"
     ]
    },
    {
     "name": "stderr",
     "output_type": "stream",
     "text": [
      " 70%|███████   | 705/1000 [00:24<00:09, 30.52it/s]"
     ]
    },
    {
     "name": "stdout",
     "output_type": "stream",
     "text": [
      "iteration 700, reconstruction error 4833151.160454\n"
     ]
    },
    {
     "name": "stderr",
     "output_type": "stream",
     "text": [
      " 72%|███████▏  | 716/1000 [00:24<00:09, 28.69it/s]"
     ]
    },
    {
     "name": "stdout",
     "output_type": "stream",
     "text": [
      "iteration 710, reconstruction error 4831526.551395\n"
     ]
    },
    {
     "name": "stderr",
     "output_type": "stream",
     "text": [
      " 73%|███████▎  | 727/1000 [00:25<00:09, 29.83it/s]"
     ]
    },
    {
     "name": "stdout",
     "output_type": "stream",
     "text": [
      "iteration 720, reconstruction error 4829939.415823\n"
     ]
    },
    {
     "name": "stderr",
     "output_type": "stream",
     "text": [
      " 74%|███████▎  | 735/1000 [00:25<00:08, 29.98it/s]"
     ]
    },
    {
     "name": "stdout",
     "output_type": "stream",
     "text": [
      "iteration 730, reconstruction error 4828388.198913\n"
     ]
    },
    {
     "name": "stderr",
     "output_type": "stream",
     "text": [
      " 75%|███████▍  | 747/1000 [00:25<00:08, 30.05it/s]"
     ]
    },
    {
     "name": "stdout",
     "output_type": "stream",
     "text": [
      "iteration 740, reconstruction error 4826874.969459\n"
     ]
    },
    {
     "name": "stderr",
     "output_type": "stream",
     "text": [
      " 76%|███████▌  | 755/1000 [00:26<00:08, 30.28it/s]"
     ]
    },
    {
     "name": "stdout",
     "output_type": "stream",
     "text": [
      "iteration 750, reconstruction error 4825399.988475\n"
     ]
    },
    {
     "name": "stderr",
     "output_type": "stream",
     "text": [
      " 77%|███████▋  | 767/1000 [00:26<00:07, 30.76it/s]"
     ]
    },
    {
     "name": "stdout",
     "output_type": "stream",
     "text": [
      "iteration 760, reconstruction error 4823966.546769\n"
     ]
    },
    {
     "name": "stderr",
     "output_type": "stream",
     "text": [
      " 78%|███████▊  | 775/1000 [00:26<00:07, 30.45it/s]"
     ]
    },
    {
     "name": "stdout",
     "output_type": "stream",
     "text": [
      "iteration 770, reconstruction error 4822580.499146\n"
     ]
    },
    {
     "name": "stderr",
     "output_type": "stream",
     "text": [
      " 79%|███████▊  | 787/1000 [00:27<00:06, 30.61it/s]"
     ]
    },
    {
     "name": "stdout",
     "output_type": "stream",
     "text": [
      "iteration 780, reconstruction error 4821238.895789\n"
     ]
    },
    {
     "name": "stderr",
     "output_type": "stream",
     "text": [
      " 79%|███████▉  | 794/1000 [00:27<00:06, 29.63it/s]"
     ]
    },
    {
     "name": "stdout",
     "output_type": "stream",
     "text": [
      "iteration 790, reconstruction error 4819943.540898\n"
     ]
    },
    {
     "name": "stderr",
     "output_type": "stream",
     "text": [
      " 80%|████████  | 805/1000 [00:27<00:06, 29.98it/s]"
     ]
    },
    {
     "name": "stdout",
     "output_type": "stream",
     "text": [
      "iteration 800, reconstruction error 4818695.990462\n"
     ]
    },
    {
     "name": "stderr",
     "output_type": "stream",
     "text": [
      " 82%|████████▏ | 817/1000 [00:28<00:06, 30.48it/s]"
     ]
    },
    {
     "name": "stdout",
     "output_type": "stream",
     "text": [
      "iteration 810, reconstruction error 4817485.938577\n"
     ]
    },
    {
     "name": "stderr",
     "output_type": "stream",
     "text": [
      " 82%|████████▎ | 825/1000 [00:28<00:05, 30.04it/s]"
     ]
    },
    {
     "name": "stdout",
     "output_type": "stream",
     "text": [
      "iteration 820, reconstruction error 4816303.729305\n"
     ]
    },
    {
     "name": "stderr",
     "output_type": "stream",
     "text": [
      " 84%|████████▎ | 837/1000 [00:28<00:05, 30.56it/s]"
     ]
    },
    {
     "name": "stdout",
     "output_type": "stream",
     "text": [
      "iteration 830, reconstruction error 4815146.760406\n"
     ]
    },
    {
     "name": "stderr",
     "output_type": "stream",
     "text": [
      " 84%|████████▍ | 845/1000 [00:29<00:05, 30.40it/s]"
     ]
    },
    {
     "name": "stdout",
     "output_type": "stream",
     "text": [
      "iteration 840, reconstruction error 4814008.458450\n"
     ]
    },
    {
     "name": "stderr",
     "output_type": "stream",
     "text": [
      " 86%|████████▌ | 857/1000 [00:29<00:04, 30.72it/s]"
     ]
    },
    {
     "name": "stdout",
     "output_type": "stream",
     "text": [
      "iteration 850, reconstruction error 4812886.492464\n"
     ]
    },
    {
     "name": "stderr",
     "output_type": "stream",
     "text": [
      " 86%|████████▋ | 865/1000 [00:29<00:04, 30.45it/s]"
     ]
    },
    {
     "name": "stdout",
     "output_type": "stream",
     "text": [
      "iteration 860, reconstruction error 4811778.401586\n"
     ]
    },
    {
     "name": "stderr",
     "output_type": "stream",
     "text": [
      " 88%|████████▊ | 877/1000 [00:30<00:04, 30.67it/s]"
     ]
    },
    {
     "name": "stdout",
     "output_type": "stream",
     "text": [
      "iteration 870, reconstruction error 4810691.458183\n"
     ]
    },
    {
     "name": "stderr",
     "output_type": "stream",
     "text": [
      " 88%|████████▊ | 885/1000 [00:30<00:03, 30.27it/s]"
     ]
    },
    {
     "name": "stdout",
     "output_type": "stream",
     "text": [
      "iteration 880, reconstruction error 4809647.805291\n"
     ]
    },
    {
     "name": "stderr",
     "output_type": "stream",
     "text": [
      " 90%|████████▉ | 897/1000 [00:30<00:03, 30.53it/s]"
     ]
    },
    {
     "name": "stdout",
     "output_type": "stream",
     "text": [
      "iteration 890, reconstruction error 4808618.391277\n"
     ]
    },
    {
     "name": "stderr",
     "output_type": "stream",
     "text": [
      " 90%|█████████ | 905/1000 [00:31<00:03, 30.25it/s]"
     ]
    },
    {
     "name": "stdout",
     "output_type": "stream",
     "text": [
      "iteration 900, reconstruction error 4807599.155517\n"
     ]
    },
    {
     "name": "stderr",
     "output_type": "stream",
     "text": [
      " 92%|█████████▏| 917/1000 [00:31<00:02, 29.98it/s]"
     ]
    },
    {
     "name": "stdout",
     "output_type": "stream",
     "text": [
      "iteration 910, reconstruction error 4806588.422263\n"
     ]
    },
    {
     "name": "stderr",
     "output_type": "stream",
     "text": [
      " 92%|█████████▎| 925/1000 [00:31<00:02, 29.98it/s]"
     ]
    },
    {
     "name": "stdout",
     "output_type": "stream",
     "text": [
      "iteration 920, reconstruction error 4805585.116588\n"
     ]
    },
    {
     "name": "stderr",
     "output_type": "stream",
     "text": [
      " 94%|█████████▎| 937/1000 [00:32<00:02, 30.44it/s]"
     ]
    },
    {
     "name": "stdout",
     "output_type": "stream",
     "text": [
      "iteration 930, reconstruction error 4804588.278411\n"
     ]
    },
    {
     "name": "stderr",
     "output_type": "stream",
     "text": [
      " 94%|█████████▍| 945/1000 [00:32<00:01, 30.19it/s]"
     ]
    },
    {
     "name": "stdout",
     "output_type": "stream",
     "text": [
      "iteration 940, reconstruction error 4803597.208270\n"
     ]
    },
    {
     "name": "stderr",
     "output_type": "stream",
     "text": [
      " 96%|█████████▌| 957/1000 [00:32<00:01, 30.46it/s]"
     ]
    },
    {
     "name": "stdout",
     "output_type": "stream",
     "text": [
      "iteration 950, reconstruction error 4802612.664499\n"
     ]
    },
    {
     "name": "stderr",
     "output_type": "stream",
     "text": [
      " 96%|█████████▋| 965/1000 [00:33<00:01, 30.01it/s]"
     ]
    },
    {
     "name": "stdout",
     "output_type": "stream",
     "text": [
      "iteration 960, reconstruction error 4801633.193246\n"
     ]
    },
    {
     "name": "stderr",
     "output_type": "stream",
     "text": [
      " 98%|█████████▊| 977/1000 [00:33<00:00, 29.99it/s]"
     ]
    },
    {
     "name": "stdout",
     "output_type": "stream",
     "text": [
      "iteration 970, reconstruction error 4800658.214824\n"
     ]
    },
    {
     "name": "stderr",
     "output_type": "stream",
     "text": [
      " 98%|█████████▊| 984/1000 [00:33<00:00, 28.78it/s]"
     ]
    },
    {
     "name": "stdout",
     "output_type": "stream",
     "text": [
      "iteration 980, reconstruction error 4799687.723466\n"
     ]
    },
    {
     "name": "stderr",
     "output_type": "stream",
     "text": [
      "100%|█████████▉| 995/1000 [00:34<00:00, 29.62it/s]"
     ]
    },
    {
     "name": "stdout",
     "output_type": "stream",
     "text": [
      "iteration 990, reconstruction error 4798721.711946\n"
     ]
    },
    {
     "name": "stderr",
     "output_type": "stream",
     "text": [
      "100%|██████████| 1000/1000 [00:34<00:00, 29.17it/s]\n"
     ]
    }
   ],
   "source": [
    "W_true, H = ALS(X=X_true, \n",
    "           n_components=16, # Reconstruction Error reduces as n_components increases\n",
    "           n_iter=1000, \n",
    "           a0 = 0, # L1 regularizer for H\n",
    "           a1 = 0, # L1 regularizer for W\n",
    "           a12 = 0, # L2 regularizer for W\n",
    "           H_nonnegativity=True,\n",
    "           W_nonnegativity=True,\n",
    "           compute_recons_error=True,\n",
    "           subsample_ratio=1)"
   ]
  },
  {
   "cell_type": "code",
   "execution_count": 257,
   "id": "449c4ee5",
   "metadata": {},
   "outputs": [
    {
     "data": {
      "text/plain": [
       "(400, 16)"
      ]
     },
     "execution_count": 257,
     "metadata": {},
     "output_type": "execute_result"
    }
   ],
   "source": [
    "W_false[108:508,:].shape"
   ]
  },
  {
   "cell_type": "code",
   "execution_count": 258,
   "id": "263db084",
   "metadata": {},
   "outputs": [
    {
     "data": {
      "image/png": "[encoded data removed]",
      "text/plain": [
       "<Figure size 720x720 with 16 Axes>"
      ]
     },
     "metadata": {},
     "output_type": "display_data"
    }
   ],
   "source": [
    "display_dictionary(W_false[108:508,:], figsize=[10,10])"
   ]
  },
  {
   "cell_type": "code",
   "execution_count": 259,
   "id": "7eb5c7dd",
   "metadata": {},
   "outputs": [
    {
     "data": {
      "image/png": "[encoded data removed]",
      "text/plain": [
       "<Figure size 720x720 with 16 Axes>"
      ]
     },
     "metadata": {},
     "output_type": "display_data"
    }
   ],
   "source": [
    "display_dictionary(W_true[108:508,:], figsize=[10,10])"
   ]
  },
  {
   "cell_type": "code",
   "execution_count": 269,
   "id": "ccc4ba6b",
   "metadata": {},
   "outputs": [
    {
     "data": {
      "image/png": "[encoded data removed]",
      "text/plain": [
       "<Figure size 648x432 with 2 Axes>"
      ]
     },
     "metadata": {
      "needs_background": "light"
     },
     "output_type": "display_data"
    }
   ],
   "source": [
    "import matplotlib.pyplot as plt\n",
    "\n",
    "fig, axs = plt.subplots(nrows=1, ncols=2, figsize=(9, 6),\n",
    "                        subplot_kw={'xticks': [], 'yticks': []})\n",
    "\n",
    "axs[1].set_yticks(np.arange(8) + 0.1, minor=False)\n",
    "\n",
    "axs[0].imshow(W_false[0:8,:], cmap='viridis')\n",
    "axs[0].set_title(\"Not Synchronized\")\n",
    "axs[1].imshow(W_true[0:8,:], cmap='viridis')\n",
    "axs[1].set_title(\"Synchronized\")\n",
    "\n",
    "row_labels = df.columns[0:8]\n",
    "axs[1].set_yticklabels(row_labels, minor=False)\n",
    "\n",
    "plt.show()"
   ]
  },
  {
   "cell_type": "code",
   "execution_count": 277,
   "id": "36372c88",
   "metadata": {},
   "outputs": [
    {
     "data": {
      "text/html": [
       "<div>\n",
       "<style scoped>\n",
       "    .dataframe tbody tr th:only-of-type {\n",
       "        vertical-align: middle;\n",
       "    }\n",
       "\n",
       "    .dataframe tbody tr th {\n",
       "        vertical-align: top;\n",
       "    }\n",
       "\n",
       "    .dataframe thead th {\n",
       "        text-align: right;\n",
       "    }\n",
       "</style>\n",
       "<table border=\"1\" class=\"dataframe\">\n",
       "  <thead>\n",
       "    <tr style=\"text-align: right;\">\n",
       "      <th></th>\n",
       "      <th>0</th>\n",
       "      <th>1</th>\n",
       "      <th>2</th>\n",
       "      <th>3</th>\n",
       "      <th>4</th>\n",
       "      <th>5</th>\n",
       "      <th>6</th>\n",
       "      <th>7</th>\n",
       "      <th>8</th>\n",
       "      <th>9</th>\n",
       "      <th>10</th>\n",
       "      <th>11</th>\n",
       "      <th>12</th>\n",
       "      <th>13</th>\n",
       "      <th>14</th>\n",
       "      <th>15</th>\n",
       "    </tr>\n",
       "  </thead>\n",
       "  <tbody>\n",
       "    <tr>\n",
       "      <th>count</th>\n",
       "      <td>400.000000</td>\n",
       "      <td>400.000000</td>\n",
       "      <td>400.000000</td>\n",
       "      <td>400.000000</td>\n",
       "      <td>400.000000</td>\n",
       "      <td>400.000000</td>\n",
       "      <td>400.000000</td>\n",
       "      <td>400.000000</td>\n",
       "      <td>400.000000</td>\n",
       "      <td>400.000000</td>\n",
       "      <td>400.000000</td>\n",
       "      <td>400.000000</td>\n",
       "      <td>400.000000</td>\n",
       "      <td>4.000000e+02</td>\n",
       "      <td>400.000000</td>\n",
       "      <td>400.000000</td>\n",
       "    </tr>\n",
       "    <tr>\n",
       "      <th>mean</th>\n",
       "      <td>0.001074</td>\n",
       "      <td>0.000290</td>\n",
       "      <td>0.000498</td>\n",
       "      <td>0.000320</td>\n",
       "      <td>0.000309</td>\n",
       "      <td>0.000508</td>\n",
       "      <td>0.000539</td>\n",
       "      <td>0.000283</td>\n",
       "      <td>0.000653</td>\n",
       "      <td>0.000911</td>\n",
       "      <td>0.000346</td>\n",
       "      <td>0.000366</td>\n",
       "      <td>0.000364</td>\n",
       "      <td>2.887480e-04</td>\n",
       "      <td>0.000303</td>\n",
       "      <td>0.000354</td>\n",
       "    </tr>\n",
       "    <tr>\n",
       "      <th>std</th>\n",
       "      <td>0.000586</td>\n",
       "      <td>0.000743</td>\n",
       "      <td>0.000576</td>\n",
       "      <td>0.000829</td>\n",
       "      <td>0.000783</td>\n",
       "      <td>0.000758</td>\n",
       "      <td>0.000589</td>\n",
       "      <td>0.000644</td>\n",
       "      <td>0.000668</td>\n",
       "      <td>0.000608</td>\n",
       "      <td>0.000712</td>\n",
       "      <td>0.000592</td>\n",
       "      <td>0.000665</td>\n",
       "      <td>6.832676e-04</td>\n",
       "      <td>0.000605</td>\n",
       "      <td>0.000769</td>\n",
       "    </tr>\n",
       "    <tr>\n",
       "      <th>min</th>\n",
       "      <td>0.000000</td>\n",
       "      <td>0.000000</td>\n",
       "      <td>0.000000</td>\n",
       "      <td>0.000000</td>\n",
       "      <td>0.000000</td>\n",
       "      <td>0.000000</td>\n",
       "      <td>0.000000</td>\n",
       "      <td>0.000000</td>\n",
       "      <td>0.000000</td>\n",
       "      <td>0.000000</td>\n",
       "      <td>0.000000</td>\n",
       "      <td>0.000000</td>\n",
       "      <td>0.000000</td>\n",
       "      <td>0.000000e+00</td>\n",
       "      <td>0.000000</td>\n",
       "      <td>0.000000</td>\n",
       "    </tr>\n",
       "    <tr>\n",
       "      <th>25%</th>\n",
       "      <td>0.000701</td>\n",
       "      <td>0.000000</td>\n",
       "      <td>0.000000</td>\n",
       "      <td>0.000000</td>\n",
       "      <td>0.000000</td>\n",
       "      <td>0.000000</td>\n",
       "      <td>0.000000</td>\n",
       "      <td>0.000000</td>\n",
       "      <td>0.000040</td>\n",
       "      <td>0.000465</td>\n",
       "      <td>0.000000</td>\n",
       "      <td>0.000000</td>\n",
       "      <td>0.000000</td>\n",
       "      <td>0.000000e+00</td>\n",
       "      <td>0.000000</td>\n",
       "      <td>0.000000</td>\n",
       "    </tr>\n",
       "    <tr>\n",
       "      <th>50%</th>\n",
       "      <td>0.001031</td>\n",
       "      <td>0.000000</td>\n",
       "      <td>0.000313</td>\n",
       "      <td>0.000000</td>\n",
       "      <td>0.000000</td>\n",
       "      <td>0.000177</td>\n",
       "      <td>0.000290</td>\n",
       "      <td>0.000000</td>\n",
       "      <td>0.000525</td>\n",
       "      <td>0.000814</td>\n",
       "      <td>0.000000</td>\n",
       "      <td>0.000000</td>\n",
       "      <td>0.000000</td>\n",
       "      <td>0.000000e+00</td>\n",
       "      <td>0.000000</td>\n",
       "      <td>0.000000</td>\n",
       "    </tr>\n",
       "    <tr>\n",
       "      <th>75%</th>\n",
       "      <td>0.001516</td>\n",
       "      <td>0.000002</td>\n",
       "      <td>0.000747</td>\n",
       "      <td>0.000035</td>\n",
       "      <td>0.000000</td>\n",
       "      <td>0.000641</td>\n",
       "      <td>0.000976</td>\n",
       "      <td>0.000125</td>\n",
       "      <td>0.000879</td>\n",
       "      <td>0.001240</td>\n",
       "      <td>0.000281</td>\n",
       "      <td>0.000554</td>\n",
       "      <td>0.000388</td>\n",
       "      <td>3.966793e-07</td>\n",
       "      <td>0.000316</td>\n",
       "      <td>0.000233</td>\n",
       "    </tr>\n",
       "    <tr>\n",
       "      <th>max</th>\n",
       "      <td>0.002938</td>\n",
       "      <td>0.002521</td>\n",
       "      <td>0.001914</td>\n",
       "      <td>0.002830</td>\n",
       "      <td>0.002627</td>\n",
       "      <td>0.002556</td>\n",
       "      <td>0.002155</td>\n",
       "      <td>0.002174</td>\n",
       "      <td>0.002175</td>\n",
       "      <td>0.002399</td>\n",
       "      <td>0.002334</td>\n",
       "      <td>0.001879</td>\n",
       "      <td>0.002070</td>\n",
       "      <td>2.275012e-03</td>\n",
       "      <td>0.001981</td>\n",
       "      <td>0.002546</td>\n",
       "    </tr>\n",
       "  </tbody>\n",
       "</table>\n",
       "</div>"
      ],
      "text/plain": [
       "               0           1           2           3           4           5   \\\n",
       "count  400.000000  400.000000  400.000000  400.000000  400.000000  400.000000   \n",
       "mean     0.001074    0.000290    0.000498    0.000320    0.000309    0.000508   \n",
       "std      0.000586    0.000743    0.000576    0.000829    0.000783    0.000758   \n",
       "min      0.000000    0.000000    0.000000    0.000000    0.000000    0.000000   \n",
       "25%      0.000701    0.000000    0.000000    0.000000    0.000000    0.000000   \n",
       "50%      0.001031    0.000000    0.000313    0.000000    0.000000    0.000177   \n",
       "75%      0.001516    0.000002    0.000747    0.000035    0.000000    0.000641   \n",
       "max      0.002938    0.002521    0.001914    0.002830    0.002627    0.002556   \n",
       "\n",
       "               6           7           8           9           10          11  \\\n",
       "count  400.000000  400.000000  400.000000  400.000000  400.000000  400.000000   \n",
       "mean     0.000539    0.000283    0.000653    0.000911    0.000346    0.000366   \n",
       "std      0.000589    0.000644    0.000668    0.000608    0.000712    0.000592   \n",
       "min      0.000000    0.000000    0.000000    0.000000    0.000000    0.000000   \n",
       "25%      0.000000    0.000000    0.000040    0.000465    0.000000    0.000000   \n",
       "50%      0.000290    0.000000    0.000525    0.000814    0.000000    0.000000   \n",
       "75%      0.000976    0.000125    0.000879    0.001240    0.000281    0.000554   \n",
       "max      0.002155    0.002174    0.002175    0.002399    0.002334    0.001879   \n",
       "\n",
       "               12            13          14          15  \n",
       "count  400.000000  4.000000e+02  400.000000  400.000000  \n",
       "mean     0.000364  2.887480e-04    0.000303    0.000354  \n",
       "std      0.000665  6.832676e-04    0.000605    0.000769  \n",
       "min      0.000000  0.000000e+00    0.000000    0.000000  \n",
       "25%      0.000000  0.000000e+00    0.000000    0.000000  \n",
       "50%      0.000000  0.000000e+00    0.000000    0.000000  \n",
       "75%      0.000388  3.966793e-07    0.000316    0.000233  \n",
       "max      0.002070  2.275012e-03    0.001981    0.002546  "
      ]
     },
     "execution_count": 277,
     "metadata": {},
     "output_type": "execute_result"
    }
   ],
   "source": [
    "pd.DataFrame(W_false[108:508,:]).describe()"
   ]
  },
  {
   "cell_type": "code",
   "execution_count": 278,
   "id": "c50b9055",
   "metadata": {},
   "outputs": [
    {
     "data": {
      "text/html": [
       "<div>\n",
       "<style scoped>\n",
       "    .dataframe tbody tr th:only-of-type {\n",
       "        vertical-align: middle;\n",
       "    }\n",
       "\n",
       "    .dataframe tbody tr th {\n",
       "        vertical-align: top;\n",
       "    }\n",
       "\n",
       "    .dataframe thead th {\n",
       "        text-align: right;\n",
       "    }\n",
       "</style>\n",
       "<table border=\"1\" class=\"dataframe\">\n",
       "  <thead>\n",
       "    <tr style=\"text-align: right;\">\n",
       "      <th></th>\n",
       "      <th>0</th>\n",
       "      <th>1</th>\n",
       "      <th>2</th>\n",
       "      <th>3</th>\n",
       "      <th>4</th>\n",
       "      <th>5</th>\n",
       "      <th>6</th>\n",
       "      <th>7</th>\n",
       "      <th>8</th>\n",
       "      <th>9</th>\n",
       "      <th>10</th>\n",
       "      <th>11</th>\n",
       "      <th>12</th>\n",
       "      <th>13</th>\n",
       "      <th>14</th>\n",
       "      <th>15</th>\n",
       "    </tr>\n",
       "  </thead>\n",
       "  <tbody>\n",
       "    <tr>\n",
       "      <th>count</th>\n",
       "      <td>400.000000</td>\n",
       "      <td>400.000000</td>\n",
       "      <td>400.000000</td>\n",
       "      <td>400.000000</td>\n",
       "      <td>400.000000</td>\n",
       "      <td>400.000000</td>\n",
       "      <td>400.000000</td>\n",
       "      <td>400.000000</td>\n",
       "      <td>400.000000</td>\n",
       "      <td>400.000000</td>\n",
       "      <td>400.000000</td>\n",
       "      <td>400.000000</td>\n",
       "      <td>400.000000</td>\n",
       "      <td>400.000000</td>\n",
       "      <td>400.000000</td>\n",
       "      <td>400.000000</td>\n",
       "    </tr>\n",
       "    <tr>\n",
       "      <th>mean</th>\n",
       "      <td>0.000472</td>\n",
       "      <td>0.000183</td>\n",
       "      <td>0.000816</td>\n",
       "      <td>0.001331</td>\n",
       "      <td>0.000472</td>\n",
       "      <td>0.000211</td>\n",
       "      <td>0.000191</td>\n",
       "      <td>0.000131</td>\n",
       "      <td>0.000308</td>\n",
       "      <td>0.000186</td>\n",
       "      <td>0.000654</td>\n",
       "      <td>0.000317</td>\n",
       "      <td>0.000877</td>\n",
       "      <td>0.000388</td>\n",
       "      <td>0.000682</td>\n",
       "      <td>0.000302</td>\n",
       "    </tr>\n",
       "    <tr>\n",
       "      <th>std</th>\n",
       "      <td>0.000392</td>\n",
       "      <td>0.000498</td>\n",
       "      <td>0.000371</td>\n",
       "      <td>0.000552</td>\n",
       "      <td>0.000505</td>\n",
       "      <td>0.000606</td>\n",
       "      <td>0.000541</td>\n",
       "      <td>0.000357</td>\n",
       "      <td>0.000893</td>\n",
       "      <td>0.000466</td>\n",
       "      <td>0.000464</td>\n",
       "      <td>0.000769</td>\n",
       "      <td>0.000388</td>\n",
       "      <td>0.000472</td>\n",
       "      <td>0.000350</td>\n",
       "      <td>0.000847</td>\n",
       "    </tr>\n",
       "    <tr>\n",
       "      <th>min</th>\n",
       "      <td>0.000000</td>\n",
       "      <td>0.000000</td>\n",
       "      <td>0.000000</td>\n",
       "      <td>0.000000</td>\n",
       "      <td>0.000000</td>\n",
       "      <td>0.000000</td>\n",
       "      <td>0.000000</td>\n",
       "      <td>0.000000</td>\n",
       "      <td>0.000000</td>\n",
       "      <td>0.000000</td>\n",
       "      <td>0.000000</td>\n",
       "      <td>0.000000</td>\n",
       "      <td>0.000000</td>\n",
       "      <td>0.000000</td>\n",
       "      <td>0.000000</td>\n",
       "      <td>0.000000</td>\n",
       "    </tr>\n",
       "    <tr>\n",
       "      <th>25%</th>\n",
       "      <td>0.000188</td>\n",
       "      <td>0.000000</td>\n",
       "      <td>0.000596</td>\n",
       "      <td>0.001114</td>\n",
       "      <td>0.000158</td>\n",
       "      <td>0.000000</td>\n",
       "      <td>0.000000</td>\n",
       "      <td>0.000000</td>\n",
       "      <td>0.000000</td>\n",
       "      <td>0.000000</td>\n",
       "      <td>0.000377</td>\n",
       "      <td>0.000000</td>\n",
       "      <td>0.000637</td>\n",
       "      <td>0.000036</td>\n",
       "      <td>0.000462</td>\n",
       "      <td>0.000000</td>\n",
       "    </tr>\n",
       "    <tr>\n",
       "      <th>50%</th>\n",
       "      <td>0.000378</td>\n",
       "      <td>0.000000</td>\n",
       "      <td>0.000757</td>\n",
       "      <td>0.001267</td>\n",
       "      <td>0.000319</td>\n",
       "      <td>0.000000</td>\n",
       "      <td>0.000000</td>\n",
       "      <td>0.000000</td>\n",
       "      <td>0.000000</td>\n",
       "      <td>0.000000</td>\n",
       "      <td>0.000516</td>\n",
       "      <td>0.000000</td>\n",
       "      <td>0.000853</td>\n",
       "      <td>0.000228</td>\n",
       "      <td>0.000633</td>\n",
       "      <td>0.000000</td>\n",
       "    </tr>\n",
       "    <tr>\n",
       "      <th>75%</th>\n",
       "      <td>0.000635</td>\n",
       "      <td>0.000000</td>\n",
       "      <td>0.001039</td>\n",
       "      <td>0.001448</td>\n",
       "      <td>0.000542</td>\n",
       "      <td>0.000000</td>\n",
       "      <td>0.000000</td>\n",
       "      <td>0.000000</td>\n",
       "      <td>0.000000</td>\n",
       "      <td>0.000000</td>\n",
       "      <td>0.000792</td>\n",
       "      <td>0.000152</td>\n",
       "      <td>0.001074</td>\n",
       "      <td>0.000481</td>\n",
       "      <td>0.000869</td>\n",
       "      <td>0.000000</td>\n",
       "    </tr>\n",
       "    <tr>\n",
       "      <th>max</th>\n",
       "      <td>0.001555</td>\n",
       "      <td>0.001692</td>\n",
       "      <td>0.001686</td>\n",
       "      <td>0.002612</td>\n",
       "      <td>0.001817</td>\n",
       "      <td>0.002069</td>\n",
       "      <td>0.001841</td>\n",
       "      <td>0.001203</td>\n",
       "      <td>0.003051</td>\n",
       "      <td>0.001539</td>\n",
       "      <td>0.001789</td>\n",
       "      <td>0.002638</td>\n",
       "      <td>0.001820</td>\n",
       "      <td>0.001631</td>\n",
       "      <td>0.001412</td>\n",
       "      <td>0.002895</td>\n",
       "    </tr>\n",
       "  </tbody>\n",
       "</table>\n",
       "</div>"
      ],
      "text/plain": [
       "               0           1           2           3           4           5   \\\n",
       "count  400.000000  400.000000  400.000000  400.000000  400.000000  400.000000   \n",
       "mean     0.000472    0.000183    0.000816    0.001331    0.000472    0.000211   \n",
       "std      0.000392    0.000498    0.000371    0.000552    0.000505    0.000606   \n",
       "min      0.000000    0.000000    0.000000    0.000000    0.000000    0.000000   \n",
       "25%      0.000188    0.000000    0.000596    0.001114    0.000158    0.000000   \n",
       "50%      0.000378    0.000000    0.000757    0.001267    0.000319    0.000000   \n",
       "75%      0.000635    0.000000    0.001039    0.001448    0.000542    0.000000   \n",
       "max      0.001555    0.001692    0.001686    0.002612    0.001817    0.002069   \n",
       "\n",
       "               6           7           8           9           10          11  \\\n",
       "count  400.000000  400.000000  400.000000  400.000000  400.000000  400.000000   \n",
       "mean     0.000191    0.000131    0.000308    0.000186    0.000654    0.000317   \n",
       "std      0.000541    0.000357    0.000893    0.000466    0.000464    0.000769   \n",
       "min      0.000000    0.000000    0.000000    0.000000    0.000000    0.000000   \n",
       "25%      0.000000    0.000000    0.000000    0.000000    0.000377    0.000000   \n",
       "50%      0.000000    0.000000    0.000000    0.000000    0.000516    0.000000   \n",
       "75%      0.000000    0.000000    0.000000    0.000000    0.000792    0.000152   \n",
       "max      0.001841    0.001203    0.003051    0.001539    0.001789    0.002638   \n",
       "\n",
       "               12          13          14          15  \n",
       "count  400.000000  400.000000  400.000000  400.000000  \n",
       "mean     0.000877    0.000388    0.000682    0.000302  \n",
       "std      0.000388    0.000472    0.000350    0.000847  \n",
       "min      0.000000    0.000000    0.000000    0.000000  \n",
       "25%      0.000637    0.000036    0.000462    0.000000  \n",
       "50%      0.000853    0.000228    0.000633    0.000000  \n",
       "75%      0.001074    0.000481    0.000869    0.000000  \n",
       "max      0.001820    0.001631    0.001412    0.002895  "
      ]
     },
     "execution_count": 278,
     "metadata": {},
     "output_type": "execute_result"
    }
   ],
   "source": [
    "pd.DataFrame(W_true[108:508,:]).describe()"
   ]
  },
  {
   "cell_type": "code",
   "execution_count": 279,
   "id": "5db55fa4",
   "metadata": {},
   "outputs": [
    {
     "data": {
      "text/plain": [
       "array([[<AxesSubplot:title={'center':'0'}>,\n",
       "        <AxesSubplot:title={'center':'1'}>,\n",
       "        <AxesSubplot:title={'center':'2'}>,\n",
       "        <AxesSubplot:title={'center':'3'}>],\n",
       "       [<AxesSubplot:title={'center':'4'}>,\n",
       "        <AxesSubplot:title={'center':'5'}>,\n",
       "        <AxesSubplot:title={'center':'6'}>,\n",
       "        <AxesSubplot:title={'center':'7'}>],\n",
       "       [<AxesSubplot:title={'center':'8'}>,\n",
       "        <AxesSubplot:title={'center':'9'}>,\n",
       "        <AxesSubplot:title={'center':'10'}>,\n",
       "        <AxesSubplot:title={'center':'11'}>],\n",
       "       [<AxesSubplot:title={'center':'12'}>,\n",
       "        <AxesSubplot:title={'center':'13'}>,\n",
       "        <AxesSubplot:title={'center':'14'}>,\n",
       "        <AxesSubplot:title={'center':'15'}>]], dtype=object)"
      ]
     },
     "execution_count": 279,
     "metadata": {},
     "output_type": "execute_result"
    },
    {
     "data": {
      "image/png": "[encoded data removed]",
      "text/plain": [
       "<Figure size 432x288 with 16 Axes>"
      ]
     },
     "metadata": {
      "needs_background": "light"
     },
     "output_type": "display_data"
    },
    {
     "data": {
      "image/png": "[encoded data removed]",
      "text/plain": [
       "<Figure size 432x288 with 16 Axes>"
      ]
     },
     "metadata": {
      "needs_background": "light"
     },
     "output_type": "display_data"
    }
   ],
   "source": [
    "pd.DataFrame(W_false[108:508,:]).hist()\n",
    "pd.DataFrame(W_true[108:508,:]).hist()"
   ]
  },
  {
   "cell_type": "code",
   "execution_count": null,
   "id": "1bf543e8",
   "metadata": {},
   "outputs": [],
   "source": []
  },
  {
   "cell_type": "markdown",
   "id": "f8e969bf",
   "metadata": {},
   "source": [
    "## SDL"
   ]
  },
  {
   "cell_type": "code",
   "execution_count": 226,
   "id": "7e528d79",
   "metadata": {},
   "outputs": [],
   "source": [
    "#from SDL_src.LMF import LMF, update_code_within_radius\n",
    "from SDL_src.SNMF import SNMF\n",
    "import pandas as pd\n",
    "from sklearn.metrics import confusion_matrix, precision_score, recall_score, f1_score, accuracy_score\n",
    "from imblearn.under_sampling import RandomUnderSampler\n",
    "from sklearn.model_selection import train_test_split\n",
    "from sklearn.svm import SVC\n",
    "import matplotlib.pyplot as plt\n",
    "import random"
   ]
  },
  {
   "cell_type": "code",
   "execution_count": 227,
   "id": "b84b10ca",
   "metadata": {},
   "outputs": [
    {
     "data": {
      "text/html": [
       "<div>\n",
       "<style scoped>\n",
       "    .dataframe tbody tr th:only-of-type {\n",
       "        vertical-align: middle;\n",
       "    }\n",
       "\n",
       "    .dataframe tbody tr th {\n",
       "        vertical-align: top;\n",
       "    }\n",
       "\n",
       "    .dataframe thead th {\n",
       "        text-align: right;\n",
       "    }\n",
       "</style>\n",
       "<table border=\"1\" class=\"dataframe\">\n",
       "  <thead>\n",
       "    <tr style=\"text-align: right;\">\n",
       "      <th></th>\n",
       "      <th>num_edges</th>\n",
       "      <th>num_nodes</th>\n",
       "      <th>min_degree</th>\n",
       "      <th>max_degree</th>\n",
       "      <th>diameter</th>\n",
       "      <th>quartile_1</th>\n",
       "      <th>quartile_2</th>\n",
       "      <th>quartile_3</th>\n",
       "      <th>y</th>\n",
       "      <th>baseline_width</th>\n",
       "      <th>...</th>\n",
       "      <th>s5_11</th>\n",
       "      <th>s5_12</th>\n",
       "      <th>s5_13</th>\n",
       "      <th>s5_14</th>\n",
       "      <th>s5_15</th>\n",
       "      <th>s5_16</th>\n",
       "      <th>s5_17</th>\n",
       "      <th>s5_18</th>\n",
       "      <th>s5_19</th>\n",
       "      <th>s5_20</th>\n",
       "    </tr>\n",
       "  </thead>\n",
       "  <tbody>\n",
       "    <tr>\n",
       "      <th>0</th>\n",
       "      <td>56</td>\n",
       "      <td>20</td>\n",
       "      <td>1</td>\n",
       "      <td>10</td>\n",
       "      <td>5</td>\n",
       "      <td>2.00</td>\n",
       "      <td>4.0</td>\n",
       "      <td>7.75</td>\n",
       "      <td>True</td>\n",
       "      <td>False</td>\n",
       "      <td>...</td>\n",
       "      <td>4</td>\n",
       "      <td>9</td>\n",
       "      <td>4</td>\n",
       "      <td>7</td>\n",
       "      <td>6</td>\n",
       "      <td>4</td>\n",
       "      <td>1</td>\n",
       "      <td>9</td>\n",
       "      <td>7</td>\n",
       "      <td>4</td>\n",
       "    </tr>\n",
       "    <tr>\n",
       "      <th>1</th>\n",
       "      <td>56</td>\n",
       "      <td>20</td>\n",
       "      <td>1</td>\n",
       "      <td>14</td>\n",
       "      <td>4</td>\n",
       "      <td>1.00</td>\n",
       "      <td>3.5</td>\n",
       "      <td>6.00</td>\n",
       "      <td>True</td>\n",
       "      <td>True</td>\n",
       "      <td>...</td>\n",
       "      <td>5</td>\n",
       "      <td>7</td>\n",
       "      <td>7</td>\n",
       "      <td>8</td>\n",
       "      <td>9</td>\n",
       "      <td>5</td>\n",
       "      <td>6</td>\n",
       "      <td>7</td>\n",
       "      <td>6</td>\n",
       "      <td>4</td>\n",
       "    </tr>\n",
       "    <tr>\n",
       "      <th>2</th>\n",
       "      <td>41</td>\n",
       "      <td>20</td>\n",
       "      <td>1</td>\n",
       "      <td>10</td>\n",
       "      <td>7</td>\n",
       "      <td>3.00</td>\n",
       "      <td>3.5</td>\n",
       "      <td>7.00</td>\n",
       "      <td>True</td>\n",
       "      <td>False</td>\n",
       "      <td>...</td>\n",
       "      <td>7</td>\n",
       "      <td>2</td>\n",
       "      <td>7</td>\n",
       "      <td>0</td>\n",
       "      <td>0</td>\n",
       "      <td>3</td>\n",
       "      <td>7</td>\n",
       "      <td>3</td>\n",
       "      <td>7</td>\n",
       "      <td>7</td>\n",
       "    </tr>\n",
       "    <tr>\n",
       "      <th>3</th>\n",
       "      <td>38</td>\n",
       "      <td>20</td>\n",
       "      <td>1</td>\n",
       "      <td>7</td>\n",
       "      <td>6</td>\n",
       "      <td>2.25</td>\n",
       "      <td>5.0</td>\n",
       "      <td>7.00</td>\n",
       "      <td>True</td>\n",
       "      <td>False</td>\n",
       "      <td>...</td>\n",
       "      <td>5</td>\n",
       "      <td>7</td>\n",
       "      <td>9</td>\n",
       "      <td>6</td>\n",
       "      <td>0</td>\n",
       "      <td>8</td>\n",
       "      <td>8</td>\n",
       "      <td>0</td>\n",
       "      <td>7</td>\n",
       "      <td>9</td>\n",
       "    </tr>\n",
       "    <tr>\n",
       "      <th>4</th>\n",
       "      <td>55</td>\n",
       "      <td>20</td>\n",
       "      <td>1</td>\n",
       "      <td>8</td>\n",
       "      <td>4</td>\n",
       "      <td>3.25</td>\n",
       "      <td>5.0</td>\n",
       "      <td>7.00</td>\n",
       "      <td>True</td>\n",
       "      <td>True</td>\n",
       "      <td>...</td>\n",
       "      <td>5</td>\n",
       "      <td>6</td>\n",
       "      <td>2</td>\n",
       "      <td>7</td>\n",
       "      <td>7</td>\n",
       "      <td>5</td>\n",
       "      <td>8</td>\n",
       "      <td>0</td>\n",
       "      <td>9</td>\n",
       "      <td>5</td>\n",
       "    </tr>\n",
       "    <tr>\n",
       "      <th>...</th>\n",
       "      <td>...</td>\n",
       "      <td>...</td>\n",
       "      <td>...</td>\n",
       "      <td>...</td>\n",
       "      <td>...</td>\n",
       "      <td>...</td>\n",
       "      <td>...</td>\n",
       "      <td>...</td>\n",
       "      <td>...</td>\n",
       "      <td>...</td>\n",
       "      <td>...</td>\n",
       "      <td>...</td>\n",
       "      <td>...</td>\n",
       "      <td>...</td>\n",
       "      <td>...</td>\n",
       "      <td>...</td>\n",
       "      <td>...</td>\n",
       "      <td>...</td>\n",
       "      <td>...</td>\n",
       "      <td>...</td>\n",
       "      <td>...</td>\n",
       "    </tr>\n",
       "    <tr>\n",
       "      <th>9995</th>\n",
       "      <td>30</td>\n",
       "      <td>20</td>\n",
       "      <td>2</td>\n",
       "      <td>5</td>\n",
       "      <td>6</td>\n",
       "      <td>1.25</td>\n",
       "      <td>4.5</td>\n",
       "      <td>6.75</td>\n",
       "      <td>False</td>\n",
       "      <td>False</td>\n",
       "      <td>...</td>\n",
       "      <td>9</td>\n",
       "      <td>9</td>\n",
       "      <td>4</td>\n",
       "      <td>9</td>\n",
       "      <td>5</td>\n",
       "      <td>5</td>\n",
       "      <td>2</td>\n",
       "      <td>8</td>\n",
       "      <td>0</td>\n",
       "      <td>6</td>\n",
       "    </tr>\n",
       "    <tr>\n",
       "      <th>9996</th>\n",
       "      <td>50</td>\n",
       "      <td>20</td>\n",
       "      <td>1</td>\n",
       "      <td>10</td>\n",
       "      <td>5</td>\n",
       "      <td>1.25</td>\n",
       "      <td>4.0</td>\n",
       "      <td>6.00</td>\n",
       "      <td>True</td>\n",
       "      <td>True</td>\n",
       "      <td>...</td>\n",
       "      <td>4</td>\n",
       "      <td>7</td>\n",
       "      <td>4</td>\n",
       "      <td>0</td>\n",
       "      <td>9</td>\n",
       "      <td>7</td>\n",
       "      <td>6</td>\n",
       "      <td>7</td>\n",
       "      <td>9</td>\n",
       "      <td>8</td>\n",
       "    </tr>\n",
       "    <tr>\n",
       "      <th>9997</th>\n",
       "      <td>55</td>\n",
       "      <td>20</td>\n",
       "      <td>2</td>\n",
       "      <td>10</td>\n",
       "      <td>4</td>\n",
       "      <td>3.00</td>\n",
       "      <td>4.0</td>\n",
       "      <td>6.75</td>\n",
       "      <td>True</td>\n",
       "      <td>True</td>\n",
       "      <td>...</td>\n",
       "      <td>6</td>\n",
       "      <td>9</td>\n",
       "      <td>6</td>\n",
       "      <td>9</td>\n",
       "      <td>6</td>\n",
       "      <td>6</td>\n",
       "      <td>5</td>\n",
       "      <td>6</td>\n",
       "      <td>7</td>\n",
       "      <td>8</td>\n",
       "    </tr>\n",
       "    <tr>\n",
       "      <th>9998</th>\n",
       "      <td>46</td>\n",
       "      <td>20</td>\n",
       "      <td>2</td>\n",
       "      <td>9</td>\n",
       "      <td>4</td>\n",
       "      <td>2.00</td>\n",
       "      <td>3.5</td>\n",
       "      <td>5.75</td>\n",
       "      <td>True</td>\n",
       "      <td>True</td>\n",
       "      <td>...</td>\n",
       "      <td>7</td>\n",
       "      <td>7</td>\n",
       "      <td>7</td>\n",
       "      <td>7</td>\n",
       "      <td>5</td>\n",
       "      <td>6</td>\n",
       "      <td>0</td>\n",
       "      <td>1</td>\n",
       "      <td>6</td>\n",
       "      <td>4</td>\n",
       "    </tr>\n",
       "    <tr>\n",
       "      <th>9999</th>\n",
       "      <td>32</td>\n",
       "      <td>20</td>\n",
       "      <td>1</td>\n",
       "      <td>5</td>\n",
       "      <td>5</td>\n",
       "      <td>2.00</td>\n",
       "      <td>4.5</td>\n",
       "      <td>7.75</td>\n",
       "      <td>False</td>\n",
       "      <td>False</td>\n",
       "      <td>...</td>\n",
       "      <td>8</td>\n",
       "      <td>1</td>\n",
       "      <td>8</td>\n",
       "      <td>5</td>\n",
       "      <td>5</td>\n",
       "      <td>5</td>\n",
       "      <td>5</td>\n",
       "      <td>5</td>\n",
       "      <td>7</td>\n",
       "      <td>3</td>\n",
       "    </tr>\n",
       "  </tbody>\n",
       "</table>\n",
       "<p>10000 rows × 110 columns</p>\n",
       "</div>"
      ],
      "text/plain": [
       "      num_edges  num_nodes  min_degree  max_degree  diameter  quartile_1  \\\n",
       "0            56         20           1          10         5        2.00   \n",
       "1            56         20           1          14         4        1.00   \n",
       "2            41         20           1          10         7        3.00   \n",
       "3            38         20           1           7         6        2.25   \n",
       "4            55         20           1           8         4        3.25   \n",
       "...         ...        ...         ...         ...       ...         ...   \n",
       "9995         30         20           2           5         6        1.25   \n",
       "9996         50         20           1          10         5        1.25   \n",
       "9997         55         20           2          10         4        3.00   \n",
       "9998         46         20           2           9         4        2.00   \n",
       "9999         32         20           1           5         5        2.00   \n",
       "\n",
       "      quartile_2  quartile_3      y  baseline_width  ...  s5_11  s5_12  s5_13  \\\n",
       "0            4.0        7.75   True           False  ...      4      9      4   \n",
       "1            3.5        6.00   True            True  ...      5      7      7   \n",
       "2            3.5        7.00   True           False  ...      7      2      7   \n",
       "3            5.0        7.00   True           False  ...      5      7      9   \n",
       "4            5.0        7.00   True            True  ...      5      6      2   \n",
       "...          ...         ...    ...             ...  ...    ...    ...    ...   \n",
       "9995         4.5        6.75  False           False  ...      9      9      4   \n",
       "9996         4.0        6.00   True            True  ...      4      7      4   \n",
       "9997         4.0        6.75   True            True  ...      6      9      6   \n",
       "9998         3.5        5.75   True            True  ...      7      7      7   \n",
       "9999         4.5        7.75  False           False  ...      8      1      8   \n",
       "\n",
       "      s5_14  s5_15  s5_16  s5_17  s5_18  s5_19  s5_20  \n",
       "0         7      6      4      1      9      7      4  \n",
       "1         8      9      5      6      7      6      4  \n",
       "2         0      0      3      7      3      7      7  \n",
       "3         6      0      8      8      0      7      9  \n",
       "4         7      7      5      8      0      9      5  \n",
       "...     ...    ...    ...    ...    ...    ...    ...  \n",
       "9995      9      5      5      2      8      0      6  \n",
       "9996      0      9      7      6      7      9      8  \n",
       "9997      9      6      6      5      6      7      8  \n",
       "9998      7      5      6      0      1      6      4  \n",
       "9999      5      5      5      5      5      7      3  \n",
       "\n",
       "[10000 rows x 110 columns]"
      ]
     },
     "execution_count": 227,
     "metadata": {},
     "output_type": "execute_result"
    }
   ],
   "source": [
    "fileo = open('toy_Caltech36_20walk.pkl', 'rb')\n",
    "X = pickle.load(fileo)\n",
    "fileo.close()\n",
    "df=pd.read_csv(\"toy_Caltech36_20walk.csv\")\n",
    "df"
   ]
  },
  {
   "cell_type": "code",
   "execution_count": 228,
   "id": "3c27f175",
   "metadata": {},
   "outputs": [],
   "source": [
    "df=pd.read_csv(\"toy_Caltech36_20walk.csv\")\n",
    "Y_data = df.y #concentration\n",
    "df.drop('y', axis=1, inplace=True)\n",
    "Y_baseline = df.baseline_width.copy()\n",
    "df['baseline_width'] = df['baseline_width'].astype(int)\n",
    "#df.drop('baseline_width', axis=1, inplace=True)\n",
    "df = pd.concat([df, pd.DataFrame(X.T)], axis=1, join='inner')\n",
    "\n",
    "under_sampler = RandomUnderSampler(random_state=42)\n",
    "X_res, y_res = under_sampler.fit_resample(df, Y_data)\n",
    "X_train, X_test, y_train, y_test = train_test_split(X_res, y_res, \n",
    "                                                    test_size = 0.2, \n",
    "                                                    random_state = 4, \n",
    "                                                    stratify = y_res)"
   ]
  },
  {
   "cell_type": "code",
   "execution_count": 229,
   "id": "9828ff25",
   "metadata": {},
   "outputs": [
    {
     "data": {
      "text/html": [
       "<div>\n",
       "<style scoped>\n",
       "    .dataframe tbody tr th:only-of-type {\n",
       "        vertical-align: middle;\n",
       "    }\n",
       "\n",
       "    .dataframe tbody tr th {\n",
       "        vertical-align: top;\n",
       "    }\n",
       "\n",
       "    .dataframe thead th {\n",
       "        text-align: right;\n",
       "    }\n",
       "</style>\n",
       "<table border=\"1\" class=\"dataframe\">\n",
       "  <thead>\n",
       "    <tr style=\"text-align: right;\">\n",
       "      <th></th>\n",
       "      <th>num_edges</th>\n",
       "      <th>num_nodes</th>\n",
       "      <th>min_degree</th>\n",
       "      <th>max_degree</th>\n",
       "      <th>diameter</th>\n",
       "      <th>quartile_1</th>\n",
       "      <th>quartile_2</th>\n",
       "      <th>quartile_3</th>\n",
       "      <th>baseline_width</th>\n",
       "      <th>s1_1</th>\n",
       "      <th>...</th>\n",
       "      <th>390</th>\n",
       "      <th>391</th>\n",
       "      <th>392</th>\n",
       "      <th>393</th>\n",
       "      <th>394</th>\n",
       "      <th>395</th>\n",
       "      <th>396</th>\n",
       "      <th>397</th>\n",
       "      <th>398</th>\n",
       "      <th>399</th>\n",
       "    </tr>\n",
       "  </thead>\n",
       "  <tbody>\n",
       "    <tr>\n",
       "      <th>994</th>\n",
       "      <td>45</td>\n",
       "      <td>20</td>\n",
       "      <td>2</td>\n",
       "      <td>7</td>\n",
       "      <td>5</td>\n",
       "      <td>1.00</td>\n",
       "      <td>6.5</td>\n",
       "      <td>9.00</td>\n",
       "      <td>1</td>\n",
       "      <td>6</td>\n",
       "      <td>...</td>\n",
       "      <td>0.0</td>\n",
       "      <td>0.0</td>\n",
       "      <td>0.0</td>\n",
       "      <td>1.0</td>\n",
       "      <td>0.0</td>\n",
       "      <td>0.0</td>\n",
       "      <td>0.0</td>\n",
       "      <td>0.0</td>\n",
       "      <td>1.0</td>\n",
       "      <td>0.0</td>\n",
       "    </tr>\n",
       "    <tr>\n",
       "      <th>1419</th>\n",
       "      <td>51</td>\n",
       "      <td>20</td>\n",
       "      <td>2</td>\n",
       "      <td>9</td>\n",
       "      <td>4</td>\n",
       "      <td>1.00</td>\n",
       "      <td>4.5</td>\n",
       "      <td>6.00</td>\n",
       "      <td>1</td>\n",
       "      <td>1</td>\n",
       "      <td>...</td>\n",
       "      <td>1.0</td>\n",
       "      <td>0.0</td>\n",
       "      <td>1.0</td>\n",
       "      <td>0.0</td>\n",
       "      <td>1.0</td>\n",
       "      <td>1.0</td>\n",
       "      <td>1.0</td>\n",
       "      <td>1.0</td>\n",
       "      <td>1.0</td>\n",
       "      <td>0.0</td>\n",
       "    </tr>\n",
       "    <tr>\n",
       "      <th>1196</th>\n",
       "      <td>60</td>\n",
       "      <td>20</td>\n",
       "      <td>1</td>\n",
       "      <td>10</td>\n",
       "      <td>5</td>\n",
       "      <td>1.00</td>\n",
       "      <td>4.0</td>\n",
       "      <td>7.00</td>\n",
       "      <td>0</td>\n",
       "      <td>9</td>\n",
       "      <td>...</td>\n",
       "      <td>0.0</td>\n",
       "      <td>0.0</td>\n",
       "      <td>0.0</td>\n",
       "      <td>0.0</td>\n",
       "      <td>0.0</td>\n",
       "      <td>0.0</td>\n",
       "      <td>0.0</td>\n",
       "      <td>1.0</td>\n",
       "      <td>1.0</td>\n",
       "      <td>0.0</td>\n",
       "    </tr>\n",
       "    <tr>\n",
       "      <th>1522</th>\n",
       "      <td>75</td>\n",
       "      <td>20</td>\n",
       "      <td>3</td>\n",
       "      <td>13</td>\n",
       "      <td>3</td>\n",
       "      <td>1.00</td>\n",
       "      <td>4.0</td>\n",
       "      <td>7.00</td>\n",
       "      <td>0</td>\n",
       "      <td>7</td>\n",
       "      <td>...</td>\n",
       "      <td>0.0</td>\n",
       "      <td>0.0</td>\n",
       "      <td>0.0</td>\n",
       "      <td>0.0</td>\n",
       "      <td>0.0</td>\n",
       "      <td>1.0</td>\n",
       "      <td>0.0</td>\n",
       "      <td>0.0</td>\n",
       "      <td>1.0</td>\n",
       "      <td>0.0</td>\n",
       "    </tr>\n",
       "    <tr>\n",
       "      <th>1482</th>\n",
       "      <td>59</td>\n",
       "      <td>20</td>\n",
       "      <td>3</td>\n",
       "      <td>12</td>\n",
       "      <td>3</td>\n",
       "      <td>4.25</td>\n",
       "      <td>6.0</td>\n",
       "      <td>8.00</td>\n",
       "      <td>1</td>\n",
       "      <td>3</td>\n",
       "      <td>...</td>\n",
       "      <td>0.0</td>\n",
       "      <td>0.0</td>\n",
       "      <td>0.0</td>\n",
       "      <td>0.0</td>\n",
       "      <td>1.0</td>\n",
       "      <td>1.0</td>\n",
       "      <td>1.0</td>\n",
       "      <td>0.0</td>\n",
       "      <td>1.0</td>\n",
       "      <td>0.0</td>\n",
       "    </tr>\n",
       "    <tr>\n",
       "      <th>...</th>\n",
       "      <td>...</td>\n",
       "      <td>...</td>\n",
       "      <td>...</td>\n",
       "      <td>...</td>\n",
       "      <td>...</td>\n",
       "      <td>...</td>\n",
       "      <td>...</td>\n",
       "      <td>...</td>\n",
       "      <td>...</td>\n",
       "      <td>...</td>\n",
       "      <td>...</td>\n",
       "      <td>...</td>\n",
       "      <td>...</td>\n",
       "      <td>...</td>\n",
       "      <td>...</td>\n",
       "      <td>...</td>\n",
       "      <td>...</td>\n",
       "      <td>...</td>\n",
       "      <td>...</td>\n",
       "      <td>...</td>\n",
       "      <td>...</td>\n",
       "    </tr>\n",
       "    <tr>\n",
       "      <th>191</th>\n",
       "      <td>45</td>\n",
       "      <td>20</td>\n",
       "      <td>2</td>\n",
       "      <td>8</td>\n",
       "      <td>5</td>\n",
       "      <td>3.25</td>\n",
       "      <td>5.0</td>\n",
       "      <td>8.00</td>\n",
       "      <td>0</td>\n",
       "      <td>5</td>\n",
       "      <td>...</td>\n",
       "      <td>0.0</td>\n",
       "      <td>0.0</td>\n",
       "      <td>0.0</td>\n",
       "      <td>0.0</td>\n",
       "      <td>0.0</td>\n",
       "      <td>1.0</td>\n",
       "      <td>1.0</td>\n",
       "      <td>1.0</td>\n",
       "      <td>1.0</td>\n",
       "      <td>0.0</td>\n",
       "    </tr>\n",
       "    <tr>\n",
       "      <th>785</th>\n",
       "      <td>62</td>\n",
       "      <td>20</td>\n",
       "      <td>2</td>\n",
       "      <td>12</td>\n",
       "      <td>4</td>\n",
       "      <td>1.00</td>\n",
       "      <td>3.0</td>\n",
       "      <td>7.00</td>\n",
       "      <td>1</td>\n",
       "      <td>1</td>\n",
       "      <td>...</td>\n",
       "      <td>1.0</td>\n",
       "      <td>0.0</td>\n",
       "      <td>1.0</td>\n",
       "      <td>0.0</td>\n",
       "      <td>0.0</td>\n",
       "      <td>1.0</td>\n",
       "      <td>0.0</td>\n",
       "      <td>1.0</td>\n",
       "      <td>1.0</td>\n",
       "      <td>0.0</td>\n",
       "    </tr>\n",
       "    <tr>\n",
       "      <th>964</th>\n",
       "      <td>58</td>\n",
       "      <td>20</td>\n",
       "      <td>3</td>\n",
       "      <td>11</td>\n",
       "      <td>4</td>\n",
       "      <td>2.00</td>\n",
       "      <td>4.0</td>\n",
       "      <td>6.75</td>\n",
       "      <td>1</td>\n",
       "      <td>9</td>\n",
       "      <td>...</td>\n",
       "      <td>1.0</td>\n",
       "      <td>0.0</td>\n",
       "      <td>0.0</td>\n",
       "      <td>0.0</td>\n",
       "      <td>0.0</td>\n",
       "      <td>1.0</td>\n",
       "      <td>1.0</td>\n",
       "      <td>0.0</td>\n",
       "      <td>1.0</td>\n",
       "      <td>0.0</td>\n",
       "    </tr>\n",
       "    <tr>\n",
       "      <th>467</th>\n",
       "      <td>46</td>\n",
       "      <td>20</td>\n",
       "      <td>2</td>\n",
       "      <td>9</td>\n",
       "      <td>4</td>\n",
       "      <td>1.00</td>\n",
       "      <td>4.0</td>\n",
       "      <td>6.00</td>\n",
       "      <td>0</td>\n",
       "      <td>1</td>\n",
       "      <td>...</td>\n",
       "      <td>0.0</td>\n",
       "      <td>0.0</td>\n",
       "      <td>0.0</td>\n",
       "      <td>0.0</td>\n",
       "      <td>0.0</td>\n",
       "      <td>0.0</td>\n",
       "      <td>0.0</td>\n",
       "      <td>1.0</td>\n",
       "      <td>1.0</td>\n",
       "      <td>0.0</td>\n",
       "    </tr>\n",
       "    <tr>\n",
       "      <th>1294</th>\n",
       "      <td>62</td>\n",
       "      <td>20</td>\n",
       "      <td>2</td>\n",
       "      <td>11</td>\n",
       "      <td>4</td>\n",
       "      <td>3.00</td>\n",
       "      <td>5.0</td>\n",
       "      <td>6.75</td>\n",
       "      <td>0</td>\n",
       "      <td>3</td>\n",
       "      <td>...</td>\n",
       "      <td>1.0</td>\n",
       "      <td>1.0</td>\n",
       "      <td>1.0</td>\n",
       "      <td>0.0</td>\n",
       "      <td>1.0</td>\n",
       "      <td>1.0</td>\n",
       "      <td>0.0</td>\n",
       "      <td>1.0</td>\n",
       "      <td>1.0</td>\n",
       "      <td>0.0</td>\n",
       "    </tr>\n",
       "  </tbody>\n",
       "</table>\n",
       "<p>1236 rows × 509 columns</p>\n",
       "</div>"
      ],
      "text/plain": [
       "      num_edges  num_nodes  min_degree  max_degree  diameter  quartile_1  \\\n",
       "994          45         20           2           7         5        1.00   \n",
       "1419         51         20           2           9         4        1.00   \n",
       "1196         60         20           1          10         5        1.00   \n",
       "1522         75         20           3          13         3        1.00   \n",
       "1482         59         20           3          12         3        4.25   \n",
       "...         ...        ...         ...         ...       ...         ...   \n",
       "191          45         20           2           8         5        3.25   \n",
       "785          62         20           2          12         4        1.00   \n",
       "964          58         20           3          11         4        2.00   \n",
       "467          46         20           2           9         4        1.00   \n",
       "1294         62         20           2          11         4        3.00   \n",
       "\n",
       "      quartile_2  quartile_3  baseline_width  s1_1  ...  390  391  392  393  \\\n",
       "994          6.5        9.00               1     6  ...  0.0  0.0  0.0  1.0   \n",
       "1419         4.5        6.00               1     1  ...  1.0  0.0  1.0  0.0   \n",
       "1196         4.0        7.00               0     9  ...  0.0  0.0  0.0  0.0   \n",
       "1522         4.0        7.00               0     7  ...  0.0  0.0  0.0  0.0   \n",
       "1482         6.0        8.00               1     3  ...  0.0  0.0  0.0  0.0   \n",
       "...          ...         ...             ...   ...  ...  ...  ...  ...  ...   \n",
       "191          5.0        8.00               0     5  ...  0.0  0.0  0.0  0.0   \n",
       "785          3.0        7.00               1     1  ...  1.0  0.0  1.0  0.0   \n",
       "964          4.0        6.75               1     9  ...  1.0  0.0  0.0  0.0   \n",
       "467          4.0        6.00               0     1  ...  0.0  0.0  0.0  0.0   \n",
       "1294         5.0        6.75               0     3  ...  1.0  1.0  1.0  0.0   \n",
       "\n",
       "      394  395  396  397  398  399  \n",
       "994   0.0  0.0  0.0  0.0  1.0  0.0  \n",
       "1419  1.0  1.0  1.0  1.0  1.0  0.0  \n",
       "1196  0.0  0.0  0.0  1.0  1.0  0.0  \n",
       "1522  0.0  1.0  0.0  0.0  1.0  0.0  \n",
       "1482  1.0  1.0  1.0  0.0  1.0  0.0  \n",
       "...   ...  ...  ...  ...  ...  ...  \n",
       "191   0.0  1.0  1.0  1.0  1.0  0.0  \n",
       "785   0.0  1.0  0.0  1.0  1.0  0.0  \n",
       "964   0.0  1.0  1.0  0.0  1.0  0.0  \n",
       "467   0.0  0.0  0.0  1.0  1.0  0.0  \n",
       "1294  1.0  1.0  0.0  1.0  1.0  0.0  \n",
       "\n",
       "[1236 rows x 509 columns]"
      ]
     },
     "execution_count": 229,
     "metadata": {},
     "output_type": "execute_result"
    }
   ],
   "source": [
    "X_train"
   ]
  },
  {
   "cell_type": "code",
   "execution_count": 230,
   "id": "63948cf8",
   "metadata": {},
   "outputs": [
    {
     "name": "stdout",
     "output_type": "stream",
     "text": [
      "(509, 1236)\n",
      "(1, 1236)\n"
     ]
    }
   ],
   "source": [
    "X=[X_train.T, y_train.to_numpy().reshape(-1,1).T]\n",
    "print(X[0].shape)\n",
    "print(X[1].shape)"
   ]
  },
  {
   "cell_type": "code",
   "execution_count": 231,
   "id": "c63b9239",
   "metadata": {},
   "outputs": [
    {
     "name": "stdout",
     "output_type": "stream",
     "text": [
      "initial loading beta [[-0.94923677 -0.90694778  0.58407673 -0.25290616  0.66492091 -0.23272804\n",
      "  -0.38792511  0.82962307  0.24692886 -0.57838625 -0.34428739]]\n"
     ]
    }
   ],
   "source": [
    "xi = 1\n",
    "iter_avg = 1\n",
    "beta = 0.5\n",
    "iteration = 100\n",
    "r = 10\n",
    "SNMF_class_new = SNMF(X=[X_train.to_numpy().T, y_train.to_numpy().reshape(-1,1).T],  # data, label\n",
    "                        X_test=[X_test.to_numpy().T, y_test.to_numpy().reshape(-1,1).T],\n",
    "                        #X_auxiliary = None,\n",
    "                        n_components=r,  # =: r = number of columns in dictionary matrices W, W'\n",
    "                        # ini_loading=None,  # Initializatio for [W,W'], W1.shape = [d1, r], W2.shape = [d2, r]\n",
    "                        # ini_loading=[W_true, np.hstack((np.array([[0]]), Beta_true))],\n",
    "                        # ini_code = H_true,\n",
    "                        xi=xi,  # weight on label reconstruction error\n",
    "                        L1_reg = [0,0,0], # L1 regularizer for code H, dictionary W[0], reg param W[1]\n",
    "                        L2_reg = [0,0,0], # L2 regularizer for code H, dictionary W[0], reg param W[1]\n",
    "                        nonnegativity=[True,True,False], # nonnegativity constraints on code H, dictionary W[0], reg params W[1]\n",
    "                        full_dim=False)"
   ]
  },
  {
   "cell_type": "code",
   "execution_count": 232,
   "id": "c2cb1445",
   "metadata": {},
   "outputs": [
    {
     "name": "stderr",
     "output_type": "stream",
     "text": [
      "100%|██████████| 100/100 [00:03<00:00, 29.27it/s]\n"
     ]
    }
   ],
   "source": [
    "results_dict_new = SNMF_class_new.train_logistic(iter=iteration, subsample_size=None,\n",
    "                                                beta = beta,\n",
    "                                                search_radius_const=np.linalg.norm(X_train),\n",
    "                                                update_nuance_param=False,\n",
    "                                                if_compute_recons_error=False, if_validate=False)"
   ]
  },
  {
   "cell_type": "code",
   "execution_count": 233,
   "id": "446441cb",
   "metadata": {},
   "outputs": [
    {
     "data": {
      "text/plain": [
       "{'xi': 1,\n",
       " 'L1_reg': [0, 0, 0],\n",
       " 'L2_reg': [0, 0, 0],\n",
       " 'nonnegativity': [True, True, False],\n",
       " 'n_components': 10,\n",
       " 'loading': [array([[0.00000000e+00, 2.90512058e-01, 1.76675120e-01, ...,\n",
       "          2.14214270e-01, 1.05057683e-01, 3.30217448e-02],\n",
       "         [8.38732342e-02, 6.45147140e-02, 6.23590308e-02, ...,\n",
       "          5.44611511e-02, 7.11334310e-02, 8.63754884e-02],\n",
       "         [3.43477669e-03, 7.93696279e-03, 7.59873123e-03, ...,\n",
       "          5.54728101e-03, 3.28921199e-03, 4.61843404e-03],\n",
       "         ...,\n",
       "         [6.13471035e-05, 2.75514820e-03, 5.50874731e-04, ...,\n",
       "          2.44717711e-03, 8.60966473e-04, 7.22344591e-05],\n",
       "         [4.27637911e-03, 3.10545991e-03, 2.92558345e-03, ...,\n",
       "          2.82141777e-03, 3.40697046e-03, 4.58480430e-03],\n",
       "         [0.00000000e+00, 0.00000000e+00, 0.00000000e+00, ...,\n",
       "          0.00000000e+00, 0.00000000e+00, 6.77207430e-07]]),\n",
       "  array([[-5.25308863e+00,  1.84646348e-02,  3.64354344e-02,\n",
       "          -2.09104237e-02,  4.19300825e-03, -1.03404806e-01,\n",
       "          -9.66955538e-02,  2.86656686e-01,  1.08344212e-01,\n",
       "          -1.35332732e-01,  6.26146234e-02]])],\n",
       " 'code': array([[ 0.        , 39.5765169 ,  0.        , ...,  1.07282269,\n",
       "         36.2696499 ,  4.76834417],\n",
       "        [13.59254342, 14.23945271, 71.7964477 , ..., 45.21422065,\n",
       "         42.31890166, 52.33142956],\n",
       "        [67.31501721, 37.95114496,  0.        , ..., 48.18282258,\n",
       "         58.4212775 , 10.03416011],\n",
       "        ...,\n",
       "        [ 0.        , 58.08222823, 31.07235857, ..., 42.14169422,\n",
       "         35.13527969, 56.90646885],\n",
       "        [30.73466428,  5.06512121, 18.11923562, ...,  0.        ,\n",
       "          5.14351538, 33.17689154],\n",
       "        [ 0.        , 20.45660328, 25.00435211, ..., 42.33231789,\n",
       "         20.13437281, 29.80641722]]),\n",
       " 'iter': 100,\n",
       " 'dict_update_freq': 1,\n",
       " 'Relative_reconstruction_loss (test)': 0.10798834000613337,\n",
       " 'Y_test': array([[False,  True, False, False, False, False,  True,  True, False,\n",
       "          True,  True, False, False,  True, False, False, False,  True,\n",
       "         False,  True, False,  True, False,  True,  True, False,  True,\n",
       "         False, False, False, False, False, False,  True, False,  True,\n",
       "          True,  True,  True,  True, False, False, False,  True,  True,\n",
       "          True,  True,  True, False, False, False,  True, False,  True,\n",
       "          True, False,  True, False,  True,  True, False,  True, False,\n",
       "          True,  True,  True, False,  True,  True, False, False,  True,\n",
       "          True,  True, False, False,  True,  True,  True, False, False,\n",
       "          True,  True,  True, False,  True, False, False,  True, False,\n",
       "          True,  True, False, False, False,  True, False,  True, False,\n",
       "         False,  True,  True, False,  True, False, False, False,  True,\n",
       "          True,  True, False,  True, False,  True, False, False, False,\n",
       "         False,  True, False, False, False,  True,  True, False,  True,\n",
       "          True,  True, False, False,  True, False,  True,  True, False,\n",
       "          True, False, False,  True,  True,  True, False, False, False,\n",
       "         False, False, False,  True,  True, False, False, False, False,\n",
       "          True, False, False,  True,  True, False, False,  True, False,\n",
       "         False, False,  True,  True,  True, False,  True,  True,  True,\n",
       "          True,  True,  True, False,  True, False,  True, False, False,\n",
       "         False, False, False, False, False, False,  True, False,  True,\n",
       "          True,  True,  True,  True, False, False, False,  True, False,\n",
       "         False,  True,  True, False,  True,  True,  True,  True, False,\n",
       "          True,  True,  True,  True,  True,  True, False, False,  True,\n",
       "          True,  True, False,  True,  True, False, False,  True, False,\n",
       "          True, False, False,  True, False,  True, False, False, False,\n",
       "          True, False,  True, False,  True,  True, False,  True,  True,\n",
       "         False,  True, False, False, False,  True,  True,  True, False,\n",
       "         False, False,  True,  True,  True, False, False, False,  True,\n",
       "         False,  True,  True,  True, False,  True, False,  True,  True,\n",
       "         False,  True,  True, False, False,  True,  True, False,  True,\n",
       "          True, False,  True, False, False, False,  True, False,  True,\n",
       "         False, False,  True,  True, False, False, False, False, False,\n",
       "         False, False,  True, False, False,  True,  True,  True,  True,\n",
       "          True,  True,  True, False]]),\n",
       " 'P_pred': array([[0.77513733],\n",
       "        [0.7843635 ],\n",
       "        [0.15245326],\n",
       "        [0.46633067],\n",
       "        [0.11760602],\n",
       "        [0.29956888],\n",
       "        [0.31980608],\n",
       "        [0.50917355],\n",
       "        [0.31140882],\n",
       "        [0.79861904],\n",
       "        [0.64963605],\n",
       "        [0.26219061],\n",
       "        [0.62269637],\n",
       "        [0.6854228 ],\n",
       "        [0.34807527],\n",
       "        [0.36236667],\n",
       "        [0.33750303],\n",
       "        [0.4431616 ],\n",
       "        [0.17566125],\n",
       "        [0.39301785],\n",
       "        [0.35121318],\n",
       "        [0.57543929],\n",
       "        [0.38542279],\n",
       "        [0.40873096],\n",
       "        [0.64878075],\n",
       "        [0.3650709 ],\n",
       "        [0.62995607],\n",
       "        [0.40316481],\n",
       "        [0.47306703],\n",
       "        [0.45664749],\n",
       "        [0.42201684],\n",
       "        [0.22392899],\n",
       "        [0.26515348],\n",
       "        [0.46486257],\n",
       "        [0.39312557],\n",
       "        [0.96240176],\n",
       "        [0.62476064],\n",
       "        [0.34307507],\n",
       "        [0.62538652],\n",
       "        [0.58722197],\n",
       "        [0.28944059],\n",
       "        [0.16429306],\n",
       "        [0.34091392],\n",
       "        [0.73611809],\n",
       "        [0.34960235],\n",
       "        [0.73853545],\n",
       "        [0.74573044],\n",
       "        [0.25090309],\n",
       "        [0.33462913],\n",
       "        [0.51937581],\n",
       "        [0.32912394],\n",
       "        [0.62201039],\n",
       "        [0.7217136 ],\n",
       "        [0.55369189],\n",
       "        [0.45494723],\n",
       "        [0.45255851],\n",
       "        [0.6505695 ],\n",
       "        [0.28968322],\n",
       "        [0.76019187],\n",
       "        [0.66600579],\n",
       "        [0.36327689],\n",
       "        [0.61712915],\n",
       "        [0.73911109],\n",
       "        [0.76303423],\n",
       "        [0.32607743],\n",
       "        [0.20911889],\n",
       "        [0.56783683],\n",
       "        [0.44480481],\n",
       "        [0.68806542],\n",
       "        [0.23776488],\n",
       "        [0.46767675],\n",
       "        [0.59982725],\n",
       "        [0.4603338 ],\n",
       "        [0.83926999],\n",
       "        [0.16930571],\n",
       "        [0.3456314 ],\n",
       "        [0.71259003],\n",
       "        [0.48952189],\n",
       "        [0.47756113],\n",
       "        [0.40675434],\n",
       "        [0.43187196],\n",
       "        [0.45828686],\n",
       "        [0.50857436],\n",
       "        [0.87967396],\n",
       "        [0.54284503],\n",
       "        [0.81876318],\n",
       "        [0.32636607],\n",
       "        [0.23504601],\n",
       "        [0.23067529],\n",
       "        [0.27787214],\n",
       "        [0.69460512],\n",
       "        [0.37364689],\n",
       "        [0.28812133],\n",
       "        [0.48664532],\n",
       "        [0.30437169],\n",
       "        [0.59521052],\n",
       "        [0.40616854],\n",
       "        [0.60259004],\n",
       "        [0.84326757],\n",
       "        [0.21876758],\n",
       "        [0.48295319],\n",
       "        [0.23163523],\n",
       "        [0.75244674],\n",
       "        [0.72484584],\n",
       "        [0.41249919],\n",
       "        [0.31729634],\n",
       "        [0.5742768 ],\n",
       "        [0.79616352],\n",
       "        [0.47309182],\n",
       "        [0.63421819],\n",
       "        [0.47333243],\n",
       "        [0.27421543],\n",
       "        [0.24054946],\n",
       "        [0.29477795],\n",
       "        [0.24980144],\n",
       "        [0.45129155],\n",
       "        [0.17722348],\n",
       "        [0.48866486],\n",
       "        [0.57628143],\n",
       "        [0.62967085],\n",
       "        [0.2595483 ],\n",
       "        [0.35958908],\n",
       "        [0.35398172],\n",
       "        [0.33132413],\n",
       "        [0.37799955],\n",
       "        [0.38346374],\n",
       "        [0.64280274],\n",
       "        [0.42328502],\n",
       "        [0.54885413],\n",
       "        [0.52062979],\n",
       "        [0.45342704],\n",
       "        [0.88801193],\n",
       "        [0.46981247],\n",
       "        [0.47811859],\n",
       "        [0.24549458],\n",
       "        [0.63530477],\n",
       "        [0.31110165],\n",
       "        [0.35872263],\n",
       "        [0.44094671],\n",
       "        [0.68172056],\n",
       "        [0.97945655],\n",
       "        [0.44912102],\n",
       "        [0.19540489],\n",
       "        [0.10835301],\n",
       "        [0.22322918],\n",
       "        [0.69593733],\n",
       "        [0.4197736 ],\n",
       "        [0.65166117],\n",
       "        [0.57761763],\n",
       "        [0.43443552],\n",
       "        [0.60188607],\n",
       "        [0.23938503],\n",
       "        [0.54535121],\n",
       "        [0.37125842],\n",
       "        [0.27768044],\n",
       "        [0.26837658],\n",
       "        [0.49435137],\n",
       "        [0.45366136],\n",
       "        [0.93735643],\n",
       "        [0.44336544],\n",
       "        [0.53962922],\n",
       "        [0.1692666 ],\n",
       "        [0.34371783],\n",
       "        [0.38053408],\n",
       "        [0.50007608],\n",
       "        [0.94753445],\n",
       "        [0.34162408],\n",
       "        [0.28670102],\n",
       "        [0.35315408],\n",
       "        [0.55635684],\n",
       "        [0.83666013],\n",
       "        [0.54236792],\n",
       "        [0.5773327 ],\n",
       "        [0.31988927],\n",
       "        [0.7847906 ],\n",
       "        [0.87707949],\n",
       "        [0.31609312],\n",
       "        [0.59131257],\n",
       "        [0.31717312],\n",
       "        [0.5668772 ],\n",
       "        [0.25636734],\n",
       "        [0.25570829],\n",
       "        [0.38816803],\n",
       "        [0.53708327],\n",
       "        [0.19338284],\n",
       "        [0.54734166],\n",
       "        [0.30167321],\n",
       "        [0.50118708],\n",
       "        [0.88728331],\n",
       "        [0.92590387],\n",
       "        [0.69227407],\n",
       "        [0.18986205],\n",
       "        [0.26307357],\n",
       "        [0.72961878],\n",
       "        [0.68337024],\n",
       "        [0.90418163],\n",
       "        [0.59385716],\n",
       "        [0.29128697],\n",
       "        [0.44040669],\n",
       "        [0.29520285],\n",
       "        [0.94336299],\n",
       "        [0.69823548],\n",
       "        [0.4193485 ],\n",
       "        [0.48991825],\n",
       "        [0.23060875],\n",
       "        [0.53550041],\n",
       "        [0.12255305],\n",
       "        [0.68961627],\n",
       "        [0.53186168],\n",
       "        [0.64805688],\n",
       "        [0.52095927],\n",
       "        [0.87389003],\n",
       "        [0.60092707],\n",
       "        [0.98218668],\n",
       "        [0.37889903],\n",
       "        [0.77605833],\n",
       "        [0.77798913],\n",
       "        [0.83405839],\n",
       "        [0.75413685],\n",
       "        [0.27771308],\n",
       "        [0.48045953],\n",
       "        [0.31856974],\n",
       "        [0.26486328],\n",
       "        [0.72156887],\n",
       "        [0.22163512],\n",
       "        [0.62097438],\n",
       "        [0.16610305],\n",
       "        [0.83812957],\n",
       "        [0.57277256],\n",
       "        [0.50951562],\n",
       "        [0.74301375],\n",
       "        [0.44848427],\n",
       "        [0.41046307],\n",
       "        [0.46050661],\n",
       "        [0.67099184],\n",
       "        [0.38136508],\n",
       "        [0.19302796],\n",
       "        [0.24912991],\n",
       "        [0.69406511],\n",
       "        [0.37792604],\n",
       "        [0.47570993],\n",
       "        [0.37094533],\n",
       "        [0.35858334],\n",
       "        [0.73543307],\n",
       "        [0.59401169],\n",
       "        [0.30590602],\n",
       "        [0.29820862],\n",
       "        [0.31437884],\n",
       "        [0.49936176],\n",
       "        [0.42158207],\n",
       "        [0.48330662],\n",
       "        [0.50534303],\n",
       "        [0.17796676],\n",
       "        [0.62208571],\n",
       "        [0.40828584],\n",
       "        [0.70789846],\n",
       "        [0.67857177],\n",
       "        [0.56259686],\n",
       "        [0.55680651],\n",
       "        [0.33185502],\n",
       "        [0.60394933],\n",
       "        [0.64465501],\n",
       "        [0.29828918],\n",
       "        [0.88201348],\n",
       "        [0.67761208],\n",
       "        [0.43962615],\n",
       "        [0.91038975],\n",
       "        [0.42726612],\n",
       "        [0.44432077],\n",
       "        [0.49952004],\n",
       "        [0.40818595],\n",
       "        [0.66314644],\n",
       "        [0.67678914],\n",
       "        [0.46643329],\n",
       "        [0.32100033],\n",
       "        [0.61536172],\n",
       "        [0.42424994],\n",
       "        [0.54480389],\n",
       "        [0.41204609],\n",
       "        [0.52917662],\n",
       "        [0.29300655],\n",
       "        [0.75789066],\n",
       "        [0.20681673],\n",
       "        [0.43781794],\n",
       "        [0.66420917],\n",
       "        [0.60573616],\n",
       "        [0.4609558 ],\n",
       "        [0.69087033],\n",
       "        [0.35372122],\n",
       "        [0.43921588],\n",
       "        [0.30030085],\n",
       "        [0.57396566],\n",
       "        [0.22955299],\n",
       "        [0.2887599 ],\n",
       "        [0.56733924],\n",
       "        [0.20528478],\n",
       "        [0.83083807],\n",
       "        [0.348316  ],\n",
       "        [0.16359596],\n",
       "        [0.57429688],\n",
       "        [0.49396983],\n",
       "        [0.25241176],\n",
       "        [0.75155845],\n",
       "        [0.47229797],\n",
       "        [0.58901356],\n",
       "        [0.41706293],\n",
       "        [0.21640454],\n",
       "        [0.36987486],\n",
       "        [0.33110575],\n",
       "        [0.50649398]]),\n",
       " 'Y_pred': array([[1.],\n",
       "        [1.],\n",
       "        [0.],\n",
       "        [1.],\n",
       "        [0.],\n",
       "        [0.],\n",
       "        [0.],\n",
       "        [1.],\n",
       "        [0.],\n",
       "        [1.],\n",
       "        [1.],\n",
       "        [0.],\n",
       "        [1.],\n",
       "        [1.],\n",
       "        [0.],\n",
       "        [0.],\n",
       "        [0.],\n",
       "        [0.],\n",
       "        [0.],\n",
       "        [0.],\n",
       "        [0.],\n",
       "        [1.],\n",
       "        [0.],\n",
       "        [0.],\n",
       "        [1.],\n",
       "        [0.],\n",
       "        [1.],\n",
       "        [0.],\n",
       "        [1.],\n",
       "        [0.],\n",
       "        [0.],\n",
       "        [0.],\n",
       "        [0.],\n",
       "        [1.],\n",
       "        [0.],\n",
       "        [1.],\n",
       "        [1.],\n",
       "        [0.],\n",
       "        [1.],\n",
       "        [1.],\n",
       "        [0.],\n",
       "        [0.],\n",
       "        [0.],\n",
       "        [1.],\n",
       "        [0.],\n",
       "        [1.],\n",
       "        [1.],\n",
       "        [0.],\n",
       "        [0.],\n",
       "        [1.],\n",
       "        [0.],\n",
       "        [1.],\n",
       "        [1.],\n",
       "        [1.],\n",
       "        [0.],\n",
       "        [0.],\n",
       "        [1.],\n",
       "        [0.],\n",
       "        [1.],\n",
       "        [1.],\n",
       "        [0.],\n",
       "        [1.],\n",
       "        [1.],\n",
       "        [1.],\n",
       "        [0.],\n",
       "        [0.],\n",
       "        [1.],\n",
       "        [0.],\n",
       "        [1.],\n",
       "        [0.],\n",
       "        [1.],\n",
       "        [1.],\n",
       "        [1.],\n",
       "        [1.],\n",
       "        [0.],\n",
       "        [0.],\n",
       "        [1.],\n",
       "        [1.],\n",
       "        [1.],\n",
       "        [0.],\n",
       "        [0.],\n",
       "        [0.],\n",
       "        [1.],\n",
       "        [1.],\n",
       "        [1.],\n",
       "        [1.],\n",
       "        [0.],\n",
       "        [0.],\n",
       "        [0.],\n",
       "        [0.],\n",
       "        [1.],\n",
       "        [0.],\n",
       "        [0.],\n",
       "        [1.],\n",
       "        [0.],\n",
       "        [1.],\n",
       "        [0.],\n",
       "        [1.],\n",
       "        [1.],\n",
       "        [0.],\n",
       "        [1.],\n",
       "        [0.],\n",
       "        [1.],\n",
       "        [1.],\n",
       "        [0.],\n",
       "        [0.],\n",
       "        [1.],\n",
       "        [1.],\n",
       "        [1.],\n",
       "        [1.],\n",
       "        [1.],\n",
       "        [0.],\n",
       "        [0.],\n",
       "        [0.],\n",
       "        [0.],\n",
       "        [0.],\n",
       "        [0.],\n",
       "        [1.],\n",
       "        [1.],\n",
       "        [1.],\n",
       "        [0.],\n",
       "        [0.],\n",
       "        [0.],\n",
       "        [0.],\n",
       "        [0.],\n",
       "        [0.],\n",
       "        [1.],\n",
       "        [0.],\n",
       "        [1.],\n",
       "        [1.],\n",
       "        [0.],\n",
       "        [1.],\n",
       "        [1.],\n",
       "        [1.],\n",
       "        [0.],\n",
       "        [1.],\n",
       "        [0.],\n",
       "        [0.],\n",
       "        [0.],\n",
       "        [1.],\n",
       "        [1.],\n",
       "        [0.],\n",
       "        [0.],\n",
       "        [0.],\n",
       "        [0.],\n",
       "        [1.],\n",
       "        [0.],\n",
       "        [1.],\n",
       "        [1.],\n",
       "        [0.],\n",
       "        [1.],\n",
       "        [0.],\n",
       "        [1.],\n",
       "        [0.],\n",
       "        [0.],\n",
       "        [0.],\n",
       "        [1.],\n",
       "        [0.],\n",
       "        [1.],\n",
       "        [0.],\n",
       "        [1.],\n",
       "        [0.],\n",
       "        [0.],\n",
       "        [0.],\n",
       "        [1.],\n",
       "        [1.],\n",
       "        [0.],\n",
       "        [0.],\n",
       "        [0.],\n",
       "        [1.],\n",
       "        [1.],\n",
       "        [1.],\n",
       "        [1.],\n",
       "        [0.],\n",
       "        [1.],\n",
       "        [1.],\n",
       "        [0.],\n",
       "        [1.],\n",
       "        [0.],\n",
       "        [1.],\n",
       "        [0.],\n",
       "        [0.],\n",
       "        [0.],\n",
       "        [1.],\n",
       "        [0.],\n",
       "        [1.],\n",
       "        [0.],\n",
       "        [1.],\n",
       "        [1.],\n",
       "        [1.],\n",
       "        [1.],\n",
       "        [0.],\n",
       "        [0.],\n",
       "        [1.],\n",
       "        [1.],\n",
       "        [1.],\n",
       "        [1.],\n",
       "        [0.],\n",
       "        [0.],\n",
       "        [0.],\n",
       "        [1.],\n",
       "        [1.],\n",
       "        [0.],\n",
       "        [1.],\n",
       "        [0.],\n",
       "        [1.],\n",
       "        [0.],\n",
       "        [1.],\n",
       "        [1.],\n",
       "        [1.],\n",
       "        [1.],\n",
       "        [1.],\n",
       "        [1.],\n",
       "        [1.],\n",
       "        [0.],\n",
       "        [1.],\n",
       "        [1.],\n",
       "        [1.],\n",
       "        [1.],\n",
       "        [0.],\n",
       "        [1.],\n",
       "        [0.],\n",
       "        [0.],\n",
       "        [1.],\n",
       "        [0.],\n",
       "        [1.],\n",
       "        [0.],\n",
       "        [1.],\n",
       "        [1.],\n",
       "        [1.],\n",
       "        [1.],\n",
       "        [0.],\n",
       "        [0.],\n",
       "        [1.],\n",
       "        [1.],\n",
       "        [0.],\n",
       "        [0.],\n",
       "        [0.],\n",
       "        [1.],\n",
       "        [0.],\n",
       "        [1.],\n",
       "        [0.],\n",
       "        [0.],\n",
       "        [1.],\n",
       "        [1.],\n",
       "        [0.],\n",
       "        [0.],\n",
       "        [0.],\n",
       "        [1.],\n",
       "        [0.],\n",
       "        [1.],\n",
       "        [1.],\n",
       "        [0.],\n",
       "        [1.],\n",
       "        [0.],\n",
       "        [1.],\n",
       "        [1.],\n",
       "        [1.],\n",
       "        [1.],\n",
       "        [0.],\n",
       "        [1.],\n",
       "        [1.],\n",
       "        [0.],\n",
       "        [1.],\n",
       "        [1.],\n",
       "        [0.],\n",
       "        [1.],\n",
       "        [0.],\n",
       "        [0.],\n",
       "        [1.],\n",
       "        [0.],\n",
       "        [1.],\n",
       "        [1.],\n",
       "        [1.],\n",
       "        [0.],\n",
       "        [1.],\n",
       "        [0.],\n",
       "        [1.],\n",
       "        [0.],\n",
       "        [1.],\n",
       "        [0.],\n",
       "        [1.],\n",
       "        [0.],\n",
       "        [0.],\n",
       "        [1.],\n",
       "        [1.],\n",
       "        [1.],\n",
       "        [1.],\n",
       "        [0.],\n",
       "        [0.],\n",
       "        [0.],\n",
       "        [1.],\n",
       "        [0.],\n",
       "        [0.],\n",
       "        [1.],\n",
       "        [0.],\n",
       "        [1.],\n",
       "        [0.],\n",
       "        [0.],\n",
       "        [1.],\n",
       "        [1.],\n",
       "        [0.],\n",
       "        [1.],\n",
       "        [1.],\n",
       "        [1.],\n",
       "        [0.],\n",
       "        [0.],\n",
       "        [0.],\n",
       "        [0.],\n",
       "        [1.]]),\n",
       " 'AUC': 0.7395764602381627,\n",
       " 'Training_threshold': 0.4588293303379053,\n",
       " 'Opt_threshold': 0.46981247210679417,\n",
       " 'Accuracy': 0.667741935483871,\n",
       " 'Misclassification': 0.33225806451612905,\n",
       " 'Precision': 0.6645569620253164,\n",
       " 'Recall': 0.6774193548387096,\n",
       " 'Sensitivity': 0.6774193548387096,\n",
       " 'Specificity': 0.6580645161290323,\n",
       " 'F_score': 0.670926517571885,\n",
       " 'Fall_out': 0.3419354838709677,\n",
       " 'Miss_rate': 0.3225806451612903}"
      ]
     },
     "execution_count": 233,
     "metadata": {},
     "output_type": "execute_result"
    }
   ],
   "source": [
    "results_dict_new"
   ]
  },
  {
   "cell_type": "code",
   "execution_count": 138,
   "id": "983ce657",
   "metadata": {},
   "outputs": [],
   "source": [
    "W = results_dict_new.get('loading')\n",
    "# W = [(p x r) (words x topic), 1 x r (regression coeff. x topic)]\n",
    "beta = W[1][0,1:r+1] ## first regression coefficient is for the constant term, so omit"
   ]
  },
  {
   "cell_type": "code",
   "execution_count": 139,
   "id": "16e84b82",
   "metadata": {},
   "outputs": [
    {
     "data": {
      "text/plain": [
       "array([1, 3, 2, 0, 7, 4, 8, 6, 5, 9])"
      ]
     },
     "execution_count": 139,
     "metadata": {},
     "output_type": "execute_result"
    }
   ],
   "source": [
    "beta\n",
    "idx_topic = np.argsort(beta)\n",
    "idx_topic = np.flip(idx_topic)\n",
    "\n",
    "#fig, axs = plt.subplots(nrows=grid_shape[0], ncols=grid_shape[1], figsize=(10, 12), subplot_kw={'xticks': [], 'yticks': []})\n",
    "        \n",
    "idx_topic"
   ]
  },
  {
   "cell_type": "code",
   "execution_count": 141,
   "id": "0a7c93dd",
   "metadata": {},
   "outputs": [
    {
     "name": "stdout",
     "output_type": "stream",
     "text": [
      "!! Y Index(['num_edges', 's3_5', 's2_3', 's2_5', 's1_3', 's2_1', 's3_1', 's4_5',\n",
      "       's3_3', 'num_nodes'],\n",
      "      dtype='object')\n",
      "!! Y Index(['num_edges', 'num_nodes', 's2_11', 's2_13', 's1_11', 'max_degree',\n",
      "       's1_13', 's5_6', 's4_17', 's3_17'],\n",
      "      dtype='object')\n",
      "!! Y Index(['num_nodes', 'num_edges', 's3_13', 's2_13', 's4_13', 's1_1', 's2_1',\n",
      "       's1_13', 's5_16', 's3_15'],\n",
      "      dtype='object')\n",
      "!! Y Index(['num_edges', 'num_nodes', 'max_degree', 's1_7', 's5_2', 's3_8', 's5_16',\n",
      "       's4_2', 's4_8', 's5_8'],\n",
      "      dtype='object')\n",
      "!! Y Index(['num_edges', 's2_15', 's1_15', 's3_15', 'num_nodes', 'max_degree',\n",
      "       's4_15', 's2_6', 's1_6', 's3_6'],\n",
      "      dtype='object')\n",
      "!! Y Index(['s4_1', 's5_1', 's3_1', 's4_5', 's3_18', 's4_18', 's1_20', 's3_5',\n",
      "       's1_13', 's5_5'],\n",
      "      dtype='object')\n",
      "!! Y Index(['s2_12', 's1_12', 'num_nodes', 's1_9', 's2_9', 's1_19', 's3_9', 's3_12',\n",
      "       's4_9', 's2_19'],\n",
      "      dtype='object')\n",
      "!! Y Index(['s4_20', 's5_15', 's4_15', 's5_20', 'num_nodes', 's3_20', 's4_19',\n",
      "       's1_4', 's2_4', 's1_3'],\n",
      "      dtype='object')\n",
      "!! Y Index(['num_nodes', 's3_17', 's2_6', 's2_17', 's3_6', 's1_6', 's1_5', 's1_17',\n",
      "       's4_17', 's1_16'],\n",
      "      dtype='object')\n",
      "!! Y Index(['num_edges', 'num_nodes', 's4_10', 's3_10', 's2_10', 's5_10', 's2_14',\n",
      "       's3_14', 's2_8', 's4_14'],\n",
      "      dtype='object')\n"
     ]
    }
   ],
   "source": [
    "for i in np.arange(W[0].shape[1]):\n",
    "    idx_keyword = np.argsort(W[0][:,idx_topic[i]])\n",
    "    idx_keyword = np.flip(idx_keyword)  \n",
    "    \n",
    "    ### Take top k keywords in each topic (top k coordinates in each column of W)\n",
    "    ### to generate text data corresponding to the ith topic, and then generate its wordcloud\n",
    "    list_words = []\n",
    "\n",
    "    idx_keyword = np.argsort(W[0][:,idx_topic[i]])\n",
    "    idx_keyword = np.flip(idx_keyword)   \n",
    "\n",
    "    #for j in range(num_keywords_in_topic):\n",
    "    #    list_words.append(idx2word[idx_keyword[j]])\n",
    "\n",
    "    #Y = \" \".join(list_words)\n",
    "    print('!! Y', df.columns[idx_keyword[0:10]])"
   ]
  },
  {
   "cell_type": "markdown",
   "id": "1652a2c4",
   "metadata": {},
   "source": [
    "### all satisfy half-circle concentration"
   ]
  },
  {
   "cell_type": "code",
   "execution_count": 189,
   "id": "9397e2ad",
   "metadata": {},
   "outputs": [
    {
     "data": {
      "text/plain": [
       "True     1423\n",
       "False     224\n",
       "Name: baseline_width, dtype: int64"
      ]
     },
     "execution_count": 189,
     "metadata": {},
     "output_type": "execute_result"
    }
   ],
   "source": [
    "fileo = open('toy_Caltech36_20walk.pkl', 'rb')\n",
    "X = pickle.load(fileo)\n",
    "fileo.close()\n",
    "\n",
    "df=pd.read_csv(\"toy_Caltech36_20walk.csv\")\n",
    "df = pd.concat([df[df.y == False], df[df.baseline_width == 1]], axis=0)\n",
    "df.baseline_width.value_counts()"
   ]
  },
  {
   "cell_type": "code",
   "execution_count": 190,
   "id": "9fdfa980",
   "metadata": {},
   "outputs": [
    {
     "data": {
      "text/plain": [
       "0    179\n",
       "1    179\n",
       "Name: baseline_width, dtype: int64"
      ]
     },
     "execution_count": 190,
     "metadata": {},
     "output_type": "execute_result"
    }
   ],
   "source": [
    "Y_data = df.y #concentration\n",
    "df.drop('y', axis=1, inplace=True)\n",
    "df = pd.concat([df, pd.DataFrame(X.T)], axis=1, join='inner')\n",
    "df['baseline_width'] = df['baseline_width'].astype(int)\n",
    "\n",
    "under_sampler = RandomUnderSampler(random_state=42)\n",
    "X_res, y_res = under_sampler.fit_resample(df, Y_data)\n",
    "X_train, X_test, y_train, y_test = train_test_split(X_res, y_res, \n",
    "                                                    test_size = 0.2, \n",
    "                                                    random_state = 4, \n",
    "                                                    stratify = y_res)\n",
    "X_train.baseline_width.value_counts()"
   ]
  },
  {
   "cell_type": "code",
   "execution_count": 191,
   "id": "3b05335c",
   "metadata": {},
   "outputs": [
    {
     "name": "stdout",
     "output_type": "stream",
     "text": [
      "initial loading beta [[ 0.73206022  0.61010607  0.14748712  0.63198539 -0.98459301  0.92646829\n",
      "  -0.65655416  0.86884917 -0.16455295 -0.22511961  0.69896513]]\n"
     ]
    }
   ],
   "source": [
    "xi = 1\n",
    "iter_avg = 1\n",
    "beta = 0.5\n",
    "iteration = 100\n",
    "r = 10\n",
    "SNMF_class_new = SNMF(X=[X_train.to_numpy().T, y_train.to_numpy().reshape(-1,1).T],  # data, label\n",
    "                        X_test=[X_test.to_numpy().T, y_test.to_numpy().reshape(-1,1).T],\n",
    "                        #X_auxiliary = None,\n",
    "                        n_components=r,  # =: r = number of columns in dictionary matrices W, W'\n",
    "                        # ini_loading=None,  # Initializatio for [W,W'], W1.shape = [d1, r], W2.shape = [d2, r]\n",
    "                        # ini_loading=[W_true, np.hstack((np.array([[0]]), Beta_true))],\n",
    "                        # ini_code = H_true,\n",
    "                        xi=xi,  # weight on label reconstruction error\n",
    "                        L1_reg = [0,0,0], # L1 regularizer for code H, dictionary W[0], reg param W[1]\n",
    "                        L2_reg = [0,0,0], # L2 regularizer for code H, dictionary W[0], reg param W[1]\n",
    "                        nonnegativity=[True,True,False], # nonnegativity constraints on code H, dictionary W[0], reg params W[1]\n",
    "                        full_dim=False)"
   ]
  },
  {
   "cell_type": "code",
   "execution_count": 192,
   "id": "6c999a46",
   "metadata": {},
   "outputs": [
    {
     "name": "stderr",
     "output_type": "stream",
     "text": [
      "100%|██████████| 100/100 [00:02<00:00, 45.39it/s]\n"
     ]
    }
   ],
   "source": [
    "results_dict_new = SNMF_class_new.train_logistic(iter=iteration, subsample_size=None,\n",
    "                                                beta = beta,\n",
    "                                                search_radius_const=np.linalg.norm(X_train),\n",
    "                                                update_nuance_param=False,\n",
    "                                                if_compute_recons_error=False, if_validate=False)"
   ]
  },
  {
   "cell_type": "code",
   "execution_count": 237,
   "id": "f48416d5",
   "metadata": {},
   "outputs": [
    {
     "data": {
      "text/plain": [
       "{'xi': 1,\n",
       " 'L1_reg': [0, 0, 0],\n",
       " 'L2_reg': [0, 0, 0],\n",
       " 'nonnegativity': [True, True, False],\n",
       " 'n_components': 10,\n",
       " 'loading': [array([[0.00000000e+00, 2.90512058e-01, 1.76675120e-01, ...,\n",
       "          2.14214270e-01, 1.05057683e-01, 3.30217448e-02],\n",
       "         [8.38732342e-02, 6.45147140e-02, 6.23590308e-02, ...,\n",
       "          5.44611511e-02, 7.11334310e-02, 8.63754884e-02],\n",
       "         [3.43477669e-03, 7.93696279e-03, 7.59873123e-03, ...,\n",
       "          5.54728101e-03, 3.28921199e-03, 4.61843404e-03],\n",
       "         ...,\n",
       "         [6.13471035e-05, 2.75514820e-03, 5.50874731e-04, ...,\n",
       "          2.44717711e-03, 8.60966473e-04, 7.22344591e-05],\n",
       "         [4.27637911e-03, 3.10545991e-03, 2.92558345e-03, ...,\n",
       "          2.82141777e-03, 3.40697046e-03, 4.58480430e-03],\n",
       "         [0.00000000e+00, 0.00000000e+00, 0.00000000e+00, ...,\n",
       "          0.00000000e+00, 0.00000000e+00, 6.77207430e-07]]),\n",
       "  array([[-5.25308863e+00,  1.84646348e-02,  3.64354344e-02,\n",
       "          -2.09104237e-02,  4.19300825e-03, -1.03404806e-01,\n",
       "          -9.66955538e-02,  2.86656686e-01,  1.08344212e-01,\n",
       "          -1.35332732e-01,  6.26146234e-02]])],\n",
       " 'code': array([[ 0.        , 39.5765169 ,  0.        , ...,  1.07282269,\n",
       "         36.2696499 ,  4.76834417],\n",
       "        [13.59254342, 14.23945271, 71.7964477 , ..., 45.21422065,\n",
       "         42.31890166, 52.33142956],\n",
       "        [67.31501721, 37.95114496,  0.        , ..., 48.18282258,\n",
       "         58.4212775 , 10.03416011],\n",
       "        ...,\n",
       "        [ 0.        , 58.08222823, 31.07235857, ..., 42.14169422,\n",
       "         35.13527969, 56.90646885],\n",
       "        [30.73466428,  5.06512121, 18.11923562, ...,  0.        ,\n",
       "          5.14351538, 33.17689154],\n",
       "        [ 0.        , 20.45660328, 25.00435211, ..., 42.33231789,\n",
       "         20.13437281, 29.80641722]]),\n",
       " 'iter': 100,\n",
       " 'dict_update_freq': 1,\n",
       " 'Relative_reconstruction_loss (test)': 0.10798834000613337,\n",
       " 'Y_test': array([[False,  True, False, False, False, False,  True,  True, False,\n",
       "          True,  True, False, False,  True, False, False, False,  True,\n",
       "         False,  True, False,  True, False,  True,  True, False,  True,\n",
       "         False, False, False, False, False, False,  True, False,  True,\n",
       "          True,  True,  True,  True, False, False, False,  True,  True,\n",
       "          True,  True,  True, False, False, False,  True, False,  True,\n",
       "          True, False,  True, False,  True,  True, False,  True, False,\n",
       "          True,  True,  True, False,  True,  True, False, False,  True,\n",
       "          True,  True, False, False,  True,  True,  True, False, False,\n",
       "          True,  True,  True, False,  True, False, False,  True, False,\n",
       "          True,  True, False, False, False,  True, False,  True, False,\n",
       "         False,  True,  True, False,  True, False, False, False,  True,\n",
       "          True,  True, False,  True, False,  True, False, False, False,\n",
       "         False,  True, False, False, False,  True,  True, False,  True,\n",
       "          True,  True, False, False,  True, False,  True,  True, False,\n",
       "          True, False, False,  True,  True,  True, False, False, False,\n",
       "         False, False, False,  True,  True, False, False, False, False,\n",
       "          True, False, False,  True,  True, False, False,  True, False,\n",
       "         False, False,  True,  True,  True, False,  True,  True,  True,\n",
       "          True,  True,  True, False,  True, False,  True, False, False,\n",
       "         False, False, False, False, False, False,  True, False,  True,\n",
       "          True,  True,  True,  True, False, False, False,  True, False,\n",
       "         False,  True,  True, False,  True,  True,  True,  True, False,\n",
       "          True,  True,  True,  True,  True,  True, False, False,  True,\n",
       "          True,  True, False,  True,  True, False, False,  True, False,\n",
       "          True, False, False,  True, False,  True, False, False, False,\n",
       "          True, False,  True, False,  True,  True, False,  True,  True,\n",
       "         False,  True, False, False, False,  True,  True,  True, False,\n",
       "         False, False,  True,  True,  True, False, False, False,  True,\n",
       "         False,  True,  True,  True, False,  True, False,  True,  True,\n",
       "         False,  True,  True, False, False,  True,  True, False,  True,\n",
       "          True, False,  True, False, False, False,  True, False,  True,\n",
       "         False, False,  True,  True, False, False, False, False, False,\n",
       "         False, False,  True, False, False,  True,  True,  True,  True,\n",
       "          True,  True,  True, False]]),\n",
       " 'P_pred': array([[0.77513733],\n",
       "        [0.7843635 ],\n",
       "        [0.15245326],\n",
       "        [0.46633067],\n",
       "        [0.11760602],\n",
       "        [0.29956888],\n",
       "        [0.31980608],\n",
       "        [0.50917355],\n",
       "        [0.31140882],\n",
       "        [0.79861904],\n",
       "        [0.64963605],\n",
       "        [0.26219061],\n",
       "        [0.62269637],\n",
       "        [0.6854228 ],\n",
       "        [0.34807527],\n",
       "        [0.36236667],\n",
       "        [0.33750303],\n",
       "        [0.4431616 ],\n",
       "        [0.17566125],\n",
       "        [0.39301785],\n",
       "        [0.35121318],\n",
       "        [0.57543929],\n",
       "        [0.38542279],\n",
       "        [0.40873096],\n",
       "        [0.64878075],\n",
       "        [0.3650709 ],\n",
       "        [0.62995607],\n",
       "        [0.40316481],\n",
       "        [0.47306703],\n",
       "        [0.45664749],\n",
       "        [0.42201684],\n",
       "        [0.22392899],\n",
       "        [0.26515348],\n",
       "        [0.46486257],\n",
       "        [0.39312557],\n",
       "        [0.96240176],\n",
       "        [0.62476064],\n",
       "        [0.34307507],\n",
       "        [0.62538652],\n",
       "        [0.58722197],\n",
       "        [0.28944059],\n",
       "        [0.16429306],\n",
       "        [0.34091392],\n",
       "        [0.73611809],\n",
       "        [0.34960235],\n",
       "        [0.73853545],\n",
       "        [0.74573044],\n",
       "        [0.25090309],\n",
       "        [0.33462913],\n",
       "        [0.51937581],\n",
       "        [0.32912394],\n",
       "        [0.62201039],\n",
       "        [0.7217136 ],\n",
       "        [0.55369189],\n",
       "        [0.45494723],\n",
       "        [0.45255851],\n",
       "        [0.6505695 ],\n",
       "        [0.28968322],\n",
       "        [0.76019187],\n",
       "        [0.66600579],\n",
       "        [0.36327689],\n",
       "        [0.61712915],\n",
       "        [0.73911109],\n",
       "        [0.76303423],\n",
       "        [0.32607743],\n",
       "        [0.20911889],\n",
       "        [0.56783683],\n",
       "        [0.44480481],\n",
       "        [0.68806542],\n",
       "        [0.23776488],\n",
       "        [0.46767675],\n",
       "        [0.59982725],\n",
       "        [0.4603338 ],\n",
       "        [0.83926999],\n",
       "        [0.16930571],\n",
       "        [0.3456314 ],\n",
       "        [0.71259003],\n",
       "        [0.48952189],\n",
       "        [0.47756113],\n",
       "        [0.40675434],\n",
       "        [0.43187196],\n",
       "        [0.45828686],\n",
       "        [0.50857436],\n",
       "        [0.87967396],\n",
       "        [0.54284503],\n",
       "        [0.81876318],\n",
       "        [0.32636607],\n",
       "        [0.23504601],\n",
       "        [0.23067529],\n",
       "        [0.27787214],\n",
       "        [0.69460512],\n",
       "        [0.37364689],\n",
       "        [0.28812133],\n",
       "        [0.48664532],\n",
       "        [0.30437169],\n",
       "        [0.59521052],\n",
       "        [0.40616854],\n",
       "        [0.60259004],\n",
       "        [0.84326757],\n",
       "        [0.21876758],\n",
       "        [0.48295319],\n",
       "        [0.23163523],\n",
       "        [0.75244674],\n",
       "        [0.72484584],\n",
       "        [0.41249919],\n",
       "        [0.31729634],\n",
       "        [0.5742768 ],\n",
       "        [0.79616352],\n",
       "        [0.47309182],\n",
       "        [0.63421819],\n",
       "        [0.47333243],\n",
       "        [0.27421543],\n",
       "        [0.24054946],\n",
       "        [0.29477795],\n",
       "        [0.24980144],\n",
       "        [0.45129155],\n",
       "        [0.17722348],\n",
       "        [0.48866486],\n",
       "        [0.57628143],\n",
       "        [0.62967085],\n",
       "        [0.2595483 ],\n",
       "        [0.35958908],\n",
       "        [0.35398172],\n",
       "        [0.33132413],\n",
       "        [0.37799955],\n",
       "        [0.38346374],\n",
       "        [0.64280274],\n",
       "        [0.42328502],\n",
       "        [0.54885413],\n",
       "        [0.52062979],\n",
       "        [0.45342704],\n",
       "        [0.88801193],\n",
       "        [0.46981247],\n",
       "        [0.47811859],\n",
       "        [0.24549458],\n",
       "        [0.63530477],\n",
       "        [0.31110165],\n",
       "        [0.35872263],\n",
       "        [0.44094671],\n",
       "        [0.68172056],\n",
       "        [0.97945655],\n",
       "        [0.44912102],\n",
       "        [0.19540489],\n",
       "        [0.10835301],\n",
       "        [0.22322918],\n",
       "        [0.69593733],\n",
       "        [0.4197736 ],\n",
       "        [0.65166117],\n",
       "        [0.57761763],\n",
       "        [0.43443552],\n",
       "        [0.60188607],\n",
       "        [0.23938503],\n",
       "        [0.54535121],\n",
       "        [0.37125842],\n",
       "        [0.27768044],\n",
       "        [0.26837658],\n",
       "        [0.49435137],\n",
       "        [0.45366136],\n",
       "        [0.93735643],\n",
       "        [0.44336544],\n",
       "        [0.53962922],\n",
       "        [0.1692666 ],\n",
       "        [0.34371783],\n",
       "        [0.38053408],\n",
       "        [0.50007608],\n",
       "        [0.94753445],\n",
       "        [0.34162408],\n",
       "        [0.28670102],\n",
       "        [0.35315408],\n",
       "        [0.55635684],\n",
       "        [0.83666013],\n",
       "        [0.54236792],\n",
       "        [0.5773327 ],\n",
       "        [0.31988927],\n",
       "        [0.7847906 ],\n",
       "        [0.87707949],\n",
       "        [0.31609312],\n",
       "        [0.59131257],\n",
       "        [0.31717312],\n",
       "        [0.5668772 ],\n",
       "        [0.25636734],\n",
       "        [0.25570829],\n",
       "        [0.38816803],\n",
       "        [0.53708327],\n",
       "        [0.19338284],\n",
       "        [0.54734166],\n",
       "        [0.30167321],\n",
       "        [0.50118708],\n",
       "        [0.88728331],\n",
       "        [0.92590387],\n",
       "        [0.69227407],\n",
       "        [0.18986205],\n",
       "        [0.26307357],\n",
       "        [0.72961878],\n",
       "        [0.68337024],\n",
       "        [0.90418163],\n",
       "        [0.59385716],\n",
       "        [0.29128697],\n",
       "        [0.44040669],\n",
       "        [0.29520285],\n",
       "        [0.94336299],\n",
       "        [0.69823548],\n",
       "        [0.4193485 ],\n",
       "        [0.48991825],\n",
       "        [0.23060875],\n",
       "        [0.53550041],\n",
       "        [0.12255305],\n",
       "        [0.68961627],\n",
       "        [0.53186168],\n",
       "        [0.64805688],\n",
       "        [0.52095927],\n",
       "        [0.87389003],\n",
       "        [0.60092707],\n",
       "        [0.98218668],\n",
       "        [0.37889903],\n",
       "        [0.77605833],\n",
       "        [0.77798913],\n",
       "        [0.83405839],\n",
       "        [0.75413685],\n",
       "        [0.27771308],\n",
       "        [0.48045953],\n",
       "        [0.31856974],\n",
       "        [0.26486328],\n",
       "        [0.72156887],\n",
       "        [0.22163512],\n",
       "        [0.62097438],\n",
       "        [0.16610305],\n",
       "        [0.83812957],\n",
       "        [0.57277256],\n",
       "        [0.50951562],\n",
       "        [0.74301375],\n",
       "        [0.44848427],\n",
       "        [0.41046307],\n",
       "        [0.46050661],\n",
       "        [0.67099184],\n",
       "        [0.38136508],\n",
       "        [0.19302796],\n",
       "        [0.24912991],\n",
       "        [0.69406511],\n",
       "        [0.37792604],\n",
       "        [0.47570993],\n",
       "        [0.37094533],\n",
       "        [0.35858334],\n",
       "        [0.73543307],\n",
       "        [0.59401169],\n",
       "        [0.30590602],\n",
       "        [0.29820862],\n",
       "        [0.31437884],\n",
       "        [0.49936176],\n",
       "        [0.42158207],\n",
       "        [0.48330662],\n",
       "        [0.50534303],\n",
       "        [0.17796676],\n",
       "        [0.62208571],\n",
       "        [0.40828584],\n",
       "        [0.70789846],\n",
       "        [0.67857177],\n",
       "        [0.56259686],\n",
       "        [0.55680651],\n",
       "        [0.33185502],\n",
       "        [0.60394933],\n",
       "        [0.64465501],\n",
       "        [0.29828918],\n",
       "        [0.88201348],\n",
       "        [0.67761208],\n",
       "        [0.43962615],\n",
       "        [0.91038975],\n",
       "        [0.42726612],\n",
       "        [0.44432077],\n",
       "        [0.49952004],\n",
       "        [0.40818595],\n",
       "        [0.66314644],\n",
       "        [0.67678914],\n",
       "        [0.46643329],\n",
       "        [0.32100033],\n",
       "        [0.61536172],\n",
       "        [0.42424994],\n",
       "        [0.54480389],\n",
       "        [0.41204609],\n",
       "        [0.52917662],\n",
       "        [0.29300655],\n",
       "        [0.75789066],\n",
       "        [0.20681673],\n",
       "        [0.43781794],\n",
       "        [0.66420917],\n",
       "        [0.60573616],\n",
       "        [0.4609558 ],\n",
       "        [0.69087033],\n",
       "        [0.35372122],\n",
       "        [0.43921588],\n",
       "        [0.30030085],\n",
       "        [0.57396566],\n",
       "        [0.22955299],\n",
       "        [0.2887599 ],\n",
       "        [0.56733924],\n",
       "        [0.20528478],\n",
       "        [0.83083807],\n",
       "        [0.348316  ],\n",
       "        [0.16359596],\n",
       "        [0.57429688],\n",
       "        [0.49396983],\n",
       "        [0.25241176],\n",
       "        [0.75155845],\n",
       "        [0.47229797],\n",
       "        [0.58901356],\n",
       "        [0.41706293],\n",
       "        [0.21640454],\n",
       "        [0.36987486],\n",
       "        [0.33110575],\n",
       "        [0.50649398]]),\n",
       " 'Y_pred': array([[1.],\n",
       "        [1.],\n",
       "        [0.],\n",
       "        [1.],\n",
       "        [0.],\n",
       "        [0.],\n",
       "        [0.],\n",
       "        [1.],\n",
       "        [0.],\n",
       "        [1.],\n",
       "        [1.],\n",
       "        [0.],\n",
       "        [1.],\n",
       "        [1.],\n",
       "        [0.],\n",
       "        [0.],\n",
       "        [0.],\n",
       "        [0.],\n",
       "        [0.],\n",
       "        [0.],\n",
       "        [0.],\n",
       "        [1.],\n",
       "        [0.],\n",
       "        [0.],\n",
       "        [1.],\n",
       "        [0.],\n",
       "        [1.],\n",
       "        [0.],\n",
       "        [1.],\n",
       "        [0.],\n",
       "        [0.],\n",
       "        [0.],\n",
       "        [0.],\n",
       "        [1.],\n",
       "        [0.],\n",
       "        [1.],\n",
       "        [1.],\n",
       "        [0.],\n",
       "        [1.],\n",
       "        [1.],\n",
       "        [0.],\n",
       "        [0.],\n",
       "        [0.],\n",
       "        [1.],\n",
       "        [0.],\n",
       "        [1.],\n",
       "        [1.],\n",
       "        [0.],\n",
       "        [0.],\n",
       "        [1.],\n",
       "        [0.],\n",
       "        [1.],\n",
       "        [1.],\n",
       "        [1.],\n",
       "        [0.],\n",
       "        [0.],\n",
       "        [1.],\n",
       "        [0.],\n",
       "        [1.],\n",
       "        [1.],\n",
       "        [0.],\n",
       "        [1.],\n",
       "        [1.],\n",
       "        [1.],\n",
       "        [0.],\n",
       "        [0.],\n",
       "        [1.],\n",
       "        [0.],\n",
       "        [1.],\n",
       "        [0.],\n",
       "        [1.],\n",
       "        [1.],\n",
       "        [1.],\n",
       "        [1.],\n",
       "        [0.],\n",
       "        [0.],\n",
       "        [1.],\n",
       "        [1.],\n",
       "        [1.],\n",
       "        [0.],\n",
       "        [0.],\n",
       "        [0.],\n",
       "        [1.],\n",
       "        [1.],\n",
       "        [1.],\n",
       "        [1.],\n",
       "        [0.],\n",
       "        [0.],\n",
       "        [0.],\n",
       "        [0.],\n",
       "        [1.],\n",
       "        [0.],\n",
       "        [0.],\n",
       "        [1.],\n",
       "        [0.],\n",
       "        [1.],\n",
       "        [0.],\n",
       "        [1.],\n",
       "        [1.],\n",
       "        [0.],\n",
       "        [1.],\n",
       "        [0.],\n",
       "        [1.],\n",
       "        [1.],\n",
       "        [0.],\n",
       "        [0.],\n",
       "        [1.],\n",
       "        [1.],\n",
       "        [1.],\n",
       "        [1.],\n",
       "        [1.],\n",
       "        [0.],\n",
       "        [0.],\n",
       "        [0.],\n",
       "        [0.],\n",
       "        [0.],\n",
       "        [0.],\n",
       "        [1.],\n",
       "        [1.],\n",
       "        [1.],\n",
       "        [0.],\n",
       "        [0.],\n",
       "        [0.],\n",
       "        [0.],\n",
       "        [0.],\n",
       "        [0.],\n",
       "        [1.],\n",
       "        [0.],\n",
       "        [1.],\n",
       "        [1.],\n",
       "        [0.],\n",
       "        [1.],\n",
       "        [1.],\n",
       "        [1.],\n",
       "        [0.],\n",
       "        [1.],\n",
       "        [0.],\n",
       "        [0.],\n",
       "        [0.],\n",
       "        [1.],\n",
       "        [1.],\n",
       "        [0.],\n",
       "        [0.],\n",
       "        [0.],\n",
       "        [0.],\n",
       "        [1.],\n",
       "        [0.],\n",
       "        [1.],\n",
       "        [1.],\n",
       "        [0.],\n",
       "        [1.],\n",
       "        [0.],\n",
       "        [1.],\n",
       "        [0.],\n",
       "        [0.],\n",
       "        [0.],\n",
       "        [1.],\n",
       "        [0.],\n",
       "        [1.],\n",
       "        [0.],\n",
       "        [1.],\n",
       "        [0.],\n",
       "        [0.],\n",
       "        [0.],\n",
       "        [1.],\n",
       "        [1.],\n",
       "        [0.],\n",
       "        [0.],\n",
       "        [0.],\n",
       "        [1.],\n",
       "        [1.],\n",
       "        [1.],\n",
       "        [1.],\n",
       "        [0.],\n",
       "        [1.],\n",
       "        [1.],\n",
       "        [0.],\n",
       "        [1.],\n",
       "        [0.],\n",
       "        [1.],\n",
       "        [0.],\n",
       "        [0.],\n",
       "        [0.],\n",
       "        [1.],\n",
       "        [0.],\n",
       "        [1.],\n",
       "        [0.],\n",
       "        [1.],\n",
       "        [1.],\n",
       "        [1.],\n",
       "        [1.],\n",
       "        [0.],\n",
       "        [0.],\n",
       "        [1.],\n",
       "        [1.],\n",
       "        [1.],\n",
       "        [1.],\n",
       "        [0.],\n",
       "        [0.],\n",
       "        [0.],\n",
       "        [1.],\n",
       "        [1.],\n",
       "        [0.],\n",
       "        [1.],\n",
       "        [0.],\n",
       "        [1.],\n",
       "        [0.],\n",
       "        [1.],\n",
       "        [1.],\n",
       "        [1.],\n",
       "        [1.],\n",
       "        [1.],\n",
       "        [1.],\n",
       "        [1.],\n",
       "        [0.],\n",
       "        [1.],\n",
       "        [1.],\n",
       "        [1.],\n",
       "        [1.],\n",
       "        [0.],\n",
       "        [1.],\n",
       "        [0.],\n",
       "        [0.],\n",
       "        [1.],\n",
       "        [0.],\n",
       "        [1.],\n",
       "        [0.],\n",
       "        [1.],\n",
       "        [1.],\n",
       "        [1.],\n",
       "        [1.],\n",
       "        [0.],\n",
       "        [0.],\n",
       "        [1.],\n",
       "        [1.],\n",
       "        [0.],\n",
       "        [0.],\n",
       "        [0.],\n",
       "        [1.],\n",
       "        [0.],\n",
       "        [1.],\n",
       "        [0.],\n",
       "        [0.],\n",
       "        [1.],\n",
       "        [1.],\n",
       "        [0.],\n",
       "        [0.],\n",
       "        [0.],\n",
       "        [1.],\n",
       "        [0.],\n",
       "        [1.],\n",
       "        [1.],\n",
       "        [0.],\n",
       "        [1.],\n",
       "        [0.],\n",
       "        [1.],\n",
       "        [1.],\n",
       "        [1.],\n",
       "        [1.],\n",
       "        [0.],\n",
       "        [1.],\n",
       "        [1.],\n",
       "        [0.],\n",
       "        [1.],\n",
       "        [1.],\n",
       "        [0.],\n",
       "        [1.],\n",
       "        [0.],\n",
       "        [0.],\n",
       "        [1.],\n",
       "        [0.],\n",
       "        [1.],\n",
       "        [1.],\n",
       "        [1.],\n",
       "        [0.],\n",
       "        [1.],\n",
       "        [0.],\n",
       "        [1.],\n",
       "        [0.],\n",
       "        [1.],\n",
       "        [0.],\n",
       "        [1.],\n",
       "        [0.],\n",
       "        [0.],\n",
       "        [1.],\n",
       "        [1.],\n",
       "        [1.],\n",
       "        [1.],\n",
       "        [0.],\n",
       "        [0.],\n",
       "        [0.],\n",
       "        [1.],\n",
       "        [0.],\n",
       "        [0.],\n",
       "        [1.],\n",
       "        [0.],\n",
       "        [1.],\n",
       "        [0.],\n",
       "        [0.],\n",
       "        [1.],\n",
       "        [1.],\n",
       "        [0.],\n",
       "        [1.],\n",
       "        [1.],\n",
       "        [1.],\n",
       "        [0.],\n",
       "        [0.],\n",
       "        [0.],\n",
       "        [0.],\n",
       "        [1.]]),\n",
       " 'AUC': 0.7395764602381627,\n",
       " 'Training_threshold': 0.4588293303379053,\n",
       " 'Opt_threshold': 0.46981247210679417,\n",
       " 'Accuracy': 0.667741935483871,\n",
       " 'Misclassification': 0.33225806451612905,\n",
       " 'Precision': 0.6645569620253164,\n",
       " 'Recall': 0.6774193548387096,\n",
       " 'Sensitivity': 0.6774193548387096,\n",
       " 'Specificity': 0.6580645161290323,\n",
       " 'F_score': 0.670926517571885,\n",
       " 'Fall_out': 0.3419354838709677,\n",
       " 'Miss_rate': 0.3225806451612903}"
      ]
     },
     "execution_count": 237,
     "metadata": {},
     "output_type": "execute_result"
    }
   ],
   "source": [
    "results_dict_new"
   ]
  },
  {
   "cell_type": "code",
   "execution_count": 242,
   "id": "d84bcef0",
   "metadata": {},
   "outputs": [
    {
     "data": {
      "text/plain": [
       "array([ 0.28665669,  0.10834421,  0.06261462,  0.03643543,  0.01846463,\n",
       "        0.00419301, -0.02091042, -0.09669555, -0.10340481, -0.13533273])"
      ]
     },
     "execution_count": 242,
     "metadata": {},
     "output_type": "execute_result"
    }
   ],
   "source": [
    "beta[np.flip(np.argsort(beta))]"
   ]
  },
  {
   "cell_type": "code",
   "execution_count": 238,
   "id": "2cee3ec7",
   "metadata": {},
   "outputs": [],
   "source": [
    "W = results_dict_new.get('loading')\n",
    "# W = [(p x r) (words x topic), 1 x r (regression coeff. x topic)]\n",
    "beta = W[1][0,1:r+1] ## first regression coefficient is for the constant term, so omit\n",
    "\n",
    "idx_topic = np.argsort(beta)\n",
    "idx_topic = np.flip(idx_topic)"
   ]
  },
  {
   "cell_type": "code",
   "execution_count": 239,
   "id": "f9578a00",
   "metadata": {
    "scrolled": true
   },
   "outputs": [
    {
     "name": "stdout",
     "output_type": "stream",
     "text": [
      "!! Y Index(['num_edges', 'max_degree', 'num_nodes', 's4_6', 's4_20', 's3_6', 's1_2',\n",
      "       's2_7', 's3_4', 's5_20'],\n",
      "      dtype='object')\n",
      "!! Y Index(['num_edges', 's3_3', 's2_3', 'num_nodes', 's1_20', 's4_17', 's5_17',\n",
      "       's2_20', 's4_14', 's3_17'],\n",
      "      dtype='object')\n",
      "!! Y Index(['num_nodes', 's1_11', 's2_11', 's3_11', 's3_4', 's4_4', 's2_15', 's5_4',\n",
      "       's5_5', 's1_15'],\n",
      "      dtype='object')\n",
      "!! Y Index(['num_edges', 'num_nodes', 'max_degree', 's3_8', 's1_8', 's2_8', 's5_7',\n",
      "       's4_8', 's3_15', 's4_7'],\n",
      "      dtype='object')\n",
      "!! Y Index(['num_nodes', 's3_13', 's2_13', 's2_7', 's4_13', 's1_7', 's3_20', 's3_8',\n",
      "       's2_8', 's1_13'],\n",
      "      dtype='object')\n",
      "!! Y Index(['num_edges', 'num_nodes', 's2_9', 's3_9', 's2_1', 's3_1', 's3_19',\n",
      "       's1_9', 's4_9', 's4_19'],\n",
      "      dtype='object')\n",
      "!! Y Index(['num_edges', 's2_10', 'num_nodes', 's3_10', 's1_10', 's3_11', 's2_11',\n",
      "       's4_11', 's2_16', 's1_16'],\n",
      "      dtype='object')\n",
      "!! Y Index(['num_edges', 's2_16', 'num_nodes', 's3_16', 's1_16', 's4_16', 's1_4',\n",
      "       's2_7', 's3_7', 's2_4'],\n",
      "      dtype='object')\n",
      "!! Y Index(['num_edges', 'num_nodes', 's1_6', 's2_18', 's2_6', 's3_18', 's1_5',\n",
      "       's1_18', 's2_5', 's1_10'],\n",
      "      dtype='object')\n",
      "!! Y Index(['num_edges', 'num_nodes', 's3_12', 's4_12', 's1_17', 's2_17', 's1_19',\n",
      "       's2_19', 's2_12', 's3_19'],\n",
      "      dtype='object')\n"
     ]
    }
   ],
   "source": [
    "for i in np.arange(W[0].shape[1]):\n",
    "    idx_keyword = np.argsort(W[0][:,idx_topic[i]])\n",
    "    idx_keyword = np.flip(idx_keyword)  \n",
    "    \n",
    "    ### Take top k keywords in each topic (top k coordinates in each column of W)\n",
    "    ### to generate text data corresponding to the ith topic, and then generate its wordcloud\n",
    "    list_words = []\n",
    "\n",
    "    idx_keyword = np.argsort(W[0][:,idx_topic[i]])\n",
    "    idx_keyword = np.flip(idx_keyword)   \n",
    "\n",
    "    #for j in range(num_keywords_in_topic):\n",
    "    #    list_words.append(idx2word[idx_keyword[j]])\n",
    "\n",
    "    #Y = \" \".join(list_words)\n",
    "    print('!! Y', df.columns[idx_keyword[0:10]])"
   ]
  },
  {
   "cell_type": "code",
   "execution_count": null,
   "id": "71c9b637",
   "metadata": {},
   "outputs": [],
   "source": []
  }
 ],
 "metadata": {
  "@webio": {
   "lastCommId": null,
   "lastKernelId": null
  },
  "kernelspec": {
   "display_name": "Python 3 (ipykernel)",
   "language": "python",
   "name": "python3"
  },
  "language_info": {
   "codemirror_mode": {
    "name": "ipython",
    "version": 3
   },
   "file_extension": ".py",
   "mimetype": "text/x-python",
   "name": "python",
   "nbconvert_exporter": "python",
   "pygments_lexer": "ipython3",
   "version": "3.9.7"
  }
 },
 "nbformat": 4,
 "nbformat_minor": 5
}
