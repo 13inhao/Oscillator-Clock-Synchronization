{
 "cells": [
  {
   "cell_type": "code",
   "execution_count": 3,
   "id": "cafb0914",
   "metadata": {},
   "outputs": [],
   "source": [
    "import FCA, pickle, csv\n",
    "import numpy as np\n",
    "import pandas as pd\n",
    "import networkx as nx\n",
    "import statistics as s\n",
    "from math import floor\n",
    "from NNetwork import NNetwork as nn\n",
    "import matplotlib.pyplot as plt\n",
    "import matplotlib.gridspec as gridspec\n",
    "import warnings\n",
    "warnings.filterwarnings(\"ignore\")\n",
    "\n",
    "from sklearn.manifold import SpectralEmbedding\n",
    "\n",
    "from imblearn.under_sampling import RandomUnderSampler\n",
    "from sklearn.model_selection import train_test_split\n",
    "sampler = RandomUnderSampler()\n",
    "\n",
    "\n",
    "from sklearn.model_selection import train_test_split\n",
    "from sklearn.metrics import confusion_matrix, precision_score, recall_score, f1_score, accuracy_score, ConfusionMatrixDisplay\n",
    "from sklearn.svm import SVC\n",
    "from sklearn.ensemble import RandomForestClassifier as rf"
   ]
  },
  {
   "cell_type": "code",
   "execution_count": null,
   "id": "99ac50b2",
   "metadata": {},
   "outputs": [],
   "source": [
    "def model_metrics(model, y_test, y_pred):\n",
    "    conf_matrix = confusion_matrix(y_true = y_test, y_pred = y_pred)\n",
    "    disp = ConfusionMatrixDisplay(confusion_matrix=conf_matrix,\n",
    "                                  display_labels=model.classes_)\n",
    "    disp.plot()\n",
    "    plt.show()\n",
    "    \n",
    "    print('Precision: %.3f' % precision_score(y_test, y_pred))\n",
    "    print('Recall: %.3f' % recall_score(y_test, y_pred))\n",
    "    print('F1: %.3f' % f1_score(y_test, y_pred))\n",
    "    print('Accuracy: %.3f' % accuracy_score(y_test, y_pred))\n",
    "    \n",
    "    pass\n",
    "    return"
   ]
  },
  {
   "cell_type": "code",
   "execution_count": 4,
   "id": "0d1a0060",
   "metadata": {},
   "outputs": [],
   "source": [
    "# FCA_iter: total iteration for the FCA model, used for label\n",
    "# baseline_iter: the iteration for baseline model, usually less than FCA_iter\n",
    "# iter_include: number of iteration to include in the dataframe\n",
    "# X: a list of graph structure (for each graph, length = k^2 if num_nodes=k)\n",
    "# num_edges, num_nodes, min_degree, max_degree, diameter, quartile_1, quartile_2, quartile_3, states, y, baseline_width\n",
    "def FCA_datagen(num_nodes, kappa, FCA_iter, baseline_iter, iter_include, file_name, X):\n",
    "    # generate the toy dataset\n",
    "    file = open(file_name, 'w+', newline='')\n",
    "\n",
    "    header = [\"num_edges\", \"num_nodes\", \"min_degree\", \"max_degree\", \"diameter\", \"quartile_1\",\n",
    "              \"quartile_2\", \"quartile_3\", \"y\", \"baseline_width\"]\n",
    "    for i in range(baseline_iter):\n",
    "        for j in range(num_nodes):\n",
    "            header.append(\"s\" + str(i + 1) + \"_\" + str(j + 1))\n",
    "\n",
    "    with file:\n",
    "        write = csv.writer(file)\n",
    "\n",
    "        write.writerow(header)\n",
    "        for i in range(X.shape[1]): #X.shape = (400, 3000)\n",
    "            G=nx.from_pandas_adjacency(pd.DataFrame(X[:,i].reshape(20, -1)))\n",
    "            G=nx.Graph(G)\n",
    "            \n",
    "            \n",
    "            col = np.random.randint(0,kappa,size=num_nodes)\n",
    "\n",
    "            num_edges = G.number_of_edges()\n",
    "            min_degree = min(list(G.degree), key=lambda x: x[1])[1]\n",
    "            max_degree = max(list(G.degree), key=lambda x: x[1])[1]\n",
    "            diameter = nx.diameter(G)\n",
    "            quartile_1 = s.quantiles(col, n=4)[0]\n",
    "            quartile_2 = s.quantiles(col, n=4)[1]\n",
    "            quartile_3 = s.quantiles(col, n=4)[2]\n",
    "\n",
    "            sample = [num_edges, num_nodes, min_degree, max_degree, diameter,\n",
    "                      quartile_1, quartile_2, quartile_3]\n",
    "            states, label = FCA.FCA(G, col, kappa, FCA_iter)\n",
    "\n",
    "            width = FCA.width_compute(states[FCA_iter - 1], kappa)\n",
    "            y = False\n",
    "            if (width < floor(kappa / 2)):  # half circle concentration\n",
    "                y = True\n",
    "            sample.append(y)\n",
    "\n",
    "            baseline_width = FCA.width_compute(states[baseline_iter - 1], kappa)\n",
    "            baseline = False\n",
    "            if (baseline_width < floor(kappa / 2)):  # half circle concentration\n",
    "                baseline = True\n",
    "            sample.append(baseline)\n",
    "\n",
    "            for j in range(iter_include):\n",
    "                sample = sample + list(states[j])\n",
    "\n",
    "            write.writerow(sample)\n",
    "    #return graph_list"
   ]
  },
  {
   "cell_type": "code",
   "execution_count": 5,
   "id": "3aff6989",
   "metadata": {},
   "outputs": [],
   "source": [
    "### from network_sampling_ex\n",
    "def coding(X, W, H0, \n",
    "          r=None, \n",
    "          a1=0, #L1 regularizer\n",
    "          a2=0, #L2 regularizer\n",
    "          sub_iter=[5], \n",
    "          stopping_grad_ratio=0.0001, \n",
    "          nonnegativity=True,\n",
    "          subsample_ratio=1):\n",
    "    \"\"\"\n",
    "    Find \\hat{H} = argmin_H ( || X - WH||_{F}^2 + a1*|H| + a2*|H|_{F}^{2} ) within radius r from H0\n",
    "    Use row-wise projected gradient descent\n",
    "    \"\"\"\n",
    "    H1 = H0.copy()\n",
    "    i = 0\n",
    "    dist = 1\n",
    "    idx = np.arange(X.shape[1])\n",
    "    if subsample_ratio>1:  # subsample columns of X and solve reduced problem (like in SGD)\n",
    "        idx = np.random.randint(X.shape[1], size=X.shape[1]//subsample_ratio)\n",
    "    A = W.T @ W ## Needed for gradient computation\n",
    "    grad = W.T @ (W @ H0 - X)\n",
    "    while (i < np.random.choice(sub_iter)):\n",
    "        step_size = (1 / (((i + 1) ** (1)) * (np.trace(A) + 1)))\n",
    "        H1 -= step_size * grad \n",
    "        if nonnegativity:\n",
    "            H1 = np.maximum(H1, 0)  # nonnegativity constraint\n",
    "        i = i + 1\n",
    "    return H1\n",
    "\n",
    "\n",
    "def ALS(X,\n",
    "        n_components = 10, # number of columns in the dictionary matrix W\n",
    "        n_iter=100,\n",
    "        a0 = 0, # L1 regularizer for H\n",
    "        a1 = 0, # L1 regularizer for W\n",
    "        a12 = 0, # L2 regularizer for W\n",
    "        H_nonnegativity=True,\n",
    "        W_nonnegativity=True,\n",
    "        compute_recons_error=False,\n",
    "        subsample_ratio = 10):\n",
    "    \n",
    "        '''\n",
    "        Given data matrix X, use alternating least squares to find factors W,H so that \n",
    "                                || X - WH ||_{F}^2 + a0*|H|_{1} + a1*|W|_{1} + a12 * |W|_{F}^{2}\n",
    "        is minimized (at least locally)\n",
    "        '''\n",
    "        \n",
    "        d, n = X.shape\n",
    "        r = n_components\n",
    "        \n",
    "        #normalization = np.linalg.norm(X.reshape(-1,1),1)/np.product(X.shape) # avg entry of X\n",
    "        #print('!!! avg entry of X', normalization)\n",
    "        #X = X/normalization\n",
    "\n",
    "        # Initialize factors \n",
    "        W = np.random.rand(d,r)\n",
    "        H = np.random.rand(r,n) \n",
    "        # H = H * np.linalg.norm(X) / np.linalg.norm(H)\n",
    "        for i in trange(n_iter):\n",
    "            #H = coding_within_radius(X, W.copy(), H.copy(), a1=a0, nonnegativity=H_nonnegativity, subsample_ratio=subsample_ratio)\n",
    "            #W = coding_within_radius(X.T, H.copy().T, W.copy().T, a1=a1, a2=a12, nonnegativity=W_nonnegativity, subsample_ratio=subsample_ratio).T\n",
    "            H = coding(X, W.copy(), H.copy(), a1=a0, nonnegativity=H_nonnegativity, subsample_ratio=subsample_ratio)\n",
    "            W = coding(X.T, H.copy().T, W.copy().T, a1=a1, a2=a12, nonnegativity=W_nonnegativity, subsample_ratio=subsample_ratio).T\n",
    "            W /= np.linalg.norm(W)\n",
    "            if compute_recons_error and (i % 10 == 0) :\n",
    "                print('iteration %i, reconstruction error %f' % (i, np.linalg.norm(X-W@H)**2))\n",
    "        return W, H\n",
    "    \n",
    "def display_dictionary(W, save_name=None, score=None, grid_shape=None, figsize=[10,10]):\n",
    "    k = int(np.sqrt(W.shape[0]))\n",
    "    rows = int(np.sqrt(W.shape[1]))\n",
    "    cols = int(np.sqrt(W.shape[1]))\n",
    "    if grid_shape is not None:\n",
    "        rows = grid_shape[0]\n",
    "        cols = grid_shape[1]\n",
    "    \n",
    "    figsize0=figsize\n",
    "    if (score is None) and (grid_shape is not None):\n",
    "        figsize0=(cols, rows)\n",
    "    if (score is not None) and (grid_shape is not None):\n",
    "        figsize0=(cols, rows+0.2)\n",
    "    \n",
    "    fig, axs = plt.subplots(nrows=rows, ncols=cols, figsize=figsize0,\n",
    "                            subplot_kw={'xticks': [], 'yticks': []})\n",
    "        \n",
    "        \n",
    "    for ax, i in zip(axs.flat, range(100)):\n",
    "        if score is not None:\n",
    "            idx = np.argsort(score)\n",
    "            idx = np.flip(idx)    \n",
    "            \n",
    "            ax.imshow(W.T[idx[i]].reshape(k, k), cmap=\"viridis\", interpolation='nearest')\n",
    "            ax.set_xlabel('%1.2f' % score[i], fontsize=13)  # get the largest first\n",
    "            ax.xaxis.set_label_coords(0.5, -0.05)\n",
    "        else: \n",
    "            ax.imshow(W.T[i].reshape(k, k), cmap=\"viridis\", interpolation='nearest')\n",
    "            if score is not None:\n",
    "                ax.set_xlabel('%1.2f' % score[i], fontsize=13)  # get the largest first\n",
    "                ax.xaxis.set_label_coords(0.5, -0.05)\n",
    "       \n",
    "    plt.tight_layout()\n",
    "    # plt.suptitle('Dictionary learned from patches of size %d' % k, fontsize=16)\n",
    "    plt.subplots_adjust(0.08, 0.02, 0.92, 0.85, 0.08, 0.23)\n",
    "    \n",
    "    if save_name is not None:\n",
    "        plt.savefig( save_name, bbox_inches='tight')\n",
    "    plt.show()"
   ]
  },
  {
   "cell_type": "code",
   "execution_count": 8,
   "id": "3c15f18a",
   "metadata": {},
   "outputs": [
    {
     "name": "stdout",
     "output_type": "stream",
     "text": [
      "num nodes in G 769\n",
      "num edges in G 33312\n"
     ]
    }
   ],
   "source": [
    "sampling_alg = 'pivot'\n",
    "\n",
    "ntwk = 'Caltech36' # COVID_PPI, Wisconsin87, UCLA26\n",
    "ntwk_nonumber = ''.join([i for i in ntwk if not i.isdigit()])\n",
    "save_folder = 'Subgraph_sampling/test1/'\n",
    "k=20\n",
    "\n",
    "path = \"../Data/Networks_all_NDL/\" + str(ntwk) + '.txt'\n",
    "G = nn.NNetwork()\n",
    "G.load_add_edges(path, increment_weights=False, use_genfromtxt=True)\n",
    "print('num nodes in G', len(G.nodes()))\n",
    "print('num edges in G', len(G.get_edges()))"
   ]
  },
  {
   "cell_type": "code",
   "execution_count": 9,
   "id": "b4a51cfa",
   "metadata": {},
   "outputs": [
    {
     "name": "stdout",
     "output_type": "stream",
     "text": [
      "num of subgraphs induced on k-paths: 10000\n"
     ]
    },
    {
     "data": {
      "text/plain": [
       "(400, 10000)"
      ]
     },
     "execution_count": 9,
     "metadata": {},
     "output_type": "execute_result"
    }
   ],
   "source": [
    "X, embs = G.get_patches(k=k, sample_size=10000, skip_folded_hom=True)\n",
    "file = open('toy.pkl', 'wb')\n",
    "pickle.dump(X, file)\n",
    "file.close()\n",
    "X.shape"
   ]
  },
  {
   "cell_type": "code",
   "execution_count": 10,
   "id": "9bbea441",
   "metadata": {},
   "outputs": [],
   "source": [
    "num_nodes = 20\n",
    "kappa = 10\n",
    "FCA_iter = 200\n",
    "baseline_iter = 50\n",
    "iter_include = 5\n",
    "file_name = \"toy.csv\"\n",
    "FCA_datagen(num_nodes, kappa, FCA_iter, baseline_iter, iter_include, file_name, X)"
   ]
  },
  {
   "cell_type": "code",
   "execution_count": 18,
   "id": "cbabed1c",
   "metadata": {},
   "outputs": [
    {
     "data": {
      "text/html": [
       "<div>\n",
       "<style scoped>\n",
       "    .dataframe tbody tr th:only-of-type {\n",
       "        vertical-align: middle;\n",
       "    }\n",
       "\n",
       "    .dataframe tbody tr th {\n",
       "        vertical-align: top;\n",
       "    }\n",
       "\n",
       "    .dataframe thead th {\n",
       "        text-align: right;\n",
       "    }\n",
       "</style>\n",
       "<table border=\"1\" class=\"dataframe\">\n",
       "  <thead>\n",
       "    <tr style=\"text-align: right;\">\n",
       "      <th></th>\n",
       "      <th>num_edges</th>\n",
       "      <th>num_nodes</th>\n",
       "      <th>min_degree</th>\n",
       "      <th>max_degree</th>\n",
       "      <th>diameter</th>\n",
       "      <th>quartile_1</th>\n",
       "      <th>quartile_2</th>\n",
       "      <th>quartile_3</th>\n",
       "      <th>y</th>\n",
       "      <th>baseline_width</th>\n",
       "      <th>...</th>\n",
       "      <th>s5_11</th>\n",
       "      <th>s5_12</th>\n",
       "      <th>s5_13</th>\n",
       "      <th>s5_14</th>\n",
       "      <th>s5_15</th>\n",
       "      <th>s5_16</th>\n",
       "      <th>s5_17</th>\n",
       "      <th>s5_18</th>\n",
       "      <th>s5_19</th>\n",
       "      <th>s5_20</th>\n",
       "    </tr>\n",
       "  </thead>\n",
       "  <tbody>\n",
       "    <tr>\n",
       "      <th>0</th>\n",
       "      <td>47</td>\n",
       "      <td>20</td>\n",
       "      <td>2</td>\n",
       "      <td>8</td>\n",
       "      <td>5</td>\n",
       "      <td>2.00</td>\n",
       "      <td>4.0</td>\n",
       "      <td>5.00</td>\n",
       "      <td>True</td>\n",
       "      <td>True</td>\n",
       "      <td>...</td>\n",
       "      <td>4</td>\n",
       "      <td>6</td>\n",
       "      <td>7</td>\n",
       "      <td>8</td>\n",
       "      <td>6</td>\n",
       "      <td>7</td>\n",
       "      <td>6</td>\n",
       "      <td>5</td>\n",
       "      <td>6</td>\n",
       "      <td>5</td>\n",
       "    </tr>\n",
       "    <tr>\n",
       "      <th>1</th>\n",
       "      <td>55</td>\n",
       "      <td>20</td>\n",
       "      <td>1</td>\n",
       "      <td>12</td>\n",
       "      <td>4</td>\n",
       "      <td>3.25</td>\n",
       "      <td>5.5</td>\n",
       "      <td>6.00</td>\n",
       "      <td>True</td>\n",
       "      <td>False</td>\n",
       "      <td>...</td>\n",
       "      <td>5</td>\n",
       "      <td>9</td>\n",
       "      <td>0</td>\n",
       "      <td>6</td>\n",
       "      <td>4</td>\n",
       "      <td>5</td>\n",
       "      <td>8</td>\n",
       "      <td>8</td>\n",
       "      <td>9</td>\n",
       "      <td>0</td>\n",
       "    </tr>\n",
       "    <tr>\n",
       "      <th>2</th>\n",
       "      <td>55</td>\n",
       "      <td>20</td>\n",
       "      <td>2</td>\n",
       "      <td>9</td>\n",
       "      <td>5</td>\n",
       "      <td>2.00</td>\n",
       "      <td>5.5</td>\n",
       "      <td>8.00</td>\n",
       "      <td>True</td>\n",
       "      <td>True</td>\n",
       "      <td>...</td>\n",
       "      <td>3</td>\n",
       "      <td>6</td>\n",
       "      <td>0</td>\n",
       "      <td>2</td>\n",
       "      <td>0</td>\n",
       "      <td>2</td>\n",
       "      <td>1</td>\n",
       "      <td>8</td>\n",
       "      <td>4</td>\n",
       "      <td>4</td>\n",
       "    </tr>\n",
       "    <tr>\n",
       "      <th>3</th>\n",
       "      <td>56</td>\n",
       "      <td>20</td>\n",
       "      <td>2</td>\n",
       "      <td>9</td>\n",
       "      <td>3</td>\n",
       "      <td>3.00</td>\n",
       "      <td>6.0</td>\n",
       "      <td>7.00</td>\n",
       "      <td>True</td>\n",
       "      <td>True</td>\n",
       "      <td>...</td>\n",
       "      <td>7</td>\n",
       "      <td>7</td>\n",
       "      <td>7</td>\n",
       "      <td>9</td>\n",
       "      <td>8</td>\n",
       "      <td>7</td>\n",
       "      <td>7</td>\n",
       "      <td>7</td>\n",
       "      <td>9</td>\n",
       "      <td>8</td>\n",
       "    </tr>\n",
       "    <tr>\n",
       "      <th>4</th>\n",
       "      <td>53</td>\n",
       "      <td>20</td>\n",
       "      <td>2</td>\n",
       "      <td>14</td>\n",
       "      <td>3</td>\n",
       "      <td>4.00</td>\n",
       "      <td>5.5</td>\n",
       "      <td>7.75</td>\n",
       "      <td>True</td>\n",
       "      <td>False</td>\n",
       "      <td>...</td>\n",
       "      <td>7</td>\n",
       "      <td>6</td>\n",
       "      <td>5</td>\n",
       "      <td>7</td>\n",
       "      <td>8</td>\n",
       "      <td>0</td>\n",
       "      <td>7</td>\n",
       "      <td>7</td>\n",
       "      <td>4</td>\n",
       "      <td>2</td>\n",
       "    </tr>\n",
       "    <tr>\n",
       "      <th>...</th>\n",
       "      <td>...</td>\n",
       "      <td>...</td>\n",
       "      <td>...</td>\n",
       "      <td>...</td>\n",
       "      <td>...</td>\n",
       "      <td>...</td>\n",
       "      <td>...</td>\n",
       "      <td>...</td>\n",
       "      <td>...</td>\n",
       "      <td>...</td>\n",
       "      <td>...</td>\n",
       "      <td>...</td>\n",
       "      <td>...</td>\n",
       "      <td>...</td>\n",
       "      <td>...</td>\n",
       "      <td>...</td>\n",
       "      <td>...</td>\n",
       "      <td>...</td>\n",
       "      <td>...</td>\n",
       "      <td>...</td>\n",
       "      <td>...</td>\n",
       "    </tr>\n",
       "    <tr>\n",
       "      <th>9995</th>\n",
       "      <td>49</td>\n",
       "      <td>20</td>\n",
       "      <td>2</td>\n",
       "      <td>8</td>\n",
       "      <td>4</td>\n",
       "      <td>2.00</td>\n",
       "      <td>3.5</td>\n",
       "      <td>5.75</td>\n",
       "      <td>True</td>\n",
       "      <td>False</td>\n",
       "      <td>...</td>\n",
       "      <td>6</td>\n",
       "      <td>7</td>\n",
       "      <td>7</td>\n",
       "      <td>5</td>\n",
       "      <td>5</td>\n",
       "      <td>7</td>\n",
       "      <td>6</td>\n",
       "      <td>5</td>\n",
       "      <td>6</td>\n",
       "      <td>8</td>\n",
       "    </tr>\n",
       "    <tr>\n",
       "      <th>9996</th>\n",
       "      <td>42</td>\n",
       "      <td>20</td>\n",
       "      <td>2</td>\n",
       "      <td>7</td>\n",
       "      <td>5</td>\n",
       "      <td>1.00</td>\n",
       "      <td>3.5</td>\n",
       "      <td>5.75</td>\n",
       "      <td>True</td>\n",
       "      <td>True</td>\n",
       "      <td>...</td>\n",
       "      <td>5</td>\n",
       "      <td>8</td>\n",
       "      <td>4</td>\n",
       "      <td>1</td>\n",
       "      <td>7</td>\n",
       "      <td>6</td>\n",
       "      <td>8</td>\n",
       "      <td>8</td>\n",
       "      <td>7</td>\n",
       "      <td>7</td>\n",
       "    </tr>\n",
       "    <tr>\n",
       "      <th>9997</th>\n",
       "      <td>45</td>\n",
       "      <td>20</td>\n",
       "      <td>2</td>\n",
       "      <td>8</td>\n",
       "      <td>4</td>\n",
       "      <td>1.50</td>\n",
       "      <td>5.0</td>\n",
       "      <td>6.75</td>\n",
       "      <td>True</td>\n",
       "      <td>False</td>\n",
       "      <td>...</td>\n",
       "      <td>3</td>\n",
       "      <td>4</td>\n",
       "      <td>7</td>\n",
       "      <td>9</td>\n",
       "      <td>2</td>\n",
       "      <td>8</td>\n",
       "      <td>8</td>\n",
       "      <td>4</td>\n",
       "      <td>8</td>\n",
       "      <td>4</td>\n",
       "    </tr>\n",
       "    <tr>\n",
       "      <th>9998</th>\n",
       "      <td>49</td>\n",
       "      <td>20</td>\n",
       "      <td>2</td>\n",
       "      <td>9</td>\n",
       "      <td>4</td>\n",
       "      <td>4.25</td>\n",
       "      <td>6.0</td>\n",
       "      <td>8.00</td>\n",
       "      <td>True</td>\n",
       "      <td>False</td>\n",
       "      <td>...</td>\n",
       "      <td>2</td>\n",
       "      <td>9</td>\n",
       "      <td>5</td>\n",
       "      <td>3</td>\n",
       "      <td>0</td>\n",
       "      <td>9</td>\n",
       "      <td>8</td>\n",
       "      <td>6</td>\n",
       "      <td>6</td>\n",
       "      <td>8</td>\n",
       "    </tr>\n",
       "    <tr>\n",
       "      <th>9999</th>\n",
       "      <td>40</td>\n",
       "      <td>20</td>\n",
       "      <td>2</td>\n",
       "      <td>9</td>\n",
       "      <td>5</td>\n",
       "      <td>2.25</td>\n",
       "      <td>4.0</td>\n",
       "      <td>6.50</td>\n",
       "      <td>False</td>\n",
       "      <td>False</td>\n",
       "      <td>...</td>\n",
       "      <td>4</td>\n",
       "      <td>1</td>\n",
       "      <td>7</td>\n",
       "      <td>6</td>\n",
       "      <td>5</td>\n",
       "      <td>3</td>\n",
       "      <td>0</td>\n",
       "      <td>7</td>\n",
       "      <td>7</td>\n",
       "      <td>6</td>\n",
       "    </tr>\n",
       "  </tbody>\n",
       "</table>\n",
       "<p>10000 rows × 110 columns</p>\n",
       "</div>"
      ],
      "text/plain": [
       "      num_edges  num_nodes  min_degree  max_degree  diameter  quartile_1  \\\n",
       "0            47         20           2           8         5        2.00   \n",
       "1            55         20           1          12         4        3.25   \n",
       "2            55         20           2           9         5        2.00   \n",
       "3            56         20           2           9         3        3.00   \n",
       "4            53         20           2          14         3        4.00   \n",
       "...         ...        ...         ...         ...       ...         ...   \n",
       "9995         49         20           2           8         4        2.00   \n",
       "9996         42         20           2           7         5        1.00   \n",
       "9997         45         20           2           8         4        1.50   \n",
       "9998         49         20           2           9         4        4.25   \n",
       "9999         40         20           2           9         5        2.25   \n",
       "\n",
       "      quartile_2  quartile_3      y  baseline_width  ...  s5_11  s5_12  s5_13  \\\n",
       "0            4.0        5.00   True            True  ...      4      6      7   \n",
       "1            5.5        6.00   True           False  ...      5      9      0   \n",
       "2            5.5        8.00   True            True  ...      3      6      0   \n",
       "3            6.0        7.00   True            True  ...      7      7      7   \n",
       "4            5.5        7.75   True           False  ...      7      6      5   \n",
       "...          ...         ...    ...             ...  ...    ...    ...    ...   \n",
       "9995         3.5        5.75   True           False  ...      6      7      7   \n",
       "9996         3.5        5.75   True            True  ...      5      8      4   \n",
       "9997         5.0        6.75   True           False  ...      3      4      7   \n",
       "9998         6.0        8.00   True           False  ...      2      9      5   \n",
       "9999         4.0        6.50  False           False  ...      4      1      7   \n",
       "\n",
       "      s5_14  s5_15  s5_16  s5_17  s5_18  s5_19  s5_20  \n",
       "0         8      6      7      6      5      6      5  \n",
       "1         6      4      5      8      8      9      0  \n",
       "2         2      0      2      1      8      4      4  \n",
       "3         9      8      7      7      7      9      8  \n",
       "4         7      8      0      7      7      4      2  \n",
       "...     ...    ...    ...    ...    ...    ...    ...  \n",
       "9995      5      5      7      6      5      6      8  \n",
       "9996      1      7      6      8      8      7      7  \n",
       "9997      9      2      8      8      4      8      4  \n",
       "9998      3      0      9      8      6      6      8  \n",
       "9999      6      5      3      0      7      7      6  \n",
       "\n",
       "[10000 rows x 110 columns]"
      ]
     },
     "execution_count": 18,
     "metadata": {},
     "output_type": "execute_result"
    }
   ],
   "source": [
    "df = pd.read_csv(\"toy.csv\")\n",
    "df"
   ]
  },
  {
   "cell_type": "code",
   "execution_count": 19,
   "id": "668e4e1f",
   "metadata": {},
   "outputs": [
    {
     "data": {
      "text/plain": [
       "True     9260\n",
       "False     740\n",
       "Name: y, dtype: int64"
      ]
     },
     "execution_count": 19,
     "metadata": {},
     "output_type": "execute_result"
    }
   ],
   "source": [
    "df.y.value_counts()"
   ]
  },
  {
   "cell_type": "code",
   "execution_count": 20,
   "id": "933a1679",
   "metadata": {},
   "outputs": [
    {
     "data": {
      "text/plain": [
       "False    5280\n",
       "True     4720\n",
       "Name: baseline_width, dtype: int64"
      ]
     },
     "execution_count": 20,
     "metadata": {},
     "output_type": "execute_result"
    }
   ],
   "source": [
    "df.baseline_width.value_counts()"
   ]
  },
  {
   "cell_type": "code",
   "execution_count": 22,
   "id": "5938b089",
   "metadata": {},
   "outputs": [
    {
     "data": {
      "text/plain": [
       "(10000, 110)"
      ]
     },
     "execution_count": 22,
     "metadata": {},
     "output_type": "execute_result"
    }
   ],
   "source": [
    "df.shape"
   ]
  },
  {
   "cell_type": "code",
   "execution_count": 26,
   "id": "fb7b7237",
   "metadata": {},
   "outputs": [
    {
     "data": {
      "text/plain": [
       "(10000, 400)"
      ]
     },
     "execution_count": 26,
     "metadata": {},
     "output_type": "execute_result"
    }
   ],
   "source": [
    "X_adj = X.T\n",
    "X_adj.shape"
   ]
  },
  {
   "cell_type": "markdown",
   "id": "a1c66ff7",
   "metadata": {},
   "source": [
    "### The dimension of the projected subspace = 2"
   ]
  },
  {
   "cell_type": "code",
   "execution_count": 27,
   "id": "38a7f232",
   "metadata": {},
   "outputs": [
    {
     "data": {
      "text/plain": [
       "(10000, 2)"
      ]
     },
     "execution_count": 27,
     "metadata": {},
     "output_type": "execute_result"
    }
   ],
   "source": [
    "embedding = SpectralEmbedding(n_components=2)\n",
    "X_transformed = embedding.fit_transform(X_adj)\n",
    "X_transformed.shape"
   ]
  },
  {
   "cell_type": "code",
   "execution_count": 29,
   "id": "f7bf7298",
   "metadata": {},
   "outputs": [],
   "source": [
    "y = df.y.astype('int')\n"
   ]
  },
  {
   "cell_type": "code",
   "execution_count": 31,
   "id": "41888adf",
   "metadata": {},
   "outputs": [
    {
     "data": {
      "text/plain": [
       "(10000,)"
      ]
     },
     "execution_count": 31,
     "metadata": {},
     "output_type": "execute_result"
    }
   ],
   "source": [
    "y.shape"
   ]
  },
  {
   "cell_type": "code",
   "execution_count": 34,
   "id": "0642d0b3",
   "metadata": {},
   "outputs": [],
   "source": [
    "X_resampled, y_resampled = sampler.fit_resample(X_transformed, y)\n",
    "\n",
    "X_train, X_test, y_train, y_test = train_test_split(X_resampled, y_resampled,\n",
    "                                                        test_size = 0.25,\n",
    "                                                        stratify = y_resampled)"
   ]
  },
  {
   "cell_type": "code",
   "execution_count": 38,
   "id": "e51bf40d",
   "metadata": {},
   "outputs": [
    {
     "data": {
      "image/png": "[encoded data removed]",
      "text/plain": [
       "<Figure size 432x288 with 2 Axes>"
      ]
     },
     "metadata": {
      "needs_background": "light"
     },
     "output_type": "display_data"
    },
    {
     "name": "stdout",
     "output_type": "stream",
     "text": [
      "Precision: 0.557\n",
      "Recall: 0.557\n",
      "F1: 0.557\n",
      "Accuracy: 0.557\n"
     ]
    }
   ],
   "source": [
    "\n",
    "\n",
    "clf = rf(max_depth=5, max_features=\"log2\")\n",
    "clf.fit(X_train, y_train)\n",
    "y_pred = clf.predict(X_test)\n",
    "model_metrics(clf, y_test, y_pred)"
   ]
  },
  {
   "cell_type": "code",
   "execution_count": null,
   "id": "679d0282",
   "metadata": {},
   "outputs": [],
   "source": []
  },
  {
   "cell_type": "code",
   "execution_count": null,
   "id": "222bf5b4",
   "metadata": {},
   "outputs": [],
   "source": []
  },
  {
   "cell_type": "markdown",
   "id": "1ddb9953",
   "metadata": {},
   "source": [
    "### The dimension of the projected subspace = 10"
   ]
  },
  {
   "cell_type": "code",
   "execution_count": 39,
   "id": "65b0709a",
   "metadata": {},
   "outputs": [
    {
     "data": {
      "text/plain": [
       "(10000, 10)"
      ]
     },
     "execution_count": 39,
     "metadata": {},
     "output_type": "execute_result"
    }
   ],
   "source": [
    "embedding = SpectralEmbedding(n_components=10)\n",
    "X_transformed2 = embedding.fit_transform(X_adj)\n",
    "X_transformed2.shape"
   ]
  },
  {
   "cell_type": "code",
   "execution_count": 40,
   "id": "6fb068e4",
   "metadata": {},
   "outputs": [],
   "source": [
    "X_resampled, y_resampled = sampler.fit_resample(X_transformed2, y)\n",
    "\n",
    "X_train, X_test, y_train, y_test = train_test_split(X_resampled, y_resampled,\n",
    "                                                        test_size = 0.25,\n",
    "                                                        stratify = y_resampled)"
   ]
  },
  {
   "cell_type": "code",
   "execution_count": 41,
   "id": "a65a5f03",
   "metadata": {},
   "outputs": [
    {
     "data": {
      "image/png": "[encoded data removed]",
      "text/plain": [
       "<Figure size 432x288 with 2 Axes>"
      ]
     },
     "metadata": {
      "needs_background": "light"
     },
     "output_type": "display_data"
    },
    {
     "name": "stdout",
     "output_type": "stream",
     "text": [
      "Precision: 0.548\n",
      "Recall: 0.551\n",
      "F1: 0.550\n",
      "Accuracy: 0.549\n"
     ]
    }
   ],
   "source": [
    "clf = rf(max_depth=5, max_features=\"log2\")\n",
    "clf.fit(X_train, y_train)\n",
    "y_pred = clf.predict(X_test)\n",
    "model_metrics(clf, y_test, y_pred)"
   ]
  },
  {
   "cell_type": "markdown",
   "id": "89568ea7",
   "metadata": {},
   "source": [
    "### The dimension of the projected subspace = 100"
   ]
  },
  {
   "cell_type": "code",
   "execution_count": 42,
   "id": "a8c8c257",
   "metadata": {},
   "outputs": [
    {
     "data": {
      "text/plain": [
       "(10000, 100)"
      ]
     },
     "execution_count": 42,
     "metadata": {},
     "output_type": "execute_result"
    }
   ],
   "source": [
    "embedding = SpectralEmbedding(n_components=100)\n",
    "X_transformed3 = embedding.fit_transform(X_adj)\n",
    "X_transformed3.shape"
   ]
  },
  {
   "cell_type": "code",
   "execution_count": 47,
   "id": "17630efa",
   "metadata": {},
   "outputs": [],
   "source": [
    "X_resampled, y_resampled = sampler.fit_resample(X_transformed3, y)\n",
    "    \n",
    "X_train, X_test, y_train, y_test = train_test_split(X_resampled, y_resampled,\n",
    "                                                        test_size = 0.25,\n",
    "                                                        stratify = y_resampled)"
   ]
  },
  {
   "cell_type": "code",
   "execution_count": 48,
   "id": "ee9eb9f5",
   "metadata": {},
   "outputs": [
    {
     "data": {
      "image/png": "[encoded data removed]",
      "text/plain": [
       "<Figure size 432x288 with 2 Axes>"
      ]
     },
     "metadata": {
      "needs_background": "light"
     },
     "output_type": "display_data"
    },
    {
     "name": "stdout",
     "output_type": "stream",
     "text": [
      "Precision: 0.611\n",
      "Recall: 0.654\n",
      "F1: 0.632\n",
      "Accuracy: 0.619\n"
     ]
    }
   ],
   "source": [
    "clf = rf(max_depth=5, max_features=\"log2\")\n",
    "clf.fit(X_train, y_train)\n",
    "y_pred = clf.predict(X_test)\n",
    "model_metrics(clf, y_test, y_pred)"
   ]
  },
  {
   "cell_type": "code",
   "execution_count": 50,
   "id": "9e131663",
   "metadata": {},
   "outputs": [
    {
     "data": {
      "text/plain": [
       "(400, 10000)"
      ]
     },
     "execution_count": 50,
     "metadata": {},
     "output_type": "execute_result"
    }
   ],
   "source": [
    "X.shape"
   ]
  },
  {
   "cell_type": "markdown",
   "id": "93049212",
   "metadata": {},
   "source": [
    "### Check node2vec and graph2vec"
   ]
  },
  {
   "cell_type": "code",
   "execution_count": 62,
   "id": "1dbe2502",
   "metadata": {},
   "outputs": [
    {
     "data": {
      "text/plain": [
       "20"
      ]
     },
     "execution_count": 62,
     "metadata": {},
     "output_type": "execute_result"
    }
   ],
   "source": [
    "X[:,i].reshape(20, -1) #adjacency matrix of the first sample\n",
    "int(np.sqrt(X.shape[0]))"
   ]
  },
  {
   "cell_type": "code",
   "execution_count": 63,
   "id": "e01f75e8",
   "metadata": {},
   "outputs": [],
   "source": [
    "graph_list = []\n",
    "for i in range(10000):\n",
    "    G=nx.from_pandas_adjacency(pd.DataFrame(X[:,i].reshape(20, -1)))\n",
    "    G=nx.Graph(G)\n",
    "    graph_list.append(G)"
   ]
  },
  {
   "cell_type": "code",
   "execution_count": 64,
   "id": "5d5f7e42",
   "metadata": {},
   "outputs": [
    {
     "data": {
      "text/plain": [
       "10000"
      ]
     },
     "execution_count": 64,
     "metadata": {},
     "output_type": "execute_result"
    }
   ],
   "source": [
    "len(graph_list)"
   ]
  },
  {
   "cell_type": "code",
   "execution_count": 65,
   "id": "ec364776",
   "metadata": {},
   "outputs": [],
   "source": [
    "from karateclub import Node2Vec"
   ]
  },
  {
   "cell_type": "code",
   "execution_count": 66,
   "id": "e6c8b3fd",
   "metadata": {},
   "outputs": [],
   "source": [
    "def n2v_embedding(graph_list):\n",
    "\n",
    "    df_n2v = pd.DataFrame()\n",
    "\n",
    "    for graph in graph_list:        \n",
    "        n2v = Node2Vec(dimensions = 1)\n",
    "        n2v.fit(graph)\n",
    "        embed = n2v.get_embedding()\n",
    "        df_embed = pd.DataFrame(embed.T)\n",
    "        df_n2v = pd.concat([df_n2v, df_embed], ignore_index=True, axis=0)\n",
    "        \n",
    "    return df_n2v\n"
   ]
  },
  {
   "cell_type": "code",
   "execution_count": null,
   "id": "a4e6e353",
   "metadata": {},
   "outputs": [],
   "source": [
    "df_n2v = n2v_embedding(graph_list)"
   ]
  },
  {
   "cell_type": "code",
   "execution_count": null,
   "id": "b0ff4abb",
   "metadata": {},
   "outputs": [],
   "source": [
    "df_n2v.shape"
   ]
  },
  {
   "cell_type": "code",
   "execution_count": null,
   "id": "ba132a89",
   "metadata": {},
   "outputs": [],
   "source": [
    "X_resampled, y_resampled = sampler.fit_resample(df_n2v, y)\n",
    "\n",
    "X_train, X_test, y_train, y_test = train_test_split(X_resampled, y_resampled,\n",
    "                                                        test_size = 0.25,\n",
    "                                                        stratify = y_resampled)\n",
    "\n",
    "\n",
    "clf = rf(max_depth=5, max_features=\"log2\")\n",
    "clf.fit(X_train, y_train)\n",
    "y_pred = clf.predict(X_test)\n",
    "model_metrics(clf, y_test, y_pred)"
   ]
  },
  {
   "cell_type": "code",
   "execution_count": null,
   "id": "a9fe75e3",
   "metadata": {},
   "outputs": [],
   "source": []
  },
  {
   "cell_type": "code",
   "execution_count": null,
   "id": "acd040d5",
   "metadata": {},
   "outputs": [],
   "source": []
  },
  {
   "cell_type": "code",
   "execution_count": null,
   "id": "435a45e9",
   "metadata": {},
   "outputs": [],
   "source": []
  },
  {
   "cell_type": "code",
   "execution_count": null,
   "id": "40b8c2bd",
   "metadata": {},
   "outputs": [],
   "source": []
  }
 ],
 "metadata": {
  "kernelspec": {
   "display_name": "Python 3 (ipykernel)",
   "language": "python",
   "name": "python3"
  },
  "language_info": {
   "codemirror_mode": {
    "name": "ipython",
    "version": 3
   },
   "file_extension": ".py",
   "mimetype": "text/x-python",
   "name": "python",
   "nbconvert_exporter": "python",
   "pygments_lexer": "ipython3",
   "version": "3.9.7"
  }
 },
 "nbformat": 4,
 "nbformat_minor": 5
}
