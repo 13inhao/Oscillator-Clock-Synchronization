{
 "cells": [
  {
   "cell_type": "code",
   "execution_count": 1,
   "id": "36c2a21b",
   "metadata": {},
   "outputs": [],
   "source": [
    "import networkx as nx\n",
    "from kuramoto import Kuramoto, plot_phase_coherence, plot_activity\n",
    "\n",
    "import numpy as np\n",
    "import matplotlib.pyplot as plt\n",
    "import seaborn as sns"
   ]
  },
  {
   "cell_type": "code",
   "execution_count": 2,
   "id": "5bd4114a",
   "metadata": {},
   "outputs": [],
   "source": [
    "sns.set_style(\"darkgrid\")\n",
    "sns.set_context(\"paper\", font_scale=2.)"
   ]
  },
  {
   "cell_type": "code",
   "execution_count": 3,
   "id": "66a69348",
   "metadata": {},
   "outputs": [],
   "source": [
    "# Erdős-Rényi graph is a Binomial Graph with 'n'-nodes\n",
    "# where the probability of an edge existing is 'p'\n",
    "\n",
    "# Initializing the graph and finding its adjacency matrix\n",
    "nxg = nx.erdos_renyi_graph(n=25, p=1)\n",
    "adj_mat = nx.to_numpy_array(nxg)\n",
    "\n",
    "coupling = 0.5\n",
    "dt = 0.01\n",
    "T = 10\n",
    "j = 0\n",
    "\n",
    "fig, axs = plt.subplots(2,3, figsize=(14,10))\n",
    "fig.suptitle('Kuramoto Model Synchronization Simulations')\n",
    "\n",
    "for j in range(6): \n",
    "    # Instantiate model with parameters, running the simulation and plotting\n",
    "    model = Kuramoto(coupling, dt, T, n_nodes=len(adj_mat))\n",
    "    sim = model.run(adj_mat)\n",
    "    if j <= 2:\n",
    "        axs[0,j].plot(np.sin(sim.T))\n",
    "        axs[0,j].set_title(f\"Coupling = {coupling}\")\n",
    "    else:\n",
    "        axs[1,j%3].plot(np.sin(sim.T))\n",
    "        axs[1,j%3].set_title(f\"Coupling = {coupling}\")\n",
    "    coupling *= 1.75\n",
    "    j += 1\n",
    "    \n",
    "for ax in axs.flat:\n",
    "    ax.set(xlabel='Time', ylabel=r'$\\sin(\\theta)$')\n",
    "    \n",
    "for ax in axs.flat:\n",
    "    ax.label_outer()\n",
    "\n",
    "plt.subplots_adjust(left=0.1,\n",
    "                    bottom=0.3, \n",
    "                    right=0.9, \n",
    "                    top=0.9, \n",
    "                    wspace=0.4, \n",
    "                    hspace=0.4)\n",
    "\n",
    "plt.savefig(\"./images/renyi_25_1.svg\", dpi=1200)\n",
    "plt.close(fig)"
   ]
  }
 ],
 "metadata": {
  "kernelspec": {
   "display_name": "Python 3 (ipykernel)",
   "language": "python",
   "name": "python3"
  },
  "language_info": {
   "codemirror_mode": {
    "name": "ipython",
    "version": 3
   },
   "file_extension": ".py",
   "mimetype": "text/x-python",
   "name": "python",
   "nbconvert_exporter": "python",
   "pygments_lexer": "ipython3",
   "version": "3.9.12"
  }
 },
 "nbformat": 4,
 "nbformat_minor": 5
}
