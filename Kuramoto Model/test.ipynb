{
 "cells": [
  {
   "cell_type": "code",
   "execution_count": 7,
   "id": "e2a83456",
   "metadata": {},
   "outputs": [],
   "source": [
    "def adj_to_coladj(adj_mat, dynamics):\n",
    "    col_adj = np.zeros((adj_mat.shape[0], adj_mat.shape[1]))\n",
    "    for i in range(adj_mat.shape[0]):\n",
    "        for j in range(i, adj_mat.shape[1]):\n",
    "            if i == j or adj_mat[i][j] == 0:\n",
    "                col_adj[i][j] = 0\n",
    "                col_adj[j][i] = 0\n",
    "            if adj_mat[i][j] == 1:\n",
    "                a = abs(dynamics[j] - dynamics[i])\n",
    "                b = abs(2*np.pi + (dynamics[j] - dynamics[i]))\n",
    "                col_adj[i][j] = min(a, b)\n",
    "                col_adj[j][i] = min(a, b)\n",
    "                \n",
    "    return col_adj"
   ]
  },
  {
   "cell_type": "code",
   "execution_count": 8,
   "id": "1e514deb",
   "metadata": {},
   "outputs": [],
   "source": [
    "# model = Kuramoto(\n",
    "#     coupling=10,\n",
    "#     dt=0.05,\n",
    "#     T=10000,\n",
    "#     n_nodes=50,\n",
    "#     base_iter=126,\n",
    "#     half_sync=False\n",
    "# )"
   ]
  },
  {
   "cell_type": "code",
   "execution_count": 9,
   "id": "3c0bb666",
   "metadata": {},
   "outputs": [],
   "source": [
    "# G = nx.newman_watts_strogatz_graph(50, 10, 0.35)\n",
    "# adj = nx.to_numpy_array(G)\n",
    "# sim = model.run(adj)"
   ]
  },
  {
   "cell_type": "code",
   "execution_count": 10,
   "id": "bb42b542",
   "metadata": {
    "scrolled": true
   },
   "outputs": [],
   "source": [
    "# model.concentrated"
   ]
  },
  {
   "cell_type": "code",
   "execution_count": 11,
   "id": "6230e1cc",
   "metadata": {},
   "outputs": [],
   "source": [
    "# sns.heatmap(adj);"
   ]
  },
  {
   "cell_type": "code",
   "execution_count": 12,
   "id": "639de7e2",
   "metadata": {},
   "outputs": [],
   "source": [
    "# dynamics = sim.T[0]\n",
    "# col_adj = adj_to_coladj(adj, dynamics)\n",
    "# sns.heatmap(col_adj);"
   ]
  },
  {
   "cell_type": "code",
   "execution_count": 13,
   "id": "2daa905c",
   "metadata": {},
   "outputs": [],
   "source": [
    "# dynamics = sim.T[125]\n",
    "# col_adj = adj_to_coladj(adj, dynamics)\n",
    "# sns.heatmap(col_adj);"
   ]
  },
  {
   "cell_type": "code",
   "execution_count": 14,
   "id": "fe85c35e",
   "metadata": {},
   "outputs": [],
   "source": [
    "# dynamics = sim.T[-1]\n",
    "# col_adj = adj_to_coladj(adj, dynamics)\n",
    "# sns.heatmap(col_adj);"
   ]
  },
  {
   "cell_type": "code",
   "execution_count": 15,
   "id": "e416b4af",
   "metadata": {},
   "outputs": [],
   "source": [
    "# model = Kuramoto(\n",
    "#     coupling=10,\n",
    "#     dt=0.01,\n",
    "#     T=18,\n",
    "#     n_nodes=50,\n",
    "#     base_iter=126,\n",
    "#     half_sync=False\n",
    "# )"
   ]
  },
  {
   "cell_type": "code",
   "execution_count": 16,
   "id": "22a167f7",
   "metadata": {},
   "outputs": [],
   "source": [
    "# G = nx.grid_2d_graph(8, 8)\n",
    "# adj = nx.to_numpy_array(G)"
   ]
  },
  {
   "cell_type": "code",
   "execution_count": 17,
   "id": "a3767ea5",
   "metadata": {},
   "outputs": [],
   "source": [
    "# model = Kuramoto(\n",
    "#     coupling=10,\n",
    "#     dt=0.01,\n",
    "#     T=18,\n",
    "#     n_nodes=64,\n",
    "#     base_iter=126,\n",
    "#     half_sync=False\n",
    "# )\n",
    "\n",
    "# sim = model.run(adj)"
   ]
  },
  {
   "cell_type": "code",
   "execution_count": 18,
   "id": "0c06a3df",
   "metadata": {},
   "outputs": [],
   "source": [
    "# sns.heatmap(sim.T[0].reshape(8, 8), cbar=False, xticklabels=False, yticklabels=False);"
   ]
  },
  {
   "cell_type": "code",
   "execution_count": 19,
   "id": "4020bb8a",
   "metadata": {},
   "outputs": [],
   "source": [
    "# sns.heatmap(sim.T[65].reshape(8, 8), cbar=False, xticklabels=False, yticklabels=False);"
   ]
  },
  {
   "cell_type": "code",
   "execution_count": 20,
   "id": "d08f7876",
   "metadata": {},
   "outputs": [],
   "source": [
    "# sns.heatmap(sim.T[130].reshape(8, 8), cbar=False, xticklabels=False, yticklabels=False);"
   ]
  },
  {
   "cell_type": "code",
   "execution_count": 21,
   "id": "0c88ec64",
   "metadata": {},
   "outputs": [],
   "source": [
    "# sns.heatmap(sim.T[300].reshape(8, 8), cbar=False, xticklabels=False, yticklabels=False);"
   ]
  },
  {
   "cell_type": "code",
   "execution_count": 22,
   "id": "82361296",
   "metadata": {},
   "outputs": [],
   "source": [
    "# model.baseline"
   ]
  },
  {
   "cell_type": "code",
   "execution_count": 23,
   "id": "e708f00c",
   "metadata": {},
   "outputs": [],
   "source": [
    "# sim.T[-1].reshape(10, 8)"
   ]
  },
  {
   "cell_type": "code",
   "execution_count": 24,
   "id": "26608a4a",
   "metadata": {},
   "outputs": [],
   "source": [
    "# sim.T[-1]"
   ]
  },
  {
   "cell_type": "code",
   "execution_count": 25,
   "id": "d95f0cff",
   "metadata": {},
   "outputs": [],
   "source": [
    "NWS = nx.newman_watts_strogatz_graph(20000, 1000, 0.67)\n",
    "new_nodes = {e: n for n, e in enumerate(NWS.nodes, start=1)}\n",
    "new_edges = [(new_nodes[e1], new_nodes[e2]) for e1, e2 in NWS.edges]\n",
    "edgelist = []\n",
    "for i in range(len(new_edges)):\n",
    "    temp = [str(new_edges[i][0]), str(new_edges[i][1])]\n",
    "    edgelist.append(temp)\n",
    "G = nn.NNetwork()\n",
    "G.add_edges(edgelist)"
   ]
  },
  {
   "cell_type": "code",
   "execution_count": 27,
   "id": "2e601b2f",
   "metadata": {},
   "outputs": [
    {
     "data": {
      "text/plain": [
       "16704084"
      ]
     },
     "execution_count": 27,
     "metadata": {},
     "output_type": "execute_result"
    }
   ],
   "source": [
    "NWS.number_of_edges()"
   ]
  },
  {
   "cell_type": "code",
   "execution_count": 28,
   "id": "51b612ca",
   "metadata": {},
   "outputs": [
    {
     "data": {
      "text/plain": [
       "20000"
      ]
     },
     "execution_count": 28,
     "metadata": {},
     "output_type": "execute_result"
    }
   ],
   "source": [
    "NWS.number_of_nodes()"
   ]
  },
  {
   "cell_type": "code",
   "execution_count": 29,
   "id": "63e7929e",
   "metadata": {},
   "outputs": [
    {
     "data": {
      "text/plain": [
       "0.0835245962298115"
      ]
     },
     "execution_count": 29,
     "metadata": {},
     "output_type": "execute_result"
    }
   ],
   "source": [
    "nx.density(NWS)"
   ]
  },
  {
   "cell_type": "code",
   "execution_count": 30,
   "id": "e19de305",
   "metadata": {},
   "outputs": [
    {
     "data": {
      "text/plain": [
       "0.3091395308962197"
      ]
     },
     "execution_count": 30,
     "metadata": {},
     "output_type": "execute_result"
    }
   ],
   "source": [
    "nx.average_clustering(NWS)"
   ]
  },
  {
   "cell_type": "code",
   "execution_count": null,
   "id": "c4250ee9",
   "metadata": {},
   "outputs": [],
   "source": []
  }
 ],
 "metadata": {
  "kernelspec": {
   "display_name": "Python 3 (ipykernel)",
   "language": "python",
   "name": "python3"
  },
  "language_info": {
   "codemirror_mode": {
    "name": "ipython",
    "version": 3
   },
   "file_extension": ".py",
   "mimetype": "text/x-python",
   "name": "python",
   "nbconvert_exporter": "python",
   "pygments_lexer": "ipython3",
   "version": "3.9.12"
  }
 },
 "nbformat": 4,
 "nbformat_minor": 5
}
